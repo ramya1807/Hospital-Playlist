{
  "nbformat": 4,
  "nbformat_minor": 0,
  "metadata": {
    "colab": {
      "name": "lin-reg.ipynb",
      "provenance": [],
      "toc_visible": true,
      "authorship_tag": "ABX9TyPC7HRYXTurCjxabIofhspG",
      "include_colab_link": true
    },
    "kernelspec": {
      "name": "python3",
      "display_name": "Python 3"
    },
    "language_info": {
      "name": "python"
    }
  },
  "cells": [
    {
      "cell_type": "markdown",
      "metadata": {
        "id": "view-in-github",
        "colab_type": "text"
      },
      "source": [
        "<a href=\"https://colab.research.google.com/github/ramya1807/Hospital-Playlist/blob/main/lin_reg.ipynb\" target=\"_parent\"><img src=\"https://colab.research.google.com/assets/colab-badge.svg\" alt=\"Open In Colab\"/></a>"
      ]
    },
    {
      "cell_type": "markdown",
      "metadata": {
        "id": "hY5kj20lAaNS"
      },
      "source": [
        "## mental health and dance level"
      ]
    },
    {
      "cell_type": "code",
      "metadata": {
        "colab": {
          "base_uri": "https://localhost:8080/",
          "height": 512
        },
        "id": "8aD-NTCN9RpR",
        "outputId": "7cb32ffa-a09e-46cd-e87c-71fc0b605484"
      },
      "source": [
        "import matplotlib.pyplot as plt\n",
        "import pandas as pd\n",
        "import math\n",
        "import numpy as np\n",
        "import statsmodels.api as sm\n",
        "\n",
        "from sklearn import linear_model\n",
        "from sklearn.metrics import r2_score\n",
        "from sklearn.metrics import mean_squared_error\n",
        "\n",
        "dataset = pd.read_csv('master.csv')\n",
        "dataset = dataset.dropna()\n",
        "\n",
        "#traumaDataset = dataset[dataset['trauma'] == 'Yes']\n",
        "\n",
        "data = traumaDataset.dance.values.reshape((len(traumaDataset.dance), 1))\n",
        "CV = traumaDataset.total_health.values.reshape((len(traumaDataset.total_health), 1))\n",
        "\n",
        "regr = linear_model.LinearRegression()\n",
        "regr.fit(data,CV)\n",
        "predicted_results = regr.predict(data)\n",
        "\n",
        "plt.figure(1)\n",
        "plt.plot(data, predicted_results, color = 'green', linewidth =3)\n",
        "plt.scatter(data, CV, color='black')\n",
        "plt.title('Mental health and dance')\n",
        "plt.xlabel('dance level')\n",
        "plt.ylabel('health')\n",
        "plt.show()\n",
        "\n",
        "print(\"Result with Outlier:\")\n",
        "print('Coefficients (m): \\n', regr.coef_)\n",
        "print('Intercept (b): \\n', regr.intercept_)\n",
        "\n",
        "MSE = mean_squared_error(CV, predicted_results)\n",
        "RMSE = math.sqrt(MSE)\n",
        "\n",
        "R2 = r2_score(CV, predicted_results)\n",
        "\n",
        "print(\"Mean residual sum of squares =\", MSE)\n",
        "print(\"RMSE =\", RMSE)\n",
        "print(\"R2 =\", R2)\n",
        "print(\"Mean residual sum of squares = %.2f\" % np.mean((regr.predict(data) - CV) **2))\n",
        "print('R2 = %.2f' % regr.score(data, CV))\n",
        "\n"
      ],
      "execution_count": null,
      "outputs": [
        {
          "output_type": "stream",
          "name": "stderr",
          "text": [
            "/usr/local/lib/python3.7/dist-packages/statsmodels/tools/_testing.py:19: FutureWarning: pandas.util.testing is deprecated. Use the functions in the public API at pandas.testing instead.\n",
            "  import pandas.util.testing as tm\n"
          ]
        },
        {
          "output_type": "display_data",
          "data": {
            "image/png": "[encoded data removed]",
            "text/plain": [
              "<Figure size 432x288 with 1 Axes>"
            ]
          },
          "metadata": {
            "needs_background": "light"
          }
        },
        {
          "output_type": "stream",
          "name": "stdout",
          "text": [
            "Result with Outlier:\n",
            "Coefficients (m): \n",
            " [[7.33212189]]\n",
            "Intercept (b): \n",
            " [14.21503476]\n",
            "Mean residual sum of squares = 19.750748378634707\n",
            "RMSE = 4.4441814070349\n",
            "R2 = 0.04334139493185307\n",
            "Mean residual sum of squares = 19.75\n",
            "R2 = 0.04\n"
          ]
        }
      ]
    },
    {
      "cell_type": "markdown",
      "metadata": {
        "id": "2IZr61AuA74I"
      },
      "source": [
        "## total health and tempo"
      ]
    },
    {
      "cell_type": "code",
      "metadata": {
        "colab": {
          "base_uri": "https://localhost:8080/",
          "height": 460
        },
        "id": "YFW4Ih47AYqt",
        "outputId": "953eac98-1c71-4ce6-dcf0-35e173925747"
      },
      "source": [
        "import matplotlib.pyplot as plt\n",
        "import pandas as pd\n",
        "import math\n",
        "import numpy as np\n",
        "import statsmodels.api as sm\n",
        "\n",
        "from sklearn import linear_model\n",
        "from sklearn.metrics import r2_score\n",
        "from sklearn.metrics import mean_squared_error\n",
        "\n",
        "dataset = pd.read_csv('master.csv')\n",
        "dataset = dataset.dropna()\n",
        "\n",
        "traumaDataset = dataset[dataset['trauma'] == 'Yes']\n",
        "\n",
        "data = traumaDataset.tempo.values.reshape((len(traumaDataset.tempo), 1))\n",
        "CV = traumaDataset.total_health.values.reshape((len(traumaDataset.total_health), 1))\n",
        "\n",
        "regr = linear_model.LinearRegression()\n",
        "regr.fit(data,CV)\n",
        "predicted_results = regr.predict(data)\n",
        "\n",
        "plt.figure(1)\n",
        "plt.plot(data, predicted_results, color = 'green', linewidth =3)\n",
        "plt.scatter(data, CV, color='black')\n",
        "plt.title('Mental health and tempo')\n",
        "plt.xlabel('tempo')\n",
        "plt.ylabel('health')\n",
        "plt.show()\n",
        "\n",
        "print(\"Result with Outlier:\")\n",
        "print('Coefficients (m): \\n', regr.coef_)\n",
        "print('Intercept (b): \\n', regr.intercept_)\n",
        "\n",
        "MSE = mean_squared_error(CV, predicted_results)\n",
        "RMSE = math.sqrt(MSE)\n",
        "\n",
        "R2 = r2_score(CV, predicted_results)\n",
        "\n",
        "print(\"Mean residual sum of squares =\", MSE)\n",
        "print(\"RMSE =\", RMSE)\n",
        "print(\"R2 =\", R2)\n",
        "print(\"Mean residual sum of squares = %.2f\" % np.mean((regr.predict(data) - CV) **2))\n",
        "print('R2 = %.2f' % regr.score(data, CV))"
      ],
      "execution_count": null,
      "outputs": [
        {
          "output_type": "display_data",
          "data": {
            "image/png": "[encoded data removed]",
            "text/plain": [
              "<Figure size 432x288 with 1 Axes>"
            ]
          },
          "metadata": {
            "needs_background": "light"
          }
        },
        {
          "output_type": "stream",
          "name": "stdout",
          "text": [
            "Result with Outlier:\n",
            "Coefficients (m): \n",
            " [[-0.00575846]]\n",
            "Intercept (b): \n",
            " [19.47925012]\n",
            "Mean residual sum of squares = 20.634315284903263\n",
            "RMSE = 4.542500994485666\n",
            "R2 = 0.0005444402124245018\n",
            "Mean residual sum of squares = 20.63\n",
            "R2 = 0.00\n"
          ]
        }
      ]
    },
    {
      "cell_type": "markdown",
      "metadata": {
        "id": "iI6g2PcICDzC"
      },
      "source": [
        "## mental health and liveliness"
      ]
    },
    {
      "cell_type": "code",
      "metadata": {
        "colab": {
          "base_uri": "https://localhost:8080/",
          "height": 460
        },
        "id": "yfvBf3obCqih",
        "outputId": "2132704d-2e6d-45ad-944b-66d8e9dd29f3"
      },
      "source": [
        "import matplotlib.pyplot as plt\n",
        "import pandas as pd\n",
        "import math\n",
        "import numpy as np\n",
        "import statsmodels.api as sm\n",
        "\n",
        "from sklearn import linear_model\n",
        "from sklearn.metrics import r2_score\n",
        "from sklearn.metrics import mean_squared_error\n",
        "\n",
        "dataset = pd.read_csv('master.csv')\n",
        "dataset = dataset.dropna()\n",
        "\n",
        "traumaDataset = dataset[dataset['trauma'] == 'Yes']\n",
        "\n",
        "data = traumaDataset.liveness.values.reshape((len(traumaDataset.liveness), 1))\n",
        "CV = traumaDataset.total_health.values.reshape((len(traumaDataset.total_health), 1))\n",
        "\n",
        "regr = linear_model.LinearRegression()\n",
        "regr.fit(data,CV)\n",
        "predicted_results = regr.predict(data)\n",
        "\n",
        "plt.figure(1)\n",
        "plt.plot(data, predicted_results, color = 'green', linewidth =3)\n",
        "plt.scatter(data, CV, color='black')\n",
        "plt.title('Mental health and liveness')\n",
        "plt.xlabel('liveness')\n",
        "plt.ylabel('health')\n",
        "plt.show()\n",
        "\n",
        "print(\"Result with Outlier:\")\n",
        "print('Coefficients (m): \\n', regr.coef_)\n",
        "print('Intercept (b): \\n', regr.intercept_)\n",
        "\n",
        "MSE = mean_squared_error(CV, predicted_results)\n",
        "RMSE = math.sqrt(MSE)\n",
        "\n",
        "R2 = r2_score(CV, predicted_results)\n",
        "\n",
        "print(\"Mean residual sum of squares =\", MSE)\n",
        "print(\"RMSE =\", RMSE)\n",
        "print(\"R2 =\", R2)\n",
        "print(\"Mean residual sum of squares = %.2f\" % np.mean((regr.predict(data) - CV) **2))\n",
        "print('R2 = %.2f' % regr.score(data, CV))"
      ],
      "execution_count": null,
      "outputs": [
        {
          "output_type": "display_data",
          "data": {
            "image/png": "[encoded data removed]",
            "text/plain": [
              "<Figure size 432x288 with 1 Axes>"
            ]
          },
          "metadata": {
            "needs_background": "light"
          }
        },
        {
          "output_type": "stream",
          "name": "stdout",
          "text": [
            "Result with Outlier:\n",
            "Coefficients (m): \n",
            " [[2.70693125]]\n",
            "Intercept (b): \n",
            " [18.26723585]\n",
            "Mean residual sum of squares = 20.568671222350687\n",
            "RMSE = 4.5352696967601265\n",
            "R2 = 0.0037240137712920562\n",
            "Mean residual sum of squares = 20.57\n",
            "R2 = 0.00\n"
          ]
        }
      ]
    },
    {
      "cell_type": "markdown",
      "metadata": {
        "id": "puXoalGTFNIX"
      },
      "source": [
        "## mental health and energy"
      ]
    },
    {
      "cell_type": "code",
      "metadata": {
        "colab": {
          "base_uri": "https://localhost:8080/",
          "height": 460
        },
        "id": "X-hpvyC8DfpD",
        "outputId": "0911af44-5e9a-4097-a075-f3231a9a8803"
      },
      "source": [
        "import matplotlib.pyplot as plt\n",
        "import pandas as pd\n",
        "import math\n",
        "import numpy as np\n",
        "import statsmodels.api as sm\n",
        "\n",
        "from sklearn import linear_model\n",
        "from sklearn.metrics import r2_score\n",
        "from sklearn.metrics import mean_squared_error\n",
        "\n",
        "dataset = pd.read_csv('master.csv')\n",
        "dataset = dataset.dropna()\n",
        "\n",
        "traumaDataset = dataset[dataset['trauma'] == 'Yes']\n",
        "\n",
        "data = traumaDataset.energy.values.reshape((len(traumaDataset.energy), 1))\n",
        "CV = traumaDataset.total_health.values.reshape((len(traumaDataset.total_health), 1))\n",
        "\n",
        "regr = linear_model.LinearRegression()\n",
        "regr.fit(data,CV)\n",
        "predicted_results = regr.predict(data)\n",
        "\n",
        "plt.figure(1)\n",
        "plt.plot(data, predicted_results, color = 'green', linewidth =3)\n",
        "plt.scatter(data, CV, color='black')\n",
        "plt.title('Mental health and energy')\n",
        "plt.xlabel('energy')\n",
        "plt.ylabel('health')\n",
        "plt.show()\n",
        "\n",
        "print(\"Result with Outlier:\")\n",
        "print('Coefficients (m): \\n', regr.coef_)\n",
        "print('Intercept (b): \\n', regr.intercept_)\n",
        "\n",
        "MSE = mean_squared_error(CV, predicted_results)\n",
        "RMSE = math.sqrt(MSE)\n",
        "\n",
        "R2 = r2_score(CV, predicted_results)\n",
        "\n",
        "print(\"Mean residual sum of squares =\", MSE)\n",
        "print(\"RMSE =\", RMSE)\n",
        "print(\"R2 =\", R2)\n",
        "print(\"Mean residual sum of squares = %.2f\" % np.mean((regr.predict(data) - CV) **2))\n",
        "print('R2 = %.2f' % regr.score(data, CV))"
      ],
      "execution_count": null,
      "outputs": [
        {
          "output_type": "display_data",
          "data": {
            "image/png": "[encoded data removed]",
            "text/plain": [
              "<Figure size 432x288 with 1 Axes>"
            ]
          },
          "metadata": {
            "needs_background": "light"
          }
        },
        {
          "output_type": "stream",
          "name": "stdout",
          "text": [
            "Result with Outlier:\n",
            "Coefficients (m): \n",
            " [[7.92139701]]\n",
            "Intercept (b): \n",
            " [13.73655595]\n",
            "Mean residual sum of squares = 19.427589339326016\n",
            "RMSE = 4.407673914813347\n",
            "R2 = 0.05899411197495197\n",
            "Mean residual sum of squares = 19.43\n",
            "R2 = 0.06\n"
          ]
        }
      ]
    },
    {
      "cell_type": "markdown",
      "metadata": {
        "id": "uYBZFFNDFQl0"
      },
      "source": [
        "## mental health and acoustic"
      ]
    },
    {
      "cell_type": "code",
      "metadata": {
        "colab": {
          "base_uri": "https://localhost:8080/",
          "height": 460
        },
        "id": "zjTLEo3mEVOg",
        "outputId": "cc9de703-b099-46ff-b33b-3b4d56592968"
      },
      "source": [
        "import matplotlib.pyplot as plt\n",
        "import pandas as pd\n",
        "import math\n",
        "import numpy as np\n",
        "import statsmodels.api as sm\n",
        "\n",
        "from sklearn import linear_model\n",
        "from sklearn.metrics import r2_score\n",
        "from sklearn.metrics import mean_squared_error\n",
        "\n",
        "dataset = pd.read_csv('master.csv')\n",
        "dataset = dataset.dropna()\n",
        "\n",
        "traumaDataset = dataset[dataset['trauma'] == 'Yes']\n",
        "\n",
        "data = traumaDataset.acoustic.values.reshape((len(traumaDataset.acoustic), 1))\n",
        "CV = traumaDataset.total_health.values.reshape((len(traumaDataset.total_health), 1))\n",
        "\n",
        "regr = linear_model.LinearRegression()\n",
        "regr.fit(data,CV)\n",
        "predicted_results = regr.predict(data)\n",
        "\n",
        "plt.figure(1)\n",
        "plt.plot(data, predicted_results, color = 'green', linewidth =3)\n",
        "plt.scatter(data, CV, color='black')\n",
        "plt.title('Mental health and acoustic')\n",
        "plt.xlabel('acoustic')\n",
        "plt.ylabel('health')\n",
        "plt.show()\n",
        "\n",
        "print(\"Result with Outlier:\")\n",
        "print('Coefficients (m): \\n', regr.coef_)\n",
        "print('Intercept (b): \\n', regr.intercept_)\n",
        "\n",
        "MSE = mean_squared_error(CV, predicted_results)\n",
        "RMSE = math.sqrt(MSE)\n",
        "\n",
        "R2 = r2_score(CV, predicted_results)\n",
        "\n",
        "print(\"Mean residual sum of squares =\", MSE)\n",
        "print(\"RMSE =\", RMSE)\n",
        "print(\"R2 =\", R2)\n",
        "print(\"Mean residual sum of squares = %.2f\" % np.mean((regr.predict(data) - CV) **2))\n",
        "print('R2 = %.2f' % regr.score(data, CV))"
      ],
      "execution_count": null,
      "outputs": [
        {
          "output_type": "display_data",
          "data": {
            "image/png": "[encoded data removed]",
            "text/plain": [
              "<Figure size 432x288 with 1 Axes>"
            ]
          },
          "metadata": {
            "needs_background": "light"
          }
        },
        {
          "output_type": "stream",
          "name": "stdout",
          "text": [
            "Result with Outlier:\n",
            "Coefficients (m): \n",
            " [[-3.08441767]]\n",
            "Intercept (b): \n",
            " [19.49815735]\n",
            "Mean residual sum of squares = 20.21687194892392\n",
            "RMSE = 4.496317598760559\n",
            "R2 = 0.020763965662153216\n",
            "Mean residual sum of squares = 20.22\n",
            "R2 = 0.02\n"
          ]
        }
      ]
    },
    {
      "cell_type": "markdown",
      "metadata": {
        "id": "o_ILXnyeFUU4"
      },
      "source": [
        "## mental helath and valence"
      ]
    },
    {
      "cell_type": "code",
      "metadata": {
        "colab": {
          "base_uri": "https://localhost:8080/",
          "height": 460
        },
        "id": "br2c_lZHEh0x",
        "outputId": "e69256e9-9699-4124-f23b-d170af4bcf61"
      },
      "source": [
        "import matplotlib.pyplot as plt\n",
        "import pandas as pd\n",
        "import math\n",
        "import numpy as np\n",
        "import statsmodels.api as sm\n",
        "\n",
        "from sklearn import linear_model\n",
        "from sklearn.metrics import r2_score\n",
        "from sklearn.metrics import mean_squared_error\n",
        "\n",
        "dataset = pd.read_csv('master.csv')\n",
        "dataset = dataset.dropna()\n",
        "\n",
        "traumaDataset = dataset[dataset['trauma'] == 'Yes']\n",
        "\n",
        "data = traumaDataset.valence.values.reshape((len(traumaDataset.valence), 1))\n",
        "CV = traumaDataset.total_health.values.reshape((len(traumaDataset.total_health), 1))\n",
        "\n",
        "regr = linear_model.LinearRegression()\n",
        "regr.fit(data,CV)\n",
        "predicted_results = regr.predict(data)\n",
        "\n",
        "plt.figure(1)\n",
        "plt.plot(data, predicted_results, color = 'green', linewidth =3)\n",
        "plt.scatter(data, CV, color='black')\n",
        "plt.title('Mental health and valence')\n",
        "plt.xlabel('valence')\n",
        "plt.ylabel('health')\n",
        "plt.show()\n",
        "\n",
        "print(\"Result with Outlier:\")\n",
        "print('Coefficients (m): \\n', regr.coef_)\n",
        "print('Intercept (b): \\n', regr.intercept_)\n",
        "\n",
        "MSE = mean_squared_error(CV, predicted_results)\n",
        "RMSE = math.sqrt(MSE)\n",
        "\n",
        "R2 = r2_score(CV, predicted_results)\n",
        "\n",
        "print(\"Mean residual sum of squares =\", MSE)\n",
        "print(\"RMSE =\", RMSE)\n",
        "print(\"R2 =\", R2)\n",
        "print(\"Mean residual sum of squares = %.2f\" % np.mean((regr.predict(data) - CV) **2))\n",
        "print('R2 = %.2f' % regr.score(data, CV))"
      ],
      "execution_count": null,
      "outputs": [
        {
          "output_type": "display_data",
          "data": {
            "image/png": "[encoded data removed]",
            "text/plain": [
              "<Figure size 432x288 with 1 Axes>"
            ]
          },
          "metadata": {
            "needs_background": "light"
          }
        },
        {
          "output_type": "stream",
          "name": "stdout",
          "text": [
            "Result with Outlier:\n",
            "Coefficients (m): \n",
            " [[11.16061299]]\n",
            "Intercept (b): \n",
            " [13.69641259]\n",
            "Mean residual sum of squares = 17.72752111078831\n",
            "RMSE = 4.210406288090059\n",
            "R2 = 0.1413395942247736\n",
            "Mean residual sum of squares = 17.73\n",
            "R2 = 0.14\n"
          ]
        }
      ]
    },
    {
      "cell_type": "markdown",
      "metadata": {
        "id": "EjqOyODeFYU9"
      },
      "source": [
        "## mental helath and popularity"
      ]
    },
    {
      "cell_type": "code",
      "metadata": {
        "colab": {
          "base_uri": "https://localhost:8080/",
          "height": 460
        },
        "id": "8LiewLFfEsUn",
        "outputId": "d3096965-49f5-4df1-80a3-b23893789f0c"
      },
      "source": [
        "import matplotlib.pyplot as plt\n",
        "import pandas as pd\n",
        "import math\n",
        "import numpy as np\n",
        "import statsmodels.api as sm\n",
        "\n",
        "from sklearn import linear_model\n",
        "from sklearn.metrics import r2_score\n",
        "from sklearn.metrics import mean_squared_error\n",
        "\n",
        "dataset = pd.read_csv('master.csv')\n",
        "dataset = dataset.dropna()\n",
        "\n",
        "traumaDataset = dataset[dataset['trauma'] == 'Yes']\n",
        "\n",
        "data = traumaDataset.popularity.values.reshape((len(traumaDataset.popularity), 1))\n",
        "CV = traumaDataset.total_health.values.reshape((len(traumaDataset.total_health), 1))\n",
        "\n",
        "regr = linear_model.LinearRegression()\n",
        "regr.fit(data,CV)\n",
        "predicted_results = regr.predict(data)\n",
        "\n",
        "plt.figure(1)\n",
        "plt.plot(data, predicted_results, color = 'green', linewidth =3)\n",
        "plt.scatter(data, CV, color='black')\n",
        "plt.title('Mental health and popularity')\n",
        "plt.xlabel('popularity')\n",
        "plt.ylabel('health')\n",
        "plt.show()\n",
        "\n",
        "print(\"Result with Outlier:\")\n",
        "print('Coefficients (m): \\n', regr.coef_)\n",
        "print('Intercept (b): \\n', regr.intercept_)\n",
        "\n",
        "MSE = mean_squared_error(CV, predicted_results)\n",
        "RMSE = math.sqrt(MSE)\n",
        "\n",
        "R2 = r2_score(CV, predicted_results)\n",
        "\n",
        "print(\"Mean residual sum of squares =\", MSE)\n",
        "print(\"RMSE =\", RMSE)\n",
        "print(\"R2 =\", R2)\n",
        "print(\"Mean residual sum of squares = %.2f\" % np.mean((regr.predict(data) - CV) **2))\n",
        "print('R2 = %.2f' % regr.score(data, CV))"
      ],
      "execution_count": null,
      "outputs": [
        {
          "output_type": "display_data",
          "data": {
            "image/png": "[encoded data removed]",
            "text/plain": [
              "<Figure size 432x288 with 1 Axes>"
            ]
          },
          "metadata": {
            "needs_background": "light"
          }
        },
        {
          "output_type": "stream",
          "name": "stdout",
          "text": [
            "Result with Outlier:\n",
            "Coefficients (m): \n",
            " [[0.0709951]]\n",
            "Intercept (b): \n",
            " [14.38824087]\n",
            "Mean residual sum of squares = 19.44275388282787\n",
            "RMSE = 4.409393822605083\n",
            "R2 = 0.0582595934263449\n",
            "Mean residual sum of squares = 19.44\n",
            "R2 = 0.06\n"
          ]
        }
      ]
    },
    {
      "cell_type": "markdown",
      "metadata": {
        "id": "YyWM2ng5Fc4p"
      },
      "source": [
        "## mental health and instrumental"
      ]
    },
    {
      "cell_type": "code",
      "metadata": {
        "colab": {
          "base_uri": "https://localhost:8080/",
          "height": 460
        },
        "id": "Y-I0UxEsE866",
        "outputId": "3f7c8591-d273-44a1-e87c-d9ba832836a6"
      },
      "source": [
        "import matplotlib.pyplot as plt\n",
        "import pandas as pd\n",
        "import math\n",
        "import numpy as np\n",
        "import statsmodels.api as sm\n",
        "\n",
        "from sklearn import linear_model\n",
        "from sklearn.metrics import r2_score\n",
        "from sklearn.metrics import mean_squared_error\n",
        "\n",
        "dataset = pd.read_csv('master.csv')\n",
        "dataset = dataset.dropna()\n",
        "\n",
        "traumaDataset = dataset[dataset['trauma'] == 'Yes']\n",
        "\n",
        "data = traumaDataset.instrumental.values.reshape((len(traumaDataset.instrumental), 1))\n",
        "CV = traumaDataset.total_health.values.reshape((len(traumaDataset.total_health), 1))\n",
        "\n",
        "regr = linear_model.LinearRegression()\n",
        "regr.fit(data,CV)\n",
        "predicted_results = regr.predict(data)\n",
        "\n",
        "plt.figure(1)\n",
        "plt.plot(data, predicted_results, color = 'green', linewidth =3)\n",
        "plt.scatter(data, CV, color='black')\n",
        "plt.title('Mental health and instrumental')\n",
        "plt.xlabel('instrumental')\n",
        "plt.ylabel('health')\n",
        "plt.show()\n",
        "\n",
        "print(\"Result with Outlier:\")\n",
        "print('Coefficients (m): \\n', regr.coef_)\n",
        "print('Intercept (b): \\n', regr.intercept_)\n",
        "\n",
        "MSE = mean_squared_error(CV, predicted_results)\n",
        "RMSE = math.sqrt(MSE)\n",
        "\n",
        "R2 = r2_score(CV, predicted_results)\n",
        "\n",
        "print(\"Mean residual sum of squares =\", MSE)\n",
        "print(\"RMSE =\", RMSE)\n",
        "print(\"R2 =\", R2)\n",
        "print(\"Mean residual sum of squares = %.2f\" % np.mean((regr.predict(data) - CV) **2))\n",
        "print('R2 = %.2f' % regr.score(data, CV))"
      ],
      "execution_count": null,
      "outputs": [
        {
          "output_type": "display_data",
          "data": {
            "image/png": "[encoded data removed]",
            "text/plain": [
              "<Figure size 432x288 with 1 Axes>"
            ]
          },
          "metadata": {
            "needs_background": "light"
          }
        },
        {
          "output_type": "stream",
          "name": "stdout",
          "text": [
            "Result with Outlier:\n",
            "Coefficients (m): \n",
            " [[-4.08448232]]\n",
            "Intercept (b): \n",
            " [19.09845981]\n",
            "Mean residual sum of squares = 20.021078559261586\n",
            "RMSE = 4.474491988959371\n",
            "R2 = 0.0302475268642467\n",
            "Mean residual sum of squares = 20.02\n",
            "R2 = 0.03\n"
          ]
        }
      ]
    },
    {
      "cell_type": "code",
      "metadata": {
        "colab": {
          "base_uri": "https://localhost:8080/",
          "height": 784
        },
        "id": "cFyj3Gx07Knv",
        "outputId": "9881e198-a43f-4b8b-d0a9-1d42eed81d6b"
      },
      "source": [
        "dataset.head(10)"
      ],
      "execution_count": null,
      "outputs": [
        {
          "output_type": "execute_result",
          "data": {
            "text/html": [
              "<div>\n",
              "<style scoped>\n",
              "    .dataframe tbody tr th:only-of-type {\n",
              "        vertical-align: middle;\n",
              "    }\n",
              "\n",
              "    .dataframe tbody tr th {\n",
              "        vertical-align: top;\n",
              "    }\n",
              "\n",
              "    .dataframe thead th {\n",
              "        text-align: right;\n",
              "    }\n",
              "</style>\n",
              "<table border=\"1\" class=\"dataframe\">\n",
              "  <thead>\n",
              "    <tr style=\"text-align: right;\">\n",
              "      <th></th>\n",
              "      <th>timestamp</th>\n",
              "      <th>gender</th>\n",
              "      <th>age</th>\n",
              "      <th>amount_music</th>\n",
              "      <th>life_enjoyment</th>\n",
              "      <th>resilience</th>\n",
              "      <th>balanced_life</th>\n",
              "      <th>emotional_flex</th>\n",
              "      <th>self_actualization</th>\n",
              "      <th>song1</th>\n",
              "      <th>song2</th>\n",
              "      <th>song3</th>\n",
              "      <th>trauma</th>\n",
              "      <th>id</th>\n",
              "      <th>total_health</th>\n",
              "      <th>energy</th>\n",
              "      <th>dance</th>\n",
              "      <th>liveness</th>\n",
              "      <th>valence</th>\n",
              "      <th>tempo</th>\n",
              "      <th>instrumental</th>\n",
              "      <th>acoustic</th>\n",
              "      <th>popularity</th>\n",
              "      <th>health_categorical</th>\n",
              "    </tr>\n",
              "  </thead>\n",
              "  <tbody>\n",
              "    <tr>\n",
              "      <th>0</th>\n",
              "      <td>05/11/2016 14:34:00</td>\n",
              "      <td>Male</td>\n",
              "      <td>18 - 30</td>\n",
              "      <td>1 - 2</td>\n",
              "      <td>4</td>\n",
              "      <td>3</td>\n",
              "      <td>5</td>\n",
              "      <td>3</td>\n",
              "      <td>6</td>\n",
              "      <td>Too Good Drake</td>\n",
              "      <td>Trust Nobody Selena Gomez Tory Lanez Cashmere Cat</td>\n",
              "      <td>Don't Wanna Know Maroon5 Kendrick Lamar</td>\n",
              "      <td>No</td>\n",
              "      <td>0</td>\n",
              "      <td>21</td>\n",
              "      <td>0.633000</td>\n",
              "      <td>0.655000</td>\n",
              "      <td>0.110000</td>\n",
              "      <td>0.571500</td>\n",
              "      <td>98.368000</td>\n",
              "      <td>0.000025</td>\n",
              "      <td>0.281600</td>\n",
              "      <td>71.500000</td>\n",
              "      <td>1.0</td>\n",
              "    </tr>\n",
              "    <tr>\n",
              "      <th>1</th>\n",
              "      <td>05/11/2016 14:45:26</td>\n",
              "      <td>Male</td>\n",
              "      <td>18 - 30</td>\n",
              "      <td>1 - 2</td>\n",
              "      <td>6</td>\n",
              "      <td>6</td>\n",
              "      <td>3</td>\n",
              "      <td>5</td>\n",
              "      <td>5</td>\n",
              "      <td>Put that on my set asap rocky ft skepta</td>\n",
              "      <td>High rhe beach lana del rey</td>\n",
              "      <td>New level asap ferg</td>\n",
              "      <td>No</td>\n",
              "      <td>1</td>\n",
              "      <td>25</td>\n",
              "      <td>0.655000</td>\n",
              "      <td>0.526000</td>\n",
              "      <td>0.116000</td>\n",
              "      <td>0.156000</td>\n",
              "      <td>121.127000</td>\n",
              "      <td>0.000000</td>\n",
              "      <td>0.056600</td>\n",
              "      <td>65.000000</td>\n",
              "      <td>1.0</td>\n",
              "    </tr>\n",
              "    <tr>\n",
              "      <th>2</th>\n",
              "      <td>05/11/2016 14:45:41</td>\n",
              "      <td>Female</td>\n",
              "      <td>18 - 30</td>\n",
              "      <td>0 - 1</td>\n",
              "      <td>5</td>\n",
              "      <td>5</td>\n",
              "      <td>4</td>\n",
              "      <td>4</td>\n",
              "      <td>5</td>\n",
              "      <td>Fireproof Coleman Hell</td>\n",
              "      <td>Love on the Brain Rhianna</td>\n",
              "      <td>This Girl Kungs vs Cookin' on 3 Burners</td>\n",
              "      <td>No</td>\n",
              "      <td>2</td>\n",
              "      <td>23</td>\n",
              "      <td>0.745500</td>\n",
              "      <td>0.742000</td>\n",
              "      <td>0.183500</td>\n",
              "      <td>0.618500</td>\n",
              "      <td>125.009000</td>\n",
              "      <td>0.000023</td>\n",
              "      <td>0.053800</td>\n",
              "      <td>63.500000</td>\n",
              "      <td>1.0</td>\n",
              "    </tr>\n",
              "    <tr>\n",
              "      <th>3</th>\n",
              "      <td>05/11/2016 14:45:55</td>\n",
              "      <td>Male</td>\n",
              "      <td>18 - 30</td>\n",
              "      <td>2+</td>\n",
              "      <td>3</td>\n",
              "      <td>6</td>\n",
              "      <td>5</td>\n",
              "      <td>5</td>\n",
              "      <td>5</td>\n",
              "      <td>Eyes Nose Lips TaeYang</td>\n",
              "      <td>Me Like Yuh Jay Park</td>\n",
              "      <td>Aquaman Jay Park</td>\n",
              "      <td>No</td>\n",
              "      <td>3</td>\n",
              "      <td>24</td>\n",
              "      <td>0.739000</td>\n",
              "      <td>0.681667</td>\n",
              "      <td>0.148900</td>\n",
              "      <td>0.596000</td>\n",
              "      <td>113.576000</td>\n",
              "      <td>0.000001</td>\n",
              "      <td>0.348867</td>\n",
              "      <td>60.333333</td>\n",
              "      <td>1.0</td>\n",
              "    </tr>\n",
              "    <tr>\n",
              "      <th>4</th>\n",
              "      <td>05/11/2016 14:49:15</td>\n",
              "      <td>Female</td>\n",
              "      <td>18 - 30</td>\n",
              "      <td>0 - 1</td>\n",
              "      <td>2</td>\n",
              "      <td>5</td>\n",
              "      <td>2</td>\n",
              "      <td>1</td>\n",
              "      <td>5</td>\n",
              "      <td>Sugar Wanderlust</td>\n",
              "      <td>Blue Jeans Lana Del Ray</td>\n",
              "      <td>Mr. Bright side the killers</td>\n",
              "      <td>Yes</td>\n",
              "      <td>4</td>\n",
              "      <td>15</td>\n",
              "      <td>0.539000</td>\n",
              "      <td>0.513000</td>\n",
              "      <td>0.215500</td>\n",
              "      <td>0.291500</td>\n",
              "      <td>122.460500</td>\n",
              "      <td>0.464350</td>\n",
              "      <td>0.599500</td>\n",
              "      <td>3.000000</td>\n",
              "      <td>0.0</td>\n",
              "    </tr>\n",
              "    <tr>\n",
              "      <th>5</th>\n",
              "      <td>05/11/2016 14:50:21</td>\n",
              "      <td>Male</td>\n",
              "      <td>18 - 30</td>\n",
              "      <td>0 - 1</td>\n",
              "      <td>3</td>\n",
              "      <td>4</td>\n",
              "      <td>4</td>\n",
              "      <td>5</td>\n",
              "      <td>6</td>\n",
              "      <td>Look on Up Relient K</td>\n",
              "      <td>Money and Fame NeedToBreathe</td>\n",
              "      <td>Awakening Switchfoot</td>\n",
              "      <td>No</td>\n",
              "      <td>5</td>\n",
              "      <td>22</td>\n",
              "      <td>0.740667</td>\n",
              "      <td>0.511667</td>\n",
              "      <td>0.114500</td>\n",
              "      <td>0.416000</td>\n",
              "      <td>149.958000</td>\n",
              "      <td>0.000032</td>\n",
              "      <td>0.090370</td>\n",
              "      <td>43.666667</td>\n",
              "      <td>1.0</td>\n",
              "    </tr>\n",
              "    <tr>\n",
              "      <th>6</th>\n",
              "      <td>05/11/2016 14:51:28</td>\n",
              "      <td>Male</td>\n",
              "      <td>18 - 30</td>\n",
              "      <td>1 - 2</td>\n",
              "      <td>4</td>\n",
              "      <td>5</td>\n",
              "      <td>2</td>\n",
              "      <td>5</td>\n",
              "      <td>4</td>\n",
              "      <td>Timmy Turner Desiigner</td>\n",
              "      <td>Starboy The Weeknd</td>\n",
              "      <td>One Dance Drake</td>\n",
              "      <td>No</td>\n",
              "      <td>6</td>\n",
              "      <td>20</td>\n",
              "      <td>0.641000</td>\n",
              "      <td>0.692000</td>\n",
              "      <td>0.188867</td>\n",
              "      <td>0.393667</td>\n",
              "      <td>137.599333</td>\n",
              "      <td>0.000955</td>\n",
              "      <td>0.107807</td>\n",
              "      <td>82.000000</td>\n",
              "      <td>1.0</td>\n",
              "    </tr>\n",
              "    <tr>\n",
              "      <th>7</th>\n",
              "      <td>05/11/2016 14:52:00</td>\n",
              "      <td>Female</td>\n",
              "      <td>18 - 30</td>\n",
              "      <td>1 - 2</td>\n",
              "      <td>4</td>\n",
              "      <td>4</td>\n",
              "      <td>4</td>\n",
              "      <td>4</td>\n",
              "      <td>5</td>\n",
              "      <td>SelfControl Frank Ocean</td>\n",
              "      <td>0 to 100/ The Catch Up Drake</td>\n",
              "      <td>All I Ask Adele</td>\n",
              "      <td>No</td>\n",
              "      <td>7</td>\n",
              "      <td>21</td>\n",
              "      <td>0.496000</td>\n",
              "      <td>0.647000</td>\n",
              "      <td>0.211500</td>\n",
              "      <td>0.422000</td>\n",
              "      <td>115.527500</td>\n",
              "      <td>0.000000</td>\n",
              "      <td>0.822500</td>\n",
              "      <td>72.500000</td>\n",
              "      <td>1.0</td>\n",
              "    </tr>\n",
              "    <tr>\n",
              "      <th>8</th>\n",
              "      <td>05/11/2016 14:54:51</td>\n",
              "      <td>Male</td>\n",
              "      <td>18 - 30</td>\n",
              "      <td>2+</td>\n",
              "      <td>3</td>\n",
              "      <td>2</td>\n",
              "      <td>4</td>\n",
              "      <td>3</td>\n",
              "      <td>1</td>\n",
              "      <td>Never say never basement jaxx</td>\n",
              "      <td>Location khalid</td>\n",
              "      <td>Right here Dave b</td>\n",
              "      <td>No</td>\n",
              "      <td>8</td>\n",
              "      <td>13</td>\n",
              "      <td>0.549333</td>\n",
              "      <td>0.713333</td>\n",
              "      <td>0.174267</td>\n",
              "      <td>0.365333</td>\n",
              "      <td>111.394333</td>\n",
              "      <td>0.037054</td>\n",
              "      <td>0.235263</td>\n",
              "      <td>58.666667</td>\n",
              "      <td>0.0</td>\n",
              "    </tr>\n",
              "    <tr>\n",
              "      <th>9</th>\n",
              "      <td>05/11/2016 14:58:37</td>\n",
              "      <td>Male</td>\n",
              "      <td>18 - 30</td>\n",
              "      <td>2+</td>\n",
              "      <td>2</td>\n",
              "      <td>5</td>\n",
              "      <td>3</td>\n",
              "      <td>5</td>\n",
              "      <td>5</td>\n",
              "      <td>Kids in the Dark</td>\n",
              "      <td>Hurt</td>\n",
              "      <td>Angel</td>\n",
              "      <td>No</td>\n",
              "      <td>9</td>\n",
              "      <td>20</td>\n",
              "      <td>0.558000</td>\n",
              "      <td>0.515000</td>\n",
              "      <td>0.130433</td>\n",
              "      <td>0.509000</td>\n",
              "      <td>152.126333</td>\n",
              "      <td>0.000778</td>\n",
              "      <td>0.428787</td>\n",
              "      <td>74.000000</td>\n",
              "      <td>1.0</td>\n",
              "    </tr>\n",
              "  </tbody>\n",
              "</table>\n",
              "</div>"
            ],
            "text/plain": [
              "             timestamp  gender  ... popularity health_categorical\n",
              "0  05/11/2016 14:34:00    Male  ...  71.500000                1.0\n",
              "1  05/11/2016 14:45:26    Male  ...  65.000000                1.0\n",
              "2  05/11/2016 14:45:41  Female  ...  63.500000                1.0\n",
              "3  05/11/2016 14:45:55    Male  ...  60.333333                1.0\n",
              "4  05/11/2016 14:49:15  Female  ...   3.000000                0.0\n",
              "5  05/11/2016 14:50:21    Male  ...  43.666667                1.0\n",
              "6  05/11/2016 14:51:28    Male  ...  82.000000                1.0\n",
              "7  05/11/2016 14:52:00  Female  ...  72.500000                1.0\n",
              "8  05/11/2016 14:54:51    Male  ...  58.666667                0.0\n",
              "9  05/11/2016 14:58:37    Male  ...  74.000000                1.0\n",
              "\n",
              "[10 rows x 24 columns]"
            ]
          },
          "metadata": {},
          "execution_count": 12
        }
      ]
    },
    {
      "cell_type": "markdown",
      "metadata": {
        "id": "Rwudp9liEqgg"
      },
      "source": [
        "## extra"
      ]
    },
    {
      "cell_type": "code",
      "metadata": {
        "id": "fQbOCfi0AVNz"
      },
      "source": [
        "residual_error = CV - predicted_results\n",
        "print(\"Mean of residuals =\", np.std(residual_error))\n",
        "print(\"standard deviation of residuals =\", np.std(residual_error))\n",
        "\n",
        "plt.figure(2)\n",
        "plt.plot((0,1),(0,0), 'r--')\n",
        "plt.scatter(data, residual_error, label='residual error')\n",
        "plt.title(\"Residual plot\")\n",
        "plt.xlabel(\"dance\")\n",
        "plt.ylabel(\"residual error\")\n",
        "plt.show()\n",
        "\n",
        "plt.figure(3)\n",
        "plt.hist(residual_error)\n",
        "plt.title(\"Distribution of residuals\")\n",
        "plt.title(\"residual error\")\n",
        "plt.show()\n",
        "\n",
        "plt.figure(4)\n",
        "n, bins, patches = plt.hist(residual_error, 10, normed=1, alpha = 0.5)\n",
        "y_pdf = P.normpdf(bins, np.mean(residual_error), np.std(residual_error))\n",
        "l = P.plot(bins, y_pdf, 'k--', linewidth=1.5)\n",
        "plt.title(\"Residual Distribution\")\n",
        "plt.show()\n",
        "\n",
        "x = dataset[['energy', 'tempo', 'dance', 'valence']]\n",
        "y = dataset['total_health']\n",
        "\n",
        "x = sm.add_constant(x)\n",
        "allVars = sm.OLS(y,x).fit()\n",
        "\n",
        "print(allVars.summary())"
      ],
      "execution_count": null,
      "outputs": []
    },
    {
      "cell_type": "code",
      "metadata": {
        "colab": {
          "base_uri": "https://localhost:8080/",
          "height": 356
        },
        "id": "VbefnQPfr97_",
        "outputId": "10f3894d-5ea0-4fd8-aa24-9368e5386e11"
      },
      "source": [
        "import pandas as pd\n",
        "from sklearn import metrics\n",
        "from sklearn.naive_bayes import GaussianNB\n",
        "import numpy as np\n",
        "#from sklearn.cross_validation import KFold, cross_val_score\n",
        "\n",
        "dataset = pd.read_csv('master.csv')\n",
        "dataset = dataset.dropna()\n",
        "\n",
        "#prepare datasets to be fed into the naive bayes model\n",
        "#Predict mental health category given dance and energy\n",
        "\n",
        "CV = dataset.health_categorical.values.reshape(len(dataset.health_categorical),1)\n",
        "data = (dataset.ix[:,['energy','dance','popularity','tempo']].values).reshape(len(dataset.dance),4)\n",
        "print(data)\n",
        "\n",
        "#Create the model object\n",
        "NB = GaussianNB()\n",
        "\n",
        "#Train the model using the training sets\n",
        "NB.fit(data,CV.ravel())\n",
        "\n",
        "#Model\n",
        "print(\"Probability of the classes: \", NB.class_prior_)\n",
        "print(\"Mean of each feature per class: \\n\", NB.theta_)\n",
        "print(\"Variance of each feature per class: \\n\", NB.sigma_)\n",
        "\n",
        "#predict the class for each data point\n",
        "predicted = NB.predict(data)\n",
        "print(\"Predictions:\\n\",np.array([predicted]).T)\n",
        "\n",
        "# predict the probability/likelihood of the prediction\n",
        "prob_of_pred = NB.predict_proba(data)\n",
        "print(\"Probability of each class for the prediction: \\n\",prob_of_pred)\n",
        "\n",
        "print(\"Accuracy of the model: \",NB.score(data,CV.ravel()))\n",
        "\n",
        "print(\"The confusion matrix:\\n\", metrics.confusion_matrix(CV.ravel(), predicted, [0,1]))\n"
      ],
      "execution_count": null,
      "outputs": [
        {
          "output_type": "error",
          "ename": "AttributeError",
          "evalue": "ignored",
          "traceback": [
            "\u001b[0;31m---------------------------------------------------------------------------\u001b[0m",
            "\u001b[0;31mAttributeError\u001b[0m                            Traceback (most recent call last)",
            "\u001b[0;32m<ipython-input-3-2ce96f1f1392>\u001b[0m in \u001b[0;36m<module>\u001b[0;34m()\u001b[0m\n\u001b[1;32m     12\u001b[0m \u001b[0;34m\u001b[0m\u001b[0m\n\u001b[1;32m     13\u001b[0m \u001b[0mCV\u001b[0m \u001b[0;34m=\u001b[0m \u001b[0mdataset\u001b[0m\u001b[0;34m.\u001b[0m\u001b[0mhealth_categorical\u001b[0m\u001b[0;34m.\u001b[0m\u001b[0mvalues\u001b[0m\u001b[0;34m.\u001b[0m\u001b[0mreshape\u001b[0m\u001b[0;34m(\u001b[0m\u001b[0mlen\u001b[0m\u001b[0;34m(\u001b[0m\u001b[0mdataset\u001b[0m\u001b[0;34m.\u001b[0m\u001b[0mhealth_categorical\u001b[0m\u001b[0;34m)\u001b[0m\u001b[0;34m,\u001b[0m\u001b[0;36m1\u001b[0m\u001b[0;34m)\u001b[0m\u001b[0;34m\u001b[0m\u001b[0;34m\u001b[0m\u001b[0m\n\u001b[0;32m---> 14\u001b[0;31m \u001b[0mdata\u001b[0m \u001b[0;34m=\u001b[0m \u001b[0;34m(\u001b[0m\u001b[0mdataset\u001b[0m\u001b[0;34m.\u001b[0m\u001b[0mix\u001b[0m\u001b[0;34m[\u001b[0m\u001b[0;34m:\u001b[0m\u001b[0;34m,\u001b[0m\u001b[0;34m[\u001b[0m\u001b[0;34m'energy'\u001b[0m\u001b[0;34m,\u001b[0m\u001b[0;34m'dance'\u001b[0m\u001b[0;34m,\u001b[0m\u001b[0;34m'popularity'\u001b[0m\u001b[0;34m,\u001b[0m\u001b[0;34m'tempo'\u001b[0m\u001b[0;34m]\u001b[0m\u001b[0;34m]\u001b[0m\u001b[0;34m.\u001b[0m\u001b[0mvalues\u001b[0m\u001b[0;34m)\u001b[0m\u001b[0;34m.\u001b[0m\u001b[0mreshape\u001b[0m\u001b[0;34m(\u001b[0m\u001b[0mlen\u001b[0m\u001b[0;34m(\u001b[0m\u001b[0mdataset\u001b[0m\u001b[0;34m.\u001b[0m\u001b[0mdance\u001b[0m\u001b[0;34m)\u001b[0m\u001b[0;34m,\u001b[0m\u001b[0;36m4\u001b[0m\u001b[0;34m)\u001b[0m\u001b[0;34m\u001b[0m\u001b[0;34m\u001b[0m\u001b[0m\n\u001b[0m\u001b[1;32m     15\u001b[0m \u001b[0mprint\u001b[0m\u001b[0;34m(\u001b[0m\u001b[0mdata\u001b[0m\u001b[0;34m)\u001b[0m\u001b[0;34m\u001b[0m\u001b[0;34m\u001b[0m\u001b[0m\n\u001b[1;32m     16\u001b[0m \u001b[0;34m\u001b[0m\u001b[0m\n",
            "\u001b[0;32m/usr/local/lib/python3.7/dist-packages/pandas/core/generic.py\u001b[0m in \u001b[0;36m__getattr__\u001b[0;34m(self, name)\u001b[0m\n\u001b[1;32m   5139\u001b[0m             \u001b[0;32mif\u001b[0m \u001b[0mself\u001b[0m\u001b[0;34m.\u001b[0m\u001b[0m_info_axis\u001b[0m\u001b[0;34m.\u001b[0m\u001b[0m_can_hold_identifiers_and_holds_name\u001b[0m\u001b[0;34m(\u001b[0m\u001b[0mname\u001b[0m\u001b[0;34m)\u001b[0m\u001b[0;34m:\u001b[0m\u001b[0;34m\u001b[0m\u001b[0;34m\u001b[0m\u001b[0m\n\u001b[1;32m   5140\u001b[0m                 \u001b[0;32mreturn\u001b[0m \u001b[0mself\u001b[0m\u001b[0;34m[\u001b[0m\u001b[0mname\u001b[0m\u001b[0;34m]\u001b[0m\u001b[0;34m\u001b[0m\u001b[0;34m\u001b[0m\u001b[0m\n\u001b[0;32m-> 5141\u001b[0;31m             \u001b[0;32mreturn\u001b[0m \u001b[0mobject\u001b[0m\u001b[0;34m.\u001b[0m\u001b[0m__getattribute__\u001b[0m\u001b[0;34m(\u001b[0m\u001b[0mself\u001b[0m\u001b[0;34m,\u001b[0m \u001b[0mname\u001b[0m\u001b[0;34m)\u001b[0m\u001b[0;34m\u001b[0m\u001b[0;34m\u001b[0m\u001b[0m\n\u001b[0m\u001b[1;32m   5142\u001b[0m \u001b[0;34m\u001b[0m\u001b[0m\n\u001b[1;32m   5143\u001b[0m     \u001b[0;32mdef\u001b[0m \u001b[0m__setattr__\u001b[0m\u001b[0;34m(\u001b[0m\u001b[0mself\u001b[0m\u001b[0;34m,\u001b[0m \u001b[0mname\u001b[0m\u001b[0;34m:\u001b[0m \u001b[0mstr\u001b[0m\u001b[0;34m,\u001b[0m \u001b[0mvalue\u001b[0m\u001b[0;34m)\u001b[0m \u001b[0;34m->\u001b[0m \u001b[0;32mNone\u001b[0m\u001b[0;34m:\u001b[0m\u001b[0;34m\u001b[0m\u001b[0;34m\u001b[0m\u001b[0m\n",
            "\u001b[0;31mAttributeError\u001b[0m: 'DataFrame' object has no attribute 'ix'"
          ]
        }
      ]
    },
    {
      "cell_type": "code",
      "metadata": {
        "colab": {
          "base_uri": "https://localhost:8080/",
          "height": 369
        },
        "id": "xa_iH-2VPl2z",
        "outputId": "f1f20eb3-28fd-4259-b50b-b70ed7377e4b"
      },
      "source": [
        "import seaborn as sns\n",
        "\n",
        "dataset = pd.read_csv('master.csv')\n",
        "\n",
        "#data = sns.load_dataset(\"master.csv\")\n",
        "#sns.FacetGrid(dataset)\n",
        "g = sns.lmplot(x=\"dance\", y=\"total_health\", data=dataset)\n",
        "\n",
        "from sklearn.metrics import r2_score"
      ],
      "execution_count": null,
      "outputs": [
        {
          "output_type": "display_data",
          "data": {
            "image/png": "[encoded data removed]",
            "text/plain": [
              "<Figure size 360x360 with 1 Axes>"
            ]
          },
          "metadata": {
            "needs_background": "light"
          }
        }
      ]
    },
    {
      "cell_type": "code",
      "metadata": {
        "id": "3InCl0CaQwbU"
      },
      "source": [
        "import numpy as np\n",
        "import pandas as pd\n",
        "from plotnine import *\n",
        "\n",
        "%matplotlib inline\n",
        "survs_df = pd.read_csv('master.csv').dropna()"
      ],
      "execution_count": null,
      "outputs": []
    },
    {
      "cell_type": "code",
      "metadata": {
        "colab": {
          "base_uri": "https://localhost:8080/",
          "height": 510
        },
        "id": "j2ixXSYyXNxE",
        "outputId": "ae8a046b-485f-4518-a227-f3eaea041980"
      },
      "source": [
        "import seaborn as sns\n",
        "import numpy as np\n",
        "\n",
        "dataset = pd.read_csv('master.csv')\n",
        "x = dataset['dance']\n",
        "y = dataset['total_health']\n",
        "\n",
        "from scipy import stats\n",
        "def r2(x, y):\n",
        "    return stats.pearsonr(x, y)[0] ** 2\n",
        "sns.jointplot(x, y, kind=\"reg\")"
      ],
      "execution_count": null,
      "outputs": [
        {
          "output_type": "stream",
          "name": "stderr",
          "text": [
            "/usr/local/lib/python3.7/dist-packages/seaborn/_decorators.py:43: FutureWarning: Pass the following variables as keyword args: x, y. From version 0.12, the only valid positional argument will be `data`, and passing other arguments without an explicit keyword will result in an error or misinterpretation.\n",
            "  FutureWarning\n"
          ]
        },
        {
          "output_type": "execute_result",
          "data": {
            "text/plain": [
              "<seaborn.axisgrid.JointGrid at 0x7f6600361550>"
            ]
          },
          "metadata": {},
          "execution_count": 26
        },
        {
          "output_type": "display_data",
          "data": {
            "image/png": "[encoded data removed]",
            "text/plain": [
              "<Figure size 432x432 with 3 Axes>"
            ]
          },
          "metadata": {
            "needs_background": "light"
          }
        }
      ]
    }
  ]
}
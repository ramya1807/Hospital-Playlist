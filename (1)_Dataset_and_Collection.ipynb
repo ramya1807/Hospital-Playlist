{
  "nbformat": 4,
  "nbformat_minor": 0,
  "metadata": {
    "colab": {
      "name": "(1) Dataset and Collection.ipynb",
      "provenance": [],
      "collapsed_sections": [],
      "include_colab_link": true
    },
    "kernelspec": {
      "name": "python3",
      "display_name": "Python 3"
    },
    "language_info": {
      "name": "python"
    }
  },
  "cells": [
    {
      "cell_type": "markdown",
      "metadata": {
        "id": "view-in-github",
        "colab_type": "text"
      },
      "source": [
        "<a href=\"https://colab.research.google.com/github/ramya1807/Hospital-Playlist/blob/divya/(1)_Dataset_and_Collection.ipynb\" target=\"_parent\"><img src=\"https://colab.research.google.com/assets/colab-badge.svg\" alt=\"Open In Colab\"/></a>"
      ]
    },
    {
      "cell_type": "markdown",
      "metadata": {
        "id": "dhFueP8NlPf0"
      },
      "source": [
        "## Accessing the GitHub repository to gain access to the dataset."
      ]
    },
    {
      "cell_type": "code",
      "metadata": {
        "colab": {
          "base_uri": "https://localhost:8080/"
        },
        "id": "9nZBE7XFj7Km",
        "outputId": "52e2922e-5aaf-43a7-dd16-cc65b24243d1"
      },
      "source": [
        "!git clone https://github.com/SunnyShikhar/music-datamining.git"
      ],
      "execution_count": null,
      "outputs": [
        {
          "output_type": "stream",
          "name": "stdout",
          "text": [
            "Cloning into 'music-datamining'...\n",
            "remote: Enumerating objects: 1228, done.\u001b[K\n",
            "remote: Total 1228 (delta 0), reused 0 (delta 0), pack-reused 1228\u001b[K\n",
            "Receiving objects: 100% (1228/1228), 8.41 MiB | 16.47 MiB/s, done.\n",
            "Resolving deltas: 100% (376/376), done.\n"
          ]
        }
      ]
    },
    {
      "cell_type": "code",
      "metadata": {
        "colab": {
          "base_uri": "https://localhost:8080/"
        },
        "id": "kW5B955NkqRZ",
        "outputId": "bbb1af29-90e7-44b6-b6ef-40ed55624c67"
      },
      "source": [
        "!ls music-datamining/data"
      ],
      "execution_count": null,
      "outputs": [
        {
          "output_type": "stream",
          "name": "stdout",
          "text": [
            "master.csv  song_metrics.csv  songs_only.csv  survey.csv\n"
          ]
        }
      ]
    },
    {
      "cell_type": "code",
      "metadata": {
        "colab": {
          "base_uri": "https://localhost:8080/"
        },
        "id": "laoaX9G-k3BG",
        "outputId": "3090a5f3-f79f-4646-b183-564620b528e6"
      },
      "source": [
        "!head music-datamining/data/master.csv"
      ],
      "execution_count": null,
      "outputs": [
        {
          "output_type": "stream",
          "name": "stdout",
          "text": [
            "timestamp,gender,age,amount_music,life_enjoyment,resilience,balanced_life,emotional_flex,self_actualization,song1,song2,song3,trauma,id,total_health,energy,dance,liveness,valence,tempo,instrumental,acoustic,popularity,health_categorical\n",
            "05/11/2016 14:34:00,Male,18 - 30,1 - 2,4,3,5,3,6,Too Good Drake,Trust Nobody Selena Gomez Tory Lanez Cashmere Cat,Don't Wanna Know Maroon5 Kendrick Lamar,No,0,21,0.633,0.655,0.11,0.5715,98.368,2.535e-05,0.2816,71.5,1.0\n",
            "05/11/2016 14:45:26,Male,18 - 30,1 - 2,6,6,3,5,5,Put that on my set asap rocky ft skepta,High rhe beach lana del rey,New level asap ferg,No,1,25,0.655,0.526,0.11599999999999999,0.156,121.12700000000001,0.0,0.0566,65.0,1.0\n",
            "05/11/2016 14:45:41,Female,18 - 30,0 - 1,5,5,4,4,5,Fireproof Coleman Hell,Love on the Brain Rhianna,This Girl Kungs vs Cookin' on 3 Burners,No,2,23,0.7455,0.742,0.1835,0.6184999999999999,125.00899999999999,2.3049999999999998e-05,0.0538,63.5,1.0\n",
            "05/11/2016 14:45:55,Male,18 - 30,2+,3,6,5,5,5,Eyes Nose Lips TaeYang,Me Like Yuh Jay Park,Aquaman Jay Park,No,3,24,0.739,0.6816666666666666,0.1489,0.5960000000000001,113.57600000000001,1.2799999999999998e-06,0.34886666666666666,60.333333333333336,1.0\n",
            "05/11/2016 14:49:15,Female,18 - 30,0 - 1,2,5,2,1,5,Sugar Wanderlust,Blue Jeans Lana Del Ray,Mr. Bright side the killers,Yes,4,15,0.5389999999999999,0.513,0.2155,0.2915,122.4605,0.46435,0.5995,3.0,0.0\n",
            "05/11/2016 14:50:21,Male,18 - 30,0 - 1,3,4,4,5,6,Look on Up Relient K,Money and Fame NeedToBreathe,Awakening Switchfoot,No,5,22,0.7406666666666665,0.5116666666666666,0.1145,0.416,149.958,3.223e-05,0.09036966666666664,43.666666666666664,1.0\n",
            "05/11/2016 14:51:28,Male,18 - 30,1 - 2,4,5,2,5,4,Timmy Turner Desiigner,Starboy The Weeknd,One Dance Drake,No,6,20,0.641,0.6919999999999998,0.18886666666666665,0.39366666666666666,137.59933333333333,0.00095545,0.10780666666666665,82.0,1.0\n",
            "05/11/2016 14:52:00,Female,18 - 30,1 - 2,4,4,4,4,5,SelfControl Frank Ocean,0 to 100/ The Catch Up Drake,All I Ask Adele,No,7,21,0.49600000000000005,0.647,0.21149999999999997,0.422,115.5275,0.0,0.8225,72.5,1.0\n",
            "05/11/2016 14:54:51,Male,18 - 30,2+,3,2,4,3,1,Never say never basement jaxx ,Location khalid,Right here Dave b ,No,8,13,0.5493333333333333,0.7133333333333333,0.17426666666666668,0.36533333333333334,111.39433333333334,0.037054,0.23526333333333335,58.666666666666664,0.0\n"
          ]
        }
      ]
    }
  ]
}
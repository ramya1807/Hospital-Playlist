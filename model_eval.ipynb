{
  "nbformat": 4,
  "nbformat_minor": 0,
  "metadata": {
    "colab": {
      "name": "model eval.ipynb",
      "provenance": [],
      "toc_visible": true,
      "authorship_tag": "ABX9TyN+M3KbAExwHk4fEpfEeCPc",
      "include_colab_link": true
    },
    "kernelspec": {
      "name": "python3",
      "display_name": "Python 3"
    },
    "language_info": {
      "name": "python"
    }
  },
  "cells": [
    {
      "cell_type": "markdown",
      "metadata": {
        "id": "view-in-github",
        "colab_type": "text"
      },
      "source": [
        "<a href=\"https://colab.research.google.com/github/ramya1807/Hospital-Playlist/blob/main/model_eval.ipynb\" target=\"_parent\"><img src=\"https://colab.research.google.com/assets/colab-badge.svg\" alt=\"Open In Colab\"/></a>"
      ]
    },
    {
      "cell_type": "markdown",
      "metadata": {
        "id": "dD-PzUee88jM"
      },
      "source": [
        "#Preprocessing data\n",
        "Which preprocessing data worked well"
      ]
    },
    {
      "cell_type": "code",
      "metadata": {
        "id": "GC_KVYUz-3yu"
      },
      "source": [
        "import pandas as pd\n",
        "\n",
        "data = pd.read_csv('Results of Modelling (for evaluation) - Sheet1.csv')\n",
        "\n",
        "#edit dataframe\n",
        "#keep model used, preprocessing steps, accuracy, f1 score\n",
        "\n",
        "#remove unnecessary data columns\n",
        "#regression\n",
        "#data = data.drop(columns=['Model specifics (if any)', 'Predictor variables used', 'F1 score \\n(average)', 'AIC', 'Accuracy', 'Remarks (if any)'])\n",
        "\n",
        "#classification\n",
        "data = data.drop(columns=['Model specifics (if any)', 'Predictor variables used', 'R2 score \\n(test set)', 'AIC', 'MSE', 'Remarks (if any)', 'AUC of ROC curve'])\n",
        "\n",
        "data = data[data['Model type \\n(Classification/Regression)'].str.contains('Classification')] #regression or classification\n",
        "data = data[data['Target: what we predict'].str.contains('self_actualization')] #which target\n",
        "data"
      ],
      "execution_count": null,
      "outputs": []
    },
    {
      "cell_type": "code",
      "metadata": {
        "colab": {
          "base_uri": "https://localhost:8080/",
          "height": 347
        },
        "id": "VZKG1YjTliPu",
        "outputId": "8685bb86-f473-485f-b727-a60564f3413c"
      },
      "source": [
        "data = data[data['Model used'].str.contains('Logistic regression')] #which model used\n",
        "data = data[data['Accuracy'] > 0] #remove invalid values\n",
        "#data = data[data['MSE'] > 0] #remove invalid values\n",
        "data"
      ],
      "execution_count": 108,
      "outputs": [
        {
          "output_type": "execute_result",
          "data": {
            "text/html": [
              "<div>\n",
              "<style scoped>\n",
              "    .dataframe tbody tr th:only-of-type {\n",
              "        vertical-align: middle;\n",
              "    }\n",
              "\n",
              "    .dataframe tbody tr th {\n",
              "        vertical-align: top;\n",
              "    }\n",
              "\n",
              "    .dataframe thead th {\n",
              "        text-align: right;\n",
              "    }\n",
              "</style>\n",
              "<table border=\"1\" class=\"dataframe\">\n",
              "  <thead>\n",
              "    <tr style=\"text-align: right;\">\n",
              "      <th></th>\n",
              "      <th>standardScaler()</th>\n",
              "      <th>PCA</th>\n",
              "      <th>MinMaxScaler()</th>\n",
              "      <th>FunctionTransformer</th>\n",
              "      <th>Model type \\n(Classification/Regression)</th>\n",
              "      <th>Model used</th>\n",
              "      <th>Target: what we predict</th>\n",
              "      <th>Accuracy</th>\n",
              "      <th>F1 score \\n(average)</th>\n",
              "    </tr>\n",
              "  </thead>\n",
              "  <tbody>\n",
              "    <tr>\n",
              "      <th>26</th>\n",
              "      <td>0</td>\n",
              "      <td>0</td>\n",
              "      <td>1</td>\n",
              "      <td>0</td>\n",
              "      <td>Classification</td>\n",
              "      <td>Logistic regression</td>\n",
              "      <td>self_actualization</td>\n",
              "      <td>0.25</td>\n",
              "      <td>0.08</td>\n",
              "    </tr>\n",
              "    <tr>\n",
              "      <th>62</th>\n",
              "      <td>1</td>\n",
              "      <td>0</td>\n",
              "      <td>0</td>\n",
              "      <td>0</td>\n",
              "      <td>Classification</td>\n",
              "      <td>Logistic regression</td>\n",
              "      <td>self_actualization</td>\n",
              "      <td>0.28</td>\n",
              "      <td>0.11</td>\n",
              "    </tr>\n",
              "    <tr>\n",
              "      <th>97</th>\n",
              "      <td>0</td>\n",
              "      <td>1</td>\n",
              "      <td>0</td>\n",
              "      <td>0</td>\n",
              "      <td>Classification</td>\n",
              "      <td>Logistic regression</td>\n",
              "      <td>self_actualization</td>\n",
              "      <td>0.25</td>\n",
              "      <td>0.08</td>\n",
              "    </tr>\n",
              "    <tr>\n",
              "      <th>132</th>\n",
              "      <td>0</td>\n",
              "      <td>0</td>\n",
              "      <td>1</td>\n",
              "      <td>0</td>\n",
              "      <td>Classification</td>\n",
              "      <td>Logistic regression</td>\n",
              "      <td>self_actualization</td>\n",
              "      <td>0.31</td>\n",
              "      <td>0.23</td>\n",
              "    </tr>\n",
              "    <tr>\n",
              "      <th>167</th>\n",
              "      <td>1</td>\n",
              "      <td>0</td>\n",
              "      <td>0</td>\n",
              "      <td>0</td>\n",
              "      <td>Classification</td>\n",
              "      <td>Logistic regression</td>\n",
              "      <td>self_actualization</td>\n",
              "      <td>0.30</td>\n",
              "      <td>0.21</td>\n",
              "    </tr>\n",
              "    <tr>\n",
              "      <th>202</th>\n",
              "      <td>0</td>\n",
              "      <td>1</td>\n",
              "      <td>0</td>\n",
              "      <td>0</td>\n",
              "      <td>Classification</td>\n",
              "      <td>Logistic regression</td>\n",
              "      <td>self_actualization</td>\n",
              "      <td>0.28</td>\n",
              "      <td>0.18</td>\n",
              "    </tr>\n",
              "  </tbody>\n",
              "</table>\n",
              "</div>"
            ],
            "text/plain": [
              "     standardScaler()  PCA  ...  Accuracy  F1 score \\n(average)\n",
              "26                  0    0  ...      0.25                  0.08\n",
              "62                  1    0  ...      0.28                  0.11\n",
              "97                  0    1  ...      0.25                  0.08\n",
              "132                 0    0  ...      0.31                  0.23\n",
              "167                 1    0  ...      0.30                  0.21\n",
              "202                 0    1  ...      0.28                  0.18\n",
              "\n",
              "[6 rows x 9 columns]"
            ]
          },
          "metadata": {},
          "execution_count": 108
        }
      ]
    },
    {
      "cell_type": "code",
      "metadata": {
        "id": "nL5ApBc69cLF"
      },
      "source": [
        "def label_preprocessing (row):\n",
        "   if row['standardScaler()'] == 1 :\n",
        "      return 'standardScaler'\n",
        "   if row['PCA'] == 1 :\n",
        "      return 'PCA'\n",
        "   if row['MinMaxScaler()'] == 1 :\n",
        "      return 'MinMaxScaler'\n",
        "   if row['FunctionTransformer'] == 1 :\n",
        "      return 'FunctionTransformer'\n",
        "   return 'Other'"
      ],
      "execution_count": 4,
      "outputs": []
    },
    {
      "cell_type": "code",
      "metadata": {
        "id": "O9jH6ubf-pWQ",
        "colab": {
          "base_uri": "https://localhost:8080/",
          "height": 367
        },
        "outputId": "a7b386ef-14e0-4696-b603-fe831853095d"
      },
      "source": [
        "data['Preprocessing'] = data.apply (lambda row: label_preprocessing(row), axis=1) #fix preprocessing features\n",
        "data"
      ],
      "execution_count": 110,
      "outputs": [
        {
          "output_type": "execute_result",
          "data": {
            "text/html": [
              "<div>\n",
              "<style scoped>\n",
              "    .dataframe tbody tr th:only-of-type {\n",
              "        vertical-align: middle;\n",
              "    }\n",
              "\n",
              "    .dataframe tbody tr th {\n",
              "        vertical-align: top;\n",
              "    }\n",
              "\n",
              "    .dataframe thead th {\n",
              "        text-align: right;\n",
              "    }\n",
              "</style>\n",
              "<table border=\"1\" class=\"dataframe\">\n",
              "  <thead>\n",
              "    <tr style=\"text-align: right;\">\n",
              "      <th></th>\n",
              "      <th>standardScaler()</th>\n",
              "      <th>PCA</th>\n",
              "      <th>MinMaxScaler()</th>\n",
              "      <th>FunctionTransformer</th>\n",
              "      <th>Model type \\n(Classification/Regression)</th>\n",
              "      <th>Model used</th>\n",
              "      <th>Target: what we predict</th>\n",
              "      <th>Accuracy</th>\n",
              "      <th>F1 score \\n(average)</th>\n",
              "      <th>Preprocessing</th>\n",
              "    </tr>\n",
              "  </thead>\n",
              "  <tbody>\n",
              "    <tr>\n",
              "      <th>26</th>\n",
              "      <td>0</td>\n",
              "      <td>0</td>\n",
              "      <td>1</td>\n",
              "      <td>0</td>\n",
              "      <td>Classification</td>\n",
              "      <td>Logistic regression</td>\n",
              "      <td>self_actualization</td>\n",
              "      <td>0.25</td>\n",
              "      <td>0.08</td>\n",
              "      <td>MinMaxScaler</td>\n",
              "    </tr>\n",
              "    <tr>\n",
              "      <th>62</th>\n",
              "      <td>1</td>\n",
              "      <td>0</td>\n",
              "      <td>0</td>\n",
              "      <td>0</td>\n",
              "      <td>Classification</td>\n",
              "      <td>Logistic regression</td>\n",
              "      <td>self_actualization</td>\n",
              "      <td>0.28</td>\n",
              "      <td>0.11</td>\n",
              "      <td>standardScaler</td>\n",
              "    </tr>\n",
              "    <tr>\n",
              "      <th>97</th>\n",
              "      <td>0</td>\n",
              "      <td>1</td>\n",
              "      <td>0</td>\n",
              "      <td>0</td>\n",
              "      <td>Classification</td>\n",
              "      <td>Logistic regression</td>\n",
              "      <td>self_actualization</td>\n",
              "      <td>0.25</td>\n",
              "      <td>0.08</td>\n",
              "      <td>PCA</td>\n",
              "    </tr>\n",
              "    <tr>\n",
              "      <th>132</th>\n",
              "      <td>0</td>\n",
              "      <td>0</td>\n",
              "      <td>1</td>\n",
              "      <td>0</td>\n",
              "      <td>Classification</td>\n",
              "      <td>Logistic regression</td>\n",
              "      <td>self_actualization</td>\n",
              "      <td>0.31</td>\n",
              "      <td>0.23</td>\n",
              "      <td>MinMaxScaler</td>\n",
              "    </tr>\n",
              "    <tr>\n",
              "      <th>167</th>\n",
              "      <td>1</td>\n",
              "      <td>0</td>\n",
              "      <td>0</td>\n",
              "      <td>0</td>\n",
              "      <td>Classification</td>\n",
              "      <td>Logistic regression</td>\n",
              "      <td>self_actualization</td>\n",
              "      <td>0.30</td>\n",
              "      <td>0.21</td>\n",
              "      <td>standardScaler</td>\n",
              "    </tr>\n",
              "    <tr>\n",
              "      <th>202</th>\n",
              "      <td>0</td>\n",
              "      <td>1</td>\n",
              "      <td>0</td>\n",
              "      <td>0</td>\n",
              "      <td>Classification</td>\n",
              "      <td>Logistic regression</td>\n",
              "      <td>self_actualization</td>\n",
              "      <td>0.28</td>\n",
              "      <td>0.18</td>\n",
              "      <td>PCA</td>\n",
              "    </tr>\n",
              "  </tbody>\n",
              "</table>\n",
              "</div>"
            ],
            "text/plain": [
              "     standardScaler()  PCA  ...  F1 score \\n(average)   Preprocessing\n",
              "26                  0    0  ...                  0.08    MinMaxScaler\n",
              "62                  1    0  ...                  0.11  standardScaler\n",
              "97                  0    1  ...                  0.08             PCA\n",
              "132                 0    0  ...                  0.23    MinMaxScaler\n",
              "167                 1    0  ...                  0.21  standardScaler\n",
              "202                 0    1  ...                  0.18             PCA\n",
              "\n",
              "[6 rows x 10 columns]"
            ]
          },
          "metadata": {},
          "execution_count": 110
        }
      ]
    },
    {
      "cell_type": "code",
      "metadata": {
        "id": "jdOeCT4-LXvv"
      },
      "source": [
        "import matplotlib.pyplot as plt\n",
        "\n",
        "data.plot(x=\"Preprocessing\", y=\"Accuracy\", kind=\"bar\") #plot against accuracy"
      ],
      "execution_count": null,
      "outputs": []
    },
    {
      "cell_type": "code",
      "metadata": {
        "id": "75TSDacPK9j6"
      },
      "source": [
        "import matplotlib.pyplot as plt\n",
        "\n",
        "data.plot(x=\"Preprocessing\", y=\"MSE\", kind=\"bar\") #plot against accuracy"
      ],
      "execution_count": null,
      "outputs": []
    },
    {
      "cell_type": "code",
      "metadata": {
        "colab": {
          "base_uri": "https://localhost:8080/",
          "height": 584
        },
        "id": "g1Ukpw82QnI2",
        "outputId": "dbf6ff69-4e8f-4aa2-b762-7581822e5e49"
      },
      "source": [
        "import pandas as pd\n",
        "import matplotlib.pyplot as plt\n",
        "\n",
        "target=[\"total_health\",\"trauma\"]\n",
        "preprocess={\n",
        "    \"Standard\":[4,5],\n",
        "    \"PCA\":[2,2],\n",
        "    \"MinMax\":[2,3],\n",
        "}\n",
        "\n",
        "df=pd.DataFrame(preprocess,index=target)\n",
        "\n",
        "\n",
        "df.plot(kind=\"bar\",stacked=True,figsize=(10,8))\n",
        "plt.legend(loc=\"lower left\",bbox_to_anchor=(0.8,1.0))\n",
        "plt.show()"
      ],
      "execution_count": 112,
      "outputs": [
        {
          "output_type": "display_data",
          "data": {
            "image/png": "[encoded data removed]",
            "text/plain": [
              "<Figure size 720x576 with 1 Axes>"
            ]
          },
          "metadata": {
            "needs_background": "light"
          }
        }
      ]
    },
    {
      "cell_type": "markdown",
      "metadata": {
        "id": "2BI1F17FRPPF"
      },
      "source": [
        "#Model"
      ]
    },
    {
      "cell_type": "markdown",
      "metadata": {
        "id": "7zNRESI4DEBd"
      },
      "source": [
        "##Classification"
      ]
    },
    {
      "cell_type": "code",
      "metadata": {
        "colab": {
          "base_uri": "https://localhost:8080/",
          "height": 427
        },
        "id": "9R_kuASjF9O2",
        "outputId": "8f0b57cf-f6cd-47c7-a0f7-b9db007312a8"
      },
      "source": [
        "import numpy as np\n",
        "import matplotlib.pyplot as plt\n",
        "  \n",
        "N = 6\n",
        "ind = np.arange(N) \n",
        "width = 0.1\n",
        "\n",
        "kNN = [0.66, 0.18, 0.37, 0.3, 0.28, 0.33]\n",
        "SVC = [0.63, 0.3, 0.31, 0.24, 0.26, 0.32]\n",
        "Naive =[0.2, 0.2, 0.25, 0.2, 0.23, 0.18]\n",
        "Logistic = [0.63, 0.29, 0.28, 0.33, 0.28, 0.31]\n",
        "dec_tree = [0.63, 0.28, 0.34, 0.23, 0.3, 0.3]\n",
        "adaboost = [0.64, 0.19, 0.31, 0.17, 0.25, 0.2]\n",
        "CNN = [0.5, 0.07, 0.03, 0.05, 0.06, 0.04]\n",
        "  \n",
        "fig = plt.figure(figsize = (10, 5))\n",
        "\n",
        "bar1 = plt.bar(ind, kNN, width)\n",
        "bar2 = plt.bar(ind+width, SVC, width)\n",
        "bar3 = plt.bar(ind+width*2, Naive, width)\n",
        "bar4 = plt.bar(ind+width*3, Logistic, width)\n",
        "bar5 = plt.bar(ind+width*4, dec_tree, width)\n",
        "bar6 = plt.bar(ind+width*5, adaboost, width)\n",
        "bar7 = plt.bar(ind+width*6, CNN, width)\n",
        "\n",
        "\n",
        "plt.xlabel(\"Target\")\n",
        "plt.ylabel('Accuracy')\n",
        "plt.title(\"Accuracy of models for each target\")\n",
        "  \n",
        "plt.xticks(ind+width,['trauma','life_enjoyment','resilience', 'balanced_life', 'emotional_flex', 'self_actualization'], rotation = 90)\n",
        "plt.legend( (bar1, bar2, bar3, bar4, bar5, bar6, bar7), ('kNN', 'SVC', 'Naive Bayes', 'Logistic Regression', 'decision tree', 'AdaBoost Classifier', 'CNN') )\n",
        "plt.show()"
      ],
      "execution_count": 123,
      "outputs": [
        {
          "output_type": "display_data",
          "data": {
            "image/png": "[encoded data removed]",
            "text/plain": [
              "<Figure size 720x360 with 1 Axes>"
            ]
          },
          "metadata": {
            "needs_background": "light"
          }
        }
      ]
    },
    {
      "cell_type": "markdown",
      "metadata": {
        "id": "Rkpbp7wGJdXy"
      },
      "source": [
        "##Regression"
      ]
    },
    {
      "cell_type": "code",
      "metadata": {
        "colab": {
          "base_uri": "https://localhost:8080/",
          "height": 349
        },
        "id": "RRy4Je_cJfTT",
        "outputId": "73de3a8c-5930-4788-fe7b-36690c1a9c24"
      },
      "source": [
        "#total_health\n",
        "\n",
        "import numpy as np\n",
        "import matplotlib.pyplot as plt\n",
        " \n",
        "  \n",
        "# creating the dataset\n",
        "data = {'Regression Tree':47.497, 'Ridge regression':27.596099, 'Lasso regression':27.350788,'Multiple Linear':27.630290, 'SVR':25.731}\n",
        "courses = list(data.keys())\n",
        "values = list(data.values())\n",
        "  \n",
        "fig = plt.figure(figsize = (6, 5))\n",
        " \n",
        "# creating the bar plot\n",
        "plt.bar(courses, values, color ='maroon',\n",
        "        width = 0.4)\n",
        " \n",
        "plt.xlabel(\"Models\")\n",
        "plt.ylabel(\"MSE\")\n",
        "plt.title(\"MSE of models for total health target\")\n",
        "plt.show()"
      ],
      "execution_count": 127,
      "outputs": [
        {
          "output_type": "display_data",
          "data": {
            "image/png": "[encoded data removed]",
            "text/plain": [
              "<Figure size 432x360 with 1 Axes>"
            ]
          },
          "metadata": {
            "needs_background": "light"
          }
        }
      ]
    },
    {
      "cell_type": "code",
      "metadata": {
        "colab": {
          "base_uri": "https://localhost:8080/",
          "height": 349
        },
        "id": "SfiIGWZ7L0uH",
        "outputId": "aa0441a2-8931-4116-fd0f-95edfff306f4"
      },
      "source": [
        "#trauma\n",
        "\n",
        "import numpy as np\n",
        "import matplotlib.pyplot as plt\n",
        " \n",
        "  \n",
        "# creating the dataset\n",
        "data = {'Regression Tree':0.375, 'Ridge regression':0.243, 'Lasso regression':0.235, 'SVR':0.256}\n",
        "courses = list(data.keys())\n",
        "values = list(data.values())\n",
        "  \n",
        "fig = plt.figure(figsize = (6, 5))\n",
        " \n",
        "# creating the bar plot\n",
        "plt.bar(courses, values, color ='green',\n",
        "        width = 0.4)\n",
        " \n",
        "plt.xlabel(\"Models\")\n",
        "plt.ylabel(\"MSE\")\n",
        "plt.title(\"MSE of models for trauma target\")\n",
        "plt.show()"
      ],
      "execution_count": 128,
      "outputs": [
        {
          "output_type": "display_data",
          "data": {
            "image/png": "[encoded data removed]",
            "text/plain": [
              "<Figure size 432x360 with 1 Axes>"
            ]
          },
          "metadata": {
            "needs_background": "light"
          }
        }
      ]
    },
    {
      "cell_type": "code",
      "metadata": {
        "colab": {
          "base_uri": "https://localhost:8080/",
          "height": 427
        },
        "id": "qzHHgs6hNMLM",
        "outputId": "e5913ee5-e457-43ae-d728-693fdc4f9a1d"
      },
      "source": [
        "#health indicators\n",
        "\n",
        "import numpy as np\n",
        "import matplotlib.pyplot as plt\n",
        "  \n",
        "N = 5\n",
        "ind = np.arange(N) \n",
        "width = 0.1\n",
        "\n",
        "reg_tree = [3.282296, 2.895917, 3.389726, 4.287316, 3.472892]\n",
        "SVR = [1.996, 1.599892, 1.978397, 2.647031, 2.275860]\n",
        "multi_lin =[2.082650, 1.811993, 2.044235, 2.721791, 2.212755]\n",
        "Lasso = [2.07202, 1.765242, 2.064397, 2.622074, 2.196535]\n",
        "Ridge = [2.077730, 1.807238, 2.042439, 2.714016, 2.209097]\n",
        "  \n",
        "fig = plt.figure(figsize = (10, 5))\n",
        "\n",
        "bar1 = plt.bar(ind, reg_tree, width)\n",
        "bar2 = plt.bar(ind+width, SVR, width)\n",
        "bar3 = plt.bar(ind+width*2, multi_lin, width)\n",
        "bar4 = plt.bar(ind+width*3, Lasso, width)\n",
        "bar5 = plt.bar(ind+width*4, Ridge, width)\n",
        "\n",
        "\n",
        "plt.xlabel(\"Target\")\n",
        "plt.ylabel('MSE')\n",
        "plt.title(\"MSE of models for each health indicator\")\n",
        "  \n",
        "plt.xticks(ind+width,['life_enjoyment','resilience', 'balanced_life', 'emotional_flex', 'self_actualization'], rotation = 90)\n",
        "plt.legend( (bar1, bar2, bar3, bar4, bar5), ('Regression Tree', 'SVR', 'Multiple Linear', 'Lasso Regression', 'Ridge regression') )\n",
        "plt.show()"
      ],
      "execution_count": 131,
      "outputs": [
        {
          "output_type": "display_data",
          "data": {
            "image/png": "[encoded data removed]",
            "text/plain": [
              "<Figure size 720x360 with 1 Axes>"
            ]
          },
          "metadata": {
            "needs_background": "light"
          }
        }
      ]
    }
  ]
}
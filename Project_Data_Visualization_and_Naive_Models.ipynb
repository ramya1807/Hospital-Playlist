{
  "nbformat": 4,
  "nbformat_minor": 0,
  "metadata": {
    "colab": {
      "name": "Project - Data Visualization and Naive Models.ipynb",
      "provenance": [],
      "collapsed_sections": [],
      "toc_visible": true,
      "authorship_tag": "ABX9TyN/pmPc7+WbgR1YvZoQwWxV"
    },
    "kernelspec": {
      "name": "python3",
      "display_name": "Python 3"
    },
    "language_info": {
      "name": "python"
    }
  },
  "cells": [
    {
      "cell_type": "code",
      "metadata": {
        "id": "Tx6EtPKydUuY"
      },
      "source": [
        "# Suzanne"
      ],
      "execution_count": null,
      "outputs": []
    },
    {
      "cell_type": "markdown",
      "metadata": {
        "id": "sWbIYhURdpor"
      },
      "source": [
        "# Preliminary stuff"
      ]
    },
    {
      "cell_type": "markdown",
      "metadata": {
        "id": "GQ5DfYCmc_cL"
      },
      "source": [
        "## Import Libraries\n",
        "\n",
        "The main libraries used are numpy and pandas for data handling and [scikit learn (sklearn)](https://scikit-learn.org/stable/) for classification models. "
      ]
    },
    {
      "cell_type": "code",
      "metadata": {
        "id": "lKyCdPmei_dK"
      },
      "source": [
        "import matplotlib.pyplot as plt # plotting library\n",
        "import seaborn as sns    # a data visualization library\n",
        "\n",
        "import numpy as np # library for numerical calculations\n",
        "import pandas as pd # library for reading csv files"
      ],
      "execution_count": null,
      "outputs": []
    },
    {
      "cell_type": "markdown",
      "metadata": {
        "id": "AM68jnZWdYf7"
      },
      "source": [
        "## Load data\n",
        "\n",
        "Remember to first load the data into this workspace."
      ]
    },
    {
      "cell_type": "code",
      "metadata": {
        "colab": {
          "base_uri": "https://localhost:8080/",
          "height": 547
        },
        "id": "VgJkL1yedvH3",
        "outputId": "262f8587-6042-483a-8fca-81a72420688f"
      },
      "source": [
        "master = pd.read_csv('master.csv') # loading dataset\n",
        "survey = pd.read_csv('survey.csv')\n",
        "song_metrics = pd.read_csv('song_metrics.csv')\n",
        "songs_only = pd.read_csv('songs_only.csv')\n",
        "\n",
        "# remove NA entries\n",
        "master = master.dropna()\n",
        "\n",
        "master.head() # check if it's loaded correctly"
      ],
      "execution_count": null,
      "outputs": [
        {
          "output_type": "execute_result",
          "data": {
            "text/html": [
              "<div>\n",
              "<style scoped>\n",
              "    .dataframe tbody tr th:only-of-type {\n",
              "        vertical-align: middle;\n",
              "    }\n",
              "\n",
              "    .dataframe tbody tr th {\n",
              "        vertical-align: top;\n",
              "    }\n",
              "\n",
              "    .dataframe thead th {\n",
              "        text-align: right;\n",
              "    }\n",
              "</style>\n",
              "<table border=\"1\" class=\"dataframe\">\n",
              "  <thead>\n",
              "    <tr style=\"text-align: right;\">\n",
              "      <th></th>\n",
              "      <th>timestamp</th>\n",
              "      <th>gender</th>\n",
              "      <th>age</th>\n",
              "      <th>amount_music</th>\n",
              "      <th>life_enjoyment</th>\n",
              "      <th>resilience</th>\n",
              "      <th>balanced_life</th>\n",
              "      <th>emotional_flex</th>\n",
              "      <th>self_actualization</th>\n",
              "      <th>song1</th>\n",
              "      <th>song2</th>\n",
              "      <th>song3</th>\n",
              "      <th>trauma</th>\n",
              "      <th>id</th>\n",
              "      <th>total_health</th>\n",
              "      <th>energy</th>\n",
              "      <th>dance</th>\n",
              "      <th>liveness</th>\n",
              "      <th>valence</th>\n",
              "      <th>tempo</th>\n",
              "      <th>instrumental</th>\n",
              "      <th>acoustic</th>\n",
              "      <th>popularity</th>\n",
              "      <th>health_categorical</th>\n",
              "    </tr>\n",
              "  </thead>\n",
              "  <tbody>\n",
              "    <tr>\n",
              "      <th>0</th>\n",
              "      <td>05/11/2016 14:34:00</td>\n",
              "      <td>Male</td>\n",
              "      <td>18 - 30</td>\n",
              "      <td>1 - 2</td>\n",
              "      <td>4</td>\n",
              "      <td>3</td>\n",
              "      <td>5</td>\n",
              "      <td>3</td>\n",
              "      <td>6</td>\n",
              "      <td>Too Good Drake</td>\n",
              "      <td>Trust Nobody Selena Gomez Tory Lanez Cashmere Cat</td>\n",
              "      <td>Don't Wanna Know Maroon5 Kendrick Lamar</td>\n",
              "      <td>No</td>\n",
              "      <td>0</td>\n",
              "      <td>21</td>\n",
              "      <td>0.6330</td>\n",
              "      <td>0.655000</td>\n",
              "      <td>0.1100</td>\n",
              "      <td>0.5715</td>\n",
              "      <td>98.3680</td>\n",
              "      <td>0.000025</td>\n",
              "      <td>0.281600</td>\n",
              "      <td>71.500000</td>\n",
              "      <td>1.0</td>\n",
              "    </tr>\n",
              "    <tr>\n",
              "      <th>1</th>\n",
              "      <td>05/11/2016 14:45:26</td>\n",
              "      <td>Male</td>\n",
              "      <td>18 - 30</td>\n",
              "      <td>1 - 2</td>\n",
              "      <td>6</td>\n",
              "      <td>6</td>\n",
              "      <td>3</td>\n",
              "      <td>5</td>\n",
              "      <td>5</td>\n",
              "      <td>Put that on my set asap rocky ft skepta</td>\n",
              "      <td>High rhe beach lana del rey</td>\n",
              "      <td>New level asap ferg</td>\n",
              "      <td>No</td>\n",
              "      <td>1</td>\n",
              "      <td>25</td>\n",
              "      <td>0.6550</td>\n",
              "      <td>0.526000</td>\n",
              "      <td>0.1160</td>\n",
              "      <td>0.1560</td>\n",
              "      <td>121.1270</td>\n",
              "      <td>0.000000</td>\n",
              "      <td>0.056600</td>\n",
              "      <td>65.000000</td>\n",
              "      <td>1.0</td>\n",
              "    </tr>\n",
              "    <tr>\n",
              "      <th>2</th>\n",
              "      <td>05/11/2016 14:45:41</td>\n",
              "      <td>Female</td>\n",
              "      <td>18 - 30</td>\n",
              "      <td>0 - 1</td>\n",
              "      <td>5</td>\n",
              "      <td>5</td>\n",
              "      <td>4</td>\n",
              "      <td>4</td>\n",
              "      <td>5</td>\n",
              "      <td>Fireproof Coleman Hell</td>\n",
              "      <td>Love on the Brain Rhianna</td>\n",
              "      <td>This Girl Kungs vs Cookin' on 3 Burners</td>\n",
              "      <td>No</td>\n",
              "      <td>2</td>\n",
              "      <td>23</td>\n",
              "      <td>0.7455</td>\n",
              "      <td>0.742000</td>\n",
              "      <td>0.1835</td>\n",
              "      <td>0.6185</td>\n",
              "      <td>125.0090</td>\n",
              "      <td>0.000023</td>\n",
              "      <td>0.053800</td>\n",
              "      <td>63.500000</td>\n",
              "      <td>1.0</td>\n",
              "    </tr>\n",
              "    <tr>\n",
              "      <th>3</th>\n",
              "      <td>05/11/2016 14:45:55</td>\n",
              "      <td>Male</td>\n",
              "      <td>18 - 30</td>\n",
              "      <td>2+</td>\n",
              "      <td>3</td>\n",
              "      <td>6</td>\n",
              "      <td>5</td>\n",
              "      <td>5</td>\n",
              "      <td>5</td>\n",
              "      <td>Eyes Nose Lips TaeYang</td>\n",
              "      <td>Me Like Yuh Jay Park</td>\n",
              "      <td>Aquaman Jay Park</td>\n",
              "      <td>No</td>\n",
              "      <td>3</td>\n",
              "      <td>24</td>\n",
              "      <td>0.7390</td>\n",
              "      <td>0.681667</td>\n",
              "      <td>0.1489</td>\n",
              "      <td>0.5960</td>\n",
              "      <td>113.5760</td>\n",
              "      <td>0.000001</td>\n",
              "      <td>0.348867</td>\n",
              "      <td>60.333333</td>\n",
              "      <td>1.0</td>\n",
              "    </tr>\n",
              "    <tr>\n",
              "      <th>4</th>\n",
              "      <td>05/11/2016 14:49:15</td>\n",
              "      <td>Female</td>\n",
              "      <td>18 - 30</td>\n",
              "      <td>0 - 1</td>\n",
              "      <td>2</td>\n",
              "      <td>5</td>\n",
              "      <td>2</td>\n",
              "      <td>1</td>\n",
              "      <td>5</td>\n",
              "      <td>Sugar Wanderlust</td>\n",
              "      <td>Blue Jeans Lana Del Ray</td>\n",
              "      <td>Mr. Bright side the killers</td>\n",
              "      <td>Yes</td>\n",
              "      <td>4</td>\n",
              "      <td>15</td>\n",
              "      <td>0.5390</td>\n",
              "      <td>0.513000</td>\n",
              "      <td>0.2155</td>\n",
              "      <td>0.2915</td>\n",
              "      <td>122.4605</td>\n",
              "      <td>0.464350</td>\n",
              "      <td>0.599500</td>\n",
              "      <td>3.000000</td>\n",
              "      <td>0.0</td>\n",
              "    </tr>\n",
              "  </tbody>\n",
              "</table>\n",
              "</div>"
            ],
            "text/plain": [
              "             timestamp  gender  ... popularity health_categorical\n",
              "0  05/11/2016 14:34:00    Male  ...  71.500000                1.0\n",
              "1  05/11/2016 14:45:26    Male  ...  65.000000                1.0\n",
              "2  05/11/2016 14:45:41  Female  ...  63.500000                1.0\n",
              "3  05/11/2016 14:45:55    Male  ...  60.333333                1.0\n",
              "4  05/11/2016 14:49:15  Female  ...   3.000000                0.0\n",
              "\n",
              "[5 rows x 24 columns]"
            ]
          },
          "metadata": {},
          "execution_count": 82
        }
      ]
    },
    {
      "cell_type": "markdown",
      "metadata": {
        "id": "2vmrXWhyiawV"
      },
      "source": [
        "# Data Visualization"
      ]
    },
    {
      "cell_type": "code",
      "metadata": {
        "colab": {
          "base_uri": "https://localhost:8080/",
          "height": 76
        },
        "id": "9CvY846Lxy8R",
        "outputId": "e577425d-9dd9-4a0f-b12b-4cd25e593dc2"
      },
      "source": [
        "# set figure size\n",
        "sns.set(rc={'figure.figsize':(11.7,8.27)})       # holds for all following figures unless changed\n",
        "\n",
        "# set color palette\n",
        "sns.color_palette(\"tab10\")"
      ],
      "execution_count": null,
      "outputs": [
        {
          "output_type": "execute_result",
          "data": {
            "text/html": [
              "<svg  width=\"550\" height=\"55\"><rect x=\"0\" y=\"0\" width=\"55\" height=\"55\" style=\"fill:#1f77b4;stroke-width:2;stroke:rgb(255,255,255)\"/><rect x=\"55\" y=\"0\" width=\"55\" height=\"55\" style=\"fill:#ff7f0e;stroke-width:2;stroke:rgb(255,255,255)\"/><rect x=\"110\" y=\"0\" width=\"55\" height=\"55\" style=\"fill:#2ca02c;stroke-width:2;stroke:rgb(255,255,255)\"/><rect x=\"165\" y=\"0\" width=\"55\" height=\"55\" style=\"fill:#d62728;stroke-width:2;stroke:rgb(255,255,255)\"/><rect x=\"220\" y=\"0\" width=\"55\" height=\"55\" style=\"fill:#9467bd;stroke-width:2;stroke:rgb(255,255,255)\"/><rect x=\"275\" y=\"0\" width=\"55\" height=\"55\" style=\"fill:#8c564b;stroke-width:2;stroke:rgb(255,255,255)\"/><rect x=\"330\" y=\"0\" width=\"55\" height=\"55\" style=\"fill:#e377c2;stroke-width:2;stroke:rgb(255,255,255)\"/><rect x=\"385\" y=\"0\" width=\"55\" height=\"55\" style=\"fill:#7f7f7f;stroke-width:2;stroke:rgb(255,255,255)\"/><rect x=\"440\" y=\"0\" width=\"55\" height=\"55\" style=\"fill:#bcbd22;stroke-width:2;stroke:rgb(255,255,255)\"/><rect x=\"495\" y=\"0\" width=\"55\" height=\"55\" style=\"fill:#17becf;stroke-width:2;stroke:rgb(255,255,255)\"/></svg>"
            ],
            "text/plain": [
              "[(0.12156862745098039, 0.4666666666666667, 0.7058823529411765),\n",
              " (1.0, 0.4980392156862745, 0.054901960784313725),\n",
              " (0.17254901960784313, 0.6274509803921569, 0.17254901960784313),\n",
              " (0.8392156862745098, 0.15294117647058825, 0.1568627450980392),\n",
              " (0.5803921568627451, 0.403921568627451, 0.7411764705882353),\n",
              " (0.5490196078431373, 0.33725490196078434, 0.29411764705882354),\n",
              " (0.8901960784313725, 0.4666666666666667, 0.7607843137254902),\n",
              " (0.4980392156862745, 0.4980392156862745, 0.4980392156862745),\n",
              " (0.7372549019607844, 0.7411764705882353, 0.13333333333333333),\n",
              " (0.09019607843137255, 0.7450980392156863, 0.8117647058823529)]"
            ]
          },
          "metadata": {},
          "execution_count": 83
        }
      ]
    },
    {
      "cell_type": "markdown",
      "metadata": {
        "id": "zovu_9esu00p"
      },
      "source": [
        "## Mental health distribution per trauma"
      ]
    },
    {
      "cell_type": "code",
      "metadata": {
        "colab": {
          "base_uri": "https://localhost:8080/",
          "height": 517
        },
        "id": "Sk7p0BlFu67n",
        "outputId": "a74f2c4f-d64f-4294-d0b7-a05ecf72e0d9"
      },
      "source": [
        "#breakdown by trauma and health\n",
        "sns.countplot(x=\"trauma\", \n",
        "              hue=\"total_health\", \n",
        "              data=master \n",
        "              );"
      ],
      "execution_count": null,
      "outputs": [
        {
          "output_type": "display_data",
          "data": {
            "image/png": "[encoded data removed]",
            "text/plain": [
              "<Figure size 842.4x595.44 with 1 Axes>"
            ]
          },
          "metadata": {}
        }
      ]
    },
    {
      "cell_type": "code",
      "metadata": {
        "colab": {
          "base_uri": "https://localhost:8080/",
          "height": 517
        },
        "id": "F0BnekvwvqQA",
        "outputId": "13f478d9-c8bb-44e3-e118-a72d805f121b"
      },
      "source": [
        "#breakdown by trauma and health\n",
        "sns.countplot(x=\"total_health\", \n",
        "              hue=\"trauma\", \n",
        "              data=master,\n",
        "              palette=\"tab10\" \n",
        "              );"
      ],
      "execution_count": null,
      "outputs": [
        {
          "output_type": "display_data",
          "data": {
            "image/png": "[encoded data removed]",
            "text/plain": [
              "<Figure size 842.4x595.44 with 1 Axes>"
            ]
          },
          "metadata": {}
        }
      ]
    },
    {
      "cell_type": "markdown",
      "metadata": {
        "id": "5pMD1RXsmv1A"
      },
      "source": [
        "## Mental health distribution per gender"
      ]
    },
    {
      "cell_type": "markdown",
      "metadata": {
        "id": "lRESd_ORpvIO"
      },
      "source": [
        "### Health"
      ]
    },
    {
      "cell_type": "code",
      "metadata": {
        "colab": {
          "base_uri": "https://localhost:8080/",
          "height": 517
        },
        "id": "2ei-CDW3rbUK",
        "outputId": "87db11e6-f54c-4fd9-a71f-02e92de09416"
      },
      "source": [
        "#breakdown by gender and health\n",
        "sns.countplot(x=\"total_health\", \n",
        "              hue=\"trauma\", \n",
        "              data=master \n",
        "              );"
      ],
      "execution_count": null,
      "outputs": [
        {
          "output_type": "display_data",
          "data": {
            "image/png": "[encoded data removed]",
            "text/plain": [
              "<Figure size 842.4x595.44 with 1 Axes>"
            ]
          },
          "metadata": {}
        }
      ]
    },
    {
      "cell_type": "code",
      "metadata": {
        "colab": {
          "base_uri": "https://localhost:8080/",
          "height": 517
        },
        "id": "Tm87TPqEltUV",
        "outputId": "387af13e-fe09-4448-d103-fab1aa3c03d6"
      },
      "source": [
        "#breakdown by gender and health category\n",
        "sns.countplot(x=\"gender\", \n",
        "              hue=\"health_categorical\", \n",
        "              data=master,\n",
        "              palette=\"tab10\"\n",
        "              );"
      ],
      "execution_count": null,
      "outputs": [
        {
          "output_type": "display_data",
          "data": {
            "image/png": "[encoded data removed]",
            "text/plain": [
              "<Figure size 842.4x595.44 with 1 Axes>"
            ]
          },
          "metadata": {}
        }
      ]
    },
    {
      "cell_type": "markdown",
      "metadata": {
        "id": "y2hycDW4pzI-"
      },
      "source": [
        "### Life enjoyment"
      ]
    },
    {
      "cell_type": "code",
      "metadata": {
        "colab": {
          "base_uri": "https://localhost:8080/",
          "height": 517
        },
        "id": "xLHXkibbm_tg",
        "outputId": "2be6f5f3-6e88-4098-e004-a83d8c5b94cc"
      },
      "source": [
        "#breakdown by gender and life enjoyment\n",
        "sns.countplot(x=\"gender\", \n",
        "              hue=\"life_enjoyment\", \n",
        "              data=master,\n",
        "              palette=\"tab10\"\n",
        "              );"
      ],
      "execution_count": null,
      "outputs": [
        {
          "output_type": "display_data",
          "data": {
            "image/png": "[encoded data removed]",
            "text/plain": [
              "<Figure size 842.4x595.44 with 1 Axes>"
            ]
          },
          "metadata": {}
        }
      ]
    },
    {
      "cell_type": "markdown",
      "metadata": {
        "id": "uNLu3o8Vp22o"
      },
      "source": [
        "### Resilience"
      ]
    },
    {
      "cell_type": "code",
      "metadata": {
        "colab": {
          "base_uri": "https://localhost:8080/",
          "height": 517
        },
        "id": "66SdqlLzn5yb",
        "outputId": "f4ce8b9a-56fd-413c-8115-c5fc3380d623"
      },
      "source": [
        "#breakdown by gender and resilience\n",
        "sns.countplot(x=\"gender\", \n",
        "              hue=\"resilience\", \n",
        "              data=master,\n",
        "              palette=\"tab10\"\n",
        "              );"
      ],
      "execution_count": null,
      "outputs": [
        {
          "output_type": "display_data",
          "data": {
            "image/png": "[encoded data removed]",
            "text/plain": [
              "<Figure size 842.4x595.44 with 1 Axes>"
            ]
          },
          "metadata": {}
        }
      ]
    },
    {
      "cell_type": "markdown",
      "metadata": {
        "id": "PMkO-VuHp5wz"
      },
      "source": [
        "### Balanced life"
      ]
    },
    {
      "cell_type": "code",
      "metadata": {
        "colab": {
          "base_uri": "https://localhost:8080/",
          "height": 517
        },
        "id": "QulET_vbpc8n",
        "outputId": "ff272920-a15d-413b-f1fd-c166adbef527"
      },
      "source": [
        "#breakdown by gender and balanced life\n",
        "sns.countplot(x=\"gender\", \n",
        "              hue=\"balanced_life\", \n",
        "              data=master,\n",
        "              palette=\"tab10\"\n",
        "              );"
      ],
      "execution_count": null,
      "outputs": [
        {
          "output_type": "display_data",
          "data": {
            "image/png": "[encoded data removed]",
            "text/plain": [
              "<Figure size 842.4x595.44 with 1 Axes>"
            ]
          },
          "metadata": {}
        }
      ]
    },
    {
      "cell_type": "markdown",
      "metadata": {
        "id": "S2g57wfvp9y3"
      },
      "source": [
        "### Emotional flex"
      ]
    },
    {
      "cell_type": "code",
      "metadata": {
        "colab": {
          "base_uri": "https://localhost:8080/",
          "height": 517
        },
        "id": "gwAU8UctqFnL",
        "outputId": "4e7a3225-69c7-4751-e168-7abe20122440"
      },
      "source": [
        "#breakdown by gender and balanced life\n",
        "sns.countplot(x=\"gender\", \n",
        "              hue=\"emotional_flex\", \n",
        "              data=master,\n",
        "              palette=\"tab10\"\n",
        "              );"
      ],
      "execution_count": null,
      "outputs": [
        {
          "output_type": "display_data",
          "data": {
            "image/png": "[encoded data removed]",
            "text/plain": [
              "<Figure size 842.4x595.44 with 1 Axes>"
            ]
          },
          "metadata": {}
        }
      ]
    },
    {
      "cell_type": "markdown",
      "metadata": {
        "id": "Jz5qHcamqDkz"
      },
      "source": [
        "### Self actualization"
      ]
    },
    {
      "cell_type": "code",
      "metadata": {
        "colab": {
          "base_uri": "https://localhost:8080/",
          "height": 517
        },
        "id": "EAJDYgmAqHeQ",
        "outputId": "0b2f7ad5-2a31-49fb-e60b-2387c5276ed1"
      },
      "source": [
        "#breakdown by gender and balanced life\n",
        "sns.countplot(x=\"gender\", \n",
        "              hue=\"self_actualization\", \n",
        "              data=master,\n",
        "              palette=\"tab10\"\n",
        "              );"
      ],
      "execution_count": null,
      "outputs": [
        {
          "output_type": "display_data",
          "data": {
            "image/png": "[encoded data removed]",
            "text/plain": [
              "<Figure size 842.4x595.44 with 1 Axes>"
            ]
          },
          "metadata": {}
        }
      ]
    },
    {
      "cell_type": "markdown",
      "metadata": {
        "id": "1wrnKEJindk5"
      },
      "source": [
        "## Mental health distribution per age group"
      ]
    },
    {
      "cell_type": "markdown",
      "metadata": {
        "id": "IliqinhjqRyl"
      },
      "source": [
        "### Health"
      ]
    },
    {
      "cell_type": "code",
      "metadata": {
        "colab": {
          "base_uri": "https://localhost:8080/",
          "height": 517
        },
        "id": "ASVIFmlum0gt",
        "outputId": "a076395e-b3ed-4abd-9546-f79a87ddb566"
      },
      "source": [
        "#breakdown by age and health\n",
        "sns.countplot(x=\"age\", \n",
        "              hue=\"total_health\", \n",
        "              data=master \n",
        "              );"
      ],
      "execution_count": null,
      "outputs": [
        {
          "output_type": "display_data",
          "data": {
            "image/png": "[encoded data removed]",
            "text/plain": [
              "<Figure size 842.4x595.44 with 1 Axes>"
            ]
          },
          "metadata": {}
        }
      ]
    },
    {
      "cell_type": "code",
      "metadata": {
        "colab": {
          "base_uri": "https://localhost:8080/"
        },
        "id": "FUpKHr2wrS1g",
        "outputId": "c2d531c4-02a2-4073-8588-7e796f6616b1"
      },
      "source": [
        "#breakdown by age and health category\n",
        "sns.countplot(x=\"age\", \n",
        "              hue=\"health_categorical\", \n",
        "              data=master,\n",
        "              palette=\"tab10\" \n",
        "              );"
      ],
      "execution_count": null,
      "outputs": [
        {
          "output_type": "display_data",
          "data": {
            "image/png": "[encoded data removed]",
            "text/plain": [
              "<Figure size 842.4x595.44 with 1 Axes>"
            ]
          },
          "metadata": {}
        }
      ]
    },
    {
      "cell_type": "markdown",
      "metadata": {
        "id": "VjVOqw2pqT0G"
      },
      "source": [
        "### Life enjoyment"
      ]
    },
    {
      "cell_type": "code",
      "metadata": {
        "colab": {
          "base_uri": "https://localhost:8080/"
        },
        "id": "piJDBLjgnPOz",
        "outputId": "f18abd22-9fef-4d98-e14a-1ea0498808d9"
      },
      "source": [
        "#breakdown by age and life enjoyment\n",
        "sns.countplot(x=\"age\", \n",
        "              hue=\"life_enjoyment\", \n",
        "              data=master,\n",
        "              palette=\"tab10\" \n",
        "              );"
      ],
      "execution_count": null,
      "outputs": [
        {
          "output_type": "display_data",
          "data": {
            "image/png": "[encoded data removed]",
            "text/plain": [
              "<Figure size 842.4x595.44 with 1 Axes>"
            ]
          },
          "metadata": {}
        }
      ]
    },
    {
      "cell_type": "markdown",
      "metadata": {
        "id": "aA2wF33IqWnA"
      },
      "source": [
        "### Resilience"
      ]
    },
    {
      "cell_type": "code",
      "metadata": {
        "colab": {
          "base_uri": "https://localhost:8080/"
        },
        "id": "unDioCy_pTXn",
        "outputId": "67456449-9e1b-44c9-b8e2-2df514ffc445"
      },
      "source": [
        "#breakdown by age and resilience\n",
        "sns.countplot(x=\"age\", \n",
        "              hue=\"resilience\", \n",
        "              data=master,\n",
        "              palette=\"tab10\"\n",
        "              );"
      ],
      "execution_count": null,
      "outputs": [
        {
          "output_type": "display_data",
          "data": {
            "image/png": "[encoded data removed]",
            "text/plain": [
              "<Figure size 842.4x595.44 with 1 Axes>"
            ]
          },
          "metadata": {}
        }
      ]
    },
    {
      "cell_type": "markdown",
      "metadata": {
        "id": "eX1e1YkpqY--"
      },
      "source": [
        "### Balanced life"
      ]
    },
    {
      "cell_type": "code",
      "metadata": {
        "colab": {
          "base_uri": "https://localhost:8080/"
        },
        "id": "ArdCBDncpbJ-",
        "outputId": "39053f7a-e986-41c0-d108-b1d7d4a16414"
      },
      "source": [
        "#breakdown by age and balanced life\n",
        "sns.countplot(x=\"age\", \n",
        "              hue=\"balanced_life\", \n",
        "              data=master,\n",
        "              palette=\"tab10\"\n",
        "              );"
      ],
      "execution_count": null,
      "outputs": [
        {
          "output_type": "display_data",
          "data": {
            "image/png": "[encoded data removed]",
            "text/plain": [
              "<Figure size 842.4x595.44 with 1 Axes>"
            ]
          },
          "metadata": {}
        }
      ]
    },
    {
      "cell_type": "markdown",
      "metadata": {
        "id": "ViAxKfsHqbSv"
      },
      "source": [
        "### Emotional flex"
      ]
    },
    {
      "cell_type": "code",
      "metadata": {
        "colab": {
          "base_uri": "https://localhost:8080/"
        },
        "id": "lH_iNPDxqe7C",
        "outputId": "67cdaada-9893-4c3a-f213-2f348f9eab0b"
      },
      "source": [
        "#breakdown by age and balanced life\n",
        "sns.countplot(x=\"age\", \n",
        "              hue=\"emotional_flex\", \n",
        "              data=master,\n",
        "              palette=\"tab10\"\n",
        "              );"
      ],
      "execution_count": null,
      "outputs": [
        {
          "output_type": "display_data",
          "data": {
            "image/png": "[encoded data removed]",
            "text/plain": [
              "<Figure size 842.4x595.44 with 1 Axes>"
            ]
          },
          "metadata": {}
        }
      ]
    },
    {
      "cell_type": "markdown",
      "metadata": {
        "id": "GuFQjzfgqc_M"
      },
      "source": [
        "### Self actualization"
      ]
    },
    {
      "cell_type": "code",
      "metadata": {
        "colab": {
          "base_uri": "https://localhost:8080/",
          "height": 517
        },
        "id": "wvjlqadFqhGN",
        "outputId": "26f0534b-1a25-4708-f2bc-96a7b5144f97"
      },
      "source": [
        "#breakdown by age and self actualization\n",
        "sns.countplot(x=\"age\", \n",
        "              hue=\"self_actualization\", \n",
        "              data=master,\n",
        "              palette=\"tab10\"\n",
        "              );"
      ],
      "execution_count": null,
      "outputs": [
        {
          "output_type": "display_data",
          "data": {
            "image/png": "[encoded data removed]",
            "text/plain": [
              "<Figure size 842.4x595.44 with 1 Axes>"
            ]
          },
          "metadata": {}
        }
      ]
    },
    {
      "cell_type": "markdown",
      "metadata": {
        "id": "zIe-wkGRsM8e"
      },
      "source": [
        "## Music qualities and mental health"
      ]
    },
    {
      "cell_type": "markdown",
      "metadata": {
        "id": "b2O93GBJw9kO"
      },
      "source": [
        "### Life enjoyment and music energy (per gender)"
      ]
    },
    {
      "cell_type": "code",
      "metadata": {
        "colab": {
          "base_uri": "https://localhost:8080/"
        },
        "id": "BPHcUf85vjyS",
        "outputId": "99c8fa13-f1c3-45f2-e520-fd4031bda90d"
      },
      "source": [
        "sns.scatterplot(x='energy', \n",
        "           y='life_enjoyment', \n",
        "           data=master, \n",
        "           hue='gender',\n",
        "           s=20,\n",
        "           palette=\"bright\"\n",
        "           )"
      ],
      "execution_count": null,
      "outputs": [
        {
          "output_type": "execute_result",
          "data": {
            "text/plain": [
              "<matplotlib.axes._subplots.AxesSubplot at 0x7fb9886d6210>"
            ]
          },
          "metadata": {},
          "execution_count": 100
        },
        {
          "output_type": "display_data",
          "data": {
            "image/png": "[encoded data removed]",
            "text/plain": [
              "<Figure size 842.4x595.44 with 1 Axes>"
            ]
          },
          "metadata": {}
        }
      ]
    },
    {
      "cell_type": "markdown",
      "metadata": {
        "id": "8USQVLKB0Pjs"
      },
      "source": [
        "# Models"
      ]
    },
    {
      "cell_type": "markdown",
      "metadata": {
        "id": "zzxxVZslrNXH"
      },
      "source": [
        "## Preprocess data"
      ]
    },
    {
      "cell_type": "markdown",
      "metadata": {
        "id": "qYrY2XeIsxJX"
      },
      "source": [
        "Remove unwanted columns and convert categorical variables to processable forms."
      ]
    },
    {
      "cell_type": "code",
      "metadata": {
        "colab": {
          "base_uri": "https://localhost:8080/"
        },
        "id": "oNV2P9aAuFS9",
        "outputId": "0526ec91-066a-44e4-ad66-b43501c5f0d1"
      },
      "source": [
        "# Remove unneeded columns\n",
        "data = master.drop(columns=['timestamp', 'song1', 'song2', 'song3', 'id'])\n",
        "data.head()\n"
      ],
      "execution_count": null,
      "outputs": [
        {
          "output_type": "execute_result",
          "data": {
            "text/html": [
              "<div>\n",
              "<style scoped>\n",
              "    .dataframe tbody tr th:only-of-type {\n",
              "        vertical-align: middle;\n",
              "    }\n",
              "\n",
              "    .dataframe tbody tr th {\n",
              "        vertical-align: top;\n",
              "    }\n",
              "\n",
              "    .dataframe thead th {\n",
              "        text-align: right;\n",
              "    }\n",
              "</style>\n",
              "<table border=\"1\" class=\"dataframe\">\n",
              "  <thead>\n",
              "    <tr style=\"text-align: right;\">\n",
              "      <th></th>\n",
              "      <th>gender</th>\n",
              "      <th>age</th>\n",
              "      <th>amount_music</th>\n",
              "      <th>life_enjoyment</th>\n",
              "      <th>resilience</th>\n",
              "      <th>balanced_life</th>\n",
              "      <th>emotional_flex</th>\n",
              "      <th>self_actualization</th>\n",
              "      <th>trauma</th>\n",
              "      <th>total_health</th>\n",
              "      <th>energy</th>\n",
              "      <th>dance</th>\n",
              "      <th>liveness</th>\n",
              "      <th>valence</th>\n",
              "      <th>tempo</th>\n",
              "      <th>instrumental</th>\n",
              "      <th>acoustic</th>\n",
              "      <th>popularity</th>\n",
              "      <th>health_categorical</th>\n",
              "    </tr>\n",
              "  </thead>\n",
              "  <tbody>\n",
              "    <tr>\n",
              "      <th>0</th>\n",
              "      <td>Male</td>\n",
              "      <td>18 - 30</td>\n",
              "      <td>1 - 2</td>\n",
              "      <td>4</td>\n",
              "      <td>3</td>\n",
              "      <td>5</td>\n",
              "      <td>3</td>\n",
              "      <td>6</td>\n",
              "      <td>No</td>\n",
              "      <td>21</td>\n",
              "      <td>0.6330</td>\n",
              "      <td>0.655000</td>\n",
              "      <td>0.1100</td>\n",
              "      <td>0.5715</td>\n",
              "      <td>98.3680</td>\n",
              "      <td>0.000025</td>\n",
              "      <td>0.281600</td>\n",
              "      <td>71.500000</td>\n",
              "      <td>1.0</td>\n",
              "    </tr>\n",
              "    <tr>\n",
              "      <th>1</th>\n",
              "      <td>Male</td>\n",
              "      <td>18 - 30</td>\n",
              "      <td>1 - 2</td>\n",
              "      <td>6</td>\n",
              "      <td>6</td>\n",
              "      <td>3</td>\n",
              "      <td>5</td>\n",
              "      <td>5</td>\n",
              "      <td>No</td>\n",
              "      <td>25</td>\n",
              "      <td>0.6550</td>\n",
              "      <td>0.526000</td>\n",
              "      <td>0.1160</td>\n",
              "      <td>0.1560</td>\n",
              "      <td>121.1270</td>\n",
              "      <td>0.000000</td>\n",
              "      <td>0.056600</td>\n",
              "      <td>65.000000</td>\n",
              "      <td>1.0</td>\n",
              "    </tr>\n",
              "    <tr>\n",
              "      <th>2</th>\n",
              "      <td>Female</td>\n",
              "      <td>18 - 30</td>\n",
              "      <td>0 - 1</td>\n",
              "      <td>5</td>\n",
              "      <td>5</td>\n",
              "      <td>4</td>\n",
              "      <td>4</td>\n",
              "      <td>5</td>\n",
              "      <td>No</td>\n",
              "      <td>23</td>\n",
              "      <td>0.7455</td>\n",
              "      <td>0.742000</td>\n",
              "      <td>0.1835</td>\n",
              "      <td>0.6185</td>\n",
              "      <td>125.0090</td>\n",
              "      <td>0.000023</td>\n",
              "      <td>0.053800</td>\n",
              "      <td>63.500000</td>\n",
              "      <td>1.0</td>\n",
              "    </tr>\n",
              "    <tr>\n",
              "      <th>3</th>\n",
              "      <td>Male</td>\n",
              "      <td>18 - 30</td>\n",
              "      <td>2+</td>\n",
              "      <td>3</td>\n",
              "      <td>6</td>\n",
              "      <td>5</td>\n",
              "      <td>5</td>\n",
              "      <td>5</td>\n",
              "      <td>No</td>\n",
              "      <td>24</td>\n",
              "      <td>0.7390</td>\n",
              "      <td>0.681667</td>\n",
              "      <td>0.1489</td>\n",
              "      <td>0.5960</td>\n",
              "      <td>113.5760</td>\n",
              "      <td>0.000001</td>\n",
              "      <td>0.348867</td>\n",
              "      <td>60.333333</td>\n",
              "      <td>1.0</td>\n",
              "    </tr>\n",
              "    <tr>\n",
              "      <th>4</th>\n",
              "      <td>Female</td>\n",
              "      <td>18 - 30</td>\n",
              "      <td>0 - 1</td>\n",
              "      <td>2</td>\n",
              "      <td>5</td>\n",
              "      <td>2</td>\n",
              "      <td>1</td>\n",
              "      <td>5</td>\n",
              "      <td>Yes</td>\n",
              "      <td>15</td>\n",
              "      <td>0.5390</td>\n",
              "      <td>0.513000</td>\n",
              "      <td>0.2155</td>\n",
              "      <td>0.2915</td>\n",
              "      <td>122.4605</td>\n",
              "      <td>0.464350</td>\n",
              "      <td>0.599500</td>\n",
              "      <td>3.000000</td>\n",
              "      <td>0.0</td>\n",
              "    </tr>\n",
              "  </tbody>\n",
              "</table>\n",
              "</div>"
            ],
            "text/plain": [
              "   gender      age amount_music  ...  acoustic  popularity  health_categorical\n",
              "0    Male  18 - 30        1 - 2  ...  0.281600   71.500000                 1.0\n",
              "1    Male  18 - 30        1 - 2  ...  0.056600   65.000000                 1.0\n",
              "2  Female  18 - 30        0 - 1  ...  0.053800   63.500000                 1.0\n",
              "3    Male  18 - 30           2+  ...  0.348867   60.333333                 1.0\n",
              "4  Female  18 - 30        0 - 1  ...  0.599500    3.000000                 0.0\n",
              "\n",
              "[5 rows x 19 columns]"
            ]
          },
          "metadata": {},
          "execution_count": 101
        }
      ]
    },
    {
      "cell_type": "code",
      "metadata": {
        "colab": {
          "base_uri": "https://localhost:8080/"
        },
        "id": "2t8rbuHHveOP",
        "outputId": "7cbf720f-5615-4a64-9cf0-82188b934473"
      },
      "source": [
        "# Check data types\n",
        "data.dtypes\n",
        "\n",
        "# Need to change object types to integers"
      ],
      "execution_count": null,
      "outputs": [
        {
          "output_type": "execute_result",
          "data": {
            "text/plain": [
              "gender                 object\n",
              "age                    object\n",
              "amount_music           object\n",
              "life_enjoyment          int64\n",
              "resilience              int64\n",
              "balanced_life           int64\n",
              "emotional_flex          int64\n",
              "self_actualization      int64\n",
              "trauma                 object\n",
              "total_health            int64\n",
              "energy                float64\n",
              "dance                 float64\n",
              "liveness              float64\n",
              "valence               float64\n",
              "tempo                 float64\n",
              "instrumental          float64\n",
              "acoustic              float64\n",
              "popularity            float64\n",
              "health_categorical    float64\n",
              "dtype: object"
            ]
          },
          "metadata": {},
          "execution_count": 102
        }
      ]
    },
    {
      "cell_type": "code",
      "metadata": {
        "colab": {
          "base_uri": "https://localhost:8080/"
        },
        "id": "l122IFbBswpa",
        "outputId": "78bad922-fd5b-4967-a65b-2f1792e4a767"
      },
      "source": [
        "# convert the data type for categorical variables\n",
        "cat_data = ['gender', 'age', 'amount_music', 'trauma']\n",
        "\n",
        "for i in cat_data:\n",
        "    data[i] = pd.Categorical(data[i]);\n",
        "    data[i] = data[i].cat.codes\n",
        "\n",
        "data.dtypes"
      ],
      "execution_count": null,
      "outputs": [
        {
          "output_type": "execute_result",
          "data": {
            "text/plain": [
              "gender                   int8\n",
              "age                      int8\n",
              "amount_music             int8\n",
              "life_enjoyment          int64\n",
              "resilience              int64\n",
              "balanced_life           int64\n",
              "emotional_flex          int64\n",
              "self_actualization      int64\n",
              "trauma                   int8\n",
              "total_health            int64\n",
              "energy                float64\n",
              "dance                 float64\n",
              "liveness              float64\n",
              "valence               float64\n",
              "tempo                 float64\n",
              "instrumental          float64\n",
              "acoustic              float64\n",
              "popularity            float64\n",
              "health_categorical    float64\n",
              "dtype: object"
            ]
          },
          "metadata": {},
          "execution_count": 103
        }
      ]
    },
    {
      "cell_type": "code",
      "metadata": {
        "colab": {
          "base_uri": "https://localhost:8080/"
        },
        "id": "GOR_IHS8ULVA",
        "outputId": "8c77e810-255e-40c7-dec7-7feb11e93113"
      },
      "source": [
        "data.head()"
      ],
      "execution_count": null,
      "outputs": [
        {
          "output_type": "execute_result",
          "data": {
            "text/html": [
              "<div>\n",
              "<style scoped>\n",
              "    .dataframe tbody tr th:only-of-type {\n",
              "        vertical-align: middle;\n",
              "    }\n",
              "\n",
              "    .dataframe tbody tr th {\n",
              "        vertical-align: top;\n",
              "    }\n",
              "\n",
              "    .dataframe thead th {\n",
              "        text-align: right;\n",
              "    }\n",
              "</style>\n",
              "<table border=\"1\" class=\"dataframe\">\n",
              "  <thead>\n",
              "    <tr style=\"text-align: right;\">\n",
              "      <th></th>\n",
              "      <th>gender</th>\n",
              "      <th>age</th>\n",
              "      <th>amount_music</th>\n",
              "      <th>life_enjoyment</th>\n",
              "      <th>resilience</th>\n",
              "      <th>balanced_life</th>\n",
              "      <th>emotional_flex</th>\n",
              "      <th>self_actualization</th>\n",
              "      <th>trauma</th>\n",
              "      <th>total_health</th>\n",
              "      <th>energy</th>\n",
              "      <th>dance</th>\n",
              "      <th>liveness</th>\n",
              "      <th>valence</th>\n",
              "      <th>tempo</th>\n",
              "      <th>instrumental</th>\n",
              "      <th>acoustic</th>\n",
              "      <th>popularity</th>\n",
              "      <th>health_categorical</th>\n",
              "    </tr>\n",
              "  </thead>\n",
              "  <tbody>\n",
              "    <tr>\n",
              "      <th>0</th>\n",
              "      <td>1</td>\n",
              "      <td>1</td>\n",
              "      <td>1</td>\n",
              "      <td>4</td>\n",
              "      <td>3</td>\n",
              "      <td>5</td>\n",
              "      <td>3</td>\n",
              "      <td>6</td>\n",
              "      <td>0</td>\n",
              "      <td>21</td>\n",
              "      <td>0.6330</td>\n",
              "      <td>0.655000</td>\n",
              "      <td>0.1100</td>\n",
              "      <td>0.5715</td>\n",
              "      <td>98.3680</td>\n",
              "      <td>0.000025</td>\n",
              "      <td>0.281600</td>\n",
              "      <td>71.500000</td>\n",
              "      <td>1.0</td>\n",
              "    </tr>\n",
              "    <tr>\n",
              "      <th>1</th>\n",
              "      <td>1</td>\n",
              "      <td>1</td>\n",
              "      <td>1</td>\n",
              "      <td>6</td>\n",
              "      <td>6</td>\n",
              "      <td>3</td>\n",
              "      <td>5</td>\n",
              "      <td>5</td>\n",
              "      <td>0</td>\n",
              "      <td>25</td>\n",
              "      <td>0.6550</td>\n",
              "      <td>0.526000</td>\n",
              "      <td>0.1160</td>\n",
              "      <td>0.1560</td>\n",
              "      <td>121.1270</td>\n",
              "      <td>0.000000</td>\n",
              "      <td>0.056600</td>\n",
              "      <td>65.000000</td>\n",
              "      <td>1.0</td>\n",
              "    </tr>\n",
              "    <tr>\n",
              "      <th>2</th>\n",
              "      <td>0</td>\n",
              "      <td>1</td>\n",
              "      <td>0</td>\n",
              "      <td>5</td>\n",
              "      <td>5</td>\n",
              "      <td>4</td>\n",
              "      <td>4</td>\n",
              "      <td>5</td>\n",
              "      <td>0</td>\n",
              "      <td>23</td>\n",
              "      <td>0.7455</td>\n",
              "      <td>0.742000</td>\n",
              "      <td>0.1835</td>\n",
              "      <td>0.6185</td>\n",
              "      <td>125.0090</td>\n",
              "      <td>0.000023</td>\n",
              "      <td>0.053800</td>\n",
              "      <td>63.500000</td>\n",
              "      <td>1.0</td>\n",
              "    </tr>\n",
              "    <tr>\n",
              "      <th>3</th>\n",
              "      <td>1</td>\n",
              "      <td>1</td>\n",
              "      <td>2</td>\n",
              "      <td>3</td>\n",
              "      <td>6</td>\n",
              "      <td>5</td>\n",
              "      <td>5</td>\n",
              "      <td>5</td>\n",
              "      <td>0</td>\n",
              "      <td>24</td>\n",
              "      <td>0.7390</td>\n",
              "      <td>0.681667</td>\n",
              "      <td>0.1489</td>\n",
              "      <td>0.5960</td>\n",
              "      <td>113.5760</td>\n",
              "      <td>0.000001</td>\n",
              "      <td>0.348867</td>\n",
              "      <td>60.333333</td>\n",
              "      <td>1.0</td>\n",
              "    </tr>\n",
              "    <tr>\n",
              "      <th>4</th>\n",
              "      <td>0</td>\n",
              "      <td>1</td>\n",
              "      <td>0</td>\n",
              "      <td>2</td>\n",
              "      <td>5</td>\n",
              "      <td>2</td>\n",
              "      <td>1</td>\n",
              "      <td>5</td>\n",
              "      <td>1</td>\n",
              "      <td>15</td>\n",
              "      <td>0.5390</td>\n",
              "      <td>0.513000</td>\n",
              "      <td>0.2155</td>\n",
              "      <td>0.2915</td>\n",
              "      <td>122.4605</td>\n",
              "      <td>0.464350</td>\n",
              "      <td>0.599500</td>\n",
              "      <td>3.000000</td>\n",
              "      <td>0.0</td>\n",
              "    </tr>\n",
              "  </tbody>\n",
              "</table>\n",
              "</div>"
            ],
            "text/plain": [
              "   gender  age  amount_music  ...  acoustic  popularity  health_categorical\n",
              "0       1    1             1  ...  0.281600   71.500000                 1.0\n",
              "1       1    1             1  ...  0.056600   65.000000                 1.0\n",
              "2       0    1             0  ...  0.053800   63.500000                 1.0\n",
              "3       1    1             2  ...  0.348867   60.333333                 1.0\n",
              "4       0    1             0  ...  0.599500    3.000000                 0.0\n",
              "\n",
              "[5 rows x 19 columns]"
            ]
          },
          "metadata": {},
          "execution_count": 104
        }
      ]
    },
    {
      "cell_type": "markdown",
      "metadata": {
        "id": "suJ5aT0LEnAq"
      },
      "source": [
        "## Functions for model evaluation"
      ]
    },
    {
      "cell_type": "code",
      "metadata": {
        "id": "Rj4aLTrDEl8V"
      },
      "source": [
        "# function to evaluate binary model\n",
        "\n",
        "from sklearn.metrics import classification_report, confusion_matrix\n",
        "from sklearn.metrics import roc_curve, roc_auc_score\n",
        "\n",
        "def evaluate_binary_model(y_test, y_pred):\n",
        "  # Calculate AUC\n",
        "  print(\"AUC is: \", roc_auc_score(y_test, y_pred))\n",
        "  \n",
        "  # print out recall and precision\n",
        "  print(classification_report(y_test, y_pred))\n",
        "  \n",
        "  # print out confusion matrix\n",
        "  print(\"Confusion Matrix: \\n\", confusion_matrix(y_test, y_pred))\n",
        "\n",
        "  # # calculate points for ROC curve\n",
        "  fpr, tpr, thresholds = roc_curve(y_test, y_pred)\n",
        "  \n",
        "  # Plot ROC curve\n",
        "  plt.plot(fpr, tpr, label='ROC curve (area = %0.3f)' % roc_auc_score(y_test, y_pred))\n",
        "  plt.plot([0, 1], [0, 1], 'k--')  # random predictions curve\n",
        "  plt.xlim([0.0, 1.0])\n",
        "  plt.ylim([0.0, 1.0])\n",
        "  plt.xlabel('False Positive Rate or (1 - Specifity)')\n",
        "  plt.ylabel('True Positive Rate or (Sensitivity)')\n",
        "  plt.title('Receiver Operating Characteristic')"
      ],
      "execution_count": null,
      "outputs": []
    },
    {
      "cell_type": "code",
      "metadata": {
        "id": "xLbZL_V-ErmA"
      },
      "source": [
        "# function to evaluate multiclass model\n",
        "## no AUC and ROC\n",
        "from sklearn.metrics import classification_report, confusion_matrix\n",
        "\n",
        "def evaluate_multiclass_model(y_test, y_pred):\n",
        "  \n",
        "  # print out recall and precision\n",
        "  print(classification_report(y_test, y_pred))\n",
        "  \n",
        "  # print out confusion matrix\n",
        "  print(\"Confusion Matrix: \\n\", confusion_matrix(y_test, y_pred))"
      ],
      "execution_count": null,
      "outputs": []
    },
    {
      "cell_type": "markdown",
      "metadata": {
        "id": "MlI4nigi0SyG"
      },
      "source": [
        "## Predict total health with non-health variables"
      ]
    },
    {
      "cell_type": "code",
      "metadata": {
        "id": "n4ZRXRVLAllP",
        "colab": {
          "base_uri": "https://localhost:8080/"
        },
        "outputId": "1988c43a-0d09-444e-95e3-a5c0446f5b22"
      },
      "source": [
        "data.head()"
      ],
      "execution_count": null,
      "outputs": [
        {
          "output_type": "execute_result",
          "data": {
            "text/html": [
              "<div>\n",
              "<style scoped>\n",
              "    .dataframe tbody tr th:only-of-type {\n",
              "        vertical-align: middle;\n",
              "    }\n",
              "\n",
              "    .dataframe tbody tr th {\n",
              "        vertical-align: top;\n",
              "    }\n",
              "\n",
              "    .dataframe thead th {\n",
              "        text-align: right;\n",
              "    }\n",
              "</style>\n",
              "<table border=\"1\" class=\"dataframe\">\n",
              "  <thead>\n",
              "    <tr style=\"text-align: right;\">\n",
              "      <th></th>\n",
              "      <th>gender</th>\n",
              "      <th>age</th>\n",
              "      <th>amount_music</th>\n",
              "      <th>life_enjoyment</th>\n",
              "      <th>resilience</th>\n",
              "      <th>balanced_life</th>\n",
              "      <th>emotional_flex</th>\n",
              "      <th>self_actualization</th>\n",
              "      <th>trauma</th>\n",
              "      <th>total_health</th>\n",
              "      <th>energy</th>\n",
              "      <th>dance</th>\n",
              "      <th>liveness</th>\n",
              "      <th>valence</th>\n",
              "      <th>tempo</th>\n",
              "      <th>instrumental</th>\n",
              "      <th>acoustic</th>\n",
              "      <th>popularity</th>\n",
              "      <th>health_categorical</th>\n",
              "    </tr>\n",
              "  </thead>\n",
              "  <tbody>\n",
              "    <tr>\n",
              "      <th>0</th>\n",
              "      <td>1</td>\n",
              "      <td>1</td>\n",
              "      <td>1</td>\n",
              "      <td>4</td>\n",
              "      <td>3</td>\n",
              "      <td>5</td>\n",
              "      <td>3</td>\n",
              "      <td>6</td>\n",
              "      <td>0</td>\n",
              "      <td>21</td>\n",
              "      <td>0.6330</td>\n",
              "      <td>0.655000</td>\n",
              "      <td>0.1100</td>\n",
              "      <td>0.5715</td>\n",
              "      <td>98.3680</td>\n",
              "      <td>0.000025</td>\n",
              "      <td>0.281600</td>\n",
              "      <td>71.500000</td>\n",
              "      <td>1.0</td>\n",
              "    </tr>\n",
              "    <tr>\n",
              "      <th>1</th>\n",
              "      <td>1</td>\n",
              "      <td>1</td>\n",
              "      <td>1</td>\n",
              "      <td>6</td>\n",
              "      <td>6</td>\n",
              "      <td>3</td>\n",
              "      <td>5</td>\n",
              "      <td>5</td>\n",
              "      <td>0</td>\n",
              "      <td>25</td>\n",
              "      <td>0.6550</td>\n",
              "      <td>0.526000</td>\n",
              "      <td>0.1160</td>\n",
              "      <td>0.1560</td>\n",
              "      <td>121.1270</td>\n",
              "      <td>0.000000</td>\n",
              "      <td>0.056600</td>\n",
              "      <td>65.000000</td>\n",
              "      <td>1.0</td>\n",
              "    </tr>\n",
              "    <tr>\n",
              "      <th>2</th>\n",
              "      <td>0</td>\n",
              "      <td>1</td>\n",
              "      <td>0</td>\n",
              "      <td>5</td>\n",
              "      <td>5</td>\n",
              "      <td>4</td>\n",
              "      <td>4</td>\n",
              "      <td>5</td>\n",
              "      <td>0</td>\n",
              "      <td>23</td>\n",
              "      <td>0.7455</td>\n",
              "      <td>0.742000</td>\n",
              "      <td>0.1835</td>\n",
              "      <td>0.6185</td>\n",
              "      <td>125.0090</td>\n",
              "      <td>0.000023</td>\n",
              "      <td>0.053800</td>\n",
              "      <td>63.500000</td>\n",
              "      <td>1.0</td>\n",
              "    </tr>\n",
              "    <tr>\n",
              "      <th>3</th>\n",
              "      <td>1</td>\n",
              "      <td>1</td>\n",
              "      <td>2</td>\n",
              "      <td>3</td>\n",
              "      <td>6</td>\n",
              "      <td>5</td>\n",
              "      <td>5</td>\n",
              "      <td>5</td>\n",
              "      <td>0</td>\n",
              "      <td>24</td>\n",
              "      <td>0.7390</td>\n",
              "      <td>0.681667</td>\n",
              "      <td>0.1489</td>\n",
              "      <td>0.5960</td>\n",
              "      <td>113.5760</td>\n",
              "      <td>0.000001</td>\n",
              "      <td>0.348867</td>\n",
              "      <td>60.333333</td>\n",
              "      <td>1.0</td>\n",
              "    </tr>\n",
              "    <tr>\n",
              "      <th>4</th>\n",
              "      <td>0</td>\n",
              "      <td>1</td>\n",
              "      <td>0</td>\n",
              "      <td>2</td>\n",
              "      <td>5</td>\n",
              "      <td>2</td>\n",
              "      <td>1</td>\n",
              "      <td>5</td>\n",
              "      <td>1</td>\n",
              "      <td>15</td>\n",
              "      <td>0.5390</td>\n",
              "      <td>0.513000</td>\n",
              "      <td>0.2155</td>\n",
              "      <td>0.2915</td>\n",
              "      <td>122.4605</td>\n",
              "      <td>0.464350</td>\n",
              "      <td>0.599500</td>\n",
              "      <td>3.000000</td>\n",
              "      <td>0.0</td>\n",
              "    </tr>\n",
              "  </tbody>\n",
              "</table>\n",
              "</div>"
            ],
            "text/plain": [
              "   gender  age  amount_music  ...  acoustic  popularity  health_categorical\n",
              "0       1    1             1  ...  0.281600   71.500000                 1.0\n",
              "1       1    1             1  ...  0.056600   65.000000                 1.0\n",
              "2       0    1             0  ...  0.053800   63.500000                 1.0\n",
              "3       1    1             2  ...  0.348867   60.333333                 1.0\n",
              "4       0    1             0  ...  0.599500    3.000000                 0.0\n",
              "\n",
              "[5 rows x 19 columns]"
            ]
          },
          "metadata": {},
          "execution_count": 107
        }
      ]
    },
    {
      "cell_type": "markdown",
      "metadata": {
        "id": "ZrJR85LqF7P3"
      },
      "source": [
        "Drop unwanted variables."
      ]
    },
    {
      "cell_type": "code",
      "metadata": {
        "id": "L9-lc-nmF65L"
      },
      "source": [
        "# exclude the indicators of mental health\n",
        "to_exclude = ['health_categorical', \n",
        "              'life_enjoyment', \n",
        "              'resilience', \n",
        "              'balanced_life', \n",
        "              'emotional_flex', \n",
        "              'self_actualization']\n",
        "\n",
        "data_1 = data.drop(columns=to_exclude)     # data_1 is the dataframe we'll use to build the model"
      ],
      "execution_count": null,
      "outputs": []
    },
    {
      "cell_type": "markdown",
      "metadata": {
        "id": "DxKKJEa7r9jq"
      },
      "source": [
        "Split data into training and test set."
      ]
    },
    {
      "cell_type": "code",
      "metadata": {
        "id": "aKnAQRLtrMr1"
      },
      "source": [
        "# Split data\n",
        "\n",
        "from sklearn.model_selection import train_test_split\n",
        "# data = pd.get_dummies(data, drop_first=True)\n",
        "# We split the data up into a test set and a training set, 30 - 70 %\n",
        "# train_test_split\n",
        "# First argument: x data is all data without class column\n",
        "# Second argument:  this is the class label column\n",
        "# Random state = 0: ensures the train and test splitting is deterministic. \n",
        "#Otherwise every student would get a different train test split.\n",
        "X_train, X_test, y_train, y_test = train_test_split(data_1.drop('total_health',1),    # X data\n",
        "                                                    data_1['total_health'],           # y\n",
        "                                                    test_size=0.3,\n",
        "                                                    random_state=0) "
      ],
      "execution_count": null,
      "outputs": []
    },
    {
      "cell_type": "markdown",
      "metadata": {
        "id": "zy476sJHsCkE"
      },
      "source": [
        "Normalize the data."
      ]
    },
    {
      "cell_type": "code",
      "metadata": {
        "id": "58e5YCrkreUd"
      },
      "source": [
        "# Normalize data\n",
        "\n",
        "from sklearn.preprocessing import MinMaxScaler\n",
        "\n",
        "# define a new scaler: \n",
        "x_scaler = MinMaxScaler()\n",
        "\n",
        "# fit the normalization on the training set: \n",
        "x_scaler.fit(X_train)      # .fit computes the min and max to be used for later scaling\n",
        "\n",
        "# then create new and normalized training/test sets: \n",
        "X_train_norm = x_scaler.transform(X_train)        \n",
        "X_test_norm = x_scaler.transform(X_test)\n",
        "#.transform scales features of X according to the feature range\n",
        "\n",
        "# alternatively, you can use .fit_transform(___) to fit the data and transform it"
      ],
      "execution_count": null,
      "outputs": []
    },
    {
      "cell_type": "markdown",
      "metadata": {
        "id": "Z4vNH0yKDv16"
      },
      "source": [
        "### Logistic Regression (acc = 0.04)"
      ]
    },
    {
      "cell_type": "code",
      "metadata": {
        "colab": {
          "base_uri": "https://localhost:8080/"
        },
        "id": "C0_wS9o2Diqt",
        "outputId": "36825ca2-f22d-406a-c22c-0f4e97bb1b83"
      },
      "source": [
        "# Logistic Regression\n",
        "from sklearn.linear_model import LogisticRegression\n",
        "\n",
        "model = LogisticRegression(C=1.0, multi_class='auto', solver='lbfgs')\n",
        "model.fit(X_train_norm, y_train)\n",
        "\n",
        "y_pred = model.predict(X_test_norm)  # Predict\n",
        "print (y_pred)\n",
        "evaluate_multiclass_model(y_test, y_pred)   # Evaluate"
      ],
      "execution_count": null,
      "outputs": [
        {
          "output_type": "stream",
          "name": "stdout",
          "text": [
            "[21 23 20 23 23 21 17 20 17 23 17 23 19 23 21 21 19 20 23 19 23 20 20 14\n",
            " 14 21 23 23 20 20 20 19 19 20 16 23 17 23 21 19 17 23 21 20 23 23 23 23\n",
            " 23 21 19 17 20 23 19 23 23 20 20 23 23 21 20 23 17 23 20 19 23]\n",
            "              precision    recall  f1-score   support\n",
            "\n",
            "           8       0.00      0.00      0.00         1\n",
            "           9       0.00      0.00      0.00         3\n",
            "          10       0.00      0.00      0.00         1\n",
            "          11       0.00      0.00      0.00         1\n",
            "          12       0.00      0.00      0.00         2\n",
            "          13       0.00      0.00      0.00         2\n",
            "          14       0.00      0.00      0.00         4\n",
            "          15       0.00      0.00      0.00         5\n",
            "          16       0.00      0.00      0.00         5\n",
            "          17       0.14      0.25      0.18         4\n",
            "          18       0.00      0.00      0.00         4\n",
            "          19       0.00      0.00      0.00         5\n",
            "          20       0.00      0.00      0.00         4\n",
            "          21       0.11      0.17      0.13         6\n",
            "          22       0.00      0.00      0.00         4\n",
            "          23       0.04      0.25      0.07         4\n",
            "          24       0.00      0.00      0.00         3\n",
            "          25       0.00      0.00      0.00         2\n",
            "          26       0.00      0.00      0.00         3\n",
            "          27       0.00      0.00      0.00         3\n",
            "          29       0.00      0.00      0.00         2\n",
            "          30       0.00      0.00      0.00         1\n",
            "\n",
            "    accuracy                           0.04        69\n",
            "   macro avg       0.01      0.03      0.02        69\n",
            "weighted avg       0.02      0.04      0.03        69\n",
            "\n",
            "Confusion Matrix: \n",
            " [[0 0 0 0 0 0 0 0 0 0 0 0 1 0 0 0 0 0 0 0 0 0]\n",
            " [0 0 0 0 0 0 0 0 0 0 0 0 0 1 0 2 0 0 0 0 0 0]\n",
            " [0 0 0 0 0 0 0 0 0 1 0 0 0 0 0 0 0 0 0 0 0 0]\n",
            " [0 0 0 0 0 0 0 0 0 0 0 0 1 0 0 0 0 0 0 0 0 0]\n",
            " [0 0 0 0 0 0 0 0 0 0 0 0 0 1 0 1 0 0 0 0 0 0]\n",
            " [0 0 0 0 0 0 0 0 0 0 0 1 0 0 0 1 0 0 0 0 0 0]\n",
            " [0 0 0 0 0 0 0 0 0 0 0 4 0 0 0 0 0 0 0 0 0 0]\n",
            " [0 0 0 0 0 0 0 0 0 1 0 0 2 0 0 2 0 0 0 0 0 0]\n",
            " [0 0 0 0 0 0 0 0 0 0 0 1 2 0 0 2 0 0 0 0 0 0]\n",
            " [0 0 0 0 0 0 0 0 0 1 0 0 0 1 0 2 0 0 0 0 0 0]\n",
            " [0 0 0 0 0 0 0 0 0 0 0 0 1 0 0 3 0 0 0 0 0 0]\n",
            " [0 0 0 0 0 0 0 0 0 1 0 0 4 0 0 0 0 0 0 0 0 0]\n",
            " [0 0 0 0 0 0 0 0 0 0 0 0 0 1 0 3 0 0 0 0 0 0]\n",
            " [0 0 0 0 0 0 0 0 1 1 0 1 1 1 0 1 0 0 0 0 0 0]\n",
            " [0 0 0 0 0 0 0 0 0 0 0 0 1 1 0 2 0 0 0 0 0 0]\n",
            " [0 0 0 0 0 0 1 0 0 0 0 0 0 2 0 1 0 0 0 0 0 0]\n",
            " [0 0 0 0 0 0 0 0 0 0 0 1 1 1 0 0 0 0 0 0 0 0]\n",
            " [0 0 0 0 0 0 0 0 0 0 0 0 0 0 0 2 0 0 0 0 0 0]\n",
            " [0 0 0 0 0 0 1 0 0 1 0 0 0 0 0 1 0 0 0 0 0 0]\n",
            " [0 0 0 0 0 0 0 0 0 0 0 0 1 0 0 2 0 0 0 0 0 0]\n",
            " [0 0 0 0 0 0 0 0 0 1 0 1 0 0 0 0 0 0 0 0 0 0]\n",
            " [0 0 0 0 0 0 0 0 0 0 0 0 0 0 0 1 0 0 0 0 0 0]]\n"
          ]
        },
        {
          "output_type": "stream",
          "name": "stderr",
          "text": [
            "/usr/local/lib/python3.7/dist-packages/sklearn/metrics/_classification.py:1272: UndefinedMetricWarning: Precision and F-score are ill-defined and being set to 0.0 in labels with no predicted samples. Use `zero_division` parameter to control this behavior.\n",
            "  _warn_prf(average, modifier, msg_start, len(result))\n"
          ]
        }
      ]
    },
    {
      "cell_type": "markdown",
      "metadata": {
        "id": "iG5xA43z0Vsn"
      },
      "source": [
        "### k Nearest Neighbours (acc = 0.10)"
      ]
    },
    {
      "cell_type": "code",
      "metadata": {
        "colab": {
          "base_uri": "https://localhost:8080/"
        },
        "id": "Xdcj_4xKeQyN",
        "outputId": "71eeebd4-3964-4012-b4be-884062816184"
      },
      "source": [
        "from sklearn.neighbors import KNeighborsClassifier\n",
        "\n",
        "model = KNeighborsClassifier(n_neighbors=8) # Define the model with parameters\n",
        "\n",
        "model.fit(X_train_norm, y_train) # Training the model\n",
        "\n",
        "# Evaluate the model: \n",
        "y_pred = model.predict(X_test_norm) # Predicting labels for our test set using trained model\n",
        "evaluate_multiclass_model(y_test, y_pred) #evaluate our model using newly defined function"
      ],
      "execution_count": null,
      "outputs": [
        {
          "output_type": "stream",
          "name": "stdout",
          "text": [
            "              precision    recall  f1-score   support\n",
            "\n",
            "           8       0.00      0.00      0.00         1\n",
            "           9       0.00      0.00      0.00         3\n",
            "          10       0.00      0.00      0.00         1\n",
            "          11       0.00      0.00      0.00         1\n",
            "          12       0.00      0.00      0.00         2\n",
            "          13       0.00      0.00      0.00         2\n",
            "          14       0.10      0.25      0.14         4\n",
            "          15       0.50      0.20      0.29         5\n",
            "          16       0.00      0.00      0.00         5\n",
            "          17       0.00      0.00      0.00         4\n",
            "          18       0.00      0.00      0.00         4\n",
            "          19       0.25      0.20      0.22         5\n",
            "          20       0.00      0.00      0.00         4\n",
            "          21       0.12      0.33      0.17         6\n",
            "          22       0.25      0.25      0.25         4\n",
            "          23       0.00      0.00      0.00         4\n",
            "          24       0.00      0.00      0.00         3\n",
            "          25       0.00      0.00      0.00         2\n",
            "          26       0.00      0.00      0.00         3\n",
            "          27       0.17      0.33      0.22         3\n",
            "          29       0.00      0.00      0.00         2\n",
            "          30       0.00      0.00      0.00         1\n",
            "\n",
            "    accuracy                           0.10        69\n",
            "   macro avg       0.06      0.07      0.06        69\n",
            "weighted avg       0.09      0.10      0.08        69\n",
            "\n",
            "Confusion Matrix: \n",
            " [[0 0 0 0 0 0 0 0 0 0 0 1 0 0 0 0 0 0 0 0 0 0]\n",
            " [0 0 0 0 0 0 0 0 0 0 0 0 1 2 0 0 0 0 0 0 0 0]\n",
            " [0 0 0 0 0 0 0 0 0 1 0 0 0 0 0 0 0 0 0 0 0 0]\n",
            " [0 0 0 0 0 0 0 0 0 0 0 0 0 0 0 1 0 0 0 0 0 0]\n",
            " [0 0 0 0 0 0 1 0 0 0 0 0 1 0 0 0 0 0 0 0 0 0]\n",
            " [0 0 0 0 0 0 1 0 0 0 0 0 0 1 0 0 0 0 0 0 0 0]\n",
            " [0 0 0 0 0 0 1 0 0 0 0 1 0 2 0 0 0 0 0 0 0 0]\n",
            " [0 0 0 0 0 0 1 1 0 1 0 0 0 0 1 0 0 0 0 1 0 0]\n",
            " [0 0 0 0 0 0 1 0 0 0 0 0 1 2 0 0 0 0 0 1 0 0]\n",
            " [0 0 0 0 1 0 0 1 0 0 0 0 1 1 0 0 0 0 0 0 0 0]\n",
            " [0 0 0 0 0 0 1 0 0 0 0 0 1 0 0 1 0 0 0 1 0 0]\n",
            " [0 0 0 0 0 0 0 0 0 1 0 1 1 2 0 0 0 0 0 0 0 0]\n",
            " [0 0 0 0 0 0 0 0 0 1 0 0 0 2 0 0 0 0 0 1 0 0]\n",
            " [0 0 0 0 0 1 1 0 0 0 0 0 1 2 1 0 0 0 0 0 0 0]\n",
            " [0 0 0 0 0 0 2 0 0 0 0 0 0 1 1 0 0 0 0 0 0 0]\n",
            " [0 0 0 0 0 0 1 0 0 2 0 1 0 0 0 0 0 0 0 0 0 0]\n",
            " [0 0 0 0 0 0 0 0 1 1 0 0 0 1 0 0 0 0 0 0 0 0]\n",
            " [0 0 1 0 0 0 0 0 0 0 0 0 0 0 0 0 0 0 0 1 0 0]\n",
            " [0 0 0 0 0 0 0 0 1 0 0 0 0 0 0 1 1 0 0 0 0 0]\n",
            " [0 0 0 0 0 0 0 0 0 0 0 0 2 0 0 0 0 0 0 1 0 0]\n",
            " [0 0 0 0 0 0 0 0 1 0 0 0 0 1 0 0 0 0 0 0 0 0]\n",
            " [0 0 0 0 0 0 0 0 0 0 0 0 0 0 1 0 0 0 0 0 0 0]]\n"
          ]
        },
        {
          "output_type": "stream",
          "name": "stderr",
          "text": [
            "/usr/local/lib/python3.7/dist-packages/sklearn/metrics/_classification.py:1272: UndefinedMetricWarning: Precision and F-score are ill-defined and being set to 0.0 in labels with no predicted samples. Use `zero_division` parameter to control this behavior.\n",
            "  _warn_prf(average, modifier, msg_start, len(result))\n"
          ]
        }
      ]
    },
    {
      "cell_type": "markdown",
      "metadata": {
        "id": "BazS-APwjLbF"
      },
      "source": [
        "## Predict life enjoyment with non-health variables"
      ]
    },
    {
      "cell_type": "code",
      "metadata": {
        "colab": {
          "base_uri": "https://localhost:8080/"
        },
        "id": "Ercbq-gsjLbG",
        "outputId": "8be0ad7b-8a3e-4ccb-c513-71b11cfd2135"
      },
      "source": [
        "data.head()"
      ],
      "execution_count": null,
      "outputs": [
        {
          "output_type": "execute_result",
          "data": {
            "text/html": [
              "<div>\n",
              "<style scoped>\n",
              "    .dataframe tbody tr th:only-of-type {\n",
              "        vertical-align: middle;\n",
              "    }\n",
              "\n",
              "    .dataframe tbody tr th {\n",
              "        vertical-align: top;\n",
              "    }\n",
              "\n",
              "    .dataframe thead th {\n",
              "        text-align: right;\n",
              "    }\n",
              "</style>\n",
              "<table border=\"1\" class=\"dataframe\">\n",
              "  <thead>\n",
              "    <tr style=\"text-align: right;\">\n",
              "      <th></th>\n",
              "      <th>gender</th>\n",
              "      <th>age</th>\n",
              "      <th>amount_music</th>\n",
              "      <th>life_enjoyment</th>\n",
              "      <th>resilience</th>\n",
              "      <th>balanced_life</th>\n",
              "      <th>emotional_flex</th>\n",
              "      <th>self_actualization</th>\n",
              "      <th>trauma</th>\n",
              "      <th>total_health</th>\n",
              "      <th>energy</th>\n",
              "      <th>dance</th>\n",
              "      <th>liveness</th>\n",
              "      <th>valence</th>\n",
              "      <th>tempo</th>\n",
              "      <th>instrumental</th>\n",
              "      <th>acoustic</th>\n",
              "      <th>popularity</th>\n",
              "      <th>health_categorical</th>\n",
              "    </tr>\n",
              "  </thead>\n",
              "  <tbody>\n",
              "    <tr>\n",
              "      <th>0</th>\n",
              "      <td>1</td>\n",
              "      <td>1</td>\n",
              "      <td>1</td>\n",
              "      <td>4</td>\n",
              "      <td>3</td>\n",
              "      <td>5</td>\n",
              "      <td>3</td>\n",
              "      <td>6</td>\n",
              "      <td>0</td>\n",
              "      <td>21</td>\n",
              "      <td>0.6330</td>\n",
              "      <td>0.655000</td>\n",
              "      <td>0.1100</td>\n",
              "      <td>0.5715</td>\n",
              "      <td>98.3680</td>\n",
              "      <td>0.000025</td>\n",
              "      <td>0.281600</td>\n",
              "      <td>71.500000</td>\n",
              "      <td>1.0</td>\n",
              "    </tr>\n",
              "    <tr>\n",
              "      <th>1</th>\n",
              "      <td>1</td>\n",
              "      <td>1</td>\n",
              "      <td>1</td>\n",
              "      <td>6</td>\n",
              "      <td>6</td>\n",
              "      <td>3</td>\n",
              "      <td>5</td>\n",
              "      <td>5</td>\n",
              "      <td>0</td>\n",
              "      <td>25</td>\n",
              "      <td>0.6550</td>\n",
              "      <td>0.526000</td>\n",
              "      <td>0.1160</td>\n",
              "      <td>0.1560</td>\n",
              "      <td>121.1270</td>\n",
              "      <td>0.000000</td>\n",
              "      <td>0.056600</td>\n",
              "      <td>65.000000</td>\n",
              "      <td>1.0</td>\n",
              "    </tr>\n",
              "    <tr>\n",
              "      <th>2</th>\n",
              "      <td>0</td>\n",
              "      <td>1</td>\n",
              "      <td>0</td>\n",
              "      <td>5</td>\n",
              "      <td>5</td>\n",
              "      <td>4</td>\n",
              "      <td>4</td>\n",
              "      <td>5</td>\n",
              "      <td>0</td>\n",
              "      <td>23</td>\n",
              "      <td>0.7455</td>\n",
              "      <td>0.742000</td>\n",
              "      <td>0.1835</td>\n",
              "      <td>0.6185</td>\n",
              "      <td>125.0090</td>\n",
              "      <td>0.000023</td>\n",
              "      <td>0.053800</td>\n",
              "      <td>63.500000</td>\n",
              "      <td>1.0</td>\n",
              "    </tr>\n",
              "    <tr>\n",
              "      <th>3</th>\n",
              "      <td>1</td>\n",
              "      <td>1</td>\n",
              "      <td>2</td>\n",
              "      <td>3</td>\n",
              "      <td>6</td>\n",
              "      <td>5</td>\n",
              "      <td>5</td>\n",
              "      <td>5</td>\n",
              "      <td>0</td>\n",
              "      <td>24</td>\n",
              "      <td>0.7390</td>\n",
              "      <td>0.681667</td>\n",
              "      <td>0.1489</td>\n",
              "      <td>0.5960</td>\n",
              "      <td>113.5760</td>\n",
              "      <td>0.000001</td>\n",
              "      <td>0.348867</td>\n",
              "      <td>60.333333</td>\n",
              "      <td>1.0</td>\n",
              "    </tr>\n",
              "    <tr>\n",
              "      <th>4</th>\n",
              "      <td>0</td>\n",
              "      <td>1</td>\n",
              "      <td>0</td>\n",
              "      <td>2</td>\n",
              "      <td>5</td>\n",
              "      <td>2</td>\n",
              "      <td>1</td>\n",
              "      <td>5</td>\n",
              "      <td>1</td>\n",
              "      <td>15</td>\n",
              "      <td>0.5390</td>\n",
              "      <td>0.513000</td>\n",
              "      <td>0.2155</td>\n",
              "      <td>0.2915</td>\n",
              "      <td>122.4605</td>\n",
              "      <td>0.464350</td>\n",
              "      <td>0.599500</td>\n",
              "      <td>3.000000</td>\n",
              "      <td>0.0</td>\n",
              "    </tr>\n",
              "  </tbody>\n",
              "</table>\n",
              "</div>"
            ],
            "text/plain": [
              "   gender  age  amount_music  ...  acoustic  popularity  health_categorical\n",
              "0       1    1             1  ...  0.281600   71.500000                 1.0\n",
              "1       1    1             1  ...  0.056600   65.000000                 1.0\n",
              "2       0    1             0  ...  0.053800   63.500000                 1.0\n",
              "3       1    1             2  ...  0.348867   60.333333                 1.0\n",
              "4       0    1             0  ...  0.599500    3.000000                 0.0\n",
              "\n",
              "[5 rows x 19 columns]"
            ]
          },
          "metadata": {},
          "execution_count": 113
        }
      ]
    },
    {
      "cell_type": "markdown",
      "metadata": {
        "id": "bwqbY5I0jLbG"
      },
      "source": [
        "Drop unwanted variables."
      ]
    },
    {
      "cell_type": "code",
      "metadata": {
        "id": "YJenWN0rjLbG"
      },
      "source": [
        "# exclude the indicators of mental health\n",
        "to_exclude = ['health_categorical', \n",
        "              'total_health', \n",
        "              'resilience', \n",
        "              'balanced_life', \n",
        "              'emotional_flex', \n",
        "              'self_actualization']\n",
        "\n",
        "data_1 = data.drop(columns=to_exclude)     # data_1 is the dataframe we'll use to build the model"
      ],
      "execution_count": null,
      "outputs": []
    },
    {
      "cell_type": "markdown",
      "metadata": {
        "id": "bAsrVSQ1jLbH"
      },
      "source": [
        "Split data into training and test set."
      ]
    },
    {
      "cell_type": "code",
      "metadata": {
        "id": "kHcSBDyjjLbH"
      },
      "source": [
        "# Split data\n",
        "\n",
        "from sklearn.model_selection import train_test_split\n",
        "# data = pd.get_dummies(data, drop_first=True)\n",
        "# We split the data up into a test set and a training set, 30 - 70 %\n",
        "# train_test_split\n",
        "# First argument: x data is all data without class column\n",
        "# Second argument:  this is the class label column\n",
        "# Random state = 0: ensures the train and test splitting is deterministic. \n",
        "#Otherwise every student would get a different train test split.\n",
        "X_train, X_test, y_train, y_test = train_test_split(data_1.drop('life_enjoyment',1),    # X data\n",
        "                                                    data_1['life_enjoyment'],           # y\n",
        "                                                    test_size=0.3,\n",
        "                                                    random_state=0) "
      ],
      "execution_count": null,
      "outputs": []
    },
    {
      "cell_type": "markdown",
      "metadata": {
        "id": "IAnPZvuZjLbH"
      },
      "source": [
        "Normalize the data."
      ]
    },
    {
      "cell_type": "code",
      "metadata": {
        "id": "PyesKyObjLbH"
      },
      "source": [
        "# Normalize data\n",
        "\n",
        "from sklearn.preprocessing import MinMaxScaler\n",
        "\n",
        "# define a new scaler: \n",
        "x_scaler = MinMaxScaler()\n",
        "\n",
        "# fit the normalization on the training set: \n",
        "x_scaler.fit(X_train)      # .fit computes the min and max to be used for later scaling\n",
        "\n",
        "# then create new and normalized training/test sets: \n",
        "X_train_norm = x_scaler.transform(X_train)        \n",
        "X_test_norm = x_scaler.transform(X_test)\n",
        "#.transform scales features of X according to the feature range\n",
        "\n",
        "# alternatively, you can use .fit_transform(___) to fit the data and transform it"
      ],
      "execution_count": null,
      "outputs": []
    },
    {
      "cell_type": "markdown",
      "metadata": {
        "id": "HCVNmyx_jLbH"
      },
      "source": [
        "### Logistic Regression (acc = 0.25)"
      ]
    },
    {
      "cell_type": "code",
      "metadata": {
        "colab": {
          "base_uri": "https://localhost:8080/"
        },
        "id": "SO_KKiOJjLbH",
        "outputId": "ee1fc8a0-f420-47b2-e53c-d915d30f71d5"
      },
      "source": [
        "# Logistic Regression\n",
        "from sklearn.linear_model import LogisticRegression\n",
        "\n",
        "model = LogisticRegression(C=1.0, multi_class='auto', solver='lbfgs')\n",
        "model.fit(X_train_norm, y_train)\n",
        "\n",
        "y_pred = model.predict(X_test_norm)  # Predict\n",
        "print (y_pred)\n",
        "evaluate_multiclass_model(y_test, y_pred)   # Evaluate"
      ],
      "execution_count": null,
      "outputs": [
        {
          "output_type": "stream",
          "name": "stdout",
          "text": [
            "[4 4 3 3 4 4 3 3 4 4 3 4 4 3 3 3 3 3 4 3 3 4 4 3 3 3 3 3 3 4 4 4 3 4 4 3 3\n",
            " 4 3 3 4 3 3 3 4 4 4 4 3 3 3 3 3 4 3 4 4 3 3 4 4 3 3 4 3 3 3 3 4]\n",
            "              precision    recall  f1-score   support\n",
            "\n",
            "           0       0.00      0.00      0.00         3\n",
            "           1       0.00      0.00      0.00         5\n",
            "           2       0.00      0.00      0.00        12\n",
            "           3       0.28      0.58      0.37        19\n",
            "           4       0.21      0.46      0.29        13\n",
            "           5       0.00      0.00      0.00        13\n",
            "           6       0.00      0.00      0.00         4\n",
            "\n",
            "    accuracy                           0.25        69\n",
            "   macro avg       0.07      0.15      0.09        69\n",
            "weighted avg       0.11      0.25      0.16        69\n",
            "\n",
            "Confusion Matrix: \n",
            " [[ 0  0  0  2  1  0  0]\n",
            " [ 0  0  0  5  0  0  0]\n",
            " [ 0  0  0  5  7  0  0]\n",
            " [ 0  0  0 11  8  0  0]\n",
            " [ 0  0  0  7  6  0  0]\n",
            " [ 0  0  0  7  6  0  0]\n",
            " [ 0  0  0  3  1  0  0]]\n"
          ]
        },
        {
          "output_type": "stream",
          "name": "stderr",
          "text": [
            "/usr/local/lib/python3.7/dist-packages/sklearn/metrics/_classification.py:1272: UndefinedMetricWarning: Precision and F-score are ill-defined and being set to 0.0 in labels with no predicted samples. Use `zero_division` parameter to control this behavior.\n",
            "  _warn_prf(average, modifier, msg_start, len(result))\n"
          ]
        }
      ]
    },
    {
      "cell_type": "markdown",
      "metadata": {
        "id": "KCC21AiujLbI"
      },
      "source": [
        "### k Nearest Neighbours (acc = 0.29)"
      ]
    },
    {
      "cell_type": "code",
      "metadata": {
        "colab": {
          "base_uri": "https://localhost:8080/"
        },
        "id": "RXib-b3LjLbI",
        "outputId": "b53893b0-7dbd-42a3-f4e1-bde3c46b44b2"
      },
      "source": [
        "from sklearn.neighbors import KNeighborsClassifier\n",
        "\n",
        "model = KNeighborsClassifier(n_neighbors=10) # Define the model with parameters\n",
        "\n",
        "model.fit(X_train_norm, y_train) # Training the model\n",
        "\n",
        "# Evaluate the model: \n",
        "y_pred = model.predict(X_test_norm) # Predicting labels for our test set using trained model\n",
        "evaluate_multiclass_model(y_test, y_pred) #evaluate our model using newly defined function"
      ],
      "execution_count": null,
      "outputs": [
        {
          "output_type": "stream",
          "name": "stdout",
          "text": [
            "              precision    recall  f1-score   support\n",
            "\n",
            "           0       0.00      0.00      0.00         3\n",
            "           1       0.00      0.00      0.00         5\n",
            "           2       0.25      0.17      0.20        12\n",
            "           3       0.42      0.53      0.47        19\n",
            "           4       0.23      0.54      0.32        13\n",
            "           5       0.20      0.08      0.11        13\n",
            "           6       0.00      0.00      0.00         4\n",
            "\n",
            "    accuracy                           0.29        69\n",
            "   macro avg       0.16      0.19      0.16        69\n",
            "weighted avg       0.24      0.29      0.24        69\n",
            "\n",
            "Confusion Matrix: \n",
            " [[ 0  0  0  0  3  0  0]\n",
            " [ 0  0  0  4  1  0  0]\n",
            " [ 0  0  2  1  6  3  0]\n",
            " [ 0  1  2 10  6  0  0]\n",
            " [ 0  0  1  5  7  0  0]\n",
            " [ 0  0  3  3  6  1  0]\n",
            " [ 0  0  0  1  2  1  0]]\n"
          ]
        },
        {
          "output_type": "stream",
          "name": "stderr",
          "text": [
            "/usr/local/lib/python3.7/dist-packages/sklearn/metrics/_classification.py:1272: UndefinedMetricWarning: Precision and F-score are ill-defined and being set to 0.0 in labels with no predicted samples. Use `zero_division` parameter to control this behavior.\n",
            "  _warn_prf(average, modifier, msg_start, len(result))\n"
          ]
        }
      ]
    },
    {
      "cell_type": "markdown",
      "metadata": {
        "id": "YMq4DO8ej761"
      },
      "source": [
        "## Predict resilience with non-health variables"
      ]
    },
    {
      "cell_type": "code",
      "metadata": {
        "colab": {
          "base_uri": "https://localhost:8080/"
        },
        "id": "y5u4IPc3j761",
        "outputId": "8c1222c3-b373-4905-a92c-c28be37fc41e"
      },
      "source": [
        "data.head()"
      ],
      "execution_count": null,
      "outputs": [
        {
          "output_type": "execute_result",
          "data": {
            "text/html": [
              "<div>\n",
              "<style scoped>\n",
              "    .dataframe tbody tr th:only-of-type {\n",
              "        vertical-align: middle;\n",
              "    }\n",
              "\n",
              "    .dataframe tbody tr th {\n",
              "        vertical-align: top;\n",
              "    }\n",
              "\n",
              "    .dataframe thead th {\n",
              "        text-align: right;\n",
              "    }\n",
              "</style>\n",
              "<table border=\"1\" class=\"dataframe\">\n",
              "  <thead>\n",
              "    <tr style=\"text-align: right;\">\n",
              "      <th></th>\n",
              "      <th>gender</th>\n",
              "      <th>age</th>\n",
              "      <th>amount_music</th>\n",
              "      <th>life_enjoyment</th>\n",
              "      <th>resilience</th>\n",
              "      <th>balanced_life</th>\n",
              "      <th>emotional_flex</th>\n",
              "      <th>self_actualization</th>\n",
              "      <th>trauma</th>\n",
              "      <th>total_health</th>\n",
              "      <th>energy</th>\n",
              "      <th>dance</th>\n",
              "      <th>liveness</th>\n",
              "      <th>valence</th>\n",
              "      <th>tempo</th>\n",
              "      <th>instrumental</th>\n",
              "      <th>acoustic</th>\n",
              "      <th>popularity</th>\n",
              "      <th>health_categorical</th>\n",
              "    </tr>\n",
              "  </thead>\n",
              "  <tbody>\n",
              "    <tr>\n",
              "      <th>0</th>\n",
              "      <td>1</td>\n",
              "      <td>1</td>\n",
              "      <td>1</td>\n",
              "      <td>4</td>\n",
              "      <td>3</td>\n",
              "      <td>5</td>\n",
              "      <td>3</td>\n",
              "      <td>6</td>\n",
              "      <td>0</td>\n",
              "      <td>21</td>\n",
              "      <td>0.6330</td>\n",
              "      <td>0.655000</td>\n",
              "      <td>0.1100</td>\n",
              "      <td>0.5715</td>\n",
              "      <td>98.3680</td>\n",
              "      <td>0.000025</td>\n",
              "      <td>0.281600</td>\n",
              "      <td>71.500000</td>\n",
              "      <td>1.0</td>\n",
              "    </tr>\n",
              "    <tr>\n",
              "      <th>1</th>\n",
              "      <td>1</td>\n",
              "      <td>1</td>\n",
              "      <td>1</td>\n",
              "      <td>6</td>\n",
              "      <td>6</td>\n",
              "      <td>3</td>\n",
              "      <td>5</td>\n",
              "      <td>5</td>\n",
              "      <td>0</td>\n",
              "      <td>25</td>\n",
              "      <td>0.6550</td>\n",
              "      <td>0.526000</td>\n",
              "      <td>0.1160</td>\n",
              "      <td>0.1560</td>\n",
              "      <td>121.1270</td>\n",
              "      <td>0.000000</td>\n",
              "      <td>0.056600</td>\n",
              "      <td>65.000000</td>\n",
              "      <td>1.0</td>\n",
              "    </tr>\n",
              "    <tr>\n",
              "      <th>2</th>\n",
              "      <td>0</td>\n",
              "      <td>1</td>\n",
              "      <td>0</td>\n",
              "      <td>5</td>\n",
              "      <td>5</td>\n",
              "      <td>4</td>\n",
              "      <td>4</td>\n",
              "      <td>5</td>\n",
              "      <td>0</td>\n",
              "      <td>23</td>\n",
              "      <td>0.7455</td>\n",
              "      <td>0.742000</td>\n",
              "      <td>0.1835</td>\n",
              "      <td>0.6185</td>\n",
              "      <td>125.0090</td>\n",
              "      <td>0.000023</td>\n",
              "      <td>0.053800</td>\n",
              "      <td>63.500000</td>\n",
              "      <td>1.0</td>\n",
              "    </tr>\n",
              "    <tr>\n",
              "      <th>3</th>\n",
              "      <td>1</td>\n",
              "      <td>1</td>\n",
              "      <td>2</td>\n",
              "      <td>3</td>\n",
              "      <td>6</td>\n",
              "      <td>5</td>\n",
              "      <td>5</td>\n",
              "      <td>5</td>\n",
              "      <td>0</td>\n",
              "      <td>24</td>\n",
              "      <td>0.7390</td>\n",
              "      <td>0.681667</td>\n",
              "      <td>0.1489</td>\n",
              "      <td>0.5960</td>\n",
              "      <td>113.5760</td>\n",
              "      <td>0.000001</td>\n",
              "      <td>0.348867</td>\n",
              "      <td>60.333333</td>\n",
              "      <td>1.0</td>\n",
              "    </tr>\n",
              "    <tr>\n",
              "      <th>4</th>\n",
              "      <td>0</td>\n",
              "      <td>1</td>\n",
              "      <td>0</td>\n",
              "      <td>2</td>\n",
              "      <td>5</td>\n",
              "      <td>2</td>\n",
              "      <td>1</td>\n",
              "      <td>5</td>\n",
              "      <td>1</td>\n",
              "      <td>15</td>\n",
              "      <td>0.5390</td>\n",
              "      <td>0.513000</td>\n",
              "      <td>0.2155</td>\n",
              "      <td>0.2915</td>\n",
              "      <td>122.4605</td>\n",
              "      <td>0.464350</td>\n",
              "      <td>0.599500</td>\n",
              "      <td>3.000000</td>\n",
              "      <td>0.0</td>\n",
              "    </tr>\n",
              "  </tbody>\n",
              "</table>\n",
              "</div>"
            ],
            "text/plain": [
              "   gender  age  amount_music  ...  acoustic  popularity  health_categorical\n",
              "0       1    1             1  ...  0.281600   71.500000                 1.0\n",
              "1       1    1             1  ...  0.056600   65.000000                 1.0\n",
              "2       0    1             0  ...  0.053800   63.500000                 1.0\n",
              "3       1    1             2  ...  0.348867   60.333333                 1.0\n",
              "4       0    1             0  ...  0.599500    3.000000                 0.0\n",
              "\n",
              "[5 rows x 19 columns]"
            ]
          },
          "metadata": {},
          "execution_count": 119
        }
      ]
    },
    {
      "cell_type": "markdown",
      "metadata": {
        "id": "11DqURk6j761"
      },
      "source": [
        "Drop unwanted variables."
      ]
    },
    {
      "cell_type": "code",
      "metadata": {
        "id": "QqOFMLyyj762"
      },
      "source": [
        "# exclude the indicators of mental health\n",
        "to_exclude = ['health_categorical', \n",
        "              'total_health', \n",
        "              'life_enjoyment', \n",
        "              'balanced_life', \n",
        "              'emotional_flex', \n",
        "              'self_actualization']\n",
        "\n",
        "data_1 = data.drop(columns=to_exclude)     # data_1 is the dataframe we'll use to build the model"
      ],
      "execution_count": null,
      "outputs": []
    },
    {
      "cell_type": "markdown",
      "metadata": {
        "id": "wlkFhpGij762"
      },
      "source": [
        "Split data into training and test set."
      ]
    },
    {
      "cell_type": "code",
      "metadata": {
        "id": "_voSVEAQj762"
      },
      "source": [
        "# Split data\n",
        "\n",
        "from sklearn.model_selection import train_test_split\n",
        "# data = pd.get_dummies(data, drop_first=True)\n",
        "# We split the data up into a test set and a training set, 30 - 70 %\n",
        "# train_test_split\n",
        "# First argument: x data is all data without class column\n",
        "# Second argument:  this is the class label column\n",
        "# Random state = 0: ensures the train and test splitting is deterministic. \n",
        "#Otherwise every student would get a different train test split.\n",
        "X_train, X_test, y_train, y_test = train_test_split(data_1.drop('resilience',1),    # X data\n",
        "                                                    data_1['resilience'],           # y\n",
        "                                                    test_size=0.3,\n",
        "                                                    random_state=0) "
      ],
      "execution_count": null,
      "outputs": []
    },
    {
      "cell_type": "markdown",
      "metadata": {
        "id": "bGowcszyj762"
      },
      "source": [
        "Normalize the data."
      ]
    },
    {
      "cell_type": "code",
      "metadata": {
        "id": "BrCMeOq5j762"
      },
      "source": [
        "# Normalize data\n",
        "\n",
        "from sklearn.preprocessing import MinMaxScaler\n",
        "\n",
        "# define a new scaler: \n",
        "x_scaler = MinMaxScaler()\n",
        "\n",
        "# fit the normalization on the training set: \n",
        "x_scaler.fit(X_train)      # .fit computes the min and max to be used for later scaling\n",
        "\n",
        "# then create new and normalized training/test sets: \n",
        "X_train_norm = x_scaler.transform(X_train)        \n",
        "X_test_norm = x_scaler.transform(X_test)\n",
        "#.transform scales features of X according to the feature range\n",
        "\n",
        "# alternatively, you can use .fit_transform(___) to fit the data and transform it"
      ],
      "execution_count": null,
      "outputs": []
    },
    {
      "cell_type": "markdown",
      "metadata": {
        "id": "DmpqowIqj762"
      },
      "source": [
        "### Logistic Regression (acc = 0.19)"
      ]
    },
    {
      "cell_type": "code",
      "metadata": {
        "colab": {
          "base_uri": "https://localhost:8080/"
        },
        "id": "DifA5wyJj762",
        "outputId": "05a73ae2-f05d-49ae-b79a-91b92f8ccd23"
      },
      "source": [
        "# Logistic Regression\n",
        "from sklearn.linear_model import LogisticRegression\n",
        "\n",
        "model = LogisticRegression(C=1.0, multi_class='auto', solver='lbfgs')\n",
        "model.fit(X_train_norm, y_train)\n",
        "\n",
        "y_pred = model.predict(X_test_norm)  # Predict\n",
        "print (y_pred)\n",
        "evaluate_multiclass_model(y_test, y_pred)   # Evaluate"
      ],
      "execution_count": null,
      "outputs": [
        {
          "output_type": "stream",
          "name": "stdout",
          "text": [
            "[4 5 4 5 4 4 3 5 4 5 3 4 4 5 3 4 4 4 4 4 5 4 4 5 3 3 4 5 4 5 4 4 4 4 5 5 3\n",
            " 5 3 4 4 5 3 4 4 4 5 4 5 4 4 3 5 5 4 5 5 3 4 4 4 3 4 4 3 5 5 4 4]\n",
            "              precision    recall  f1-score   support\n",
            "\n",
            "           0       0.00      0.00      0.00         2\n",
            "           1       0.00      0.00      0.00         2\n",
            "           2       0.00      0.00      0.00        12\n",
            "           3       0.00      0.00      0.00         7\n",
            "           4       0.25      0.53      0.34        17\n",
            "           5       0.19      0.22      0.21        18\n",
            "           6       0.00      0.00      0.00        11\n",
            "\n",
            "    accuracy                           0.19        69\n",
            "   macro avg       0.06      0.11      0.08        69\n",
            "weighted avg       0.11      0.19      0.14        69\n",
            "\n",
            "Confusion Matrix: \n",
            " [[ 0  0  0  1  1  0  0]\n",
            " [ 0  0  0  1  1  0  0]\n",
            " [ 0  0  0  1 10  1  0]\n",
            " [ 0  0  0  0  5  2  0]\n",
            " [ 0  0  0  1  9  7  0]\n",
            " [ 0  0  0  8  6  4  0]\n",
            " [ 0  0  0  0  4  7  0]]\n"
          ]
        },
        {
          "output_type": "stream",
          "name": "stderr",
          "text": [
            "/usr/local/lib/python3.7/dist-packages/sklearn/metrics/_classification.py:1272: UndefinedMetricWarning: Precision and F-score are ill-defined and being set to 0.0 in labels with no predicted samples. Use `zero_division` parameter to control this behavior.\n",
            "  _warn_prf(average, modifier, msg_start, len(result))\n"
          ]
        }
      ]
    },
    {
      "cell_type": "markdown",
      "metadata": {
        "id": "eOmFEzYuj763"
      },
      "source": [
        "### k Nearest Neighbours (acc = 0.28)"
      ]
    },
    {
      "cell_type": "code",
      "metadata": {
        "colab": {
          "base_uri": "https://localhost:8080/"
        },
        "id": "pBSEjxyIj763",
        "outputId": "83b1a789-f74b-44a0-c7bd-f3643c036816"
      },
      "source": [
        "from sklearn.neighbors import KNeighborsClassifier\n",
        "\n",
        "model = KNeighborsClassifier(n_neighbors=14) # Define the model with parameters\n",
        "\n",
        "model.fit(X_train_norm, y_train) # Training the model\n",
        "\n",
        "# Evaluate the model: \n",
        "y_pred = model.predict(X_test_norm) # Predicting labels for our test set using trained model\n",
        "evaluate_multiclass_model(y_test, y_pred) #evaluate our model using newly defined function"
      ],
      "execution_count": null,
      "outputs": [
        {
          "output_type": "stream",
          "name": "stdout",
          "text": [
            "              precision    recall  f1-score   support\n",
            "\n",
            "           0       0.00      0.00      0.00         2\n",
            "           1       0.00      0.00      0.00         2\n",
            "           2       0.00      0.00      0.00        12\n",
            "           3       0.08      0.14      0.11         7\n",
            "           4       0.27      0.76      0.40        17\n",
            "           5       0.50      0.17      0.25        18\n",
            "           6       0.67      0.18      0.29        11\n",
            "\n",
            "    accuracy                           0.28        69\n",
            "   macro avg       0.22      0.18      0.15        69\n",
            "weighted avg       0.31      0.28      0.22        69\n",
            "\n",
            "Confusion Matrix: \n",
            " [[ 0  0  0  0  2  0  0]\n",
            " [ 0  0  0  0  2  0  0]\n",
            " [ 0  0  0  1 11  0  0]\n",
            " [ 0  0  0  1  4  1  1]\n",
            " [ 0  0  0  3 13  1  0]\n",
            " [ 0  0  0  6  9  3  0]\n",
            " [ 0  0  0  1  7  1  2]]\n"
          ]
        },
        {
          "output_type": "stream",
          "name": "stderr",
          "text": [
            "/usr/local/lib/python3.7/dist-packages/sklearn/metrics/_classification.py:1272: UndefinedMetricWarning: Precision and F-score are ill-defined and being set to 0.0 in labels with no predicted samples. Use `zero_division` parameter to control this behavior.\n",
            "  _warn_prf(average, modifier, msg_start, len(result))\n"
          ]
        }
      ]
    },
    {
      "cell_type": "code",
      "metadata": {
        "id": "fEf5VbNjkGj5"
      },
      "source": [
        ""
      ],
      "execution_count": null,
      "outputs": []
    },
    {
      "cell_type": "markdown",
      "metadata": {
        "id": "n1e-BdvilGWs"
      },
      "source": [
        "## Predict balanced life with non-health variables"
      ]
    },
    {
      "cell_type": "code",
      "metadata": {
        "colab": {
          "base_uri": "https://localhost:8080/"
        },
        "id": "cLVtXV74lGW5",
        "outputId": "e665a82b-8bc7-4d6a-f085-0e7be8ed61f2"
      },
      "source": [
        "data.head()"
      ],
      "execution_count": null,
      "outputs": [
        {
          "output_type": "execute_result",
          "data": {
            "text/html": [
              "<div>\n",
              "<style scoped>\n",
              "    .dataframe tbody tr th:only-of-type {\n",
              "        vertical-align: middle;\n",
              "    }\n",
              "\n",
              "    .dataframe tbody tr th {\n",
              "        vertical-align: top;\n",
              "    }\n",
              "\n",
              "    .dataframe thead th {\n",
              "        text-align: right;\n",
              "    }\n",
              "</style>\n",
              "<table border=\"1\" class=\"dataframe\">\n",
              "  <thead>\n",
              "    <tr style=\"text-align: right;\">\n",
              "      <th></th>\n",
              "      <th>gender</th>\n",
              "      <th>age</th>\n",
              "      <th>amount_music</th>\n",
              "      <th>life_enjoyment</th>\n",
              "      <th>resilience</th>\n",
              "      <th>balanced_life</th>\n",
              "      <th>emotional_flex</th>\n",
              "      <th>self_actualization</th>\n",
              "      <th>trauma</th>\n",
              "      <th>total_health</th>\n",
              "      <th>energy</th>\n",
              "      <th>dance</th>\n",
              "      <th>liveness</th>\n",
              "      <th>valence</th>\n",
              "      <th>tempo</th>\n",
              "      <th>instrumental</th>\n",
              "      <th>acoustic</th>\n",
              "      <th>popularity</th>\n",
              "      <th>health_categorical</th>\n",
              "    </tr>\n",
              "  </thead>\n",
              "  <tbody>\n",
              "    <tr>\n",
              "      <th>0</th>\n",
              "      <td>1</td>\n",
              "      <td>1</td>\n",
              "      <td>1</td>\n",
              "      <td>4</td>\n",
              "      <td>3</td>\n",
              "      <td>5</td>\n",
              "      <td>3</td>\n",
              "      <td>6</td>\n",
              "      <td>0</td>\n",
              "      <td>21</td>\n",
              "      <td>0.6330</td>\n",
              "      <td>0.655000</td>\n",
              "      <td>0.1100</td>\n",
              "      <td>0.5715</td>\n",
              "      <td>98.3680</td>\n",
              "      <td>0.000025</td>\n",
              "      <td>0.281600</td>\n",
              "      <td>71.500000</td>\n",
              "      <td>1.0</td>\n",
              "    </tr>\n",
              "    <tr>\n",
              "      <th>1</th>\n",
              "      <td>1</td>\n",
              "      <td>1</td>\n",
              "      <td>1</td>\n",
              "      <td>6</td>\n",
              "      <td>6</td>\n",
              "      <td>3</td>\n",
              "      <td>5</td>\n",
              "      <td>5</td>\n",
              "      <td>0</td>\n",
              "      <td>25</td>\n",
              "      <td>0.6550</td>\n",
              "      <td>0.526000</td>\n",
              "      <td>0.1160</td>\n",
              "      <td>0.1560</td>\n",
              "      <td>121.1270</td>\n",
              "      <td>0.000000</td>\n",
              "      <td>0.056600</td>\n",
              "      <td>65.000000</td>\n",
              "      <td>1.0</td>\n",
              "    </tr>\n",
              "    <tr>\n",
              "      <th>2</th>\n",
              "      <td>0</td>\n",
              "      <td>1</td>\n",
              "      <td>0</td>\n",
              "      <td>5</td>\n",
              "      <td>5</td>\n",
              "      <td>4</td>\n",
              "      <td>4</td>\n",
              "      <td>5</td>\n",
              "      <td>0</td>\n",
              "      <td>23</td>\n",
              "      <td>0.7455</td>\n",
              "      <td>0.742000</td>\n",
              "      <td>0.1835</td>\n",
              "      <td>0.6185</td>\n",
              "      <td>125.0090</td>\n",
              "      <td>0.000023</td>\n",
              "      <td>0.053800</td>\n",
              "      <td>63.500000</td>\n",
              "      <td>1.0</td>\n",
              "    </tr>\n",
              "    <tr>\n",
              "      <th>3</th>\n",
              "      <td>1</td>\n",
              "      <td>1</td>\n",
              "      <td>2</td>\n",
              "      <td>3</td>\n",
              "      <td>6</td>\n",
              "      <td>5</td>\n",
              "      <td>5</td>\n",
              "      <td>5</td>\n",
              "      <td>0</td>\n",
              "      <td>24</td>\n",
              "      <td>0.7390</td>\n",
              "      <td>0.681667</td>\n",
              "      <td>0.1489</td>\n",
              "      <td>0.5960</td>\n",
              "      <td>113.5760</td>\n",
              "      <td>0.000001</td>\n",
              "      <td>0.348867</td>\n",
              "      <td>60.333333</td>\n",
              "      <td>1.0</td>\n",
              "    </tr>\n",
              "    <tr>\n",
              "      <th>4</th>\n",
              "      <td>0</td>\n",
              "      <td>1</td>\n",
              "      <td>0</td>\n",
              "      <td>2</td>\n",
              "      <td>5</td>\n",
              "      <td>2</td>\n",
              "      <td>1</td>\n",
              "      <td>5</td>\n",
              "      <td>1</td>\n",
              "      <td>15</td>\n",
              "      <td>0.5390</td>\n",
              "      <td>0.513000</td>\n",
              "      <td>0.2155</td>\n",
              "      <td>0.2915</td>\n",
              "      <td>122.4605</td>\n",
              "      <td>0.464350</td>\n",
              "      <td>0.599500</td>\n",
              "      <td>3.000000</td>\n",
              "      <td>0.0</td>\n",
              "    </tr>\n",
              "  </tbody>\n",
              "</table>\n",
              "</div>"
            ],
            "text/plain": [
              "   gender  age  amount_music  ...  acoustic  popularity  health_categorical\n",
              "0       1    1             1  ...  0.281600   71.500000                 1.0\n",
              "1       1    1             1  ...  0.056600   65.000000                 1.0\n",
              "2       0    1             0  ...  0.053800   63.500000                 1.0\n",
              "3       1    1             2  ...  0.348867   60.333333                 1.0\n",
              "4       0    1             0  ...  0.599500    3.000000                 0.0\n",
              "\n",
              "[5 rows x 19 columns]"
            ]
          },
          "metadata": {},
          "execution_count": 125
        }
      ]
    },
    {
      "cell_type": "markdown",
      "metadata": {
        "id": "6wq-uu0RlGW5"
      },
      "source": [
        "Drop unwanted variables."
      ]
    },
    {
      "cell_type": "code",
      "metadata": {
        "id": "w6q3tkQwlGW6",
        "colab": {
          "base_uri": "https://localhost:8080/"
        },
        "outputId": "31b8d015-cb69-49fe-f63b-094fbd69609c"
      },
      "source": [
        "# exclude the indicators of mental health\n",
        "to_exclude = ['health_categorical', \n",
        "              'total_health', \n",
        "              'life_enjoyment', \n",
        "              'resilience', \n",
        "              'emotional_flex', \n",
        "              'self_actualization']\n",
        "\n",
        "data_1 = data.drop(columns=to_exclude)     # data_1 is the dataframe we'll use to build the model\n",
        "data_1.head()"
      ],
      "execution_count": null,
      "outputs": [
        {
          "output_type": "execute_result",
          "data": {
            "text/html": [
              "<div>\n",
              "<style scoped>\n",
              "    .dataframe tbody tr th:only-of-type {\n",
              "        vertical-align: middle;\n",
              "    }\n",
              "\n",
              "    .dataframe tbody tr th {\n",
              "        vertical-align: top;\n",
              "    }\n",
              "\n",
              "    .dataframe thead th {\n",
              "        text-align: right;\n",
              "    }\n",
              "</style>\n",
              "<table border=\"1\" class=\"dataframe\">\n",
              "  <thead>\n",
              "    <tr style=\"text-align: right;\">\n",
              "      <th></th>\n",
              "      <th>gender</th>\n",
              "      <th>age</th>\n",
              "      <th>amount_music</th>\n",
              "      <th>balanced_life</th>\n",
              "      <th>trauma</th>\n",
              "      <th>energy</th>\n",
              "      <th>dance</th>\n",
              "      <th>liveness</th>\n",
              "      <th>valence</th>\n",
              "      <th>tempo</th>\n",
              "      <th>instrumental</th>\n",
              "      <th>acoustic</th>\n",
              "      <th>popularity</th>\n",
              "    </tr>\n",
              "  </thead>\n",
              "  <tbody>\n",
              "    <tr>\n",
              "      <th>0</th>\n",
              "      <td>1</td>\n",
              "      <td>1</td>\n",
              "      <td>1</td>\n",
              "      <td>5</td>\n",
              "      <td>0</td>\n",
              "      <td>0.6330</td>\n",
              "      <td>0.655000</td>\n",
              "      <td>0.1100</td>\n",
              "      <td>0.5715</td>\n",
              "      <td>98.3680</td>\n",
              "      <td>0.000025</td>\n",
              "      <td>0.281600</td>\n",
              "      <td>71.500000</td>\n",
              "    </tr>\n",
              "    <tr>\n",
              "      <th>1</th>\n",
              "      <td>1</td>\n",
              "      <td>1</td>\n",
              "      <td>1</td>\n",
              "      <td>3</td>\n",
              "      <td>0</td>\n",
              "      <td>0.6550</td>\n",
              "      <td>0.526000</td>\n",
              "      <td>0.1160</td>\n",
              "      <td>0.1560</td>\n",
              "      <td>121.1270</td>\n",
              "      <td>0.000000</td>\n",
              "      <td>0.056600</td>\n",
              "      <td>65.000000</td>\n",
              "    </tr>\n",
              "    <tr>\n",
              "      <th>2</th>\n",
              "      <td>0</td>\n",
              "      <td>1</td>\n",
              "      <td>0</td>\n",
              "      <td>4</td>\n",
              "      <td>0</td>\n",
              "      <td>0.7455</td>\n",
              "      <td>0.742000</td>\n",
              "      <td>0.1835</td>\n",
              "      <td>0.6185</td>\n",
              "      <td>125.0090</td>\n",
              "      <td>0.000023</td>\n",
              "      <td>0.053800</td>\n",
              "      <td>63.500000</td>\n",
              "    </tr>\n",
              "    <tr>\n",
              "      <th>3</th>\n",
              "      <td>1</td>\n",
              "      <td>1</td>\n",
              "      <td>2</td>\n",
              "      <td>5</td>\n",
              "      <td>0</td>\n",
              "      <td>0.7390</td>\n",
              "      <td>0.681667</td>\n",
              "      <td>0.1489</td>\n",
              "      <td>0.5960</td>\n",
              "      <td>113.5760</td>\n",
              "      <td>0.000001</td>\n",
              "      <td>0.348867</td>\n",
              "      <td>60.333333</td>\n",
              "    </tr>\n",
              "    <tr>\n",
              "      <th>4</th>\n",
              "      <td>0</td>\n",
              "      <td>1</td>\n",
              "      <td>0</td>\n",
              "      <td>2</td>\n",
              "      <td>1</td>\n",
              "      <td>0.5390</td>\n",
              "      <td>0.513000</td>\n",
              "      <td>0.2155</td>\n",
              "      <td>0.2915</td>\n",
              "      <td>122.4605</td>\n",
              "      <td>0.464350</td>\n",
              "      <td>0.599500</td>\n",
              "      <td>3.000000</td>\n",
              "    </tr>\n",
              "  </tbody>\n",
              "</table>\n",
              "</div>"
            ],
            "text/plain": [
              "   gender  age  amount_music  ...  instrumental  acoustic  popularity\n",
              "0       1    1             1  ...      0.000025  0.281600   71.500000\n",
              "1       1    1             1  ...      0.000000  0.056600   65.000000\n",
              "2       0    1             0  ...      0.000023  0.053800   63.500000\n",
              "3       1    1             2  ...      0.000001  0.348867   60.333333\n",
              "4       0    1             0  ...      0.464350  0.599500    3.000000\n",
              "\n",
              "[5 rows x 13 columns]"
            ]
          },
          "metadata": {},
          "execution_count": 126
        }
      ]
    },
    {
      "cell_type": "markdown",
      "metadata": {
        "id": "m0leCiPMlGW6"
      },
      "source": [
        "Split data into training and test set."
      ]
    },
    {
      "cell_type": "code",
      "metadata": {
        "id": "GWvCe6FolGW6"
      },
      "source": [
        "# Split data\n",
        "\n",
        "from sklearn.model_selection import train_test_split\n",
        "# data = pd.get_dummies(data, drop_first=True)\n",
        "# We split the data up into a test set and a training set, 30 - 70 %\n",
        "# train_test_split\n",
        "# First argument: x data is all data without class column\n",
        "# Second argument:  this is the class label column\n",
        "# Random state = 0: ensures the train and test splitting is deterministic. \n",
        "#Otherwise every student would get a different train test split.\n",
        "X_train, X_test, y_train, y_test = train_test_split(data_1.drop('balanced_life',1),    # X data\n",
        "                                                    data_1['balanced_life'],           # y\n",
        "                                                    test_size=0.3,\n",
        "                                                    random_state=0) "
      ],
      "execution_count": null,
      "outputs": []
    },
    {
      "cell_type": "markdown",
      "metadata": {
        "id": "W0J5kUETlGW6"
      },
      "source": [
        "Normalize the data."
      ]
    },
    {
      "cell_type": "code",
      "metadata": {
        "id": "UvtPdhkIlGW6"
      },
      "source": [
        "# Normalize data\n",
        "\n",
        "from sklearn.preprocessing import MinMaxScaler\n",
        "\n",
        "# define a new scaler: \n",
        "x_scaler = MinMaxScaler()\n",
        "\n",
        "# fit the normalization on the training set: \n",
        "x_scaler.fit(X_train)      # .fit computes the min and max to be used for later scaling\n",
        "\n",
        "# then create new and normalized training/test sets: \n",
        "X_train_norm = x_scaler.transform(X_train)        \n",
        "X_test_norm = x_scaler.transform(X_test)\n",
        "#.transform scales features of X according to the feature range\n",
        "\n",
        "# alternatively, you can use .fit_transform(___) to fit the data and transform it"
      ],
      "execution_count": null,
      "outputs": []
    },
    {
      "cell_type": "markdown",
      "metadata": {
        "id": "gAIujXjFlGW7"
      },
      "source": [
        "### Logistic Regression (acc = 0.23)"
      ]
    },
    {
      "cell_type": "code",
      "metadata": {
        "colab": {
          "base_uri": "https://localhost:8080/"
        },
        "id": "x_yqZOOjlGW7",
        "outputId": "c64de494-7516-4bde-eb96-507560e2fb18"
      },
      "source": [
        "# Logistic Regression\n",
        "from sklearn.linear_model import LogisticRegression\n",
        "\n",
        "model = LogisticRegression(C=1.0, multi_class='auto', solver='lbfgs')\n",
        "model.fit(X_train_norm, y_train)\n",
        "\n",
        "y_pred = model.predict(X_test_norm)  # Predict\n",
        "print (y_pred)\n",
        "evaluate_multiclass_model(y_test, y_pred)   # Evaluate"
      ],
      "execution_count": null,
      "outputs": [
        {
          "output_type": "stream",
          "name": "stdout",
          "text": [
            "[4 5 3 2 4 4 2 4 4 4 4 2 5 4 2 3 3 2 4 5 5 4 5 4 4 4 5 5 2 4 4 4 5 5 2 2 2\n",
            " 4 2 5 3 4 5 3 4 3 4 3 4 5 3 2 5 4 5 4 4 4 5 4 3 3 4 4 2 4 5 2 4]\n",
            "              precision    recall  f1-score   support\n",
            "\n",
            "           2       0.23      0.25      0.24        12\n",
            "           3       0.30      0.19      0.23        16\n",
            "           4       0.17      0.36      0.23        14\n",
            "           5       0.31      0.33      0.32        15\n",
            "           6       0.00      0.00      0.00        12\n",
            "\n",
            "    accuracy                           0.23        69\n",
            "   macro avg       0.20      0.23      0.20        69\n",
            "weighted avg       0.21      0.23      0.21        69\n",
            "\n",
            "Confusion Matrix: \n",
            " [[3 1 6 2 0]\n",
            " [4 3 5 4 0]\n",
            " [3 3 5 3 0]\n",
            " [1 3 6 5 0]\n",
            " [2 0 8 2 0]]\n"
          ]
        },
        {
          "output_type": "stream",
          "name": "stderr",
          "text": [
            "/usr/local/lib/python3.7/dist-packages/sklearn/metrics/_classification.py:1272: UndefinedMetricWarning: Precision and F-score are ill-defined and being set to 0.0 in labels with no predicted samples. Use `zero_division` parameter to control this behavior.\n",
            "  _warn_prf(average, modifier, msg_start, len(result))\n"
          ]
        }
      ]
    },
    {
      "cell_type": "markdown",
      "metadata": {
        "id": "nfOXgChElGW7"
      },
      "source": [
        "### k Nearest Neighbours (acc = 0.30)"
      ]
    },
    {
      "cell_type": "code",
      "metadata": {
        "colab": {
          "base_uri": "https://localhost:8080/"
        },
        "id": "ffgFHdO3lGW7",
        "outputId": "e885cfdb-e5ce-40cf-eb68-e0e1501c3ca0"
      },
      "source": [
        "from sklearn.neighbors import KNeighborsClassifier\n",
        "\n",
        "model = KNeighborsClassifier(n_neighbors=6) # Define the model with parameters\n",
        "\n",
        "model.fit(X_train_norm, y_train) # Training the model\n",
        "\n",
        "# Evaluate the model: \n",
        "y_pred = model.predict(X_test_norm) # Predicting labels for our test set using trained model\n",
        "evaluate_multiclass_model(y_test, y_pred) #evaluate our model using newly defined function"
      ],
      "execution_count": null,
      "outputs": [
        {
          "output_type": "stream",
          "name": "stdout",
          "text": [
            "              precision    recall  f1-score   support\n",
            "\n",
            "           1       0.00      0.00      0.00         0\n",
            "           2       0.25      0.33      0.29        12\n",
            "           3       0.20      0.12      0.15        16\n",
            "           4       0.37      0.50      0.42        14\n",
            "           5       0.44      0.47      0.45        15\n",
            "           6       0.50      0.08      0.14        12\n",
            "\n",
            "    accuracy                           0.30        69\n",
            "   macro avg       0.29      0.25      0.24        69\n",
            "weighted avg       0.35      0.30      0.29        69\n",
            "\n",
            "Confusion Matrix: \n",
            " [[0 0 0 0 0 0]\n",
            " [2 4 1 1 3 1]\n",
            " [2 3 2 5 4 0]\n",
            " [0 3 2 7 2 0]\n",
            " [1 2 2 3 7 0]\n",
            " [1 4 3 3 0 1]]\n"
          ]
        },
        {
          "output_type": "stream",
          "name": "stderr",
          "text": [
            "/usr/local/lib/python3.7/dist-packages/sklearn/metrics/_classification.py:1272: UndefinedMetricWarning: Recall and F-score are ill-defined and being set to 0.0 in labels with no true samples. Use `zero_division` parameter to control this behavior.\n",
            "  _warn_prf(average, modifier, msg_start, len(result))\n"
          ]
        }
      ]
    },
    {
      "cell_type": "markdown",
      "metadata": {
        "id": "IBEAyqlOxTKR"
      },
      "source": [
        "## Predict emotional flex with non-health variables"
      ]
    },
    {
      "cell_type": "code",
      "metadata": {
        "colab": {
          "base_uri": "https://localhost:8080/"
        },
        "id": "pekFLSgexTKS",
        "outputId": "f82b9db7-86e0-4ff0-df9e-b1f296903d06"
      },
      "source": [
        "data.head()"
      ],
      "execution_count": null,
      "outputs": [
        {
          "output_type": "execute_result",
          "data": {
            "text/html": [
              "<div>\n",
              "<style scoped>\n",
              "    .dataframe tbody tr th:only-of-type {\n",
              "        vertical-align: middle;\n",
              "    }\n",
              "\n",
              "    .dataframe tbody tr th {\n",
              "        vertical-align: top;\n",
              "    }\n",
              "\n",
              "    .dataframe thead th {\n",
              "        text-align: right;\n",
              "    }\n",
              "</style>\n",
              "<table border=\"1\" class=\"dataframe\">\n",
              "  <thead>\n",
              "    <tr style=\"text-align: right;\">\n",
              "      <th></th>\n",
              "      <th>gender</th>\n",
              "      <th>age</th>\n",
              "      <th>amount_music</th>\n",
              "      <th>life_enjoyment</th>\n",
              "      <th>resilience</th>\n",
              "      <th>balanced_life</th>\n",
              "      <th>emotional_flex</th>\n",
              "      <th>self_actualization</th>\n",
              "      <th>trauma</th>\n",
              "      <th>total_health</th>\n",
              "      <th>energy</th>\n",
              "      <th>dance</th>\n",
              "      <th>liveness</th>\n",
              "      <th>valence</th>\n",
              "      <th>tempo</th>\n",
              "      <th>instrumental</th>\n",
              "      <th>acoustic</th>\n",
              "      <th>popularity</th>\n",
              "      <th>health_categorical</th>\n",
              "    </tr>\n",
              "  </thead>\n",
              "  <tbody>\n",
              "    <tr>\n",
              "      <th>0</th>\n",
              "      <td>1</td>\n",
              "      <td>1</td>\n",
              "      <td>1</td>\n",
              "      <td>4</td>\n",
              "      <td>3</td>\n",
              "      <td>5</td>\n",
              "      <td>3</td>\n",
              "      <td>6</td>\n",
              "      <td>0</td>\n",
              "      <td>21</td>\n",
              "      <td>0.6330</td>\n",
              "      <td>0.655000</td>\n",
              "      <td>0.1100</td>\n",
              "      <td>0.5715</td>\n",
              "      <td>98.3680</td>\n",
              "      <td>0.000025</td>\n",
              "      <td>0.281600</td>\n",
              "      <td>71.500000</td>\n",
              "      <td>1.0</td>\n",
              "    </tr>\n",
              "    <tr>\n",
              "      <th>1</th>\n",
              "      <td>1</td>\n",
              "      <td>1</td>\n",
              "      <td>1</td>\n",
              "      <td>6</td>\n",
              "      <td>6</td>\n",
              "      <td>3</td>\n",
              "      <td>5</td>\n",
              "      <td>5</td>\n",
              "      <td>0</td>\n",
              "      <td>25</td>\n",
              "      <td>0.6550</td>\n",
              "      <td>0.526000</td>\n",
              "      <td>0.1160</td>\n",
              "      <td>0.1560</td>\n",
              "      <td>121.1270</td>\n",
              "      <td>0.000000</td>\n",
              "      <td>0.056600</td>\n",
              "      <td>65.000000</td>\n",
              "      <td>1.0</td>\n",
              "    </tr>\n",
              "    <tr>\n",
              "      <th>2</th>\n",
              "      <td>0</td>\n",
              "      <td>1</td>\n",
              "      <td>0</td>\n",
              "      <td>5</td>\n",
              "      <td>5</td>\n",
              "      <td>4</td>\n",
              "      <td>4</td>\n",
              "      <td>5</td>\n",
              "      <td>0</td>\n",
              "      <td>23</td>\n",
              "      <td>0.7455</td>\n",
              "      <td>0.742000</td>\n",
              "      <td>0.1835</td>\n",
              "      <td>0.6185</td>\n",
              "      <td>125.0090</td>\n",
              "      <td>0.000023</td>\n",
              "      <td>0.053800</td>\n",
              "      <td>63.500000</td>\n",
              "      <td>1.0</td>\n",
              "    </tr>\n",
              "    <tr>\n",
              "      <th>3</th>\n",
              "      <td>1</td>\n",
              "      <td>1</td>\n",
              "      <td>2</td>\n",
              "      <td>3</td>\n",
              "      <td>6</td>\n",
              "      <td>5</td>\n",
              "      <td>5</td>\n",
              "      <td>5</td>\n",
              "      <td>0</td>\n",
              "      <td>24</td>\n",
              "      <td>0.7390</td>\n",
              "      <td>0.681667</td>\n",
              "      <td>0.1489</td>\n",
              "      <td>0.5960</td>\n",
              "      <td>113.5760</td>\n",
              "      <td>0.000001</td>\n",
              "      <td>0.348867</td>\n",
              "      <td>60.333333</td>\n",
              "      <td>1.0</td>\n",
              "    </tr>\n",
              "    <tr>\n",
              "      <th>4</th>\n",
              "      <td>0</td>\n",
              "      <td>1</td>\n",
              "      <td>0</td>\n",
              "      <td>2</td>\n",
              "      <td>5</td>\n",
              "      <td>2</td>\n",
              "      <td>1</td>\n",
              "      <td>5</td>\n",
              "      <td>1</td>\n",
              "      <td>15</td>\n",
              "      <td>0.5390</td>\n",
              "      <td>0.513000</td>\n",
              "      <td>0.2155</td>\n",
              "      <td>0.2915</td>\n",
              "      <td>122.4605</td>\n",
              "      <td>0.464350</td>\n",
              "      <td>0.599500</td>\n",
              "      <td>3.000000</td>\n",
              "      <td>0.0</td>\n",
              "    </tr>\n",
              "  </tbody>\n",
              "</table>\n",
              "</div>"
            ],
            "text/plain": [
              "   gender  age  amount_music  ...  acoustic  popularity  health_categorical\n",
              "0       1    1             1  ...  0.281600   71.500000                 1.0\n",
              "1       1    1             1  ...  0.056600   65.000000                 1.0\n",
              "2       0    1             0  ...  0.053800   63.500000                 1.0\n",
              "3       1    1             2  ...  0.348867   60.333333                 1.0\n",
              "4       0    1             0  ...  0.599500    3.000000                 0.0\n",
              "\n",
              "[5 rows x 19 columns]"
            ]
          },
          "metadata": {},
          "execution_count": 131
        }
      ]
    },
    {
      "cell_type": "markdown",
      "metadata": {
        "id": "3ai2VsZYxTKS"
      },
      "source": [
        "Drop unwanted variables."
      ]
    },
    {
      "cell_type": "code",
      "metadata": {
        "id": "2r_5ysvKxTKS"
      },
      "source": [
        "# exclude the indicators of mental health\n",
        "to_exclude = ['health_categorical', \n",
        "              'total_health', \n",
        "              'life_enjoyment', \n",
        "              'resilience', \n",
        "              'balanced_life', \n",
        "              'self_actualization']\n",
        "\n",
        "data_1 = data.drop(columns=to_exclude)     # data_1 is the dataframe we'll use to build the model"
      ],
      "execution_count": null,
      "outputs": []
    },
    {
      "cell_type": "markdown",
      "metadata": {
        "id": "0K-xWx9-xTKS"
      },
      "source": [
        "Split data into training and test set."
      ]
    },
    {
      "cell_type": "code",
      "metadata": {
        "id": "pUEhFZivxTKT"
      },
      "source": [
        "# Split data\n",
        "\n",
        "from sklearn.model_selection import train_test_split\n",
        "# data = pd.get_dummies(data, drop_first=True)\n",
        "# We split the data up into a test set and a training set, 30 - 70 %\n",
        "# train_test_split\n",
        "# First argument: x data is all data without class column\n",
        "# Second argument:  this is the class label column\n",
        "# Random state = 0: ensures the train and test splitting is deterministic. \n",
        "#Otherwise every student would get a different train test split.\n",
        "X_train, X_test, y_train, y_test = train_test_split(data_1.drop('emotional_flex',1),    # X data\n",
        "                                                    data_1['emotional_flex'],           # y\n",
        "                                                    test_size=0.3,\n",
        "                                                    random_state=0) "
      ],
      "execution_count": null,
      "outputs": []
    },
    {
      "cell_type": "markdown",
      "metadata": {
        "id": "3EFsgSrbxTKT"
      },
      "source": [
        "Normalize the data."
      ]
    },
    {
      "cell_type": "code",
      "metadata": {
        "id": "dOXpmor6xTKT"
      },
      "source": [
        "# Normalize data\n",
        "\n",
        "from sklearn.preprocessing import MinMaxScaler\n",
        "\n",
        "# define a new scaler: \n",
        "x_scaler = MinMaxScaler()\n",
        "\n",
        "# fit the normalization on the training set: \n",
        "x_scaler.fit(X_train)      # .fit computes the min and max to be used for later scaling\n",
        "\n",
        "# then create new and normalized training/test sets: \n",
        "X_train_norm = x_scaler.transform(X_train)        \n",
        "X_test_norm = x_scaler.transform(X_test)\n",
        "#.transform scales features of X according to the feature range\n",
        "\n",
        "# alternatively, you can use .fit_transform(___) to fit the data and transform it"
      ],
      "execution_count": null,
      "outputs": []
    },
    {
      "cell_type": "markdown",
      "metadata": {
        "id": "yYBoFS0fxTKT"
      },
      "source": [
        "### Logistic Regression (acc = 0.23)"
      ]
    },
    {
      "cell_type": "code",
      "metadata": {
        "colab": {
          "base_uri": "https://localhost:8080/"
        },
        "id": "pFBFKb7AxTKT",
        "outputId": "7885b5d8-bf25-4980-bff5-3b9a0fa72d04"
      },
      "source": [
        "# Logistic Regression\n",
        "from sklearn.linear_model import LogisticRegression\n",
        "\n",
        "model = LogisticRegression(C=1.0, multi_class='auto', solver='lbfgs')\n",
        "model.fit(X_train_norm, y_train)\n",
        "\n",
        "y_pred = model.predict(X_test_norm)  # Predict\n",
        "print (y_pred)\n",
        "evaluate_multiclass_model(y_test, y_pred)   # Evaluate"
      ],
      "execution_count": null,
      "outputs": [
        {
          "output_type": "stream",
          "name": "stdout",
          "text": [
            "[4 5 3 5 4 3 5 5 3 4 3 5 4 5 5 5 5 4 3 5 5 4 4 5 5 3 4 5 4 4 4 4 5 5 4 5 5\n",
            " 5 5 4 3 5 5 3 3 5 5 3 5 5 5 4 5 4 4 4 5 4 4 3 4 5 4 3 4 5 5 4 4]\n",
            "              precision    recall  f1-score   support\n",
            "\n",
            "           0       0.00      0.00      0.00         4\n",
            "           1       0.00      0.00      0.00         5\n",
            "           2       0.00      0.00      0.00        12\n",
            "           3       0.25      0.25      0.25        12\n",
            "           4       0.32      0.53      0.40        15\n",
            "           5       0.16      0.45      0.23        11\n",
            "           6       0.00      0.00      0.00        10\n",
            "\n",
            "    accuracy                           0.23        69\n",
            "   macro avg       0.10      0.18      0.13        69\n",
            "weighted avg       0.14      0.23      0.17        69\n",
            "\n",
            "Confusion Matrix: \n",
            " [[0 0 0 1 1 2 0]\n",
            " [0 0 0 0 3 2 0]\n",
            " [0 0 0 3 5 4 0]\n",
            " [0 0 0 3 4 5 0]\n",
            " [0 0 0 1 8 6 0]\n",
            " [0 0 0 4 2 5 0]\n",
            " [0 0 0 0 2 8 0]]\n"
          ]
        },
        {
          "output_type": "stream",
          "name": "stderr",
          "text": [
            "/usr/local/lib/python3.7/dist-packages/sklearn/metrics/_classification.py:1272: UndefinedMetricWarning: Precision and F-score are ill-defined and being set to 0.0 in labels with no predicted samples. Use `zero_division` parameter to control this behavior.\n",
            "  _warn_prf(average, modifier, msg_start, len(result))\n"
          ]
        }
      ]
    },
    {
      "cell_type": "markdown",
      "metadata": {
        "id": "WeKYmO0LxTKU"
      },
      "source": [
        "### k Nearest Neighbours (acc = 0.30)"
      ]
    },
    {
      "cell_type": "code",
      "metadata": {
        "colab": {
          "base_uri": "https://localhost:8080/"
        },
        "id": "RPXxO6bLxTKU",
        "outputId": "39a86c68-4891-4394-d77d-028d0a7bd8be"
      },
      "source": [
        "from sklearn.neighbors import KNeighborsClassifier\n",
        "\n",
        "model = KNeighborsClassifier(n_neighbors=29) # Define the model with parameters\n",
        "\n",
        "model.fit(X_train_norm, y_train) # Training the model\n",
        "\n",
        "# Evaluate the model: \n",
        "y_pred = model.predict(X_test_norm) # Predicting labels for our test set using trained model\n",
        "evaluate_multiclass_model(y_test, y_pred) #evaluate our model using newly defined function"
      ],
      "execution_count": null,
      "outputs": [
        {
          "output_type": "stream",
          "name": "stdout",
          "text": [
            "              precision    recall  f1-score   support\n",
            "\n",
            "           0       0.00      0.00      0.00         4\n",
            "           1       0.00      0.00      0.00         5\n",
            "           2       0.00      0.00      0.00        12\n",
            "           3       0.26      0.42      0.32        12\n",
            "           4       0.43      0.60      0.50        15\n",
            "           5       0.24      0.64      0.35        11\n",
            "           6       0.00      0.00      0.00        10\n",
            "\n",
            "    accuracy                           0.30        69\n",
            "   macro avg       0.13      0.24      0.17        69\n",
            "weighted avg       0.18      0.30      0.22        69\n",
            "\n",
            "Confusion Matrix: \n",
            " [[0 0 0 2 1 1 0]\n",
            " [0 0 0 1 3 1 0]\n",
            " [0 0 0 3 5 4 0]\n",
            " [0 0 0 5 2 5 0]\n",
            " [0 0 0 2 9 4 0]\n",
            " [0 0 0 4 0 7 0]\n",
            " [0 0 0 2 1 7 0]]\n"
          ]
        },
        {
          "output_type": "stream",
          "name": "stderr",
          "text": [
            "/usr/local/lib/python3.7/dist-packages/sklearn/metrics/_classification.py:1272: UndefinedMetricWarning: Precision and F-score are ill-defined and being set to 0.0 in labels with no predicted samples. Use `zero_division` parameter to control this behavior.\n",
            "  _warn_prf(average, modifier, msg_start, len(result))\n"
          ]
        }
      ]
    },
    {
      "cell_type": "markdown",
      "metadata": {
        "id": "SnzUe6xuxVQ_"
      },
      "source": [
        "## Predict self-actualization with non-health variables"
      ]
    },
    {
      "cell_type": "code",
      "metadata": {
        "colab": {
          "base_uri": "https://localhost:8080/"
        },
        "id": "4jZw7OCjxVRA",
        "outputId": "086e724c-8584-481f-96ca-c2a97bb46774"
      },
      "source": [
        "data.head()"
      ],
      "execution_count": null,
      "outputs": [
        {
          "output_type": "execute_result",
          "data": {
            "text/html": [
              "<div>\n",
              "<style scoped>\n",
              "    .dataframe tbody tr th:only-of-type {\n",
              "        vertical-align: middle;\n",
              "    }\n",
              "\n",
              "    .dataframe tbody tr th {\n",
              "        vertical-align: top;\n",
              "    }\n",
              "\n",
              "    .dataframe thead th {\n",
              "        text-align: right;\n",
              "    }\n",
              "</style>\n",
              "<table border=\"1\" class=\"dataframe\">\n",
              "  <thead>\n",
              "    <tr style=\"text-align: right;\">\n",
              "      <th></th>\n",
              "      <th>gender</th>\n",
              "      <th>age</th>\n",
              "      <th>amount_music</th>\n",
              "      <th>life_enjoyment</th>\n",
              "      <th>resilience</th>\n",
              "      <th>balanced_life</th>\n",
              "      <th>emotional_flex</th>\n",
              "      <th>self_actualization</th>\n",
              "      <th>trauma</th>\n",
              "      <th>total_health</th>\n",
              "      <th>energy</th>\n",
              "      <th>dance</th>\n",
              "      <th>liveness</th>\n",
              "      <th>valence</th>\n",
              "      <th>tempo</th>\n",
              "      <th>instrumental</th>\n",
              "      <th>acoustic</th>\n",
              "      <th>popularity</th>\n",
              "      <th>health_categorical</th>\n",
              "    </tr>\n",
              "  </thead>\n",
              "  <tbody>\n",
              "    <tr>\n",
              "      <th>0</th>\n",
              "      <td>1</td>\n",
              "      <td>1</td>\n",
              "      <td>1</td>\n",
              "      <td>4</td>\n",
              "      <td>3</td>\n",
              "      <td>5</td>\n",
              "      <td>3</td>\n",
              "      <td>6</td>\n",
              "      <td>0</td>\n",
              "      <td>21</td>\n",
              "      <td>0.6330</td>\n",
              "      <td>0.655000</td>\n",
              "      <td>0.1100</td>\n",
              "      <td>0.5715</td>\n",
              "      <td>98.3680</td>\n",
              "      <td>0.000025</td>\n",
              "      <td>0.281600</td>\n",
              "      <td>71.500000</td>\n",
              "      <td>1.0</td>\n",
              "    </tr>\n",
              "    <tr>\n",
              "      <th>1</th>\n",
              "      <td>1</td>\n",
              "      <td>1</td>\n",
              "      <td>1</td>\n",
              "      <td>6</td>\n",
              "      <td>6</td>\n",
              "      <td>3</td>\n",
              "      <td>5</td>\n",
              "      <td>5</td>\n",
              "      <td>0</td>\n",
              "      <td>25</td>\n",
              "      <td>0.6550</td>\n",
              "      <td>0.526000</td>\n",
              "      <td>0.1160</td>\n",
              "      <td>0.1560</td>\n",
              "      <td>121.1270</td>\n",
              "      <td>0.000000</td>\n",
              "      <td>0.056600</td>\n",
              "      <td>65.000000</td>\n",
              "      <td>1.0</td>\n",
              "    </tr>\n",
              "    <tr>\n",
              "      <th>2</th>\n",
              "      <td>0</td>\n",
              "      <td>1</td>\n",
              "      <td>0</td>\n",
              "      <td>5</td>\n",
              "      <td>5</td>\n",
              "      <td>4</td>\n",
              "      <td>4</td>\n",
              "      <td>5</td>\n",
              "      <td>0</td>\n",
              "      <td>23</td>\n",
              "      <td>0.7455</td>\n",
              "      <td>0.742000</td>\n",
              "      <td>0.1835</td>\n",
              "      <td>0.6185</td>\n",
              "      <td>125.0090</td>\n",
              "      <td>0.000023</td>\n",
              "      <td>0.053800</td>\n",
              "      <td>63.500000</td>\n",
              "      <td>1.0</td>\n",
              "    </tr>\n",
              "    <tr>\n",
              "      <th>3</th>\n",
              "      <td>1</td>\n",
              "      <td>1</td>\n",
              "      <td>2</td>\n",
              "      <td>3</td>\n",
              "      <td>6</td>\n",
              "      <td>5</td>\n",
              "      <td>5</td>\n",
              "      <td>5</td>\n",
              "      <td>0</td>\n",
              "      <td>24</td>\n",
              "      <td>0.7390</td>\n",
              "      <td>0.681667</td>\n",
              "      <td>0.1489</td>\n",
              "      <td>0.5960</td>\n",
              "      <td>113.5760</td>\n",
              "      <td>0.000001</td>\n",
              "      <td>0.348867</td>\n",
              "      <td>60.333333</td>\n",
              "      <td>1.0</td>\n",
              "    </tr>\n",
              "    <tr>\n",
              "      <th>4</th>\n",
              "      <td>0</td>\n",
              "      <td>1</td>\n",
              "      <td>0</td>\n",
              "      <td>2</td>\n",
              "      <td>5</td>\n",
              "      <td>2</td>\n",
              "      <td>1</td>\n",
              "      <td>5</td>\n",
              "      <td>1</td>\n",
              "      <td>15</td>\n",
              "      <td>0.5390</td>\n",
              "      <td>0.513000</td>\n",
              "      <td>0.2155</td>\n",
              "      <td>0.2915</td>\n",
              "      <td>122.4605</td>\n",
              "      <td>0.464350</td>\n",
              "      <td>0.599500</td>\n",
              "      <td>3.000000</td>\n",
              "      <td>0.0</td>\n",
              "    </tr>\n",
              "  </tbody>\n",
              "</table>\n",
              "</div>"
            ],
            "text/plain": [
              "   gender  age  amount_music  ...  acoustic  popularity  health_categorical\n",
              "0       1    1             1  ...  0.281600   71.500000                 1.0\n",
              "1       1    1             1  ...  0.056600   65.000000                 1.0\n",
              "2       0    1             0  ...  0.053800   63.500000                 1.0\n",
              "3       1    1             2  ...  0.348867   60.333333                 1.0\n",
              "4       0    1             0  ...  0.599500    3.000000                 0.0\n",
              "\n",
              "[5 rows x 19 columns]"
            ]
          },
          "metadata": {},
          "execution_count": 137
        }
      ]
    },
    {
      "cell_type": "markdown",
      "metadata": {
        "id": "kIxAw37TxVRB"
      },
      "source": [
        "Drop unwanted variables."
      ]
    },
    {
      "cell_type": "code",
      "metadata": {
        "id": "XwkbHollxVRB"
      },
      "source": [
        "# exclude the indicators of mental health\n",
        "to_exclude = ['health_categorical', \n",
        "              'total_health', \n",
        "              'life_enjoyment', \n",
        "              'resilience', \n",
        "              'emotional_flex', \n",
        "              'balanced_life']\n",
        "\n",
        "data_1 = data.drop(columns=to_exclude)     # data_1 is the dataframe we'll use to build the model"
      ],
      "execution_count": null,
      "outputs": []
    },
    {
      "cell_type": "markdown",
      "metadata": {
        "id": "auK614yPxVRB"
      },
      "source": [
        "Split data into training and test set."
      ]
    },
    {
      "cell_type": "code",
      "metadata": {
        "id": "kxOg9tWQxVRB"
      },
      "source": [
        "# Split data\n",
        "\n",
        "from sklearn.model_selection import train_test_split\n",
        "# data = pd.get_dummies(data, drop_first=True)\n",
        "# We split the data up into a test set and a training set, 30 - 70 %\n",
        "# train_test_split\n",
        "# First argument: x data is all data without class column\n",
        "# Second argument:  this is the class label column\n",
        "# Random state = 0: ensures the train and test splitting is deterministic. \n",
        "#Otherwise every student would get a different train test split.\n",
        "X_train, X_test, y_train, y_test = train_test_split(data_1.drop('self_actualization',1),    # X data\n",
        "                                                    data_1['self_actualization'],           # y\n",
        "                                                    test_size=0.3,\n",
        "                                                    random_state=0) "
      ],
      "execution_count": null,
      "outputs": []
    },
    {
      "cell_type": "markdown",
      "metadata": {
        "id": "HaGP1lqNxVRC"
      },
      "source": [
        "Normalize the data."
      ]
    },
    {
      "cell_type": "code",
      "metadata": {
        "id": "x7wBgTzoxVRC"
      },
      "source": [
        "# Normalize data\n",
        "\n",
        "from sklearn.preprocessing import MinMaxScaler\n",
        "\n",
        "# define a new scaler: \n",
        "x_scaler = MinMaxScaler()\n",
        "\n",
        "# fit the normalization on the training set: \n",
        "x_scaler.fit(X_train)      # .fit computes the min and max to be used for later scaling\n",
        "\n",
        "# then create new and normalized training/test sets: \n",
        "X_train_norm = x_scaler.transform(X_train)        \n",
        "X_test_norm = x_scaler.transform(X_test)\n",
        "#.transform scales features of X according to the feature range\n",
        "\n",
        "# alternatively, you can use .fit_transform(___) to fit the data and transform it"
      ],
      "execution_count": null,
      "outputs": []
    },
    {
      "cell_type": "markdown",
      "metadata": {
        "id": "HZVm9aBexVRC"
      },
      "source": [
        "### Logistic Regression (acc = 0.30)"
      ]
    },
    {
      "cell_type": "code",
      "metadata": {
        "colab": {
          "base_uri": "https://localhost:8080/"
        },
        "id": "596mKhdpxVRC",
        "outputId": "847a875c-543a-484f-ceab-7f6bcd6df458"
      },
      "source": [
        "# Logistic Regression\n",
        "from sklearn.linear_model import LogisticRegression\n",
        "\n",
        "model = LogisticRegression(C=1.0, multi_class='auto', solver='lbfgs')\n",
        "model.fit(X_train_norm, y_train)\n",
        "\n",
        "y_pred = model.predict(X_test_norm)  # Predict\n",
        "print (y_pred)\n",
        "evaluate_multiclass_model(y_test, y_pred)   # Evaluate"
      ],
      "execution_count": null,
      "outputs": [
        {
          "output_type": "stream",
          "name": "stdout",
          "text": [
            "[5 5 5 5 5 5 5 5 5 5 5 5 5 5 5 5 5 5 6 4 5 5 5 5 4 5 4 5 5 5 5 5 5 5 5 5 5\n",
            " 5 5 5 5 5 4 5 5 5 6 4 5 4 5 4 5 5 5 5 5 5 4 5 5 5 5 5 5 5 5 5 5]\n",
            "              precision    recall  f1-score   support\n",
            "\n",
            "           0       0.00      0.00      0.00         1\n",
            "           1       0.00      0.00      0.00         4\n",
            "           2       0.00      0.00      0.00         3\n",
            "           3       0.00      0.00      0.00        10\n",
            "           4       0.50      0.24      0.32        17\n",
            "           5       0.27      0.89      0.42        18\n",
            "           6       0.50      0.06      0.11        16\n",
            "\n",
            "    accuracy                           0.30        69\n",
            "   macro avg       0.18      0.17      0.12        69\n",
            "weighted avg       0.31      0.30      0.21        69\n",
            "\n",
            "Confusion Matrix: \n",
            " [[ 0  0  0  0  0  1  0]\n",
            " [ 0  0  0  0  0  4  0]\n",
            " [ 0  0  0  0  0  3  0]\n",
            " [ 0  0  0  0  0 10  0]\n",
            " [ 0  0  0  0  4 13  0]\n",
            " [ 0  0  0  0  1 16  1]\n",
            " [ 0  0  0  0  3 12  1]]\n"
          ]
        },
        {
          "output_type": "stream",
          "name": "stderr",
          "text": [
            "/usr/local/lib/python3.7/dist-packages/sklearn/metrics/_classification.py:1272: UndefinedMetricWarning: Precision and F-score are ill-defined and being set to 0.0 in labels with no predicted samples. Use `zero_division` parameter to control this behavior.\n",
            "  _warn_prf(average, modifier, msg_start, len(result))\n"
          ]
        }
      ]
    },
    {
      "cell_type": "markdown",
      "metadata": {
        "id": "GTSchGtkxVRD"
      },
      "source": [
        "### k Nearest Neighbours (acc = 0.32)"
      ]
    },
    {
      "cell_type": "code",
      "metadata": {
        "colab": {
          "base_uri": "https://localhost:8080/"
        },
        "id": "DVGi7M-zxVRD",
        "outputId": "dc510d7c-17dc-403a-866a-0f3bcf894268"
      },
      "source": [
        "from sklearn.neighbors import KNeighborsClassifier\n",
        "\n",
        "model = KNeighborsClassifier(n_neighbors=40) # Define the model with parameters\n",
        "\n",
        "model.fit(X_train_norm, y_train) # Training the model\n",
        "\n",
        "# Evaluate the model: \n",
        "y_pred = model.predict(X_test_norm) # Predicting labels for our test set using trained model\n",
        "evaluate_multiclass_model(y_test, y_pred) #evaluate our model using newly defined function"
      ],
      "execution_count": null,
      "outputs": [
        {
          "output_type": "stream",
          "name": "stdout",
          "text": [
            "              precision    recall  f1-score   support\n",
            "\n",
            "           0       0.00      0.00      0.00         1\n",
            "           1       0.00      0.00      0.00         4\n",
            "           2       0.00      0.00      0.00         3\n",
            "           3       0.00      0.00      0.00        10\n",
            "           4       0.50      0.29      0.37        17\n",
            "           5       0.28      0.89      0.43        18\n",
            "           6       0.50      0.06      0.11        16\n",
            "\n",
            "    accuracy                           0.32        69\n",
            "   macro avg       0.18      0.18      0.13        69\n",
            "weighted avg       0.31      0.32      0.23        69\n",
            "\n",
            "Confusion Matrix: \n",
            " [[ 0  0  0  0  0  1  0]\n",
            " [ 0  0  0  0  0  4  0]\n",
            " [ 0  0  0  0  0  3  0]\n",
            " [ 0  0  0  0  1  8  1]\n",
            " [ 0  0  0  0  5 12  0]\n",
            " [ 0  0  0  0  2 16  0]\n",
            " [ 0  0  0  0  2 13  1]]\n"
          ]
        },
        {
          "output_type": "stream",
          "name": "stderr",
          "text": [
            "/usr/local/lib/python3.7/dist-packages/sklearn/metrics/_classification.py:1272: UndefinedMetricWarning: Precision and F-score are ill-defined and being set to 0.0 in labels with no predicted samples. Use `zero_division` parameter to control this behavior.\n",
            "  _warn_prf(average, modifier, msg_start, len(result))\n"
          ]
        }
      ]
    },
    {
      "cell_type": "markdown",
      "metadata": {
        "id": "B6Ar2Rfi0X62"
      },
      "source": [
        "## Predict amount music with all variables"
      ]
    },
    {
      "cell_type": "code",
      "metadata": {
        "colab": {
          "base_uri": "https://localhost:8080/"
        },
        "id": "VvvEg3SubihC",
        "outputId": "fcb5914c-ccaa-44a3-e9eb-4140c3dbea71"
      },
      "source": [
        "data.head()"
      ],
      "execution_count": null,
      "outputs": [
        {
          "output_type": "execute_result",
          "data": {
            "text/html": [
              "<div>\n",
              "<style scoped>\n",
              "    .dataframe tbody tr th:only-of-type {\n",
              "        vertical-align: middle;\n",
              "    }\n",
              "\n",
              "    .dataframe tbody tr th {\n",
              "        vertical-align: top;\n",
              "    }\n",
              "\n",
              "    .dataframe thead th {\n",
              "        text-align: right;\n",
              "    }\n",
              "</style>\n",
              "<table border=\"1\" class=\"dataframe\">\n",
              "  <thead>\n",
              "    <tr style=\"text-align: right;\">\n",
              "      <th></th>\n",
              "      <th>gender</th>\n",
              "      <th>age</th>\n",
              "      <th>amount_music</th>\n",
              "      <th>life_enjoyment</th>\n",
              "      <th>resilience</th>\n",
              "      <th>balanced_life</th>\n",
              "      <th>emotional_flex</th>\n",
              "      <th>self_actualization</th>\n",
              "      <th>trauma</th>\n",
              "      <th>total_health</th>\n",
              "      <th>energy</th>\n",
              "      <th>dance</th>\n",
              "      <th>liveness</th>\n",
              "      <th>valence</th>\n",
              "      <th>tempo</th>\n",
              "      <th>instrumental</th>\n",
              "      <th>acoustic</th>\n",
              "      <th>popularity</th>\n",
              "      <th>health_categorical</th>\n",
              "    </tr>\n",
              "  </thead>\n",
              "  <tbody>\n",
              "    <tr>\n",
              "      <th>0</th>\n",
              "      <td>1</td>\n",
              "      <td>1</td>\n",
              "      <td>1</td>\n",
              "      <td>4</td>\n",
              "      <td>3</td>\n",
              "      <td>5</td>\n",
              "      <td>3</td>\n",
              "      <td>6</td>\n",
              "      <td>0</td>\n",
              "      <td>21</td>\n",
              "      <td>0.6330</td>\n",
              "      <td>0.655000</td>\n",
              "      <td>0.1100</td>\n",
              "      <td>0.5715</td>\n",
              "      <td>98.3680</td>\n",
              "      <td>0.000025</td>\n",
              "      <td>0.281600</td>\n",
              "      <td>71.500000</td>\n",
              "      <td>1.0</td>\n",
              "    </tr>\n",
              "    <tr>\n",
              "      <th>1</th>\n",
              "      <td>1</td>\n",
              "      <td>1</td>\n",
              "      <td>1</td>\n",
              "      <td>6</td>\n",
              "      <td>6</td>\n",
              "      <td>3</td>\n",
              "      <td>5</td>\n",
              "      <td>5</td>\n",
              "      <td>0</td>\n",
              "      <td>25</td>\n",
              "      <td>0.6550</td>\n",
              "      <td>0.526000</td>\n",
              "      <td>0.1160</td>\n",
              "      <td>0.1560</td>\n",
              "      <td>121.1270</td>\n",
              "      <td>0.000000</td>\n",
              "      <td>0.056600</td>\n",
              "      <td>65.000000</td>\n",
              "      <td>1.0</td>\n",
              "    </tr>\n",
              "    <tr>\n",
              "      <th>2</th>\n",
              "      <td>0</td>\n",
              "      <td>1</td>\n",
              "      <td>0</td>\n",
              "      <td>5</td>\n",
              "      <td>5</td>\n",
              "      <td>4</td>\n",
              "      <td>4</td>\n",
              "      <td>5</td>\n",
              "      <td>0</td>\n",
              "      <td>23</td>\n",
              "      <td>0.7455</td>\n",
              "      <td>0.742000</td>\n",
              "      <td>0.1835</td>\n",
              "      <td>0.6185</td>\n",
              "      <td>125.0090</td>\n",
              "      <td>0.000023</td>\n",
              "      <td>0.053800</td>\n",
              "      <td>63.500000</td>\n",
              "      <td>1.0</td>\n",
              "    </tr>\n",
              "    <tr>\n",
              "      <th>3</th>\n",
              "      <td>1</td>\n",
              "      <td>1</td>\n",
              "      <td>2</td>\n",
              "      <td>3</td>\n",
              "      <td>6</td>\n",
              "      <td>5</td>\n",
              "      <td>5</td>\n",
              "      <td>5</td>\n",
              "      <td>0</td>\n",
              "      <td>24</td>\n",
              "      <td>0.7390</td>\n",
              "      <td>0.681667</td>\n",
              "      <td>0.1489</td>\n",
              "      <td>0.5960</td>\n",
              "      <td>113.5760</td>\n",
              "      <td>0.000001</td>\n",
              "      <td>0.348867</td>\n",
              "      <td>60.333333</td>\n",
              "      <td>1.0</td>\n",
              "    </tr>\n",
              "    <tr>\n",
              "      <th>4</th>\n",
              "      <td>0</td>\n",
              "      <td>1</td>\n",
              "      <td>0</td>\n",
              "      <td>2</td>\n",
              "      <td>5</td>\n",
              "      <td>2</td>\n",
              "      <td>1</td>\n",
              "      <td>5</td>\n",
              "      <td>1</td>\n",
              "      <td>15</td>\n",
              "      <td>0.5390</td>\n",
              "      <td>0.513000</td>\n",
              "      <td>0.2155</td>\n",
              "      <td>0.2915</td>\n",
              "      <td>122.4605</td>\n",
              "      <td>0.464350</td>\n",
              "      <td>0.599500</td>\n",
              "      <td>3.000000</td>\n",
              "      <td>0.0</td>\n",
              "    </tr>\n",
              "  </tbody>\n",
              "</table>\n",
              "</div>"
            ],
            "text/plain": [
              "   gender  age  amount_music  ...  acoustic  popularity  health_categorical\n",
              "0       1    1             1  ...  0.281600   71.500000                 1.0\n",
              "1       1    1             1  ...  0.056600   65.000000                 1.0\n",
              "2       0    1             0  ...  0.053800   63.500000                 1.0\n",
              "3       1    1             2  ...  0.348867   60.333333                 1.0\n",
              "4       0    1             0  ...  0.599500    3.000000                 0.0\n",
              "\n",
              "[5 rows x 19 columns]"
            ]
          },
          "metadata": {},
          "execution_count": 143
        }
      ]
    },
    {
      "cell_type": "markdown",
      "metadata": {
        "id": "h_HoRmyGbihE"
      },
      "source": [
        "Split data into training and test set, and normalize data."
      ]
    },
    {
      "cell_type": "code",
      "metadata": {
        "id": "1IRu1YnwbihE"
      },
      "source": [
        "# Split data\n",
        "\n",
        "from sklearn.model_selection import train_test_split\n",
        "# data = pd.get_dummies(data, drop_first=True)\n",
        "# We split the data up into a test set and a training set, 30 - 70 %\n",
        "# train_test_split\n",
        "# First argument: x data is all data without class column\n",
        "# Second argument:  this is the class label column\n",
        "# Random state = 0: ensures the train and test splitting is deterministic. \n",
        "#Otherwise every student would get a different train test split.\n",
        "X_train, X_test, y_train, y_test = train_test_split(data.drop('amount_music',1),    # X data\n",
        "                                                    data['amount_music'],           # y\n",
        "                                                    test_size=0.3,\n",
        "                                                    random_state=0) "
      ],
      "execution_count": null,
      "outputs": []
    },
    {
      "cell_type": "code",
      "metadata": {
        "id": "Ii3oPrMgb1iy"
      },
      "source": [
        "# Normalize data\n",
        "\n",
        "from sklearn.preprocessing import MinMaxScaler\n",
        "\n",
        "# define a new scaler: \n",
        "x_scaler = MinMaxScaler()\n",
        "\n",
        "# fit the normalization on the training set: \n",
        "x_scaler.fit(X_train)      # .fit computes the min and max to be used for later scaling\n",
        "\n",
        "# then create new and normalized training/test sets: \n",
        "X_train_norm = x_scaler.transform(X_train)        \n",
        "X_test_norm = x_scaler.transform(X_test)\n",
        "#.transform scales features of X according to the feature range\n",
        "\n",
        "# alternatively, you can use .fit_transform(___) to fit the data and transform it"
      ],
      "execution_count": null,
      "outputs": []
    },
    {
      "cell_type": "markdown",
      "metadata": {
        "id": "Sk78J3K7bihE"
      },
      "source": [
        "### Logistic Regression (acc = 0.41)"
      ]
    },
    {
      "cell_type": "code",
      "metadata": {
        "colab": {
          "base_uri": "https://localhost:8080/"
        },
        "id": "UHzg1tTxbihF",
        "outputId": "7901b341-2338-4e81-9d94-7c97a2b726cb"
      },
      "source": [
        "# Logistic Regression\n",
        "from sklearn.linear_model import LogisticRegression\n",
        "\n",
        "model = LogisticRegression(C=1.0, multi_class='auto', solver='lbfgs')\n",
        "model.fit(X_train_norm, y_train)\n",
        "\n",
        "y_pred = model.predict(X_test_norm)  # Predict\n",
        "print (y_pred)\n",
        "evaluate_multiclass_model(y_test, y_pred)   # Evaluate"
      ],
      "execution_count": null,
      "outputs": [
        {
          "output_type": "stream",
          "name": "stdout",
          "text": [
            "[2 2 2 2 2 2 2 2 2 2 2 2 2 2 2 2 2 1 0 2 2 2 1 1 2 2 2 2 1 1 2 2 1 1 1 2 2\n",
            " 2 2 2 2 1 2 2 2 2 2 2 2 2 1 2 1 1 2 1 2 2 2 2 2 2 2 2 2 2 2 1 1]\n",
            "              precision    recall  f1-score   support\n",
            "\n",
            "           0       0.00      0.00      0.00         8\n",
            "           1       0.27      0.14      0.19        28\n",
            "           2       0.45      0.75      0.56        32\n",
            "           3       0.00      0.00      0.00         1\n",
            "\n",
            "    accuracy                           0.41        69\n",
            "   macro avg       0.18      0.22      0.19        69\n",
            "weighted avg       0.32      0.41      0.34        69\n",
            "\n",
            "Confusion Matrix: \n",
            " [[ 0  3  5  0]\n",
            " [ 1  4 23  0]\n",
            " [ 0  8 24  0]\n",
            " [ 0  0  1  0]]\n"
          ]
        },
        {
          "output_type": "stream",
          "name": "stderr",
          "text": [
            "/usr/local/lib/python3.7/dist-packages/sklearn/metrics/_classification.py:1272: UndefinedMetricWarning: Precision and F-score are ill-defined and being set to 0.0 in labels with no predicted samples. Use `zero_division` parameter to control this behavior.\n",
            "  _warn_prf(average, modifier, msg_start, len(result))\n"
          ]
        }
      ]
    },
    {
      "cell_type": "markdown",
      "metadata": {
        "id": "60ej7RaIicyr"
      },
      "source": [
        "### k Nearest Neighbours (acc = 0.54)"
      ]
    },
    {
      "cell_type": "code",
      "metadata": {
        "colab": {
          "base_uri": "https://localhost:8080/"
        },
        "id": "gcAYhxAXicys",
        "outputId": "9cee1e88-5d28-4440-a240-a967778a96a9"
      },
      "source": [
        "from sklearn.neighbors import KNeighborsClassifier\n",
        "\n",
        "model = KNeighborsClassifier(n_neighbors=20) # Define the model with parameters\n",
        "\n",
        "model.fit(X_train_norm, y_train) # Training the model\n",
        "\n",
        "# Evaluate the model: \n",
        "y_pred = model.predict(X_test_norm) # Predicting labels for our test set using trained model\n",
        "evaluate_multiclass_model(y_test, y_pred) #evaluate our model using newly defined function"
      ],
      "execution_count": null,
      "outputs": [
        {
          "output_type": "stream",
          "name": "stderr",
          "text": [
            "/usr/local/lib/python3.7/dist-packages/sklearn/metrics/_classification.py:1272: UndefinedMetricWarning: Precision and F-score are ill-defined and being set to 0.0 in labels with no predicted samples. Use `zero_division` parameter to control this behavior.\n",
            "  _warn_prf(average, modifier, msg_start, len(result))\n"
          ]
        },
        {
          "output_type": "stream",
          "name": "stdout",
          "text": [
            "              precision    recall  f1-score   support\n",
            "\n",
            "           0       0.00      0.00      0.00         8\n",
            "           1       0.75      0.21      0.33        28\n",
            "           2       0.51      0.97      0.67        32\n",
            "           3       0.00      0.00      0.00         1\n",
            "\n",
            "    accuracy                           0.54        69\n",
            "   macro avg       0.31      0.30      0.25        69\n",
            "weighted avg       0.54      0.54      0.44        69\n",
            "\n",
            "Confusion Matrix: \n",
            " [[ 0  1  7  0]\n",
            " [ 0  6 22  0]\n",
            " [ 0  1 31  0]\n",
            " [ 0  0  1  0]]\n"
          ]
        }
      ]
    },
    {
      "cell_type": "code",
      "metadata": {
        "id": "2riyfDFHiEOK"
      },
      "source": [
        ""
      ],
      "execution_count": null,
      "outputs": []
    },
    {
      "cell_type": "markdown",
      "metadata": {
        "id": "eJkA47oSiFKW"
      },
      "source": [
        "## Predict trauma with non-health variables"
      ]
    },
    {
      "cell_type": "code",
      "metadata": {
        "colab": {
          "base_uri": "https://localhost:8080/"
        },
        "id": "eR1yrqsUiFKX",
        "outputId": "fa72608d-1a36-4173-e7b0-ebbccb37b768"
      },
      "source": [
        "data.head()"
      ],
      "execution_count": null,
      "outputs": [
        {
          "output_type": "execute_result",
          "data": {
            "text/html": [
              "<div>\n",
              "<style scoped>\n",
              "    .dataframe tbody tr th:only-of-type {\n",
              "        vertical-align: middle;\n",
              "    }\n",
              "\n",
              "    .dataframe tbody tr th {\n",
              "        vertical-align: top;\n",
              "    }\n",
              "\n",
              "    .dataframe thead th {\n",
              "        text-align: right;\n",
              "    }\n",
              "</style>\n",
              "<table border=\"1\" class=\"dataframe\">\n",
              "  <thead>\n",
              "    <tr style=\"text-align: right;\">\n",
              "      <th></th>\n",
              "      <th>gender</th>\n",
              "      <th>age</th>\n",
              "      <th>amount_music</th>\n",
              "      <th>life_enjoyment</th>\n",
              "      <th>resilience</th>\n",
              "      <th>balanced_life</th>\n",
              "      <th>emotional_flex</th>\n",
              "      <th>self_actualization</th>\n",
              "      <th>trauma</th>\n",
              "      <th>total_health</th>\n",
              "      <th>energy</th>\n",
              "      <th>dance</th>\n",
              "      <th>liveness</th>\n",
              "      <th>valence</th>\n",
              "      <th>tempo</th>\n",
              "      <th>instrumental</th>\n",
              "      <th>acoustic</th>\n",
              "      <th>popularity</th>\n",
              "      <th>health_categorical</th>\n",
              "    </tr>\n",
              "  </thead>\n",
              "  <tbody>\n",
              "    <tr>\n",
              "      <th>0</th>\n",
              "      <td>1</td>\n",
              "      <td>1</td>\n",
              "      <td>1</td>\n",
              "      <td>4</td>\n",
              "      <td>3</td>\n",
              "      <td>5</td>\n",
              "      <td>3</td>\n",
              "      <td>6</td>\n",
              "      <td>0</td>\n",
              "      <td>21</td>\n",
              "      <td>0.6330</td>\n",
              "      <td>0.655000</td>\n",
              "      <td>0.1100</td>\n",
              "      <td>0.5715</td>\n",
              "      <td>98.3680</td>\n",
              "      <td>0.000025</td>\n",
              "      <td>0.281600</td>\n",
              "      <td>71.500000</td>\n",
              "      <td>1.0</td>\n",
              "    </tr>\n",
              "    <tr>\n",
              "      <th>1</th>\n",
              "      <td>1</td>\n",
              "      <td>1</td>\n",
              "      <td>1</td>\n",
              "      <td>6</td>\n",
              "      <td>6</td>\n",
              "      <td>3</td>\n",
              "      <td>5</td>\n",
              "      <td>5</td>\n",
              "      <td>0</td>\n",
              "      <td>25</td>\n",
              "      <td>0.6550</td>\n",
              "      <td>0.526000</td>\n",
              "      <td>0.1160</td>\n",
              "      <td>0.1560</td>\n",
              "      <td>121.1270</td>\n",
              "      <td>0.000000</td>\n",
              "      <td>0.056600</td>\n",
              "      <td>65.000000</td>\n",
              "      <td>1.0</td>\n",
              "    </tr>\n",
              "    <tr>\n",
              "      <th>2</th>\n",
              "      <td>0</td>\n",
              "      <td>1</td>\n",
              "      <td>0</td>\n",
              "      <td>5</td>\n",
              "      <td>5</td>\n",
              "      <td>4</td>\n",
              "      <td>4</td>\n",
              "      <td>5</td>\n",
              "      <td>0</td>\n",
              "      <td>23</td>\n",
              "      <td>0.7455</td>\n",
              "      <td>0.742000</td>\n",
              "      <td>0.1835</td>\n",
              "      <td>0.6185</td>\n",
              "      <td>125.0090</td>\n",
              "      <td>0.000023</td>\n",
              "      <td>0.053800</td>\n",
              "      <td>63.500000</td>\n",
              "      <td>1.0</td>\n",
              "    </tr>\n",
              "    <tr>\n",
              "      <th>3</th>\n",
              "      <td>1</td>\n",
              "      <td>1</td>\n",
              "      <td>2</td>\n",
              "      <td>3</td>\n",
              "      <td>6</td>\n",
              "      <td>5</td>\n",
              "      <td>5</td>\n",
              "      <td>5</td>\n",
              "      <td>0</td>\n",
              "      <td>24</td>\n",
              "      <td>0.7390</td>\n",
              "      <td>0.681667</td>\n",
              "      <td>0.1489</td>\n",
              "      <td>0.5960</td>\n",
              "      <td>113.5760</td>\n",
              "      <td>0.000001</td>\n",
              "      <td>0.348867</td>\n",
              "      <td>60.333333</td>\n",
              "      <td>1.0</td>\n",
              "    </tr>\n",
              "    <tr>\n",
              "      <th>4</th>\n",
              "      <td>0</td>\n",
              "      <td>1</td>\n",
              "      <td>0</td>\n",
              "      <td>2</td>\n",
              "      <td>5</td>\n",
              "      <td>2</td>\n",
              "      <td>1</td>\n",
              "      <td>5</td>\n",
              "      <td>1</td>\n",
              "      <td>15</td>\n",
              "      <td>0.5390</td>\n",
              "      <td>0.513000</td>\n",
              "      <td>0.2155</td>\n",
              "      <td>0.2915</td>\n",
              "      <td>122.4605</td>\n",
              "      <td>0.464350</td>\n",
              "      <td>0.599500</td>\n",
              "      <td>3.000000</td>\n",
              "      <td>0.0</td>\n",
              "    </tr>\n",
              "  </tbody>\n",
              "</table>\n",
              "</div>"
            ],
            "text/plain": [
              "   gender  age  amount_music  ...  acoustic  popularity  health_categorical\n",
              "0       1    1             1  ...  0.281600   71.500000                 1.0\n",
              "1       1    1             1  ...  0.056600   65.000000                 1.0\n",
              "2       0    1             0  ...  0.053800   63.500000                 1.0\n",
              "3       1    1             2  ...  0.348867   60.333333                 1.0\n",
              "4       0    1             0  ...  0.599500    3.000000                 0.0\n",
              "\n",
              "[5 rows x 19 columns]"
            ]
          },
          "metadata": {},
          "execution_count": 148
        }
      ]
    },
    {
      "cell_type": "markdown",
      "metadata": {
        "id": "3oh1hcBqiFKX"
      },
      "source": [
        "Drop unwanted variables."
      ]
    },
    {
      "cell_type": "code",
      "metadata": {
        "id": "x0ZWOZKxiFKX"
      },
      "source": [
        "# exclude the indicators of mental health\n",
        "to_exclude = ['health_categorical',\n",
        "              'total_health', \n",
        "              'life_enjoyment', \n",
        "              'resilience', \n",
        "              'balanced_life', \n",
        "              'emotional_flex', \n",
        "              'self_actualization']\n",
        "\n",
        "data_1 = data.drop(columns=to_exclude)     # data_1 is the dataframe we'll use to build the model"
      ],
      "execution_count": null,
      "outputs": []
    },
    {
      "cell_type": "markdown",
      "metadata": {
        "id": "uRKJBCQaiFKY"
      },
      "source": [
        "Split data into training and test set."
      ]
    },
    {
      "cell_type": "code",
      "metadata": {
        "id": "lMHqGuLwiFKY"
      },
      "source": [
        "# Split data\n",
        "\n",
        "from sklearn.model_selection import train_test_split\n",
        "# data = pd.get_dummies(data, drop_first=True)\n",
        "# We split the data up into a test set and a training set, 30 - 70 %\n",
        "# train_test_split\n",
        "# First argument: x data is all data without class column\n",
        "# Second argument:  this is the class label column\n",
        "# Random state = 0: ensures the train and test splitting is deterministic. \n",
        "#Otherwise every student would get a different train test split.\n",
        "X_train, X_test, y_train, y_test = train_test_split(data_1.drop('trauma',1),    # X data\n",
        "                                                    data_1['trauma'],           # y\n",
        "                                                    test_size=0.3,\n",
        "                                                    random_state=0) "
      ],
      "execution_count": null,
      "outputs": []
    },
    {
      "cell_type": "markdown",
      "metadata": {
        "id": "kSVovn7SiFKY"
      },
      "source": [
        "Normalize the data."
      ]
    },
    {
      "cell_type": "code",
      "metadata": {
        "id": "RKkNRw0uiFKY"
      },
      "source": [
        "# Normalize data\n",
        "\n",
        "from sklearn.preprocessing import MinMaxScaler\n",
        "\n",
        "# define a new scaler: \n",
        "x_scaler = MinMaxScaler()\n",
        "\n",
        "# fit the normalization on the training set: \n",
        "x_scaler.fit(X_train)      # .fit computes the min and max to be used for later scaling\n",
        "\n",
        "# then create new and normalized training/test sets: \n",
        "X_train_norm = x_scaler.transform(X_train)        \n",
        "X_test_norm = x_scaler.transform(X_test)\n",
        "#.transform scales features of X according to the feature range\n",
        "\n",
        "# alternatively, you can use .fit_transform(___) to fit the data and transform it"
      ],
      "execution_count": null,
      "outputs": []
    },
    {
      "cell_type": "markdown",
      "metadata": {
        "id": "tUDhTQeFiFKY"
      },
      "source": [
        "### Logistic Regression (acc = 0.58)"
      ]
    },
    {
      "cell_type": "code",
      "metadata": {
        "colab": {
          "base_uri": "https://localhost:8080/"
        },
        "id": "UtpTsHOQiFKZ",
        "outputId": "ecf1ea78-3cdc-45c7-b4a9-d832417bef96"
      },
      "source": [
        "# Logistic Regression\n",
        "from sklearn.linear_model import LogisticRegression\n",
        "\n",
        "model = LogisticRegression(C=1.0, multi_class='auto', solver='lbfgs')\n",
        "model.fit(X_train_norm, y_train)\n",
        "\n",
        "y_pred = model.predict(X_test_norm)  # Predict\n",
        "print (y_pred)\n",
        "evaluate_binary_model(y_test, y_pred)   # Evaluate"
      ],
      "execution_count": null,
      "outputs": [
        {
          "output_type": "stream",
          "name": "stdout",
          "text": [
            "[0 0 0 0 0 0 1 0 1 0 0 0 1 0 0 0 0 0 0 0 0 0 1 0 0 0 0 0 0 0 0 1 0 0 0 0 0\n",
            " 0 0 0 0 0 0 0 0 0 0 0 0 0 0 1 0 0 0 0 0 1 0 0 0 0 0 0 1 0 0 1 0]\n",
            "AUC is:  0.46388888888888885\n",
            "              precision    recall  f1-score   support\n",
            "\n",
            "           0       0.63      0.84      0.72        45\n",
            "           1       0.22      0.08      0.12        24\n",
            "\n",
            "    accuracy                           0.58        69\n",
            "   macro avg       0.43      0.46      0.42        69\n",
            "weighted avg       0.49      0.58      0.51        69\n",
            "\n",
            "Confusion Matrix: \n",
            " [[38  7]\n",
            " [22  2]]\n"
          ]
        },
        {
          "output_type": "display_data",
          "data": {
            "image/png": "[encoded data removed]",
            "text/plain": [
              "<Figure size 842.4x595.44 with 1 Axes>"
            ]
          },
          "metadata": {}
        }
      ]
    },
    {
      "cell_type": "markdown",
      "metadata": {
        "id": "SHyRF1FbiFKZ"
      },
      "source": [
        "### k Nearest Neighbours (acc = 0.65)"
      ]
    },
    {
      "cell_type": "code",
      "metadata": {
        "colab": {
          "base_uri": "https://localhost:8080/"
        },
        "id": "byEpariziFKZ",
        "outputId": "ec4a0477-1810-44d5-f5ee-eadb3dffc060"
      },
      "source": [
        "from sklearn.neighbors import KNeighborsClassifier\n",
        "\n",
        "model = KNeighborsClassifier(n_neighbors=40) # Define the model with parameters\n",
        "\n",
        "model.fit(X_train_norm, y_train) # Training the model\n",
        "\n",
        "# Evaluate the model: \n",
        "y_pred = model.predict(X_test_norm) # Predicting labels for our test set using trained model\n",
        "evaluate_binary_model(y_test, y_pred) #evaluate our model using newly defined function"
      ],
      "execution_count": null,
      "outputs": [
        {
          "output_type": "stream",
          "name": "stdout",
          "text": [
            "AUC is:  0.5097222222222223\n",
            "              precision    recall  f1-score   support\n",
            "\n",
            "           0       0.66      0.98      0.79        45\n",
            "           1       0.50      0.04      0.08        24\n",
            "\n",
            "    accuracy                           0.65        69\n",
            "   macro avg       0.58      0.51      0.43        69\n",
            "weighted avg       0.60      0.65      0.54        69\n",
            "\n",
            "Confusion Matrix: \n",
            " [[44  1]\n",
            " [23  1]]\n"
          ]
        },
        {
          "output_type": "display_data",
          "data": {
            "image/png": "[encoded data removed]",
            "text/plain": [
              "<Figure size 842.4x595.44 with 1 Axes>"
            ]
          },
          "metadata": {}
        }
      ]
    }
  ]
}
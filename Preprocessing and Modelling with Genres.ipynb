{
  "nbformat": 4,
  "nbformat_minor": 0,
  "metadata": {
    "colab": {
      "name": "Copy of Data Modeling for 28 Nov Meeting.ipynb",
      "provenance": [],
      "collapsed_sections": [],
      "toc_visible": true,
      "authorship_tag": "ABX9TyMOPKgdfR+8zBub9oV03pIe",
      "include_colab_link": true
    },
    "kernelspec": {
      "display_name": "Python 3",
      "name": "python3"
    },
    "language_info": {
      "name": "python"
    }
  },
  "cells": [
    {
      "cell_type": "markdown",
      "metadata": {
        "id": "view-in-github",
        "colab_type": "text"
      },
      "source": [
        "<a href=\"https://colab.research.google.com/github/ramya1807/Hospital-Playlist/blob/main/Data_Modeling_for_01_Dec_Meeting.ipynb\" target=\"_parent\"><img src=\"https://colab.research.google.com/assets/colab-badge.svg\" alt=\"Open In Colab\"/></a>"
      ]
    },
    {
      "cell_type": "markdown",
      "metadata": {
        "id": "2hoLVd-svyUB"
      },
      "source": [
        "# Import Data"
      ]
    },
    {
      "cell_type": "code",
      "metadata": {
        "id": "oV7-fnFoxnV-"
      },
      "source": [
        "import pandas as pd"
      ],
      "execution_count": 1,
      "outputs": []
    },
    {
      "cell_type": "code",
      "metadata": {
        "colab": {
          "base_uri": "https://localhost:8080/"
        },
        "id": "aSPWSFA_vNcX",
        "outputId": "8c2e6f4a-2992-4133-9c2f-90af14ed87d1"
      },
      "source": [
        "from google.colab import drive\n",
        "drive.mount('/content/drive')\n",
        "\n",
        "#and then to cd to any directory in the Google drive:\n",
        "import os\n",
        "os.chdir(\"drive/My Drive/CDS 2021\")\n",
        "#and to list all items in the directory that Colab is working on (to make sure it's the right dir):\n",
        "\n",
        "!ls"
      ],
      "execution_count": 2,
      "outputs": [
        {
          "output_type": "stream",
          "name": "stdout",
          "text": [
            "Mounted at /content/drive\n",
            "'(1) Dataset and Collection.ipynb'\n",
            "'(2) Data pre-processing'\n",
            "'(3) Problem and Algorithm Model'\n",
            "'(4) Evaluation Methodology'\n",
            "'(5) Results and Discussion'\n",
            "'CDS Midterm Proposal.pdf'\n",
            " data_cleaned2.csv\n",
            " data_cleaned.csv\n",
            "'data only'\n",
            " data_withgenre.csv\n",
            " genre.csv\n",
            "'GPU setup'\n",
            " lin-reg.ipynb\n",
            " literature\n",
            " master_new.csv\n",
            " master_spotify.csv\n",
            "'Meeting Notes.gdoc'\n",
            "'music and mental health GitHub repo'\n",
            "'Project Description.pdf'\n",
            "'Proposal Presentation Script and Outline.gdoc'\n",
            "'Results of Modelling.gsheet'\n",
            " songs_list.csv\n",
            "'songs mp3'\n"
          ]
        }
      ]
    },
    {
      "cell_type": "code",
      "metadata": {
        "colab": {
          "base_uri": "https://localhost:8080/",
          "height": 576
        },
        "id": "Rb55wqxzxrwF",
        "outputId": "79397770-1468-4bf9-eb47-87c1353d7206"
      },
      "source": [
        "data = pd.read_csv('data_withgenre.csv')\n",
        "data"
      ],
      "execution_count": 3,
      "outputs": [
        {
          "output_type": "execute_result",
          "data": {
            "text/html": [
              "<div>\n",
              "<style scoped>\n",
              "    .dataframe tbody tr th:only-of-type {\n",
              "        vertical-align: middle;\n",
              "    }\n",
              "\n",
              "    .dataframe tbody tr th {\n",
              "        vertical-align: top;\n",
              "    }\n",
              "\n",
              "    .dataframe thead th {\n",
              "        text-align: right;\n",
              "    }\n",
              "</style>\n",
              "<table border=\"1\" class=\"dataframe\">\n",
              "  <thead>\n",
              "    <tr style=\"text-align: right;\">\n",
              "      <th></th>\n",
              "      <th>gender</th>\n",
              "      <th>age</th>\n",
              "      <th>amount_music</th>\n",
              "      <th>life_enjoyment</th>\n",
              "      <th>resilience</th>\n",
              "      <th>balanced_life</th>\n",
              "      <th>emotional_flex</th>\n",
              "      <th>self_actualization</th>\n",
              "      <th>trauma</th>\n",
              "      <th>total_health</th>\n",
              "      <th>health_categorical</th>\n",
              "      <th>energy</th>\n",
              "      <th>dance</th>\n",
              "      <th>liveness</th>\n",
              "      <th>valence</th>\n",
              "      <th>tempo</th>\n",
              "      <th>instrumental</th>\n",
              "      <th>acoustic</th>\n",
              "      <th>popularity</th>\n",
              "      <th>progressivetrance</th>\n",
              "      <th>anthemworship</th>\n",
              "      <th>christianmusic</th>\n",
              "      <th>popquebecois</th>\n",
              "      <th>earlymusic</th>\n",
              "      <th>talentshow</th>\n",
              "      <th>miamihiphop</th>\n",
              "      <th>basstrap</th>\n",
              "      <th>redneck</th>\n",
              "      <th>shimmerpop</th>\n",
              "      <th>ccm</th>\n",
              "      <th>electronictrap</th>\n",
              "      <th>deephouse</th>\n",
              "      <th>melodicmetalcore</th>\n",
              "      <th>canadianrock</th>\n",
              "      <th>compositionalambient</th>\n",
              "      <th>pixie</th>\n",
              "      <th>tropical</th>\n",
              "      <th>folkrock</th>\n",
              "      <th>canadianmetal</th>\n",
              "      <th>skatepunk</th>\n",
              "      <th>...</th>\n",
              "      <th>technicaldeathmetal</th>\n",
              "      <th>alternativehiphop</th>\n",
              "      <th>newromantic</th>\n",
              "      <th>southernrock</th>\n",
              "      <th>australianhiphop</th>\n",
              "      <th>melodicrap</th>\n",
              "      <th>mississippihiphop</th>\n",
              "      <th>escaperoom</th>\n",
              "      <th>upliftingtrance</th>\n",
              "      <th>undergroundhiphop</th>\n",
              "      <th>skarevival</th>\n",
              "      <th>dancehall</th>\n",
              "      <th>lilith</th>\n",
              "      <th>germanpoprock</th>\n",
              "      <th>strut</th>\n",
              "      <th>stompandholler</th>\n",
              "      <th>protopunk</th>\n",
              "      <th>boyband</th>\n",
              "      <th>shimmerpsych</th>\n",
              "      <th>hindihiphop</th>\n",
              "      <th>britishinvasion</th>\n",
              "      <th>peruvianrock</th>\n",
              "      <th>chicagorap</th>\n",
              "      <th>anti-folk</th>\n",
              "      <th>tracestep</th>\n",
              "      <th>softrock</th>\n",
              "      <th>gangsterrap</th>\n",
              "      <th>gothicmetal</th>\n",
              "      <th>cubaton</th>\n",
              "      <th>norwegianmetal</th>\n",
              "      <th>vaporsoul</th>\n",
              "      <th>alternativer&amp;b</th>\n",
              "      <th>punkblues</th>\n",
              "      <th>chillwave</th>\n",
              "      <th>newwave</th>\n",
              "      <th>garagerock</th>\n",
              "      <th>latinpop</th>\n",
              "      <th>slowcore</th>\n",
              "      <th>britishsoul</th>\n",
              "      <th>trance</th>\n",
              "    </tr>\n",
              "  </thead>\n",
              "  <tbody>\n",
              "    <tr>\n",
              "      <th>0</th>\n",
              "      <td>1</td>\n",
              "      <td>1</td>\n",
              "      <td>1</td>\n",
              "      <td>4</td>\n",
              "      <td>3</td>\n",
              "      <td>5</td>\n",
              "      <td>3</td>\n",
              "      <td>6</td>\n",
              "      <td>0</td>\n",
              "      <td>21</td>\n",
              "      <td>1.0</td>\n",
              "      <td>0.641</td>\n",
              "      <td>0.820</td>\n",
              "      <td>0.1020</td>\n",
              "      <td>0.395</td>\n",
              "      <td>117.974</td>\n",
              "      <td>0.000051</td>\n",
              "      <td>0.0662</td>\n",
              "      <td>77.0</td>\n",
              "      <td>0.0</td>\n",
              "      <td>0.0</td>\n",
              "      <td>0.0</td>\n",
              "      <td>0.0</td>\n",
              "      <td>0.0</td>\n",
              "      <td>0.0</td>\n",
              "      <td>0.0</td>\n",
              "      <td>0.0</td>\n",
              "      <td>0.0</td>\n",
              "      <td>0.0</td>\n",
              "      <td>0.0</td>\n",
              "      <td>0.0</td>\n",
              "      <td>0.0</td>\n",
              "      <td>0.0</td>\n",
              "      <td>0.0</td>\n",
              "      <td>0.0</td>\n",
              "      <td>0.0</td>\n",
              "      <td>0.0</td>\n",
              "      <td>0.0</td>\n",
              "      <td>0.0</td>\n",
              "      <td>0.0</td>\n",
              "      <td>...</td>\n",
              "      <td>0.0</td>\n",
              "      <td>0.0</td>\n",
              "      <td>0.0</td>\n",
              "      <td>0.0</td>\n",
              "      <td>0.0</td>\n",
              "      <td>0.0</td>\n",
              "      <td>0.0</td>\n",
              "      <td>0.0</td>\n",
              "      <td>0.0</td>\n",
              "      <td>0.0</td>\n",
              "      <td>0.0</td>\n",
              "      <td>0.0</td>\n",
              "      <td>0.0</td>\n",
              "      <td>0.0</td>\n",
              "      <td>0.0</td>\n",
              "      <td>0.0</td>\n",
              "      <td>0.0</td>\n",
              "      <td>0.0</td>\n",
              "      <td>0.0</td>\n",
              "      <td>0.0</td>\n",
              "      <td>0.0</td>\n",
              "      <td>0.0</td>\n",
              "      <td>0.0</td>\n",
              "      <td>0.0</td>\n",
              "      <td>0.0</td>\n",
              "      <td>0.0</td>\n",
              "      <td>0.0</td>\n",
              "      <td>0.0</td>\n",
              "      <td>0.0</td>\n",
              "      <td>0.0</td>\n",
              "      <td>0.0</td>\n",
              "      <td>0.0</td>\n",
              "      <td>0.0</td>\n",
              "      <td>0.0</td>\n",
              "      <td>0.0</td>\n",
              "      <td>0.0</td>\n",
              "      <td>0.0</td>\n",
              "      <td>0.0</td>\n",
              "      <td>0.0</td>\n",
              "      <td>0.0</td>\n",
              "    </tr>\n",
              "    <tr>\n",
              "      <th>1</th>\n",
              "      <td>1</td>\n",
              "      <td>1</td>\n",
              "      <td>1</td>\n",
              "      <td>6</td>\n",
              "      <td>6</td>\n",
              "      <td>3</td>\n",
              "      <td>5</td>\n",
              "      <td>5</td>\n",
              "      <td>0</td>\n",
              "      <td>25</td>\n",
              "      <td>1.0</td>\n",
              "      <td>0.547</td>\n",
              "      <td>0.752</td>\n",
              "      <td>0.1070</td>\n",
              "      <td>0.161</td>\n",
              "      <td>111.962</td>\n",
              "      <td>0.000249</td>\n",
              "      <td>0.1130</td>\n",
              "      <td>52.0</td>\n",
              "      <td>0.0</td>\n",
              "      <td>0.0</td>\n",
              "      <td>0.0</td>\n",
              "      <td>0.0</td>\n",
              "      <td>0.0</td>\n",
              "      <td>0.0</td>\n",
              "      <td>0.0</td>\n",
              "      <td>0.0</td>\n",
              "      <td>0.0</td>\n",
              "      <td>0.0</td>\n",
              "      <td>0.0</td>\n",
              "      <td>0.0</td>\n",
              "      <td>0.0</td>\n",
              "      <td>0.0</td>\n",
              "      <td>0.0</td>\n",
              "      <td>0.0</td>\n",
              "      <td>0.0</td>\n",
              "      <td>0.0</td>\n",
              "      <td>0.0</td>\n",
              "      <td>0.0</td>\n",
              "      <td>0.0</td>\n",
              "      <td>...</td>\n",
              "      <td>0.0</td>\n",
              "      <td>0.0</td>\n",
              "      <td>0.0</td>\n",
              "      <td>0.0</td>\n",
              "      <td>0.0</td>\n",
              "      <td>0.0</td>\n",
              "      <td>0.0</td>\n",
              "      <td>0.0</td>\n",
              "      <td>0.0</td>\n",
              "      <td>0.0</td>\n",
              "      <td>0.0</td>\n",
              "      <td>0.0</td>\n",
              "      <td>0.0</td>\n",
              "      <td>0.0</td>\n",
              "      <td>0.0</td>\n",
              "      <td>0.0</td>\n",
              "      <td>0.0</td>\n",
              "      <td>0.0</td>\n",
              "      <td>0.0</td>\n",
              "      <td>0.0</td>\n",
              "      <td>0.0</td>\n",
              "      <td>0.0</td>\n",
              "      <td>0.0</td>\n",
              "      <td>0.0</td>\n",
              "      <td>0.0</td>\n",
              "      <td>0.0</td>\n",
              "      <td>0.0</td>\n",
              "      <td>0.0</td>\n",
              "      <td>0.0</td>\n",
              "      <td>0.0</td>\n",
              "      <td>0.0</td>\n",
              "      <td>0.0</td>\n",
              "      <td>0.0</td>\n",
              "      <td>0.0</td>\n",
              "      <td>0.0</td>\n",
              "      <td>0.0</td>\n",
              "      <td>0.0</td>\n",
              "      <td>0.0</td>\n",
              "      <td>0.0</td>\n",
              "      <td>0.0</td>\n",
              "    </tr>\n",
              "    <tr>\n",
              "      <th>2</th>\n",
              "      <td>1</td>\n",
              "      <td>1</td>\n",
              "      <td>1</td>\n",
              "      <td>6</td>\n",
              "      <td>6</td>\n",
              "      <td>3</td>\n",
              "      <td>5</td>\n",
              "      <td>5</td>\n",
              "      <td>0</td>\n",
              "      <td>25</td>\n",
              "      <td>1.0</td>\n",
              "      <td>0.655</td>\n",
              "      <td>0.526</td>\n",
              "      <td>0.1160</td>\n",
              "      <td>0.156</td>\n",
              "      <td>121.127</td>\n",
              "      <td>0.000000</td>\n",
              "      <td>0.0566</td>\n",
              "      <td>65.0</td>\n",
              "      <td>0.0</td>\n",
              "      <td>0.0</td>\n",
              "      <td>0.0</td>\n",
              "      <td>0.0</td>\n",
              "      <td>0.0</td>\n",
              "      <td>0.0</td>\n",
              "      <td>0.0</td>\n",
              "      <td>0.0</td>\n",
              "      <td>0.0</td>\n",
              "      <td>0.0</td>\n",
              "      <td>0.0</td>\n",
              "      <td>0.0</td>\n",
              "      <td>0.0</td>\n",
              "      <td>0.0</td>\n",
              "      <td>0.0</td>\n",
              "      <td>0.0</td>\n",
              "      <td>0.0</td>\n",
              "      <td>0.0</td>\n",
              "      <td>0.0</td>\n",
              "      <td>0.0</td>\n",
              "      <td>0.0</td>\n",
              "      <td>...</td>\n",
              "      <td>0.0</td>\n",
              "      <td>0.0</td>\n",
              "      <td>0.0</td>\n",
              "      <td>0.0</td>\n",
              "      <td>0.0</td>\n",
              "      <td>0.0</td>\n",
              "      <td>0.0</td>\n",
              "      <td>0.0</td>\n",
              "      <td>0.0</td>\n",
              "      <td>1.0</td>\n",
              "      <td>0.0</td>\n",
              "      <td>0.0</td>\n",
              "      <td>0.0</td>\n",
              "      <td>0.0</td>\n",
              "      <td>0.0</td>\n",
              "      <td>0.0</td>\n",
              "      <td>0.0</td>\n",
              "      <td>0.0</td>\n",
              "      <td>0.0</td>\n",
              "      <td>0.0</td>\n",
              "      <td>0.0</td>\n",
              "      <td>0.0</td>\n",
              "      <td>0.0</td>\n",
              "      <td>0.0</td>\n",
              "      <td>0.0</td>\n",
              "      <td>0.0</td>\n",
              "      <td>0.0</td>\n",
              "      <td>0.0</td>\n",
              "      <td>0.0</td>\n",
              "      <td>0.0</td>\n",
              "      <td>0.0</td>\n",
              "      <td>0.0</td>\n",
              "      <td>0.0</td>\n",
              "      <td>0.0</td>\n",
              "      <td>0.0</td>\n",
              "      <td>0.0</td>\n",
              "      <td>0.0</td>\n",
              "      <td>0.0</td>\n",
              "      <td>0.0</td>\n",
              "      <td>0.0</td>\n",
              "    </tr>\n",
              "    <tr>\n",
              "      <th>3</th>\n",
              "      <td>0</td>\n",
              "      <td>1</td>\n",
              "      <td>0</td>\n",
              "      <td>5</td>\n",
              "      <td>5</td>\n",
              "      <td>4</td>\n",
              "      <td>4</td>\n",
              "      <td>5</td>\n",
              "      <td>0</td>\n",
              "      <td>23</td>\n",
              "      <td>1.0</td>\n",
              "      <td>0.774</td>\n",
              "      <td>0.692</td>\n",
              "      <td>0.1410</td>\n",
              "      <td>0.771</td>\n",
              "      <td>128.033</td>\n",
              "      <td>0.000010</td>\n",
              "      <td>0.0149</td>\n",
              "      <td>47.0</td>\n",
              "      <td>0.0</td>\n",
              "      <td>0.0</td>\n",
              "      <td>0.0</td>\n",
              "      <td>0.0</td>\n",
              "      <td>0.0</td>\n",
              "      <td>0.0</td>\n",
              "      <td>0.0</td>\n",
              "      <td>0.0</td>\n",
              "      <td>0.0</td>\n",
              "      <td>0.0</td>\n",
              "      <td>0.0</td>\n",
              "      <td>0.0</td>\n",
              "      <td>0.0</td>\n",
              "      <td>0.0</td>\n",
              "      <td>0.0</td>\n",
              "      <td>0.0</td>\n",
              "      <td>0.0</td>\n",
              "      <td>0.0</td>\n",
              "      <td>0.0</td>\n",
              "      <td>0.0</td>\n",
              "      <td>0.0</td>\n",
              "      <td>...</td>\n",
              "      <td>0.0</td>\n",
              "      <td>0.0</td>\n",
              "      <td>0.0</td>\n",
              "      <td>0.0</td>\n",
              "      <td>0.0</td>\n",
              "      <td>0.0</td>\n",
              "      <td>0.0</td>\n",
              "      <td>0.0</td>\n",
              "      <td>0.0</td>\n",
              "      <td>0.0</td>\n",
              "      <td>0.0</td>\n",
              "      <td>0.0</td>\n",
              "      <td>0.0</td>\n",
              "      <td>0.0</td>\n",
              "      <td>0.0</td>\n",
              "      <td>0.0</td>\n",
              "      <td>0.0</td>\n",
              "      <td>0.0</td>\n",
              "      <td>0.0</td>\n",
              "      <td>0.0</td>\n",
              "      <td>0.0</td>\n",
              "      <td>0.0</td>\n",
              "      <td>0.0</td>\n",
              "      <td>0.0</td>\n",
              "      <td>0.0</td>\n",
              "      <td>0.0</td>\n",
              "      <td>0.0</td>\n",
              "      <td>0.0</td>\n",
              "      <td>0.0</td>\n",
              "      <td>0.0</td>\n",
              "      <td>0.0</td>\n",
              "      <td>0.0</td>\n",
              "      <td>0.0</td>\n",
              "      <td>0.0</td>\n",
              "      <td>0.0</td>\n",
              "      <td>0.0</td>\n",
              "      <td>0.0</td>\n",
              "      <td>0.0</td>\n",
              "      <td>0.0</td>\n",
              "      <td>0.0</td>\n",
              "    </tr>\n",
              "    <tr>\n",
              "      <th>4</th>\n",
              "      <td>1</td>\n",
              "      <td>1</td>\n",
              "      <td>2</td>\n",
              "      <td>3</td>\n",
              "      <td>6</td>\n",
              "      <td>5</td>\n",
              "      <td>5</td>\n",
              "      <td>5</td>\n",
              "      <td>0</td>\n",
              "      <td>24</td>\n",
              "      <td>1.0</td>\n",
              "      <td>0.516</td>\n",
              "      <td>0.631</td>\n",
              "      <td>0.2640</td>\n",
              "      <td>0.254</td>\n",
              "      <td>143.777</td>\n",
              "      <td>0.000000</td>\n",
              "      <td>0.7380</td>\n",
              "      <td>67.0</td>\n",
              "      <td>0.0</td>\n",
              "      <td>0.0</td>\n",
              "      <td>0.0</td>\n",
              "      <td>0.0</td>\n",
              "      <td>0.0</td>\n",
              "      <td>0.0</td>\n",
              "      <td>0.0</td>\n",
              "      <td>0.0</td>\n",
              "      <td>0.0</td>\n",
              "      <td>0.0</td>\n",
              "      <td>0.0</td>\n",
              "      <td>0.0</td>\n",
              "      <td>0.0</td>\n",
              "      <td>0.0</td>\n",
              "      <td>0.0</td>\n",
              "      <td>0.0</td>\n",
              "      <td>0.0</td>\n",
              "      <td>0.0</td>\n",
              "      <td>0.0</td>\n",
              "      <td>0.0</td>\n",
              "      <td>0.0</td>\n",
              "      <td>...</td>\n",
              "      <td>0.0</td>\n",
              "      <td>0.0</td>\n",
              "      <td>0.0</td>\n",
              "      <td>0.0</td>\n",
              "      <td>0.0</td>\n",
              "      <td>0.0</td>\n",
              "      <td>0.0</td>\n",
              "      <td>0.0</td>\n",
              "      <td>0.0</td>\n",
              "      <td>0.0</td>\n",
              "      <td>0.0</td>\n",
              "      <td>0.0</td>\n",
              "      <td>0.0</td>\n",
              "      <td>0.0</td>\n",
              "      <td>0.0</td>\n",
              "      <td>0.0</td>\n",
              "      <td>0.0</td>\n",
              "      <td>0.0</td>\n",
              "      <td>0.0</td>\n",
              "      <td>0.0</td>\n",
              "      <td>0.0</td>\n",
              "      <td>0.0</td>\n",
              "      <td>0.0</td>\n",
              "      <td>0.0</td>\n",
              "      <td>0.0</td>\n",
              "      <td>0.0</td>\n",
              "      <td>0.0</td>\n",
              "      <td>0.0</td>\n",
              "      <td>0.0</td>\n",
              "      <td>0.0</td>\n",
              "      <td>0.0</td>\n",
              "      <td>0.0</td>\n",
              "      <td>0.0</td>\n",
              "      <td>0.0</td>\n",
              "      <td>0.0</td>\n",
              "      <td>0.0</td>\n",
              "      <td>0.0</td>\n",
              "      <td>0.0</td>\n",
              "      <td>0.0</td>\n",
              "      <td>0.0</td>\n",
              "    </tr>\n",
              "    <tr>\n",
              "      <th>...</th>\n",
              "      <td>...</td>\n",
              "      <td>...</td>\n",
              "      <td>...</td>\n",
              "      <td>...</td>\n",
              "      <td>...</td>\n",
              "      <td>...</td>\n",
              "      <td>...</td>\n",
              "      <td>...</td>\n",
              "      <td>...</td>\n",
              "      <td>...</td>\n",
              "      <td>...</td>\n",
              "      <td>...</td>\n",
              "      <td>...</td>\n",
              "      <td>...</td>\n",
              "      <td>...</td>\n",
              "      <td>...</td>\n",
              "      <td>...</td>\n",
              "      <td>...</td>\n",
              "      <td>...</td>\n",
              "      <td>...</td>\n",
              "      <td>...</td>\n",
              "      <td>...</td>\n",
              "      <td>...</td>\n",
              "      <td>...</td>\n",
              "      <td>...</td>\n",
              "      <td>...</td>\n",
              "      <td>...</td>\n",
              "      <td>...</td>\n",
              "      <td>...</td>\n",
              "      <td>...</td>\n",
              "      <td>...</td>\n",
              "      <td>...</td>\n",
              "      <td>...</td>\n",
              "      <td>...</td>\n",
              "      <td>...</td>\n",
              "      <td>...</td>\n",
              "      <td>...</td>\n",
              "      <td>...</td>\n",
              "      <td>...</td>\n",
              "      <td>...</td>\n",
              "      <td>...</td>\n",
              "      <td>...</td>\n",
              "      <td>...</td>\n",
              "      <td>...</td>\n",
              "      <td>...</td>\n",
              "      <td>...</td>\n",
              "      <td>...</td>\n",
              "      <td>...</td>\n",
              "      <td>...</td>\n",
              "      <td>...</td>\n",
              "      <td>...</td>\n",
              "      <td>...</td>\n",
              "      <td>...</td>\n",
              "      <td>...</td>\n",
              "      <td>...</td>\n",
              "      <td>...</td>\n",
              "      <td>...</td>\n",
              "      <td>...</td>\n",
              "      <td>...</td>\n",
              "      <td>...</td>\n",
              "      <td>...</td>\n",
              "      <td>...</td>\n",
              "      <td>...</td>\n",
              "      <td>...</td>\n",
              "      <td>...</td>\n",
              "      <td>...</td>\n",
              "      <td>...</td>\n",
              "      <td>...</td>\n",
              "      <td>...</td>\n",
              "      <td>...</td>\n",
              "      <td>...</td>\n",
              "      <td>...</td>\n",
              "      <td>...</td>\n",
              "      <td>...</td>\n",
              "      <td>...</td>\n",
              "      <td>...</td>\n",
              "      <td>...</td>\n",
              "      <td>...</td>\n",
              "      <td>...</td>\n",
              "      <td>...</td>\n",
              "      <td>...</td>\n",
              "    </tr>\n",
              "    <tr>\n",
              "      <th>546</th>\n",
              "      <td>0</td>\n",
              "      <td>1</td>\n",
              "      <td>2</td>\n",
              "      <td>0</td>\n",
              "      <td>3</td>\n",
              "      <td>3</td>\n",
              "      <td>1</td>\n",
              "      <td>1</td>\n",
              "      <td>0</td>\n",
              "      <td>8</td>\n",
              "      <td>0.0</td>\n",
              "      <td>0.560</td>\n",
              "      <td>0.853</td>\n",
              "      <td>0.0944</td>\n",
              "      <td>0.860</td>\n",
              "      <td>134.066</td>\n",
              "      <td>0.000000</td>\n",
              "      <td>0.0130</td>\n",
              "      <td>86.0</td>\n",
              "      <td>0.0</td>\n",
              "      <td>0.0</td>\n",
              "      <td>0.0</td>\n",
              "      <td>0.0</td>\n",
              "      <td>0.0</td>\n",
              "      <td>0.0</td>\n",
              "      <td>0.0</td>\n",
              "      <td>0.0</td>\n",
              "      <td>0.0</td>\n",
              "      <td>0.0</td>\n",
              "      <td>0.0</td>\n",
              "      <td>0.0</td>\n",
              "      <td>0.0</td>\n",
              "      <td>0.0</td>\n",
              "      <td>0.0</td>\n",
              "      <td>0.0</td>\n",
              "      <td>0.0</td>\n",
              "      <td>0.0</td>\n",
              "      <td>0.0</td>\n",
              "      <td>0.0</td>\n",
              "      <td>0.0</td>\n",
              "      <td>...</td>\n",
              "      <td>0.0</td>\n",
              "      <td>0.0</td>\n",
              "      <td>0.0</td>\n",
              "      <td>0.0</td>\n",
              "      <td>0.0</td>\n",
              "      <td>0.0</td>\n",
              "      <td>0.0</td>\n",
              "      <td>0.0</td>\n",
              "      <td>0.0</td>\n",
              "      <td>0.0</td>\n",
              "      <td>0.0</td>\n",
              "      <td>0.0</td>\n",
              "      <td>0.0</td>\n",
              "      <td>0.0</td>\n",
              "      <td>0.0</td>\n",
              "      <td>0.0</td>\n",
              "      <td>0.0</td>\n",
              "      <td>0.0</td>\n",
              "      <td>0.0</td>\n",
              "      <td>0.0</td>\n",
              "      <td>0.0</td>\n",
              "      <td>0.0</td>\n",
              "      <td>0.0</td>\n",
              "      <td>0.0</td>\n",
              "      <td>0.0</td>\n",
              "      <td>0.0</td>\n",
              "      <td>0.0</td>\n",
              "      <td>0.0</td>\n",
              "      <td>0.0</td>\n",
              "      <td>0.0</td>\n",
              "      <td>0.0</td>\n",
              "      <td>0.0</td>\n",
              "      <td>0.0</td>\n",
              "      <td>0.0</td>\n",
              "      <td>0.0</td>\n",
              "      <td>0.0</td>\n",
              "      <td>0.0</td>\n",
              "      <td>0.0</td>\n",
              "      <td>0.0</td>\n",
              "      <td>0.0</td>\n",
              "    </tr>\n",
              "    <tr>\n",
              "      <th>547</th>\n",
              "      <td>0</td>\n",
              "      <td>1</td>\n",
              "      <td>2</td>\n",
              "      <td>0</td>\n",
              "      <td>3</td>\n",
              "      <td>3</td>\n",
              "      <td>1</td>\n",
              "      <td>1</td>\n",
              "      <td>0</td>\n",
              "      <td>8</td>\n",
              "      <td>0.0</td>\n",
              "      <td>0.851</td>\n",
              "      <td>0.621</td>\n",
              "      <td>0.8870</td>\n",
              "      <td>0.449</td>\n",
              "      <td>90.940</td>\n",
              "      <td>0.000014</td>\n",
              "      <td>0.0202</td>\n",
              "      <td>61.0</td>\n",
              "      <td>0.0</td>\n",
              "      <td>0.0</td>\n",
              "      <td>0.0</td>\n",
              "      <td>0.0</td>\n",
              "      <td>0.0</td>\n",
              "      <td>0.0</td>\n",
              "      <td>0.0</td>\n",
              "      <td>0.0</td>\n",
              "      <td>0.0</td>\n",
              "      <td>0.0</td>\n",
              "      <td>0.0</td>\n",
              "      <td>0.0</td>\n",
              "      <td>0.0</td>\n",
              "      <td>0.0</td>\n",
              "      <td>0.0</td>\n",
              "      <td>0.0</td>\n",
              "      <td>0.0</td>\n",
              "      <td>0.0</td>\n",
              "      <td>0.0</td>\n",
              "      <td>0.0</td>\n",
              "      <td>0.0</td>\n",
              "      <td>...</td>\n",
              "      <td>0.0</td>\n",
              "      <td>0.0</td>\n",
              "      <td>0.0</td>\n",
              "      <td>0.0</td>\n",
              "      <td>0.0</td>\n",
              "      <td>0.0</td>\n",
              "      <td>0.0</td>\n",
              "      <td>0.0</td>\n",
              "      <td>0.0</td>\n",
              "      <td>0.0</td>\n",
              "      <td>0.0</td>\n",
              "      <td>0.0</td>\n",
              "      <td>0.0</td>\n",
              "      <td>0.0</td>\n",
              "      <td>0.0</td>\n",
              "      <td>0.0</td>\n",
              "      <td>0.0</td>\n",
              "      <td>0.0</td>\n",
              "      <td>0.0</td>\n",
              "      <td>0.0</td>\n",
              "      <td>0.0</td>\n",
              "      <td>0.0</td>\n",
              "      <td>0.0</td>\n",
              "      <td>0.0</td>\n",
              "      <td>0.0</td>\n",
              "      <td>0.0</td>\n",
              "      <td>0.0</td>\n",
              "      <td>0.0</td>\n",
              "      <td>0.0</td>\n",
              "      <td>0.0</td>\n",
              "      <td>0.0</td>\n",
              "      <td>0.0</td>\n",
              "      <td>0.0</td>\n",
              "      <td>0.0</td>\n",
              "      <td>0.0</td>\n",
              "      <td>0.0</td>\n",
              "      <td>0.0</td>\n",
              "      <td>0.0</td>\n",
              "      <td>0.0</td>\n",
              "      <td>0.0</td>\n",
              "    </tr>\n",
              "    <tr>\n",
              "      <th>548</th>\n",
              "      <td>1</td>\n",
              "      <td>1</td>\n",
              "      <td>2</td>\n",
              "      <td>5</td>\n",
              "      <td>5</td>\n",
              "      <td>5</td>\n",
              "      <td>6</td>\n",
              "      <td>6</td>\n",
              "      <td>1</td>\n",
              "      <td>27</td>\n",
              "      <td>1.0</td>\n",
              "      <td>0.313</td>\n",
              "      <td>0.603</td>\n",
              "      <td>0.1840</td>\n",
              "      <td>0.817</td>\n",
              "      <td>99.172</td>\n",
              "      <td>0.000045</td>\n",
              "      <td>0.2480</td>\n",
              "      <td>50.0</td>\n",
              "      <td>0.0</td>\n",
              "      <td>0.0</td>\n",
              "      <td>0.0</td>\n",
              "      <td>0.0</td>\n",
              "      <td>0.0</td>\n",
              "      <td>0.0</td>\n",
              "      <td>0.0</td>\n",
              "      <td>0.0</td>\n",
              "      <td>0.0</td>\n",
              "      <td>0.0</td>\n",
              "      <td>0.0</td>\n",
              "      <td>0.0</td>\n",
              "      <td>0.0</td>\n",
              "      <td>0.0</td>\n",
              "      <td>0.0</td>\n",
              "      <td>0.0</td>\n",
              "      <td>0.0</td>\n",
              "      <td>0.0</td>\n",
              "      <td>1.0</td>\n",
              "      <td>0.0</td>\n",
              "      <td>0.0</td>\n",
              "      <td>...</td>\n",
              "      <td>0.0</td>\n",
              "      <td>0.0</td>\n",
              "      <td>0.0</td>\n",
              "      <td>0.0</td>\n",
              "      <td>0.0</td>\n",
              "      <td>0.0</td>\n",
              "      <td>0.0</td>\n",
              "      <td>0.0</td>\n",
              "      <td>0.0</td>\n",
              "      <td>0.0</td>\n",
              "      <td>0.0</td>\n",
              "      <td>0.0</td>\n",
              "      <td>0.0</td>\n",
              "      <td>0.0</td>\n",
              "      <td>0.0</td>\n",
              "      <td>0.0</td>\n",
              "      <td>0.0</td>\n",
              "      <td>0.0</td>\n",
              "      <td>0.0</td>\n",
              "      <td>0.0</td>\n",
              "      <td>0.0</td>\n",
              "      <td>0.0</td>\n",
              "      <td>0.0</td>\n",
              "      <td>0.0</td>\n",
              "      <td>0.0</td>\n",
              "      <td>1.0</td>\n",
              "      <td>0.0</td>\n",
              "      <td>0.0</td>\n",
              "      <td>0.0</td>\n",
              "      <td>0.0</td>\n",
              "      <td>0.0</td>\n",
              "      <td>0.0</td>\n",
              "      <td>0.0</td>\n",
              "      <td>0.0</td>\n",
              "      <td>0.0</td>\n",
              "      <td>0.0</td>\n",
              "      <td>0.0</td>\n",
              "      <td>0.0</td>\n",
              "      <td>0.0</td>\n",
              "      <td>0.0</td>\n",
              "    </tr>\n",
              "    <tr>\n",
              "      <th>549</th>\n",
              "      <td>1</td>\n",
              "      <td>1</td>\n",
              "      <td>2</td>\n",
              "      <td>5</td>\n",
              "      <td>5</td>\n",
              "      <td>5</td>\n",
              "      <td>6</td>\n",
              "      <td>6</td>\n",
              "      <td>1</td>\n",
              "      <td>27</td>\n",
              "      <td>1.0</td>\n",
              "      <td>0.442</td>\n",
              "      <td>0.574</td>\n",
              "      <td>0.1890</td>\n",
              "      <td>0.467</td>\n",
              "      <td>86.430</td>\n",
              "      <td>0.002900</td>\n",
              "      <td>0.1900</td>\n",
              "      <td>40.0</td>\n",
              "      <td>0.0</td>\n",
              "      <td>0.0</td>\n",
              "      <td>0.0</td>\n",
              "      <td>0.0</td>\n",
              "      <td>0.0</td>\n",
              "      <td>0.0</td>\n",
              "      <td>0.0</td>\n",
              "      <td>0.0</td>\n",
              "      <td>0.0</td>\n",
              "      <td>0.0</td>\n",
              "      <td>0.0</td>\n",
              "      <td>0.0</td>\n",
              "      <td>0.0</td>\n",
              "      <td>0.0</td>\n",
              "      <td>0.0</td>\n",
              "      <td>0.0</td>\n",
              "      <td>0.0</td>\n",
              "      <td>0.0</td>\n",
              "      <td>0.0</td>\n",
              "      <td>0.0</td>\n",
              "      <td>0.0</td>\n",
              "      <td>...</td>\n",
              "      <td>0.0</td>\n",
              "      <td>0.0</td>\n",
              "      <td>0.0</td>\n",
              "      <td>0.0</td>\n",
              "      <td>0.0</td>\n",
              "      <td>0.0</td>\n",
              "      <td>0.0</td>\n",
              "      <td>0.0</td>\n",
              "      <td>0.0</td>\n",
              "      <td>0.0</td>\n",
              "      <td>0.0</td>\n",
              "      <td>0.0</td>\n",
              "      <td>0.0</td>\n",
              "      <td>0.0</td>\n",
              "      <td>0.0</td>\n",
              "      <td>0.0</td>\n",
              "      <td>0.0</td>\n",
              "      <td>0.0</td>\n",
              "      <td>0.0</td>\n",
              "      <td>0.0</td>\n",
              "      <td>0.0</td>\n",
              "      <td>0.0</td>\n",
              "      <td>0.0</td>\n",
              "      <td>0.0</td>\n",
              "      <td>0.0</td>\n",
              "      <td>0.0</td>\n",
              "      <td>0.0</td>\n",
              "      <td>0.0</td>\n",
              "      <td>0.0</td>\n",
              "      <td>0.0</td>\n",
              "      <td>0.0</td>\n",
              "      <td>0.0</td>\n",
              "      <td>0.0</td>\n",
              "      <td>0.0</td>\n",
              "      <td>0.0</td>\n",
              "      <td>0.0</td>\n",
              "      <td>0.0</td>\n",
              "      <td>0.0</td>\n",
              "      <td>0.0</td>\n",
              "      <td>0.0</td>\n",
              "    </tr>\n",
              "    <tr>\n",
              "      <th>550</th>\n",
              "      <td>1</td>\n",
              "      <td>1</td>\n",
              "      <td>2</td>\n",
              "      <td>5</td>\n",
              "      <td>5</td>\n",
              "      <td>5</td>\n",
              "      <td>6</td>\n",
              "      <td>6</td>\n",
              "      <td>1</td>\n",
              "      <td>27</td>\n",
              "      <td>1.0</td>\n",
              "      <td>0.809</td>\n",
              "      <td>0.470</td>\n",
              "      <td>0.0491</td>\n",
              "      <td>0.490</td>\n",
              "      <td>151.836</td>\n",
              "      <td>0.006710</td>\n",
              "      <td>0.2720</td>\n",
              "      <td>69.0</td>\n",
              "      <td>0.0</td>\n",
              "      <td>0.0</td>\n",
              "      <td>0.0</td>\n",
              "      <td>0.0</td>\n",
              "      <td>0.0</td>\n",
              "      <td>0.0</td>\n",
              "      <td>0.0</td>\n",
              "      <td>0.0</td>\n",
              "      <td>0.0</td>\n",
              "      <td>0.0</td>\n",
              "      <td>0.0</td>\n",
              "      <td>0.0</td>\n",
              "      <td>0.0</td>\n",
              "      <td>0.0</td>\n",
              "      <td>0.0</td>\n",
              "      <td>0.0</td>\n",
              "      <td>0.0</td>\n",
              "      <td>0.0</td>\n",
              "      <td>0.0</td>\n",
              "      <td>0.0</td>\n",
              "      <td>0.0</td>\n",
              "      <td>...</td>\n",
              "      <td>0.0</td>\n",
              "      <td>0.0</td>\n",
              "      <td>0.0</td>\n",
              "      <td>0.0</td>\n",
              "      <td>0.0</td>\n",
              "      <td>0.0</td>\n",
              "      <td>0.0</td>\n",
              "      <td>0.0</td>\n",
              "      <td>0.0</td>\n",
              "      <td>0.0</td>\n",
              "      <td>0.0</td>\n",
              "      <td>0.0</td>\n",
              "      <td>0.0</td>\n",
              "      <td>0.0</td>\n",
              "      <td>0.0</td>\n",
              "      <td>0.0</td>\n",
              "      <td>0.0</td>\n",
              "      <td>0.0</td>\n",
              "      <td>0.0</td>\n",
              "      <td>0.0</td>\n",
              "      <td>0.0</td>\n",
              "      <td>0.0</td>\n",
              "      <td>0.0</td>\n",
              "      <td>0.0</td>\n",
              "      <td>0.0</td>\n",
              "      <td>0.0</td>\n",
              "      <td>0.0</td>\n",
              "      <td>0.0</td>\n",
              "      <td>0.0</td>\n",
              "      <td>0.0</td>\n",
              "      <td>0.0</td>\n",
              "      <td>0.0</td>\n",
              "      <td>0.0</td>\n",
              "      <td>0.0</td>\n",
              "      <td>0.0</td>\n",
              "      <td>0.0</td>\n",
              "      <td>0.0</td>\n",
              "      <td>0.0</td>\n",
              "      <td>0.0</td>\n",
              "      <td>0.0</td>\n",
              "    </tr>\n",
              "  </tbody>\n",
              "</table>\n",
              "<p>551 rows × 406 columns</p>\n",
              "</div>"
            ],
            "text/plain": [
              "     gender  age  amount_music  ...  slowcore  britishsoul  trance\n",
              "0         1    1             1  ...       0.0          0.0     0.0\n",
              "1         1    1             1  ...       0.0          0.0     0.0\n",
              "2         1    1             1  ...       0.0          0.0     0.0\n",
              "3         0    1             0  ...       0.0          0.0     0.0\n",
              "4         1    1             2  ...       0.0          0.0     0.0\n",
              "..      ...  ...           ...  ...       ...          ...     ...\n",
              "546       0    1             2  ...       0.0          0.0     0.0\n",
              "547       0    1             2  ...       0.0          0.0     0.0\n",
              "548       1    1             2  ...       0.0          0.0     0.0\n",
              "549       1    1             2  ...       0.0          0.0     0.0\n",
              "550       1    1             2  ...       0.0          0.0     0.0\n",
              "\n",
              "[551 rows x 406 columns]"
            ]
          },
          "metadata": {},
          "execution_count": 3
        }
      ]
    },
    {
      "cell_type": "code",
      "metadata": {
        "colab": {
          "base_uri": "https://localhost:8080/"
        },
        "id": "AsnbVlnEycCH",
        "outputId": "feb973ee-93bb-4920-9e8a-450b4671f078"
      },
      "source": [
        "data.columns"
      ],
      "execution_count": 4,
      "outputs": [
        {
          "output_type": "execute_result",
          "data": {
            "text/plain": [
              "Index(['gender', 'age', 'amount_music', 'life_enjoyment', 'resilience',\n",
              "       'balanced_life', 'emotional_flex', 'self_actualization', 'trauma',\n",
              "       'total_health',\n",
              "       ...\n",
              "       'vaporsoul', 'alternativer&b', 'punkblues', 'chillwave', 'newwave',\n",
              "       'garagerock', 'latinpop', 'slowcore', 'britishsoul', 'trance'],\n",
              "      dtype='object', length=406)"
            ]
          },
          "metadata": {},
          "execution_count": 4
        }
      ]
    },
    {
      "cell_type": "code",
      "metadata": {
        "colab": {
          "base_uri": "https://localhost:8080/"
        },
        "id": "hXcql3rPWyo8",
        "outputId": "1f411a15-3489-4393-9b18-f815f7da63ea"
      },
      "source": [
        "data['genres'] = 0\n",
        "data['genres']"
      ],
      "execution_count": 9,
      "outputs": [
        {
          "output_type": "execute_result",
          "data": {
            "text/plain": [
              "0      0\n",
              "1      0\n",
              "2      0\n",
              "3      0\n",
              "4      0\n",
              "      ..\n",
              "546    0\n",
              "547    0\n",
              "548    0\n",
              "549    0\n",
              "550    0\n",
              "Name: genres, Length: 551, dtype: int64"
            ]
          },
          "metadata": {},
          "execution_count": 9
        }
      ]
    },
    {
      "cell_type": "markdown",
      "metadata": {
        "id": "HKUCISqvv1GG"
      },
      "source": [
        "# Data Preprocessing via Pipeline\n",
        "* standardScaler()\n",
        "* PCA()\n",
        "* FunctionTransformer\n",
        "* Normalizer\n"
      ]
    },
    {
      "cell_type": "code",
      "metadata": {
        "id": "f7cShZZgv6_T"
      },
      "source": [
        "#from sklearn.pipeline import Pipeline\n",
        "\n",
        "\n",
        "#from sklearn.decomposition import PCA\n",
        "#from sklearn.preprocessing import FunctionTransformer\n",
        " \n",
        "#pipeline = Pipeline([('pca', PCA()), ('fselect', FunctionTransformer(all_but_first_column))])\n",
        "\n"
      ],
      "execution_count": 6,
      "outputs": []
    },
    {
      "cell_type": "markdown",
      "metadata": {
        "id": "2p5_1Y60vXNd"
      },
      "source": [
        "# To Model\n",
        "* Decision Trees\n",
        "  * Predict trauma \n",
        "  * Predict specific mental health indicators \n",
        "      * Don’t use other mental health indicators as predictors\n",
        "* Ensemble Classifier\n",
        "  * Predict trauma \n",
        "  * Predict specific mental health indicators \n",
        "      * Don’t use other mental health indicators as predictors\n",
        "* Ridge Regression\n",
        "  * Predict trauma \n",
        "      * Don’t use other mental health indicators as predictors\n",
        "  * Predict specific mental health indicators \n",
        "      * Don’t use other mental health indicators as predictors\n",
        "* Lasso Regression\n",
        "  * Predict trauma \n",
        "      * Don’t use other mental health indicators as predictors\n",
        "  * Predict specific mental health indicators \n",
        "      * Don’t use other mental health indicators as predictors"
      ]
    },
    {
      "cell_type": "markdown",
      "metadata": {
        "id": "Ddu8Or71v7mF"
      },
      "source": [
        "## Decision Trees"
      ]
    },
    {
      "cell_type": "code",
      "metadata": {
        "colab": {
          "base_uri": "https://localhost:8080/"
        },
        "id": "jBNgxT25v9aM",
        "outputId": "dfbfe499-5003-410b-cd89-5dc8d92d38c0"
      },
      "source": [
        "data.columns"
      ],
      "execution_count": 7,
      "outputs": [
        {
          "output_type": "execute_result",
          "data": {
            "text/plain": [
              "Index(['gender', 'age', 'amount_music', 'life_enjoyment', 'resilience',\n",
              "       'balanced_life', 'emotional_flex', 'self_actualization', 'trauma',\n",
              "       'total_health',\n",
              "       ...\n",
              "       'vaporsoul', 'alternativer&b', 'punkblues', 'chillwave', 'newwave',\n",
              "       'garagerock', 'latinpop', 'slowcore', 'britishsoul', 'trance'],\n",
              "      dtype='object', length=406)"
            ]
          },
          "metadata": {},
          "execution_count": 7
        }
      ]
    },
    {
      "cell_type": "markdown",
      "metadata": {
        "id": "-MS80gSRv-AW"
      },
      "source": [
        "### Predict trauma"
      ]
    },
    {
      "cell_type": "markdown",
      "metadata": {
        "id": "xtGm7J3pTuu9"
      },
      "source": [
        "#### Standard Scaler"
      ]
    },
    {
      "cell_type": "code",
      "metadata": {
        "colab": {
          "base_uri": "https://localhost:8080/",
          "height": 864
        },
        "id": "bOLkyZI_So0E",
        "outputId": "ae00f440-7158-4816-9b64-cb585c623c70"
      },
      "source": [
        "# training and test split\n",
        "from sklearn.model_selection import train_test_split\n",
        "\n",
        "# data = pd.get_dummies(data, drop_first=True)\n",
        "# We split the data up into a test set and a training set, 30 - 70 %\n",
        "# train_test_split\n",
        "# First argument: x data is all data without class column\n",
        "# Second argument:  this is the class label column\n",
        "# Random state = 0: ensures the train and test splitting is deterministic. \n",
        "\n",
        "X_train, X_test, y_train, y_test = train_test_split(data.drop(['trauma', # y\n",
        "             'gender', \n",
        "             'age', \n",
        "             'amount_music',\n",
        "             'life_enjoyment', \n",
        "             'resilience', \n",
        "             'balanced_life', \n",
        "             'emotional_flex', \n",
        "             'self_actualization',\n",
        "             'health_categorical',\n",
        "             'total_health',\n",
        "             'genres'],\n",
        "            axis = 1),\n",
        "            data['trauma'], # y to be predicted\n",
        "            test_size=0.3,\n",
        "            random_state=0) \n",
        "\n",
        "from sklearn.preprocessing import StandardScaler\n",
        "\n",
        "# define a new scaler: \n",
        "x_scaler = StandardScaler()\n",
        "\n",
        "# fit the normalization on the training set: \n",
        "x_scaler.fit(X_train)\n",
        "\n",
        "# then create new and normalized training/test sets: \n",
        "X_train_norm = x_scaler.transform(X_train)\n",
        "X_test_norm = x_scaler.transform(X_test)\n",
        "\n",
        "# from sklearn.tree import DecisionTreeClassifier\n",
        "from sklearn import tree\n",
        "\n",
        "model_1 = tree.DecisionTreeClassifier(max_depth=3, min_samples_leaf=1) \n",
        "# Using default parameters\n",
        "\n",
        "# Training model\n",
        "model_1.fit(X_train, y_train)\n",
        "\n",
        "from sklearn.metrics import classification_report, confusion_matrix\n",
        "\n",
        "def evaluate_on_training_set(y_test, y_pred):  \n",
        "  # print out recall and precision\n",
        "  print(classification_report(y_test, y_pred))\n",
        "  \n",
        "  # print out confusion matrix\n",
        "  print(\"Confusion Matrix: \\n\", confusion_matrix(y_test, y_pred))\n",
        "\n",
        "\n",
        "y_pred = model_1.predict(X_test) # Predicting labels for our test set using model\n",
        "print(y_pred)\n",
        "evaluate_on_training_set(y_test, y_pred) #evaluate our model using new function\n",
        "\n",
        "tree.plot_tree(model_1)"
      ],
      "execution_count": 10,
      "outputs": [
        {
          "output_type": "stream",
          "name": "stdout",
          "text": [
            "[0 0 0 0 0 0 0 0 0 0 0 0 0 0 0 0 0 0 0 0 0 0 0 0 0 0 0 0 0 0 0 0 0 0 0 0 0\n",
            " 0 0 0 0 0 0 0 0 0 0 0 0 0 0 0 0 0 0 0 0 0 0 1 0 0 0 0 0 0 0 0 0 0 0 0 0 0\n",
            " 0 0 0 0 0 0 0 0 0 0 0 1 0 0 0 0 0 0 0 0 0 0 0 0 0 0 0 0 0 0 0 0 0 0 0 0 0\n",
            " 0 0 0 0 1 0 0 0 0 0 0 0 0 0 0 0 0 0 0 0 0 0 0 0 0 0 0 0 0 0 0 0 0 0 0 0 0\n",
            " 0 0 0 0 0 0 0 0 0 0 0 0 0 0 0 0 0 0]\n",
            "              precision    recall  f1-score   support\n",
            "\n",
            "           0       0.63      0.99      0.77       104\n",
            "           1       0.67      0.03      0.06        62\n",
            "\n",
            "    accuracy                           0.63       166\n",
            "   macro avg       0.65      0.51      0.42       166\n",
            "weighted avg       0.64      0.63      0.51       166\n",
            "\n",
            "Confusion Matrix: \n",
            " [[103   1]\n",
            " [ 60   2]]\n"
          ]
        },
        {
          "output_type": "execute_result",
          "data": {
            "text/plain": [
              "[Text(186.0, 190.26, 'X[5] <= 0.897\\ngini = 0.479\\nsamples = 385\\nvalue = [232, 153]'),\n",
              " Text(111.60000000000001, 135.9, 'X[3] <= 0.928\\ngini = 0.474\\nsamples = 374\\nvalue = [230, 144]'),\n",
              " Text(74.4, 81.53999999999999, 'X[0] <= 0.912\\ngini = 0.47\\nsamples = 369\\nvalue = [230, 139]'),\n",
              " Text(37.2, 27.180000000000007, 'gini = 0.48\\nsamples = 338\\nvalue = [203, 135]'),\n",
              " Text(111.60000000000001, 27.180000000000007, 'gini = 0.225\\nsamples = 31\\nvalue = [27, 4]'),\n",
              " Text(148.8, 81.53999999999999, 'gini = 0.0\\nsamples = 5\\nvalue = [0, 5]'),\n",
              " Text(260.40000000000003, 135.9, 'X[385] <= 0.5\\ngini = 0.298\\nsamples = 11\\nvalue = [2, 9]'),\n",
              " Text(223.20000000000002, 81.53999999999999, 'X[0] <= 0.482\\ngini = 0.18\\nsamples = 10\\nvalue = [1, 9]'),\n",
              " Text(186.0, 27.180000000000007, 'gini = 0.444\\nsamples = 3\\nvalue = [1, 2]'),\n",
              " Text(260.40000000000003, 27.180000000000007, 'gini = 0.0\\nsamples = 7\\nvalue = [0, 7]'),\n",
              " Text(297.6, 81.53999999999999, 'gini = 0.0\\nsamples = 1\\nvalue = [1, 0]')]"
            ]
          },
          "metadata": {},
          "execution_count": 10
        },
        {
          "output_type": "display_data",
          "data": {
            "image/png": "[encoded data removed]",
            "text/plain": [
              "<Figure size 432x288 with 1 Axes>"
            ]
          },
          "metadata": {
            "needs_background": "light"
          }
        }
      ]
    },
    {
      "cell_type": "markdown",
      "metadata": {
        "id": "KufaFYDHT1Kc"
      },
      "source": [
        "#### PCA (undone)"
      ]
    },
    {
      "cell_type": "code",
      "metadata": {
        "id": "-mcFB88zTcCg"
      },
      "source": [
        ""
      ],
      "execution_count": 10,
      "outputs": []
    },
    {
      "cell_type": "markdown",
      "metadata": {
        "id": "Q7yqk0N5UJwD"
      },
      "source": [
        "#### MinMax Scaler"
      ]
    },
    {
      "cell_type": "code",
      "metadata": {
        "colab": {
          "base_uri": "https://localhost:8080/",
          "height": 864
        },
        "id": "FdOQ4fkWT-4F",
        "outputId": "1fddbcf9-38b7-4a32-9b8a-acedeb6c3288"
      },
      "source": [
        "# training and test split\n",
        "from sklearn.model_selection import train_test_split\n",
        "\n",
        "# data = pd.get_dummies(data, drop_first=True)\n",
        "# We split the data up into a test set and a training set, 30 - 70 %\n",
        "# train_test_split\n",
        "# First argument: x data is all data without class column\n",
        "# Second argument:  this is the class label column\n",
        "# Random state = 0: ensures the train and test splitting is deterministic. \n",
        "\n",
        "X_train, X_test, y_train, y_test = train_test_split(data.drop(['trauma', # y\n",
        "             'gender', \n",
        "             'age', \n",
        "             'amount_music',\n",
        "             'life_enjoyment', \n",
        "             'resilience', \n",
        "             'balanced_life', \n",
        "             'emotional_flex', \n",
        "             'self_actualization',\n",
        "             'health_categorical',\n",
        "             'total_health',\n",
        "             'genres'],\n",
        "            axis = 1),\n",
        "            data['trauma'], # y to be predicted\n",
        "            test_size=0.3,\n",
        "            random_state=0) \n",
        "\n",
        "from sklearn.preprocessing import MinMaxScaler\n",
        "\n",
        "# define a new scaler: \n",
        "x_scaler = MinMaxScaler()\n",
        "\n",
        "# fit the normalization on the training set: \n",
        "x_scaler.fit(X_train)\n",
        "\n",
        "# then create new and normalized training/test sets: \n",
        "X_train_norm = x_scaler.transform(X_train)\n",
        "X_test_norm = x_scaler.transform(X_test)\n",
        "\n",
        "# from sklearn.tree import DecisionTreeClassifier\n",
        "from sklearn import tree\n",
        "\n",
        "model_3 = tree.DecisionTreeClassifier(max_depth=3, min_samples_leaf=1) \n",
        "# Using default parameters\n",
        "\n",
        "# Training model\n",
        "model_3.fit(X_train, y_train)\n",
        "\n",
        "\n",
        "y_pred = model_3.predict(X_test) # Predicting labels for our test set using model\n",
        "print(y_pred)\n",
        "evaluate_on_training_set(y_test, y_pred) #evaluate our model using new function\n",
        "\n",
        "tree.plot_tree(model_3)"
      ],
      "execution_count": 11,
      "outputs": [
        {
          "output_type": "stream",
          "name": "stdout",
          "text": [
            "[0 0 0 0 0 0 0 0 0 0 0 0 0 0 0 0 0 0 0 0 0 0 0 0 0 0 0 0 0 0 0 0 0 0 0 0 0\n",
            " 0 0 0 0 0 0 0 0 0 0 0 0 0 0 0 0 0 0 0 0 0 0 1 0 0 0 0 0 0 0 0 0 0 0 0 0 0\n",
            " 0 0 0 0 0 0 0 0 0 0 0 1 0 0 0 0 0 0 0 0 0 0 0 0 0 0 0 0 0 0 0 0 0 0 0 0 0\n",
            " 0 0 0 0 1 0 0 0 0 0 0 0 0 0 0 0 0 0 0 0 0 0 0 0 0 0 0 0 0 0 0 0 0 0 0 0 0\n",
            " 0 0 0 0 0 0 0 0 0 0 0 0 0 0 0 0 0 0]\n",
            "              precision    recall  f1-score   support\n",
            "\n",
            "           0       0.63      0.99      0.77       104\n",
            "           1       0.67      0.03      0.06        62\n",
            "\n",
            "    accuracy                           0.63       166\n",
            "   macro avg       0.65      0.51      0.42       166\n",
            "weighted avg       0.64      0.63      0.51       166\n",
            "\n",
            "Confusion Matrix: \n",
            " [[103   1]\n",
            " [ 60   2]]\n"
          ]
        },
        {
          "output_type": "execute_result",
          "data": {
            "text/plain": [
              "[Text(186.0, 190.26, 'X[5] <= 0.897\\ngini = 0.479\\nsamples = 385\\nvalue = [232, 153]'),\n",
              " Text(111.60000000000001, 135.9, 'X[3] <= 0.928\\ngini = 0.474\\nsamples = 374\\nvalue = [230, 144]'),\n",
              " Text(74.4, 81.53999999999999, 'X[0] <= 0.912\\ngini = 0.47\\nsamples = 369\\nvalue = [230, 139]'),\n",
              " Text(37.2, 27.180000000000007, 'gini = 0.48\\nsamples = 338\\nvalue = [203, 135]'),\n",
              " Text(111.60000000000001, 27.180000000000007, 'gini = 0.225\\nsamples = 31\\nvalue = [27, 4]'),\n",
              " Text(148.8, 81.53999999999999, 'gini = 0.0\\nsamples = 5\\nvalue = [0, 5]'),\n",
              " Text(260.40000000000003, 135.9, 'X[265] <= 0.5\\ngini = 0.298\\nsamples = 11\\nvalue = [2, 9]'),\n",
              " Text(223.20000000000002, 81.53999999999999, 'X[5] <= 0.912\\ngini = 0.18\\nsamples = 10\\nvalue = [1, 9]'),\n",
              " Text(186.0, 27.180000000000007, 'gini = 0.444\\nsamples = 3\\nvalue = [1, 2]'),\n",
              " Text(260.40000000000003, 27.180000000000007, 'gini = 0.0\\nsamples = 7\\nvalue = [0, 7]'),\n",
              " Text(297.6, 81.53999999999999, 'gini = 0.0\\nsamples = 1\\nvalue = [1, 0]')]"
            ]
          },
          "metadata": {},
          "execution_count": 11
        },
        {
          "output_type": "display_data",
          "data": {
            "image/png": "[encoded data removed]",
            "text/plain": [
              "<Figure size 432x288 with 1 Axes>"
            ]
          },
          "metadata": {
            "needs_background": "light"
          }
        }
      ]
    },
    {
      "cell_type": "markdown",
      "metadata": {
        "id": "vJ5C3mD7UPgz"
      },
      "source": [
        "#### Function Transformer"
      ]
    },
    {
      "cell_type": "code",
      "metadata": {
        "colab": {
          "base_uri": "https://localhost:8080/",
          "height": 864
        },
        "id": "v5B0U6PzVtCs",
        "outputId": "91f7087a-3f11-487a-b6ea-b2ee6cfb86f0"
      },
      "source": [
        "from sklearn.preprocessing import FunctionTransformer\n",
        "# training and test split\n",
        "from sklearn.model_selection import train_test_split\n",
        "\n",
        "# data = pd.get_dummies(data, drop_first=True)\n",
        "# We split the data up into a test set and a training set, 30 - 70 %\n",
        "# train_test_split\n",
        "# First argument: x data is all data without class column\n",
        "# Second argument:  this is the class label column\n",
        "# Random state = 0: ensures the train and test splitting is deterministic. \n",
        "\n",
        "X_train, X_test, y_train, y_test = train_test_split(data.drop(['trauma', # y\n",
        "             'gender', \n",
        "             'age', \n",
        "             'amount_music',\n",
        "             'life_enjoyment', \n",
        "             'resilience', \n",
        "             'balanced_life', \n",
        "             'emotional_flex', \n",
        "             'self_actualization',\n",
        "             'health_categorical',\n",
        "             'total_health',\n",
        "             'genres'],\n",
        "            axis = 1),\n",
        "            data['trauma'], # y to be predicted\n",
        "            test_size=0.3,\n",
        "            random_state=0) \n",
        "\n",
        "# define a new scaler: \n",
        "x_scaler = FunctionTransformer()\n",
        "\n",
        "# fit the normalization on the training set: \n",
        "x_scaler.fit(X_train)\n",
        "\n",
        "# then create new and normalized training/test sets: \n",
        "X_train_norm = x_scaler.transform(X_train)\n",
        "X_test_norm = x_scaler.transform(X_test)\n",
        "\n",
        "# from sklearn.tree import DecisionTreeClassifier\n",
        "from sklearn import tree\n",
        "\n",
        "model_4 = tree.DecisionTreeClassifier(max_depth=3, min_samples_leaf=1) \n",
        "# Using default parameters\n",
        "\n",
        "# Training model\n",
        "model_4.fit(X_train, y_train)\n",
        "\n",
        "\n",
        "y_pred = model_4.predict(X_test) # Predicting labels for our test set using model\n",
        "print(y_pred)\n",
        "evaluate_on_training_set(y_test, y_pred) #evaluate our model using new function\n",
        "\n",
        "tree.plot_tree(model_4)"
      ],
      "execution_count": 12,
      "outputs": [
        {
          "output_type": "stream",
          "name": "stdout",
          "text": [
            "[0 0 0 0 0 0 0 0 0 0 0 0 0 0 0 0 0 0 0 0 0 0 0 0 0 0 0 0 0 0 0 0 0 0 0 0 0\n",
            " 0 0 0 0 0 0 0 0 0 0 0 0 0 0 0 0 0 0 0 0 0 0 1 0 0 0 0 0 0 0 0 0 0 0 0 0 0\n",
            " 0 0 0 0 0 0 0 0 0 0 0 1 0 0 0 0 0 0 0 0 0 0 0 0 0 0 0 0 0 0 0 0 0 0 0 0 0\n",
            " 0 0 0 0 1 0 0 0 0 0 0 0 0 0 0 0 0 0 0 0 0 0 0 0 0 0 0 0 0 0 0 0 0 0 0 0 0\n",
            " 0 0 0 0 0 0 0 0 0 0 0 0 0 0 0 0 0 0]\n",
            "              precision    recall  f1-score   support\n",
            "\n",
            "           0       0.63      0.99      0.77       104\n",
            "           1       0.67      0.03      0.06        62\n",
            "\n",
            "    accuracy                           0.63       166\n",
            "   macro avg       0.65      0.51      0.42       166\n",
            "weighted avg       0.64      0.63      0.51       166\n",
            "\n",
            "Confusion Matrix: \n",
            " [[103   1]\n",
            " [ 60   2]]\n"
          ]
        },
        {
          "output_type": "execute_result",
          "data": {
            "text/plain": [
              "[Text(186.0, 190.26, 'X[5] <= 0.897\\ngini = 0.479\\nsamples = 385\\nvalue = [232, 153]'),\n",
              " Text(111.60000000000001, 135.9, 'X[3] <= 0.928\\ngini = 0.474\\nsamples = 374\\nvalue = [230, 144]'),\n",
              " Text(74.4, 81.53999999999999, 'X[0] <= 0.912\\ngini = 0.47\\nsamples = 369\\nvalue = [230, 139]'),\n",
              " Text(37.2, 27.180000000000007, 'gini = 0.48\\nsamples = 338\\nvalue = [203, 135]'),\n",
              " Text(111.60000000000001, 27.180000000000007, 'gini = 0.225\\nsamples = 31\\nvalue = [27, 4]'),\n",
              " Text(148.8, 81.53999999999999, 'gini = 0.0\\nsamples = 5\\nvalue = [0, 5]'),\n",
              " Text(260.40000000000003, 135.9, 'X[265] <= 0.5\\ngini = 0.298\\nsamples = 11\\nvalue = [2, 9]'),\n",
              " Text(223.20000000000002, 81.53999999999999, 'X[3] <= 0.56\\ngini = 0.18\\nsamples = 10\\nvalue = [1, 9]'),\n",
              " Text(186.0, 27.180000000000007, 'gini = 0.0\\nsamples = 7\\nvalue = [0, 7]'),\n",
              " Text(260.40000000000003, 27.180000000000007, 'gini = 0.444\\nsamples = 3\\nvalue = [1, 2]'),\n",
              " Text(297.6, 81.53999999999999, 'gini = 0.0\\nsamples = 1\\nvalue = [1, 0]')]"
            ]
          },
          "metadata": {},
          "execution_count": 12
        },
        {
          "output_type": "display_data",
          "data": {
            "image/png": "[encoded data removed]",
            "text/plain": [
              "<Figure size 432x288 with 1 Axes>"
            ]
          },
          "metadata": {
            "needs_background": "light"
          }
        }
      ]
    },
    {
      "cell_type": "markdown",
      "metadata": {
        "id": "AoQnuBzrv_uQ"
      },
      "source": [
        "### Predict specific mental health indicators"
      ]
    },
    {
      "cell_type": "code",
      "metadata": {
        "colab": {
          "base_uri": "https://localhost:8080/"
        },
        "id": "ox_mYboNXTKK",
        "outputId": "b9b68486-60a6-42ad-f4b5-1170096df5bc"
      },
      "source": [
        "data.columns"
      ],
      "execution_count": 13,
      "outputs": [
        {
          "output_type": "execute_result",
          "data": {
            "text/plain": [
              "Index(['gender', 'age', 'amount_music', 'life_enjoyment', 'resilience',\n",
              "       'balanced_life', 'emotional_flex', 'self_actualization', 'trauma',\n",
              "       'total_health',\n",
              "       ...\n",
              "       'alternativer&b', 'punkblues', 'chillwave', 'newwave', 'garagerock',\n",
              "       'latinpop', 'slowcore', 'britishsoul', 'trance', 'genres'],\n",
              "      dtype='object', length=407)"
            ]
          },
          "metadata": {},
          "execution_count": 13
        }
      ]
    },
    {
      "cell_type": "markdown",
      "metadata": {
        "id": "W0m3X1nCW344"
      },
      "source": [
        "#### Life Enjoyment"
      ]
    },
    {
      "cell_type": "markdown",
      "metadata": {
        "id": "OMlSD5WvXJ_h"
      },
      "source": [
        "##### Standard Scaler"
      ]
    },
    {
      "cell_type": "code",
      "metadata": {
        "colab": {
          "base_uri": "https://localhost:8080/",
          "height": 1000
        },
        "id": "uJqdX1YkXR43",
        "outputId": "1628e516-fdbb-42ca-bb85-830db0c747c6"
      },
      "source": [
        "# training and test split\n",
        "from sklearn.model_selection import train_test_split\n",
        "\n",
        "# data = pd.get_dummies(data, drop_first=True)\n",
        "# We split the data up into a test set and a training set, 30 - 70 %\n",
        "# train_test_split\n",
        "# First argument: x data is all data without class column\n",
        "# Second argument:  this is the class label column\n",
        "# Random state = 0: ensures the train and test splitting is deterministic. \n",
        "\n",
        "X_train, X_test, y_train, y_test = train_test_split(data.drop(['life_enjoyment', # y\n",
        "             'gender', \n",
        "             'age', \n",
        "             'amount_music',\n",
        "             'resilience', \n",
        "             'balanced_life', \n",
        "             'emotional_flex', \n",
        "             'self_actualization',\n",
        "             'trauma',\n",
        "             'health_categorical',\n",
        "             'total_health',\n",
        "             'genres'],\n",
        "            axis = 1),\n",
        "            data['life_enjoyment'], # y to be predicted\n",
        "            test_size=0.3,\n",
        "            random_state=0) \n",
        "\n",
        "from sklearn.preprocessing import StandardScaler\n",
        "\n",
        "# define a new scaler: \n",
        "x_scaler = StandardScaler()\n",
        "\n",
        "# fit the normalization on the training set: \n",
        "x_scaler.fit(X_train)\n",
        "\n",
        "# then create new and normalized training/test sets: \n",
        "X_train_norm = x_scaler.transform(X_train)\n",
        "X_test_norm = x_scaler.transform(X_test)\n",
        "\n",
        "# from sklearn.tree import DecisionTreeClassifier\n",
        "from sklearn import tree\n",
        "\n",
        "model_5 = tree.DecisionTreeClassifier(max_depth=3, min_samples_leaf=1) \n",
        "# Using default parameters\n",
        "\n",
        "# Training model\n",
        "model_5.fit(X_train, y_train)\n",
        "\n",
        "\n",
        "y_pred = model_5.predict(X_test) # Predicting labels for our test set using model\n",
        "print(y_pred)\n",
        "evaluate_on_training_set(y_test, y_pred) #evaluate our model using new function\n",
        "\n",
        "tree.plot_tree(model_5)"
      ],
      "execution_count": 14,
      "outputs": [
        {
          "output_type": "stream",
          "name": "stdout",
          "text": [
            "[3 3 3 3 3 3 3 3 3 3 3 3 3 3 3 3 3 3 3 3 3 4 3 3 3 3 3 3 3 3 3 3 3 3 3 3 4\n",
            " 3 3 3 3 4 3 3 3 3 3 3 3 3 3 3 3 3 4 3 3 3 3 4 3 3 3 3 3 3 3 3 3 3 3 3 3 3\n",
            " 3 4 3 3 3 3 3 3 3 3 3 3 3 3 3 3 3 3 3 3 3 3 3 3 3 3 3 4 3 3 3 3 3 3 3 3 3\n",
            " 3 4 3 3 3 3 3 3 3 3 3 3 3 3 3 3 3 4 3 3 3 3 3 3 3 4 4 4 3 3 3 4 3 3 4 3 3\n",
            " 3 4 3 3 3 3 3 3 4 3 4 4 4 3 3 3 4 3]\n",
            "              precision    recall  f1-score   support\n",
            "\n",
            "           0       0.00      0.00      0.00         5\n",
            "           1       0.00      0.00      0.00        11\n",
            "           2       0.00      0.00      0.00        28\n",
            "           3       0.29      0.90      0.44        48\n",
            "           4       0.20      0.11      0.14        36\n",
            "           5       0.00      0.00      0.00        26\n",
            "           6       0.00      0.00      0.00        12\n",
            "\n",
            "    accuracy                           0.28       166\n",
            "   macro avg       0.07      0.14      0.08       166\n",
            "weighted avg       0.13      0.28      0.16       166\n",
            "\n",
            "Confusion Matrix: \n",
            " [[ 0  0  0  4  1  0  0]\n",
            " [ 0  0  0 10  1  0  0]\n",
            " [ 0  0  0 25  3  0  0]\n",
            " [ 0  0  0 43  5  0  0]\n",
            " [ 0  0  0 32  4  0  0]\n",
            " [ 0  0  0 24  2  0  0]\n",
            " [ 0  0  0  8  4  0  0]]\n"
          ]
        },
        {
          "output_type": "stream",
          "name": "stderr",
          "text": [
            "/usr/local/lib/python3.7/dist-packages/sklearn/metrics/_classification.py:1308: UndefinedMetricWarning: Precision and F-score are ill-defined and being set to 0.0 in labels with no predicted samples. Use `zero_division` parameter to control this behavior.\n",
            "  _warn_prf(average, modifier, msg_start, len(result))\n",
            "/usr/local/lib/python3.7/dist-packages/sklearn/metrics/_classification.py:1308: UndefinedMetricWarning: Precision and F-score are ill-defined and being set to 0.0 in labels with no predicted samples. Use `zero_division` parameter to control this behavior.\n",
            "  _warn_prf(average, modifier, msg_start, len(result))\n",
            "/usr/local/lib/python3.7/dist-packages/sklearn/metrics/_classification.py:1308: UndefinedMetricWarning: Precision and F-score are ill-defined and being set to 0.0 in labels with no predicted samples. Use `zero_division` parameter to control this behavior.\n",
            "  _warn_prf(average, modifier, msg_start, len(result))\n"
          ]
        },
        {
          "output_type": "execute_result",
          "data": {
            "text/plain": [
              "[Text(223.20000000000002, 190.26, 'X[294] <= 0.5\\ngini = 0.799\\nsamples = 385\\nvalue = [14, 24, 60, 106, 98, 66, 17]'),\n",
              " Text(167.4, 135.9, 'X[391] <= 0.5\\ngini = 0.798\\nsamples = 381\\nvalue = [14, 24, 56, 106, 98, 66, 17]'),\n",
              " Text(111.60000000000001, 81.53999999999999, 'X[3] <= 0.701\\ngini = 0.799\\nsamples = 376\\nvalue = [14, 24, 56, 106, 93, 66, 17]'),\n",
              " Text(55.800000000000004, 27.180000000000007, 'gini = 0.793\\nsamples = 311\\nvalue = [12, 18, 47, 97, 70, 53, 14]'),\n",
              " Text(167.4, 27.180000000000007, 'gini = 0.785\\nsamples = 65\\nvalue = [2, 6, 9, 9, 23, 13, 3]'),\n",
              " Text(223.20000000000002, 81.53999999999999, 'gini = 0.0\\nsamples = 5\\nvalue = [0, 0, 0, 0, 5, 0, 0]'),\n",
              " Text(279.0, 135.9, 'gini = 0.0\\nsamples = 4\\nvalue = [0, 0, 4, 0, 0, 0, 0]')]"
            ]
          },
          "metadata": {},
          "execution_count": 14
        },
        {
          "output_type": "display_data",
          "data": {
            "image/png": "[encoded data removed]",
            "text/plain": [
              "<Figure size 432x288 with 1 Axes>"
            ]
          },
          "metadata": {
            "needs_background": "light"
          }
        }
      ]
    },
    {
      "cell_type": "markdown",
      "metadata": {
        "id": "_bq12KcmXMfO"
      },
      "source": [
        "##### MinMax Scaler"
      ]
    },
    {
      "cell_type": "code",
      "metadata": {
        "colab": {
          "base_uri": "https://localhost:8080/",
          "height": 1000
        },
        "id": "zmwiURL6XpAH",
        "outputId": "e812d5f3-00df-4fba-c38d-63f68128dfa4"
      },
      "source": [
        "# training and test split\n",
        "from sklearn.model_selection import train_test_split\n",
        "\n",
        "# data = pd.get_dummies(data, drop_first=True)\n",
        "# We split the data up into a test set and a training set, 30 - 70 %\n",
        "# train_test_split\n",
        "# First argument: x data is all data without class column\n",
        "# Second argument:  this is the class label column\n",
        "# Random state = 0: ensures the train and test splitting is deterministic. \n",
        "\n",
        "X_train, X_test, y_train, y_test = train_test_split(data.drop(['life_enjoyment', # y\n",
        "             'gender', \n",
        "             'age', \n",
        "             'amount_music',\n",
        "             'resilience', \n",
        "             'balanced_life', \n",
        "             'emotional_flex', \n",
        "             'self_actualization',\n",
        "             'trauma',\n",
        "             'health_categorical',\n",
        "             'total_health',\n",
        "             'genres'],\n",
        "            axis = 1),\n",
        "            data['life_enjoyment'], # y to be predicted\n",
        "            test_size=0.3,\n",
        "            random_state=0) \n",
        "\n",
        "from sklearn.preprocessing import MinMaxScaler\n",
        "\n",
        "# define a new scaler: \n",
        "x_scaler = MinMaxScaler()\n",
        "\n",
        "# fit the normalization on the training set: \n",
        "x_scaler.fit(X_train)\n",
        "\n",
        "# then create new and normalized training/test sets: \n",
        "X_train_norm = x_scaler.transform(X_train)\n",
        "X_test_norm = x_scaler.transform(X_test)\n",
        "\n",
        "# from sklearn.tree import DecisionTreeClassifier\n",
        "from sklearn import tree\n",
        "\n",
        "model_6 = tree.DecisionTreeClassifier(max_depth=3, min_samples_leaf=1) \n",
        "# Using default parameters\n",
        "\n",
        "# Training model\n",
        "model_6.fit(X_train, y_train)\n",
        "\n",
        "\n",
        "y_pred = model_6.predict(X_test) # Predicting labels for our test set using model\n",
        "print(y_pred)\n",
        "evaluate_on_training_set(y_test, y_pred) #evaluate our model using new function\n",
        "\n",
        "tree.plot_tree(model_6)"
      ],
      "execution_count": 15,
      "outputs": [
        {
          "output_type": "stream",
          "name": "stdout",
          "text": [
            "[3 3 3 3 3 3 3 3 3 3 3 3 3 3 3 3 3 3 3 3 3 4 3 3 3 3 3 3 3 3 3 3 3 3 3 3 4\n",
            " 3 3 3 3 4 3 3 3 3 3 3 3 3 3 3 3 3 4 3 3 3 3 4 3 3 3 3 3 3 3 3 3 3 3 3 3 3\n",
            " 3 4 3 3 3 3 3 3 3 3 3 3 3 3 3 3 3 3 3 3 3 3 3 3 3 3 3 4 3 3 3 3 3 3 3 3 3\n",
            " 3 4 3 3 3 3 3 3 3 3 3 3 3 3 3 3 3 4 3 3 3 3 3 3 3 4 4 4 3 3 3 4 3 3 4 3 3\n",
            " 3 4 3 3 3 3 3 3 4 3 4 4 4 3 3 3 4 3]\n",
            "              precision    recall  f1-score   support\n",
            "\n",
            "           0       0.00      0.00      0.00         5\n",
            "           1       0.00      0.00      0.00        11\n",
            "           2       0.00      0.00      0.00        28\n",
            "           3       0.29      0.90      0.44        48\n",
            "           4       0.20      0.11      0.14        36\n",
            "           5       0.00      0.00      0.00        26\n",
            "           6       0.00      0.00      0.00        12\n",
            "\n",
            "    accuracy                           0.28       166\n",
            "   macro avg       0.07      0.14      0.08       166\n",
            "weighted avg       0.13      0.28      0.16       166\n",
            "\n",
            "Confusion Matrix: \n",
            " [[ 0  0  0  4  1  0  0]\n",
            " [ 0  0  0 10  1  0  0]\n",
            " [ 0  0  0 25  3  0  0]\n",
            " [ 0  0  0 43  5  0  0]\n",
            " [ 0  0  0 32  4  0  0]\n",
            " [ 0  0  0 24  2  0  0]\n",
            " [ 0  0  0  8  4  0  0]]\n"
          ]
        },
        {
          "output_type": "stream",
          "name": "stderr",
          "text": [
            "/usr/local/lib/python3.7/dist-packages/sklearn/metrics/_classification.py:1308: UndefinedMetricWarning: Precision and F-score are ill-defined and being set to 0.0 in labels with no predicted samples. Use `zero_division` parameter to control this behavior.\n",
            "  _warn_prf(average, modifier, msg_start, len(result))\n",
            "/usr/local/lib/python3.7/dist-packages/sklearn/metrics/_classification.py:1308: UndefinedMetricWarning: Precision and F-score are ill-defined and being set to 0.0 in labels with no predicted samples. Use `zero_division` parameter to control this behavior.\n",
            "  _warn_prf(average, modifier, msg_start, len(result))\n",
            "/usr/local/lib/python3.7/dist-packages/sklearn/metrics/_classification.py:1308: UndefinedMetricWarning: Precision and F-score are ill-defined and being set to 0.0 in labels with no predicted samples. Use `zero_division` parameter to control this behavior.\n",
            "  _warn_prf(average, modifier, msg_start, len(result))\n"
          ]
        },
        {
          "output_type": "execute_result",
          "data": {
            "text/plain": [
              "[Text(223.20000000000002, 190.26, 'X[294] <= 0.5\\ngini = 0.799\\nsamples = 385\\nvalue = [14, 24, 60, 106, 98, 66, 17]'),\n",
              " Text(167.4, 135.9, 'X[391] <= 0.5\\ngini = 0.798\\nsamples = 381\\nvalue = [14, 24, 56, 106, 98, 66, 17]'),\n",
              " Text(111.60000000000001, 81.53999999999999, 'X[3] <= 0.701\\ngini = 0.799\\nsamples = 376\\nvalue = [14, 24, 56, 106, 93, 66, 17]'),\n",
              " Text(55.800000000000004, 27.180000000000007, 'gini = 0.793\\nsamples = 311\\nvalue = [12, 18, 47, 97, 70, 53, 14]'),\n",
              " Text(167.4, 27.180000000000007, 'gini = 0.785\\nsamples = 65\\nvalue = [2, 6, 9, 9, 23, 13, 3]'),\n",
              " Text(223.20000000000002, 81.53999999999999, 'gini = 0.0\\nsamples = 5\\nvalue = [0, 0, 0, 0, 5, 0, 0]'),\n",
              " Text(279.0, 135.9, 'gini = 0.0\\nsamples = 4\\nvalue = [0, 0, 4, 0, 0, 0, 0]')]"
            ]
          },
          "metadata": {},
          "execution_count": 15
        },
        {
          "output_type": "display_data",
          "data": {
            "image/png": "[encoded data removed]",
            "text/plain": [
              "<Figure size 432x288 with 1 Axes>"
            ]
          },
          "metadata": {
            "needs_background": "light"
          }
        }
      ]
    },
    {
      "cell_type": "markdown",
      "metadata": {
        "id": "C_xBOzBOXO4t"
      },
      "source": [
        "##### Function Transformer"
      ]
    },
    {
      "cell_type": "code",
      "metadata": {
        "colab": {
          "base_uri": "https://localhost:8080/",
          "height": 1000
        },
        "id": "yjBRcGeqX32L",
        "outputId": "6cdf3239-b970-4616-b099-5d0884d88790"
      },
      "source": [
        "# training and test split\n",
        "from sklearn.model_selection import train_test_split\n",
        "\n",
        "# data = pd.get_dummies(data, drop_first=True)\n",
        "# We split the data up into a test set and a training set, 30 - 70 %\n",
        "# train_test_split\n",
        "# First argument: x data is all data without class column\n",
        "# Second argument:  this is the class label column\n",
        "# Random state = 0: ensures the train and test splitting is deterministic. \n",
        "\n",
        "X_train, X_test, y_train, y_test = train_test_split(data.drop(['life_enjoyment', # y\n",
        "             'gender', \n",
        "             'age', \n",
        "             'amount_music',\n",
        "             'resilience', \n",
        "             'balanced_life', \n",
        "             'emotional_flex', \n",
        "             'self_actualization',\n",
        "             'trauma',\n",
        "             'health_categorical',\n",
        "             'total_health',\n",
        "             'genres'],\n",
        "            axis = 1),\n",
        "            data['life_enjoyment'], # y to be predicted\n",
        "            test_size=0.3,\n",
        "            random_state=0) \n",
        "\n",
        "from sklearn.preprocessing import FunctionTransformer\n",
        "\n",
        "# define a new scaler: \n",
        "x_scaler = FunctionTransformer()\n",
        "\n",
        "# fit the normalization on the training set: \n",
        "x_scaler.fit(X_train)\n",
        "\n",
        "# then create new and normalized training/test sets: \n",
        "X_train_norm = x_scaler.transform(X_train)\n",
        "X_test_norm = x_scaler.transform(X_test)\n",
        "\n",
        "# from sklearn.tree import DecisionTreeClassifier\n",
        "from sklearn import tree\n",
        "\n",
        "model_7 = tree.DecisionTreeClassifier(max_depth=3, min_samples_leaf=1) \n",
        "# Using default parameters\n",
        "\n",
        "# Training model\n",
        "model_7.fit(X_train, y_train)\n",
        "\n",
        "\n",
        "y_pred = model_7.predict(X_test) # Predicting labels for our test set using model\n",
        "print(y_pred)\n",
        "evaluate_on_training_set(y_test, y_pred) #evaluate our model using new function\n",
        "\n",
        "tree.plot_tree(model_7)"
      ],
      "execution_count": 16,
      "outputs": [
        {
          "output_type": "stream",
          "name": "stdout",
          "text": [
            "[3 3 3 3 3 3 3 3 3 3 3 3 3 3 3 3 3 3 3 3 3 4 3 3 3 3 3 3 3 3 3 3 3 3 3 3 4\n",
            " 3 3 3 3 4 3 3 3 3 3 3 3 3 3 3 3 3 4 3 3 3 3 4 3 3 3 3 3 3 3 3 3 3 3 3 3 3\n",
            " 3 4 3 3 3 3 3 3 3 3 3 3 3 3 3 3 3 3 3 3 3 3 3 3 3 3 3 4 3 3 3 3 3 3 3 3 3\n",
            " 3 4 3 3 3 3 3 3 3 3 3 3 3 3 3 3 3 4 3 3 3 3 3 3 3 4 4 4 3 3 3 4 3 3 4 3 3\n",
            " 3 4 3 3 3 3 3 3 4 3 4 4 4 3 3 3 4 3]\n",
            "              precision    recall  f1-score   support\n",
            "\n",
            "           0       0.00      0.00      0.00         5\n",
            "           1       0.00      0.00      0.00        11\n",
            "           2       0.00      0.00      0.00        28\n",
            "           3       0.29      0.90      0.44        48\n",
            "           4       0.20      0.11      0.14        36\n",
            "           5       0.00      0.00      0.00        26\n",
            "           6       0.00      0.00      0.00        12\n",
            "\n",
            "    accuracy                           0.28       166\n",
            "   macro avg       0.07      0.14      0.08       166\n",
            "weighted avg       0.13      0.28      0.16       166\n",
            "\n",
            "Confusion Matrix: \n",
            " [[ 0  0  0  4  1  0  0]\n",
            " [ 0  0  0 10  1  0  0]\n",
            " [ 0  0  0 25  3  0  0]\n",
            " [ 0  0  0 43  5  0  0]\n",
            " [ 0  0  0 32  4  0  0]\n",
            " [ 0  0  0 24  2  0  0]\n",
            " [ 0  0  0  8  4  0  0]]\n"
          ]
        },
        {
          "output_type": "stream",
          "name": "stderr",
          "text": [
            "/usr/local/lib/python3.7/dist-packages/sklearn/metrics/_classification.py:1308: UndefinedMetricWarning: Precision and F-score are ill-defined and being set to 0.0 in labels with no predicted samples. Use `zero_division` parameter to control this behavior.\n",
            "  _warn_prf(average, modifier, msg_start, len(result))\n",
            "/usr/local/lib/python3.7/dist-packages/sklearn/metrics/_classification.py:1308: UndefinedMetricWarning: Precision and F-score are ill-defined and being set to 0.0 in labels with no predicted samples. Use `zero_division` parameter to control this behavior.\n",
            "  _warn_prf(average, modifier, msg_start, len(result))\n",
            "/usr/local/lib/python3.7/dist-packages/sklearn/metrics/_classification.py:1308: UndefinedMetricWarning: Precision and F-score are ill-defined and being set to 0.0 in labels with no predicted samples. Use `zero_division` parameter to control this behavior.\n",
            "  _warn_prf(average, modifier, msg_start, len(result))\n"
          ]
        },
        {
          "output_type": "execute_result",
          "data": {
            "text/plain": [
              "[Text(223.20000000000002, 190.26, 'X[294] <= 0.5\\ngini = 0.799\\nsamples = 385\\nvalue = [14, 24, 60, 106, 98, 66, 17]'),\n",
              " Text(167.4, 135.9, 'X[391] <= 0.5\\ngini = 0.798\\nsamples = 381\\nvalue = [14, 24, 56, 106, 98, 66, 17]'),\n",
              " Text(111.60000000000001, 81.53999999999999, 'X[3] <= 0.701\\ngini = 0.799\\nsamples = 376\\nvalue = [14, 24, 56, 106, 93, 66, 17]'),\n",
              " Text(55.800000000000004, 27.180000000000007, 'gini = 0.793\\nsamples = 311\\nvalue = [12, 18, 47, 97, 70, 53, 14]'),\n",
              " Text(167.4, 27.180000000000007, 'gini = 0.785\\nsamples = 65\\nvalue = [2, 6, 9, 9, 23, 13, 3]'),\n",
              " Text(223.20000000000002, 81.53999999999999, 'gini = 0.0\\nsamples = 5\\nvalue = [0, 0, 0, 0, 5, 0, 0]'),\n",
              " Text(279.0, 135.9, 'gini = 0.0\\nsamples = 4\\nvalue = [0, 0, 4, 0, 0, 0, 0]')]"
            ]
          },
          "metadata": {},
          "execution_count": 16
        },
        {
          "output_type": "display_data",
          "data": {
            "image/png": "[encoded data removed]",
            "text/plain": [
              "<Figure size 432x288 with 1 Axes>"
            ]
          },
          "metadata": {
            "needs_background": "light"
          }
        }
      ]
    },
    {
      "cell_type": "markdown",
      "metadata": {
        "id": "u6E5dxNdW8Qa"
      },
      "source": [
        "#### Resilience"
      ]
    },
    {
      "cell_type": "markdown",
      "metadata": {
        "id": "cx7rmzyoYJ1K"
      },
      "source": [
        "##### Standard Scaler"
      ]
    },
    {
      "cell_type": "code",
      "metadata": {
        "colab": {
          "base_uri": "https://localhost:8080/",
          "height": 1000
        },
        "id": "nNwfo0cvYFzo",
        "outputId": "74d1f9cc-6a5e-40d4-b036-56cde831deb5"
      },
      "source": [
        "# training and test split\n",
        "from sklearn.model_selection import train_test_split\n",
        "\n",
        "# data = pd.get_dummies(data, drop_first=True)\n",
        "# We split the data up into a test set and a training set, 30 - 70 %\n",
        "# train_test_split\n",
        "# First argument: x data is all data without class column\n",
        "# Second argument:  this is the class label column\n",
        "# Random state = 0: ensures the train and test splitting is deterministic. \n",
        "\n",
        "X_train, X_test, y_train, y_test = train_test_split(data.drop(['resilience', # y\n",
        "             'gender', \n",
        "             'age', \n",
        "             'amount_music',\n",
        "             'life_enjoyment', \n",
        "             'balanced_life', \n",
        "             'emotional_flex', \n",
        "             'self_actualization',\n",
        "             'trauma',\n",
        "             'health_categorical',\n",
        "             'total_health',\n",
        "             'genres'],\n",
        "            axis = 1),\n",
        "            data['resilience'], # y to be predicted\n",
        "            test_size=0.3,\n",
        "            random_state=0) \n",
        "\n",
        "from sklearn.preprocessing import StandardScaler\n",
        "\n",
        "# define a new scaler: \n",
        "x_scaler = StandardScaler()\n",
        "\n",
        "# fit the normalization on the training set: \n",
        "x_scaler.fit(X_train)\n",
        "\n",
        "# then create new and normalized training/test sets: \n",
        "X_train_norm = x_scaler.transform(X_train)\n",
        "X_test_norm = x_scaler.transform(X_test)\n",
        "\n",
        "# from sklearn.tree import DecisionTreeClassifier\n",
        "from sklearn import tree\n",
        "\n",
        "model_8 = tree.DecisionTreeClassifier(max_depth=3, min_samples_leaf=1) \n",
        "# Using default parameters\n",
        "\n",
        "# Training model\n",
        "model_8.fit(X_train, y_train)\n",
        "\n",
        "\n",
        "y_pred = model_8.predict(X_test) # Predicting labels for our test set using model\n",
        "print(y_pred)\n",
        "evaluate_on_training_set(y_test, y_pred) #evaluate our model using new function\n",
        "\n",
        "tree.plot_tree(model_8)"
      ],
      "execution_count": 17,
      "outputs": [
        {
          "output_type": "stream",
          "name": "stdout",
          "text": [
            "[4 4 4 4 5 4 2 5 5 4 4 5 4 4 5 4 4 4 5 4 5 4 2 5 4 4 5 4 5 5 4 2 4 4 5 4 4\n",
            " 4 4 2 4 4 2 5 2 2 5 5 4 4 4 4 4 4 4 5 4 5 4 4 4 5 4 5 4 5 4 5 4 5 5 2 4 4\n",
            " 5 4 5 4 4 4 2 5 4 4 4 5 4 5 4 4 2 4 4 2 5 4 5 4 2 5 5 4 4 5 5 5 5 5 4 5 4\n",
            " 4 4 4 2 5 5 5 4 5 4 4 4 5 2 5 4 5 4 4 4 5 4 5 5 4 4 4 5 5 4 5 4 4 4 4 4 4\n",
            " 5 4 4 4 4 4 4 2 4 4 4 4 4 2 5 5 4 4]\n",
            "              precision    recall  f1-score   support\n",
            "\n",
            "           0       0.00      0.00      0.00         1\n",
            "           1       0.00      0.00      0.00         2\n",
            "           2       0.19      0.17      0.18        18\n",
            "           3       0.00      0.00      0.00        23\n",
            "           4       0.30      0.62      0.41        47\n",
            "           5       0.46      0.51      0.49        49\n",
            "           6       0.00      0.00      0.00        26\n",
            "\n",
            "    accuracy                           0.34       166\n",
            "   macro avg       0.14      0.18      0.15       166\n",
            "weighted avg       0.24      0.34      0.28       166\n",
            "\n",
            "Confusion Matrix: \n",
            " [[ 0  0  0  0  0  1  0]\n",
            " [ 0  0  0  0  2  0  0]\n",
            " [ 0  0  3  0 12  3  0]\n",
            " [ 0  0  3  0 16  4  0]\n",
            " [ 0  0  3  0 29 15  0]\n",
            " [ 0  0  4  0 20 25  0]\n",
            " [ 0  0  3  0 17  6  0]]\n"
          ]
        },
        {
          "output_type": "stream",
          "name": "stderr",
          "text": [
            "/usr/local/lib/python3.7/dist-packages/sklearn/metrics/_classification.py:1308: UndefinedMetricWarning: Precision and F-score are ill-defined and being set to 0.0 in labels with no predicted samples. Use `zero_division` parameter to control this behavior.\n",
            "  _warn_prf(average, modifier, msg_start, len(result))\n",
            "/usr/local/lib/python3.7/dist-packages/sklearn/metrics/_classification.py:1308: UndefinedMetricWarning: Precision and F-score are ill-defined and being set to 0.0 in labels with no predicted samples. Use `zero_division` parameter to control this behavior.\n",
            "  _warn_prf(average, modifier, msg_start, len(result))\n",
            "/usr/local/lib/python3.7/dist-packages/sklearn/metrics/_classification.py:1308: UndefinedMetricWarning: Precision and F-score are ill-defined and being set to 0.0 in labels with no predicted samples. Use `zero_division` parameter to control this behavior.\n",
            "  _warn_prf(average, modifier, msg_start, len(result))\n"
          ]
        },
        {
          "output_type": "execute_result",
          "data": {
            "text/plain": [
              "[Text(209.25, 190.26, 'X[146] <= 0.5\\ngini = 0.786\\nsamples = 385\\nvalue = [5, 11, 46, 74, 119, 91, 39]'),\n",
              " Text(167.4, 135.9, 'X[5] <= 0.0\\ngini = 0.784\\nsamples = 381\\nvalue = [5, 11, 42, 74, 119, 91, 39]'),\n",
              " Text(83.7, 81.53999999999999, 'X[3] <= 0.134\\ngini = 0.767\\nsamples = 254\\nvalue = [2, 4, 25, 48, 92, 51, 32]'),\n",
              " Text(41.85, 27.180000000000007, 'gini = 0.651\\nsamples = 13\\nvalue = [0, 0, 7, 2, 1, 1, 2]'),\n",
              " Text(125.55000000000001, 27.180000000000007, 'gini = 0.757\\nsamples = 241\\nvalue = [2, 4, 18, 46, 91, 50, 30]'),\n",
              " Text(251.10000000000002, 81.53999999999999, 'X[1] <= 0.715\\ngini = 0.789\\nsamples = 127\\nvalue = [3, 7, 17, 26, 27, 40, 7]'),\n",
              " Text(209.25, 27.180000000000007, 'gini = 0.764\\nsamples = 106\\nvalue = [1, 4, 9, 23, 26, 36, 7]'),\n",
              " Text(292.95, 27.180000000000007, 'gini = 0.766\\nsamples = 21\\nvalue = [2, 3, 8, 3, 1, 4, 0]'),\n",
              " Text(251.10000000000002, 135.9, 'gini = 0.0\\nsamples = 4\\nvalue = [0, 0, 4, 0, 0, 0, 0]')]"
            ]
          },
          "metadata": {},
          "execution_count": 17
        },
        {
          "output_type": "display_data",
          "data": {
            "image/png": "[encoded data removed]",
            "text/plain": [
              "<Figure size 432x288 with 1 Axes>"
            ]
          },
          "metadata": {
            "needs_background": "light"
          }
        }
      ]
    },
    {
      "cell_type": "markdown",
      "metadata": {
        "id": "UK8ANRuNYg0l"
      },
      "source": [
        "##### MinMax Scaler"
      ]
    },
    {
      "cell_type": "code",
      "metadata": {
        "colab": {
          "base_uri": "https://localhost:8080/",
          "height": 1000
        },
        "id": "By0tF4v3YmXH",
        "outputId": "fe0b1095-2da7-489d-81e6-b23930247f27"
      },
      "source": [
        "# training and test split\n",
        "from sklearn.model_selection import train_test_split\n",
        "\n",
        "# data = pd.get_dummies(data, drop_first=True)\n",
        "# We split the data up into a test set and a training set, 30 - 70 %\n",
        "# train_test_split\n",
        "# First argument: x data is all data without class column\n",
        "# Second argument:  this is the class label column\n",
        "# Random state = 0: ensures the train and test splitting is deterministic. \n",
        "\n",
        "X_train, X_test, y_train, y_test = train_test_split(data.drop(['resilience', # y\n",
        "             'gender', \n",
        "             'age', \n",
        "             'amount_music',\n",
        "             'life_enjoyment', \n",
        "             'balanced_life', \n",
        "             'emotional_flex', \n",
        "             'self_actualization',\n",
        "             'trauma',\n",
        "             'health_categorical',\n",
        "             'total_health',\n",
        "             'genres'],\n",
        "            axis = 1),\n",
        "            data['resilience'], # y to be predicted\n",
        "            test_size=0.3,\n",
        "            random_state=0) \n",
        "\n",
        "from sklearn.preprocessing import MinMaxScaler\n",
        "\n",
        "# define a new scaler: \n",
        "x_scaler = MinMaxScaler()\n",
        "\n",
        "# fit the normalization on the training set: \n",
        "x_scaler.fit(X_train)\n",
        "\n",
        "# then create new and normalized training/test sets: \n",
        "X_train_norm = x_scaler.transform(X_train)\n",
        "X_test_norm = x_scaler.transform(X_test)\n",
        "\n",
        "# from sklearn.tree import DecisionTreeClassifier\n",
        "from sklearn import tree\n",
        "\n",
        "model_9 = tree.DecisionTreeClassifier(max_depth=3, min_samples_leaf=1) \n",
        "# Using default parameters\n",
        "\n",
        "# Training model\n",
        "model_9.fit(X_train, y_train)\n",
        "\n",
        "\n",
        "y_pred = model_9.predict(X_test) # Predicting labels for our test set using model\n",
        "print(y_pred)\n",
        "evaluate_on_training_set(y_test, y_pred) #evaluate our model using new function\n",
        "\n",
        "tree.plot_tree(model_9)"
      ],
      "execution_count": 18,
      "outputs": [
        {
          "output_type": "stream",
          "name": "stdout",
          "text": [
            "[4 4 4 4 5 4 2 5 5 4 4 5 4 4 5 4 4 4 5 4 5 4 2 5 4 4 5 4 5 5 4 2 4 4 5 4 4\n",
            " 4 4 2 4 4 2 5 2 2 5 5 4 4 4 4 4 4 4 5 4 5 4 4 4 5 4 5 4 5 4 5 4 5 5 2 4 4\n",
            " 5 4 5 4 4 4 2 5 4 4 4 5 4 5 4 4 2 4 4 2 5 4 5 4 2 5 5 4 4 5 5 5 5 5 4 5 4\n",
            " 4 4 4 2 5 5 5 4 5 4 4 4 5 2 5 4 5 4 4 4 5 4 5 5 4 4 4 5 5 4 5 4 4 4 4 4 4\n",
            " 5 4 4 4 4 4 4 2 4 4 4 4 4 2 5 5 4 4]\n",
            "              precision    recall  f1-score   support\n",
            "\n",
            "           0       0.00      0.00      0.00         1\n",
            "           1       0.00      0.00      0.00         2\n",
            "           2       0.19      0.17      0.18        18\n",
            "           3       0.00      0.00      0.00        23\n",
            "           4       0.30      0.62      0.41        47\n",
            "           5       0.46      0.51      0.49        49\n",
            "           6       0.00      0.00      0.00        26\n",
            "\n",
            "    accuracy                           0.34       166\n",
            "   macro avg       0.14      0.18      0.15       166\n",
            "weighted avg       0.24      0.34      0.28       166\n",
            "\n",
            "Confusion Matrix: \n",
            " [[ 0  0  0  0  0  1  0]\n",
            " [ 0  0  0  0  2  0  0]\n",
            " [ 0  0  3  0 12  3  0]\n",
            " [ 0  0  3  0 16  4  0]\n",
            " [ 0  0  3  0 29 15  0]\n",
            " [ 0  0  4  0 20 25  0]\n",
            " [ 0  0  3  0 17  6  0]]\n"
          ]
        },
        {
          "output_type": "stream",
          "name": "stderr",
          "text": [
            "/usr/local/lib/python3.7/dist-packages/sklearn/metrics/_classification.py:1308: UndefinedMetricWarning: Precision and F-score are ill-defined and being set to 0.0 in labels with no predicted samples. Use `zero_division` parameter to control this behavior.\n",
            "  _warn_prf(average, modifier, msg_start, len(result))\n",
            "/usr/local/lib/python3.7/dist-packages/sklearn/metrics/_classification.py:1308: UndefinedMetricWarning: Precision and F-score are ill-defined and being set to 0.0 in labels with no predicted samples. Use `zero_division` parameter to control this behavior.\n",
            "  _warn_prf(average, modifier, msg_start, len(result))\n",
            "/usr/local/lib/python3.7/dist-packages/sklearn/metrics/_classification.py:1308: UndefinedMetricWarning: Precision and F-score are ill-defined and being set to 0.0 in labels with no predicted samples. Use `zero_division` parameter to control this behavior.\n",
            "  _warn_prf(average, modifier, msg_start, len(result))\n"
          ]
        },
        {
          "output_type": "execute_result",
          "data": {
            "text/plain": [
              "[Text(209.25, 190.26, 'X[146] <= 0.5\\ngini = 0.786\\nsamples = 385\\nvalue = [5, 11, 46, 74, 119, 91, 39]'),\n",
              " Text(167.4, 135.9, 'X[5] <= 0.0\\ngini = 0.784\\nsamples = 381\\nvalue = [5, 11, 42, 74, 119, 91, 39]'),\n",
              " Text(83.7, 81.53999999999999, 'X[3] <= 0.134\\ngini = 0.767\\nsamples = 254\\nvalue = [2, 4, 25, 48, 92, 51, 32]'),\n",
              " Text(41.85, 27.180000000000007, 'gini = 0.651\\nsamples = 13\\nvalue = [0, 0, 7, 2, 1, 1, 2]'),\n",
              " Text(125.55000000000001, 27.180000000000007, 'gini = 0.757\\nsamples = 241\\nvalue = [2, 4, 18, 46, 91, 50, 30]'),\n",
              " Text(251.10000000000002, 81.53999999999999, 'X[1] <= 0.715\\ngini = 0.789\\nsamples = 127\\nvalue = [3, 7, 17, 26, 27, 40, 7]'),\n",
              " Text(209.25, 27.180000000000007, 'gini = 0.764\\nsamples = 106\\nvalue = [1, 4, 9, 23, 26, 36, 7]'),\n",
              " Text(292.95, 27.180000000000007, 'gini = 0.766\\nsamples = 21\\nvalue = [2, 3, 8, 3, 1, 4, 0]'),\n",
              " Text(251.10000000000002, 135.9, 'gini = 0.0\\nsamples = 4\\nvalue = [0, 0, 4, 0, 0, 0, 0]')]"
            ]
          },
          "metadata": {},
          "execution_count": 18
        },
        {
          "output_type": "display_data",
          "data": {
            "image/png": "[encoded data removed]",
            "text/plain": [
              "<Figure size 432x288 with 1 Axes>"
            ]
          },
          "metadata": {
            "needs_background": "light"
          }
        }
      ]
    },
    {
      "cell_type": "markdown",
      "metadata": {
        "id": "FMapkYa9YjJv"
      },
      "source": [
        "##### Function Transformer"
      ]
    },
    {
      "cell_type": "code",
      "metadata": {
        "colab": {
          "base_uri": "https://localhost:8080/",
          "height": 1000
        },
        "id": "cH2wVmS5YzhN",
        "outputId": "6cc9d8b3-07de-4836-d769-2e4d04adf9e6"
      },
      "source": [
        "# training and test split\n",
        "from sklearn.model_selection import train_test_split\n",
        "\n",
        "# data = pd.get_dummies(data, drop_first=True)\n",
        "# We split the data up into a test set and a training set, 30 - 70 %\n",
        "# train_test_split\n",
        "# First argument: x data is all data without class column\n",
        "# Second argument:  this is the class label column\n",
        "# Random state = 0: ensures the train and test splitting is deterministic. \n",
        "\n",
        "X_train, X_test, y_train, y_test = train_test_split(data.drop(['resilience', # y\n",
        "             'gender', \n",
        "             'age', \n",
        "             'amount_music',\n",
        "             'life_enjoyment', \n",
        "             'balanced_life', \n",
        "             'emotional_flex', \n",
        "             'self_actualization',\n",
        "             'trauma',\n",
        "             'health_categorical',\n",
        "             'total_health',\n",
        "             'genres'],\n",
        "            axis = 1),\n",
        "            data['resilience'], # y to be predicted\n",
        "            test_size=0.3,\n",
        "            random_state=0) \n",
        "\n",
        "from sklearn.preprocessing import FunctionTransformer\n",
        "\n",
        "# define a new scaler: \n",
        "x_scaler = FunctionTransformer()\n",
        "\n",
        "# fit the normalization on the training set: \n",
        "x_scaler.fit(X_train)\n",
        "\n",
        "# then create new and normalized training/test sets: \n",
        "X_train_norm = x_scaler.transform(X_train)\n",
        "X_test_norm = x_scaler.transform(X_test)\n",
        "\n",
        "# from sklearn.tree import DecisionTreeClassifier\n",
        "from sklearn import tree\n",
        "\n",
        "model_10 = tree.DecisionTreeClassifier(max_depth=3, min_samples_leaf=1) \n",
        "# Using default parameters\n",
        "\n",
        "# Training model\n",
        "model_10.fit(X_train, y_train)\n",
        "\n",
        "\n",
        "y_pred = model_10.predict(X_test) # Predicting labels for our test set using model\n",
        "print(y_pred)\n",
        "evaluate_on_training_set(y_test, y_pred) #evaluate our model using new function\n",
        "\n",
        "tree.plot_tree(model_10)"
      ],
      "execution_count": 19,
      "outputs": [
        {
          "output_type": "stream",
          "name": "stdout",
          "text": [
            "[4 4 4 4 5 4 2 5 5 4 4 5 4 4 5 4 4 4 5 4 5 4 2 5 4 4 5 4 5 5 4 2 4 4 5 4 4\n",
            " 4 4 2 4 4 2 5 2 2 5 5 4 4 4 4 4 4 4 5 4 5 4 4 4 5 4 5 4 5 4 5 4 5 5 2 4 4\n",
            " 5 4 5 4 4 4 2 5 4 4 4 5 4 5 4 4 2 4 4 2 5 4 5 4 2 5 5 4 4 5 5 5 5 5 4 5 4\n",
            " 4 4 4 2 5 5 5 4 5 4 4 4 5 2 5 4 5 4 4 4 5 4 5 5 4 4 4 5 5 4 5 4 4 4 4 4 4\n",
            " 5 4 4 4 4 4 4 2 4 4 4 4 4 2 5 5 4 4]\n",
            "              precision    recall  f1-score   support\n",
            "\n",
            "           0       0.00      0.00      0.00         1\n",
            "           1       0.00      0.00      0.00         2\n",
            "           2       0.19      0.17      0.18        18\n",
            "           3       0.00      0.00      0.00        23\n",
            "           4       0.30      0.62      0.41        47\n",
            "           5       0.46      0.51      0.49        49\n",
            "           6       0.00      0.00      0.00        26\n",
            "\n",
            "    accuracy                           0.34       166\n",
            "   macro avg       0.14      0.18      0.15       166\n",
            "weighted avg       0.24      0.34      0.28       166\n",
            "\n",
            "Confusion Matrix: \n",
            " [[ 0  0  0  0  0  1  0]\n",
            " [ 0  0  0  0  2  0  0]\n",
            " [ 0  0  3  0 12  3  0]\n",
            " [ 0  0  3  0 16  4  0]\n",
            " [ 0  0  3  0 29 15  0]\n",
            " [ 0  0  4  0 20 25  0]\n",
            " [ 0  0  3  0 17  6  0]]\n"
          ]
        },
        {
          "output_type": "stream",
          "name": "stderr",
          "text": [
            "/usr/local/lib/python3.7/dist-packages/sklearn/metrics/_classification.py:1308: UndefinedMetricWarning: Precision and F-score are ill-defined and being set to 0.0 in labels with no predicted samples. Use `zero_division` parameter to control this behavior.\n",
            "  _warn_prf(average, modifier, msg_start, len(result))\n",
            "/usr/local/lib/python3.7/dist-packages/sklearn/metrics/_classification.py:1308: UndefinedMetricWarning: Precision and F-score are ill-defined and being set to 0.0 in labels with no predicted samples. Use `zero_division` parameter to control this behavior.\n",
            "  _warn_prf(average, modifier, msg_start, len(result))\n",
            "/usr/local/lib/python3.7/dist-packages/sklearn/metrics/_classification.py:1308: UndefinedMetricWarning: Precision and F-score are ill-defined and being set to 0.0 in labels with no predicted samples. Use `zero_division` parameter to control this behavior.\n",
            "  _warn_prf(average, modifier, msg_start, len(result))\n"
          ]
        },
        {
          "output_type": "execute_result",
          "data": {
            "text/plain": [
              "[Text(209.25, 190.26, 'X[146] <= 0.5\\ngini = 0.786\\nsamples = 385\\nvalue = [5, 11, 46, 74, 119, 91, 39]'),\n",
              " Text(167.4, 135.9, 'X[5] <= 0.0\\ngini = 0.784\\nsamples = 381\\nvalue = [5, 11, 42, 74, 119, 91, 39]'),\n",
              " Text(83.7, 81.53999999999999, 'X[3] <= 0.134\\ngini = 0.767\\nsamples = 254\\nvalue = [2, 4, 25, 48, 92, 51, 32]'),\n",
              " Text(41.85, 27.180000000000007, 'gini = 0.651\\nsamples = 13\\nvalue = [0, 0, 7, 2, 1, 1, 2]'),\n",
              " Text(125.55000000000001, 27.180000000000007, 'gini = 0.757\\nsamples = 241\\nvalue = [2, 4, 18, 46, 91, 50, 30]'),\n",
              " Text(251.10000000000002, 81.53999999999999, 'X[1] <= 0.715\\ngini = 0.789\\nsamples = 127\\nvalue = [3, 7, 17, 26, 27, 40, 7]'),\n",
              " Text(209.25, 27.180000000000007, 'gini = 0.764\\nsamples = 106\\nvalue = [1, 4, 9, 23, 26, 36, 7]'),\n",
              " Text(292.95, 27.180000000000007, 'gini = 0.766\\nsamples = 21\\nvalue = [2, 3, 8, 3, 1, 4, 0]'),\n",
              " Text(251.10000000000002, 135.9, 'gini = 0.0\\nsamples = 4\\nvalue = [0, 0, 4, 0, 0, 0, 0]')]"
            ]
          },
          "metadata": {},
          "execution_count": 19
        },
        {
          "output_type": "display_data",
          "data": {
            "image/png": "[encoded data removed]",
            "text/plain": [
              "<Figure size 432x288 with 1 Axes>"
            ]
          },
          "metadata": {
            "needs_background": "light"
          }
        }
      ]
    },
    {
      "cell_type": "markdown",
      "metadata": {
        "id": "DHV8-3M9XBAb"
      },
      "source": [
        "#### Balanced Life"
      ]
    },
    {
      "cell_type": "markdown",
      "metadata": {
        "id": "m-zq2nLFsGGO"
      },
      "source": [
        "##### Standard Scaler"
      ]
    },
    {
      "cell_type": "code",
      "metadata": {
        "colab": {
          "base_uri": "https://localhost:8080/",
          "height": 1000
        },
        "id": "_xmkWcjuxqxT",
        "outputId": "7b88a5ba-16f7-4597-cae5-0f2071dbe2db"
      },
      "source": [
        "# training and test split\n",
        "from sklearn.model_selection import train_test_split\n",
        "\n",
        "# data = pd.get_dummies(data, drop_first=True)\n",
        "# We split the data up into a test set and a training set, 30 - 70 %\n",
        "# train_test_split\n",
        "# First argument: x data is all data without class column\n",
        "# Second argument:  this is the class label column\n",
        "# Random state = 0: ensures the train and test splitting is deterministic. \n",
        "\n",
        "X_train, X_test, y_train, y_test = train_test_split(data.drop(['balanced_life', # y\n",
        "             'gender', \n",
        "             'age', \n",
        "             'amount_music',\n",
        "             'life_enjoyment', \n",
        "             'resilience', \n",
        "             'emotional_flex', \n",
        "             'self_actualization',\n",
        "             'trauma',\n",
        "             'health_categorical',\n",
        "             'total_health',\n",
        "             'genres'],\n",
        "            axis = 1),\n",
        "            data['balanced_life'], # y to be predicted\n",
        "            test_size=0.3,\n",
        "            random_state=0) \n",
        "\n",
        "from sklearn.preprocessing import StandardScaler\n",
        "\n",
        "# define a new scaler: \n",
        "x_scaler = StandardScaler()\n",
        "\n",
        "# fit the normalization on the training set: \n",
        "x_scaler.fit(X_train)\n",
        "\n",
        "# then create new and normalized training/test sets: \n",
        "X_train_norm = x_scaler.transform(X_train)\n",
        "X_test_norm = x_scaler.transform(X_test)\n",
        "\n",
        "# from sklearn.tree import DecisionTreeClassifier\n",
        "from sklearn import tree\n",
        "\n",
        "model_11 = tree.DecisionTreeClassifier(max_depth=3, min_samples_leaf=1) \n",
        "# Using default parameters\n",
        "\n",
        "# Training model\n",
        "model_11.fit(X_train, y_train)\n",
        "\n",
        "\n",
        "y_pred = model_11.predict(X_test) # Predicting labels for our test set using model\n",
        "print(y_pred)\n",
        "evaluate_on_training_set(y_test, y_pred) #evaluate our model using new function\n",
        "\n",
        "tree.plot_tree(model_11)"
      ],
      "execution_count": 20,
      "outputs": [
        {
          "output_type": "stream",
          "name": "stdout",
          "text": [
            "[3 5 5 2 3 4 2 4 3 4 3 4 3 3 3 3 2 4 5 2 4 4 3 3 3 3 2 3 4 5 3 3 3 4 3 3 3\n",
            " 3 4 3 4 5 4 3 3 3 3 2 3 5 3 3 4 3 4 4 3 3 3 3 3 3 3 4 5 3 2 4 4 3 3 4 3 5\n",
            " 3 3 3 3 3 3 3 3 5 3 4 4 5 3 4 5 3 3 4 3 3 3 3 3 3 4 3 3 3 3 3 3 3 3 3 2 3\n",
            " 3 5 3 3 4 4 4 5 4 3 3 4 3 2 3 3 3 3 4 3 3 3 2 5 3 3 4 3 3 3 3 3 3 3 5 3 4\n",
            " 3 3 5 3 3 3 3 5 3 3 3 3 5 4 3 2 3 3]\n",
            "              precision    recall  f1-score   support\n",
            "\n",
            "           0       0.00      0.00      0.00         2\n",
            "           1       0.00      0.00      0.00         6\n",
            "           2       0.09      0.03      0.04        36\n",
            "           3       0.24      0.69      0.36        36\n",
            "           4       0.21      0.22      0.22        32\n",
            "           5       0.28      0.13      0.18        38\n",
            "           6       0.00      0.00      0.00        16\n",
            "\n",
            "    accuracy                           0.23       166\n",
            "   macro avg       0.12      0.15      0.11       166\n",
            "weighted avg       0.18      0.23      0.17       166\n",
            "\n",
            "Confusion Matrix: \n",
            " [[ 0  0  1  0  1  0  0]\n",
            " [ 0  0  2  2  0  2  0]\n",
            " [ 0  0  1 22  7  6  0]\n",
            " [ 0  0  1 25  9  1  0]\n",
            " [ 0  0  2 21  7  2  0]\n",
            " [ 0  0  4 23  6  5  0]\n",
            " [ 0  0  0 11  3  2  0]]\n"
          ]
        },
        {
          "output_type": "stream",
          "name": "stderr",
          "text": [
            "/usr/local/lib/python3.7/dist-packages/sklearn/metrics/_classification.py:1308: UndefinedMetricWarning: Precision and F-score are ill-defined and being set to 0.0 in labels with no predicted samples. Use `zero_division` parameter to control this behavior.\n",
            "  _warn_prf(average, modifier, msg_start, len(result))\n",
            "/usr/local/lib/python3.7/dist-packages/sklearn/metrics/_classification.py:1308: UndefinedMetricWarning: Precision and F-score are ill-defined and being set to 0.0 in labels with no predicted samples. Use `zero_division` parameter to control this behavior.\n",
            "  _warn_prf(average, modifier, msg_start, len(result))\n",
            "/usr/local/lib/python3.7/dist-packages/sklearn/metrics/_classification.py:1308: UndefinedMetricWarning: Precision and F-score are ill-defined and being set to 0.0 in labels with no predicted samples. Use `zero_division` parameter to control this behavior.\n",
            "  _warn_prf(average, modifier, msg_start, len(result))\n"
          ]
        },
        {
          "output_type": "execute_result",
          "data": {
            "text/plain": [
              "[Text(167.4, 190.26, 'X[4] <= 93.007\\ngini = 0.798\\nsamples = 385\\nvalue = [4, 16, 83, 76, 103, 75, 28]'),\n",
              " Text(83.7, 135.9, 'X[7] <= 52.5\\ngini = 0.713\\nsamples = 65\\nvalue = [1, 2, 14, 11, 29, 7, 1]'),\n",
              " Text(41.85, 81.53999999999999, 'X[3] <= 0.87\\ngini = 0.676\\nsamples = 19\\nvalue = [0, 1, 8, 1, 7, 1, 1]'),\n",
              " Text(20.925, 27.180000000000007, 'gini = 0.672\\nsamples = 16\\nvalue = [0, 1, 8, 1, 4, 1, 1]'),\n",
              " Text(62.775000000000006, 27.180000000000007, 'gini = 0.0\\nsamples = 3\\nvalue = [0, 0, 0, 0, 3, 0, 0]'),\n",
              " Text(125.55000000000001, 81.53999999999999, 'X[3] <= 0.633\\ngini = 0.689\\nsamples = 46\\nvalue = [1, 1, 6, 10, 22, 6, 0]'),\n",
              " Text(104.625, 27.180000000000007, 'gini = 0.73\\nsamples = 36\\nvalue = [1, 1, 4, 10, 14, 6, 0]'),\n",
              " Text(146.475, 27.180000000000007, 'gini = 0.32\\nsamples = 10\\nvalue = [0, 0, 2, 0, 8, 0, 0]'),\n",
              " Text(251.10000000000002, 135.9, 'X[4] <= 105.039\\ngini = 0.804\\nsamples = 320\\nvalue = [3, 14, 69, 65, 74, 68, 27]'),\n",
              " Text(209.25, 81.53999999999999, 'X[5] <= 0.001\\ngini = 0.772\\nsamples = 59\\nvalue = [2, 4, 10, 8, 8, 23, 4]'),\n",
              " Text(188.32500000000002, 27.180000000000007, 'gini = 0.717\\nsamples = 49\\nvalue = [2, 2, 7, 8, 5, 23, 2]'),\n",
              " Text(230.175, 27.180000000000007, 'gini = 0.74\\nsamples = 10\\nvalue = [0, 2, 3, 0, 3, 0, 2]'),\n",
              " Text(292.95, 81.53999999999999, 'X[0] <= 0.412\\ngini = 0.798\\nsamples = 261\\nvalue = [1, 10, 59, 57, 66, 45, 23]'),\n",
              " Text(272.02500000000003, 27.180000000000007, 'gini = 0.737\\nsamples = 38\\nvalue = [0, 2, 11, 3, 14, 1, 7]'),\n",
              " Text(313.875, 27.180000000000007, 'gini = 0.795\\nsamples = 223\\nvalue = [1, 8, 48, 54, 52, 44, 16]')]"
            ]
          },
          "metadata": {},
          "execution_count": 20
        },
        {
          "output_type": "display_data",
          "data": {
            "image/png": "[encoded data removed]",
            "text/plain": [
              "<Figure size 432x288 with 1 Axes>"
            ]
          },
          "metadata": {
            "needs_background": "light"
          }
        }
      ]
    },
    {
      "cell_type": "markdown",
      "metadata": {
        "id": "6LLfaA2jsKBV"
      },
      "source": [
        "##### MinMax Scaler"
      ]
    },
    {
      "cell_type": "code",
      "metadata": {
        "colab": {
          "base_uri": "https://localhost:8080/",
          "height": 1000
        },
        "id": "BVmDRmkrx7XG",
        "outputId": "4c7cab4b-8866-4edc-eafd-ca410ee705ff"
      },
      "source": [
        "# training and test split\n",
        "from sklearn.model_selection import train_test_split\n",
        "\n",
        "# data = pd.get_dummies(data, drop_first=True)\n",
        "# We split the data up into a test set and a training set, 30 - 70 %\n",
        "# train_test_split\n",
        "# First argument: x data is all data without class column\n",
        "# Second argument:  this is the class label column\n",
        "# Random state = 0: ensures the train and test splitting is deterministic. \n",
        "\n",
        "X_train, X_test, y_train, y_test = train_test_split(data.drop(['balanced_life', # y\n",
        "             'gender', \n",
        "             'age', \n",
        "             'amount_music',\n",
        "             'life_enjoyment', \n",
        "             'resilience', \n",
        "             'emotional_flex', \n",
        "             'self_actualization',\n",
        "             'trauma',\n",
        "             'health_categorical',\n",
        "             'total_health',\n",
        "             'genres'],\n",
        "            axis = 1),\n",
        "            data['balanced_life'], # y to be predicted\n",
        "            test_size=0.3,\n",
        "            random_state=0) \n",
        "\n",
        "from sklearn.preprocessing import MinMaxScaler\n",
        "\n",
        "# define a new scaler: \n",
        "x_scaler = MinMaxScaler()\n",
        "\n",
        "# fit the normalization on the training set: \n",
        "x_scaler.fit(X_train)\n",
        "\n",
        "# then create new and normalized training/test sets: \n",
        "X_train_norm = x_scaler.transform(X_train)\n",
        "X_test_norm = x_scaler.transform(X_test)\n",
        "\n",
        "# from sklearn.tree import DecisionTreeClassifier\n",
        "from sklearn import tree\n",
        "\n",
        "model_12 = tree.DecisionTreeClassifier(max_depth=3, min_samples_leaf=1) \n",
        "# Using default parameters\n",
        "\n",
        "# Training model\n",
        "model_12.fit(X_train, y_train)\n",
        "\n",
        "\n",
        "y_pred = model_12.predict(X_test) # Predicting labels for our test set using model\n",
        "print(y_pred)\n",
        "evaluate_on_training_set(y_test, y_pred) #evaluate our model using new function\n",
        "\n",
        "tree.plot_tree(model_12)"
      ],
      "execution_count": 21,
      "outputs": [
        {
          "output_type": "stream",
          "name": "stdout",
          "text": [
            "[3 5 5 2 3 4 2 4 3 4 3 4 3 3 3 3 2 4 5 2 4 4 3 3 3 3 2 3 4 5 3 3 3 4 3 3 3\n",
            " 3 4 3 4 5 4 3 3 3 3 2 3 5 3 3 4 3 4 4 3 3 3 3 3 3 3 4 5 3 2 4 4 3 3 4 3 5\n",
            " 3 3 3 3 3 3 3 3 5 3 4 4 5 3 4 5 3 3 4 3 3 3 3 3 3 4 3 3 3 3 3 3 3 3 3 4 3\n",
            " 3 5 3 3 4 4 4 5 4 3 3 4 3 2 3 3 3 3 4 3 3 3 2 5 3 3 4 3 3 3 3 3 3 3 5 3 4\n",
            " 3 3 5 3 3 3 3 5 3 3 3 3 5 4 3 2 3 3]\n",
            "              precision    recall  f1-score   support\n",
            "\n",
            "           0       0.00      0.00      0.00         2\n",
            "           1       0.00      0.00      0.00         6\n",
            "           2       0.10      0.03      0.04        36\n",
            "           3       0.24      0.69      0.36        36\n",
            "           4       0.21      0.22      0.21        32\n",
            "           5       0.28      0.13      0.18        38\n",
            "           6       0.00      0.00      0.00        16\n",
            "\n",
            "    accuracy                           0.23       166\n",
            "   macro avg       0.12      0.15      0.11       166\n",
            "weighted avg       0.18      0.23      0.17       166\n",
            "\n",
            "Confusion Matrix: \n",
            " [[ 0  0  1  0  1  0  0]\n",
            " [ 0  0  2  2  0  2  0]\n",
            " [ 0  0  1 22  7  6  0]\n",
            " [ 0  0  1 25  9  1  0]\n",
            " [ 0  0  2 21  7  2  0]\n",
            " [ 0  0  3 23  7  5  0]\n",
            " [ 0  0  0 11  3  2  0]]\n"
          ]
        },
        {
          "output_type": "stream",
          "name": "stderr",
          "text": [
            "/usr/local/lib/python3.7/dist-packages/sklearn/metrics/_classification.py:1308: UndefinedMetricWarning: Precision and F-score are ill-defined and being set to 0.0 in labels with no predicted samples. Use `zero_division` parameter to control this behavior.\n",
            "  _warn_prf(average, modifier, msg_start, len(result))\n",
            "/usr/local/lib/python3.7/dist-packages/sklearn/metrics/_classification.py:1308: UndefinedMetricWarning: Precision and F-score are ill-defined and being set to 0.0 in labels with no predicted samples. Use `zero_division` parameter to control this behavior.\n",
            "  _warn_prf(average, modifier, msg_start, len(result))\n",
            "/usr/local/lib/python3.7/dist-packages/sklearn/metrics/_classification.py:1308: UndefinedMetricWarning: Precision and F-score are ill-defined and being set to 0.0 in labels with no predicted samples. Use `zero_division` parameter to control this behavior.\n",
            "  _warn_prf(average, modifier, msg_start, len(result))\n"
          ]
        },
        {
          "output_type": "execute_result",
          "data": {
            "text/plain": [
              "[Text(167.4, 190.26, 'X[4] <= 93.007\\ngini = 0.798\\nsamples = 385\\nvalue = [4, 16, 83, 76, 103, 75, 28]'),\n",
              " Text(83.7, 135.9, 'X[7] <= 52.5\\ngini = 0.713\\nsamples = 65\\nvalue = [1, 2, 14, 11, 29, 7, 1]'),\n",
              " Text(41.85, 81.53999999999999, 'X[5] <= 0.018\\ngini = 0.676\\nsamples = 19\\nvalue = [0, 1, 8, 1, 7, 1, 1]'),\n",
              " Text(20.925, 27.180000000000007, 'gini = 0.672\\nsamples = 16\\nvalue = [0, 1, 8, 1, 4, 1, 1]'),\n",
              " Text(62.775000000000006, 27.180000000000007, 'gini = 0.0\\nsamples = 3\\nvalue = [0, 0, 0, 0, 3, 0, 0]'),\n",
              " Text(125.55000000000001, 81.53999999999999, 'X[3] <= 0.633\\ngini = 0.689\\nsamples = 46\\nvalue = [1, 1, 6, 10, 22, 6, 0]'),\n",
              " Text(104.625, 27.180000000000007, 'gini = 0.73\\nsamples = 36\\nvalue = [1, 1, 4, 10, 14, 6, 0]'),\n",
              " Text(146.475, 27.180000000000007, 'gini = 0.32\\nsamples = 10\\nvalue = [0, 0, 2, 0, 8, 0, 0]'),\n",
              " Text(251.10000000000002, 135.9, 'X[4] <= 105.039\\ngini = 0.804\\nsamples = 320\\nvalue = [3, 14, 69, 65, 74, 68, 27]'),\n",
              " Text(209.25, 81.53999999999999, 'X[5] <= 0.001\\ngini = 0.772\\nsamples = 59\\nvalue = [2, 4, 10, 8, 8, 23, 4]'),\n",
              " Text(188.32500000000002, 27.180000000000007, 'gini = 0.717\\nsamples = 49\\nvalue = [2, 2, 7, 8, 5, 23, 2]'),\n",
              " Text(230.175, 27.180000000000007, 'gini = 0.74\\nsamples = 10\\nvalue = [0, 2, 3, 0, 3, 0, 2]'),\n",
              " Text(292.95, 81.53999999999999, 'X[0] <= 0.412\\ngini = 0.798\\nsamples = 261\\nvalue = [1, 10, 59, 57, 66, 45, 23]'),\n",
              " Text(272.02500000000003, 27.180000000000007, 'gini = 0.737\\nsamples = 38\\nvalue = [0, 2, 11, 3, 14, 1, 7]'),\n",
              " Text(313.875, 27.180000000000007, 'gini = 0.795\\nsamples = 223\\nvalue = [1, 8, 48, 54, 52, 44, 16]')]"
            ]
          },
          "metadata": {},
          "execution_count": 21
        },
        {
          "output_type": "display_data",
          "data": {
            "image/png": "[encoded data removed]",
            "text/plain": [
              "<Figure size 432x288 with 1 Axes>"
            ]
          },
          "metadata": {
            "needs_background": "light"
          }
        }
      ]
    },
    {
      "cell_type": "markdown",
      "metadata": {
        "id": "Okmu3a0CsNQE"
      },
      "source": [
        "##### Function Transformer"
      ]
    },
    {
      "cell_type": "code",
      "metadata": {
        "colab": {
          "base_uri": "https://localhost:8080/",
          "height": 1000
        },
        "id": "HqS3NcMByHok",
        "outputId": "e6f4ad67-ab9a-4427-bfa5-513c2a2f3719"
      },
      "source": [
        "# training and test split\n",
        "from sklearn.model_selection import train_test_split\n",
        "\n",
        "# data = pd.get_dummies(data, drop_first=True)\n",
        "# We split the data up into a test set and a training set, 30 - 70 %\n",
        "# train_test_split\n",
        "# First argument: x data is all data without class column\n",
        "# Second argument:  this is the class label column\n",
        "# Random state = 0: ensures the train and test splitting is deterministic. \n",
        "\n",
        "X_train, X_test, y_train, y_test = train_test_split(data.drop(['balanced_life', # y\n",
        "             'gender', \n",
        "             'age', \n",
        "             'amount_music',\n",
        "             'life_enjoyment', \n",
        "             'resilience', \n",
        "             'emotional_flex', \n",
        "             'self_actualization',\n",
        "             'trauma',\n",
        "             'health_categorical',\n",
        "             'total_health',\n",
        "             'genres'],\n",
        "            axis = 1),\n",
        "            data['balanced_life'], # y to be predicted\n",
        "            test_size=0.3,\n",
        "            random_state=0) \n",
        "\n",
        "from sklearn.preprocessing import FunctionTransformer\n",
        "\n",
        "# define a new scaler: \n",
        "x_scaler = FunctionTransformer()\n",
        "\n",
        "# fit the normalization on the training set: \n",
        "x_scaler.fit(X_train)\n",
        "\n",
        "# then create new and normalized training/test sets: \n",
        "X_train_norm = x_scaler.transform(X_train)\n",
        "X_test_norm = x_scaler.transform(X_test)\n",
        "\n",
        "# from sklearn.tree import DecisionTreeClassifier\n",
        "from sklearn import tree\n",
        "\n",
        "model_13 = tree.DecisionTreeClassifier(max_depth=3, min_samples_leaf=1) \n",
        "# Using default parameters\n",
        "\n",
        "# Training model\n",
        "model_13.fit(X_train, y_train)\n",
        "\n",
        "\n",
        "y_pred = model_13.predict(X_test) # Predicting labels for our test set using model\n",
        "print(y_pred)\n",
        "evaluate_on_training_set(y_test, y_pred) #evaluate our model using new function\n",
        "\n",
        "tree.plot_tree(model_13)"
      ],
      "execution_count": 22,
      "outputs": [
        {
          "output_type": "stream",
          "name": "stdout",
          "text": [
            "[3 5 5 2 3 4 2 4 3 4 3 4 3 3 3 3 2 4 5 2 4 4 3 3 3 3 2 3 4 5 3 3 3 4 3 3 3\n",
            " 3 4 3 4 5 4 3 3 3 3 2 3 5 3 3 4 3 4 4 3 3 3 3 3 3 3 4 5 3 2 4 4 3 3 4 3 5\n",
            " 3 3 3 3 3 3 3 3 5 3 4 4 5 3 4 5 3 3 4 3 3 3 3 3 3 4 3 3 3 3 3 3 3 3 3 4 3\n",
            " 3 5 3 3 4 4 4 5 4 3 3 4 3 2 3 3 3 3 4 3 3 3 2 5 3 3 4 3 3 3 3 3 3 3 5 3 4\n",
            " 3 3 5 3 3 3 3 5 3 3 3 3 5 4 3 2 3 3]\n",
            "              precision    recall  f1-score   support\n",
            "\n",
            "           0       0.00      0.00      0.00         2\n",
            "           1       0.00      0.00      0.00         6\n",
            "           2       0.10      0.03      0.04        36\n",
            "           3       0.24      0.69      0.36        36\n",
            "           4       0.21      0.22      0.21        32\n",
            "           5       0.28      0.13      0.18        38\n",
            "           6       0.00      0.00      0.00        16\n",
            "\n",
            "    accuracy                           0.23       166\n",
            "   macro avg       0.12      0.15      0.11       166\n",
            "weighted avg       0.18      0.23      0.17       166\n",
            "\n",
            "Confusion Matrix: \n",
            " [[ 0  0  1  0  1  0  0]\n",
            " [ 0  0  2  2  0  2  0]\n",
            " [ 0  0  1 22  7  6  0]\n",
            " [ 0  0  1 25  9  1  0]\n",
            " [ 0  0  2 21  7  2  0]\n",
            " [ 0  0  3 23  7  5  0]\n",
            " [ 0  0  0 11  3  2  0]]\n"
          ]
        },
        {
          "output_type": "stream",
          "name": "stderr",
          "text": [
            "/usr/local/lib/python3.7/dist-packages/sklearn/metrics/_classification.py:1308: UndefinedMetricWarning: Precision and F-score are ill-defined and being set to 0.0 in labels with no predicted samples. Use `zero_division` parameter to control this behavior.\n",
            "  _warn_prf(average, modifier, msg_start, len(result))\n",
            "/usr/local/lib/python3.7/dist-packages/sklearn/metrics/_classification.py:1308: UndefinedMetricWarning: Precision and F-score are ill-defined and being set to 0.0 in labels with no predicted samples. Use `zero_division` parameter to control this behavior.\n",
            "  _warn_prf(average, modifier, msg_start, len(result))\n",
            "/usr/local/lib/python3.7/dist-packages/sklearn/metrics/_classification.py:1308: UndefinedMetricWarning: Precision and F-score are ill-defined and being set to 0.0 in labels with no predicted samples. Use `zero_division` parameter to control this behavior.\n",
            "  _warn_prf(average, modifier, msg_start, len(result))\n"
          ]
        },
        {
          "output_type": "execute_result",
          "data": {
            "text/plain": [
              "[Text(167.4, 190.26, 'X[4] <= 93.007\\ngini = 0.798\\nsamples = 385\\nvalue = [4, 16, 83, 76, 103, 75, 28]'),\n",
              " Text(83.7, 135.9, 'X[7] <= 52.5\\ngini = 0.713\\nsamples = 65\\nvalue = [1, 2, 14, 11, 29, 7, 1]'),\n",
              " Text(41.85, 81.53999999999999, 'X[5] <= 0.018\\ngini = 0.676\\nsamples = 19\\nvalue = [0, 1, 8, 1, 7, 1, 1]'),\n",
              " Text(20.925, 27.180000000000007, 'gini = 0.672\\nsamples = 16\\nvalue = [0, 1, 8, 1, 4, 1, 1]'),\n",
              " Text(62.775000000000006, 27.180000000000007, 'gini = 0.0\\nsamples = 3\\nvalue = [0, 0, 0, 0, 3, 0, 0]'),\n",
              " Text(125.55000000000001, 81.53999999999999, 'X[3] <= 0.633\\ngini = 0.689\\nsamples = 46\\nvalue = [1, 1, 6, 10, 22, 6, 0]'),\n",
              " Text(104.625, 27.180000000000007, 'gini = 0.73\\nsamples = 36\\nvalue = [1, 1, 4, 10, 14, 6, 0]'),\n",
              " Text(146.475, 27.180000000000007, 'gini = 0.32\\nsamples = 10\\nvalue = [0, 0, 2, 0, 8, 0, 0]'),\n",
              " Text(251.10000000000002, 135.9, 'X[4] <= 105.039\\ngini = 0.804\\nsamples = 320\\nvalue = [3, 14, 69, 65, 74, 68, 27]'),\n",
              " Text(209.25, 81.53999999999999, 'X[5] <= 0.001\\ngini = 0.772\\nsamples = 59\\nvalue = [2, 4, 10, 8, 8, 23, 4]'),\n",
              " Text(188.32500000000002, 27.180000000000007, 'gini = 0.717\\nsamples = 49\\nvalue = [2, 2, 7, 8, 5, 23, 2]'),\n",
              " Text(230.175, 27.180000000000007, 'gini = 0.74\\nsamples = 10\\nvalue = [0, 2, 3, 0, 3, 0, 2]'),\n",
              " Text(292.95, 81.53999999999999, 'X[0] <= 0.412\\ngini = 0.798\\nsamples = 261\\nvalue = [1, 10, 59, 57, 66, 45, 23]'),\n",
              " Text(272.02500000000003, 27.180000000000007, 'gini = 0.737\\nsamples = 38\\nvalue = [0, 2, 11, 3, 14, 1, 7]'),\n",
              " Text(313.875, 27.180000000000007, 'gini = 0.795\\nsamples = 223\\nvalue = [1, 8, 48, 54, 52, 44, 16]')]"
            ]
          },
          "metadata": {},
          "execution_count": 22
        },
        {
          "output_type": "display_data",
          "data": {
            "image/png": "[encoded data removed]",
            "text/plain": [
              "<Figure size 432x288 with 1 Axes>"
            ]
          },
          "metadata": {
            "needs_background": "light"
          }
        }
      ]
    },
    {
      "cell_type": "markdown",
      "metadata": {
        "id": "PyHuOklGXC3E"
      },
      "source": [
        "#### Emotional Flexibility"
      ]
    },
    {
      "cell_type": "markdown",
      "metadata": {
        "id": "UGLBFZHMsRQ1"
      },
      "source": [
        "##### Standard Scaler"
      ]
    },
    {
      "cell_type": "code",
      "metadata": {
        "colab": {
          "base_uri": "https://localhost:8080/",
          "height": 1000
        },
        "id": "yaGXDJy1ybvq",
        "outputId": "7be5aedd-a2df-4167-d912-4f16a2a80d48"
      },
      "source": [
        "# training and test split\n",
        "from sklearn.model_selection import train_test_split\n",
        "\n",
        "# data = pd.get_dummies(data, drop_first=True)\n",
        "# We split the data up into a test set and a training set, 30 - 70 %\n",
        "# train_test_split\n",
        "# First argument: x data is all data without class column\n",
        "# Second argument:  this is the class label column\n",
        "# Random state = 0: ensures the train and test splitting is deterministic. \n",
        "\n",
        "X_train, X_test, y_train, y_test = train_test_split(data.drop(['emotional_flex', # y\n",
        "             'gender', \n",
        "             'age', \n",
        "             'amount_music',\n",
        "             'life_enjoyment', \n",
        "             'resilience', \n",
        "             'balanced_life', \n",
        "             'self_actualization',\n",
        "             'trauma',\n",
        "             'health_categorical',\n",
        "             'total_health',\n",
        "             'genres'],\n",
        "            axis = 1),\n",
        "            data['emotional_flex'], # y to be predicted\n",
        "            test_size=0.3,\n",
        "            random_state=0) \n",
        "\n",
        "from sklearn.preprocessing import StandardScaler\n",
        "\n",
        "# define a new scaler: \n",
        "x_scaler = StandardScaler()\n",
        "\n",
        "# fit the normalization on the training set: \n",
        "x_scaler.fit(X_train)\n",
        "\n",
        "# then create new and normalized training/test sets: \n",
        "X_train_norm = x_scaler.transform(X_train)\n",
        "X_test_norm = x_scaler.transform(X_test)\n",
        "\n",
        "# from sklearn.tree import DecisionTreeClassifier\n",
        "from sklearn import tree\n",
        "\n",
        "model_14 = tree.DecisionTreeClassifier(max_depth=3, min_samples_leaf=1) \n",
        "# Using default parameters\n",
        "\n",
        "# Training model\n",
        "model_14.fit(X_train, y_train)\n",
        "\n",
        "\n",
        "y_pred = model_14.predict(X_test) # Predicting labels for our test set using model\n",
        "print(y_pred)\n",
        "evaluate_on_training_set(y_test, y_pred) #evaluate our model using new function\n",
        "\n",
        "tree.plot_tree(model_14)"
      ],
      "execution_count": 23,
      "outputs": [
        {
          "output_type": "stream",
          "name": "stdout",
          "text": [
            "[4 4 4 4 4 5 4 4 4 4 4 5 5 4 4 3 4 4 4 4 5 5 5 4 5 4 4 4 5 4 5 2 5 5 5 4 5\n",
            " 4 5 4 4 4 5 4 4 4 4 4 4 5 5 5 4 5 5 4 5 5 5 5 4 4 5 4 4 4 4 4 5 5 5 4 4 4\n",
            " 5 4 4 4 5 5 4 4 4 4 4 4 4 5 5 4 5 4 4 5 4 4 5 4 5 4 4 4 5 5 4 5 4 5 5 4 4\n",
            " 4 4 4 4 5 4 5 4 4 5 5 5 4 4 4 4 4 4 5 5 4 4 5 5 5 4 5 4 4 4 4 4 4 3 4 4 4\n",
            " 4 5 4 4 4 5 4 4 5 5 5 4 4 4 5 4 5 5]\n",
            "              precision    recall  f1-score   support\n",
            "\n",
            "           0       0.00      0.00      0.00         5\n",
            "           1       0.00      0.00      0.00        11\n",
            "           2       1.00      0.04      0.07        28\n",
            "           3       0.00      0.00      0.00        24\n",
            "           4       0.29      0.79      0.43        38\n",
            "           5       0.31      0.53      0.39        36\n",
            "           6       0.00      0.00      0.00        24\n",
            "\n",
            "    accuracy                           0.30       166\n",
            "   macro avg       0.23      0.19      0.13       166\n",
            "weighted avg       0.30      0.30      0.19       166\n",
            "\n",
            "Confusion Matrix: \n",
            " [[ 0  0  0  0  4  1  0]\n",
            " [ 0  0  0  0  7  4  0]\n",
            " [ 0  0  1  0 14 13  0]\n",
            " [ 0  0  0  0 18  6  0]\n",
            " [ 0  0  0  1 30  7  0]\n",
            " [ 0  0  0  0 17 19  0]\n",
            " [ 0  0  0  1 12 11  0]]\n"
          ]
        },
        {
          "output_type": "stream",
          "name": "stderr",
          "text": [
            "/usr/local/lib/python3.7/dist-packages/sklearn/metrics/_classification.py:1308: UndefinedMetricWarning: Precision and F-score are ill-defined and being set to 0.0 in labels with no predicted samples. Use `zero_division` parameter to control this behavior.\n",
            "  _warn_prf(average, modifier, msg_start, len(result))\n",
            "/usr/local/lib/python3.7/dist-packages/sklearn/metrics/_classification.py:1308: UndefinedMetricWarning: Precision and F-score are ill-defined and being set to 0.0 in labels with no predicted samples. Use `zero_division` parameter to control this behavior.\n",
            "  _warn_prf(average, modifier, msg_start, len(result))\n",
            "/usr/local/lib/python3.7/dist-packages/sklearn/metrics/_classification.py:1308: UndefinedMetricWarning: Precision and F-score are ill-defined and being set to 0.0 in labels with no predicted samples. Use `zero_division` parameter to control this behavior.\n",
            "  _warn_prf(average, modifier, msg_start, len(result))\n"
          ]
        },
        {
          "output_type": "execute_result",
          "data": {
            "text/plain": [
              "[Text(209.25, 190.26, 'X[146] <= 0.5\\ngini = 0.805\\nsamples = 385\\nvalue = [15, 19, 60, 71, 100, 95, 25]'),\n",
              " Text(167.4, 135.9, 'X[179] <= 0.5\\ngini = 0.804\\nsamples = 381\\nvalue = [15, 19, 56, 71, 100, 95, 25]'),\n",
              " Text(83.7, 81.53999999999999, 'X[4] <= 146.907\\ngini = 0.801\\nsamples = 296\\nvalue = [13, 17, 44, 53, 88, 65, 16]'),\n",
              " Text(41.85, 27.180000000000007, 'gini = 0.799\\nsamples = 252\\nvalue = [10, 14, 40, 45, 80, 47, 16]'),\n",
              " Text(125.55000000000001, 27.180000000000007, 'gini = 0.749\\nsamples = 44\\nvalue = [3, 3, 4, 8, 8, 18, 0]'),\n",
              " Text(251.10000000000002, 81.53999999999999, 'X[4] <= 183.509\\ngini = 0.778\\nsamples = 85\\nvalue = [2, 2, 12, 18, 12, 30, 9]'),\n",
              " Text(209.25, 27.180000000000007, 'gini = 0.773\\nsamples = 80\\nvalue = [2, 2, 12, 14, 11, 30, 9]'),\n",
              " Text(292.95, 27.180000000000007, 'gini = 0.32\\nsamples = 5\\nvalue = [0, 0, 0, 4, 1, 0, 0]'),\n",
              " Text(251.10000000000002, 135.9, 'gini = 0.0\\nsamples = 4\\nvalue = [0, 0, 4, 0, 0, 0, 0]')]"
            ]
          },
          "metadata": {},
          "execution_count": 23
        },
        {
          "output_type": "display_data",
          "data": {
            "image/png": "[encoded data removed]",
            "text/plain": [
              "<Figure size 432x288 with 1 Axes>"
            ]
          },
          "metadata": {
            "needs_background": "light"
          }
        }
      ]
    },
    {
      "cell_type": "markdown",
      "metadata": {
        "id": "QKxbVIpzsUd_"
      },
      "source": [
        "##### MinMax Scaler"
      ]
    },
    {
      "cell_type": "code",
      "metadata": {
        "colab": {
          "base_uri": "https://localhost:8080/",
          "height": 1000
        },
        "id": "7yWlQdHmyrQW",
        "outputId": "92acd198-1590-4112-cb0c-0a07083b9ccc"
      },
      "source": [
        "# training and test split\n",
        "from sklearn.model_selection import train_test_split\n",
        "\n",
        "# data = pd.get_dummies(data, drop_first=True)\n",
        "# We split the data up into a test set and a training set, 30 - 70 %\n",
        "# train_test_split\n",
        "# First argument: x data is all data without class column\n",
        "# Second argument:  this is the class label column\n",
        "# Random state = 0: ensures the train and test splitting is deterministic. \n",
        "\n",
        "X_train, X_test, y_train, y_test = train_test_split(data.drop(['balanced_life', # y\n",
        "             'gender', \n",
        "             'age', \n",
        "             'amount_music',\n",
        "             'life_enjoyment', \n",
        "             'resilience', \n",
        "             'emotional_flex', \n",
        "             'self_actualization',\n",
        "             'trauma',\n",
        "             'health_categorical',\n",
        "             'total_health',\n",
        "             'genres'],\n",
        "            axis = 1),\n",
        "            data['balanced_life'], # y to be predicted\n",
        "            test_size=0.3,\n",
        "            random_state=0) \n",
        "\n",
        "from sklearn.preprocessing import MinMaxScaler\n",
        "\n",
        "# define a new scaler: \n",
        "x_scaler = MinMaxScaler()\n",
        "\n",
        "# fit the normalization on the training set: \n",
        "x_scaler.fit(X_train)\n",
        "\n",
        "# then create new and normalized training/test sets: \n",
        "X_train_norm = x_scaler.transform(X_train)\n",
        "X_test_norm = x_scaler.transform(X_test)\n",
        "\n",
        "# from sklearn.tree import DecisionTreeClassifier\n",
        "from sklearn import tree\n",
        "\n",
        "model_15 = tree.DecisionTreeClassifier(max_depth=3, min_samples_leaf=1) \n",
        "# Using default parameters\n",
        "\n",
        "# Training model\n",
        "model_15.fit(X_train, y_train)\n",
        "\n",
        "\n",
        "y_pred = model_15.predict(X_test) # Predicting labels for our test set using model\n",
        "print(y_pred)\n",
        "evaluate_on_training_set(y_test, y_pred) #evaluate our model using new function\n",
        "\n",
        "tree.plot_tree(model_15)"
      ],
      "execution_count": 24,
      "outputs": [
        {
          "output_type": "stream",
          "name": "stdout",
          "text": [
            "[3 5 5 2 3 4 2 4 3 4 3 4 3 3 3 3 2 4 5 2 4 4 3 3 3 3 2 3 4 5 3 3 3 4 3 3 3\n",
            " 3 4 3 4 5 4 3 3 3 3 2 3 5 3 3 4 3 4 4 3 3 3 3 3 3 3 4 5 3 2 4 4 3 3 4 3 5\n",
            " 3 3 3 3 3 3 3 3 5 3 4 4 5 3 4 5 3 3 4 3 3 3 3 3 3 4 3 3 3 3 3 3 3 3 3 4 3\n",
            " 3 5 3 3 4 4 4 5 4 3 3 4 3 2 3 3 3 3 4 3 3 3 2 5 3 3 4 3 3 3 3 3 3 3 5 3 4\n",
            " 3 3 5 3 3 3 3 5 3 3 3 3 5 4 3 2 3 3]\n",
            "              precision    recall  f1-score   support\n",
            "\n",
            "           0       0.00      0.00      0.00         2\n",
            "           1       0.00      0.00      0.00         6\n",
            "           2       0.10      0.03      0.04        36\n",
            "           3       0.24      0.69      0.36        36\n",
            "           4       0.21      0.22      0.21        32\n",
            "           5       0.28      0.13      0.18        38\n",
            "           6       0.00      0.00      0.00        16\n",
            "\n",
            "    accuracy                           0.23       166\n",
            "   macro avg       0.12      0.15      0.11       166\n",
            "weighted avg       0.18      0.23      0.17       166\n",
            "\n",
            "Confusion Matrix: \n",
            " [[ 0  0  1  0  1  0  0]\n",
            " [ 0  0  2  2  0  2  0]\n",
            " [ 0  0  1 22  7  6  0]\n",
            " [ 0  0  1 25  9  1  0]\n",
            " [ 0  0  2 21  7  2  0]\n",
            " [ 0  0  3 23  7  5  0]\n",
            " [ 0  0  0 11  3  2  0]]\n"
          ]
        },
        {
          "output_type": "stream",
          "name": "stderr",
          "text": [
            "/usr/local/lib/python3.7/dist-packages/sklearn/metrics/_classification.py:1308: UndefinedMetricWarning: Precision and F-score are ill-defined and being set to 0.0 in labels with no predicted samples. Use `zero_division` parameter to control this behavior.\n",
            "  _warn_prf(average, modifier, msg_start, len(result))\n",
            "/usr/local/lib/python3.7/dist-packages/sklearn/metrics/_classification.py:1308: UndefinedMetricWarning: Precision and F-score are ill-defined and being set to 0.0 in labels with no predicted samples. Use `zero_division` parameter to control this behavior.\n",
            "  _warn_prf(average, modifier, msg_start, len(result))\n",
            "/usr/local/lib/python3.7/dist-packages/sklearn/metrics/_classification.py:1308: UndefinedMetricWarning: Precision and F-score are ill-defined and being set to 0.0 in labels with no predicted samples. Use `zero_division` parameter to control this behavior.\n",
            "  _warn_prf(average, modifier, msg_start, len(result))\n"
          ]
        },
        {
          "output_type": "execute_result",
          "data": {
            "text/plain": [
              "[Text(167.4, 190.26, 'X[4] <= 93.007\\ngini = 0.798\\nsamples = 385\\nvalue = [4, 16, 83, 76, 103, 75, 28]'),\n",
              " Text(83.7, 135.9, 'X[7] <= 52.5\\ngini = 0.713\\nsamples = 65\\nvalue = [1, 2, 14, 11, 29, 7, 1]'),\n",
              " Text(41.85, 81.53999999999999, 'X[5] <= 0.018\\ngini = 0.676\\nsamples = 19\\nvalue = [0, 1, 8, 1, 7, 1, 1]'),\n",
              " Text(20.925, 27.180000000000007, 'gini = 0.672\\nsamples = 16\\nvalue = [0, 1, 8, 1, 4, 1, 1]'),\n",
              " Text(62.775000000000006, 27.180000000000007, 'gini = 0.0\\nsamples = 3\\nvalue = [0, 0, 0, 0, 3, 0, 0]'),\n",
              " Text(125.55000000000001, 81.53999999999999, 'X[3] <= 0.633\\ngini = 0.689\\nsamples = 46\\nvalue = [1, 1, 6, 10, 22, 6, 0]'),\n",
              " Text(104.625, 27.180000000000007, 'gini = 0.73\\nsamples = 36\\nvalue = [1, 1, 4, 10, 14, 6, 0]'),\n",
              " Text(146.475, 27.180000000000007, 'gini = 0.32\\nsamples = 10\\nvalue = [0, 0, 2, 0, 8, 0, 0]'),\n",
              " Text(251.10000000000002, 135.9, 'X[4] <= 105.039\\ngini = 0.804\\nsamples = 320\\nvalue = [3, 14, 69, 65, 74, 68, 27]'),\n",
              " Text(209.25, 81.53999999999999, 'X[5] <= 0.001\\ngini = 0.772\\nsamples = 59\\nvalue = [2, 4, 10, 8, 8, 23, 4]'),\n",
              " Text(188.32500000000002, 27.180000000000007, 'gini = 0.717\\nsamples = 49\\nvalue = [2, 2, 7, 8, 5, 23, 2]'),\n",
              " Text(230.175, 27.180000000000007, 'gini = 0.74\\nsamples = 10\\nvalue = [0, 2, 3, 0, 3, 0, 2]'),\n",
              " Text(292.95, 81.53999999999999, 'X[0] <= 0.412\\ngini = 0.798\\nsamples = 261\\nvalue = [1, 10, 59, 57, 66, 45, 23]'),\n",
              " Text(272.02500000000003, 27.180000000000007, 'gini = 0.737\\nsamples = 38\\nvalue = [0, 2, 11, 3, 14, 1, 7]'),\n",
              " Text(313.875, 27.180000000000007, 'gini = 0.795\\nsamples = 223\\nvalue = [1, 8, 48, 54, 52, 44, 16]')]"
            ]
          },
          "metadata": {},
          "execution_count": 24
        },
        {
          "output_type": "display_data",
          "data": {
            "image/png": "[encoded data removed]",
            "text/plain": [
              "<Figure size 432x288 with 1 Axes>"
            ]
          },
          "metadata": {
            "needs_background": "light"
          }
        }
      ]
    },
    {
      "cell_type": "markdown",
      "metadata": {
        "id": "rmTVBYjpsYJQ"
      },
      "source": [
        "##### Function Transformer"
      ]
    },
    {
      "cell_type": "code",
      "metadata": {
        "colab": {
          "base_uri": "https://localhost:8080/",
          "height": 1000
        },
        "id": "IBvYkiv2y4MK",
        "outputId": "7d13b6ed-e0c7-47f4-8aaa-3c851f93c00f"
      },
      "source": [
        "# training and test split\n",
        "from sklearn.model_selection import train_test_split\n",
        "\n",
        "# data = pd.get_dummies(data, drop_first=True)\n",
        "# We split the data up into a test set and a training set, 30 - 70 %\n",
        "# train_test_split\n",
        "# First argument: x data is all data without class column\n",
        "# Second argument:  this is the class label column\n",
        "# Random state = 0: ensures the train and test splitting is deterministic. \n",
        "\n",
        "X_train, X_test, y_train, y_test = train_test_split(data.drop(['balanced_life', # y\n",
        "             'gender', \n",
        "             'age', \n",
        "             'amount_music',\n",
        "             'life_enjoyment', \n",
        "             'resilience', \n",
        "             'emotional_flex', \n",
        "             'self_actualization',\n",
        "             'trauma',\n",
        "             'health_categorical',\n",
        "             'total_health',\n",
        "             'genres'],\n",
        "            axis = 1),\n",
        "            data['balanced_life'], # y to be predicted\n",
        "            test_size=0.3,\n",
        "            random_state=0) \n",
        "\n",
        "from sklearn.preprocessing import FunctionTransformer\n",
        "\n",
        "# define a new scaler: \n",
        "x_scaler = FunctionTransformer()\n",
        "\n",
        "# fit the normalization on the training set: \n",
        "x_scaler.fit(X_train)\n",
        "\n",
        "# then create new and normalized training/test sets: \n",
        "X_train_norm = x_scaler.transform(X_train)\n",
        "X_test_norm = x_scaler.transform(X_test)\n",
        "\n",
        "# from sklearn.tree import DecisionTreeClassifier\n",
        "from sklearn import tree\n",
        "\n",
        "model_16 = tree.DecisionTreeClassifier(max_depth=3, min_samples_leaf=1) \n",
        "# Using default parameters\n",
        "\n",
        "# Training model\n",
        "model_16.fit(X_train, y_train)\n",
        "\n",
        "\n",
        "y_pred = model_16.predict(X_test) # Predicting labels for our test set using model\n",
        "print(y_pred)\n",
        "evaluate_on_training_set(y_test, y_pred) #evaluate our model using new function\n",
        "\n",
        "tree.plot_tree(model_16)"
      ],
      "execution_count": 25,
      "outputs": [
        {
          "output_type": "stream",
          "name": "stdout",
          "text": [
            "[3 5 5 2 3 4 2 4 3 4 3 4 3 3 3 3 2 4 5 2 4 4 3 3 3 3 2 3 4 5 3 3 3 4 3 3 3\n",
            " 3 4 3 4 5 4 3 3 3 3 2 3 5 3 3 4 3 4 4 3 3 3 3 3 3 3 4 5 3 2 4 4 3 3 4 3 5\n",
            " 3 3 3 3 3 3 3 3 5 3 4 4 5 3 4 5 3 3 4 3 3 3 3 3 3 4 3 3 3 3 3 3 3 3 3 2 3\n",
            " 3 5 3 3 4 4 4 5 4 3 3 4 3 2 3 3 3 3 4 3 3 3 2 5 3 3 4 3 3 3 3 3 3 3 5 3 4\n",
            " 3 3 5 3 3 3 3 5 3 3 3 3 5 4 3 2 3 3]\n",
            "              precision    recall  f1-score   support\n",
            "\n",
            "           0       0.00      0.00      0.00         2\n",
            "           1       0.00      0.00      0.00         6\n",
            "           2       0.09      0.03      0.04        36\n",
            "           3       0.24      0.69      0.36        36\n",
            "           4       0.21      0.22      0.22        32\n",
            "           5       0.28      0.13      0.18        38\n",
            "           6       0.00      0.00      0.00        16\n",
            "\n",
            "    accuracy                           0.23       166\n",
            "   macro avg       0.12      0.15      0.11       166\n",
            "weighted avg       0.18      0.23      0.17       166\n",
            "\n",
            "Confusion Matrix: \n",
            " [[ 0  0  1  0  1  0  0]\n",
            " [ 0  0  2  2  0  2  0]\n",
            " [ 0  0  1 22  7  6  0]\n",
            " [ 0  0  1 25  9  1  0]\n",
            " [ 0  0  2 21  7  2  0]\n",
            " [ 0  0  4 23  6  5  0]\n",
            " [ 0  0  0 11  3  2  0]]\n"
          ]
        },
        {
          "output_type": "stream",
          "name": "stderr",
          "text": [
            "/usr/local/lib/python3.7/dist-packages/sklearn/metrics/_classification.py:1308: UndefinedMetricWarning: Precision and F-score are ill-defined and being set to 0.0 in labels with no predicted samples. Use `zero_division` parameter to control this behavior.\n",
            "  _warn_prf(average, modifier, msg_start, len(result))\n",
            "/usr/local/lib/python3.7/dist-packages/sklearn/metrics/_classification.py:1308: UndefinedMetricWarning: Precision and F-score are ill-defined and being set to 0.0 in labels with no predicted samples. Use `zero_division` parameter to control this behavior.\n",
            "  _warn_prf(average, modifier, msg_start, len(result))\n",
            "/usr/local/lib/python3.7/dist-packages/sklearn/metrics/_classification.py:1308: UndefinedMetricWarning: Precision and F-score are ill-defined and being set to 0.0 in labels with no predicted samples. Use `zero_division` parameter to control this behavior.\n",
            "  _warn_prf(average, modifier, msg_start, len(result))\n"
          ]
        },
        {
          "output_type": "execute_result",
          "data": {
            "text/plain": [
              "[Text(167.4, 190.26, 'X[4] <= 93.007\\ngini = 0.798\\nsamples = 385\\nvalue = [4, 16, 83, 76, 103, 75, 28]'),\n",
              " Text(83.7, 135.9, 'X[7] <= 52.5\\ngini = 0.713\\nsamples = 65\\nvalue = [1, 2, 14, 11, 29, 7, 1]'),\n",
              " Text(41.85, 81.53999999999999, 'X[3] <= 0.87\\ngini = 0.676\\nsamples = 19\\nvalue = [0, 1, 8, 1, 7, 1, 1]'),\n",
              " Text(20.925, 27.180000000000007, 'gini = 0.672\\nsamples = 16\\nvalue = [0, 1, 8, 1, 4, 1, 1]'),\n",
              " Text(62.775000000000006, 27.180000000000007, 'gini = 0.0\\nsamples = 3\\nvalue = [0, 0, 0, 0, 3, 0, 0]'),\n",
              " Text(125.55000000000001, 81.53999999999999, 'X[3] <= 0.633\\ngini = 0.689\\nsamples = 46\\nvalue = [1, 1, 6, 10, 22, 6, 0]'),\n",
              " Text(104.625, 27.180000000000007, 'gini = 0.73\\nsamples = 36\\nvalue = [1, 1, 4, 10, 14, 6, 0]'),\n",
              " Text(146.475, 27.180000000000007, 'gini = 0.32\\nsamples = 10\\nvalue = [0, 0, 2, 0, 8, 0, 0]'),\n",
              " Text(251.10000000000002, 135.9, 'X[4] <= 105.039\\ngini = 0.804\\nsamples = 320\\nvalue = [3, 14, 69, 65, 74, 68, 27]'),\n",
              " Text(209.25, 81.53999999999999, 'X[5] <= 0.001\\ngini = 0.772\\nsamples = 59\\nvalue = [2, 4, 10, 8, 8, 23, 4]'),\n",
              " Text(188.32500000000002, 27.180000000000007, 'gini = 0.717\\nsamples = 49\\nvalue = [2, 2, 7, 8, 5, 23, 2]'),\n",
              " Text(230.175, 27.180000000000007, 'gini = 0.74\\nsamples = 10\\nvalue = [0, 2, 3, 0, 3, 0, 2]'),\n",
              " Text(292.95, 81.53999999999999, 'X[0] <= 0.412\\ngini = 0.798\\nsamples = 261\\nvalue = [1, 10, 59, 57, 66, 45, 23]'),\n",
              " Text(272.02500000000003, 27.180000000000007, 'gini = 0.737\\nsamples = 38\\nvalue = [0, 2, 11, 3, 14, 1, 7]'),\n",
              " Text(313.875, 27.180000000000007, 'gini = 0.795\\nsamples = 223\\nvalue = [1, 8, 48, 54, 52, 44, 16]')]"
            ]
          },
          "metadata": {},
          "execution_count": 25
        },
        {
          "output_type": "display_data",
          "data": {
            "image/png": "[encoded data removed]",
            "text/plain": [
              "<Figure size 432x288 with 1 Axes>"
            ]
          },
          "metadata": {
            "needs_background": "light"
          }
        }
      ]
    },
    {
      "cell_type": "markdown",
      "metadata": {
        "id": "9Fmwk3XGXGZX"
      },
      "source": [
        "#### Self Actualization"
      ]
    },
    {
      "cell_type": "markdown",
      "metadata": {
        "id": "6JOZ4BOxsbNm"
      },
      "source": [
        "##### Standard Scaler"
      ]
    },
    {
      "cell_type": "code",
      "metadata": {
        "colab": {
          "base_uri": "https://localhost:8080/",
          "height": 1000
        },
        "id": "8BXeGxVlW3Ix",
        "outputId": "30e5e7e9-2907-40cd-899a-1c801d0a5eab"
      },
      "source": [
        "# training and test split\n",
        "from sklearn.model_selection import train_test_split\n",
        "\n",
        "# data = pd.get_dummies(data, drop_first=True)\n",
        "# We split the data up into a test set and a training set, 30 - 70 %\n",
        "# train_test_split\n",
        "# First argument: x data is all data without class column\n",
        "# Second argument:  this is the class label column\n",
        "# Random state = 0: ensures the train and test splitting is deterministic. \n",
        "\n",
        "X_train, X_test, y_train, y_test = train_test_split(data.drop(['self_actualization', # y\n",
        "             'gender', \n",
        "             'age', \n",
        "             'amount_music',\n",
        "             'life_enjoyment', \n",
        "             'resilience', \n",
        "             'emotional_flex', \n",
        "             'balanced_life',\n",
        "             'trauma',\n",
        "             'health_categorical',\n",
        "             'total_health',\n",
        "             'genres'],\n",
        "            axis = 1),\n",
        "            data['self_actualization'], # y to be predicted\n",
        "            test_size=0.3,\n",
        "            random_state=0) \n",
        "\n",
        "from sklearn.preprocessing import StandardScaler\n",
        "\n",
        "# define a new scaler: \n",
        "x_scaler = StandardScaler()\n",
        "\n",
        "# fit the normalization on the training set: \n",
        "x_scaler.fit(X_train)\n",
        "\n",
        "# then create new and normalized training/test sets: \n",
        "X_train_norm = x_scaler.transform(X_train)\n",
        "X_test_norm = x_scaler.transform(X_test)\n",
        "\n",
        "# from sklearn.tree import DecisionTreeClassifier\n",
        "from sklearn import tree\n",
        "\n",
        "model_17 = tree.DecisionTreeClassifier(max_depth=3, min_samples_leaf=1) \n",
        "# Using default parameters\n",
        "\n",
        "# Training model\n",
        "model_17.fit(X_train, y_train)\n",
        "\n",
        "\n",
        "y_pred = model_17.predict(X_test) # Predicting labels for our test set using model\n",
        "print(y_pred)\n",
        "evaluate_on_training_set(y_test, y_pred) #evaluate our model using new function\n",
        "\n",
        "tree.plot_tree(model_17)"
      ],
      "execution_count": 26,
      "outputs": [
        {
          "output_type": "stream",
          "name": "stdout",
          "text": [
            "[5 5 5 5 5 5 5 5 5 5 5 5 5 5 5 5 5 5 5 5 5 5 5 5 5 5 5 5 5 5 5 5 5 5 5 5 5\n",
            " 5 5 5 5 5 5 5 5 5 5 6 5 5 5 5 5 5 5 5 5 5 5 5 5 5 5 5 5 5 5 5 5 5 5 4 5 5\n",
            " 5 5 5 5 5 5 5 5 5 5 5 5 5 5 5 5 5 5 5 5 5 5 5 2 5 5 5 5 5 5 5 5 5 5 5 6 5\n",
            " 2 5 5 5 5 5 5 5 5 5 5 5 5 5 5 5 5 5 5 5 5 5 5 5 5 5 5 5 5 5 5 5 5 5 5 5 5\n",
            " 5 5 5 5 5 5 5 5 5 5 5 5 5 5 5 5 5 5]\n",
            "              precision    recall  f1-score   support\n",
            "\n",
            "           0       0.00      0.00      0.00         3\n",
            "           1       0.00      0.00      0.00         7\n",
            "           2       0.00      0.00      0.00        12\n",
            "           3       0.00      0.00      0.00        20\n",
            "           4       0.00      0.00      0.00        39\n",
            "           5       0.29      0.98      0.44        47\n",
            "           6       1.00      0.05      0.10        38\n",
            "\n",
            "    accuracy                           0.29       166\n",
            "   macro avg       0.18      0.15      0.08       166\n",
            "weighted avg       0.31      0.29      0.15       166\n",
            "\n",
            "Confusion Matrix: \n",
            " [[ 0  0  0  0  0  3  0]\n",
            " [ 0  0  0  0  0  7  0]\n",
            " [ 0  0  0  0  0 12  0]\n",
            " [ 0  0  0  0  0 20  0]\n",
            " [ 0  0  0  0  0 39  0]\n",
            " [ 0  0  1  0  0 46  0]\n",
            " [ 0  0  1  0  1 34  2]]\n"
          ]
        },
        {
          "output_type": "stream",
          "name": "stderr",
          "text": [
            "/usr/local/lib/python3.7/dist-packages/sklearn/metrics/_classification.py:1308: UndefinedMetricWarning: Precision and F-score are ill-defined and being set to 0.0 in labels with no predicted samples. Use `zero_division` parameter to control this behavior.\n",
            "  _warn_prf(average, modifier, msg_start, len(result))\n",
            "/usr/local/lib/python3.7/dist-packages/sklearn/metrics/_classification.py:1308: UndefinedMetricWarning: Precision and F-score are ill-defined and being set to 0.0 in labels with no predicted samples. Use `zero_division` parameter to control this behavior.\n",
            "  _warn_prf(average, modifier, msg_start, len(result))\n",
            "/usr/local/lib/python3.7/dist-packages/sklearn/metrics/_classification.py:1308: UndefinedMetricWarning: Precision and F-score are ill-defined and being set to 0.0 in labels with no predicted samples. Use `zero_division` parameter to control this behavior.\n",
            "  _warn_prf(average, modifier, msg_start, len(result))\n"
          ]
        },
        {
          "output_type": "execute_result",
          "data": {
            "text/plain": [
              "[Text(167.4, 190.26, 'X[265] <= 0.5\\ngini = 0.781\\nsamples = 385\\nvalue = [2, 15, 27, 52, 100, 117, 72]'),\n",
              " Text(83.7, 135.9, 'X[200] <= 0.5\\ngini = 0.784\\nsamples = 372\\nvalue = [2, 15, 27, 52, 99, 108, 69]'),\n",
              " Text(41.85, 81.53999999999999, 'X[230] <= 0.5\\ngini = 0.781\\nsamples = 368\\nvalue = [2, 15, 24, 52, 99, 108, 68]'),\n",
              " Text(20.925, 27.180000000000007, 'gini = 0.785\\nsamples = 343\\nvalue = [1, 15, 23, 52, 94, 95, 63]'),\n",
              " Text(62.775000000000006, 27.180000000000007, 'gini = 0.646\\nsamples = 25\\nvalue = [1, 0, 1, 0, 5, 13, 5]'),\n",
              " Text(125.55000000000001, 81.53999999999999, 'X[2] <= 0.226\\ngini = 0.375\\nsamples = 4\\nvalue = [0, 0, 3, 0, 0, 0, 1]'),\n",
              " Text(104.625, 27.180000000000007, 'gini = 0.0\\nsamples = 3\\nvalue = [0, 0, 3, 0, 0, 0, 0]'),\n",
              " Text(146.475, 27.180000000000007, 'gini = 0.0\\nsamples = 1\\nvalue = [0, 0, 0, 0, 0, 0, 1]'),\n",
              " Text(251.10000000000002, 135.9, 'X[5] <= 0.03\\ngini = 0.462\\nsamples = 13\\nvalue = [0, 0, 0, 0, 1, 9, 3]'),\n",
              " Text(209.25, 81.53999999999999, 'X[234] <= 0.5\\ngini = 0.298\\nsamples = 11\\nvalue = [0, 0, 0, 0, 0, 9, 2]'),\n",
              " Text(188.32500000000002, 27.180000000000007, 'gini = 0.18\\nsamples = 10\\nvalue = [0, 0, 0, 0, 0, 9, 1]'),\n",
              " Text(230.175, 27.180000000000007, 'gini = 0.0\\nsamples = 1\\nvalue = [0, 0, 0, 0, 0, 0, 1]'),\n",
              " Text(292.95, 81.53999999999999, 'X[4] <= 95.0\\ngini = 0.5\\nsamples = 2\\nvalue = [0, 0, 0, 0, 1, 0, 1]'),\n",
              " Text(272.02500000000003, 27.180000000000007, 'gini = 0.0\\nsamples = 1\\nvalue = [0, 0, 0, 0, 1, 0, 0]'),\n",
              " Text(313.875, 27.180000000000007, 'gini = 0.0\\nsamples = 1\\nvalue = [0, 0, 0, 0, 0, 0, 1]')]"
            ]
          },
          "metadata": {},
          "execution_count": 26
        },
        {
          "output_type": "display_data",
          "data": {
            "image/png": "[encoded data removed]",
            "text/plain": [
              "<Figure size 432x288 with 1 Axes>"
            ]
          },
          "metadata": {
            "needs_background": "light"
          }
        }
      ]
    },
    {
      "cell_type": "markdown",
      "metadata": {
        "id": "GahaeYFwseAi"
      },
      "source": [
        "##### MinMax Scaler"
      ]
    },
    {
      "cell_type": "code",
      "metadata": {
        "colab": {
          "base_uri": "https://localhost:8080/",
          "height": 1000
        },
        "id": "JmktpuRvW1tQ",
        "outputId": "f3324a2d-61f8-46eb-80bb-dc36fb11224f"
      },
      "source": [
        "# training and test split\n",
        "from sklearn.model_selection import train_test_split\n",
        "\n",
        "# data = pd.get_dummies(data, drop_first=True)\n",
        "# We split the data up into a test set and a training set, 30 - 70 %\n",
        "# train_test_split\n",
        "# First argument: x data is all data without class column\n",
        "# Second argument:  this is the class label column\n",
        "# Random state = 0: ensures the train and test splitting is deterministic. \n",
        "\n",
        "X_train, X_test, y_train, y_test = train_test_split(data.drop(['self_actualization', # y\n",
        "             'gender', \n",
        "             'age', \n",
        "             'amount_music',\n",
        "             'life_enjoyment', \n",
        "             'resilience', \n",
        "             'emotional_flex', \n",
        "             'balanced_life',\n",
        "             'trauma',\n",
        "             'health_categorical',\n",
        "             'total_health',\n",
        "             'genres'],\n",
        "            axis = 1),\n",
        "            data['self_actualization'], # y to be predicted\n",
        "            test_size=0.3,\n",
        "            random_state=0) \n",
        "\n",
        "from sklearn.preprocessing import MinMaxScaler\n",
        "\n",
        "# define a new scaler: \n",
        "x_scaler = MinMaxScaler()\n",
        "\n",
        "# fit the normalization on the training set: \n",
        "x_scaler.fit(X_train)\n",
        "\n",
        "# then create new and normalized training/test sets: \n",
        "X_train_norm = x_scaler.transform(X_train)\n",
        "X_test_norm = x_scaler.transform(X_test)\n",
        "\n",
        "# from sklearn.tree import DecisionTreeClassifier\n",
        "from sklearn import tree\n",
        "\n",
        "model_18 = tree.DecisionTreeClassifier(max_depth=3, min_samples_leaf=1) \n",
        "# Using default parameters\n",
        "\n",
        "# Training model\n",
        "model_18.fit(X_train, y_train)\n",
        "\n",
        "\n",
        "y_pred = model_18.predict(X_test) # Predicting labels for our test set using model\n",
        "print(y_pred)\n",
        "evaluate_on_training_set(y_test, y_pred) #evaluate our model using new function\n",
        "\n",
        "tree.plot_tree(model_18)"
      ],
      "execution_count": 27,
      "outputs": [
        {
          "output_type": "stream",
          "name": "stdout",
          "text": [
            "[5 5 5 5 5 5 5 5 5 5 5 5 5 5 5 5 5 5 5 5 5 5 5 5 5 5 5 5 5 5 5 5 5 5 5 5 5\n",
            " 5 5 5 5 5 5 5 5 5 5 6 5 5 5 5 5 5 5 5 5 5 5 5 5 5 5 5 5 5 5 5 5 5 5 4 5 5\n",
            " 5 5 5 5 5 5 5 5 5 5 5 5 5 5 5 5 5 5 5 5 5 5 5 6 5 5 5 5 5 5 5 5 5 5 5 6 5\n",
            " 6 5 5 5 5 5 5 5 5 5 5 5 5 5 5 5 5 5 5 5 5 5 5 5 5 5 5 5 5 5 5 5 5 5 5 5 5\n",
            " 5 5 5 5 5 5 5 5 5 5 5 5 5 5 5 5 5 5]\n",
            "              precision    recall  f1-score   support\n",
            "\n",
            "           0       0.00      0.00      0.00         3\n",
            "           1       0.00      0.00      0.00         7\n",
            "           2       0.00      0.00      0.00        12\n",
            "           3       0.00      0.00      0.00        20\n",
            "           4       0.00      0.00      0.00        39\n",
            "           5       0.29      0.98      0.44        47\n",
            "           6       0.75      0.08      0.14        38\n",
            "\n",
            "    accuracy                           0.30       166\n",
            "   macro avg       0.15      0.15      0.08       166\n",
            "weighted avg       0.25      0.30      0.16       166\n",
            "\n",
            "Confusion Matrix: \n",
            " [[ 0  0  0  0  0  3  0]\n",
            " [ 0  0  0  0  0  7  0]\n",
            " [ 0  0  0  0  0 12  0]\n",
            " [ 0  0  0  0  0 20  0]\n",
            " [ 0  0  0  0  0 39  0]\n",
            " [ 0  0  0  0  0 46  1]\n",
            " [ 0  0  0  0  1 34  3]]\n"
          ]
        },
        {
          "output_type": "stream",
          "name": "stderr",
          "text": [
            "/usr/local/lib/python3.7/dist-packages/sklearn/metrics/_classification.py:1308: UndefinedMetricWarning: Precision and F-score are ill-defined and being set to 0.0 in labels with no predicted samples. Use `zero_division` parameter to control this behavior.\n",
            "  _warn_prf(average, modifier, msg_start, len(result))\n",
            "/usr/local/lib/python3.7/dist-packages/sklearn/metrics/_classification.py:1308: UndefinedMetricWarning: Precision and F-score are ill-defined and being set to 0.0 in labels with no predicted samples. Use `zero_division` parameter to control this behavior.\n",
            "  _warn_prf(average, modifier, msg_start, len(result))\n",
            "/usr/local/lib/python3.7/dist-packages/sklearn/metrics/_classification.py:1308: UndefinedMetricWarning: Precision and F-score are ill-defined and being set to 0.0 in labels with no predicted samples. Use `zero_division` parameter to control this behavior.\n",
            "  _warn_prf(average, modifier, msg_start, len(result))\n"
          ]
        },
        {
          "output_type": "execute_result",
          "data": {
            "text/plain": [
              "[Text(167.4, 190.26, 'X[265] <= 0.5\\ngini = 0.781\\nsamples = 385\\nvalue = [2, 15, 27, 52, 100, 117, 72]'),\n",
              " Text(83.7, 135.9, 'X[200] <= 0.5\\ngini = 0.784\\nsamples = 372\\nvalue = [2, 15, 27, 52, 99, 108, 69]'),\n",
              " Text(41.85, 81.53999999999999, 'X[230] <= 0.5\\ngini = 0.781\\nsamples = 368\\nvalue = [2, 15, 24, 52, 99, 108, 68]'),\n",
              " Text(20.925, 27.180000000000007, 'gini = 0.785\\nsamples = 343\\nvalue = [1, 15, 23, 52, 94, 95, 63]'),\n",
              " Text(62.775000000000006, 27.180000000000007, 'gini = 0.646\\nsamples = 25\\nvalue = [1, 0, 1, 0, 5, 13, 5]'),\n",
              " Text(125.55000000000001, 81.53999999999999, 'X[6] <= 0.679\\ngini = 0.375\\nsamples = 4\\nvalue = [0, 0, 3, 0, 0, 0, 1]'),\n",
              " Text(104.625, 27.180000000000007, 'gini = 0.0\\nsamples = 1\\nvalue = [0, 0, 0, 0, 0, 0, 1]'),\n",
              " Text(146.475, 27.180000000000007, 'gini = 0.0\\nsamples = 3\\nvalue = [0, 0, 3, 0, 0, 0, 0]'),\n",
              " Text(251.10000000000002, 135.9, 'X[5] <= 0.03\\ngini = 0.462\\nsamples = 13\\nvalue = [0, 0, 0, 0, 1, 9, 3]'),\n",
              " Text(209.25, 81.53999999999999, 'X[305] <= 0.5\\ngini = 0.298\\nsamples = 11\\nvalue = [0, 0, 0, 0, 0, 9, 2]'),\n",
              " Text(188.32500000000002, 27.180000000000007, 'gini = 0.18\\nsamples = 10\\nvalue = [0, 0, 0, 0, 0, 9, 1]'),\n",
              " Text(230.175, 27.180000000000007, 'gini = 0.0\\nsamples = 1\\nvalue = [0, 0, 0, 0, 0, 0, 1]'),\n",
              " Text(292.95, 81.53999999999999, 'X[7] <= 50.0\\ngini = 0.5\\nsamples = 2\\nvalue = [0, 0, 0, 0, 1, 0, 1]'),\n",
              " Text(272.02500000000003, 27.180000000000007, 'gini = 0.0\\nsamples = 1\\nvalue = [0, 0, 0, 0, 0, 0, 1]'),\n",
              " Text(313.875, 27.180000000000007, 'gini = 0.0\\nsamples = 1\\nvalue = [0, 0, 0, 0, 1, 0, 0]')]"
            ]
          },
          "metadata": {},
          "execution_count": 27
        },
        {
          "output_type": "display_data",
          "data": {
            "image/png": "[encoded data removed]",
            "text/plain": [
              "<Figure size 432x288 with 1 Axes>"
            ]
          },
          "metadata": {
            "needs_background": "light"
          }
        }
      ]
    },
    {
      "cell_type": "markdown",
      "metadata": {
        "id": "CXavTHRkshrT"
      },
      "source": [
        "##### Function Transformer"
      ]
    },
    {
      "cell_type": "code",
      "metadata": {
        "colab": {
          "base_uri": "https://localhost:8080/",
          "height": 1000
        },
        "id": "y8QWC8Krslf7",
        "outputId": "142738d7-b47f-4535-e669-0a902d6e96b0"
      },
      "source": [
        "# training and test split\n",
        "from sklearn.model_selection import train_test_split\n",
        "\n",
        "# data = pd.get_dummies(data, drop_first=True)\n",
        "# We split the data up into a test set and a training set, 30 - 70 %\n",
        "# train_test_split\n",
        "# First argument: x data is all data without class column\n",
        "# Second argument:  this is the class label column\n",
        "# Random state = 0: ensures the train and test splitting is deterministic. \n",
        "\n",
        "X_train, X_test, y_train, y_test = train_test_split(data.drop(['self_actualization', # y\n",
        "             'gender', \n",
        "             'age', \n",
        "             'amount_music',\n",
        "             'life_enjoyment', \n",
        "             'resilience', \n",
        "             'emotional_flex', \n",
        "             'balanced_life',\n",
        "             'trauma',\n",
        "             'health_categorical',\n",
        "             'total_health',\n",
        "             'genres'],\n",
        "            axis = 1),\n",
        "            data['self_actualization'], # y to be predicted\n",
        "            test_size=0.3,\n",
        "            random_state=0) \n",
        "\n",
        "from sklearn.preprocessing import FunctionTransformer\n",
        "\n",
        "# define a new scaler: \n",
        "x_scaler = FunctionTransformer()\n",
        "\n",
        "# fit the normalization on the training set: \n",
        "x_scaler.fit(X_train)\n",
        "\n",
        "# then create new and normalized training/test sets: \n",
        "X_train_norm = x_scaler.transform(X_train)\n",
        "X_test_norm = x_scaler.transform(X_test)\n",
        "\n",
        "# from sklearn.tree import DecisionTreeClassifier\n",
        "from sklearn import tree\n",
        "\n",
        "model_19 = tree.DecisionTreeClassifier(max_depth=3, min_samples_leaf=1) \n",
        "# Using default parameters\n",
        "\n",
        "# Training model\n",
        "model_19.fit(X_train, y_train)\n",
        "\n",
        "\n",
        "y_pred = model_19.predict(X_test) # Predicting labels for our test set using model\n",
        "print(y_pred)\n",
        "evaluate_on_training_set(y_test, y_pred) #evaluate our model using new function\n",
        "\n",
        "tree.plot_tree(model_19)"
      ],
      "execution_count": 28,
      "outputs": [
        {
          "output_type": "stream",
          "name": "stdout",
          "text": [
            "[5 5 5 5 5 5 5 5 5 5 5 5 5 5 5 5 5 5 5 5 5 5 5 5 5 5 5 5 5 5 5 5 5 5 5 5 5\n",
            " 5 5 5 5 5 5 5 5 5 5 6 5 5 5 5 5 5 5 5 5 5 5 5 5 5 5 5 5 5 5 5 5 5 5 6 5 5\n",
            " 5 5 5 5 5 5 5 5 5 5 5 5 5 5 5 5 5 5 5 5 5 5 5 2 5 5 5 5 5 5 5 5 5 5 5 2 5\n",
            " 2 5 5 5 5 5 5 5 5 5 5 5 5 5 5 5 5 5 5 5 5 5 5 5 5 5 5 5 5 5 5 5 5 5 5 5 5\n",
            " 5 5 5 5 5 5 5 5 5 5 5 5 5 5 5 5 5 5]\n",
            "              precision    recall  f1-score   support\n",
            "\n",
            "           0       0.00      0.00      0.00         3\n",
            "           1       0.00      0.00      0.00         7\n",
            "           2       0.00      0.00      0.00        12\n",
            "           3       0.00      0.00      0.00        20\n",
            "           4       0.00      0.00      0.00        39\n",
            "           5       0.29      0.98      0.44        47\n",
            "           6       1.00      0.05      0.10        38\n",
            "\n",
            "    accuracy                           0.29       166\n",
            "   macro avg       0.18      0.15      0.08       166\n",
            "weighted avg       0.31      0.29      0.15       166\n",
            "\n",
            "Confusion Matrix: \n",
            " [[ 0  0  0  0  0  3  0]\n",
            " [ 0  0  0  0  0  7  0]\n",
            " [ 0  0  0  0  0 12  0]\n",
            " [ 0  0  0  0  0 20  0]\n",
            " [ 0  0  0  0  0 39  0]\n",
            " [ 0  0  1  0  0 46  0]\n",
            " [ 0  0  2  0  0 34  2]]\n"
          ]
        },
        {
          "output_type": "stream",
          "name": "stderr",
          "text": [
            "/usr/local/lib/python3.7/dist-packages/sklearn/metrics/_classification.py:1308: UndefinedMetricWarning: Precision and F-score are ill-defined and being set to 0.0 in labels with no predicted samples. Use `zero_division` parameter to control this behavior.\n",
            "  _warn_prf(average, modifier, msg_start, len(result))\n",
            "/usr/local/lib/python3.7/dist-packages/sklearn/metrics/_classification.py:1308: UndefinedMetricWarning: Precision and F-score are ill-defined and being set to 0.0 in labels with no predicted samples. Use `zero_division` parameter to control this behavior.\n",
            "  _warn_prf(average, modifier, msg_start, len(result))\n",
            "/usr/local/lib/python3.7/dist-packages/sklearn/metrics/_classification.py:1308: UndefinedMetricWarning: Precision and F-score are ill-defined and being set to 0.0 in labels with no predicted samples. Use `zero_division` parameter to control this behavior.\n",
            "  _warn_prf(average, modifier, msg_start, len(result))\n"
          ]
        },
        {
          "output_type": "execute_result",
          "data": {
            "text/plain": [
              "[Text(167.4, 190.26, 'X[265] <= 0.5\\ngini = 0.781\\nsamples = 385\\nvalue = [2, 15, 27, 52, 100, 117, 72]'),\n",
              " Text(83.7, 135.9, 'X[200] <= 0.5\\ngini = 0.784\\nsamples = 372\\nvalue = [2, 15, 27, 52, 99, 108, 69]'),\n",
              " Text(41.85, 81.53999999999999, 'X[230] <= 0.5\\ngini = 0.781\\nsamples = 368\\nvalue = [2, 15, 24, 52, 99, 108, 68]'),\n",
              " Text(20.925, 27.180000000000007, 'gini = 0.785\\nsamples = 343\\nvalue = [1, 15, 23, 52, 94, 95, 63]'),\n",
              " Text(62.775000000000006, 27.180000000000007, 'gini = 0.646\\nsamples = 25\\nvalue = [1, 0, 1, 0, 5, 13, 5]'),\n",
              " Text(125.55000000000001, 81.53999999999999, 'X[5] <= 0.457\\ngini = 0.375\\nsamples = 4\\nvalue = [0, 0, 3, 0, 0, 0, 1]'),\n",
              " Text(104.625, 27.180000000000007, 'gini = 0.0\\nsamples = 3\\nvalue = [0, 0, 3, 0, 0, 0, 0]'),\n",
              " Text(146.475, 27.180000000000007, 'gini = 0.0\\nsamples = 1\\nvalue = [0, 0, 0, 0, 0, 0, 1]'),\n",
              " Text(251.10000000000002, 135.9, 'X[5] <= 0.03\\ngini = 0.462\\nsamples = 13\\nvalue = [0, 0, 0, 0, 1, 9, 3]'),\n",
              " Text(209.25, 81.53999999999999, 'X[234] <= 0.5\\ngini = 0.298\\nsamples = 11\\nvalue = [0, 0, 0, 0, 0, 9, 2]'),\n",
              " Text(188.32500000000002, 27.180000000000007, 'gini = 0.18\\nsamples = 10\\nvalue = [0, 0, 0, 0, 0, 9, 1]'),\n",
              " Text(230.175, 27.180000000000007, 'gini = 0.0\\nsamples = 1\\nvalue = [0, 0, 0, 0, 0, 0, 1]'),\n",
              " Text(292.95, 81.53999999999999, 'X[75] <= 0.5\\ngini = 0.5\\nsamples = 2\\nvalue = [0, 0, 0, 0, 1, 0, 1]'),\n",
              " Text(272.02500000000003, 27.180000000000007, 'gini = 0.0\\nsamples = 1\\nvalue = [0, 0, 0, 0, 0, 0, 1]'),\n",
              " Text(313.875, 27.180000000000007, 'gini = 0.0\\nsamples = 1\\nvalue = [0, 0, 0, 0, 1, 0, 0]')]"
            ]
          },
          "metadata": {},
          "execution_count": 28
        },
        {
          "output_type": "display_data",
          "data": {
            "image/png": "[encoded data removed]",
            "text/plain": [
              "<Figure size 432x288 with 1 Axes>"
            ]
          },
          "metadata": {
            "needs_background": "light"
          }
        }
      ]
    },
    {
      "cell_type": "markdown",
      "metadata": {
        "id": "9phtuJVowCG3"
      },
      "source": [
        "## Ensemble Classifier"
      ]
    },
    {
      "cell_type": "markdown",
      "metadata": {
        "id": "WH17t6ahwD56"
      },
      "source": [
        "### Predict trauma"
      ]
    },
    {
      "cell_type": "markdown",
      "metadata": {
        "id": "3290EIUjmXkQ"
      },
      "source": [
        "#### Standard Scaler"
      ]
    },
    {
      "cell_type": "code",
      "metadata": {
        "colab": {
          "base_uri": "https://localhost:8080/"
        },
        "id": "auiAlHP90Vj1",
        "outputId": "9c06dbb3-b9e9-434b-e176-24b359606bb9"
      },
      "source": [
        "# training and test split\n",
        "from sklearn.model_selection import train_test_split\n",
        "\n",
        "# data = pd.get_dummies(data, drop_first=True)\n",
        "# We split the data up into a test set and a training set, 30 - 70 %\n",
        "# train_test_split\n",
        "# First argument: x data is all data without class column\n",
        "# Second argument:  this is the class label column\n",
        "# Random state = 0: ensures the train and test splitting is deterministic. \n",
        "\n",
        "X_train, X_test, y_train, y_test = train_test_split(data.drop(['trauma', # y\n",
        "             'gender', \n",
        "             'age', \n",
        "             'amount_music',\n",
        "             'life_enjoyment', \n",
        "             'resilience', \n",
        "             'balanced_life', \n",
        "             'emotional_flex', \n",
        "             'self_actualization',\n",
        "             'health_categorical',\n",
        "             'total_health',\n",
        "             'genres'],\n",
        "            axis = 1),\n",
        "            data['trauma'], # y to be predicted\n",
        "            test_size=0.3,\n",
        "            random_state=0) \n",
        "\n",
        "from sklearn.preprocessing import StandardScaler\n",
        "\n",
        "# define a new scaler: \n",
        "x_scaler = StandardScaler()\n",
        "\n",
        "# fit the normalization on the training set: \n",
        "x_scaler.fit(X_train)\n",
        "\n",
        "# then create new and normalized training/test sets: \n",
        "X_train_norm = x_scaler.transform(X_train)\n",
        "X_test_norm = x_scaler.transform(X_test)\n",
        "\n",
        "from sklearn.ensemble import AdaBoostClassifier\n",
        "model_1a = AdaBoostClassifier(n_estimators=1000, learning_rate=0.1) # Define the model with parameters\n",
        "model_1a.fit(X_train_norm, y_train) # Training the model\n",
        "\n",
        "y_pred = model_1a.predict(X_test_norm) # Predicting labels for our test set using trained model\n",
        "evaluate_on_training_set(y_test, y_pred) #evaluate our model using newly defined function"
      ],
      "execution_count": 29,
      "outputs": [
        {
          "output_type": "stream",
          "name": "stdout",
          "text": [
            "              precision    recall  f1-score   support\n",
            "\n",
            "           0       0.70      0.76      0.73       104\n",
            "           1       0.53      0.45      0.49        62\n",
            "\n",
            "    accuracy                           0.64       166\n",
            "   macro avg       0.61      0.61      0.61       166\n",
            "weighted avg       0.64      0.64      0.64       166\n",
            "\n",
            "Confusion Matrix: \n",
            " [[79 25]\n",
            " [34 28]]\n"
          ]
        }
      ]
    },
    {
      "cell_type": "markdown",
      "metadata": {
        "id": "-3DNSmjqmleW"
      },
      "source": [
        "#### MinMax Scaler"
      ]
    },
    {
      "cell_type": "code",
      "metadata": {
        "colab": {
          "base_uri": "https://localhost:8080/"
        },
        "id": "2PW2N5w51MZm",
        "outputId": "25ffe159-edb8-469a-d8f8-6bff87c29a09"
      },
      "source": [
        "# training and test split\n",
        "from sklearn.model_selection import train_test_split\n",
        "\n",
        "# data = pd.get_dummies(data, drop_first=True)\n",
        "# We split the data up into a test set and a training set, 30 - 70 %\n",
        "# train_test_split\n",
        "# First argument: x data is all data without class column\n",
        "# Second argument:  this is the class label column\n",
        "# Random state = 0: ensures the train and test splitting is deterministic. \n",
        "\n",
        "X_train, X_test, y_train, y_test = train_test_split(data.drop(['trauma', # y\n",
        "             'gender', \n",
        "             'age', \n",
        "             'amount_music',\n",
        "             'life_enjoyment', \n",
        "             'resilience', \n",
        "             'balanced_life', \n",
        "             'emotional_flex', \n",
        "             'self_actualization',\n",
        "             'health_categorical',\n",
        "             'total_health',\n",
        "             'genres'],\n",
        "            axis = 1),\n",
        "            data['trauma'], # y to be predicted\n",
        "            test_size=0.3,\n",
        "            random_state=0) \n",
        "\n",
        "from sklearn.preprocessing import MinMaxScaler\n",
        "\n",
        "# define a new scaler: \n",
        "x_scaler = MinMaxScaler()\n",
        "\n",
        "# fit the normalization on the training set: \n",
        "x_scaler.fit(X_train)\n",
        "\n",
        "# then create new and normalized training/test sets: \n",
        "X_train_norm = x_scaler.transform(X_train)\n",
        "X_test_norm = x_scaler.transform(X_test)\n",
        "\n",
        "from sklearn.ensemble import AdaBoostClassifier\n",
        "model_2a = AdaBoostClassifier(n_estimators=1000, learning_rate=0.1) # Define the model with parameters\n",
        "model_2a.fit(X_train_norm, y_train) # Training the model\n",
        "\n",
        "y_pred = model_2a.predict(X_test_norm) # Predicting labels for our test set using trained model\n",
        "evaluate_on_training_set(y_test, y_pred) #evaluate our model using newly defined function"
      ],
      "execution_count": 30,
      "outputs": [
        {
          "output_type": "stream",
          "name": "stdout",
          "text": [
            "              precision    recall  f1-score   support\n",
            "\n",
            "           0       0.69      0.74      0.72       104\n",
            "           1       0.51      0.45      0.48        62\n",
            "\n",
            "    accuracy                           0.63       166\n",
            "   macro avg       0.60      0.60      0.60       166\n",
            "weighted avg       0.62      0.63      0.63       166\n",
            "\n",
            "Confusion Matrix: \n",
            " [[77 27]\n",
            " [34 28]]\n"
          ]
        }
      ]
    },
    {
      "cell_type": "markdown",
      "metadata": {
        "id": "O0VGr2F8mo2G"
      },
      "source": [
        "#### Function Transformer"
      ]
    },
    {
      "cell_type": "code",
      "metadata": {
        "colab": {
          "base_uri": "https://localhost:8080/"
        },
        "id": "Ps4_p_sj1hAd",
        "outputId": "34ccfec4-5b0c-4334-cc89-778dd178d314"
      },
      "source": [
        "# training and test split\n",
        "from sklearn.model_selection import train_test_split\n",
        "\n",
        "# data = pd.get_dummies(data, drop_first=True)\n",
        "# We split the data up into a test set and a training set, 30 - 70 %\n",
        "# train_test_split\n",
        "# First argument: x data is all data without class column\n",
        "# Second argument:  this is the class label column\n",
        "# Random state = 0: ensures the train and test splitting is deterministic. \n",
        "\n",
        "X_train, X_test, y_train, y_test = train_test_split(data.drop(['trauma', # y\n",
        "             'gender', \n",
        "             'age', \n",
        "             'amount_music',\n",
        "             'life_enjoyment', \n",
        "             'resilience', \n",
        "             'balanced_life', \n",
        "             'emotional_flex', \n",
        "             'self_actualization',\n",
        "             'health_categorical',\n",
        "             'total_health',\n",
        "             'genres'],\n",
        "            axis = 1),\n",
        "            data['trauma'], # y to be predicted\n",
        "            test_size=0.3,\n",
        "            random_state=0) \n",
        "\n",
        "from sklearn.preprocessing import FunctionTransformer\n",
        "\n",
        "# define a new scaler: \n",
        "x_scaler = FunctionTransformer()\n",
        "\n",
        "# fit the normalization on the training set: \n",
        "x_scaler.fit(X_train)\n",
        "\n",
        "# then create new and normalized training/test sets: \n",
        "X_train_norm = x_scaler.transform(X_train)\n",
        "X_test_norm = x_scaler.transform(X_test)\n",
        "\n",
        "from sklearn.ensemble import AdaBoostClassifier\n",
        "model_3a = AdaBoostClassifier(n_estimators=1000, learning_rate=0.1) # Define the model with parameters\n",
        "model_3a.fit(X_train_norm, y_train) # Training the model\n",
        "\n",
        "y_pred = model_3a.predict(X_test_norm) # Predicting labels for our test set using trained model\n",
        "evaluate_on_training_set(y_test, y_pred) #evaluate our model using newly defined function"
      ],
      "execution_count": 31,
      "outputs": [
        {
          "output_type": "stream",
          "name": "stdout",
          "text": [
            "              precision    recall  f1-score   support\n",
            "\n",
            "           0       0.69      0.74      0.72       104\n",
            "           1       0.51      0.45      0.48        62\n",
            "\n",
            "    accuracy                           0.63       166\n",
            "   macro avg       0.60      0.60      0.60       166\n",
            "weighted avg       0.62      0.63      0.63       166\n",
            "\n",
            "Confusion Matrix: \n",
            " [[77 27]\n",
            " [34 28]]\n"
          ]
        }
      ]
    },
    {
      "cell_type": "markdown",
      "metadata": {
        "id": "xeHg06N4wID8"
      },
      "source": [
        "### Predict specific mental health indicators"
      ]
    },
    {
      "cell_type": "markdown",
      "metadata": {
        "id": "h2oRDz31qQwX"
      },
      "source": [
        "##### Life Enjoyment"
      ]
    },
    {
      "cell_type": "markdown",
      "metadata": {
        "id": "InSuEEe-qnDg"
      },
      "source": [
        "###### Standard Scaler"
      ]
    },
    {
      "cell_type": "code",
      "metadata": {
        "colab": {
          "base_uri": "https://localhost:8080/"
        },
        "id": "A4Y7JUjb1_zG",
        "outputId": "de81b63c-3d12-4fa0-9aaa-536ba2c5f42b"
      },
      "source": [
        "# training and test split\n",
        "from sklearn.model_selection import train_test_split\n",
        "\n",
        "# data = pd.get_dummies(data, drop_first=True)\n",
        "# We split the data up into a test set and a training set, 30 - 70 %\n",
        "# train_test_split\n",
        "# First argument: x data is all data without class column\n",
        "# Second argument:  this is the class label column\n",
        "# Random state = 0: ensures the train and test splitting is deterministic. \n",
        "\n",
        "X_train, X_test, y_train, y_test = train_test_split(data.drop(['life_enjoyment', # y\n",
        "             'gender', \n",
        "             'age', \n",
        "             'amount_music',\n",
        "             'trauma', \n",
        "             'resilience', \n",
        "             'balanced_life', \n",
        "             'emotional_flex', \n",
        "             'self_actualization',\n",
        "             'health_categorical',\n",
        "             'total_health',\n",
        "             'genres'],\n",
        "            axis = 1),\n",
        "            data['life_enjoyment'], # y to be predicted\n",
        "            test_size=0.3,\n",
        "            random_state=0) \n",
        "\n",
        "from sklearn.preprocessing import StandardScaler\n",
        "\n",
        "# define a new scaler: \n",
        "x_scaler = StandardScaler()\n",
        "\n",
        "# fit the normalization on the training set: \n",
        "x_scaler.fit(X_train)\n",
        "\n",
        "# then create new and normalized training/test sets: \n",
        "X_train_norm = x_scaler.transform(X_train)\n",
        "X_test_norm = x_scaler.transform(X_test)\n",
        "\n",
        "from sklearn.ensemble import AdaBoostClassifier\n",
        "model_4a = AdaBoostClassifier(n_estimators=1000, learning_rate=0.1) # Define the model with parameters\n",
        "model_4a.fit(X_train_norm, y_train) # Training the model\n",
        "\n",
        "y_pred = model_4a.predict(X_test_norm) # Predicting labels for our test set using trained model\n",
        "evaluate_on_training_set(y_test, y_pred) #evaluate our model using newly defined function"
      ],
      "execution_count": 32,
      "outputs": [
        {
          "output_type": "stream",
          "name": "stdout",
          "text": [
            "              precision    recall  f1-score   support\n",
            "\n",
            "           0       0.00      0.00      0.00         5\n",
            "           1       0.25      0.27      0.26        11\n",
            "           2       0.11      0.04      0.05        28\n",
            "           3       0.25      0.31      0.28        48\n",
            "           4       0.20      0.22      0.21        36\n",
            "           5       0.08      0.12      0.09        26\n",
            "           6       0.20      0.08      0.12        12\n",
            "\n",
            "    accuracy                           0.19       166\n",
            "   macro avg       0.15      0.15      0.14       166\n",
            "weighted avg       0.18      0.19      0.17       166\n",
            "\n",
            "Confusion Matrix: \n",
            " [[ 0  1  0  2  2  0  0]\n",
            " [ 0  3  1  4  1  2  0]\n",
            " [ 0  3  1  9  5  9  1]\n",
            " [ 0  4  4 15 12 12  1]\n",
            " [ 0  0  1 17  8  9  1]\n",
            " [ 0  1  1  9 11  3  1]\n",
            " [ 0  0  1  5  2  3  1]]\n"
          ]
        },
        {
          "output_type": "stream",
          "name": "stderr",
          "text": [
            "/usr/local/lib/python3.7/dist-packages/sklearn/metrics/_classification.py:1308: UndefinedMetricWarning: Precision and F-score are ill-defined and being set to 0.0 in labels with no predicted samples. Use `zero_division` parameter to control this behavior.\n",
            "  _warn_prf(average, modifier, msg_start, len(result))\n",
            "/usr/local/lib/python3.7/dist-packages/sklearn/metrics/_classification.py:1308: UndefinedMetricWarning: Precision and F-score are ill-defined and being set to 0.0 in labels with no predicted samples. Use `zero_division` parameter to control this behavior.\n",
            "  _warn_prf(average, modifier, msg_start, len(result))\n",
            "/usr/local/lib/python3.7/dist-packages/sklearn/metrics/_classification.py:1308: UndefinedMetricWarning: Precision and F-score are ill-defined and being set to 0.0 in labels with no predicted samples. Use `zero_division` parameter to control this behavior.\n",
            "  _warn_prf(average, modifier, msg_start, len(result))\n"
          ]
        }
      ]
    },
    {
      "cell_type": "markdown",
      "metadata": {
        "id": "abLFwtDYqpto"
      },
      "source": [
        "###### MinMax Scaler"
      ]
    },
    {
      "cell_type": "code",
      "metadata": {
        "colab": {
          "base_uri": "https://localhost:8080/"
        },
        "id": "r2VZf_3g2ZJO",
        "outputId": "d539c27c-a3f9-4afc-fbe1-0b8e848227fa"
      },
      "source": [
        "# training and test split\n",
        "from sklearn.model_selection import train_test_split\n",
        "\n",
        "# data = pd.get_dummies(data, drop_first=True)\n",
        "# We split the data up into a test set and a training set, 30 - 70 %\n",
        "# train_test_split\n",
        "# First argument: x data is all data without class column\n",
        "# Second argument:  this is the class label column\n",
        "# Random state = 0: ensures the train and test splitting is deterministic. \n",
        "\n",
        "X_train, X_test, y_train, y_test = train_test_split(data.drop(['life_enjoyment', # y\n",
        "             'gender', \n",
        "             'age', \n",
        "             'amount_music',\n",
        "             'trauma', \n",
        "             'resilience', \n",
        "             'balanced_life', \n",
        "             'emotional_flex', \n",
        "             'self_actualization',\n",
        "             'health_categorical',\n",
        "             'total_health',\n",
        "             'genres'],\n",
        "            axis = 1),\n",
        "            data['life_enjoyment'], # y to be predicted\n",
        "            test_size=0.3,\n",
        "            random_state=0) \n",
        "\n",
        "from sklearn.preprocessing import MinMaxScaler\n",
        "\n",
        "# define a new scaler: \n",
        "x_scaler = MinMaxScaler()\n",
        "\n",
        "# fit the normalization on the training set: \n",
        "x_scaler.fit(X_train)\n",
        "\n",
        "# then create new and normalized training/test sets: \n",
        "X_train_norm = x_scaler.transform(X_train)\n",
        "X_test_norm = x_scaler.transform(X_test)\n",
        "\n",
        "from sklearn.ensemble import AdaBoostClassifier\n",
        "model_5a = AdaBoostClassifier(n_estimators=1000, learning_rate=0.1) # Define the model with parameters\n",
        "model_5a.fit(X_train_norm, y_train) # Training the model\n",
        "\n",
        "y_pred = model_5a.predict(X_test_norm) # Predicting labels for our test set using trained model\n",
        "evaluate_on_training_set(y_test, y_pred) #evaluate our model using newly defined function"
      ],
      "execution_count": 33,
      "outputs": [
        {
          "output_type": "stream",
          "name": "stdout",
          "text": [
            "              precision    recall  f1-score   support\n",
            "\n",
            "           0       0.00      0.00      0.00         5\n",
            "           1       0.23      0.27      0.25        11\n",
            "           2       0.11      0.04      0.05        28\n",
            "           3       0.25      0.31      0.28        48\n",
            "           4       0.20      0.22      0.21        36\n",
            "           5       0.05      0.08      0.06        26\n",
            "           6       0.20      0.08      0.12        12\n",
            "\n",
            "    accuracy                           0.18       166\n",
            "   macro avg       0.15      0.14      0.14       166\n",
            "weighted avg       0.17      0.18      0.17       166\n",
            "\n",
            "Confusion Matrix: \n",
            " [[ 0  1  0  2  2  0  0]\n",
            " [ 0  3  1  4  1  2  0]\n",
            " [ 0  3  1  9  5  9  1]\n",
            " [ 0  4  4 15 12 12  1]\n",
            " [ 0  0  1 17  8  9  1]\n",
            " [ 0  2  1  9 11  2  1]\n",
            " [ 0  0  1  5  2  3  1]]\n"
          ]
        },
        {
          "output_type": "stream",
          "name": "stderr",
          "text": [
            "/usr/local/lib/python3.7/dist-packages/sklearn/metrics/_classification.py:1308: UndefinedMetricWarning: Precision and F-score are ill-defined and being set to 0.0 in labels with no predicted samples. Use `zero_division` parameter to control this behavior.\n",
            "  _warn_prf(average, modifier, msg_start, len(result))\n",
            "/usr/local/lib/python3.7/dist-packages/sklearn/metrics/_classification.py:1308: UndefinedMetricWarning: Precision and F-score are ill-defined and being set to 0.0 in labels with no predicted samples. Use `zero_division` parameter to control this behavior.\n",
            "  _warn_prf(average, modifier, msg_start, len(result))\n",
            "/usr/local/lib/python3.7/dist-packages/sklearn/metrics/_classification.py:1308: UndefinedMetricWarning: Precision and F-score are ill-defined and being set to 0.0 in labels with no predicted samples. Use `zero_division` parameter to control this behavior.\n",
            "  _warn_prf(average, modifier, msg_start, len(result))\n"
          ]
        }
      ]
    },
    {
      "cell_type": "markdown",
      "metadata": {
        "id": "PlE3lzw7qzNk"
      },
      "source": [
        "###### Function Transformer"
      ]
    },
    {
      "cell_type": "code",
      "metadata": {
        "colab": {
          "base_uri": "https://localhost:8080/"
        },
        "id": "5nGSGVJy2mJl",
        "outputId": "1653dc61-fbe3-4d00-f9f4-5c9e591959a9"
      },
      "source": [
        "# training and test split\n",
        "from sklearn.model_selection import train_test_split\n",
        "\n",
        "# data = pd.get_dummies(data, drop_first=True)\n",
        "# We split the data up into a test set and a training set, 30 - 70 %\n",
        "# train_test_split\n",
        "# First argument: x data is all data without class column\n",
        "# Second argument:  this is the class label column\n",
        "# Random state = 0: ensures the train and test splitting is deterministic. \n",
        "\n",
        "X_train, X_test, y_train, y_test = train_test_split(data.drop(['life_enjoyment', # y\n",
        "             'gender', \n",
        "             'age', \n",
        "             'amount_music',\n",
        "             'trauma', \n",
        "             'resilience', \n",
        "             'balanced_life', \n",
        "             'emotional_flex', \n",
        "             'self_actualization',\n",
        "             'health_categorical',\n",
        "             'total_health',\n",
        "             'genres'],\n",
        "            axis = 1),\n",
        "            data['life_enjoyment'], # y to be predicted\n",
        "            test_size=0.3,\n",
        "            random_state=0) \n",
        "\n",
        "from sklearn.preprocessing import FunctionTransformer\n",
        "\n",
        "# define a new scaler: \n",
        "x_scaler = FunctionTransformer()\n",
        "\n",
        "# fit the normalization on the training set: \n",
        "x_scaler.fit(X_train)\n",
        "\n",
        "# then create new and normalized training/test sets: \n",
        "X_train_norm = x_scaler.transform(X_train)\n",
        "X_test_norm = x_scaler.transform(X_test)\n",
        "\n",
        "from sklearn.ensemble import AdaBoostClassifier\n",
        "model_6a = AdaBoostClassifier(n_estimators=1000, learning_rate=0.1) # Define the model with parameters\n",
        "model_6a.fit(X_train_norm, y_train) # Training the model\n",
        "\n",
        "y_pred = model_6a.predict(X_test_norm) # Predicting labels for our test set using trained model\n",
        "evaluate_on_training_set(y_test, y_pred) #evaluate our model using newly defined function"
      ],
      "execution_count": 34,
      "outputs": [
        {
          "output_type": "stream",
          "name": "stdout",
          "text": [
            "              precision    recall  f1-score   support\n",
            "\n",
            "           0       0.00      0.00      0.00         5\n",
            "           1       0.23      0.27      0.25        11\n",
            "           2       0.11      0.04      0.05        28\n",
            "           3       0.25      0.31      0.28        48\n",
            "           4       0.20      0.22      0.21        36\n",
            "           5       0.05      0.08      0.06        26\n",
            "           6       0.20      0.08      0.12        12\n",
            "\n",
            "    accuracy                           0.18       166\n",
            "   macro avg       0.15      0.14      0.14       166\n",
            "weighted avg       0.17      0.18      0.17       166\n",
            "\n",
            "Confusion Matrix: \n",
            " [[ 0  1  0  2  2  0  0]\n",
            " [ 0  3  1  4  1  2  0]\n",
            " [ 0  3  1  9  5  9  1]\n",
            " [ 0  4  4 15 12 12  1]\n",
            " [ 0  0  1 17  8  9  1]\n",
            " [ 0  2  1  9 11  2  1]\n",
            " [ 0  0  1  5  2  3  1]]\n"
          ]
        },
        {
          "output_type": "stream",
          "name": "stderr",
          "text": [
            "/usr/local/lib/python3.7/dist-packages/sklearn/metrics/_classification.py:1308: UndefinedMetricWarning: Precision and F-score are ill-defined and being set to 0.0 in labels with no predicted samples. Use `zero_division` parameter to control this behavior.\n",
            "  _warn_prf(average, modifier, msg_start, len(result))\n",
            "/usr/local/lib/python3.7/dist-packages/sklearn/metrics/_classification.py:1308: UndefinedMetricWarning: Precision and F-score are ill-defined and being set to 0.0 in labels with no predicted samples. Use `zero_division` parameter to control this behavior.\n",
            "  _warn_prf(average, modifier, msg_start, len(result))\n",
            "/usr/local/lib/python3.7/dist-packages/sklearn/metrics/_classification.py:1308: UndefinedMetricWarning: Precision and F-score are ill-defined and being set to 0.0 in labels with no predicted samples. Use `zero_division` parameter to control this behavior.\n",
            "  _warn_prf(average, modifier, msg_start, len(result))\n"
          ]
        }
      ]
    },
    {
      "cell_type": "markdown",
      "metadata": {
        "id": "rjVqlloeqX4J"
      },
      "source": [
        "##### Resilience"
      ]
    },
    {
      "cell_type": "markdown",
      "metadata": {
        "id": "ftT-ooPoq8Jz"
      },
      "source": [
        "###### Standard Scaler"
      ]
    },
    {
      "cell_type": "code",
      "metadata": {
        "colab": {
          "base_uri": "https://localhost:8080/"
        },
        "id": "Cwe_RApT26Dv",
        "outputId": "261fe26d-88aa-4f71-8989-64392e12421e"
      },
      "source": [
        "# training and test split\n",
        "from sklearn.model_selection import train_test_split\n",
        "\n",
        "# data = pd.get_dummies(data, drop_first=True)\n",
        "# We split the data up into a test set and a training set, 30 - 70 %\n",
        "# train_test_split\n",
        "# First argument: x data is all data without class column\n",
        "# Second argument:  this is the class label column\n",
        "# Random state = 0: ensures the train and test splitting is deterministic. \n",
        "\n",
        "X_train, X_test, y_train, y_test = train_test_split(data.drop(['resilience', # y\n",
        "             'gender', \n",
        "             'age', \n",
        "             'amount_music',\n",
        "             'trauma', \n",
        "             'life_enjoyment', \n",
        "             'balanced_life', \n",
        "             'emotional_flex', \n",
        "             'self_actualization',\n",
        "             'health_categorical',\n",
        "             'total_health',\n",
        "             'genres'],\n",
        "            axis = 1),\n",
        "            data['resilience'], # y to be predicted\n",
        "            test_size=0.3,\n",
        "            random_state=0) \n",
        "\n",
        "from sklearn.preprocessing import StandardScaler\n",
        "\n",
        "# define a new scaler: \n",
        "x_scaler = StandardScaler()\n",
        "\n",
        "# fit the normalization on the training set: \n",
        "x_scaler.fit(X_train)\n",
        "\n",
        "# then create new and normalized training/test sets: \n",
        "X_train_norm = x_scaler.transform(X_train)\n",
        "X_test_norm = x_scaler.transform(X_test)\n",
        "\n",
        "from sklearn.ensemble import AdaBoostClassifier\n",
        "model_7a = AdaBoostClassifier(n_estimators=1000, learning_rate=0.1) # Define the model with parameters\n",
        "model_7a.fit(X_train_norm, y_train) # Training the model\n",
        "\n",
        "y_pred = model_7a.predict(X_test_norm) # Predicting labels for our test set using trained model\n",
        "evaluate_on_training_set(y_test, y_pred) #evaluate our model using newly defined function"
      ],
      "execution_count": 35,
      "outputs": [
        {
          "output_type": "stream",
          "name": "stdout",
          "text": [
            "              precision    recall  f1-score   support\n",
            "\n",
            "           0       0.00      0.00      0.00         1\n",
            "           1       0.00      0.00      0.00         2\n",
            "           2       0.17      0.06      0.08        18\n",
            "           3       0.33      0.04      0.08        23\n",
            "           4       0.37      0.70      0.49        47\n",
            "           5       0.32      0.27      0.29        49\n",
            "           6       0.19      0.15      0.17        26\n",
            "\n",
            "    accuracy                           0.31       166\n",
            "   macro avg       0.20      0.17      0.16       166\n",
            "weighted avg       0.29      0.31      0.27       166\n",
            "\n",
            "Confusion Matrix: \n",
            " [[ 0  0  0  0  0  0  1]\n",
            " [ 0  0  0  0  1  1  0]\n",
            " [ 0  0  1  0  9  5  3]\n",
            " [ 0  1  2  1 13  6  0]\n",
            " [ 0  1  1  0 33 10  2]\n",
            " [ 0  4  1  1 19 13 11]\n",
            " [ 0  0  1  1 14  6  4]]\n"
          ]
        },
        {
          "output_type": "stream",
          "name": "stderr",
          "text": [
            "/usr/local/lib/python3.7/dist-packages/sklearn/metrics/_classification.py:1308: UndefinedMetricWarning: Precision and F-score are ill-defined and being set to 0.0 in labels with no predicted samples. Use `zero_division` parameter to control this behavior.\n",
            "  _warn_prf(average, modifier, msg_start, len(result))\n",
            "/usr/local/lib/python3.7/dist-packages/sklearn/metrics/_classification.py:1308: UndefinedMetricWarning: Precision and F-score are ill-defined and being set to 0.0 in labels with no predicted samples. Use `zero_division` parameter to control this behavior.\n",
            "  _warn_prf(average, modifier, msg_start, len(result))\n",
            "/usr/local/lib/python3.7/dist-packages/sklearn/metrics/_classification.py:1308: UndefinedMetricWarning: Precision and F-score are ill-defined and being set to 0.0 in labels with no predicted samples. Use `zero_division` parameter to control this behavior.\n",
            "  _warn_prf(average, modifier, msg_start, len(result))\n"
          ]
        }
      ]
    },
    {
      "cell_type": "markdown",
      "metadata": {
        "id": "lMVKwFTvrAMF"
      },
      "source": [
        "###### MinMax Scaler"
      ]
    },
    {
      "cell_type": "code",
      "metadata": {
        "colab": {
          "base_uri": "https://localhost:8080/"
        },
        "id": "3CmMuJEh3JIZ",
        "outputId": "3464b483-cc9b-4aaf-fc44-ebcc5eab6b59"
      },
      "source": [
        "# training and test split\n",
        "from sklearn.model_selection import train_test_split\n",
        "\n",
        "# data = pd.get_dummies(data, drop_first=True)\n",
        "# We split the data up into a test set and a training set, 30 - 70 %\n",
        "# train_test_split\n",
        "# First argument: x data is all data without class column\n",
        "# Second argument:  this is the class label column\n",
        "# Random state = 0: ensures the train and test splitting is deterministic. \n",
        "\n",
        "X_train, X_test, y_train, y_test = train_test_split(data.drop(['resilience', # y\n",
        "             'gender', \n",
        "             'age', \n",
        "             'amount_music',\n",
        "             'trauma', \n",
        "             'life_enjoyment', \n",
        "             'balanced_life', \n",
        "             'emotional_flex', \n",
        "             'self_actualization',\n",
        "             'health_categorical',\n",
        "             'total_health',\n",
        "             'genres'],\n",
        "            axis = 1),\n",
        "            data['resilience'], # y to be predicted\n",
        "            test_size=0.3,\n",
        "            random_state=0) \n",
        "\n",
        "from sklearn.preprocessing import MinMaxScaler\n",
        "\n",
        "# define a new scaler: \n",
        "x_scaler = MinMaxScaler()\n",
        "\n",
        "# fit the normalization on the training set: \n",
        "x_scaler.fit(X_train)\n",
        "\n",
        "# then create new and normalized training/test sets: \n",
        "X_train_norm = x_scaler.transform(X_train)\n",
        "X_test_norm = x_scaler.transform(X_test)\n",
        "\n",
        "from sklearn.ensemble import AdaBoostClassifier\n",
        "model_8a = AdaBoostClassifier(n_estimators=1000, learning_rate=0.1) # Define the model with parameters\n",
        "model_8a.fit(X_train_norm, y_train) # Training the model\n",
        "\n",
        "y_pred = model_8a.predict(X_test_norm) # Predicting labels for our test set using trained model\n",
        "evaluate_on_training_set(y_test, y_pred) #evaluate our model using newly defined function"
      ],
      "execution_count": 36,
      "outputs": [
        {
          "output_type": "stream",
          "name": "stdout",
          "text": [
            "              precision    recall  f1-score   support\n",
            "\n",
            "           0       0.00      0.00      0.00         1\n",
            "           1       0.00      0.00      0.00         2\n",
            "           2       0.20      0.06      0.09        18\n",
            "           3       0.25      0.04      0.07        23\n",
            "           4       0.37      0.70      0.49        47\n",
            "           5       0.30      0.24      0.27        49\n",
            "           6       0.23      0.19      0.21        26\n",
            "\n",
            "    accuracy                           0.31       166\n",
            "   macro avg       0.19      0.18      0.16       166\n",
            "weighted avg       0.29      0.31      0.27       166\n",
            "\n",
            "Confusion Matrix: \n",
            " [[ 0  0  0  0  0  0  1]\n",
            " [ 0  0  0  0  1  1  0]\n",
            " [ 0  0  1  0  9  5  3]\n",
            " [ 0  1  2  1 13  6  0]\n",
            " [ 0  1  1  0 33 10  2]\n",
            " [ 0  4  1  2 19 12 11]\n",
            " [ 0  0  0  1 14  6  5]]\n"
          ]
        },
        {
          "output_type": "stream",
          "name": "stderr",
          "text": [
            "/usr/local/lib/python3.7/dist-packages/sklearn/metrics/_classification.py:1308: UndefinedMetricWarning: Precision and F-score are ill-defined and being set to 0.0 in labels with no predicted samples. Use `zero_division` parameter to control this behavior.\n",
            "  _warn_prf(average, modifier, msg_start, len(result))\n",
            "/usr/local/lib/python3.7/dist-packages/sklearn/metrics/_classification.py:1308: UndefinedMetricWarning: Precision and F-score are ill-defined and being set to 0.0 in labels with no predicted samples. Use `zero_division` parameter to control this behavior.\n",
            "  _warn_prf(average, modifier, msg_start, len(result))\n",
            "/usr/local/lib/python3.7/dist-packages/sklearn/metrics/_classification.py:1308: UndefinedMetricWarning: Precision and F-score are ill-defined and being set to 0.0 in labels with no predicted samples. Use `zero_division` parameter to control this behavior.\n",
            "  _warn_prf(average, modifier, msg_start, len(result))\n"
          ]
        }
      ]
    },
    {
      "cell_type": "markdown",
      "metadata": {
        "id": "u__T405QrEdg"
      },
      "source": [
        "###### Function Transformer"
      ]
    },
    {
      "cell_type": "code",
      "metadata": {
        "colab": {
          "base_uri": "https://localhost:8080/"
        },
        "id": "VTcEKg0c3W2l",
        "outputId": "b2fb6230-0d5c-41ed-c558-c7403a87435c"
      },
      "source": [
        "# training and test split\n",
        "from sklearn.model_selection import train_test_split\n",
        "\n",
        "# data = pd.get_dummies(data, drop_first=True)\n",
        "# We split the data up into a test set and a training set, 30 - 70 %\n",
        "# train_test_split\n",
        "# First argument: x data is all data without class column\n",
        "# Second argument:  this is the class label column\n",
        "# Random state = 0: ensures the train and test splitting is deterministic. \n",
        "\n",
        "X_train, X_test, y_train, y_test = train_test_split(data.drop(['resilience', # y\n",
        "             'gender', \n",
        "             'age', \n",
        "             'amount_music',\n",
        "             'trauma', \n",
        "             'life_enjoyment', \n",
        "             'balanced_life', \n",
        "             'emotional_flex', \n",
        "             'self_actualization',\n",
        "             'health_categorical',\n",
        "             'total_health',\n",
        "             'genres'],\n",
        "            axis = 1),\n",
        "            data['resilience'], # y to be predicted\n",
        "            test_size=0.3,\n",
        "            random_state=0) \n",
        "\n",
        "from sklearn.preprocessing import FunctionTransformer\n",
        "\n",
        "# define a new scaler: \n",
        "x_scaler = FunctionTransformer()\n",
        "\n",
        "# fit the normalization on the training set: \n",
        "x_scaler.fit(X_train)\n",
        "\n",
        "# then create new and normalized training/test sets: \n",
        "X_train_norm = x_scaler.transform(X_train)\n",
        "X_test_norm = x_scaler.transform(X_test)\n",
        "\n",
        "from sklearn.ensemble import AdaBoostClassifier\n",
        "model_9a = AdaBoostClassifier(n_estimators=1000, learning_rate=0.1) # Define the model with parameters\n",
        "model_9a.fit(X_train_norm, y_train) # Training the model\n",
        "\n",
        "y_pred = model_9a.predict(X_test_norm) # Predicting labels for our test set using trained model\n",
        "evaluate_on_training_set(y_test, y_pred) #evaluate our model using newly defined function"
      ],
      "execution_count": 37,
      "outputs": [
        {
          "output_type": "stream",
          "name": "stdout",
          "text": [
            "              precision    recall  f1-score   support\n",
            "\n",
            "           0       0.00      0.00      0.00         1\n",
            "           1       0.00      0.00      0.00         2\n",
            "           2       0.22      0.11      0.15        18\n",
            "           3       0.33      0.04      0.08        23\n",
            "           4       0.37      0.68      0.48        47\n",
            "           5       0.32      0.27      0.29        49\n",
            "           6       0.19      0.15      0.17        26\n",
            "\n",
            "    accuracy                           0.31       166\n",
            "   macro avg       0.21      0.18      0.17       166\n",
            "weighted avg       0.30      0.31      0.27       166\n",
            "\n",
            "Confusion Matrix: \n",
            " [[ 0  0  0  0  0  0  1]\n",
            " [ 0  0  0  0  1  1  0]\n",
            " [ 0  0  2  0  9  4  3]\n",
            " [ 0  1  3  1 12  6  0]\n",
            " [ 0  1  2  0 32 10  2]\n",
            " [ 0  4  1  1 19 13 11]\n",
            " [ 0  0  1  1 13  7  4]]\n"
          ]
        },
        {
          "output_type": "stream",
          "name": "stderr",
          "text": [
            "/usr/local/lib/python3.7/dist-packages/sklearn/metrics/_classification.py:1308: UndefinedMetricWarning: Precision and F-score are ill-defined and being set to 0.0 in labels with no predicted samples. Use `zero_division` parameter to control this behavior.\n",
            "  _warn_prf(average, modifier, msg_start, len(result))\n",
            "/usr/local/lib/python3.7/dist-packages/sklearn/metrics/_classification.py:1308: UndefinedMetricWarning: Precision and F-score are ill-defined and being set to 0.0 in labels with no predicted samples. Use `zero_division` parameter to control this behavior.\n",
            "  _warn_prf(average, modifier, msg_start, len(result))\n",
            "/usr/local/lib/python3.7/dist-packages/sklearn/metrics/_classification.py:1308: UndefinedMetricWarning: Precision and F-score are ill-defined and being set to 0.0 in labels with no predicted samples. Use `zero_division` parameter to control this behavior.\n",
            "  _warn_prf(average, modifier, msg_start, len(result))\n"
          ]
        }
      ]
    },
    {
      "cell_type": "markdown",
      "metadata": {
        "id": "EtX5ttvfqaa5"
      },
      "source": [
        "#### Balanced Life"
      ]
    },
    {
      "cell_type": "markdown",
      "metadata": {
        "id": "gnLJhYpirLwV"
      },
      "source": [
        "##### Standard Scaler"
      ]
    },
    {
      "cell_type": "code",
      "metadata": {
        "colab": {
          "base_uri": "https://localhost:8080/"
        },
        "id": "7cZ6RPWG3oJj",
        "outputId": "39861b21-4851-4397-cd9d-8915d6e060c6"
      },
      "source": [
        "# training and test split\n",
        "from sklearn.model_selection import train_test_split\n",
        "\n",
        "# data = pd.get_dummies(data, drop_first=True)\n",
        "# We split the data up into a test set and a training set, 30 - 70 %\n",
        "# train_test_split\n",
        "# First argument: x data is all data without class column\n",
        "# Second argument:  this is the class label column\n",
        "# Random state = 0: ensures the train and test splitting is deterministic. \n",
        "\n",
        "X_train, X_test, y_train, y_test = train_test_split(data.drop(['balanced_life', # y\n",
        "             'gender', \n",
        "             'age', \n",
        "             'amount_music',\n",
        "             'trauma', \n",
        "             'life_enjoyment', \n",
        "             'resilience', \n",
        "             'emotional_flex', \n",
        "             'self_actualization',\n",
        "             'health_categorical',\n",
        "             'total_health',\n",
        "             'genres'],\n",
        "            axis = 1),\n",
        "            data['balanced_life'], # y to be predicted\n",
        "            test_size=0.3,\n",
        "            random_state=0) \n",
        "\n",
        "from sklearn.preprocessing import StandardScaler\n",
        "\n",
        "# define a new scaler: \n",
        "x_scaler = StandardScaler()\n",
        "\n",
        "# fit the normalization on the training set: \n",
        "x_scaler.fit(X_train)\n",
        "\n",
        "# then create new and normalized training/test sets: \n",
        "X_train_norm = x_scaler.transform(X_train)\n",
        "X_test_norm = x_scaler.transform(X_test)\n",
        "\n",
        "from sklearn.ensemble import AdaBoostClassifier\n",
        "model_10a = AdaBoostClassifier(n_estimators=1000, learning_rate=0.1) # Define the model with parameters\n",
        "model_10a.fit(X_train_norm, y_train) # Training the model\n",
        "\n",
        "y_pred = model_10a.predict(X_test_norm) # Predicting labels for our test set using trained model\n",
        "evaluate_on_training_set(y_test, y_pred) #evaluate our model using newly defined function"
      ],
      "execution_count": 38,
      "outputs": [
        {
          "output_type": "stream",
          "name": "stdout",
          "text": [
            "              precision    recall  f1-score   support\n",
            "\n",
            "           0       0.00      0.00      0.00         2\n",
            "           1       0.00      0.00      0.00         6\n",
            "           2       0.00      0.00      0.00        36\n",
            "           3       0.21      0.19      0.20        36\n",
            "           4       0.19      0.66      0.29        32\n",
            "           5       1.00      0.03      0.05        38\n",
            "           6       0.00      0.00      0.00        16\n",
            "\n",
            "    accuracy                           0.17       166\n",
            "   macro avg       0.20      0.13      0.08       166\n",
            "weighted avg       0.31      0.17      0.11       166\n",
            "\n",
            "Confusion Matrix: \n",
            " [[ 0  0  2  0  0  0  0]\n",
            " [ 0  0  1  2  3  0  0]\n",
            " [ 0  1  0 13 22  0  0]\n",
            " [ 0  2  1  7 24  0  2]\n",
            " [ 0  2  4  5 21  0  0]\n",
            " [ 0  0  2  4 31  1  0]\n",
            " [ 1  2  1  2 10  0  0]]\n"
          ]
        }
      ]
    },
    {
      "cell_type": "markdown",
      "metadata": {
        "id": "HnGDpoKurRcw"
      },
      "source": [
        "##### MinMax Scaler"
      ]
    },
    {
      "cell_type": "code",
      "metadata": {
        "colab": {
          "base_uri": "https://localhost:8080/"
        },
        "id": "lm4uafdc36la",
        "outputId": "c010a4ab-07f5-4224-ea7d-5fdc2e6e8445"
      },
      "source": [
        "# training and test split\n",
        "from sklearn.model_selection import train_test_split\n",
        "\n",
        "# data = pd.get_dummies(data, drop_first=True)\n",
        "# We split the data up into a test set and a training set, 30 - 70 %\n",
        "# train_test_split\n",
        "# First argument: x data is all data without class column\n",
        "# Second argument:  this is the class label column\n",
        "# Random state = 0: ensures the train and test splitting is deterministic. \n",
        "\n",
        "X_train, X_test, y_train, y_test = train_test_split(data.drop(['balanced_life', # y\n",
        "             'gender', \n",
        "             'age', \n",
        "             'amount_music',\n",
        "             'trauma', \n",
        "             'life_enjoyment', \n",
        "             'resilience', \n",
        "             'emotional_flex', \n",
        "             'self_actualization',\n",
        "             'health_categorical',\n",
        "             'total_health',\n",
        "             'genres'],\n",
        "            axis = 1),\n",
        "            data['balanced_life'], # y to be predicted\n",
        "            test_size=0.3,\n",
        "            random_state=0) \n",
        "\n",
        "from sklearn.preprocessing import MinMaxScaler\n",
        "\n",
        "# define a new scaler: \n",
        "x_scaler = MinMaxScaler()\n",
        "\n",
        "# fit the normalization on the training set: \n",
        "x_scaler.fit(X_train)\n",
        "\n",
        "# then create new and normalized training/test sets: \n",
        "X_train_norm = x_scaler.transform(X_train)\n",
        "X_test_norm = x_scaler.transform(X_test)\n",
        "\n",
        "from sklearn.ensemble import AdaBoostClassifier\n",
        "model_11a = AdaBoostClassifier(n_estimators=1000, learning_rate=0.1) # Define the model with parameters\n",
        "model_11a.fit(X_train_norm, y_train) # Training the model\n",
        "\n",
        "y_pred = model_11a.predict(X_test_norm) # Predicting labels for our test set using trained model\n",
        "evaluate_on_training_set(y_test, y_pred) #evaluate our model using newly defined function"
      ],
      "execution_count": 39,
      "outputs": [
        {
          "output_type": "stream",
          "name": "stdout",
          "text": [
            "              precision    recall  f1-score   support\n",
            "\n",
            "           0       0.00      0.00      0.00         2\n",
            "           1       0.00      0.00      0.00         6\n",
            "           2       0.15      0.06      0.08        36\n",
            "           3       0.22      0.17      0.19        36\n",
            "           4       0.18      0.59      0.27        32\n",
            "           5       0.12      0.03      0.04        38\n",
            "           6       0.00      0.00      0.00        16\n",
            "\n",
            "    accuracy                           0.17       166\n",
            "   macro avg       0.10      0.12      0.08       166\n",
            "weighted avg       0.14      0.17      0.12       166\n",
            "\n",
            "Confusion Matrix: \n",
            " [[ 0  0  2  0  0  0  0]\n",
            " [ 0  0  1  2  3  0  0]\n",
            " [ 0  1  2  7 21  4  1]\n",
            " [ 0  2  1  6 23  2  2]\n",
            " [ 0  2  4  6 19  1  0]\n",
            " [ 0  0  2  4 31  1  0]\n",
            " [ 1  2  1  2 10  0  0]]\n"
          ]
        }
      ]
    },
    {
      "cell_type": "markdown",
      "metadata": {
        "id": "w9SR9tRMrZW7"
      },
      "source": [
        "##### Function Transformer"
      ]
    },
    {
      "cell_type": "code",
      "metadata": {
        "colab": {
          "base_uri": "https://localhost:8080/"
        },
        "id": "0Jp3UiQw4GNL",
        "outputId": "19d545bf-366f-4ffc-ef05-5ca5375fb2cb"
      },
      "source": [
        "# training and test split\n",
        "from sklearn.model_selection import train_test_split\n",
        "\n",
        "# data = pd.get_dummies(data, drop_first=True)\n",
        "# We split the data up into a test set and a training set, 30 - 70 %\n",
        "# train_test_split\n",
        "# First argument: x data is all data without class column\n",
        "# Second argument:  this is the class label column\n",
        "# Random state = 0: ensures the train and test splitting is deterministic. \n",
        "\n",
        "X_train, X_test, y_train, y_test = train_test_split(data.drop(['balanced_life', # y\n",
        "             'gender', \n",
        "             'age', \n",
        "             'amount_music',\n",
        "             'trauma', \n",
        "             'life_enjoyment', \n",
        "             'resilience', \n",
        "             'emotional_flex', \n",
        "             'self_actualization',\n",
        "             'health_categorical',\n",
        "             'total_health',\n",
        "             'genres'],\n",
        "            axis = 1),\n",
        "            data['balanced_life'], # y to be predicted\n",
        "            test_size=0.3,\n",
        "            random_state=0) \n",
        "\n",
        "from sklearn.preprocessing import FunctionTransformer\n",
        "\n",
        "# define a new scaler: \n",
        "x_scaler = FunctionTransformer()\n",
        "\n",
        "# fit the normalization on the training set: \n",
        "x_scaler.fit(X_train)\n",
        "\n",
        "# then create new and normalized training/test sets: \n",
        "X_train_norm = x_scaler.transform(X_train)\n",
        "X_test_norm = x_scaler.transform(X_test)\n",
        "\n",
        "from sklearn.ensemble import AdaBoostClassifier\n",
        "model_12a = AdaBoostClassifier(n_estimators=1000, learning_rate=0.1) # Define the model with parameters\n",
        "model_12a.fit(X_train_norm, y_train) # Training the model\n",
        "\n",
        "y_pred = model_12a.predict(X_test_norm) # Predicting labels for our test set using trained model\n",
        "evaluate_on_training_set(y_test, y_pred) #evaluate our model using newly defined functio"
      ],
      "execution_count": 40,
      "outputs": [
        {
          "output_type": "stream",
          "name": "stdout",
          "text": [
            "              precision    recall  f1-score   support\n",
            "\n",
            "           0       0.00      0.00      0.00         2\n",
            "           1       0.00      0.00      0.00         6\n",
            "           2       0.00      0.00      0.00        36\n",
            "           3       0.21      0.19      0.20        36\n",
            "           4       0.19      0.66      0.29        32\n",
            "           5       1.00      0.03      0.05        38\n",
            "           6       0.00      0.00      0.00        16\n",
            "\n",
            "    accuracy                           0.17       166\n",
            "   macro avg       0.20      0.13      0.08       166\n",
            "weighted avg       0.31      0.17      0.11       166\n",
            "\n",
            "Confusion Matrix: \n",
            " [[ 0  0  2  0  0  0  0]\n",
            " [ 0  0  1  2  3  0  0]\n",
            " [ 0  1  0 13 22  0  0]\n",
            " [ 0  2  1  7 24  0  2]\n",
            " [ 0  2  4  5 21  0  0]\n",
            " [ 0  0  2  4 31  1  0]\n",
            " [ 1  2  1  2 10  0  0]]\n"
          ]
        }
      ]
    },
    {
      "cell_type": "markdown",
      "metadata": {
        "id": "SGCzIKxJqfHe"
      },
      "source": [
        "#### Emotional Flexibility"
      ]
    },
    {
      "cell_type": "markdown",
      "metadata": {
        "id": "Jm0BsevSrjJ7"
      },
      "source": [
        "##### Standard Scaler"
      ]
    },
    {
      "cell_type": "code",
      "metadata": {
        "colab": {
          "base_uri": "https://localhost:8080/"
        },
        "id": "EE_Pezbn4avn",
        "outputId": "4def1dc3-fc35-4e99-e7f9-adac1442e259"
      },
      "source": [
        "# training and test split\n",
        "from sklearn.model_selection import train_test_split\n",
        "\n",
        "# data = pd.get_dummies(data, drop_first=True)\n",
        "# We split the data up into a test set and a training set, 30 - 70 %\n",
        "# train_test_split\n",
        "# First argument: x data is all data without class column\n",
        "# Second argument:  this is the class label column\n",
        "# Random state = 0: ensures the train and test splitting is deterministic. \n",
        "\n",
        "X_train, X_test, y_train, y_test = train_test_split(data.drop(['emotional_flex', # y\n",
        "             'gender', \n",
        "             'age', \n",
        "             'amount_music',\n",
        "             'trauma', \n",
        "             'life_enjoyment', \n",
        "             'resilience', \n",
        "             'balanced_life', \n",
        "             'self_actualization',\n",
        "             'health_categorical',\n",
        "             'total_health',\n",
        "             'genres'],\n",
        "            axis = 1),\n",
        "            data['emotional_flex'], # y to be predicted\n",
        "            test_size=0.3,\n",
        "            random_state=0) \n",
        "\n",
        "from sklearn.preprocessing import StandardScaler\n",
        "\n",
        "# define a new scaler: \n",
        "x_scaler = StandardScaler()\n",
        "\n",
        "# fit the normalization on the training set: \n",
        "x_scaler.fit(X_train)\n",
        "\n",
        "# then create new and normalized training/test sets: \n",
        "X_train_norm = x_scaler.transform(X_train)\n",
        "X_test_norm = x_scaler.transform(X_test)\n",
        "\n",
        "from sklearn.ensemble import AdaBoostClassifier\n",
        "model_13a = AdaBoostClassifier(n_estimators=1000, learning_rate=0.1) # Define the model with parameters\n",
        "model_13a.fit(X_train_norm, y_train) # Training the model\n",
        "\n",
        "y_pred = model_13a.predict(X_test_norm) # Predicting labels for our test set using trained model\n",
        "evaluate_on_training_set(y_test, y_pred) #evaluate our model using newly defined function"
      ],
      "execution_count": 41,
      "outputs": [
        {
          "output_type": "stream",
          "name": "stdout",
          "text": [
            "              precision    recall  f1-score   support\n",
            "\n",
            "           0       0.00      0.00      0.00         5\n",
            "           1       0.00      0.00      0.00        11\n",
            "           2       0.27      0.11      0.15        28\n",
            "           3       0.18      0.25      0.21        24\n",
            "           4       0.32      0.39      0.35        38\n",
            "           5       0.29      0.50      0.36        36\n",
            "           6       0.00      0.00      0.00        24\n",
            "\n",
            "    accuracy                           0.25       166\n",
            "   macro avg       0.15      0.18      0.15       166\n",
            "weighted avg       0.21      0.25      0.22       166\n",
            "\n",
            "Confusion Matrix: \n",
            " [[ 0  0  0  1  1  3  0]\n",
            " [ 0  0  0  3  3  5  0]\n",
            " [ 1  0  3  5  6 10  3]\n",
            " [ 1  0  2  6  9  6  0]\n",
            " [ 0  0  2  7 15 13  1]\n",
            " [ 1  2  0  5  9 18  1]\n",
            " [ 1  0  4  7  4  8  0]]\n"
          ]
        }
      ]
    },
    {
      "cell_type": "markdown",
      "metadata": {
        "id": "qOCgO_dXrn2f"
      },
      "source": [
        "##### MinMax Scaler"
      ]
    },
    {
      "cell_type": "code",
      "metadata": {
        "colab": {
          "base_uri": "https://localhost:8080/"
        },
        "id": "MR4i3k624vcQ",
        "outputId": "77d15389-2d44-4ef8-f55d-119d08f077fe"
      },
      "source": [
        "# training and test split\n",
        "from sklearn.model_selection import train_test_split\n",
        "\n",
        "# data = pd.get_dummies(data, drop_first=True)\n",
        "# We split the data up into a test set and a training set, 30 - 70 %\n",
        "# train_test_split\n",
        "# First argument: x data is all data without class column\n",
        "# Second argument:  this is the class label column\n",
        "# Random state = 0: ensures the train and test splitting is deterministic. \n",
        "\n",
        "X_train, X_test, y_train, y_test = train_test_split(data.drop(['emotional_flex', # y\n",
        "             'gender', \n",
        "             'age', \n",
        "             'amount_music',\n",
        "             'trauma', \n",
        "             'life_enjoyment', \n",
        "             'resilience', \n",
        "             'balanced_life', \n",
        "             'self_actualization',\n",
        "             'health_categorical',\n",
        "             'total_health',\n",
        "             'genres'],\n",
        "            axis = 1),\n",
        "            data['emotional_flex'], # y to be predicted\n",
        "            test_size=0.3,\n",
        "            random_state=0) \n",
        "\n",
        "from sklearn.preprocessing import MinMaxScaler\n",
        "\n",
        "# define a new scaler: \n",
        "x_scaler = MinMaxScaler()\n",
        "\n",
        "# fit the normalization on the training set: \n",
        "x_scaler.fit(X_train)\n",
        "\n",
        "# then create new and normalized training/test sets: \n",
        "X_train_norm = x_scaler.transform(X_train)\n",
        "X_test_norm = x_scaler.transform(X_test)\n",
        "\n",
        "from sklearn.ensemble import AdaBoostClassifier\n",
        "model_14a = AdaBoostClassifier(n_estimators=1000, learning_rate=0.1) # Define the model with parameters\n",
        "model_14a.fit(X_train_norm, y_train) # Training the model\n",
        "\n",
        "y_pred = model_14a.predict(X_test_norm) # Predicting labels for our test set using trained model\n",
        "evaluate_on_training_set(y_test, y_pred) #evaluate our model using newly defined function"
      ],
      "execution_count": 42,
      "outputs": [
        {
          "output_type": "stream",
          "name": "stdout",
          "text": [
            "              precision    recall  f1-score   support\n",
            "\n",
            "           0       0.00      0.00      0.00         5\n",
            "           1       0.00      0.00      0.00        11\n",
            "           2       0.27      0.11      0.15        28\n",
            "           3       0.18      0.25      0.21        24\n",
            "           4       0.32      0.39      0.35        38\n",
            "           5       0.29      0.50      0.36        36\n",
            "           6       0.00      0.00      0.00        24\n",
            "\n",
            "    accuracy                           0.25       166\n",
            "   macro avg       0.15      0.18      0.15       166\n",
            "weighted avg       0.21      0.25      0.22       166\n",
            "\n",
            "Confusion Matrix: \n",
            " [[ 0  0  0  1  1  3  0]\n",
            " [ 0  0  0  3  3  5  0]\n",
            " [ 1  0  3  5  6 10  3]\n",
            " [ 1  0  2  6  9  6  0]\n",
            " [ 0  0  2  7 15 13  1]\n",
            " [ 1  2  0  5  9 18  1]\n",
            " [ 1  0  4  7  4  8  0]]\n"
          ]
        }
      ]
    },
    {
      "cell_type": "markdown",
      "metadata": {
        "id": "U_z8UBdArsIp"
      },
      "source": [
        "##### Function Transformer"
      ]
    },
    {
      "cell_type": "code",
      "metadata": {
        "colab": {
          "base_uri": "https://localhost:8080/"
        },
        "id": "qlN63MtX46ib",
        "outputId": "945e1573-5d05-46e8-b232-ee81a80a0109"
      },
      "source": [
        "# training and test split\n",
        "from sklearn.model_selection import train_test_split\n",
        "\n",
        "# data = pd.get_dummies(data, drop_first=True)\n",
        "# We split the data up into a test set and a training set, 30 - 70 %\n",
        "# train_test_split\n",
        "# First argument: x data is all data without class column\n",
        "# Second argument:  this is the class label column\n",
        "# Random state = 0: ensures the train and test splitting is deterministic. \n",
        "\n",
        "X_train, X_test, y_train, y_test = train_test_split(data.drop(['emotional_flex', # y\n",
        "             'gender', \n",
        "             'age', \n",
        "             'amount_music',\n",
        "             'trauma', \n",
        "             'life_enjoyment', \n",
        "             'resilience', \n",
        "             'balanced_life', \n",
        "             'self_actualization',\n",
        "             'health_categorical',\n",
        "             'total_health',\n",
        "             'genres'],\n",
        "            axis = 1),\n",
        "            data['emotional_flex'], # y to be predicted\n",
        "            test_size=0.3,\n",
        "            random_state=0) \n",
        "\n",
        "from sklearn.preprocessing import FunctionTransformer\n",
        "\n",
        "# define a new scaler: \n",
        "x_scaler = FunctionTransformer()\n",
        "\n",
        "# fit the normalization on the training set: \n",
        "x_scaler.fit(X_train)\n",
        "\n",
        "# then create new and normalized training/test sets: \n",
        "X_train_norm = x_scaler.transform(X_train)\n",
        "X_test_norm = x_scaler.transform(X_test)\n",
        "\n",
        "from sklearn.ensemble import AdaBoostClassifier\n",
        "model_15a = AdaBoostClassifier(n_estimators=1000, learning_rate=0.1) # Define the model with parameters\n",
        "model_15a.fit(X_train_norm, y_train) # Training the model\n",
        "\n",
        "y_pred = model_15a.predict(X_test_norm) # Predicting labels for our test set using trained model\n",
        "evaluate_on_training_set(y_test, y_pred) #evaluate our model using newly defined function"
      ],
      "execution_count": 43,
      "outputs": [
        {
          "output_type": "stream",
          "name": "stdout",
          "text": [
            "              precision    recall  f1-score   support\n",
            "\n",
            "           0       0.00      0.00      0.00         5\n",
            "           1       0.00      0.00      0.00        11\n",
            "           2       0.27      0.11      0.15        28\n",
            "           3       0.18      0.25      0.21        24\n",
            "           4       0.32      0.39      0.35        38\n",
            "           5       0.29      0.50      0.36        36\n",
            "           6       0.00      0.00      0.00        24\n",
            "\n",
            "    accuracy                           0.25       166\n",
            "   macro avg       0.15      0.18      0.15       166\n",
            "weighted avg       0.21      0.25      0.22       166\n",
            "\n",
            "Confusion Matrix: \n",
            " [[ 0  0  0  1  1  3  0]\n",
            " [ 0  0  0  3  3  5  0]\n",
            " [ 1  0  3  5  6 10  3]\n",
            " [ 1  0  2  6  9  6  0]\n",
            " [ 0  0  2  7 15 13  1]\n",
            " [ 1  2  0  5  9 18  1]\n",
            " [ 1  0  4  7  4  8  0]]\n"
          ]
        }
      ]
    },
    {
      "cell_type": "markdown",
      "metadata": {
        "id": "STNSqkw1qiA6"
      },
      "source": [
        "#### Self Actualization"
      ]
    },
    {
      "cell_type": "markdown",
      "metadata": {
        "id": "mmFanHUCrwoJ"
      },
      "source": [
        "##### Standard Scaler"
      ]
    },
    {
      "cell_type": "code",
      "metadata": {
        "colab": {
          "base_uri": "https://localhost:8080/"
        },
        "id": "FYb__PqD5LHK",
        "outputId": "2d043977-965c-43a5-d19c-1bdf7bfca205"
      },
      "source": [
        "# training and test split\n",
        "from sklearn.model_selection import train_test_split\n",
        "\n",
        "# data = pd.get_dummies(data, drop_first=True)\n",
        "# We split the data up into a test set and a training set, 30 - 70 %\n",
        "# train_test_split\n",
        "# First argument: x data is all data without class column\n",
        "# Second argument:  this is the class label column\n",
        "# Random state = 0: ensures the train and test splitting is deterministic. \n",
        "\n",
        "X_train, X_test, y_train, y_test = train_test_split(data.drop(['self_actualization', # y\n",
        "             'gender', \n",
        "             'age', \n",
        "             'amount_music',\n",
        "             'trauma', \n",
        "             'life_enjoyment', \n",
        "             'resilience', \n",
        "             'balanced_life', \n",
        "             'emotional_flex',\n",
        "             'health_categorical',\n",
        "             'total_health',\n",
        "             'genres'],\n",
        "            axis = 1),\n",
        "            data['self_actualization'], # y to be predicted\n",
        "            test_size=0.3,\n",
        "            random_state=0) \n",
        "\n",
        "from sklearn.preprocessing import StandardScaler\n",
        "\n",
        "# define a new scaler: \n",
        "x_scaler = StandardScaler()\n",
        "\n",
        "# fit the normalization on the training set: \n",
        "x_scaler.fit(X_train)\n",
        "\n",
        "# then create new and normalized training/test sets: \n",
        "X_train_norm = x_scaler.transform(X_train)\n",
        "X_test_norm = x_scaler.transform(X_test)\n",
        "\n",
        "from sklearn.ensemble import AdaBoostClassifier\n",
        "model_16a = AdaBoostClassifier(n_estimators=1000, learning_rate=0.1) # Define the model with parameters\n",
        "model_16a.fit(X_train_norm, y_train) # Training the model\n",
        "\n",
        "y_pred = model_16a.predict(X_test_norm) # Predicting labels for our test set using trained model\n",
        "evaluate_on_training_set(y_test, y_pred) #evaluate our model using newly defined function"
      ],
      "execution_count": 44,
      "outputs": [
        {
          "output_type": "stream",
          "name": "stdout",
          "text": [
            "              precision    recall  f1-score   support\n",
            "\n",
            "           0       0.00      0.00      0.00         3\n",
            "           1       0.00      0.00      0.00         7\n",
            "           2       0.11      0.08      0.10        12\n",
            "           3       0.00      0.00      0.00        20\n",
            "           4       0.53      0.23      0.32        39\n",
            "           5       0.23      0.34      0.28        47\n",
            "           6       0.13      0.18      0.16        38\n",
            "\n",
            "    accuracy                           0.20       166\n",
            "   macro avg       0.14      0.12      0.12       166\n",
            "weighted avg       0.23      0.20      0.20       166\n",
            "\n",
            "Confusion Matrix: \n",
            " [[ 0  0  0  0  0  1  2]\n",
            " [ 0  0  0  0  2  1  4]\n",
            " [ 0  2  1  1  1  4  3]\n",
            " [ 0  1  1  0  1 11  6]\n",
            " [ 0  3  1  1  9 16  9]\n",
            " [ 0  4  2  1  3 16 21]\n",
            " [ 0  4  4  2  1 20  7]]\n"
          ]
        },
        {
          "output_type": "stream",
          "name": "stderr",
          "text": [
            "/usr/local/lib/python3.7/dist-packages/sklearn/metrics/_classification.py:1308: UndefinedMetricWarning: Precision and F-score are ill-defined and being set to 0.0 in labels with no predicted samples. Use `zero_division` parameter to control this behavior.\n",
            "  _warn_prf(average, modifier, msg_start, len(result))\n",
            "/usr/local/lib/python3.7/dist-packages/sklearn/metrics/_classification.py:1308: UndefinedMetricWarning: Precision and F-score are ill-defined and being set to 0.0 in labels with no predicted samples. Use `zero_division` parameter to control this behavior.\n",
            "  _warn_prf(average, modifier, msg_start, len(result))\n",
            "/usr/local/lib/python3.7/dist-packages/sklearn/metrics/_classification.py:1308: UndefinedMetricWarning: Precision and F-score are ill-defined and being set to 0.0 in labels with no predicted samples. Use `zero_division` parameter to control this behavior.\n",
            "  _warn_prf(average, modifier, msg_start, len(result))\n"
          ]
        }
      ]
    },
    {
      "cell_type": "markdown",
      "metadata": {
        "id": "XQBVokOsr0Aj"
      },
      "source": [
        "##### MinMax Scaler"
      ]
    },
    {
      "cell_type": "code",
      "metadata": {
        "colab": {
          "base_uri": "https://localhost:8080/"
        },
        "id": "wpgzWBLv5i5C",
        "outputId": "1978c030-e64a-4af8-820f-d863cdfd8741"
      },
      "source": [
        "# training and test split\n",
        "from sklearn.model_selection import train_test_split\n",
        "\n",
        "# data = pd.get_dummies(data, drop_first=True)\n",
        "# We split the data up into a test set and a training set, 30 - 70 %\n",
        "# train_test_split\n",
        "# First argument: x data is all data without class column\n",
        "# Second argument:  this is the class label column\n",
        "# Random state = 0: ensures the train and test splitting is deterministic. \n",
        "\n",
        "X_train, X_test, y_train, y_test = train_test_split(data.drop(['self_actualization', # y\n",
        "             'gender', \n",
        "             'age', \n",
        "             'amount_music',\n",
        "             'trauma', \n",
        "             'life_enjoyment', \n",
        "             'resilience', \n",
        "             'balanced_life', \n",
        "             'emotional_flex',\n",
        "             'health_categorical',\n",
        "             'total_health',\n",
        "             'genres'],\n",
        "            axis = 1),\n",
        "            data['self_actualization'], # y to be predicted\n",
        "            test_size=0.3,\n",
        "            random_state=0) \n",
        "\n",
        "from sklearn.preprocessing import MinMaxScaler\n",
        "\n",
        "# define a new scaler: \n",
        "x_scaler = MinMaxScaler()\n",
        "\n",
        "# fit the normalization on the training set: \n",
        "x_scaler.fit(X_train)\n",
        "\n",
        "# then create new and normalized training/test sets: \n",
        "X_train_norm = x_scaler.transform(X_train)\n",
        "X_test_norm = x_scaler.transform(X_test)\n",
        "\n",
        "from sklearn.ensemble import AdaBoostClassifier\n",
        "model_17a = AdaBoostClassifier(n_estimators=1000, learning_rate=0.1) # Define the model with parameters\n",
        "model_17a.fit(X_train_norm, y_train) # Training the model\n",
        "\n",
        "y_pred = model_17a.predict(X_test_norm) # Predicting labels for our test set using trained model\n",
        "evaluate_on_training_set(y_test, y_pred) #evaluate our model using newly defined function"
      ],
      "execution_count": 45,
      "outputs": [
        {
          "output_type": "stream",
          "name": "stdout",
          "text": [
            "              precision    recall  f1-score   support\n",
            "\n",
            "           0       0.00      0.00      0.00         3\n",
            "           1       0.00      0.00      0.00         7\n",
            "           2       0.12      0.08      0.10        12\n",
            "           3       0.00      0.00      0.00        20\n",
            "           4       0.41      0.23      0.30        39\n",
            "           5       0.25      0.34      0.29        47\n",
            "           6       0.13      0.18      0.16        38\n",
            "\n",
            "    accuracy                           0.20       166\n",
            "   macro avg       0.13      0.12      0.12       166\n",
            "weighted avg       0.21      0.20      0.19       166\n",
            "\n",
            "Confusion Matrix: \n",
            " [[ 0  0  0  0  0  1  2]\n",
            " [ 0  0  0  0  1  2  4]\n",
            " [ 0  2  1  1  2  3  3]\n",
            " [ 0  1  0  0  3 10  6]\n",
            " [ 0  3  1  1  9 16  9]\n",
            " [ 0  4  2  1  3 16 21]\n",
            " [ 0  4  4  2  4 17  7]]\n"
          ]
        },
        {
          "output_type": "stream",
          "name": "stderr",
          "text": [
            "/usr/local/lib/python3.7/dist-packages/sklearn/metrics/_classification.py:1308: UndefinedMetricWarning: Precision and F-score are ill-defined and being set to 0.0 in labels with no predicted samples. Use `zero_division` parameter to control this behavior.\n",
            "  _warn_prf(average, modifier, msg_start, len(result))\n",
            "/usr/local/lib/python3.7/dist-packages/sklearn/metrics/_classification.py:1308: UndefinedMetricWarning: Precision and F-score are ill-defined and being set to 0.0 in labels with no predicted samples. Use `zero_division` parameter to control this behavior.\n",
            "  _warn_prf(average, modifier, msg_start, len(result))\n",
            "/usr/local/lib/python3.7/dist-packages/sklearn/metrics/_classification.py:1308: UndefinedMetricWarning: Precision and F-score are ill-defined and being set to 0.0 in labels with no predicted samples. Use `zero_division` parameter to control this behavior.\n",
            "  _warn_prf(average, modifier, msg_start, len(result))\n"
          ]
        }
      ]
    },
    {
      "cell_type": "markdown",
      "metadata": {
        "id": "qvKswiR9r3Vl"
      },
      "source": [
        "##### Function Transformer"
      ]
    },
    {
      "cell_type": "code",
      "metadata": {
        "colab": {
          "base_uri": "https://localhost:8080/"
        },
        "id": "i9gwuKKb5194",
        "outputId": "d10a84cf-7678-4f6b-cc1c-d23e46c2d860"
      },
      "source": [
        "# training and test split\n",
        "from sklearn.model_selection import train_test_split\n",
        "\n",
        "# data = pd.get_dummies(data, drop_first=True)\n",
        "# We split the data up into a test set and a training set, 30 - 70 %\n",
        "# train_test_split\n",
        "# First argument: x data is all data without class column\n",
        "# Second argument:  this is the class label column\n",
        "# Random state = 0: ensures the train and test splitting is deterministic. \n",
        "\n",
        "X_train, X_test, y_train, y_test = train_test_split(data.drop(['self_actualization', # y\n",
        "             'gender', \n",
        "             'age', \n",
        "             'amount_music',\n",
        "             'trauma', \n",
        "             'life_enjoyment', \n",
        "             'resilience', \n",
        "             'balanced_life', \n",
        "             'emotional_flex',\n",
        "             'health_categorical',\n",
        "             'total_health',\n",
        "             'genres'],\n",
        "            axis = 1),\n",
        "            data['self_actualization'], # y to be predicted\n",
        "            test_size=0.3,\n",
        "            random_state=0) \n",
        "\n",
        "from sklearn.preprocessing import FunctionTransformer\n",
        "\n",
        "# define a new scaler: \n",
        "x_scaler = FunctionTransformer()\n",
        "\n",
        "# fit the normalization on the training set: \n",
        "x_scaler.fit(X_train)\n",
        "\n",
        "# then create new and normalized training/test sets: \n",
        "X_train_norm = x_scaler.transform(X_train)\n",
        "X_test_norm = x_scaler.transform(X_test)\n",
        "\n",
        "from sklearn.ensemble import AdaBoostClassifier\n",
        "model_18a = AdaBoostClassifier(n_estimators=1000, learning_rate=0.1) # Define the model with parameters\n",
        "model_18a.fit(X_train_norm, y_train) # Training the model\n",
        "\n",
        "y_pred = model_18a.predict(X_test_norm) # Predicting labels for our test set using trained model\n",
        "evaluate_on_training_set(y_test, y_pred) #evaluate our model using newly defined function"
      ],
      "execution_count": 46,
      "outputs": [
        {
          "output_type": "stream",
          "name": "stdout",
          "text": [
            "              precision    recall  f1-score   support\n",
            "\n",
            "           0       0.00      0.00      0.00         3\n",
            "           1       0.00      0.00      0.00         7\n",
            "           2       0.11      0.08      0.10        12\n",
            "           3       0.00      0.00      0.00        20\n",
            "           4       0.47      0.23      0.31        39\n",
            "           5       0.21      0.30      0.25        47\n",
            "           6       0.13      0.18      0.16        38\n",
            "\n",
            "    accuracy                           0.19       166\n",
            "   macro avg       0.13      0.11      0.12       166\n",
            "weighted avg       0.21      0.19      0.19       166\n",
            "\n",
            "Confusion Matrix: \n",
            " [[ 0  0  0  0  0  1  2]\n",
            " [ 0  0  0  0  2  1  4]\n",
            " [ 0  2  1  1  0  5  3]\n",
            " [ 0  1  1  0  1 11  6]\n",
            " [ 0  3  1  1  9 16  9]\n",
            " [ 0  4  2  1  5 14 21]\n",
            " [ 0  4  4  3  2 18  7]]\n"
          ]
        },
        {
          "output_type": "stream",
          "name": "stderr",
          "text": [
            "/usr/local/lib/python3.7/dist-packages/sklearn/metrics/_classification.py:1308: UndefinedMetricWarning: Precision and F-score are ill-defined and being set to 0.0 in labels with no predicted samples. Use `zero_division` parameter to control this behavior.\n",
            "  _warn_prf(average, modifier, msg_start, len(result))\n",
            "/usr/local/lib/python3.7/dist-packages/sklearn/metrics/_classification.py:1308: UndefinedMetricWarning: Precision and F-score are ill-defined and being set to 0.0 in labels with no predicted samples. Use `zero_division` parameter to control this behavior.\n",
            "  _warn_prf(average, modifier, msg_start, len(result))\n",
            "/usr/local/lib/python3.7/dist-packages/sklearn/metrics/_classification.py:1308: UndefinedMetricWarning: Precision and F-score are ill-defined and being set to 0.0 in labels with no predicted samples. Use `zero_division` parameter to control this behavior.\n",
            "  _warn_prf(average, modifier, msg_start, len(result))\n"
          ]
        }
      ]
    },
    {
      "cell_type": "markdown",
      "metadata": {
        "id": "CU5_qAP1wK_K"
      },
      "source": [
        "## Ridge Regression"
      ]
    },
    {
      "cell_type": "markdown",
      "metadata": {
        "id": "C2eYXI3Od3xF"
      },
      "source": [
        "### Predict total health score"
      ]
    },
    {
      "cell_type": "markdown",
      "metadata": {
        "id": "yuOg0hu5d9Cw"
      },
      "source": [
        "#### Standard Scaler"
      ]
    },
    {
      "cell_type": "code",
      "metadata": {
        "colab": {
          "base_uri": "https://localhost:8080/"
        },
        "id": "rXEl28fBeHeJ",
        "outputId": "01ec7187-80b0-4413-ca4b-122bf478c0d2"
      },
      "source": [
        "# training and test split\n",
        "from sklearn.model_selection import train_test_split\n",
        "\n",
        "# data = pd.get_dummies(data, drop_first=True)\n",
        "# We split the data up into a test set and a training set, 30 - 70 %\n",
        "# train_test_split\n",
        "# First argument: x data is all data without class column\n",
        "# Second argument:  this is the class label column\n",
        "# Random state = 0: ensures the train and test splitting is deterministic. \n",
        "\n",
        "X_train, X_test, y_train, y_test = train_test_split(data.drop(['trauma', \n",
        "             'gender', \n",
        "             'age', \n",
        "             'amount_music',\n",
        "             'life_enjoyment', \n",
        "             'resilience', \n",
        "             'balanced_life', \n",
        "             'emotional_flex', \n",
        "             'self_actualization',\n",
        "             'health_categorical',\n",
        "             'total_health', # y\n",
        "             'genres'],\n",
        "            axis = 1),\n",
        "            data['total_health'], # y to be predicted\n",
        "            test_size=0.3,\n",
        "            random_state=0) \n",
        "\n",
        "from sklearn.preprocessing import StandardScaler\n",
        "from sklearn.linear_model import Ridge\n",
        "from sklearn.pipeline import Pipeline\n",
        "\n",
        "featurepipe = Pipeline([('scaler', StandardScaler()),\n",
        "                 ('reg', Ridge())])\n",
        "\n",
        "featurepipe.fit(X_train, y_train)\n",
        "predicted = featurepipe.predict(X_test)\n",
        "\n",
        "# print MSE\n",
        "from sklearn.metrics import accuracy_score, mean_squared_error\n",
        "\n",
        "print(mean_squared_error(y_test, predicted))"
      ],
      "execution_count": 47,
      "outputs": [
        {
          "output_type": "stream",
          "name": "stdout",
          "text": [
            "39.85556805447666\n"
          ]
        }
      ]
    },
    {
      "cell_type": "markdown",
      "metadata": {
        "id": "8Zouyrjad_hs"
      },
      "source": [
        "#### PCA"
      ]
    },
    {
      "cell_type": "code",
      "metadata": {
        "colab": {
          "base_uri": "https://localhost:8080/"
        },
        "id": "7B-6E6HPePfI",
        "outputId": "a4cb8b80-4d5a-47c5-c74c-d88d834cc15a"
      },
      "source": [
        "# training and test split\n",
        "from sklearn.model_selection import train_test_split\n",
        "\n",
        "# data = pd.get_dummies(data, drop_first=True)\n",
        "# We split the data up into a test set and a training set, 30 - 70 %\n",
        "# train_test_split\n",
        "# First argument: x data is all data without class column\n",
        "# Second argument:  this is the class label column\n",
        "# Random state = 0: ensures the train and test splitting is deterministic. \n",
        "\n",
        "X_train, X_test, y_train, y_test = train_test_split(data.drop(['trauma', \n",
        "             'gender', \n",
        "             'age', \n",
        "             'amount_music',\n",
        "             'life_enjoyment', \n",
        "             'resilience', \n",
        "             'balanced_life', \n",
        "             'emotional_flex', \n",
        "             'self_actualization',\n",
        "             'health_categorical',\n",
        "             'total_health', # y\n",
        "             'genres'],\n",
        "            axis = 1),\n",
        "            data['total_health'], # y to be predicted\n",
        "            test_size=0.3,\n",
        "            random_state=0) \n",
        "\n",
        "from sklearn.decomposition import PCA\n",
        "from sklearn.linear_model import Ridge\n",
        "from sklearn.pipeline import Pipeline\n",
        "\n",
        "featurepipe = Pipeline([('scaler', PCA()),\n",
        "                 ('reg', Ridge())])\n",
        "\n",
        "featurepipe.fit(X_train, y_train)\n",
        "predicted = featurepipe.predict(X_test)\n",
        "\n",
        "# print MSE\n",
        "from sklearn.metrics import accuracy_score, mean_squared_error\n",
        "\n",
        "print(mean_squared_error(y_test, predicted))"
      ],
      "execution_count": 48,
      "outputs": [
        {
          "output_type": "stream",
          "name": "stdout",
          "text": [
            "28.89091183149181\n"
          ]
        }
      ]
    },
    {
      "cell_type": "markdown",
      "metadata": {
        "id": "Fz30BpQ1eByk"
      },
      "source": [
        "#### MinMax Scaler"
      ]
    },
    {
      "cell_type": "code",
      "metadata": {
        "colab": {
          "base_uri": "https://localhost:8080/"
        },
        "id": "tlm8D8TCeW2t",
        "outputId": "fce342df-2593-48ee-c3af-5470a083dd0c"
      },
      "source": [
        "# training and test split\n",
        "from sklearn.model_selection import train_test_split\n",
        "\n",
        "# data = pd.get_dummies(data, drop_first=True)\n",
        "# We split the data up into a test set and a training set, 30 - 70 %\n",
        "# train_test_split\n",
        "# First argument: x data is all data without class column\n",
        "# Second argument:  this is the class label column\n",
        "# Random state = 0: ensures the train and test splitting is deterministic. \n",
        "\n",
        "X_train, X_test, y_train, y_test = train_test_split(data.drop(['trauma', \n",
        "             'gender', \n",
        "             'age', \n",
        "             'amount_music',\n",
        "             'life_enjoyment', \n",
        "             'resilience', \n",
        "             'balanced_life', \n",
        "             'emotional_flex', \n",
        "             'self_actualization',\n",
        "             'health_categorical',\n",
        "             'total_health', # y\n",
        "             'genres'],\n",
        "            axis = 1),\n",
        "            data['total_health'], # y to be predicted\n",
        "            test_size=0.3,\n",
        "            random_state=0) \n",
        "\n",
        "from sklearn.preprocessing import MinMaxScaler\n",
        "from sklearn.linear_model import Ridge\n",
        "from sklearn.pipeline import Pipeline\n",
        "\n",
        "featurepipe = Pipeline([('scaler', MinMaxScaler()),\n",
        "                 ('reg', Ridge())])\n",
        "\n",
        "featurepipe.fit(X_train, y_train)\n",
        "predicted = featurepipe.predict(X_test)\n",
        "\n",
        "# print MSE\n",
        "from sklearn.metrics import accuracy_score, mean_squared_error\n",
        "\n",
        "print(mean_squared_error(y_test, predicted))"
      ],
      "execution_count": 49,
      "outputs": [
        {
          "output_type": "stream",
          "name": "stdout",
          "text": [
            "28.872433480697115\n"
          ]
        }
      ]
    },
    {
      "cell_type": "markdown",
      "metadata": {
        "id": "AUn_elpheEN4"
      },
      "source": [
        "#### Function Transformer"
      ]
    },
    {
      "cell_type": "code",
      "metadata": {
        "colab": {
          "base_uri": "https://localhost:8080/"
        },
        "id": "nbSwPvguegom",
        "outputId": "89eee76a-35a0-4d07-8cae-49845fa5f189"
      },
      "source": [
        "# training and test split\n",
        "from sklearn.model_selection import train_test_split\n",
        "\n",
        "# data = pd.get_dummies(data, drop_first=True)\n",
        "# We split the data up into a test set and a training set, 30 - 70 %\n",
        "# train_test_split\n",
        "# First argument: x data is all data without class column\n",
        "# Second argument:  this is the class label column\n",
        "# Random state = 0: ensures the train and test splitting is deterministic. \n",
        "\n",
        "X_train, X_test, y_train, y_test = train_test_split(data.drop(['trauma', \n",
        "             'gender', \n",
        "             'age', \n",
        "             'amount_music',\n",
        "             'life_enjoyment', \n",
        "             'resilience', \n",
        "             'balanced_life', \n",
        "             'emotional_flex', \n",
        "             'self_actualization',\n",
        "             'health_categorical',\n",
        "             'total_health', # y\n",
        "             'genres'],\n",
        "            axis = 1),\n",
        "            data['total_health'], # y to be predicted\n",
        "            test_size=0.3,\n",
        "            random_state=0) \n",
        "\n",
        "from sklearn.preprocessing import FunctionTransformer\n",
        "from sklearn.linear_model import Ridge\n",
        "from sklearn.pipeline import Pipeline\n",
        "\n",
        "featurepipe = Pipeline([('scaler', FunctionTransformer()),\n",
        "                 ('reg', Ridge())])\n",
        "\n",
        "featurepipe.fit(X_train, y_train)\n",
        "predicted = featurepipe.predict(X_test)\n",
        "\n",
        "# print MSE\n",
        "from sklearn.metrics import accuracy_score, mean_squared_error\n",
        "\n",
        "print(mean_squared_error(y_test, predicted))"
      ],
      "execution_count": 50,
      "outputs": [
        {
          "output_type": "stream",
          "name": "stdout",
          "text": [
            "28.890911831481297\n"
          ]
        }
      ]
    },
    {
      "cell_type": "markdown",
      "metadata": {
        "id": "Hsw8fLXQwNRT"
      },
      "source": [
        "### Predict trauma"
      ]
    },
    {
      "cell_type": "markdown",
      "metadata": {
        "id": "9uE10JbSgXPT"
      },
      "source": [
        "##### Standard Scaler"
      ]
    },
    {
      "cell_type": "code",
      "metadata": {
        "colab": {
          "base_uri": "https://localhost:8080/"
        },
        "id": "-5qYPEYPgapO",
        "outputId": "29e9e354-91bd-4e1a-caf9-edeaba006be4"
      },
      "source": [
        "# training and test split\n",
        "from sklearn.model_selection import train_test_split\n",
        "\n",
        "# data = pd.get_dummies(data, drop_first=True)\n",
        "# We split the data up into a test set and a training set, 30 - 70 %\n",
        "# train_test_split\n",
        "# First argument: x data is all data without class column\n",
        "# Second argument:  this is the class label column\n",
        "# Random state = 0: ensures the train and test splitting is deterministic. \n",
        "\n",
        "X_train, X_test, y_train, y_test = train_test_split(data.drop(['trauma', # y\n",
        "             'gender', \n",
        "             'age', \n",
        "             'amount_music',\n",
        "             'life_enjoyment', \n",
        "             'resilience', \n",
        "             'balanced_life', \n",
        "             'emotional_flex', \n",
        "             'self_actualization',\n",
        "             'health_categorical',\n",
        "             'total_health',\n",
        "             'genres'],\n",
        "            axis = 1),\n",
        "            data['trauma'], # y to be predicted\n",
        "            test_size=0.3,\n",
        "            random_state=0) \n",
        "\n",
        "from sklearn.preprocessing import StandardScaler\n",
        "from sklearn.linear_model import Ridge\n",
        "from sklearn.pipeline import Pipeline\n",
        "\n",
        "featurepipe = Pipeline([('scaler', StandardScaler()),\n",
        "                 ('reg', Ridge())])\n",
        "\n",
        "featurepipe.fit(X_train, y_train)\n",
        "predicted = featurepipe.predict(X_test)\n",
        "\n",
        "# print MSE\n",
        "from sklearn.metrics import accuracy_score, mean_squared_error\n",
        "\n",
        "print(mean_squared_error(y_test, predicted))"
      ],
      "execution_count": 51,
      "outputs": [
        {
          "output_type": "stream",
          "name": "stdout",
          "text": [
            "0.3877051481287812\n"
          ]
        }
      ]
    },
    {
      "cell_type": "markdown",
      "metadata": {
        "id": "QjKrMK9ugB-G"
      },
      "source": [
        "##### PCA"
      ]
    },
    {
      "cell_type": "code",
      "metadata": {
        "colab": {
          "base_uri": "https://localhost:8080/"
        },
        "id": "gluhSKFLfeCu",
        "outputId": "4fb238f5-30a4-4934-a10b-722c82f8906b"
      },
      "source": [
        "# training and test split\n",
        "from sklearn.model_selection import train_test_split\n",
        "\n",
        "# data = pd.get_dummies(data, drop_first=True)\n",
        "# We split the data up into a test set and a training set, 30 - 70 %\n",
        "# train_test_split\n",
        "# First argument: x data is all data without class column\n",
        "# Second argument:  this is the class label column\n",
        "# Random state = 0: ensures the train and test splitting is deterministic. \n",
        "\n",
        "X_train, X_test, y_train, y_test = train_test_split(data.drop(['trauma', # y\n",
        "             'gender', \n",
        "             'age', \n",
        "             'amount_music',\n",
        "             'life_enjoyment', \n",
        "             'resilience', \n",
        "             'balanced_life', \n",
        "             'emotional_flex', \n",
        "             'self_actualization',\n",
        "             'health_categorical',\n",
        "             'total_health',\n",
        "             'genres'],\n",
        "            axis = 1),\n",
        "            data['trauma'], # y to be predicted\n",
        "            test_size=0.3,\n",
        "            random_state=0) \n",
        "\n",
        "from sklearn.decomposition import PCA\n",
        "from sklearn.linear_model import Ridge\n",
        "from sklearn.pipeline import Pipeline\n",
        "\n",
        "featurepipe = Pipeline([('pca', PCA()),\n",
        "                 ('reg', Ridge())])\n",
        "\n",
        "featurepipe.fit(X_train, y_train)\n",
        "predicted = featurepipe.predict(X_test)\n",
        "\n",
        "# print MSE\n",
        "from sklearn.metrics import accuracy_score, mean_squared_error\n",
        "\n",
        "print(mean_squared_error(y_test, predicted))"
      ],
      "execution_count": 52,
      "outputs": [
        {
          "output_type": "stream",
          "name": "stdout",
          "text": [
            "0.2526202314998527\n"
          ]
        }
      ]
    },
    {
      "cell_type": "markdown",
      "metadata": {
        "id": "qgJs6fwhgmae"
      },
      "source": [
        "##### MinMax Scaler"
      ]
    },
    {
      "cell_type": "code",
      "metadata": {
        "colab": {
          "base_uri": "https://localhost:8080/"
        },
        "id": "ivxdscvWgrgc",
        "outputId": "4f1ac4f1-7460-4e5d-da8d-ab0d669d1c82"
      },
      "source": [
        "# training and test split\n",
        "from sklearn.model_selection import train_test_split\n",
        "\n",
        "# data = pd.get_dummies(data, drop_first=True)\n",
        "# We split the data up into a test set and a training set, 30 - 70 %\n",
        "# train_test_split\n",
        "# First argument: x data is all data without class column\n",
        "# Second argument:  this is the class label column\n",
        "# Random state = 0: ensures the train and test splitting is deterministic. \n",
        "\n",
        "X_train, X_test, y_train, y_test = train_test_split(data.drop(['trauma', # y\n",
        "             'gender', \n",
        "             'age', \n",
        "             'amount_music',\n",
        "             'life_enjoyment', \n",
        "             'resilience', \n",
        "             'balanced_life', \n",
        "             'emotional_flex', \n",
        "             'self_actualization',\n",
        "             'health_categorical',\n",
        "             'total_health',\n",
        "             'genres'],\n",
        "            axis = 1),\n",
        "            data['trauma'], # y to be predicted\n",
        "            test_size=0.3,\n",
        "            random_state=0) \n",
        "\n",
        "from sklearn.preprocessing import MinMaxScaler\n",
        "from sklearn.linear_model import Ridge\n",
        "from sklearn.pipeline import Pipeline\n",
        "\n",
        "featurepipe = Pipeline([('scaler', MinMaxScaler()),\n",
        "                 ('reg', Ridge())])\n",
        "\n",
        "featurepipe.fit(X_train, y_train)\n",
        "predicted = featurepipe.predict(X_test)\n",
        "\n",
        "# print MSE\n",
        "from sklearn.metrics import accuracy_score, mean_squared_error\n",
        "\n",
        "print(mean_squared_error(y_test, predicted))"
      ],
      "execution_count": 53,
      "outputs": [
        {
          "output_type": "stream",
          "name": "stdout",
          "text": [
            "0.25298568391452236\n"
          ]
        }
      ]
    },
    {
      "cell_type": "markdown",
      "metadata": {
        "id": "cwHERP2Ygo7F"
      },
      "source": [
        "##### Function Transformer"
      ]
    },
    {
      "cell_type": "code",
      "metadata": {
        "colab": {
          "base_uri": "https://localhost:8080/"
        },
        "id": "bpnVlJdlgxIY",
        "outputId": "4c17601a-8ce4-49f5-daa2-89a14a24b59f"
      },
      "source": [
        "# training and test split\n",
        "from sklearn.model_selection import train_test_split\n",
        "\n",
        "# data = pd.get_dummies(data, drop_first=True)\n",
        "# We split the data up into a test set and a training set, 30 - 70 %\n",
        "# train_test_split\n",
        "# First argument: x data is all data without class column\n",
        "# Second argument:  this is the class label column\n",
        "# Random state = 0: ensures the train and test splitting is deterministic. \n",
        "\n",
        "X_train, X_test, y_train, y_test = train_test_split(data.drop(['trauma', # y\n",
        "             'gender', \n",
        "             'age', \n",
        "             'amount_music',\n",
        "             'life_enjoyment', \n",
        "             'resilience', \n",
        "             'balanced_life', \n",
        "             'emotional_flex', \n",
        "             'self_actualization',\n",
        "             'health_categorical',\n",
        "             'total_health',\n",
        "             'genres'],\n",
        "            axis = 1),\n",
        "            data['trauma'], # y to be predicted\n",
        "            test_size=0.3,\n",
        "            random_state=0) \n",
        "\n",
        "from sklearn.preprocessing import FunctionTransformer\n",
        "from sklearn.linear_model import Ridge\n",
        "from sklearn.pipeline import Pipeline\n",
        "\n",
        "featurepipe = Pipeline([('scaler', FunctionTransformer()),\n",
        "                 ('reg', Ridge())])\n",
        "\n",
        "featurepipe.fit(X_train, y_train)\n",
        "predicted = featurepipe.predict(X_test)\n",
        "\n",
        "# print MSE\n",
        "from sklearn.metrics import accuracy_score, mean_squared_error\n",
        "\n",
        "print(mean_squared_error(y_test, predicted))"
      ],
      "execution_count": 54,
      "outputs": [
        {
          "output_type": "stream",
          "name": "stdout",
          "text": [
            "0.25262023149889656\n"
          ]
        }
      ]
    },
    {
      "cell_type": "markdown",
      "metadata": {
        "id": "PSH6oMRtwPS0"
      },
      "source": [
        "### Preduct specific mental health indicators"
      ]
    },
    {
      "cell_type": "markdown",
      "metadata": {
        "id": "c43bHatXnoeY"
      },
      "source": [
        "#### Life Enjoyment"
      ]
    },
    {
      "cell_type": "markdown",
      "metadata": {
        "id": "RmvQcSeYoUc3"
      },
      "source": [
        "##### Standard Scaler"
      ]
    },
    {
      "cell_type": "code",
      "metadata": {
        "colab": {
          "base_uri": "https://localhost:8080/"
        },
        "id": "xM-SEe16opkW",
        "outputId": "fa594bc9-afbe-4447-abe3-f569f6598730"
      },
      "source": [
        "# training and test split\n",
        "from sklearn.model_selection import train_test_split\n",
        "\n",
        "# data = pd.get_dummies(data, drop_first=True)\n",
        "# We split the data up into a test set and a training set, 30 - 70 %\n",
        "# train_test_split\n",
        "# First argument: x data is all data without class column\n",
        "# Second argument:  this is the class label column\n",
        "# Random state = 0: ensures the train and test splitting is deterministic. \n",
        "\n",
        "X_train, X_test, y_train, y_test = train_test_split(data.drop(['life_enjoyment', # y\n",
        "             'gender', \n",
        "             'age', \n",
        "             'amount_music',\n",
        "             'trauma', \n",
        "             'resilience', \n",
        "             'balanced_life', \n",
        "             'emotional_flex', \n",
        "             'self_actualization',\n",
        "             'health_categorical',\n",
        "             'total_health',\n",
        "             'genres'],\n",
        "            axis = 1),\n",
        "            data['life_enjoyment'], # y to be predicted\n",
        "            test_size=0.3,\n",
        "            random_state=0) \n",
        "\n",
        "from sklearn.preprocessing import StandardScaler\n",
        "from sklearn.linear_model import Ridge\n",
        "from sklearn.pipeline import Pipeline\n",
        "\n",
        "featurepipe = Pipeline([('scaler', StandardScaler()),\n",
        "                 ('reg', Ridge())])\n",
        "\n",
        "featurepipe.fit(X_train, y_train)\n",
        "predicted = featurepipe.predict(X_test)\n",
        "\n",
        "# print MSE\n",
        "from sklearn.metrics import accuracy_score, mean_squared_error\n",
        "\n",
        "print(mean_squared_error(y_test, predicted))"
      ],
      "execution_count": 55,
      "outputs": [
        {
          "output_type": "stream",
          "name": "stdout",
          "text": [
            "3.350276149577869\n"
          ]
        }
      ]
    },
    {
      "cell_type": "markdown",
      "metadata": {
        "id": "1APRtPnooYGN"
      },
      "source": [
        "##### PCA"
      ]
    },
    {
      "cell_type": "code",
      "metadata": {
        "colab": {
          "base_uri": "https://localhost:8080/"
        },
        "id": "cL4tlraioqle",
        "outputId": "77624ba5-a9ae-48ca-fc2f-bfc009254dd3"
      },
      "source": [
        "# training and test split\n",
        "from sklearn.model_selection import train_test_split\n",
        "\n",
        "# data = pd.get_dummies(data, drop_first=True)\n",
        "# We split the data up into a test set and a training set, 30 - 70 %\n",
        "# train_test_split\n",
        "# First argument: x data is all data without class column\n",
        "# Second argument:  this is the class label column\n",
        "# Random state = 0: ensures the train and test splitting is deterministic. \n",
        "\n",
        "X_train, X_test, y_train, y_test = train_test_split(data.drop(['life_enjoyment', # y\n",
        "             'gender', \n",
        "             'age', \n",
        "             'amount_music',\n",
        "             'trauma', \n",
        "             'resilience', \n",
        "             'balanced_life', \n",
        "             'emotional_flex', \n",
        "             'self_actualization',\n",
        "             'health_categorical',\n",
        "             'total_health',\n",
        "             'genres'],\n",
        "            axis = 1),\n",
        "            data['life_enjoyment'], # y to be predicted\n",
        "            test_size=0.3,\n",
        "            random_state=0) \n",
        "\n",
        "from sklearn.decomposition import PCA\n",
        "from sklearn.linear_model import Ridge\n",
        "from sklearn.pipeline import Pipeline\n",
        "\n",
        "featurepipe = Pipeline([('pca', PCA()),\n",
        "                 ('reg', Ridge())])\n",
        "\n",
        "featurepipe.fit(X_train, y_train)\n",
        "predicted = featurepipe.predict(X_test)\n",
        "\n",
        "# print MSE\n",
        "from sklearn.metrics import accuracy_score, mean_squared_error\n",
        "\n",
        "print(mean_squared_error(y_test, predicted))"
      ],
      "execution_count": 56,
      "outputs": [
        {
          "output_type": "stream",
          "name": "stdout",
          "text": [
            "2.1961130755086984\n"
          ]
        }
      ]
    },
    {
      "cell_type": "markdown",
      "metadata": {
        "id": "gJP7b0McodIL"
      },
      "source": [
        "##### MinMax Scaler"
      ]
    },
    {
      "cell_type": "code",
      "metadata": {
        "colab": {
          "base_uri": "https://localhost:8080/"
        },
        "id": "XadmIcSVorkP",
        "outputId": "3b84170f-bf01-41ac-d2e1-3a5b9df3743e"
      },
      "source": [
        "# training and test split\n",
        "from sklearn.model_selection import train_test_split\n",
        "\n",
        "# data = pd.get_dummies(data, drop_first=True)\n",
        "# We split the data up into a test set and a training set, 30 - 70 %\n",
        "# train_test_split\n",
        "# First argument: x data is all data without class column\n",
        "# Second argument:  this is the class label column\n",
        "# Random state = 0: ensures the train and test splitting is deterministic. \n",
        "\n",
        "X_train, X_test, y_train, y_test = train_test_split(data.drop(['life_enjoyment', # y\n",
        "             'gender', \n",
        "             'age', \n",
        "             'amount_music',\n",
        "             'trauma', \n",
        "             'resilience', \n",
        "             'balanced_life', \n",
        "             'emotional_flex', \n",
        "             'self_actualization',\n",
        "             'health_categorical',\n",
        "             'total_health',\n",
        "             'genres'],\n",
        "            axis = 1),\n",
        "            data['life_enjoyment'], # y to be predicted\n",
        "            test_size=0.3,\n",
        "            random_state=0) \n",
        "\n",
        "from sklearn.preprocessing import MinMaxScaler\n",
        "from sklearn.linear_model import Ridge\n",
        "from sklearn.pipeline import Pipeline\n",
        "\n",
        "featurepipe = Pipeline([('scaler', MinMaxScaler()),\n",
        "                 ('reg', Ridge())])\n",
        "\n",
        "featurepipe.fit(X_train, y_train)\n",
        "predicted = featurepipe.predict(X_test)\n",
        "\n",
        "# print MSE\n",
        "from sklearn.metrics import accuracy_score, mean_squared_error\n",
        "\n",
        "print(mean_squared_error(y_test, predicted))"
      ],
      "execution_count": 57,
      "outputs": [
        {
          "output_type": "stream",
          "name": "stdout",
          "text": [
            "2.1950032871191465\n"
          ]
        }
      ]
    },
    {
      "cell_type": "markdown",
      "metadata": {
        "id": "aiGZAXBsof4G"
      },
      "source": [
        "##### Function Transformer"
      ]
    },
    {
      "cell_type": "code",
      "metadata": {
        "colab": {
          "base_uri": "https://localhost:8080/"
        },
        "id": "61O1QL7xoswZ",
        "outputId": "e794d99e-cef4-40b2-f909-07debb1166a8"
      },
      "source": [
        "# training and test split\n",
        "from sklearn.model_selection import train_test_split\n",
        "\n",
        "# data = pd.get_dummies(data, drop_first=True)\n",
        "# We split the data up into a test set and a training set, 30 - 70 %\n",
        "# train_test_split\n",
        "# First argument: x data is all data without class column\n",
        "# Second argument:  this is the class label column\n",
        "# Random state = 0: ensures the train and test splitting is deterministic. \n",
        "\n",
        "X_train, X_test, y_train, y_test = train_test_split(data.drop(['life_enjoyment', # y\n",
        "             'gender', \n",
        "             'age', \n",
        "             'amount_music',\n",
        "             'trauma', \n",
        "             'resilience', \n",
        "             'balanced_life', \n",
        "             'emotional_flex', \n",
        "             'self_actualization',\n",
        "             'health_categorical',\n",
        "             'total_health',\n",
        "             'genres'],\n",
        "            axis = 1),\n",
        "            data['life_enjoyment'], # y to be predicted\n",
        "            test_size=0.3,\n",
        "            random_state=0) \n",
        "\n",
        "from sklearn.preprocessing import FunctionTransformer\n",
        "from sklearn.linear_model import Ridge\n",
        "from sklearn.pipeline import Pipeline\n",
        "\n",
        "featurepipe = Pipeline([('scaler', FunctionTransformer()),\n",
        "                 ('reg', Ridge())])\n",
        "\n",
        "featurepipe.fit(X_train, y_train)\n",
        "predicted = featurepipe.predict(X_test)\n",
        "\n",
        "# print MSE\n",
        "from sklearn.metrics import accuracy_score, mean_squared_error\n",
        "\n",
        "print(mean_squared_error(y_test, predicted))"
      ],
      "execution_count": 58,
      "outputs": [
        {
          "output_type": "stream",
          "name": "stdout",
          "text": [
            "2.1961130755026437\n"
          ]
        }
      ]
    },
    {
      "cell_type": "markdown",
      "metadata": {
        "id": "HjQ5L3cvnuI0"
      },
      "source": [
        "#### Resilience"
      ]
    },
    {
      "cell_type": "markdown",
      "metadata": {
        "id": "mPCJC9UToujh"
      },
      "source": [
        "##### Standard Scaler"
      ]
    },
    {
      "cell_type": "code",
      "metadata": {
        "colab": {
          "base_uri": "https://localhost:8080/"
        },
        "id": "iJY3_xtppBni",
        "outputId": "99fd07c5-f883-4c8b-aae2-1bcb623bd1e4"
      },
      "source": [
        "# training and test split\n",
        "from sklearn.model_selection import train_test_split\n",
        "\n",
        "# data = pd.get_dummies(data, drop_first=True)\n",
        "# We split the data up into a test set and a training set, 30 - 70 %\n",
        "# train_test_split\n",
        "# First argument: x data is all data without class column\n",
        "# Second argument:  this is the class label column\n",
        "# Random state = 0: ensures the train and test splitting is deterministic. \n",
        "\n",
        "X_train, X_test, y_train, y_test = train_test_split(data.drop(['resilience', # y\n",
        "             'gender', \n",
        "             'age', \n",
        "             'amount_music',\n",
        "             'trauma', \n",
        "             'life_enjoyment', \n",
        "             'balanced_life', \n",
        "             'emotional_flex', \n",
        "             'self_actualization',\n",
        "             'health_categorical',\n",
        "             'total_health',\n",
        "             'genres'],\n",
        "            axis = 1),\n",
        "            data['resilience'], # y to be predicted\n",
        "            test_size=0.3,\n",
        "            random_state=0) \n",
        "\n",
        "from sklearn.preprocessing import StandardScaler\n",
        "from sklearn.linear_model import Ridge\n",
        "from sklearn.pipeline import Pipeline\n",
        "\n",
        "featurepipe = Pipeline([('scaler', StandardScaler()),\n",
        "                 ('reg', Ridge())])\n",
        "\n",
        "featurepipe.fit(X_train, y_train)\n",
        "predicted = featurepipe.predict(X_test)\n",
        "\n",
        "# print MSE\n",
        "from sklearn.metrics import accuracy_score, mean_squared_error\n",
        "\n",
        "print(mean_squared_error(y_test, predicted))"
      ],
      "execution_count": 59,
      "outputs": [
        {
          "output_type": "stream",
          "name": "stdout",
          "text": [
            "2.5483162995143633\n"
          ]
        }
      ]
    },
    {
      "cell_type": "markdown",
      "metadata": {
        "id": "7To24j5wozwO"
      },
      "source": [
        "##### PCA"
      ]
    },
    {
      "cell_type": "code",
      "metadata": {
        "colab": {
          "base_uri": "https://localhost:8080/"
        },
        "id": "-82JaiUNpDGi",
        "outputId": "fc687072-0ece-41ba-cd43-7faf9e437e30"
      },
      "source": [
        "# training and test split\n",
        "from sklearn.model_selection import train_test_split\n",
        "\n",
        "# data = pd.get_dummies(data, drop_first=True)\n",
        "# We split the data up into a test set and a training set, 30 - 70 %\n",
        "# train_test_split\n",
        "# First argument: x data is all data without class column\n",
        "# Second argument:  this is the class label column\n",
        "# Random state = 0: ensures the train and test splitting is deterministic. \n",
        "\n",
        "X_train, X_test, y_train, y_test = train_test_split(data.drop(['resilience', # y\n",
        "             'gender', \n",
        "             'age', \n",
        "             'amount_music',\n",
        "             'trauma', \n",
        "             'life_enjoyment', \n",
        "             'balanced_life', \n",
        "             'emotional_flex', \n",
        "             'self_actualization',\n",
        "             'health_categorical',\n",
        "             'total_health',\n",
        "             'genres'],\n",
        "            axis = 1),\n",
        "            data['resilience'], # y to be predicted\n",
        "            test_size=0.3,\n",
        "            random_state=0) \n",
        "\n",
        "from sklearn.decomposition import PCA\n",
        "from sklearn.linear_model import Ridge\n",
        "from sklearn.pipeline import Pipeline\n",
        "\n",
        "featurepipe = Pipeline([('pca', PCA()),\n",
        "                 ('reg', Ridge())])\n",
        "\n",
        "featurepipe.fit(X_train, y_train)\n",
        "predicted = featurepipe.predict(X_test)\n",
        "\n",
        "# print MSE\n",
        "from sklearn.metrics import accuracy_score, mean_squared_error\n",
        "\n",
        "print(mean_squared_error(y_test, predicted))"
      ],
      "execution_count": 60,
      "outputs": [
        {
          "output_type": "stream",
          "name": "stdout",
          "text": [
            "1.7876853308083973\n"
          ]
        }
      ]
    },
    {
      "cell_type": "markdown",
      "metadata": {
        "id": "gnzFOkrOo5la"
      },
      "source": [
        "##### MinMax Scaler"
      ]
    },
    {
      "cell_type": "code",
      "metadata": {
        "colab": {
          "base_uri": "https://localhost:8080/"
        },
        "id": "_G0Lx03lpEfN",
        "outputId": "f7ac41a4-7b95-435e-d45c-a2092c313b98"
      },
      "source": [
        "# training and test split\n",
        "from sklearn.model_selection import train_test_split\n",
        "\n",
        "# data = pd.get_dummies(data, drop_first=True)\n",
        "# We split the data up into a test set and a training set, 30 - 70 %\n",
        "# train_test_split\n",
        "# First argument: x data is all data without class column\n",
        "# Second argument:  this is the class label column\n",
        "# Random state = 0: ensures the train and test splitting is deterministic. \n",
        "\n",
        "X_train, X_test, y_train, y_test = train_test_split(data.drop(['resilience', # y\n",
        "             'gender', \n",
        "             'age', \n",
        "             'amount_music',\n",
        "             'trauma', \n",
        "             'life_enjoyment', \n",
        "             'balanced_life', \n",
        "             'emotional_flex', \n",
        "             'self_actualization',\n",
        "             'health_categorical',\n",
        "             'total_health',\n",
        "             'genres'],\n",
        "            axis = 1),\n",
        "            data['resilience'], # y to be predicted\n",
        "            test_size=0.3,\n",
        "            random_state=0) \n",
        "\n",
        "from sklearn.preprocessing import MinMaxScaler\n",
        "from sklearn.linear_model import Ridge\n",
        "from sklearn.pipeline import Pipeline\n",
        "\n",
        "featurepipe = Pipeline([('scaler', MinMaxScaler()),\n",
        "                 ('reg', Ridge())])\n",
        "\n",
        "featurepipe.fit(X_train, y_train)\n",
        "predicted = featurepipe.predict(X_test)\n",
        "\n",
        "# print MSE\n",
        "from sklearn.metrics import accuracy_score, mean_squared_error\n",
        "\n",
        "print(mean_squared_error(y_test, predicted))"
      ],
      "execution_count": 61,
      "outputs": [
        {
          "output_type": "stream",
          "name": "stdout",
          "text": [
            "1.7880077955638627\n"
          ]
        }
      ]
    },
    {
      "cell_type": "markdown",
      "metadata": {
        "id": "PH7yOUpko9L6"
      },
      "source": [
        "##### Function Transformer"
      ]
    },
    {
      "cell_type": "code",
      "metadata": {
        "colab": {
          "base_uri": "https://localhost:8080/"
        },
        "id": "RmWJcxVfpF9P",
        "outputId": "7f790085-a395-4bcc-a4d8-993bcfd4da8e"
      },
      "source": [
        "# training and test split\n",
        "from sklearn.model_selection import train_test_split\n",
        "\n",
        "# data = pd.get_dummies(data, drop_first=True)\n",
        "# We split the data up into a test set and a training set, 30 - 70 %\n",
        "# train_test_split\n",
        "# First argument: x data is all data without class column\n",
        "# Second argument:  this is the class label column\n",
        "# Random state = 0: ensures the train and test splitting is deterministic. \n",
        "\n",
        "X_train, X_test, y_train, y_test = train_test_split(data.drop(['resilience', # y\n",
        "             'gender', \n",
        "             'age', \n",
        "             'amount_music',\n",
        "             'trauma', \n",
        "             'life_enjoyment', \n",
        "             'balanced_life', \n",
        "             'emotional_flex', \n",
        "             'self_actualization',\n",
        "             'health_categorical',\n",
        "             'total_health',\n",
        "             'genres'],\n",
        "            axis = 1),\n",
        "            data['resilience'], # y to be predicted\n",
        "            test_size=0.3,\n",
        "            random_state=0) \n",
        "\n",
        "from sklearn.preprocessing import FunctionTransformer\n",
        "from sklearn.linear_model import Ridge\n",
        "from sklearn.pipeline import Pipeline\n",
        "\n",
        "featurepipe = Pipeline([('scaler', FunctionTransformer()),\n",
        "                 ('reg', Ridge())])\n",
        "\n",
        "featurepipe.fit(X_train, y_train)\n",
        "predicted = featurepipe.predict(X_test)\n",
        "\n",
        "# print MSE\n",
        "from sklearn.metrics import accuracy_score, mean_squared_error\n",
        "\n",
        "print(mean_squared_error(y_test, predicted))"
      ],
      "execution_count": 62,
      "outputs": [
        {
          "output_type": "stream",
          "name": "stdout",
          "text": [
            "1.787685330806692\n"
          ]
        }
      ]
    },
    {
      "cell_type": "markdown",
      "metadata": {
        "id": "MzGWOje3nw_J"
      },
      "source": [
        "#### Balanced Life"
      ]
    },
    {
      "cell_type": "markdown",
      "metadata": {
        "id": "i0Y9EVBopILk"
      },
      "source": [
        "##### Standard Scaler"
      ]
    },
    {
      "cell_type": "code",
      "metadata": {
        "colab": {
          "base_uri": "https://localhost:8080/"
        },
        "id": "Hpu74uQ1qDud",
        "outputId": "7db07443-1b4a-467f-ce35-d9ca16b36dd9"
      },
      "source": [
        "# training and test split\n",
        "from sklearn.model_selection import train_test_split\n",
        "\n",
        "# data = pd.get_dummies(data, drop_first=True)\n",
        "# We split the data up into a test set and a training set, 30 - 70 %\n",
        "# train_test_split\n",
        "# First argument: x data is all data without class column\n",
        "# Second argument:  this is the class label column\n",
        "# Random state = 0: ensures the train and test splitting is deterministic. \n",
        "\n",
        "X_train, X_test, y_train, y_test = train_test_split(data.drop(['balanced_life', # y\n",
        "             'gender', \n",
        "             'age', \n",
        "             'amount_music',\n",
        "             'trauma', \n",
        "             'life_enjoyment', \n",
        "             'resilience', \n",
        "             'emotional_flex', \n",
        "             'self_actualization',\n",
        "             'health_categorical',\n",
        "             'total_health',\n",
        "             'genres'],\n",
        "            axis = 1),\n",
        "            data['balanced_life'], # y to be predicted\n",
        "            test_size=0.3,\n",
        "            random_state=0) \n",
        "\n",
        "from sklearn.preprocessing import StandardScaler\n",
        "from sklearn.linear_model import Ridge\n",
        "from sklearn.pipeline import Pipeline\n",
        "\n",
        "featurepipe = Pipeline([('scaler', StandardScaler()),\n",
        "                 ('reg', Ridge())])\n",
        "\n",
        "featurepipe.fit(X_train, y_train)\n",
        "predicted = featurepipe.predict(X_test)\n",
        "\n",
        "# print MSE\n",
        "from sklearn.metrics import accuracy_score, mean_squared_error\n",
        "\n",
        "print(mean_squared_error(y_test, predicted))"
      ],
      "execution_count": 63,
      "outputs": [
        {
          "output_type": "stream",
          "name": "stdout",
          "text": [
            "3.718031491794366\n"
          ]
        }
      ]
    },
    {
      "cell_type": "markdown",
      "metadata": {
        "id": "JZP2TthNpMrV"
      },
      "source": [
        "##### PCA"
      ]
    },
    {
      "cell_type": "code",
      "metadata": {
        "colab": {
          "base_uri": "https://localhost:8080/"
        },
        "id": "Eby3QJkNqCz7",
        "outputId": "252e1dae-fd14-4040-8632-e363f10fc471"
      },
      "source": [
        "# training and test split\n",
        "from sklearn.model_selection import train_test_split\n",
        "\n",
        "# data = pd.get_dummies(data, drop_first=True)\n",
        "# We split the data up into a test set and a training set, 30 - 70 %\n",
        "# train_test_split\n",
        "# First argument: x data is all data without class column\n",
        "# Second argument:  this is the class label column\n",
        "# Random state = 0: ensures the train and test splitting is deterministic. \n",
        "\n",
        "X_train, X_test, y_train, y_test = train_test_split(data.drop(['balanced_life', # y\n",
        "             'gender', \n",
        "             'age', \n",
        "             'amount_music',\n",
        "             'trauma', \n",
        "             'life_enjoyment', \n",
        "             'resilience', \n",
        "             'emotional_flex', \n",
        "             'self_actualization',\n",
        "             'health_categorical',\n",
        "             'total_health',\n",
        "             'genres'],\n",
        "            axis = 1),\n",
        "            data['balanced_life'], # y to be predicted\n",
        "            test_size=0.3,\n",
        "            random_state=0) \n",
        "\n",
        "from sklearn.decomposition import PCA\n",
        "from sklearn.linear_model import Ridge\n",
        "from sklearn.pipeline import Pipeline\n",
        "\n",
        "featurepipe = Pipeline([('pca', PCA()),\n",
        "                 ('reg', Ridge())])\n",
        "\n",
        "featurepipe.fit(X_train, y_train)\n",
        "predicted = featurepipe.predict(X_test)\n",
        "\n",
        "# print MSE\n",
        "from sklearn.metrics import accuracy_score, mean_squared_error\n",
        "\n",
        "print(mean_squared_error(y_test, predicted))"
      ],
      "execution_count": 64,
      "outputs": [
        {
          "output_type": "stream",
          "name": "stdout",
          "text": [
            "2.2844670463159575\n"
          ]
        }
      ]
    },
    {
      "cell_type": "markdown",
      "metadata": {
        "id": "PXywmMmjpPN0"
      },
      "source": [
        "##### MinMax Scaler"
      ]
    },
    {
      "cell_type": "code",
      "metadata": {
        "colab": {
          "base_uri": "https://localhost:8080/"
        },
        "id": "oyOMzOQ7qB2B",
        "outputId": "7dcd65bb-f0de-4c56-903d-1eb88e23c2d3"
      },
      "source": [
        "# training and test split\n",
        "from sklearn.model_selection import train_test_split\n",
        "\n",
        "# data = pd.get_dummies(data, drop_first=True)\n",
        "# We split the data up into a test set and a training set, 30 - 70 %\n",
        "# train_test_split\n",
        "# First argument: x data is all data without class column\n",
        "# Second argument:  this is the class label column\n",
        "# Random state = 0: ensures the train and test splitting is deterministic. \n",
        "\n",
        "X_train, X_test, y_train, y_test = train_test_split(data.drop(['balanced_life', # y\n",
        "             'gender', \n",
        "             'age', \n",
        "             'amount_music',\n",
        "             'trauma', \n",
        "             'life_enjoyment', \n",
        "             'resilience', \n",
        "             'emotional_flex', \n",
        "             'self_actualization',\n",
        "             'health_categorical',\n",
        "             'total_health',\n",
        "             'genres'],\n",
        "            axis = 1),\n",
        "            data['balanced_life'], # y to be predicted\n",
        "            test_size=0.3,\n",
        "            random_state=0) \n",
        "\n",
        "from sklearn.preprocessing import MinMaxScaler\n",
        "from sklearn.linear_model import Ridge\n",
        "from sklearn.pipeline import Pipeline\n",
        "\n",
        "featurepipe = Pipeline([('scaler', MinMaxScaler()),\n",
        "                 ('reg', Ridge())])\n",
        "\n",
        "featurepipe.fit(X_train, y_train)\n",
        "predicted = featurepipe.predict(X_test)\n",
        "\n",
        "# print MSE\n",
        "from sklearn.metrics import accuracy_score, mean_squared_error\n",
        "\n",
        "print(mean_squared_error(y_test, predicted))"
      ],
      "execution_count": 65,
      "outputs": [
        {
          "output_type": "stream",
          "name": "stdout",
          "text": [
            "2.284386053081449\n"
          ]
        }
      ]
    },
    {
      "cell_type": "markdown",
      "metadata": {
        "id": "bb49L5pnpVFd"
      },
      "source": [
        "##### Function Transformer"
      ]
    },
    {
      "cell_type": "code",
      "metadata": {
        "colab": {
          "base_uri": "https://localhost:8080/"
        },
        "id": "q78Tu1L0qAJ4",
        "outputId": "85567d4c-ca89-40d1-ed11-f0f179878459"
      },
      "source": [
        "# training and test split\n",
        "from sklearn.model_selection import train_test_split\n",
        "\n",
        "# data = pd.get_dummies(data, drop_first=True)\n",
        "# We split the data up into a test set and a training set, 30 - 70 %\n",
        "# train_test_split\n",
        "# First argument: x data is all data without class column\n",
        "# Second argument:  this is the class label column\n",
        "# Random state = 0: ensures the train and test splitting is deterministic. \n",
        "\n",
        "X_train, X_test, y_train, y_test = train_test_split(data.drop(['balanced_life', # y\n",
        "             'gender', \n",
        "             'age', \n",
        "             'amount_music',\n",
        "             'trauma', \n",
        "             'life_enjoyment', \n",
        "             'resilience', \n",
        "             'emotional_flex', \n",
        "             'self_actualization',\n",
        "             'health_categorical',\n",
        "             'total_health',\n",
        "             'genres'],\n",
        "            axis = 1),\n",
        "            data['balanced_life'], # y to be predicted\n",
        "            test_size=0.3,\n",
        "            random_state=0) \n",
        "\n",
        "from sklearn.preprocessing import FunctionTransformer\n",
        "from sklearn.linear_model import Ridge\n",
        "from sklearn.pipeline import Pipeline\n",
        "\n",
        "featurepipe = Pipeline([('scaler', FunctionTransformer()),\n",
        "                 ('reg', Ridge())])\n",
        "\n",
        "featurepipe.fit(X_train, y_train)\n",
        "predicted = featurepipe.predict(X_test)\n",
        "\n",
        "# print MSE\n",
        "from sklearn.metrics import accuracy_score, mean_squared_error\n",
        "\n",
        "print(mean_squared_error(y_test, predicted))"
      ],
      "execution_count": 66,
      "outputs": [
        {
          "output_type": "stream",
          "name": "stdout",
          "text": [
            "2.2844670463106755\n"
          ]
        }
      ]
    },
    {
      "cell_type": "markdown",
      "metadata": {
        "id": "Rk29sjcun2CU"
      },
      "source": [
        "#### Emotional Flexibility"
      ]
    },
    {
      "cell_type": "markdown",
      "metadata": {
        "id": "2TahI5-hpax6"
      },
      "source": [
        "##### Standard Scaler"
      ]
    },
    {
      "cell_type": "code",
      "metadata": {
        "colab": {
          "base_uri": "https://localhost:8080/"
        },
        "id": "IoLV24W2p-sH",
        "outputId": "39afa8a4-9771-4e8d-cbd2-487810eaa4bf"
      },
      "source": [
        "# training and test split\n",
        "from sklearn.model_selection import train_test_split\n",
        "\n",
        "# data = pd.get_dummies(data, drop_first=True)\n",
        "# We split the data up into a test set and a training set, 30 - 70 %\n",
        "# train_test_split\n",
        "# First argument: x data is all data without class column\n",
        "# Second argument:  this is the class label column\n",
        "# Random state = 0: ensures the train and test splitting is deterministic. \n",
        "\n",
        "X_train, X_test, y_train, y_test = train_test_split(data.drop(['emotional_flex', # y\n",
        "             'gender', \n",
        "             'age', \n",
        "             'amount_music',\n",
        "             'trauma', \n",
        "             'life_enjoyment', \n",
        "             'resilience', \n",
        "             'balanced_life', \n",
        "             'self_actualization',\n",
        "             'health_categorical',\n",
        "             'total_health',\n",
        "             'genres'],\n",
        "            axis = 1),\n",
        "            data['emotional_flex'], # y to be predicted\n",
        "            test_size=0.3,\n",
        "            random_state=0) \n",
        "\n",
        "from sklearn.preprocessing import StandardScaler\n",
        "from sklearn.linear_model import Ridge\n",
        "from sklearn.pipeline import Pipeline\n",
        "\n",
        "featurepipe = Pipeline([('scaler', StandardScaler()),\n",
        "                 ('reg', Ridge())])\n",
        "\n",
        "featurepipe.fit(X_train, y_train)\n",
        "predicted = featurepipe.predict(X_test)\n",
        "\n",
        "# print MSE\n",
        "from sklearn.metrics import accuracy_score, mean_squared_error\n",
        "\n",
        "print(mean_squared_error(y_test, predicted))"
      ],
      "execution_count": 67,
      "outputs": [
        {
          "output_type": "stream",
          "name": "stdout",
          "text": [
            "4.080889251936879\n"
          ]
        }
      ]
    },
    {
      "cell_type": "markdown",
      "metadata": {
        "id": "BoOzR1bWpdIT"
      },
      "source": [
        "##### PCA"
      ]
    },
    {
      "cell_type": "code",
      "metadata": {
        "colab": {
          "base_uri": "https://localhost:8080/"
        },
        "id": "tUTJFJacp88q",
        "outputId": "f2cb03db-bf23-4e14-ca1a-0b56acd3062e"
      },
      "source": [
        "# training and test split\n",
        "from sklearn.model_selection import train_test_split\n",
        "\n",
        "# data = pd.get_dummies(data, drop_first=True)\n",
        "# We split the data up into a test set and a training set, 30 - 70 %\n",
        "# train_test_split\n",
        "# First argument: x data is all data without class column\n",
        "# Second argument:  this is the class label column\n",
        "# Random state = 0: ensures the train and test splitting is deterministic. \n",
        "\n",
        "X_train, X_test, y_train, y_test = train_test_split(data.drop(['emotional_flex', # y\n",
        "             'gender', \n",
        "             'age', \n",
        "             'amount_music',\n",
        "             'trauma', \n",
        "             'life_enjoyment', \n",
        "             'resilience', \n",
        "             'balanced_life', \n",
        "             'self_actualization',\n",
        "             'health_categorical',\n",
        "             'total_health',\n",
        "             'genres'],\n",
        "            axis = 1),\n",
        "            data['emotional_flex'], # y to be predicted\n",
        "            test_size=0.3,\n",
        "            random_state=0) \n",
        "\n",
        "from sklearn.decomposition import PCA\n",
        "from sklearn.linear_model import Ridge\n",
        "from sklearn.pipeline import Pipeline\n",
        "\n",
        "featurepipe = Pipeline([('pca', PCA()),\n",
        "                 ('reg', Ridge())])\n",
        "\n",
        "featurepipe.fit(X_train, y_train)\n",
        "predicted = featurepipe.predict(X_test)\n",
        "\n",
        "# print MSE\n",
        "from sklearn.metrics import accuracy_score, mean_squared_error\n",
        "\n",
        "print(mean_squared_error(y_test, predicted))"
      ],
      "execution_count": 68,
      "outputs": [
        {
          "output_type": "stream",
          "name": "stdout",
          "text": [
            "2.8162087725502647\n"
          ]
        }
      ]
    },
    {
      "cell_type": "markdown",
      "metadata": {
        "id": "UZGkwuqDpfMV"
      },
      "source": [
        "##### MinMax Scaler"
      ]
    },
    {
      "cell_type": "code",
      "metadata": {
        "colab": {
          "base_uri": "https://localhost:8080/"
        },
        "id": "r7vFyl60p74y",
        "outputId": "1caedad0-a382-4ae7-c8a4-4475d7a8f688"
      },
      "source": [
        "# training and test split\n",
        "from sklearn.model_selection import train_test_split\n",
        "\n",
        "# data = pd.get_dummies(data, drop_first=True)\n",
        "# We split the data up into a test set and a training set, 30 - 70 %\n",
        "# train_test_split\n",
        "# First argument: x data is all data without class column\n",
        "# Second argument:  this is the class label column\n",
        "# Random state = 0: ensures the train and test splitting is deterministic. \n",
        "\n",
        "X_train, X_test, y_train, y_test = train_test_split(data.drop(['emotional_flex', # y\n",
        "             'gender', \n",
        "             'age', \n",
        "             'amount_music',\n",
        "             'trauma', \n",
        "             'life_enjoyment', \n",
        "             'resilience', \n",
        "             'balanced_life', \n",
        "             'self_actualization',\n",
        "             'health_categorical',\n",
        "             'total_health',\n",
        "             'genres'],\n",
        "            axis = 1),\n",
        "            data['emotional_flex'], # y to be predicted\n",
        "            test_size=0.3,\n",
        "            random_state=0) \n",
        "\n",
        "from sklearn.preprocessing import MinMaxScaler\n",
        "from sklearn.linear_model import Ridge\n",
        "from sklearn.pipeline import Pipeline\n",
        "\n",
        "featurepipe = Pipeline([('scaler', MinMaxScaler()),\n",
        "                 ('reg', Ridge())])\n",
        "\n",
        "featurepipe.fit(X_train, y_train)\n",
        "predicted = featurepipe.predict(X_test)\n",
        "\n",
        "# print MSE\n",
        "from sklearn.metrics import accuracy_score, mean_squared_error\n",
        "\n",
        "print(mean_squared_error(y_test, predicted))"
      ],
      "execution_count": 69,
      "outputs": [
        {
          "output_type": "stream",
          "name": "stdout",
          "text": [
            "2.8094069935216024\n"
          ]
        }
      ]
    },
    {
      "cell_type": "markdown",
      "metadata": {
        "id": "3y7J4SeKpkVl"
      },
      "source": [
        "##### Function Transformer"
      ]
    },
    {
      "cell_type": "code",
      "metadata": {
        "colab": {
          "base_uri": "https://localhost:8080/"
        },
        "id": "iqK1bj_8p6ew",
        "outputId": "a3309da8-24d0-4b8c-8af0-dfc8b1cbf3ee"
      },
      "source": [
        "# training and test split\n",
        "from sklearn.model_selection import train_test_split\n",
        "\n",
        "# data = pd.get_dummies(data, drop_first=True)\n",
        "# We split the data up into a test set and a training set, 30 - 70 %\n",
        "# train_test_split\n",
        "# First argument: x data is all data without class column\n",
        "# Second argument:  this is the class label column\n",
        "# Random state = 0: ensures the train and test splitting is deterministic. \n",
        "\n",
        "X_train, X_test, y_train, y_test = train_test_split(data.drop(['emotional_flex', # y\n",
        "             'gender', \n",
        "             'age', \n",
        "             'amount_music',\n",
        "             'trauma', \n",
        "             'life_enjoyment', \n",
        "             'resilience', \n",
        "             'balanced_life', \n",
        "             'self_actualization',\n",
        "             'health_categorical',\n",
        "             'total_health',\n",
        "             'genres'],\n",
        "            axis = 1),\n",
        "            data['emotional_flex'], # y to be predicted\n",
        "            test_size=0.3,\n",
        "            random_state=0) \n",
        "\n",
        "from sklearn.preprocessing import FunctionTransformer\n",
        "from sklearn.linear_model import Ridge\n",
        "from sklearn.pipeline import Pipeline\n",
        "\n",
        "featurepipe = Pipeline([('scaler', FunctionTransformer()),\n",
        "                 ('reg', Ridge())])\n",
        "\n",
        "featurepipe.fit(X_train, y_train)\n",
        "predicted = featurepipe.predict(X_test)\n",
        "\n",
        "# print MSE\n",
        "from sklearn.metrics import accuracy_score, mean_squared_error\n",
        "\n",
        "print(mean_squared_error(y_test, predicted))"
      ],
      "execution_count": 70,
      "outputs": [
        {
          "output_type": "stream",
          "name": "stdout",
          "text": [
            "2.816208772549627\n"
          ]
        }
      ]
    },
    {
      "cell_type": "markdown",
      "metadata": {
        "id": "wnPJRoC0n_gB"
      },
      "source": [
        "#### Self Actualization"
      ]
    },
    {
      "cell_type": "markdown",
      "metadata": {
        "id": "8OFb-mqZppjM"
      },
      "source": [
        "##### Standard Scaler"
      ]
    },
    {
      "cell_type": "code",
      "metadata": {
        "colab": {
          "base_uri": "https://localhost:8080/"
        },
        "id": "JaHhQg1wp5Bj",
        "outputId": "ac0b9acb-bdd5-4121-a4b1-65fb9ced9adc"
      },
      "source": [
        "# training and test split\n",
        "from sklearn.model_selection import train_test_split\n",
        "\n",
        "# data = pd.get_dummies(data, drop_first=True)\n",
        "# We split the data up into a test set and a training set, 30 - 70 %\n",
        "# train_test_split\n",
        "# First argument: x data is all data without class column\n",
        "# Second argument:  this is the class label column\n",
        "# Random state = 0: ensures the train and test splitting is deterministic. \n",
        "\n",
        "X_train, X_test, y_train, y_test = train_test_split(data.drop(['self_actualization', # y\n",
        "             'gender', \n",
        "             'age', \n",
        "             'amount_music',\n",
        "             'trauma', \n",
        "             'life_enjoyment', \n",
        "             'resilience', \n",
        "             'balanced_life', \n",
        "             'emotional_flex',\n",
        "             'health_categorical',\n",
        "             'total_health',\n",
        "             'genres'],\n",
        "            axis = 1),\n",
        "            data['self_actualization'], # y to be predicted\n",
        "            test_size=0.3,\n",
        "            random_state=0) \n",
        "\n",
        "from sklearn.preprocessing import StandardScaler\n",
        "from sklearn.linear_model import Ridge\n",
        "from sklearn.pipeline import Pipeline\n",
        "\n",
        "featurepipe = Pipeline([('scaler', StandardScaler()),\n",
        "                 ('reg', Ridge())])\n",
        "\n",
        "featurepipe.fit(X_train, y_train)\n",
        "predicted = featurepipe.predict(X_test)\n",
        "\n",
        "# print MSE\n",
        "from sklearn.metrics import accuracy_score, mean_squared_error\n",
        "\n",
        "print(mean_squared_error(y_test, predicted))"
      ],
      "execution_count": 71,
      "outputs": [
        {
          "output_type": "stream",
          "name": "stdout",
          "text": [
            "4.170529757744025\n"
          ]
        }
      ]
    },
    {
      "cell_type": "markdown",
      "metadata": {
        "id": "2caG2KVjpsTh"
      },
      "source": [
        "##### PCA"
      ]
    },
    {
      "cell_type": "code",
      "metadata": {
        "colab": {
          "base_uri": "https://localhost:8080/"
        },
        "id": "_vaiZ8PSp4AB",
        "outputId": "8ade0e1d-c9d1-4968-ebe3-03405033b943"
      },
      "source": [
        "# training and test split\n",
        "from sklearn.model_selection import train_test_split\n",
        "\n",
        "# data = pd.get_dummies(data, drop_first=True)\n",
        "# We split the data up into a test set and a training set, 30 - 70 %\n",
        "# train_test_split\n",
        "# First argument: x data is all data without class column\n",
        "# Second argument:  this is the class label column\n",
        "# Random state = 0: ensures the train and test splitting is deterministic. \n",
        "\n",
        "X_train, X_test, y_train, y_test = train_test_split(data.drop(['self_actualization', # y\n",
        "             'gender', \n",
        "             'age', \n",
        "             'amount_music',\n",
        "             'trauma', \n",
        "             'life_enjoyment', \n",
        "             'resilience', \n",
        "             'balanced_life', \n",
        "             'emotional_flex',\n",
        "             'health_categorical',\n",
        "             'total_health',\n",
        "             'genres'],\n",
        "            axis = 1),\n",
        "            data['self_actualization'], # y to be predicted\n",
        "            test_size=0.3,\n",
        "            random_state=0) \n",
        "\n",
        "from sklearn.decomposition import PCA\n",
        "from sklearn.linear_model import Ridge\n",
        "from sklearn.pipeline import Pipeline\n",
        "\n",
        "featurepipe = Pipeline([('pca', PCA()),\n",
        "                 ('reg', Ridge())])\n",
        "\n",
        "featurepipe.fit(X_train, y_train)\n",
        "predicted = featurepipe.predict(X_test)\n",
        "\n",
        "# print MSE\n",
        "from sklearn.metrics import accuracy_score, mean_squared_error\n",
        "\n",
        "print(mean_squared_error(y_test, predicted))"
      ],
      "execution_count": 72,
      "outputs": [
        {
          "output_type": "stream",
          "name": "stdout",
          "text": [
            "2.4778308064750285\n"
          ]
        }
      ]
    },
    {
      "cell_type": "markdown",
      "metadata": {
        "id": "GgVHzQ77puii"
      },
      "source": [
        "##### MinMax Scaler"
      ]
    },
    {
      "cell_type": "code",
      "metadata": {
        "colab": {
          "base_uri": "https://localhost:8080/"
        },
        "id": "AH5cQkPSp2-Q",
        "outputId": "bbec4dee-c4c8-498c-e7b9-1a793cb00fef"
      },
      "source": [
        "# training and test split\n",
        "from sklearn.model_selection import train_test_split\n",
        "\n",
        "# data = pd.get_dummies(data, drop_first=True)\n",
        "# We split the data up into a test set and a training set, 30 - 70 %\n",
        "# train_test_split\n",
        "# First argument: x data is all data without class column\n",
        "# Second argument:  this is the class label column\n",
        "# Random state = 0: ensures the train and test splitting is deterministic. \n",
        "\n",
        "X_train, X_test, y_train, y_test = train_test_split(data.drop(['self_actualization', # y\n",
        "             'gender', \n",
        "             'age', \n",
        "             'amount_music',\n",
        "             'trauma', \n",
        "             'life_enjoyment', \n",
        "             'resilience', \n",
        "             'balanced_life', \n",
        "             'emotional_flex',\n",
        "             'health_categorical',\n",
        "             'total_health',\n",
        "             'genres'],\n",
        "            axis = 1),\n",
        "            data['self_actualization'], # y to be predicted\n",
        "            test_size=0.3,\n",
        "            random_state=0) \n",
        "\n",
        "from sklearn.preprocessing import MinMaxScaler\n",
        "from sklearn.linear_model import Ridge\n",
        "from sklearn.pipeline import Pipeline\n",
        "\n",
        "featurepipe = Pipeline([('scaler', MinMaxScaler()),\n",
        "                 ('reg', Ridge())])\n",
        "\n",
        "featurepipe.fit(X_train, y_train)\n",
        "predicted = featurepipe.predict(X_test)\n",
        "\n",
        "# print MSE\n",
        "from sklearn.metrics import accuracy_score, mean_squared_error\n",
        "\n",
        "print(mean_squared_error(y_test, predicted))"
      ],
      "execution_count": 73,
      "outputs": [
        {
          "output_type": "stream",
          "name": "stdout",
          "text": [
            "2.478309942976805\n"
          ]
        }
      ]
    },
    {
      "cell_type": "markdown",
      "metadata": {
        "id": "bnEA3bDqpyJW"
      },
      "source": [
        "##### Function Transformer"
      ]
    },
    {
      "cell_type": "code",
      "metadata": {
        "colab": {
          "base_uri": "https://localhost:8080/"
        },
        "id": "n2bkajoMp15G",
        "outputId": "71d4672c-7491-4b74-b736-ad52e6f14416"
      },
      "source": [
        "# training and test split\n",
        "from sklearn.model_selection import train_test_split\n",
        "\n",
        "# data = pd.get_dummies(data, drop_first=True)\n",
        "# We split the data up into a test set and a training set, 30 - 70 %\n",
        "# train_test_split\n",
        "# First argument: x data is all data without class column\n",
        "# Second argument:  this is the class label column\n",
        "# Random state = 0: ensures the train and test splitting is deterministic. \n",
        "\n",
        "X_train, X_test, y_train, y_test = train_test_split(data.drop(['self_actualization', # y\n",
        "             'gender', \n",
        "             'age', \n",
        "             'amount_music',\n",
        "             'trauma', \n",
        "             'life_enjoyment', \n",
        "             'resilience', \n",
        "             'balanced_life', \n",
        "             'emotional_flex',\n",
        "             'health_categorical',\n",
        "             'total_health',\n",
        "             'genres'],\n",
        "            axis = 1),\n",
        "            data['self_actualization'], # y to be predicted\n",
        "            test_size=0.3,\n",
        "            random_state=0) \n",
        "\n",
        "from sklearn.preprocessing import FunctionTransformer\n",
        "from sklearn.linear_model import Ridge\n",
        "from sklearn.pipeline import Pipeline\n",
        "\n",
        "featurepipe = Pipeline([('scaler', FunctionTransformer()),\n",
        "                 ('reg', Ridge())])\n",
        "\n",
        "featurepipe.fit(X_train, y_train)\n",
        "predicted = featurepipe.predict(X_test)\n",
        "\n",
        "# print MSE\n",
        "from sklearn.metrics import accuracy_score, mean_squared_error\n",
        "\n",
        "print(mean_squared_error(y_test, predicted))"
      ],
      "execution_count": 74,
      "outputs": [
        {
          "output_type": "stream",
          "name": "stdout",
          "text": [
            "2.4778308064770473\n"
          ]
        }
      ]
    },
    {
      "cell_type": "markdown",
      "metadata": {
        "id": "rLDhXZiTwRhV"
      },
      "source": [
        "## Lasso Regression"
      ]
    },
    {
      "cell_type": "markdown",
      "metadata": {
        "id": "A6rO4wGCep5F"
      },
      "source": [
        "### Predict total health score"
      ]
    },
    {
      "cell_type": "markdown",
      "metadata": {
        "id": "kQFkbzvSevBP"
      },
      "source": [
        "#### Standard Scaler"
      ]
    },
    {
      "cell_type": "code",
      "metadata": {
        "colab": {
          "base_uri": "https://localhost:8080/"
        },
        "id": "_BqaSx6bexAo",
        "outputId": "46a5b0f3-4ed8-4b2d-a26d-6c447a558c12"
      },
      "source": [
        "# training and test split\n",
        "from sklearn.model_selection import train_test_split\n",
        "\n",
        "# data = pd.get_dummies(data, drop_first=True)\n",
        "# We split the data up into a test set and a training set, 30 - 70 %\n",
        "# train_test_split\n",
        "# First argument: x data is all data without class column\n",
        "# Second argument:  this is the class label column\n",
        "# Random state = 0: ensures the train and test splitting is deterministic. \n",
        "\n",
        "X_train, X_test, y_train, y_test = train_test_split(data.drop(['trauma', \n",
        "             'gender', \n",
        "             'age', \n",
        "             'amount_music',\n",
        "             'life_enjoyment', \n",
        "             'resilience', \n",
        "             'balanced_life', \n",
        "             'emotional_flex', \n",
        "             'self_actualization',\n",
        "             'health_categorical',\n",
        "             'total_health', # y\n",
        "             'genres'],\n",
        "            axis = 1),\n",
        "            data['total_health'], # y to be predicted\n",
        "            test_size=0.3,\n",
        "            random_state=0) \n",
        "\n",
        "from sklearn.preprocessing import StandardScaler\n",
        "from sklearn.linear_model import Lasso\n",
        "from sklearn.pipeline import Pipeline\n",
        "\n",
        "featurepipe = Pipeline([('scaler', StandardScaler()),\n",
        "                 ('reg', Lasso())])\n",
        "\n",
        "featurepipe.fit(X_train, y_train)\n",
        "predicted = featurepipe.predict(X_test)\n",
        "\n",
        "# print MSE\n",
        "from sklearn.metrics import accuracy_score, mean_squared_error\n",
        "\n",
        "print(mean_squared_error(y_test, predicted))"
      ],
      "execution_count": 75,
      "outputs": [
        {
          "output_type": "stream",
          "name": "stdout",
          "text": [
            "27.35078753197983\n"
          ]
        }
      ]
    },
    {
      "cell_type": "markdown",
      "metadata": {
        "id": "dvYVoQBSe1VP"
      },
      "source": [
        "#### PCA"
      ]
    },
    {
      "cell_type": "code",
      "metadata": {
        "id": "BSl78v1OfKo-",
        "colab": {
          "base_uri": "https://localhost:8080/"
        },
        "outputId": "6a914245-b0a9-450e-88b1-7ec12284806c"
      },
      "source": [
        "# training and test split\n",
        "from sklearn.model_selection import train_test_split\n",
        "\n",
        "# data = pd.get_dummies(data, drop_first=True)\n",
        "# We split the data up into a test set and a training set, 30 - 70 %\n",
        "# train_test_split\n",
        "# First argument: x data is all data without class column\n",
        "# Second argument:  this is the class label column\n",
        "# Random state = 0: ensures the train and test splitting is deterministic. \n",
        "\n",
        "X_train, X_test, y_train, y_test = train_test_split(data.drop(['trauma', \n",
        "             'gender', \n",
        "             'age', \n",
        "             'amount_music',\n",
        "             'life_enjoyment', \n",
        "             'resilience', \n",
        "             'balanced_life', \n",
        "             'emotional_flex', \n",
        "             'self_actualization',\n",
        "             'health_categorical',\n",
        "             'total_health', # y\n",
        "             'genres'],\n",
        "            axis = 1),\n",
        "            data['total_health'], # y to be predicted\n",
        "            test_size=0.3,\n",
        "            random_state=0) \n",
        "\n",
        "from sklearn.decomposition import PCA\n",
        "from sklearn.linear_model import Lasso\n",
        "from sklearn.pipeline import Pipeline\n",
        "\n",
        "featurepipe = Pipeline([('scaler', PCA()),\n",
        "                 ('reg', Lasso())])\n",
        "\n",
        "featurepipe.fit(X_train, y_train)\n",
        "predicted = featurepipe.predict(X_test)\n",
        "\n",
        "# print MSE\n",
        "from sklearn.metrics import accuracy_score, mean_squared_error\n",
        "\n",
        "print(mean_squared_error(y_test, predicted))"
      ],
      "execution_count": 76,
      "outputs": [
        {
          "output_type": "stream",
          "name": "stdout",
          "text": [
            "27.355032908426953\n"
          ]
        }
      ]
    },
    {
      "cell_type": "markdown",
      "metadata": {
        "id": "NwYUGWE8e3gY"
      },
      "source": [
        "#### MinMax Scaler"
      ]
    },
    {
      "cell_type": "code",
      "metadata": {
        "colab": {
          "base_uri": "https://localhost:8080/"
        },
        "id": "lIcxgCRXe80K",
        "outputId": "55d0bf7d-b034-4568-a3d3-9f6674acaba3"
      },
      "source": [
        "# training and test split\n",
        "from sklearn.model_selection import train_test_split\n",
        "\n",
        "# data = pd.get_dummies(data, drop_first=True)\n",
        "# We split the data up into a test set and a training set, 30 - 70 %\n",
        "# train_test_split\n",
        "# First argument: x data is all data without class column\n",
        "# Second argument:  this is the class label column\n",
        "# Random state = 0: ensures the train and test splitting is deterministic. \n",
        "\n",
        "X_train, X_test, y_train, y_test = train_test_split(data.drop(['trauma', \n",
        "             'gender', \n",
        "             'age', \n",
        "             'amount_music',\n",
        "             'life_enjoyment', \n",
        "             'resilience', \n",
        "             'balanced_life', \n",
        "             'emotional_flex', \n",
        "             'self_actualization',\n",
        "             'health_categorical',\n",
        "             'total_health', # y\n",
        "             'genres'],\n",
        "            axis = 1),\n",
        "            data['total_health'], # y to be predicted\n",
        "            test_size=0.3,\n",
        "            random_state=0) \n",
        "\n",
        "from sklearn.preprocessing import MinMaxScaler\n",
        "from sklearn.linear_model import Lasso\n",
        "from sklearn.pipeline import Pipeline\n",
        "\n",
        "featurepipe = Pipeline([('scaler', MinMaxScaler()),\n",
        "                 ('reg', Lasso())])\n",
        "\n",
        "featurepipe.fit(X_train, y_train)\n",
        "predicted = featurepipe.predict(X_test)\n",
        "\n",
        "# print MSE\n",
        "from sklearn.metrics import accuracy_score, mean_squared_error\n",
        "\n",
        "print(mean_squared_error(y_test, predicted))"
      ],
      "execution_count": 77,
      "outputs": [
        {
          "output_type": "stream",
          "name": "stdout",
          "text": [
            "27.35078753197983\n"
          ]
        }
      ]
    },
    {
      "cell_type": "markdown",
      "metadata": {
        "id": "V_LKVqX5fBOn"
      },
      "source": [
        "#### Function Transformer"
      ]
    },
    {
      "cell_type": "code",
      "metadata": {
        "colab": {
          "base_uri": "https://localhost:8080/"
        },
        "id": "EDsBpHstfECt",
        "outputId": "8d23785c-b8bf-4483-ed3a-37a85cd895ea"
      },
      "source": [
        "# training and test split\n",
        "from sklearn.model_selection import train_test_split\n",
        "\n",
        "# data = pd.get_dummies(data, drop_first=True)\n",
        "# We split the data up into a test set and a training set, 30 - 70 %\n",
        "# train_test_split\n",
        "# First argument: x data is all data without class column\n",
        "# Second argument:  this is the class label column\n",
        "# Random state = 0: ensures the train and test splitting is deterministic. \n",
        "\n",
        "X_train, X_test, y_train, y_test = train_test_split(data.drop(['trauma', \n",
        "             'gender', \n",
        "             'age', \n",
        "             'amount_music',\n",
        "             'life_enjoyment', \n",
        "             'resilience', \n",
        "             'balanced_life', \n",
        "             'emotional_flex', \n",
        "             'self_actualization',\n",
        "             'health_categorical',\n",
        "             'total_health', # y\n",
        "             'genres'],\n",
        "            axis = 1),\n",
        "            data['total_health'], # y to be predicted\n",
        "            test_size=0.3,\n",
        "            random_state=0) \n",
        "\n",
        "from sklearn.preprocessing import FunctionTransformer\n",
        "from sklearn.linear_model import Lasso\n",
        "from sklearn.pipeline import Pipeline\n",
        "\n",
        "featurepipe = Pipeline([('scaler', FunctionTransformer()),\n",
        "                 ('reg', Lasso())])\n",
        "\n",
        "featurepipe.fit(X_train, y_train)\n",
        "predicted = featurepipe.predict(X_test)\n",
        "\n",
        "# print MSE\n",
        "from sklearn.metrics import accuracy_score, mean_squared_error\n",
        "\n",
        "print(mean_squared_error(y_test, predicted))"
      ],
      "execution_count": 78,
      "outputs": [
        {
          "output_type": "stream",
          "name": "stdout",
          "text": [
            "27.35347919891419\n"
          ]
        }
      ]
    },
    {
      "cell_type": "markdown",
      "metadata": {
        "id": "BoTRV9giwTit"
      },
      "source": [
        "### Predict trauma"
      ]
    },
    {
      "cell_type": "markdown",
      "metadata": {
        "id": "_wIds6hrg8PA"
      },
      "source": [
        "##### Standard Scaler"
      ]
    },
    {
      "cell_type": "code",
      "metadata": {
        "colab": {
          "base_uri": "https://localhost:8080/"
        },
        "id": "JaJjMX2Ng4c3",
        "outputId": "bfabd6f1-b883-434e-850b-5db8a4762880"
      },
      "source": [
        "# training and test split\n",
        "from sklearn.model_selection import train_test_split\n",
        "\n",
        "# data = pd.get_dummies(data, drop_first=True)\n",
        "# We split the data up into a test set and a training set, 30 - 70 %\n",
        "# train_test_split\n",
        "# First argument: x data is all data without class column\n",
        "# Second argument:  this is the class label column\n",
        "# Random state = 0: ensures the train and test splitting is deterministic. \n",
        "\n",
        "X_train, X_test, y_train, y_test = train_test_split(data.drop(['trauma', # y\n",
        "             'gender', \n",
        "             'age', \n",
        "             'amount_music',\n",
        "             'life_enjoyment', \n",
        "             'resilience', \n",
        "             'balanced_life', \n",
        "             'emotional_flex', \n",
        "             'self_actualization',\n",
        "             'health_categorical',\n",
        "             'total_health',\n",
        "             'genres'],\n",
        "            axis = 1),\n",
        "            data['trauma'], # y to be predicted\n",
        "            test_size=0.3,\n",
        "            random_state=0) \n",
        "\n",
        "from sklearn.preprocessing import StandardScaler\n",
        "from sklearn.linear_model import Lasso\n",
        "from sklearn.pipeline import Pipeline\n",
        "\n",
        "featurepipe = Pipeline([('scaler', StandardScaler()),\n",
        "                 ('reg', Lasso())])\n",
        "\n",
        "featurepipe.fit(X_train, y_train)\n",
        "predicted = featurepipe.predict(X_test)\n",
        "\n",
        "# print MSE\n",
        "from sklearn.metrics import accuracy_score, mean_squared_error\n",
        "\n",
        "print(mean_squared_error(y_test, predicted))"
      ],
      "execution_count": 79,
      "outputs": [
        {
          "output_type": "stream",
          "name": "stdout",
          "text": [
            "0.23456784804930633\n"
          ]
        }
      ]
    },
    {
      "cell_type": "markdown",
      "metadata": {
        "id": "iwg_ADdAg-cv"
      },
      "source": [
        "##### PCA"
      ]
    },
    {
      "cell_type": "code",
      "metadata": {
        "colab": {
          "base_uri": "https://localhost:8080/"
        },
        "id": "hLbPcN4ghHH1",
        "outputId": "c5154e5e-85e4-45d1-9724-e857a3b7fabc"
      },
      "source": [
        "# training and test split\n",
        "from sklearn.model_selection import train_test_split\n",
        "\n",
        "# data = pd.get_dummies(data, drop_first=True)\n",
        "# We split the data up into a test set and a training set, 30 - 70 %\n",
        "# train_test_split\n",
        "# First argument: x data is all data without class column\n",
        "# Second argument:  this is the class label column\n",
        "# Random state = 0: ensures the train and test splitting is deterministic. \n",
        "\n",
        "X_train, X_test, y_train, y_test = train_test_split(data.drop(['trauma', # y\n",
        "             'gender', \n",
        "             'age', \n",
        "             'amount_music',\n",
        "             'life_enjoyment', \n",
        "             'resilience', \n",
        "             'balanced_life', \n",
        "             'emotional_flex', \n",
        "             'self_actualization',\n",
        "             'health_categorical',\n",
        "             'total_health',\n",
        "             'genres'],\n",
        "            axis = 1),\n",
        "            data['trauma'], # y to be predicted\n",
        "            test_size=0.3,\n",
        "            random_state=0) \n",
        "\n",
        "from sklearn.decomposition import PCA\n",
        "from sklearn.linear_model import Lasso\n",
        "from sklearn.pipeline import Pipeline\n",
        "\n",
        "featurepipe = Pipeline([('pca', PCA()),\n",
        "                 ('reg', Lasso())])\n",
        "\n",
        "featurepipe.fit(X_train, y_train)\n",
        "predicted = featurepipe.predict(X_test)\n",
        "\n",
        "# print MSE\n",
        "from sklearn.metrics import accuracy_score, mean_squared_error\n",
        "\n",
        "print(mean_squared_error(y_test, predicted))"
      ],
      "execution_count": 80,
      "outputs": [
        {
          "output_type": "stream",
          "name": "stdout",
          "text": [
            "0.23456784804930633\n"
          ]
        }
      ]
    },
    {
      "cell_type": "markdown",
      "metadata": {
        "id": "QCb3sXSEhArh"
      },
      "source": [
        "##### MinMax Scaler"
      ]
    },
    {
      "cell_type": "code",
      "metadata": {
        "colab": {
          "base_uri": "https://localhost:8080/"
        },
        "id": "oXisYXAyhTdl",
        "outputId": "8bbf5667-a43d-4b77-d89a-1fd3a2600412"
      },
      "source": [
        "# training and test split\n",
        "from sklearn.model_selection import train_test_split\n",
        "\n",
        "# data = pd.get_dummies(data, drop_first=True)\n",
        "# We split the data up into a test set and a training set, 30 - 70 %\n",
        "# train_test_split\n",
        "# First argument: x data is all data without class column\n",
        "# Second argument:  this is the class label column\n",
        "# Random state = 0: ensures the train and test splitting is deterministic. \n",
        "\n",
        "X_train, X_test, y_train, y_test = train_test_split(data.drop(['trauma', # y\n",
        "             'gender', \n",
        "             'age', \n",
        "             'amount_music',\n",
        "             'life_enjoyment', \n",
        "             'resilience', \n",
        "             'balanced_life', \n",
        "             'emotional_flex', \n",
        "             'self_actualization',\n",
        "             'health_categorical',\n",
        "             'total_health',\n",
        "             'genres'],\n",
        "            axis = 1),\n",
        "            data['trauma'], # y to be predicted\n",
        "            test_size=0.3,\n",
        "            random_state=0) \n",
        "\n",
        "from sklearn.preprocessing import MinMaxScaler\n",
        "from sklearn.linear_model import Lasso\n",
        "from sklearn.pipeline import Pipeline\n",
        "\n",
        "featurepipe = Pipeline([('scaler', MinMaxScaler()),\n",
        "                 ('reg', Lasso())])\n",
        "\n",
        "featurepipe.fit(X_train, y_train)\n",
        "predicted = featurepipe.predict(X_test)\n",
        "\n",
        "# print MSE\n",
        "from sklearn.metrics import accuracy_score, mean_squared_error\n",
        "\n",
        "print(mean_squared_error(y_test, predicted))"
      ],
      "execution_count": 81,
      "outputs": [
        {
          "output_type": "stream",
          "name": "stdout",
          "text": [
            "0.23456784804930633\n"
          ]
        }
      ]
    },
    {
      "cell_type": "markdown",
      "metadata": {
        "id": "x3r9yv3hhDWz"
      },
      "source": [
        "##### Function Transformer"
      ]
    },
    {
      "cell_type": "code",
      "metadata": {
        "colab": {
          "base_uri": "https://localhost:8080/"
        },
        "id": "AGRO8Mb9hZp7",
        "outputId": "8c9e7300-0797-43e6-a353-4a3bc9ca31fc"
      },
      "source": [
        "# training and test split\n",
        "from sklearn.model_selection import train_test_split\n",
        "\n",
        "# data = pd.get_dummies(data, drop_first=True)\n",
        "# We split the data up into a test set and a training set, 30 - 70 %\n",
        "# train_test_split\n",
        "# First argument: x data is all data without class column\n",
        "# Second argument:  this is the class label column\n",
        "# Random state = 0: ensures the train and test splitting is deterministic. \n",
        "\n",
        "X_train, X_test, y_train, y_test = train_test_split(data.drop(['trauma', # y\n",
        "             'gender', \n",
        "             'age', \n",
        "             'amount_music',\n",
        "             'life_enjoyment', \n",
        "             'resilience', \n",
        "             'balanced_life', \n",
        "             'emotional_flex', \n",
        "             'self_actualization',\n",
        "             'health_categorical',\n",
        "             'total_health',\n",
        "             'genres'],\n",
        "            axis = 1),\n",
        "            data['trauma'], # y to be predicted\n",
        "            test_size=0.3,\n",
        "            random_state=0) \n",
        "\n",
        "from sklearn.preprocessing import FunctionTransformer\n",
        "from sklearn.linear_model import Lasso\n",
        "from sklearn.pipeline import Pipeline\n",
        "\n",
        "featurepipe = Pipeline([('scaler', FunctionTransformer()),\n",
        "                 ('reg', Lasso())])\n",
        "\n",
        "featurepipe.fit(X_train, y_train)\n",
        "predicted = featurepipe.predict(X_test)\n",
        "\n",
        "# print MSE\n",
        "from sklearn.metrics import accuracy_score, mean_squared_error\n",
        "\n",
        "print(mean_squared_error(y_test, predicted))"
      ],
      "execution_count": 82,
      "outputs": [
        {
          "output_type": "stream",
          "name": "stdout",
          "text": [
            "0.23456784804930633\n"
          ]
        }
      ]
    },
    {
      "cell_type": "markdown",
      "metadata": {
        "id": "nFagspBKwU8y"
      },
      "source": [
        "### Predict specific mental health indicators"
      ]
    },
    {
      "cell_type": "markdown",
      "metadata": {
        "id": "V18tRLXSi9D0"
      },
      "source": [
        "#### Life Enjoyment"
      ]
    },
    {
      "cell_type": "markdown",
      "metadata": {
        "id": "K4QHLyg0j1-E"
      },
      "source": [
        "##### Standard Scaler"
      ]
    },
    {
      "cell_type": "code",
      "metadata": {
        "colab": {
          "base_uri": "https://localhost:8080/"
        },
        "id": "q7IQkLNQkCgZ",
        "outputId": "9bd0ea0d-50bd-4a88-d2e2-b6c7d42ab8d3"
      },
      "source": [
        "# training and test split\n",
        "from sklearn.model_selection import train_test_split\n",
        "\n",
        "# data = pd.get_dummies(data, drop_first=True)\n",
        "# We split the data up into a test set and a training set, 30 - 70 %\n",
        "# train_test_split\n",
        "# First argument: x data is all data without class column\n",
        "# Second argument:  this is the class label column\n",
        "# Random state = 0: ensures the train and test splitting is deterministic. \n",
        "\n",
        "X_train, X_test, y_train, y_test = train_test_split(data.drop(['life_enjoyment', # y\n",
        "             'gender', \n",
        "             'age', \n",
        "             'amount_music',\n",
        "             'trauma', \n",
        "             'self_actualization', \n",
        "             'resilience', \n",
        "             'balanced_life', \n",
        "             'emotional_flex',\n",
        "             'health_categorical',\n",
        "             'total_health',\n",
        "             'genres'],\n",
        "            axis = 1),\n",
        "            data['life_enjoyment'], # y to be predicted\n",
        "            test_size=0.3,\n",
        "            random_state=0) \n",
        "\n",
        "from sklearn.preprocessing import StandardScaler\n",
        "from sklearn.linear_model import Lasso\n",
        "from sklearn.pipeline import Pipeline\n",
        "\n",
        "featurepipe = Pipeline([('scaler', StandardScaler()),\n",
        "                 ('reg', Lasso())])\n",
        "\n",
        "featurepipe.fit(X_train, y_train)\n",
        "predicted = featurepipe.predict(X_test)\n",
        "\n",
        "# print MSE\n",
        "from sklearn.metrics import accuracy_score, mean_squared_error\n",
        "\n",
        "print(mean_squared_error(y_test, predicted))"
      ],
      "execution_count": 83,
      "outputs": [
        {
          "output_type": "stream",
          "name": "stdout",
          "text": [
            "2.0727004899340993\n"
          ]
        }
      ]
    },
    {
      "cell_type": "markdown",
      "metadata": {
        "id": "6LEc4_1cj4RA"
      },
      "source": [
        "##### PCA"
      ]
    },
    {
      "cell_type": "code",
      "metadata": {
        "colab": {
          "base_uri": "https://localhost:8080/"
        },
        "id": "Kf6nRSy6kFIK",
        "outputId": "7933ce67-aa8f-44a4-b3c8-8a39937bf839"
      },
      "source": [
        "# training and test split\n",
        "from sklearn.model_selection import train_test_split\n",
        "\n",
        "# data = pd.get_dummies(data, drop_first=True)\n",
        "# We split the data up into a test set and a training set, 30 - 70 %\n",
        "# train_test_split\n",
        "# First argument: x data is all data without class column\n",
        "# Second argument:  this is the class label column\n",
        "# Random state = 0: ensures the train and test splitting is deterministic. \n",
        "\n",
        "X_train, X_test, y_train, y_test = train_test_split(data.drop(['life_enjoyment', # y\n",
        "             'gender', \n",
        "             'age', \n",
        "             'amount_music',\n",
        "             'trauma', \n",
        "             'self_actualization', \n",
        "             'resilience', \n",
        "             'balanced_life', \n",
        "             'emotional_flex',\n",
        "             'health_categorical',\n",
        "             'total_health',\n",
        "             'genres'],\n",
        "            axis = 1),\n",
        "            data['life_enjoyment'], # y to be predicted\n",
        "            test_size=0.3,\n",
        "            random_state=0) \n",
        "\n",
        "from sklearn.decomposition import PCA\n",
        "from sklearn.linear_model import Lasso\n",
        "from sklearn.pipeline import Pipeline\n",
        "\n",
        "featurepipe = Pipeline([('pca', PCA()),\n",
        "                 ('reg', Lasso())])\n",
        "\n",
        "featurepipe.fit(X_train, y_train)\n",
        "predicted = featurepipe.predict(X_test)\n",
        "\n",
        "# print MSE\n",
        "from sklearn.metrics import accuracy_score, mean_squared_error\n",
        "\n",
        "print(mean_squared_error(y_test, predicted))"
      ],
      "execution_count": 84,
      "outputs": [
        {
          "output_type": "stream",
          "name": "stdout",
          "text": [
            "2.072020319766609\n"
          ]
        }
      ]
    },
    {
      "cell_type": "markdown",
      "metadata": {
        "id": "MJaTk3wYj6GU"
      },
      "source": [
        "##### MinMax Scaler"
      ]
    },
    {
      "cell_type": "code",
      "metadata": {
        "colab": {
          "base_uri": "https://localhost:8080/"
        },
        "id": "YMY4N-6OkGUw",
        "outputId": "5892340f-49fe-4a94-f52c-a5bc61f5ad66"
      },
      "source": [
        "# training and test split\n",
        "from sklearn.model_selection import train_test_split\n",
        "\n",
        "# data = pd.get_dummies(data, drop_first=True)\n",
        "# We split the data up into a test set and a training set, 30 - 70 %\n",
        "# train_test_split\n",
        "# First argument: x data is all data without class column\n",
        "# Second argument:  this is the class label column\n",
        "# Random state = 0: ensures the train and test splitting is deterministic. \n",
        "\n",
        "X_train, X_test, y_train, y_test = train_test_split(data.drop(['life_enjoyment', # y\n",
        "             'gender', \n",
        "             'age', \n",
        "             'amount_music',\n",
        "             'trauma', \n",
        "             'self_actualization', \n",
        "             'resilience', \n",
        "             'balanced_life', \n",
        "             'emotional_flex',\n",
        "             'health_categorical',\n",
        "             'total_health',\n",
        "             'genres'],\n",
        "            axis = 1),\n",
        "            data['life_enjoyment'], # y to be predicted\n",
        "            test_size=0.3,\n",
        "            random_state=0) \n",
        "\n",
        "from sklearn.preprocessing import MinMaxScaler\n",
        "from sklearn.linear_model import Lasso\n",
        "from sklearn.pipeline import Pipeline\n",
        "\n",
        "featurepipe = Pipeline([('scaler', MinMaxScaler()),\n",
        "                 ('reg', Lasso())])\n",
        "\n",
        "featurepipe.fit(X_train, y_train)\n",
        "predicted = featurepipe.predict(X_test)\n",
        "\n",
        "# print MSE\n",
        "from sklearn.metrics import accuracy_score, mean_squared_error\n",
        "\n",
        "print(mean_squared_error(y_test, predicted))"
      ],
      "execution_count": 85,
      "outputs": [
        {
          "output_type": "stream",
          "name": "stdout",
          "text": [
            "2.0727004899340993\n"
          ]
        }
      ]
    },
    {
      "cell_type": "markdown",
      "metadata": {
        "id": "7Pdous_oj8Yu"
      },
      "source": [
        "##### Function Transformer"
      ]
    },
    {
      "cell_type": "code",
      "metadata": {
        "colab": {
          "base_uri": "https://localhost:8080/"
        },
        "id": "ObQyz1bxkHtg",
        "outputId": "04793863-f680-40e6-e0a1-552f805a5886"
      },
      "source": [
        "# training and test split\n",
        "from sklearn.model_selection import train_test_split\n",
        "\n",
        "# data = pd.get_dummies(data, drop_first=True)\n",
        "# We split the data up into a test set and a training set, 30 - 70 %\n",
        "# train_test_split\n",
        "# First argument: x data is all data without class column\n",
        "# Second argument:  this is the class label column\n",
        "# Random state = 0: ensures the train and test splitting is deterministic. \n",
        "\n",
        "X_train, X_test, y_train, y_test = train_test_split(data.drop(['life_enjoyment', # y\n",
        "             'gender', \n",
        "             'age', \n",
        "             'amount_music',\n",
        "             'trauma', \n",
        "             'self_actualization', \n",
        "             'resilience', \n",
        "             'balanced_life', \n",
        "             'emotional_flex',\n",
        "             'health_categorical',\n",
        "             'total_health',\n",
        "             'genres'],\n",
        "            axis = 1),\n",
        "            data['life_enjoyment'], # y to be predicted\n",
        "            test_size=0.3,\n",
        "            random_state=0) \n",
        "\n",
        "from sklearn.preprocessing import FunctionTransformer\n",
        "from sklearn.linear_model import Lasso\n",
        "from sklearn.pipeline import Pipeline\n",
        "\n",
        "featurepipe = Pipeline([('scaler', FunctionTransformer()),\n",
        "                 ('reg', Lasso())])\n",
        "\n",
        "featurepipe.fit(X_train, y_train)\n",
        "predicted = featurepipe.predict(X_test)\n",
        "\n",
        "# print MSE\n",
        "from sklearn.metrics import accuracy_score, mean_squared_error\n",
        "\n",
        "print(mean_squared_error(y_test, predicted))"
      ],
      "execution_count": 86,
      "outputs": [
        {
          "output_type": "stream",
          "name": "stdout",
          "text": [
            "2.0720403917938226\n"
          ]
        }
      ]
    },
    {
      "cell_type": "markdown",
      "metadata": {
        "id": "cn9kdEmKjpfa"
      },
      "source": [
        "#### Resilience"
      ]
    },
    {
      "cell_type": "markdown",
      "metadata": {
        "id": "7LFAt7ddkJbC"
      },
      "source": [
        "##### Standard Scaler"
      ]
    },
    {
      "cell_type": "code",
      "metadata": {
        "colab": {
          "base_uri": "https://localhost:8080/"
        },
        "id": "IADd_UBik0GH",
        "outputId": "cf3b2f76-bbd8-47ec-90a5-2058e8c4a7be"
      },
      "source": [
        "# training and test split\n",
        "from sklearn.model_selection import train_test_split\n",
        "\n",
        "# data = pd.get_dummies(data, drop_first=True)\n",
        "# We split the data up into a test set and a training set, 30 - 70 %\n",
        "# train_test_split\n",
        "# First argument: x data is all data without class column\n",
        "# Second argument:  this is the class label column\n",
        "# Random state = 0: ensures the train and test splitting is deterministic. \n",
        "\n",
        "X_train, X_test, y_train, y_test = train_test_split(data.drop(['resilience', # y\n",
        "             'gender', \n",
        "             'age', \n",
        "             'amount_music',\n",
        "             'trauma', \n",
        "             'self_actualization', \n",
        "             'life_enjoyment', \n",
        "             'balanced_life', \n",
        "             'emotional_flex',\n",
        "             'health_categorical',\n",
        "             'total_health',\n",
        "             'genres'],\n",
        "            axis = 1),\n",
        "            data['resilience'], # y to be predicted\n",
        "            test_size=0.3,\n",
        "            random_state=0) \n",
        "\n",
        "from sklearn.preprocessing import StandardScaler\n",
        "from sklearn.linear_model import Lasso\n",
        "from sklearn.pipeline import Pipeline\n",
        "\n",
        "featurepipe = Pipeline([('scaler', StandardScaler()),\n",
        "                 ('reg', Lasso())])\n",
        "\n",
        "featurepipe.fit(X_train, y_train)\n",
        "predicted = featurepipe.predict(X_test)\n",
        "\n",
        "# print MSE\n",
        "from sklearn.metrics import accuracy_score, mean_squared_error\n",
        "\n",
        "print(mean_squared_error(y_test, predicted))"
      ],
      "execution_count": 87,
      "outputs": [
        {
          "output_type": "stream",
          "name": "stdout",
          "text": [
            "1.7657318428715707\n"
          ]
        }
      ]
    },
    {
      "cell_type": "markdown",
      "metadata": {
        "id": "VaPcAkrRkNO5"
      },
      "source": [
        "##### PCA"
      ]
    },
    {
      "cell_type": "code",
      "metadata": {
        "colab": {
          "base_uri": "https://localhost:8080/"
        },
        "id": "Ro3JdzU2k2Ao",
        "outputId": "cc36df69-921a-4f0d-85d3-e4315c2cc179"
      },
      "source": [
        "# training and test split\n",
        "from sklearn.model_selection import train_test_split\n",
        "\n",
        "# data = pd.get_dummies(data, drop_first=True)\n",
        "# We split the data up into a test set and a training set, 30 - 70 %\n",
        "# train_test_split\n",
        "# First argument: x data is all data without class column\n",
        "# Second argument:  this is the class label column\n",
        "# Random state = 0: ensures the train and test splitting is deterministic. \n",
        "\n",
        "X_train, X_test, y_train, y_test = train_test_split(data.drop(['resilience', # y\n",
        "             'gender', \n",
        "             'age', \n",
        "             'amount_music',\n",
        "             'trauma', \n",
        "             'self_actualization', \n",
        "             'life_enjoyment', \n",
        "             'balanced_life', \n",
        "             'emotional_flex',\n",
        "             'health_categorical',\n",
        "             'total_health',\n",
        "             'genres'],\n",
        "            axis = 1),\n",
        "            data['resilience'], # y to be predicted\n",
        "            test_size=0.3,\n",
        "            random_state=0) \n",
        "\n",
        "from sklearn.decomposition import PCA\n",
        "from sklearn.linear_model import Lasso\n",
        "from sklearn.pipeline import Pipeline\n",
        "\n",
        "featurepipe = Pipeline([('pca', PCA()),\n",
        "                 ('reg', Lasso())])\n",
        "\n",
        "featurepipe.fit(X_train, y_train)\n",
        "predicted = featurepipe.predict(X_test)\n",
        "\n",
        "# print MSE\n",
        "from sklearn.metrics import accuracy_score, mean_squared_error\n",
        "\n",
        "print(mean_squared_error(y_test, predicted))"
      ],
      "execution_count": 88,
      "outputs": [
        {
          "output_type": "stream",
          "name": "stdout",
          "text": [
            "1.76584740476252\n"
          ]
        }
      ]
    },
    {
      "cell_type": "markdown",
      "metadata": {
        "id": "rCf0xxtekPT5"
      },
      "source": [
        "##### MinMax Scaler"
      ]
    },
    {
      "cell_type": "code",
      "metadata": {
        "colab": {
          "base_uri": "https://localhost:8080/"
        },
        "id": "jQzoWrzrk25p",
        "outputId": "9811cd07-3cad-4535-cec6-693fe3690443"
      },
      "source": [
        "# training and test split\n",
        "from sklearn.model_selection import train_test_split\n",
        "\n",
        "# data = pd.get_dummies(data, drop_first=True)\n",
        "# We split the data up into a test set and a training set, 30 - 70 %\n",
        "# train_test_split\n",
        "# First argument: x data is all data without class column\n",
        "# Second argument:  this is the class label column\n",
        "# Random state = 0: ensures the train and test splitting is deterministic. \n",
        "\n",
        "X_train, X_test, y_train, y_test = train_test_split(data.drop(['resilience', # y\n",
        "             'gender', \n",
        "             'age', \n",
        "             'amount_music',\n",
        "             'trauma', \n",
        "             'self_actualization', \n",
        "             'life_enjoyment', \n",
        "             'balanced_life', \n",
        "             'emotional_flex',\n",
        "             'health_categorical',\n",
        "             'total_health',\n",
        "             'genres'],\n",
        "            axis = 1),\n",
        "            data['resilience'], # y to be predicted\n",
        "            test_size=0.3,\n",
        "            random_state=0) \n",
        "\n",
        "from sklearn.preprocessing import MinMaxScaler\n",
        "from sklearn.linear_model import Lasso\n",
        "from sklearn.pipeline import Pipeline\n",
        "\n",
        "featurepipe = Pipeline([('scaler', MinMaxScaler()),\n",
        "                 ('reg', Lasso())])\n",
        "\n",
        "featurepipe.fit(X_train, y_train)\n",
        "predicted = featurepipe.predict(X_test)\n",
        "\n",
        "# print MSE\n",
        "from sklearn.metrics import accuracy_score, mean_squared_error\n",
        "\n",
        "print(mean_squared_error(y_test, predicted))"
      ],
      "execution_count": 89,
      "outputs": [
        {
          "output_type": "stream",
          "name": "stdout",
          "text": [
            "1.7657318428715707\n"
          ]
        }
      ]
    },
    {
      "cell_type": "markdown",
      "metadata": {
        "id": "hN6oG9xIkScR"
      },
      "source": [
        "##### Function Transformer"
      ]
    },
    {
      "cell_type": "code",
      "metadata": {
        "colab": {
          "base_uri": "https://localhost:8080/"
        },
        "id": "CZNKY-Clk39M",
        "outputId": "6360083a-d76f-4eb7-b961-36867d0aca2c"
      },
      "source": [
        "# training and test split\n",
        "from sklearn.model_selection import train_test_split\n",
        "\n",
        "# data = pd.get_dummies(data, drop_first=True)\n",
        "# We split the data up into a test set and a training set, 30 - 70 %\n",
        "# train_test_split\n",
        "# First argument: x data is all data without class column\n",
        "# Second argument:  this is the class label column\n",
        "# Random state = 0: ensures the train and test splitting is deterministic. \n",
        "\n",
        "X_train, X_test, y_train, y_test = train_test_split(data.drop(['resilience', # y\n",
        "             'gender', \n",
        "             'age', \n",
        "             'amount_music',\n",
        "             'trauma', \n",
        "             'self_actualization', \n",
        "             'life_enjoyment', \n",
        "             'balanced_life', \n",
        "             'emotional_flex',\n",
        "             'health_categorical',\n",
        "             'total_health',\n",
        "             'genres'],\n",
        "            axis = 1),\n",
        "            data['resilience'], # y to be predicted\n",
        "            test_size=0.3,\n",
        "            random_state=0) \n",
        "\n",
        "from sklearn.preprocessing import FunctionTransformer\n",
        "from sklearn.linear_model import Lasso\n",
        "from sklearn.pipeline import Pipeline\n",
        "\n",
        "featurepipe = Pipeline([('scaler', FunctionTransformer()),\n",
        "                 ('reg', Lasso())])\n",
        "\n",
        "featurepipe.fit(X_train, y_train)\n",
        "predicted = featurepipe.predict(X_test)\n",
        "\n",
        "# print MSE\n",
        "from sklearn.metrics import accuracy_score, mean_squared_error\n",
        "\n",
        "print(mean_squared_error(y_test, predicted))"
      ],
      "execution_count": 90,
      "outputs": [
        {
          "output_type": "stream",
          "name": "stdout",
          "text": [
            "1.7652419457632227\n"
          ]
        }
      ]
    },
    {
      "cell_type": "markdown",
      "metadata": {
        "id": "nwuHdwecjs3Z"
      },
      "source": [
        "#### Balanced Life"
      ]
    },
    {
      "cell_type": "markdown",
      "metadata": {
        "id": "z-Lu3Tj3kWGo"
      },
      "source": [
        "##### Standard Scaler"
      ]
    },
    {
      "cell_type": "code",
      "metadata": {
        "colab": {
          "base_uri": "https://localhost:8080/"
        },
        "id": "Dm0MBb8JkU5X",
        "outputId": "cad7bac8-3be2-4a7c-f877-a0a098ce0127"
      },
      "source": [
        "# training and test split\n",
        "from sklearn.model_selection import train_test_split\n",
        "\n",
        "# data = pd.get_dummies(data, drop_first=True)\n",
        "# We split the data up into a test set and a training set, 30 - 70 %\n",
        "# train_test_split\n",
        "# First argument: x data is all data without class column\n",
        "# Second argument:  this is the class label column\n",
        "# Random state = 0: ensures the train and test splitting is deterministic. \n",
        "\n",
        "X_train, X_test, y_train, y_test = train_test_split(data.drop(['resilience', # y\n",
        "             'gender', \n",
        "             'age', \n",
        "             'amount_music',\n",
        "             'trauma', \n",
        "             'self_actualization', \n",
        "             'life_enjoyment', \n",
        "             'balanced_life', \n",
        "             'emotional_flex',\n",
        "             'health_categorical',\n",
        "             'total_health',\n",
        "             'genres'],\n",
        "            axis = 1),\n",
        "            data['balanced_life'], # y to be predicted\n",
        "            test_size=0.3,\n",
        "            random_state=0) \n",
        "\n",
        "from sklearn.preprocessing import StandardScaler\n",
        "from sklearn.linear_model import Lasso\n",
        "from sklearn.pipeline import Pipeline\n",
        "\n",
        "featurepipe = Pipeline([('scaler', StandardScaler()),\n",
        "                 ('reg', Lasso())])\n",
        "\n",
        "featurepipe.fit(X_train, y_train)\n",
        "predicted = featurepipe.predict(X_test)\n",
        "\n",
        "# print MSE\n",
        "from sklearn.metrics import accuracy_score, mean_squared_error\n",
        "\n",
        "print(mean_squared_error(y_test, predicted))"
      ],
      "execution_count": 91,
      "outputs": [
        {
          "output_type": "stream",
          "name": "stdout",
          "text": [
            "2.072986159514089\n"
          ]
        }
      ]
    },
    {
      "cell_type": "markdown",
      "metadata": {
        "id": "nrGb3GdskYxh"
      },
      "source": [
        "##### PCA"
      ]
    },
    {
      "cell_type": "code",
      "metadata": {
        "colab": {
          "base_uri": "https://localhost:8080/"
        },
        "id": "4TDsYiIgkq3q",
        "outputId": "887e8970-9775-481b-e4cd-090cfd2d2b14"
      },
      "source": [
        "# training and test split\n",
        "from sklearn.model_selection import train_test_split\n",
        "\n",
        "# data = pd.get_dummies(data, drop_first=True)\n",
        "# We split the data up into a test set and a training set, 30 - 70 %\n",
        "# train_test_split\n",
        "# First argument: x data is all data without class column\n",
        "# Second argument:  this is the class label column\n",
        "# Random state = 0: ensures the train and test splitting is deterministic. \n",
        "\n",
        "X_train, X_test, y_train, y_test = train_test_split(data.drop(['resilience', # y\n",
        "             'gender', \n",
        "             'age', \n",
        "             'amount_music',\n",
        "             'trauma', \n",
        "             'self_actualization', \n",
        "             'life_enjoyment', \n",
        "             'balanced_life', \n",
        "             'emotional_flex',\n",
        "             'health_categorical',\n",
        "             'total_health',\n",
        "             'genres'],\n",
        "            axis = 1),\n",
        "            data['balanced_life'], # y to be predicted\n",
        "            test_size=0.3,\n",
        "            random_state=0) \n",
        "\n",
        "from sklearn.decomposition import PCA\n",
        "from sklearn.linear_model import Lasso\n",
        "from sklearn.pipeline import Pipeline\n",
        "\n",
        "featurepipe = Pipeline([('pca', PCA()),\n",
        "                 ('reg', Lasso())])\n",
        "\n",
        "featurepipe.fit(X_train, y_train)\n",
        "predicted = featurepipe.predict(X_test)\n",
        "\n",
        "# print MSE\n",
        "from sklearn.metrics import accuracy_score, mean_squared_error\n",
        "\n",
        "print(mean_squared_error(y_test, predicted))"
      ],
      "execution_count": 92,
      "outputs": [
        {
          "output_type": "stream",
          "name": "stdout",
          "text": [
            "2.0657768032801163\n"
          ]
        }
      ]
    },
    {
      "cell_type": "markdown",
      "metadata": {
        "id": "oeQvGKahkhw1"
      },
      "source": [
        "##### MinMax Scaler"
      ]
    },
    {
      "cell_type": "code",
      "metadata": {
        "colab": {
          "base_uri": "https://localhost:8080/"
        },
        "id": "u0tsPQ4hkrr_",
        "outputId": "6045eb29-1916-499d-81b4-217c6ef0cf7b"
      },
      "source": [
        "# training and test split\n",
        "from sklearn.model_selection import train_test_split\n",
        "\n",
        "# data = pd.get_dummies(data, drop_first=True)\n",
        "# We split the data up into a test set and a training set, 30 - 70 %\n",
        "# train_test_split\n",
        "# First argument: x data is all data without class column\n",
        "# Second argument:  this is the class label column\n",
        "# Random state = 0: ensures the train and test splitting is deterministic. \n",
        "\n",
        "X_train, X_test, y_train, y_test = train_test_split(data.drop(['resilience', # y\n",
        "             'gender', \n",
        "             'age', \n",
        "             'amount_music',\n",
        "             'trauma', \n",
        "             'self_actualization', \n",
        "             'life_enjoyment', \n",
        "             'balanced_life', \n",
        "             'emotional_flex',\n",
        "             'health_categorical',\n",
        "             'total_health',\n",
        "             'genres'],\n",
        "            axis = 1),\n",
        "            data['balanced_life'], # y to be predicted\n",
        "            test_size=0.3,\n",
        "            random_state=0) \n",
        "\n",
        "from sklearn.preprocessing import MinMaxScaler\n",
        "from sklearn.linear_model import Lasso\n",
        "from sklearn.pipeline import Pipeline\n",
        "\n",
        "featurepipe = Pipeline([('scaler', MinMaxScaler()),\n",
        "                 ('reg', Lasso())])\n",
        "\n",
        "featurepipe.fit(X_train, y_train)\n",
        "predicted = featurepipe.predict(X_test)\n",
        "\n",
        "# print MSE\n",
        "from sklearn.metrics import accuracy_score, mean_squared_error\n",
        "\n",
        "print(mean_squared_error(y_test, predicted))"
      ],
      "execution_count": 93,
      "outputs": [
        {
          "output_type": "stream",
          "name": "stdout",
          "text": [
            "2.072986159514089\n"
          ]
        }
      ]
    },
    {
      "cell_type": "markdown",
      "metadata": {
        "id": "rxB4nRfQkmPO"
      },
      "source": [
        "##### Function Transformer"
      ]
    },
    {
      "cell_type": "code",
      "metadata": {
        "colab": {
          "base_uri": "https://localhost:8080/"
        },
        "id": "7RxWZIelktmV",
        "outputId": "a863c8fb-e158-47a2-96d0-3f55a1faa334"
      },
      "source": [
        "# training and test split\n",
        "from sklearn.model_selection import train_test_split\n",
        "\n",
        "# data = pd.get_dummies(data, drop_first=True)\n",
        "# We split the data up into a test set and a training set, 30 - 70 %\n",
        "# train_test_split\n",
        "# First argument: x data is all data without class column\n",
        "# Second argument:  this is the class label column\n",
        "# Random state = 0: ensures the train and test splitting is deterministic. \n",
        "\n",
        "X_train, X_test, y_train, y_test = train_test_split(data.drop(['resilience', # y\n",
        "             'gender', \n",
        "             'age', \n",
        "             'amount_music',\n",
        "             'trauma', \n",
        "             'self_actualization', \n",
        "             'life_enjoyment', \n",
        "             'balanced_life', \n",
        "             'emotional_flex',\n",
        "             'health_categorical',\n",
        "             'total_health',\n",
        "             'genres'],\n",
        "            axis = 1),\n",
        "            data['balanced_life'], # y to be predicted\n",
        "            test_size=0.3,\n",
        "            random_state=0) \n",
        "\n",
        "from sklearn.preprocessing import FunctionTransformer\n",
        "from sklearn.linear_model import Lasso\n",
        "from sklearn.pipeline import Pipeline\n",
        "\n",
        "featurepipe = Pipeline([('scaler', FunctionTransformer()),\n",
        "                 ('reg', Lasso())])\n",
        "\n",
        "featurepipe.fit(X_train, y_train)\n",
        "predicted = featurepipe.predict(X_test)\n",
        "\n",
        "# print MSE\n",
        "from sklearn.metrics import accuracy_score, mean_squared_error\n",
        "\n",
        "print(mean_squared_error(y_test, predicted))"
      ],
      "execution_count": 94,
      "outputs": [
        {
          "output_type": "stream",
          "name": "stdout",
          "text": [
            "2.0643974521508404\n"
          ]
        }
      ]
    },
    {
      "cell_type": "markdown",
      "metadata": {
        "id": "oLbxQvK0jv9T"
      },
      "source": [
        "#### Emotional Flexibility"
      ]
    },
    {
      "cell_type": "markdown",
      "metadata": {
        "id": "W-LIPNqbk6mR"
      },
      "source": [
        "##### Standard Scaler"
      ]
    },
    {
      "cell_type": "code",
      "metadata": {
        "colab": {
          "base_uri": "https://localhost:8080/"
        },
        "id": "kuHQyY1Zkppk",
        "outputId": "1c018765-7d0f-48e8-92ee-7b915d871093"
      },
      "source": [
        "# training and test split\n",
        "from sklearn.model_selection import train_test_split\n",
        "\n",
        "# data = pd.get_dummies(data, drop_first=True)\n",
        "# We split the data up into a test set and a training set, 30 - 70 %\n",
        "# train_test_split\n",
        "# First argument: x data is all data without class column\n",
        "# Second argument:  this is the class label column\n",
        "# Random state = 0: ensures the train and test splitting is deterministic. \n",
        "\n",
        "X_train, X_test, y_train, y_test = train_test_split(data.drop(['resilience', # y\n",
        "             'gender', \n",
        "             'age', \n",
        "             'amount_music',\n",
        "             'trauma', \n",
        "             'self_actualization', \n",
        "             'life_enjoyment', \n",
        "             'balanced_life', \n",
        "             'emotional_flex',\n",
        "             'health_categorical',\n",
        "             'total_health',\n",
        "             'genres'],\n",
        "            axis = 1),\n",
        "            data['emotional_flex'], # y to be predicted\n",
        "            test_size=0.3,\n",
        "            random_state=0) \n",
        "\n",
        "from sklearn.preprocessing import StandardScaler\n",
        "from sklearn.linear_model import Lasso\n",
        "from sklearn.pipeline import Pipeline\n",
        "\n",
        "featurepipe = Pipeline([('scaler', StandardScaler()),\n",
        "                 ('reg', Lasso())])\n",
        "\n",
        "featurepipe.fit(X_train, y_train)\n",
        "predicted = featurepipe.predict(X_test)\n",
        "\n",
        "# print MSE\n",
        "from sklearn.metrics import accuracy_score, mean_squared_error\n",
        "\n",
        "print(mean_squared_error(y_test, predicted))"
      ],
      "execution_count": 95,
      "outputs": [
        {
          "output_type": "stream",
          "name": "stdout",
          "text": [
            "2.6220736140717364\n"
          ]
        }
      ]
    },
    {
      "cell_type": "markdown",
      "metadata": {
        "id": "OveaYSPblbnl"
      },
      "source": [
        "##### PCA"
      ]
    },
    {
      "cell_type": "code",
      "metadata": {
        "colab": {
          "base_uri": "https://localhost:8080/"
        },
        "id": "WUoVN2h5mAp4",
        "outputId": "f4c240ca-d304-4d19-e19e-26b768f45851"
      },
      "source": [
        "# training and test split\n",
        "from sklearn.model_selection import train_test_split\n",
        "\n",
        "# data = pd.get_dummies(data, drop_first=True)\n",
        "# We split the data up into a test set and a training set, 30 - 70 %\n",
        "# train_test_split\n",
        "# First argument: x data is all data without class column\n",
        "# Second argument:  this is the class label column\n",
        "# Random state = 0: ensures the train and test splitting is deterministic. \n",
        "\n",
        "X_train, X_test, y_train, y_test = train_test_split(data.drop(['resilience', # y\n",
        "             'gender', \n",
        "             'age', \n",
        "             'amount_music',\n",
        "             'trauma', \n",
        "             'self_actualization', \n",
        "             'life_enjoyment', \n",
        "             'balanced_life', \n",
        "             'emotional_flex',\n",
        "             'health_categorical',\n",
        "             'total_health',\n",
        "             'genres'],\n",
        "            axis = 1),\n",
        "            data['emotional_flex'], # y to be predicted\n",
        "            test_size=0.3,\n",
        "            random_state=0) \n",
        "\n",
        "from sklearn.decomposition import PCA\n",
        "from sklearn.linear_model import Lasso\n",
        "from sklearn.pipeline import Pipeline\n",
        "\n",
        "featurepipe = Pipeline([('pcs', PCA()),\n",
        "                 ('reg', Lasso())])\n",
        "\n",
        "featurepipe.fit(X_train, y_train)\n",
        "predicted = featurepipe.predict(X_test)\n",
        "\n",
        "# print MSE\n",
        "from sklearn.metrics import accuracy_score, mean_squared_error\n",
        "\n",
        "print(mean_squared_error(y_test, predicted))"
      ],
      "execution_count": 96,
      "outputs": [
        {
          "output_type": "stream",
          "name": "stdout",
          "text": [
            "2.622386234530986\n"
          ]
        }
      ]
    },
    {
      "cell_type": "markdown",
      "metadata": {
        "id": "cGnx8AfKleOD"
      },
      "source": [
        "##### MinMax Scaler"
      ]
    },
    {
      "cell_type": "code",
      "metadata": {
        "colab": {
          "base_uri": "https://localhost:8080/"
        },
        "id": "ghqDWoKKl-rD",
        "outputId": "a96eb241-e9fe-4226-af67-c5b18f8d9854"
      },
      "source": [
        "# training and test split\n",
        "from sklearn.model_selection import train_test_split\n",
        "\n",
        "# data = pd.get_dummies(data, drop_first=True)\n",
        "# We split the data up into a test set and a training set, 30 - 70 %\n",
        "# train_test_split\n",
        "# First argument: x data is all data without class column\n",
        "# Second argument:  this is the class label column\n",
        "# Random state = 0: ensures the train and test splitting is deterministic. \n",
        "\n",
        "X_train, X_test, y_train, y_test = train_test_split(data.drop(['resilience', # y\n",
        "             'gender', \n",
        "             'age', \n",
        "             'amount_music',\n",
        "             'trauma', \n",
        "             'self_actualization', \n",
        "             'life_enjoyment', \n",
        "             'balanced_life', \n",
        "             'emotional_flex',\n",
        "             'health_categorical',\n",
        "             'total_health',\n",
        "             'genres'],\n",
        "            axis = 1),\n",
        "            data['emotional_flex'], # y to be predicted\n",
        "            test_size=0.3,\n",
        "            random_state=0) \n",
        "\n",
        "from sklearn.preprocessing import MinMaxScaler\n",
        "from sklearn.linear_model import Lasso\n",
        "from sklearn.pipeline import Pipeline\n",
        "\n",
        "featurepipe = Pipeline([('scaler', MinMaxScaler()),\n",
        "                 ('reg', Lasso())])\n",
        "\n",
        "featurepipe.fit(X_train, y_train)\n",
        "predicted = featurepipe.predict(X_test)\n",
        "\n",
        "# print MSE\n",
        "from sklearn.metrics import accuracy_score, mean_squared_error\n",
        "\n",
        "print(mean_squared_error(y_test, predicted))"
      ],
      "execution_count": 97,
      "outputs": [
        {
          "output_type": "stream",
          "name": "stdout",
          "text": [
            "2.6220736140717364\n"
          ]
        }
      ]
    },
    {
      "cell_type": "markdown",
      "metadata": {
        "id": "8LOzMIfflhvK"
      },
      "source": [
        "##### Function Transformer"
      ]
    },
    {
      "cell_type": "code",
      "metadata": {
        "colab": {
          "base_uri": "https://localhost:8080/"
        },
        "id": "jj_U89hLCRAw",
        "outputId": "830f3128-9b20-4efd-957f-02c935ca5bc7"
      },
      "source": [
        "# training and test split\n",
        "from sklearn.model_selection import train_test_split\n",
        "\n",
        "# data = pd.get_dummies(data, drop_first=True)\n",
        "# We split the data up into a test set and a training set, 30 - 70 %\n",
        "# train_test_split\n",
        "# First argument: x data is all data without class column\n",
        "# Second argument:  this is the class label column\n",
        "# Random state = 0: ensures the train and test splitting is deterministic. \n",
        "\n",
        "X_train, X_test, y_train, y_test = train_test_split(data.drop(['resilience', # y\n",
        "             'gender', \n",
        "             'age', \n",
        "             'amount_music',\n",
        "             'trauma', \n",
        "             'self_actualization', \n",
        "             'life_enjoyment', \n",
        "             'balanced_life', \n",
        "             'emotional_flex',\n",
        "             'health_categorical',\n",
        "             'total_health',\n",
        "             'genres'],\n",
        "            axis = 1),\n",
        "            data['emotional_flex'], # y to be predicted\n",
        "            test_size=0.3,\n",
        "            random_state=0) \n",
        "\n",
        "from sklearn.preprocessing import FunctionTransformer\n",
        "from sklearn.linear_model import Lasso\n",
        "from sklearn.pipeline import Pipeline\n",
        "\n",
        "featurepipe = Pipeline([('scaler', FunctionTransformer()),\n",
        "                 ('reg', Lasso())])\n",
        "\n",
        "featurepipe.fit(X_train, y_train)\n",
        "predicted = featurepipe.predict(X_test)\n",
        "\n",
        "# print MSE\n",
        "from sklearn.metrics import accuracy_score, mean_squared_error\n",
        "\n",
        "print(mean_squared_error(y_test, predicted))"
      ],
      "execution_count": 98,
      "outputs": [
        {
          "output_type": "stream",
          "name": "stdout",
          "text": [
            "2.622462491110615\n"
          ]
        }
      ]
    },
    {
      "cell_type": "markdown",
      "metadata": {
        "id": "cUWpIE8Ljyn_"
      },
      "source": [
        "#### Self Actualization"
      ]
    },
    {
      "cell_type": "markdown",
      "metadata": {
        "id": "yHCvk5selmYh"
      },
      "source": [
        "##### Standard Scaler"
      ]
    },
    {
      "cell_type": "code",
      "metadata": {
        "colab": {
          "base_uri": "https://localhost:8080/"
        },
        "id": "EEzKOIoTmDgh",
        "outputId": "4b19ab42-ae2d-4a76-b163-ddfbf5d01278"
      },
      "source": [
        "# training and test split\n",
        "from sklearn.model_selection import train_test_split\n",
        "\n",
        "# data = pd.get_dummies(data, drop_first=True)\n",
        "# We split the data up into a test set and a training set, 30 - 70 %\n",
        "# train_test_split\n",
        "# First argument: x data is all data without class column\n",
        "# Second argument:  this is the class label column\n",
        "# Random state = 0: ensures the train and test splitting is deterministic. \n",
        "\n",
        "X_train, X_test, y_train, y_test = train_test_split(data.drop(['resilience', # y\n",
        "             'gender', \n",
        "             'age', \n",
        "             'amount_music',\n",
        "             'trauma', \n",
        "             'self_actualization', \n",
        "             'life_enjoyment', \n",
        "             'balanced_life', \n",
        "             'emotional_flex',\n",
        "             'health_categorical',\n",
        "             'total_health',\n",
        "             'genres'],\n",
        "            axis = 1),\n",
        "            data['self_actualization'], # y to be predicted\n",
        "            test_size=0.3,\n",
        "            random_state=0) \n",
        "\n",
        "from sklearn.preprocessing import StandardScaler\n",
        "from sklearn.linear_model import Lasso\n",
        "from sklearn.pipeline import Pipeline\n",
        "\n",
        "featurepipe = Pipeline([('scaler', StandardScaler()),\n",
        "                 ('reg', Lasso())])\n",
        "\n",
        "featurepipe.fit(X_train, y_train)\n",
        "predicted = featurepipe.predict(X_test)\n",
        "\n",
        "# print MSE\n",
        "from sklearn.metrics import accuracy_score, mean_squared_error\n",
        "\n",
        "print(mean_squared_error(y_test, predicted))"
      ],
      "execution_count": 99,
      "outputs": [
        {
          "output_type": "stream",
          "name": "stdout",
          "text": [
            "2.2004675405958465\n"
          ]
        }
      ]
    },
    {
      "cell_type": "markdown",
      "metadata": {
        "id": "61fKwP10lpSN"
      },
      "source": [
        "##### PCA"
      ]
    },
    {
      "cell_type": "code",
      "metadata": {
        "colab": {
          "base_uri": "https://localhost:8080/"
        },
        "id": "Jd-C33UumFr9",
        "outputId": "9b966ae2-6e39-4a5e-cd3b-29de48d09c7c"
      },
      "source": [
        "# training and test split\n",
        "from sklearn.model_selection import train_test_split\n",
        "\n",
        "# data = pd.get_dummies(data, drop_first=True)\n",
        "# We split the data up into a test set and a training set, 30 - 70 %\n",
        "# train_test_split\n",
        "# First argument: x data is all data without class column\n",
        "# Second argument:  this is the class label column\n",
        "# Random state = 0: ensures the train and test splitting is deterministic. \n",
        "\n",
        "X_train, X_test, y_train, y_test = train_test_split(data.drop(['resilience', # y\n",
        "             'gender', \n",
        "             'age', \n",
        "             'amount_music',\n",
        "             'trauma', \n",
        "             'self_actualization', \n",
        "             'life_enjoyment', \n",
        "             'balanced_life', \n",
        "             'emotional_flex',\n",
        "             'health_categorical',\n",
        "             'total_health',\n",
        "             'genres'],\n",
        "            axis = 1),\n",
        "            data['self_actualization'], # y to be predicted\n",
        "            test_size=0.3,\n",
        "            random_state=0) \n",
        "\n",
        "from sklearn.decomposition import PCA\n",
        "from sklearn.linear_model import Lasso\n",
        "from sklearn.pipeline import Pipeline\n",
        "\n",
        "featurepipe = Pipeline([('pca', PCA()),\n",
        "                 ('reg', Lasso())])\n",
        "\n",
        "featurepipe.fit(X_train, y_train)\n",
        "predicted = featurepipe.predict(X_test)\n",
        "\n",
        "# print MSE\n",
        "from sklearn.metrics import accuracy_score, mean_squared_error\n",
        "\n",
        "print(mean_squared_error(y_test, predicted))"
      ],
      "execution_count": 100,
      "outputs": [
        {
          "output_type": "stream",
          "name": "stdout",
          "text": [
            "2.1967967245261284\n"
          ]
        }
      ]
    },
    {
      "cell_type": "markdown",
      "metadata": {
        "id": "eWClosMPlrrF"
      },
      "source": [
        "##### MinMax Scaler"
      ]
    },
    {
      "cell_type": "code",
      "metadata": {
        "colab": {
          "base_uri": "https://localhost:8080/"
        },
        "id": "03juuRCfmG77",
        "outputId": "ca36864a-e33b-4f96-f98f-804bde602949"
      },
      "source": [
        "# training and test split\n",
        "from sklearn.model_selection import train_test_split\n",
        "\n",
        "# data = pd.get_dummies(data, drop_first=True)\n",
        "# We split the data up into a test set and a training set, 30 - 70 %\n",
        "# train_test_split\n",
        "# First argument: x data is all data without class column\n",
        "# Second argument:  this is the class label column\n",
        "# Random state = 0: ensures the train and test splitting is deterministic. \n",
        "\n",
        "X_train, X_test, y_train, y_test = train_test_split(data.drop(['resilience', # y\n",
        "             'gender', \n",
        "             'age', \n",
        "             'amount_music',\n",
        "             'trauma', \n",
        "             'self_actualization', \n",
        "             'life_enjoyment', \n",
        "             'balanced_life', \n",
        "             'emotional_flex',\n",
        "             'health_categorical',\n",
        "             'total_health',\n",
        "             'genres'],\n",
        "            axis = 1),\n",
        "            data['self_actualization'], # y to be predicted\n",
        "            test_size=0.3,\n",
        "            random_state=0) \n",
        "\n",
        "from sklearn.preprocessing import MinMaxScaler\n",
        "from sklearn.linear_model import Lasso\n",
        "from sklearn.pipeline import Pipeline\n",
        "\n",
        "featurepipe = Pipeline([('scaler', MinMaxScaler()),\n",
        "                 ('reg', Lasso())])\n",
        "\n",
        "featurepipe.fit(X_train, y_train)\n",
        "predicted = featurepipe.predict(X_test)\n",
        "\n",
        "# print MSE\n",
        "from sklearn.metrics import accuracy_score, mean_squared_error\n",
        "\n",
        "print(mean_squared_error(y_test, predicted))"
      ],
      "execution_count": 101,
      "outputs": [
        {
          "output_type": "stream",
          "name": "stdout",
          "text": [
            "2.2004675405958465\n"
          ]
        }
      ]
    },
    {
      "cell_type": "markdown",
      "metadata": {
        "id": "oQUyFGFtluDa"
      },
      "source": [
        "##### Function Transformer"
      ]
    },
    {
      "cell_type": "code",
      "metadata": {
        "colab": {
          "base_uri": "https://localhost:8080/"
        },
        "id": "ez4iv0MxmH2Q",
        "outputId": "1e942c82-b352-4bed-fd12-b614b1e839ce"
      },
      "source": [
        "# training and test split\n",
        "from sklearn.model_selection import train_test_split\n",
        "\n",
        "# data = pd.get_dummies(data, drop_first=True)\n",
        "# We split the data up into a test set and a training set, 30 - 70 %\n",
        "# train_test_split\n",
        "# First argument: x data is all data without class column\n",
        "# Second argument:  this is the class label column\n",
        "# Random state = 0: ensures the train and test splitting is deterministic. \n",
        "\n",
        "X_train, X_test, y_train, y_test = train_test_split(data.drop(['resilience', # y\n",
        "             'gender', \n",
        "             'age', \n",
        "             'amount_music',\n",
        "             'trauma', \n",
        "             'self_actualization', \n",
        "             'life_enjoyment', \n",
        "             'balanced_life', \n",
        "             'emotional_flex',\n",
        "             'health_categorical',\n",
        "             'total_health',\n",
        "             'genres'],\n",
        "            axis = 1),\n",
        "            data['self_actualization'], # y to be predicted\n",
        "            test_size=0.3,\n",
        "            random_state=0) \n",
        "\n",
        "from sklearn.preprocessing import FunctionTransformer\n",
        "from sklearn.linear_model import Lasso\n",
        "from sklearn.pipeline import Pipeline\n",
        "\n",
        "featurepipe = Pipeline([('scaler', FunctionTransformer()),\n",
        "                 ('reg', Lasso())])\n",
        "\n",
        "featurepipe.fit(X_train, y_train)\n",
        "predicted = featurepipe.predict(X_test)\n",
        "\n",
        "# print MSE\n",
        "from sklearn.metrics import accuracy_score, mean_squared_error\n",
        "\n",
        "print(mean_squared_error(y_test, predicted))"
      ],
      "execution_count": 102,
      "outputs": [
        {
          "output_type": "stream",
          "name": "stdout",
          "text": [
            "2.1965349138581005\n"
          ]
        }
      ]
    }
  ]
}

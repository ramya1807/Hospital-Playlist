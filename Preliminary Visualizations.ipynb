{
  "nbformat": 4,
  "nbformat_minor": 0,
  "metadata": {
    "colab": {
      "name": "Visualisations for 28/10 and 01/11 Meeting.ipynb",
      "provenance": [],
      "collapsed_sections": [],
      "toc_visible": true,
      "authorship_tag": "ABX9TyM9KUOupOy5jMUhv8Y5391C",
      "include_colab_link": true
    },
    "kernelspec": {
      "name": "python3",
      "display_name": "Python 3"
    },
    "language_info": {
      "name": "python"
    }
  },
  "cells": [
    {
      "cell_type": "markdown",
      "metadata": {
        "id": "view-in-github",
        "colab_type": "text"
      },
      "source": [
        "<a href=\"https://colab.research.google.com/github/ramya1807/Hospital-Playlist/blob/main/Preliminary%20Visualizations.ipynb\" target=\"_parent\"><img src=\"https://colab.research.google.com/assets/colab-badge.svg\" alt=\"Open In Colab\"/></a>"
      ]
    },
    {
      "cell_type": "markdown",
      "metadata": {
        "id": "X0qa-3cIyDTG"
      },
      "source": [
        "# Import required packages"
      ]
    },
    {
      "cell_type": "code",
      "metadata": {
        "id": "1eALN_LMx2A6"
      },
      "source": [
        "import pandas as pd\n",
        "import seaborn as sns\n"
      ],
      "execution_count": null,
      "outputs": []
    },
    {
      "cell_type": "markdown",
      "metadata": {
        "id": "iDQHjKJDyJR4"
      },
      "source": [
        "# Load Dataset\n",
        "  * GitHub Clone\n",
        "  * Read CSV file, saved as master"
      ]
    },
    {
      "cell_type": "code",
      "metadata": {
        "colab": {
          "base_uri": "https://localhost:8080/"
        },
        "id": "_XAo7DTjxb4n",
        "outputId": "7ee67091-6281-414d-be55-019e397813fc"
      },
      "source": [
        "!git clone https://github.com/SunnyShikhar/music-datamining.git\n",
        "!ls music-datamining/data"
      ],
      "execution_count": null,
      "outputs": [
        {
          "output_type": "stream",
          "name": "stdout",
          "text": [
            "Cloning into 'music-datamining'...\n",
            "remote: Enumerating objects: 1228, done.\u001b[K\n",
            "remote: Total 1228 (delta 0), reused 0 (delta 0), pack-reused 1228\u001b[K\n",
            "Receiving objects: 100% (1228/1228), 8.41 MiB | 21.43 MiB/s, done.\n",
            "Resolving deltas: 100% (376/376), done.\n",
            "master.csv  song_metrics.csv  songs_only.csv  survey.csv\n"
          ]
        }
      ]
    },
    {
      "cell_type": "code",
      "metadata": {
        "colab": {
          "base_uri": "https://localhost:8080/",
          "height": 981
        },
        "id": "b5lvgOfgxxK6",
        "outputId": "53f324cf-3734-4406-c57a-46abed811fa2"
      },
      "source": [
        "master = pd.read_csv('music-datamining/data/master.csv')\n",
        "master"
      ],
      "execution_count": null,
      "outputs": [
        {
          "output_type": "execute_result",
          "data": {
            "text/html": [
              "<div>\n",
              "<style scoped>\n",
              "    .dataframe tbody tr th:only-of-type {\n",
              "        vertical-align: middle;\n",
              "    }\n",
              "\n",
              "    .dataframe tbody tr th {\n",
              "        vertical-align: top;\n",
              "    }\n",
              "\n",
              "    .dataframe thead th {\n",
              "        text-align: right;\n",
              "    }\n",
              "</style>\n",
              "<table border=\"1\" class=\"dataframe\">\n",
              "  <thead>\n",
              "    <tr style=\"text-align: right;\">\n",
              "      <th></th>\n",
              "      <th>timestamp</th>\n",
              "      <th>gender</th>\n",
              "      <th>age</th>\n",
              "      <th>amount_music</th>\n",
              "      <th>life_enjoyment</th>\n",
              "      <th>resilience</th>\n",
              "      <th>balanced_life</th>\n",
              "      <th>emotional_flex</th>\n",
              "      <th>self_actualization</th>\n",
              "      <th>song1</th>\n",
              "      <th>song2</th>\n",
              "      <th>song3</th>\n",
              "      <th>trauma</th>\n",
              "      <th>id</th>\n",
              "      <th>total_health</th>\n",
              "      <th>energy</th>\n",
              "      <th>dance</th>\n",
              "      <th>liveness</th>\n",
              "      <th>valence</th>\n",
              "      <th>tempo</th>\n",
              "      <th>instrumental</th>\n",
              "      <th>acoustic</th>\n",
              "      <th>popularity</th>\n",
              "      <th>health_categorical</th>\n",
              "    </tr>\n",
              "  </thead>\n",
              "  <tbody>\n",
              "    <tr>\n",
              "      <th>0</th>\n",
              "      <td>05/11/2016 14:34:00</td>\n",
              "      <td>Male</td>\n",
              "      <td>18 - 30</td>\n",
              "      <td>1 - 2</td>\n",
              "      <td>4</td>\n",
              "      <td>3</td>\n",
              "      <td>5</td>\n",
              "      <td>3</td>\n",
              "      <td>6</td>\n",
              "      <td>Too Good Drake</td>\n",
              "      <td>Trust Nobody Selena Gomez Tory Lanez Cashmere Cat</td>\n",
              "      <td>Don't Wanna Know Maroon5 Kendrick Lamar</td>\n",
              "      <td>No</td>\n",
              "      <td>0</td>\n",
              "      <td>21</td>\n",
              "      <td>0.633000</td>\n",
              "      <td>0.655000</td>\n",
              "      <td>0.110000</td>\n",
              "      <td>0.571500</td>\n",
              "      <td>98.368000</td>\n",
              "      <td>0.000025</td>\n",
              "      <td>0.281600</td>\n",
              "      <td>71.500000</td>\n",
              "      <td>1.0</td>\n",
              "    </tr>\n",
              "    <tr>\n",
              "      <th>1</th>\n",
              "      <td>05/11/2016 14:45:26</td>\n",
              "      <td>Male</td>\n",
              "      <td>18 - 30</td>\n",
              "      <td>1 - 2</td>\n",
              "      <td>6</td>\n",
              "      <td>6</td>\n",
              "      <td>3</td>\n",
              "      <td>5</td>\n",
              "      <td>5</td>\n",
              "      <td>Put that on my set asap rocky ft skepta</td>\n",
              "      <td>High rhe beach lana del rey</td>\n",
              "      <td>New level asap ferg</td>\n",
              "      <td>No</td>\n",
              "      <td>1</td>\n",
              "      <td>25</td>\n",
              "      <td>0.655000</td>\n",
              "      <td>0.526000</td>\n",
              "      <td>0.116000</td>\n",
              "      <td>0.156000</td>\n",
              "      <td>121.127000</td>\n",
              "      <td>0.000000</td>\n",
              "      <td>0.056600</td>\n",
              "      <td>65.000000</td>\n",
              "      <td>1.0</td>\n",
              "    </tr>\n",
              "    <tr>\n",
              "      <th>2</th>\n",
              "      <td>05/11/2016 14:45:41</td>\n",
              "      <td>Female</td>\n",
              "      <td>18 - 30</td>\n",
              "      <td>0 - 1</td>\n",
              "      <td>5</td>\n",
              "      <td>5</td>\n",
              "      <td>4</td>\n",
              "      <td>4</td>\n",
              "      <td>5</td>\n",
              "      <td>Fireproof Coleman Hell</td>\n",
              "      <td>Love on the Brain Rhianna</td>\n",
              "      <td>This Girl Kungs vs Cookin' on 3 Burners</td>\n",
              "      <td>No</td>\n",
              "      <td>2</td>\n",
              "      <td>23</td>\n",
              "      <td>0.745500</td>\n",
              "      <td>0.742000</td>\n",
              "      <td>0.183500</td>\n",
              "      <td>0.618500</td>\n",
              "      <td>125.009000</td>\n",
              "      <td>0.000023</td>\n",
              "      <td>0.053800</td>\n",
              "      <td>63.500000</td>\n",
              "      <td>1.0</td>\n",
              "    </tr>\n",
              "    <tr>\n",
              "      <th>3</th>\n",
              "      <td>05/11/2016 14:45:55</td>\n",
              "      <td>Male</td>\n",
              "      <td>18 - 30</td>\n",
              "      <td>2+</td>\n",
              "      <td>3</td>\n",
              "      <td>6</td>\n",
              "      <td>5</td>\n",
              "      <td>5</td>\n",
              "      <td>5</td>\n",
              "      <td>Eyes Nose Lips TaeYang</td>\n",
              "      <td>Me Like Yuh Jay Park</td>\n",
              "      <td>Aquaman Jay Park</td>\n",
              "      <td>No</td>\n",
              "      <td>3</td>\n",
              "      <td>24</td>\n",
              "      <td>0.739000</td>\n",
              "      <td>0.681667</td>\n",
              "      <td>0.148900</td>\n",
              "      <td>0.596000</td>\n",
              "      <td>113.576000</td>\n",
              "      <td>0.000001</td>\n",
              "      <td>0.348867</td>\n",
              "      <td>60.333333</td>\n",
              "      <td>1.0</td>\n",
              "    </tr>\n",
              "    <tr>\n",
              "      <th>4</th>\n",
              "      <td>05/11/2016 14:49:15</td>\n",
              "      <td>Female</td>\n",
              "      <td>18 - 30</td>\n",
              "      <td>0 - 1</td>\n",
              "      <td>2</td>\n",
              "      <td>5</td>\n",
              "      <td>2</td>\n",
              "      <td>1</td>\n",
              "      <td>5</td>\n",
              "      <td>Sugar Wanderlust</td>\n",
              "      <td>Blue Jeans Lana Del Ray</td>\n",
              "      <td>Mr. Bright side the killers</td>\n",
              "      <td>Yes</td>\n",
              "      <td>4</td>\n",
              "      <td>15</td>\n",
              "      <td>0.539000</td>\n",
              "      <td>0.513000</td>\n",
              "      <td>0.215500</td>\n",
              "      <td>0.291500</td>\n",
              "      <td>122.460500</td>\n",
              "      <td>0.464350</td>\n",
              "      <td>0.599500</td>\n",
              "      <td>3.000000</td>\n",
              "      <td>0.0</td>\n",
              "    </tr>\n",
              "    <tr>\n",
              "      <th>...</th>\n",
              "      <td>...</td>\n",
              "      <td>...</td>\n",
              "      <td>...</td>\n",
              "      <td>...</td>\n",
              "      <td>...</td>\n",
              "      <td>...</td>\n",
              "      <td>...</td>\n",
              "      <td>...</td>\n",
              "      <td>...</td>\n",
              "      <td>...</td>\n",
              "      <td>...</td>\n",
              "      <td>...</td>\n",
              "      <td>...</td>\n",
              "      <td>...</td>\n",
              "      <td>...</td>\n",
              "      <td>...</td>\n",
              "      <td>...</td>\n",
              "      <td>...</td>\n",
              "      <td>...</td>\n",
              "      <td>...</td>\n",
              "      <td>...</td>\n",
              "      <td>...</td>\n",
              "      <td>...</td>\n",
              "      <td>...</td>\n",
              "    </tr>\n",
              "    <tr>\n",
              "      <th>230</th>\n",
              "      <td>08/11/2016 11:48:52</td>\n",
              "      <td>Female</td>\n",
              "      <td>18 - 30</td>\n",
              "      <td>0 - 1</td>\n",
              "      <td>5</td>\n",
              "      <td>5</td>\n",
              "      <td>3</td>\n",
              "      <td>5</td>\n",
              "      <td>5</td>\n",
              "      <td>When I see you again Charlie Puth</td>\n",
              "      <td>GOLD Kiiara</td>\n",
              "      <td>I was here Beyonce</td>\n",
              "      <td>No</td>\n",
              "      <td>230</td>\n",
              "      <td>23</td>\n",
              "      <td>0.519500</td>\n",
              "      <td>0.555000</td>\n",
              "      <td>0.113350</td>\n",
              "      <td>0.321000</td>\n",
              "      <td>112.020500</td>\n",
              "      <td>0.001250</td>\n",
              "      <td>0.523000</td>\n",
              "      <td>69.000000</td>\n",
              "      <td>1.0</td>\n",
              "    </tr>\n",
              "    <tr>\n",
              "      <th>231</th>\n",
              "      <td>08/11/2016 12:02:50</td>\n",
              "      <td>Male</td>\n",
              "      <td>18 - 30</td>\n",
              "      <td>1 - 2</td>\n",
              "      <td>2</td>\n",
              "      <td>3</td>\n",
              "      <td>4</td>\n",
              "      <td>3</td>\n",
              "      <td>3</td>\n",
              "      <td>Light up the sky the Afters</td>\n",
              "      <td>Son of man Phil Colins</td>\n",
              "      <td>If Today is your last day Nickelback</td>\n",
              "      <td>Yes</td>\n",
              "      <td>231</td>\n",
              "      <td>15</td>\n",
              "      <td>0.635500</td>\n",
              "      <td>0.520500</td>\n",
              "      <td>0.210300</td>\n",
              "      <td>0.498500</td>\n",
              "      <td>115.990000</td>\n",
              "      <td>0.016350</td>\n",
              "      <td>0.015955</td>\n",
              "      <td>27.000000</td>\n",
              "      <td>0.0</td>\n",
              "    </tr>\n",
              "    <tr>\n",
              "      <th>232</th>\n",
              "      <td>08/11/2016 12:38:19</td>\n",
              "      <td>Female</td>\n",
              "      <td>18 - 30</td>\n",
              "      <td>0 - 1</td>\n",
              "      <td>4</td>\n",
              "      <td>5</td>\n",
              "      <td>4</td>\n",
              "      <td>5</td>\n",
              "      <td>5</td>\n",
              "      <td>Reaper Sia</td>\n",
              "      <td>Lost On You Death Valley</td>\n",
              "      <td>Don't Ed Sheeran</td>\n",
              "      <td>Yes</td>\n",
              "      <td>232</td>\n",
              "      <td>23</td>\n",
              "      <td>0.738333</td>\n",
              "      <td>0.686000</td>\n",
              "      <td>0.283033</td>\n",
              "      <td>0.778667</td>\n",
              "      <td>99.346667</td>\n",
              "      <td>0.060037</td>\n",
              "      <td>0.017473</td>\n",
              "      <td>62.000000</td>\n",
              "      <td>1.0</td>\n",
              "    </tr>\n",
              "    <tr>\n",
              "      <th>233</th>\n",
              "      <td>08/11/2016 19:39:43</td>\n",
              "      <td>Female</td>\n",
              "      <td>18 - 30</td>\n",
              "      <td>2+</td>\n",
              "      <td>0</td>\n",
              "      <td>3</td>\n",
              "      <td>3</td>\n",
              "      <td>1</td>\n",
              "      <td>1</td>\n",
              "      <td>fake love drake</td>\n",
              "      <td>24K Magic Bruno Mars</td>\n",
              "      <td>daddy lessons beyonce</td>\n",
              "      <td>No</td>\n",
              "      <td>233</td>\n",
              "      <td>8</td>\n",
              "      <td>0.633000</td>\n",
              "      <td>0.800333</td>\n",
              "      <td>0.392467</td>\n",
              "      <td>0.638000</td>\n",
              "      <td>119.664333</td>\n",
              "      <td>0.000005</td>\n",
              "      <td>0.047067</td>\n",
              "      <td>75.333333</td>\n",
              "      <td>0.0</td>\n",
              "    </tr>\n",
              "    <tr>\n",
              "      <th>234</th>\n",
              "      <td>12/12/2016 18:59:19</td>\n",
              "      <td>Male</td>\n",
              "      <td>18 - 30</td>\n",
              "      <td>2+</td>\n",
              "      <td>5</td>\n",
              "      <td>5</td>\n",
              "      <td>5</td>\n",
              "      <td>6</td>\n",
              "      <td>6</td>\n",
              "      <td>Crystal Blue Persuasion Tommy James</td>\n",
              "      <td>You Got It On  Justin Timberlake</td>\n",
              "      <td>New Person Same Old Mistakes Tame Impala</td>\n",
              "      <td>Yes</td>\n",
              "      <td>234</td>\n",
              "      <td>27</td>\n",
              "      <td>0.521333</td>\n",
              "      <td>0.549000</td>\n",
              "      <td>0.140700</td>\n",
              "      <td>0.591333</td>\n",
              "      <td>112.479333</td>\n",
              "      <td>0.003218</td>\n",
              "      <td>0.236667</td>\n",
              "      <td>53.000000</td>\n",
              "      <td>1.0</td>\n",
              "    </tr>\n",
              "  </tbody>\n",
              "</table>\n",
              "<p>235 rows × 24 columns</p>\n",
              "</div>"
            ],
            "text/plain": [
              "               timestamp  gender  ... popularity health_categorical\n",
              "0    05/11/2016 14:34:00    Male  ...  71.500000                1.0\n",
              "1    05/11/2016 14:45:26    Male  ...  65.000000                1.0\n",
              "2    05/11/2016 14:45:41  Female  ...  63.500000                1.0\n",
              "3    05/11/2016 14:45:55    Male  ...  60.333333                1.0\n",
              "4    05/11/2016 14:49:15  Female  ...   3.000000                0.0\n",
              "..                   ...     ...  ...        ...                ...\n",
              "230  08/11/2016 11:48:52  Female  ...  69.000000                1.0\n",
              "231  08/11/2016 12:02:50    Male  ...  27.000000                0.0\n",
              "232  08/11/2016 12:38:19  Female  ...  62.000000                1.0\n",
              "233  08/11/2016 19:39:43  Female  ...  75.333333                0.0\n",
              "234  12/12/2016 18:59:19    Male  ...  53.000000                1.0\n",
              "\n",
              "[235 rows x 24 columns]"
            ]
          },
          "metadata": {},
          "execution_count": 3
        }
      ]
    },
    {
      "cell_type": "code",
      "metadata": {
        "id": "rhrCKWXi8nH0"
      },
      "source": [
        "data = pd.DataFrame(master)"
      ],
      "execution_count": null,
      "outputs": []
    },
    {
      "cell_type": "code",
      "metadata": {
        "id": "X6P7DewArUP2"
      },
      "source": [
        "data = data.dropna()"
      ],
      "execution_count": null,
      "outputs": []
    },
    {
      "cell_type": "markdown",
      "metadata": {
        "id": "_DIiI7yyyWHp"
      },
      "source": [
        "# Explore Data Structure\n",
        "  * Look at columns available and their datatypes\n",
        "  * Identify more interesting columns to be explored and the visualisation type"
      ]
    },
    {
      "cell_type": "code",
      "metadata": {
        "colab": {
          "base_uri": "https://localhost:8080/"
        },
        "id": "OAdzG6LK9PV4",
        "outputId": "bf0f9b0e-5ab9-4f5c-98aa-182cee751b77"
      },
      "source": [
        "print(master.columns)"
      ],
      "execution_count": null,
      "outputs": [
        {
          "output_type": "stream",
          "name": "stdout",
          "text": [
            "Index(['timestamp', 'gender', 'age', 'amount_music', 'life_enjoyment',\n",
            "       'resilience', 'balanced_life', 'emotional_flex', 'self_actualization',\n",
            "       'song1', 'song2', 'song3', 'trauma', 'id', 'total_health', 'energy',\n",
            "       'dance', 'liveness', 'valence', 'tempo', 'instrumental', 'acoustic',\n",
            "       'popularity', 'health_categorical'],\n",
            "      dtype='object')\n"
          ]
        }
      ]
    },
    {
      "cell_type": "code",
      "metadata": {
        "colab": {
          "base_uri": "https://localhost:8080/"
        },
        "id": "IEzujpKnyzHA",
        "outputId": "bd8e6c5b-8e02-47c8-8be9-cf95705b6e07"
      },
      "source": [
        "master.dtypes"
      ],
      "execution_count": null,
      "outputs": [
        {
          "output_type": "execute_result",
          "data": {
            "text/plain": [
              "timestamp              object\n",
              "gender                 object\n",
              "age                    object\n",
              "amount_music           object\n",
              "life_enjoyment          int64\n",
              "resilience              int64\n",
              "balanced_life           int64\n",
              "emotional_flex          int64\n",
              "self_actualization      int64\n",
              "song1                  object\n",
              "song2                  object\n",
              "song3                  object\n",
              "trauma                 object\n",
              "id                      int64\n",
              "total_health            int64\n",
              "energy                float64\n",
              "dance                 float64\n",
              "liveness              float64\n",
              "valence               float64\n",
              "tempo                 float64\n",
              "instrumental          float64\n",
              "acoustic              float64\n",
              "popularity            float64\n",
              "health_categorical    float64\n",
              "dtype: object"
            ]
          },
          "metadata": {},
          "execution_count": 7
        }
      ]
    },
    {
      "cell_type": "code",
      "metadata": {
        "id": "NDI6WqC_dNLi"
      },
      "source": [
        "cat_codes = ['gender', 'age', 'song1', 'song2', 'song3', 'trauma', 'amount_music']\n",
        "for i in cat_codes:\n",
        "  data[i] = pd.Categorical(data[i])\n",
        "  data[i] = data[i].cat.codes"
      ],
      "execution_count": null,
      "outputs": []
    },
    {
      "cell_type": "markdown",
      "metadata": {
        "id": "4tqLULcI4Wkk"
      },
      "source": [
        "interviewee data\n",
        "* timestamp              object\n",
        "* gender                 object (Done by Suzanne)\n",
        "* age                    object\n",
        "* amount_music           object (0-1, 1-2, 2+, 3+, 5, 9)\n",
        "* id                      int64 (assign id to each interviewee)\n",
        "\n",
        "interview health data\n",
        "* life_enjoyment          int64 (rated on likert scale)\n",
        "* resilience              int64 (rated on likert scale)\n",
        "* balanced_life           int64 (rated on likert scale)\n",
        "* emotional_flex          int64 (rated on likert scale)\n",
        "* self_actualization      int64 (rated on likert scale)\n",
        "* trauma                 object (Yes/No)\n",
        "* total_health            int64 (summation of likert values)\n",
        "* health_categorical    float64 (0/1 depending on total_health value)\n",
        "\n",
        "song data\n",
        "* song1                  object (name of song)\n",
        "* song2                  object (name of song)\n",
        "* song3                  object (name of song)\n",
        "* energy                float64\n",
        "* dance                 float64\n",
        "* liveness              float64\n",
        "* valence               float64\n",
        "* tempo                 float64\n",
        "* instrumental          float64\n",
        "* acoustic              float64\n",
        "* popularity            float64\n"
      ]
    },
    {
      "cell_type": "markdown",
      "metadata": {
        "id": "IIHJcAqa6y8W"
      },
      "source": [
        "Chosen visualisations and attributes:\n",
        "* trauma and total_health by number of hours spent listening to music\n",
        "* trauma and total_health mapped to each song variable (energy to popularity)."
      ]
    },
    {
      "cell_type": "markdown",
      "metadata": {
        "id": "shZNTdUP66uh"
      },
      "source": [
        "# Data Visualisation: Distribution of hours spent listening to music mapped to health variables"
      ]
    },
    {
      "cell_type": "code",
      "metadata": {
        "colab": {
          "base_uri": "https://localhost:8080/",
          "height": 280
        },
        "id": "Jp-81Dko-yZ9",
        "outputId": "dccb6022-2f2d-41a2-aea1-180c6f36f564"
      },
      "source": [
        "sns.countplot(x=\"amount_music\", data=data, palette=\"muted\");\n",
        "# mostly 2+ hours of music"
      ],
      "execution_count": null,
      "outputs": [
        {
          "output_type": "display_data",
          "data": {
            "image/png": "[encoded data removed]",
            "text/plain": [
              "<Figure size 432x288 with 1 Axes>"
            ]
          },
          "metadata": {
            "needs_background": "light"
          }
        }
      ]
    },
    {
      "cell_type": "markdown",
      "metadata": {
        "id": "kKmmAkc87F5q"
      },
      "source": [
        "## Trauma as categorical health variable"
      ]
    },
    {
      "cell_type": "code",
      "metadata": {
        "colab": {
          "base_uri": "https://localhost:8080/",
          "height": 278
        },
        "id": "9U6GdU68-ouL",
        "outputId": "bc027c7d-8f8c-43bf-b601-2ab1ff27e45e"
      },
      "source": [
        "sns.countplot(x=\"trauma\", data=data, palette=\"muted\");\n",
        "# Mostly no trauma"
      ],
      "execution_count": null,
      "outputs": [
        {
          "output_type": "display_data",
          "data": {
            "image/png": "[encoded data removed]",
            "text/plain": [
              "<Figure size 432x288 with 1 Axes>"
            ]
          },
          "metadata": {
            "needs_background": "light"
          }
        }
      ]
    },
    {
      "cell_type": "code",
      "metadata": {
        "id": "8tV5q8wC9Ecr"
      },
      "source": [
        "# getting values as a list\n",
        "trauma = master.trauma.to_list()\n",
        "amount_music = master.amount_music.to_list()"
      ],
      "execution_count": null,
      "outputs": []
    },
    {
      "cell_type": "code",
      "metadata": {
        "colab": {
          "base_uri": "https://localhost:8080/",
          "height": 386
        },
        "id": "xy3f8Z71_-6X",
        "outputId": "b7d06883-3feb-4249-a5c4-90e114e9eb2c"
      },
      "source": [
        "sns.displot(data=data, x='amount_music', hue='trauma', multiple='stack')"
      ],
      "execution_count": null,
      "outputs": [
        {
          "output_type": "execute_result",
          "data": {
            "text/plain": [
              "<seaborn.axisgrid.FacetGrid at 0x7f9e8f7f5750>"
            ]
          },
          "metadata": {},
          "execution_count": 12
        },
        {
          "output_type": "display_data",
          "data": {
            "image/png": "[encoded data removed]",
            "text/plain": [
              "<Figure size 404.25x360 with 1 Axes>"
            ]
          },
          "metadata": {
            "needs_background": "light"
          }
        }
      ]
    },
    {
      "cell_type": "markdown",
      "metadata": {
        "id": "Aa-Ja9qF7OJY"
      },
      "source": [
        "## Total health as integer health variable"
      ]
    },
    {
      "cell_type": "code",
      "metadata": {
        "colab": {
          "base_uri": "https://localhost:8080/",
          "height": 280
        },
        "id": "OC3vOiPkC2WX",
        "outputId": "df50587b-7293-4ff9-9ea4-0c758f3cf86a"
      },
      "source": [
        "sns.countplot(x=\"total_health\", data=data, palette=\"tab10\");\n",
        "# Mostly health averaging around 20 to 24 which is roughly 4-5 for each likert scale variable\n",
        "\n",
        "# show diversity of total_health"
      ],
      "execution_count": null,
      "outputs": [
        {
          "output_type": "display_data",
          "data": {
            "image/png": "[encoded data removed]",
            "text/plain": [
              "<Figure size 432x288 with 1 Axes>"
            ]
          },
          "metadata": {
            "needs_background": "light"
          }
        }
      ]
    },
    {
      "cell_type": "code",
      "metadata": {
        "id": "2k-766FV92TW"
      },
      "source": [
        "# getting values as a list\n",
        "total_health = master.total_health.to_list()"
      ],
      "execution_count": null,
      "outputs": []
    },
    {
      "cell_type": "code",
      "metadata": {
        "colab": {
          "base_uri": "https://localhost:8080/",
          "height": 386
        },
        "id": "P_uQuCMqC-NQ",
        "outputId": "60a4490f-663a-4ac2-bff6-48ac773056bc"
      },
      "source": [
        "sns.displot(data=data, x='total_health', hue='amount_music', multiple='stack')"
      ],
      "execution_count": null,
      "outputs": [
        {
          "output_type": "execute_result",
          "data": {
            "text/plain": [
              "<seaborn.axisgrid.FacetGrid at 0x7f9e9002d6d0>"
            ]
          },
          "metadata": {},
          "execution_count": 15
        },
        {
          "output_type": "display_data",
          "data": {
            "image/png": "[encoded data removed]",
            "text/plain": [
              "<Figure size 441x360 with 1 Axes>"
            ]
          },
          "metadata": {
            "needs_background": "light"
          }
        }
      ]
    },
    {
      "cell_type": "code",
      "metadata": {
        "id": "-QF56XKNusmG"
      },
      "source": [
        "# Data Visualisation: Trauma mapped to mental health"
      ],
      "execution_count": null,
      "outputs": []
    },
    {
      "cell_type": "markdown",
      "metadata": {
        "id": "HZva5JJnDbRC"
      },
      "source": [
        "# Data Visualisation: Trauma mapped to each song variable (energy to popularity).\n",
        "* energy                float64\n",
        "* dance                 float64\n",
        "* liveness              float64\n",
        "* valence               float64\n",
        "* tempo                 float64\n",
        "* instrumental          float64\n",
        "* acoustic              float64\n",
        "* popularity            float64"
      ]
    },
    {
      "cell_type": "code",
      "metadata": {
        "id": "avOPW4nUDpSQ"
      },
      "source": [
        "# map all variables\n",
        "energy = master.energy.to_list()\n",
        "dance = master.dance.to_list()\n",
        "liveness = master.liveness.to_list()\n",
        "valence = master.valence.to_list()\n",
        "tempo = master.tempo.to_list()\n",
        "instrumental = master.instrumental.to_list()\n",
        "acoustic = master.acoustic.to_list()\n",
        "popularity = master.popularity.to_list()"
      ],
      "execution_count": null,
      "outputs": []
    },
    {
      "cell_type": "markdown",
      "metadata": {
        "id": "BSOGoHB_DeI4"
      },
      "source": [
        "## Energy"
      ]
    },
    {
      "cell_type": "code",
      "metadata": {
        "colab": {
          "base_uri": "https://localhost:8080/",
          "height": 386
        },
        "id": "jN_lzhHxEpN6",
        "outputId": "7468811c-6f1c-40ea-8d15-da6a65d31e5e"
      },
      "source": [
        "sns.displot(x='energy', data=data, hue='trauma', multiple='stack') \n",
        "# energy count higher nearing 0.7"
      ],
      "execution_count": null,
      "outputs": [
        {
          "output_type": "execute_result",
          "data": {
            "text/plain": [
              "<seaborn.axisgrid.FacetGrid at 0x7f9e86d55250>"
            ]
          },
          "metadata": {},
          "execution_count": 18
        },
        {
          "output_type": "display_data",
          "data": {
            "image/png": "[encoded data removed]",
            "text/plain": [
              "<Figure size 404.25x360 with 1 Axes>"
            ]
          },
          "metadata": {
            "needs_background": "light"
          }
        }
      ]
    },
    {
      "cell_type": "markdown",
      "metadata": {
        "id": "lj05fipHEKpV"
      },
      "source": [
        "## Dance"
      ]
    },
    {
      "cell_type": "code",
      "metadata": {
        "colab": {
          "base_uri": "https://localhost:8080/",
          "height": 386
        },
        "id": "zK0_pMRbE7qM",
        "outputId": "d89828eb-99e2-4701-adbe-9cc3da5e8afe"
      },
      "source": [
        "sns.displot(x='dance', data=data, hue='trauma', multiple='stack') \n",
        "# dance values highest from 0.6 to 0.75"
      ],
      "execution_count": null,
      "outputs": [
        {
          "output_type": "execute_result",
          "data": {
            "text/plain": [
              "<seaborn.axisgrid.FacetGrid at 0x7f9e86c25050>"
            ]
          },
          "metadata": {},
          "execution_count": 19
        },
        {
          "output_type": "display_data",
          "data": {
            "image/png": "[encoded data removed]",
            "text/plain": [
              "<Figure size 404.25x360 with 1 Axes>"
            ]
          },
          "metadata": {
            "needs_background": "light"
          }
        }
      ]
    },
    {
      "cell_type": "markdown",
      "metadata": {
        "id": "uh1BHQzUEMql"
      },
      "source": [
        "## Liveness"
      ]
    },
    {
      "cell_type": "code",
      "metadata": {
        "colab": {
          "base_uri": "https://localhost:8080/",
          "height": 386
        },
        "id": "7O0gy8E5FKPQ",
        "outputId": "684e9af9-4e80-42e4-a5e2-9f80210ce765"
      },
      "source": [
        "sns.displot(x='liveness', data=data, hue='trauma', multiple='stack') "
      ],
      "execution_count": null,
      "outputs": [
        {
          "output_type": "execute_result",
          "data": {
            "text/plain": [
              "<seaborn.axisgrid.FacetGrid at 0x7f9e86b8fbd0>"
            ]
          },
          "metadata": {},
          "execution_count": 20
        },
        {
          "output_type": "display_data",
          "data": {
            "image/png": "[encoded data removed]",
            "text/plain": [
              "<Figure size 404.25x360 with 1 Axes>"
            ]
          },
          "metadata": {
            "needs_background": "light"
          }
        }
      ]
    },
    {
      "cell_type": "markdown",
      "metadata": {
        "id": "pG3OR61fEODP"
      },
      "source": [
        "## Valence"
      ]
    },
    {
      "cell_type": "code",
      "metadata": {
        "colab": {
          "base_uri": "https://localhost:8080/",
          "height": 386
        },
        "id": "g9F04G_SFjOE",
        "outputId": "27cff6f4-b38a-43dd-9d37-943625f116fe"
      },
      "source": [
        "sns.displot(x='valence', data=data, hue='trauma', multiple='stack') "
      ],
      "execution_count": null,
      "outputs": [
        {
          "output_type": "execute_result",
          "data": {
            "text/plain": [
              "<seaborn.axisgrid.FacetGrid at 0x7f9e86a9edd0>"
            ]
          },
          "metadata": {},
          "execution_count": 21
        },
        {
          "output_type": "display_data",
          "data": {
            "image/png": "[encoded data removed]",
            "text/plain": [
              "<Figure size 404.25x360 with 1 Axes>"
            ]
          },
          "metadata": {
            "needs_background": "light"
          }
        }
      ]
    },
    {
      "cell_type": "markdown",
      "metadata": {
        "id": "y3lvQavvEPYK"
      },
      "source": [
        "## Tempo"
      ]
    },
    {
      "cell_type": "code",
      "metadata": {
        "colab": {
          "base_uri": "https://localhost:8080/",
          "height": 386
        },
        "id": "wFB6Fe0wFrj9",
        "outputId": "2f061527-8985-447e-cfdd-4c187804d528"
      },
      "source": [
        "sns.displot(x='tempo', data=data, hue='trauma', multiple='stack') "
      ],
      "execution_count": null,
      "outputs": [
        {
          "output_type": "execute_result",
          "data": {
            "text/plain": [
              "<seaborn.axisgrid.FacetGrid at 0x7f9e86a8ddd0>"
            ]
          },
          "metadata": {},
          "execution_count": 22
        },
        {
          "output_type": "display_data",
          "data": {
            "image/png": "[encoded data removed]",
            "text/plain": [
              "<Figure size 404.25x360 with 1 Axes>"
            ]
          },
          "metadata": {
            "needs_background": "light"
          }
        }
      ]
    },
    {
      "cell_type": "markdown",
      "metadata": {
        "id": "73Xl_RIkEQtT"
      },
      "source": [
        "## Instrumental"
      ]
    },
    {
      "cell_type": "code",
      "metadata": {
        "colab": {
          "base_uri": "https://localhost:8080/",
          "height": 386
        },
        "id": "qpc_tDymFtne",
        "outputId": "e26ebd0a-1d67-4754-a8c6-5aebe1f1e2f2"
      },
      "source": [
        "sns.displot(x='instrumental', data=data, hue='trauma', multiple='stack') \n",
        "# too few data points to consider"
      ],
      "execution_count": null,
      "outputs": [
        {
          "output_type": "execute_result",
          "data": {
            "text/plain": [
              "<seaborn.axisgrid.FacetGrid at 0x7f9e86a27d90>"
            ]
          },
          "metadata": {},
          "execution_count": 23
        },
        {
          "output_type": "display_data",
          "data": {
            "image/png": "[encoded data removed]",
            "text/plain": [
              "<Figure size 404.25x360 with 1 Axes>"
            ]
          },
          "metadata": {
            "needs_background": "light"
          }
        }
      ]
    },
    {
      "cell_type": "markdown",
      "metadata": {
        "id": "0ACnG2QdESFw"
      },
      "source": [
        "## Acoustic"
      ]
    },
    {
      "cell_type": "code",
      "metadata": {
        "colab": {
          "base_uri": "https://localhost:8080/",
          "height": 386
        },
        "id": "f5nuHxBhFzLy",
        "outputId": "a86d9d60-a1da-48c9-d1e9-8a91b35c2005"
      },
      "source": [
        "sns.displot(x='acoustic', data=data, hue='trauma', multiple='stack') "
      ],
      "execution_count": null,
      "outputs": [
        {
          "output_type": "execute_result",
          "data": {
            "text/plain": [
              "<seaborn.axisgrid.FacetGrid at 0x7f9e86926890>"
            ]
          },
          "metadata": {},
          "execution_count": 24
        },
        {
          "output_type": "display_data",
          "data": {
            "image/png": "[encoded data removed]",
            "text/plain": [
              "<Figure size 404.25x360 with 1 Axes>"
            ]
          },
          "metadata": {
            "needs_background": "light"
          }
        }
      ]
    },
    {
      "cell_type": "markdown",
      "metadata": {
        "id": "xPHAfdEgET7U"
      },
      "source": [
        "## Popularity"
      ]
    },
    {
      "cell_type": "code",
      "metadata": {
        "colab": {
          "base_uri": "https://localhost:8080/",
          "height": 386
        },
        "id": "sPEaOtElF1qq",
        "outputId": "a5e1450d-cb71-46a0-a6b2-16aaf666c2db"
      },
      "source": [
        "sns.displot(x='popularity', data=data, hue='trauma', multiple='stack') "
      ],
      "execution_count": null,
      "outputs": [
        {
          "output_type": "execute_result",
          "data": {
            "text/plain": [
              "<seaborn.axisgrid.FacetGrid at 0x7f9e85f753d0>"
            ]
          },
          "metadata": {},
          "execution_count": 25
        },
        {
          "output_type": "display_data",
          "data": {
            "image/png": "[encoded data removed]",
            "text/plain": [
              "<Figure size 404.25x360 with 1 Axes>"
            ]
          },
          "metadata": {
            "needs_background": "light"
          }
        }
      ]
    },
    {
      "cell_type": "markdown",
      "metadata": {
        "id": "h5nhM1j9DiMN"
      },
      "source": [
        "# Data Visualisation: Total health mapped to each song variable (energy to popularity).\n",
        "* energy                float64\n",
        "* dance                 float64\n",
        "* liveness              float64\n",
        "* valence               float64\n",
        "* tempo                 float64\n",
        "* instrumental          float64\n",
        "* acoustic              float64\n",
        "* popularity            float64"
      ]
    },
    {
      "cell_type": "markdown",
      "metadata": {
        "id": "WUSeDZO-EVvT"
      },
      "source": [
        "## Energy"
      ]
    },
    {
      "cell_type": "code",
      "metadata": {
        "colab": {
          "base_uri": "https://localhost:8080/",
          "height": 300
        },
        "id": "wyvm-ADsF4W2",
        "outputId": "410ac438-9b9b-46f8-a2dd-db739e93643d"
      },
      "source": [
        "sns.scatterplot(x='total_health', data=data, y='energy') "
      ],
      "execution_count": null,
      "outputs": [
        {
          "output_type": "execute_result",
          "data": {
            "text/plain": [
              "<matplotlib.axes._subplots.AxesSubplot at 0x7f9e85f5bd10>"
            ]
          },
          "metadata": {},
          "execution_count": 26
        },
        {
          "output_type": "display_data",
          "data": {
            "image/png": "[encoded data removed]",
            "text/plain": [
              "<Figure size 432x288 with 1 Axes>"
            ]
          },
          "metadata": {
            "needs_background": "light"
          }
        }
      ]
    },
    {
      "cell_type": "markdown",
      "metadata": {
        "id": "w-EFrcEGEZzm"
      },
      "source": [
        "## Dance"
      ]
    },
    {
      "cell_type": "code",
      "metadata": {
        "colab": {
          "base_uri": "https://localhost:8080/",
          "height": 297
        },
        "id": "GVjUsFUiGLvl",
        "outputId": "488b7db7-ffe9-4cc1-a852-dc6585f8ec84"
      },
      "source": [
        "sns.scatterplot(x='total_health', data=data, y='dance') "
      ],
      "execution_count": null,
      "outputs": [
        {
          "output_type": "execute_result",
          "data": {
            "text/plain": [
              "<matplotlib.axes._subplots.AxesSubplot at 0x7f9e85e2d5d0>"
            ]
          },
          "metadata": {},
          "execution_count": 27
        },
        {
          "output_type": "display_data",
          "data": {
            "image/png": "[encoded data removed]",
            "text/plain": [
              "<Figure size 432x288 with 1 Axes>"
            ]
          },
          "metadata": {
            "needs_background": "light"
          }
        }
      ]
    },
    {
      "cell_type": "markdown",
      "metadata": {
        "id": "qcdGeMxIEdG6"
      },
      "source": [
        "## Liveness"
      ]
    },
    {
      "cell_type": "code",
      "metadata": {
        "colab": {
          "base_uri": "https://localhost:8080/",
          "height": 297
        },
        "id": "XbfKD6OjGN9Q",
        "outputId": "154d72fc-5ece-4a38-c686-90468ed6c4ce"
      },
      "source": [
        "sns.scatterplot(x='total_health', data=data, y='liveness') "
      ],
      "execution_count": null,
      "outputs": [
        {
          "output_type": "execute_result",
          "data": {
            "text/plain": [
              "<matplotlib.axes._subplots.AxesSubplot at 0x7f9e85ea6610>"
            ]
          },
          "metadata": {},
          "execution_count": 28
        },
        {
          "output_type": "display_data",
          "data": {
            "image/png": "[encoded data removed]",
            "text/plain": [
              "<Figure size 432x288 with 1 Axes>"
            ]
          },
          "metadata": {
            "needs_background": "light"
          }
        }
      ]
    },
    {
      "cell_type": "markdown",
      "metadata": {
        "id": "1Tfj9TKVEe8k"
      },
      "source": [
        "## Valence"
      ]
    },
    {
      "cell_type": "code",
      "metadata": {
        "colab": {
          "base_uri": "https://localhost:8080/",
          "height": 297
        },
        "id": "tvtA9noPGRmh",
        "outputId": "b1c444a2-5a17-4258-9d1c-94a4a8c0def1"
      },
      "source": [
        "sns.scatterplot(x='total_health', data=data, y='valence') "
      ],
      "execution_count": null,
      "outputs": [
        {
          "output_type": "execute_result",
          "data": {
            "text/plain": [
              "<matplotlib.axes._subplots.AxesSubplot at 0x7f9e86768850>"
            ]
          },
          "metadata": {},
          "execution_count": 29
        },
        {
          "output_type": "display_data",
          "data": {
            "image/png": "[encoded data removed]",
            "text/plain": [
              "<Figure size 432x288 with 1 Axes>"
            ]
          },
          "metadata": {
            "needs_background": "light"
          }
        }
      ]
    },
    {
      "cell_type": "markdown",
      "metadata": {
        "id": "8iSUb2G5EgUB"
      },
      "source": [
        "## Tempo"
      ]
    },
    {
      "cell_type": "code",
      "metadata": {
        "colab": {
          "base_uri": "https://localhost:8080/",
          "height": 297
        },
        "id": "NNIog0KFGTzj",
        "outputId": "51235788-2da4-430d-e381-49e6d895d806"
      },
      "source": [
        "sns.scatterplot(x='total_health', data=data, y='tempo') "
      ],
      "execution_count": null,
      "outputs": [
        {
          "output_type": "execute_result",
          "data": {
            "text/plain": [
              "<matplotlib.axes._subplots.AxesSubplot at 0x7f9e85d4b5d0>"
            ]
          },
          "metadata": {},
          "execution_count": 30
        },
        {
          "output_type": "display_data",
          "data": {
            "image/png": "[encoded data removed]",
            "text/plain": [
              "<Figure size 432x288 with 1 Axes>"
            ]
          },
          "metadata": {
            "needs_background": "light"
          }
        }
      ]
    },
    {
      "cell_type": "markdown",
      "metadata": {
        "id": "XIMfbHb3EiMR"
      },
      "source": [
        "## Instrumental"
      ]
    },
    {
      "cell_type": "code",
      "metadata": {
        "colab": {
          "base_uri": "https://localhost:8080/",
          "height": 297
        },
        "id": "MWeXCpR_GWJX",
        "outputId": "b22e063c-e721-4140-d819-cf27a9d168bf"
      },
      "source": [
        "sns.scatterplot(x='total_health', data=data, y='instrumental') "
      ],
      "execution_count": null,
      "outputs": [
        {
          "output_type": "execute_result",
          "data": {
            "text/plain": [
              "<matplotlib.axes._subplots.AxesSubplot at 0x7f9e85cc6c10>"
            ]
          },
          "metadata": {},
          "execution_count": 31
        },
        {
          "output_type": "display_data",
          "data": {
            "image/png": "[encoded data removed]",
            "text/plain": [
              "<Figure size 432x288 with 1 Axes>"
            ]
          },
          "metadata": {
            "needs_background": "light"
          }
        }
      ]
    },
    {
      "cell_type": "markdown",
      "metadata": {
        "id": "EyCEKl1zEkN0"
      },
      "source": [
        "## Acoustic"
      ]
    },
    {
      "cell_type": "code",
      "metadata": {
        "colab": {
          "base_uri": "https://localhost:8080/",
          "height": 297
        },
        "id": "E18fS8EAGaCI",
        "outputId": "1df22699-5982-4e63-e030-fd2e4b22fa68"
      },
      "source": [
        "sns.scatterplot(x='total_health', data=data, y='acoustic') "
      ],
      "execution_count": null,
      "outputs": [
        {
          "output_type": "execute_result",
          "data": {
            "text/plain": [
              "<matplotlib.axes._subplots.AxesSubplot at 0x7f9e85c94890>"
            ]
          },
          "metadata": {},
          "execution_count": 32
        },
        {
          "output_type": "display_data",
          "data": {
            "image/png": "[encoded data removed]",
            "text/plain": [
              "<Figure size 432x288 with 1 Axes>"
            ]
          },
          "metadata": {
            "needs_background": "light"
          }
        }
      ]
    },
    {
      "cell_type": "markdown",
      "metadata": {
        "id": "6asSdBLMElX7"
      },
      "source": [
        "## Popularity"
      ]
    },
    {
      "cell_type": "code",
      "metadata": {
        "colab": {
          "base_uri": "https://localhost:8080/",
          "height": 297
        },
        "id": "8Nbv4sKuGclM",
        "outputId": "14c595bf-b3ae-47cb-8463-dee2b422f84c"
      },
      "source": [
        "sns.scatterplot(x='total_health', data=data, y='popularity') "
      ],
      "execution_count": null,
      "outputs": [
        {
          "output_type": "execute_result",
          "data": {
            "text/plain": [
              "<matplotlib.axes._subplots.AxesSubplot at 0x7f9e85bfbd10>"
            ]
          },
          "metadata": {},
          "execution_count": 33
        },
        {
          "output_type": "display_data",
          "data": {
            "image/png": "[encoded data removed]",
            "text/plain": [
              "<Figure size 432x288 with 1 Axes>"
            ]
          },
          "metadata": {
            "needs_background": "light"
          }
        }
      ]
    },
    {
      "cell_type": "markdown",
      "metadata": {
        "id": "XaymK3OOJdKJ"
      },
      "source": [
        "# Data Visualisation: Total health mapped to each song variable (energy to popularity) and grouped by trauma."
      ]
    },
    {
      "cell_type": "markdown",
      "metadata": {
        "id": "bGEbRLXJJjoN"
      },
      "source": [
        "## Energy"
      ]
    },
    {
      "cell_type": "code",
      "metadata": {
        "colab": {
          "base_uri": "https://localhost:8080/",
          "height": 300
        },
        "id": "jHyIzspDJ1eh",
        "outputId": "a050751a-9bba-46bf-fae3-3517fe3e6d94"
      },
      "source": [
        "sns.scatterplot(x='total_health', data=data, y='energy', hue='trauma') "
      ],
      "execution_count": null,
      "outputs": [
        {
          "output_type": "execute_result",
          "data": {
            "text/plain": [
              "<matplotlib.axes._subplots.AxesSubplot at 0x7f9e85be15d0>"
            ]
          },
          "metadata": {},
          "execution_count": 34
        },
        {
          "output_type": "display_data",
          "data": {
            "image/png": "[encoded data removed]",
            "text/plain": [
              "<Figure size 432x288 with 1 Axes>"
            ]
          },
          "metadata": {
            "needs_background": "light"
          }
        }
      ]
    },
    {
      "cell_type": "markdown",
      "metadata": {
        "id": "65Qm-5fXJmHb"
      },
      "source": [
        "## Dance"
      ]
    },
    {
      "cell_type": "code",
      "metadata": {
        "colab": {
          "base_uri": "https://localhost:8080/",
          "height": 297
        },
        "id": "bWKnPWI5J7qM",
        "outputId": "4fadf4b0-d72e-4a85-9c78-c8764426097c"
      },
      "source": [
        "sns.scatterplot(x='total_health', data=data, y='dance', hue='trauma') "
      ],
      "execution_count": null,
      "outputs": [
        {
          "output_type": "execute_result",
          "data": {
            "text/plain": [
              "<matplotlib.axes._subplots.AxesSubplot at 0x7f9e85b614d0>"
            ]
          },
          "metadata": {},
          "execution_count": 35
        },
        {
          "output_type": "display_data",
          "data": {
            "image/png": "[encoded data removed]",
            "text/plain": [
              "<Figure size 432x288 with 1 Axes>"
            ]
          },
          "metadata": {
            "needs_background": "light"
          }
        }
      ]
    },
    {
      "cell_type": "markdown",
      "metadata": {
        "id": "owb7VVLkJnPu"
      },
      "source": [
        "## Liveness"
      ]
    },
    {
      "cell_type": "code",
      "metadata": {
        "colab": {
          "base_uri": "https://localhost:8080/",
          "height": 297
        },
        "id": "r4w-mixjJ_DM",
        "outputId": "2e868611-7f91-4040-94ce-200f954ce754"
      },
      "source": [
        "sns.scatterplot(x='total_health', data=data, y='liveness', hue='trauma') "
      ],
      "execution_count": null,
      "outputs": [
        {
          "output_type": "execute_result",
          "data": {
            "text/plain": [
              "<matplotlib.axes._subplots.AxesSubplot at 0x7f9e85a67690>"
            ]
          },
          "metadata": {},
          "execution_count": 36
        },
        {
          "output_type": "display_data",
          "data": {
            "image/png": "[encoded data removed]",
            "text/plain": [
              "<Figure size 432x288 with 1 Axes>"
            ]
          },
          "metadata": {
            "needs_background": "light"
          }
        }
      ]
    },
    {
      "cell_type": "markdown",
      "metadata": {
        "id": "iv7qvTuEJo8J"
      },
      "source": [
        "## Valence"
      ]
    },
    {
      "cell_type": "code",
      "metadata": {
        "colab": {
          "base_uri": "https://localhost:8080/",
          "height": 297
        },
        "id": "loupW4lrKBtD",
        "outputId": "ce6755ff-685e-48c2-907e-1fcc1b8afdc8"
      },
      "source": [
        "sns.scatterplot(x='total_health', data=data, y='valence', hue='trauma') "
      ],
      "execution_count": null,
      "outputs": [
        {
          "output_type": "execute_result",
          "data": {
            "text/plain": [
              "<matplotlib.axes._subplots.AxesSubplot at 0x7f9e85a35090>"
            ]
          },
          "metadata": {},
          "execution_count": 37
        },
        {
          "output_type": "display_data",
          "data": {
            "image/png": "[encoded data removed]",
            "text/plain": [
              "<Figure size 432x288 with 1 Axes>"
            ]
          },
          "metadata": {
            "needs_background": "light"
          }
        }
      ]
    },
    {
      "cell_type": "markdown",
      "metadata": {
        "id": "U4eaJ_yiJsPH"
      },
      "source": [
        "## Tempo"
      ]
    },
    {
      "cell_type": "code",
      "metadata": {
        "colab": {
          "base_uri": "https://localhost:8080/",
          "height": 297
        },
        "id": "63Z1mq2BKENb",
        "outputId": "a448c70a-1eb7-4ddf-ce09-5fdabd2fc6f8"
      },
      "source": [
        "sns.scatterplot(x='total_health', data=data, y='tempo', hue='trauma') "
      ],
      "execution_count": null,
      "outputs": [
        {
          "output_type": "execute_result",
          "data": {
            "text/plain": [
              "<matplotlib.axes._subplots.AxesSubplot at 0x7f9e859e4250>"
            ]
          },
          "metadata": {},
          "execution_count": 38
        },
        {
          "output_type": "display_data",
          "data": {
            "image/png": "[encoded data removed]",
            "text/plain": [
              "<Figure size 432x288 with 1 Axes>"
            ]
          },
          "metadata": {
            "needs_background": "light"
          }
        }
      ]
    },
    {
      "cell_type": "markdown",
      "metadata": {
        "id": "4msfAb1JJwXL"
      },
      "source": [
        "## Instrumental"
      ]
    },
    {
      "cell_type": "code",
      "metadata": {
        "colab": {
          "base_uri": "https://localhost:8080/",
          "height": 297
        },
        "id": "m70xJw43KGuN",
        "outputId": "af091128-ecca-4164-f72f-38efe6fae1a1"
      },
      "source": [
        "sns.scatterplot(x='total_health', data=data, y='instrumental', hue='trauma') "
      ],
      "execution_count": null,
      "outputs": [
        {
          "output_type": "execute_result",
          "data": {
            "text/plain": [
              "<matplotlib.axes._subplots.AxesSubplot at 0x7f9e85961ed0>"
            ]
          },
          "metadata": {},
          "execution_count": 39
        },
        {
          "output_type": "display_data",
          "data": {
            "image/png": "[encoded data removed]",
            "text/plain": [
              "<Figure size 432x288 with 1 Axes>"
            ]
          },
          "metadata": {
            "needs_background": "light"
          }
        }
      ]
    },
    {
      "cell_type": "markdown",
      "metadata": {
        "id": "emNr0QwBJyZN"
      },
      "source": [
        "## Acoustic"
      ]
    },
    {
      "cell_type": "code",
      "metadata": {
        "colab": {
          "base_uri": "https://localhost:8080/",
          "height": 297
        },
        "id": "OlBX8t33KJcS",
        "outputId": "6477f0f1-92d0-4bd7-c280-e02762f53d7c"
      },
      "source": [
        "sns.scatterplot(x='total_health', data=data, y='acoustic', hue='trauma') "
      ],
      "execution_count": null,
      "outputs": [
        {
          "output_type": "execute_result",
          "data": {
            "text/plain": [
              "<matplotlib.axes._subplots.AxesSubplot at 0x7f9e858d9750>"
            ]
          },
          "metadata": {},
          "execution_count": 40
        },
        {
          "output_type": "display_data",
          "data": {
            "image/png": "[encoded data removed]",
            "text/plain": [
              "<Figure size 432x288 with 1 Axes>"
            ]
          },
          "metadata": {
            "needs_background": "light"
          }
        }
      ]
    },
    {
      "cell_type": "markdown",
      "metadata": {
        "id": "saCSzaEoJzx8"
      },
      "source": [
        "## Popularity"
      ]
    },
    {
      "cell_type": "code",
      "metadata": {
        "colab": {
          "base_uri": "https://localhost:8080/",
          "height": 297
        },
        "id": "mrAmgkupKOYW",
        "outputId": "315c1f7c-cb85-4597-8686-918f5aaed70d"
      },
      "source": [
        "sns.scatterplot(x='total_health', data=data, y='popularity', hue='trauma') "
      ],
      "execution_count": null,
      "outputs": [
        {
          "output_type": "execute_result",
          "data": {
            "text/plain": [
              "<matplotlib.axes._subplots.AxesSubplot at 0x7f9e9349f090>"
            ]
          },
          "metadata": {},
          "execution_count": 41
        },
        {
          "output_type": "display_data",
          "data": {
            "image/png": "[encoded data removed]",
            "text/plain": [
              "<Figure size 432x288 with 1 Axes>"
            ]
          },
          "metadata": {
            "needs_background": "light"
          }
        }
      ]
    },
    {
      "cell_type": "markdown",
      "metadata": {
        "id": "re5qUSuggDdv"
      },
      "source": [
        "# Classification Model: map song variables to amount of music\n",
        "  * amount_music is categorical so change to int\n"
      ]
    },
    {
      "cell_type": "code",
      "metadata": {
        "colab": {
          "base_uri": "https://localhost:8080/",
          "height": 297
        },
        "id": "J0Y4To3tjeYL",
        "outputId": "ccaf42d5-2384-4fb3-e9cf-6d210d794f59"
      },
      "source": [
        "sns.countplot(x='amount_music', data=data, palette='muted')"
      ],
      "execution_count": null,
      "outputs": [
        {
          "output_type": "execute_result",
          "data": {
            "text/plain": [
              "<matplotlib.axes._subplots.AxesSubplot at 0x7f9e857c0f50>"
            ]
          },
          "metadata": {},
          "execution_count": 42
        },
        {
          "output_type": "display_data",
          "data": {
            "image/png": "[encoded data removed]",
            "text/plain": [
              "<Figure size 432x288 with 1 Axes>"
            ]
          },
          "metadata": {
            "needs_background": "light"
          }
        }
      ]
    },
    {
      "cell_type": "code",
      "metadata": {
        "id": "rOLxpbBGg7mN"
      },
      "source": [
        "# training and test split\n",
        "from sklearn.model_selection import train_test_split\n",
        "\n",
        "# data = pd.get_dummies(data, drop_first=True)\n",
        "# We split the data up into a test set and a training set, 30 - 70 %\n",
        "# train_test_split\n",
        "# First argument: x data is all data without class column\n",
        "# Second argument:  this is the class label column\n",
        "# Random state = 0: ensures the train and test splitting is deterministic. \n",
        "\n",
        "X_train, X_test, y_train, y_test = train_test_split(data.drop(['amount_music', # y\n",
        "             'timestamp', \n",
        "             'gender', \n",
        "             'age', \n",
        "             'life_enjoyment', \n",
        "             'resilience', \n",
        "             'balanced_life', \n",
        "             'emotional_flex', \n",
        "             'self_actualization',\n",
        "             'song1',\n",
        "             'song2',\n",
        "             'song3',\n",
        "             'trauma',\n",
        "             'id',\n",
        "             'health_categorical',\n",
        "             'total_health'],\n",
        "            axis = 1),\n",
        "            data['amount_music'],\n",
        "            test_size=0.3,\n",
        "            random_state=0) "
      ],
      "execution_count": null,
      "outputs": []
    },
    {
      "cell_type": "code",
      "metadata": {
        "id": "954rWrBGhddE"
      },
      "source": [
        "# normalize data\n",
        "from sklearn.preprocessing import MinMaxScaler\n",
        "\n",
        "# define a new scaler: \n",
        "x_scaler = MinMaxScaler()\n",
        "\n",
        "# fit the normalization on the training set: \n",
        "x_scaler.fit(X_train)\n",
        "\n",
        "# then create new and normalized training/test sets: \n",
        "X_train_norm = x_scaler.transform(X_train)\n",
        "X_test_norm = x_scaler.transform(X_test)"
      ],
      "execution_count": null,
      "outputs": []
    },
    {
      "cell_type": "markdown",
      "metadata": {
        "id": "9HN4LCVHuXLt"
      },
      "source": [
        "## Decision Tree"
      ]
    },
    {
      "cell_type": "code",
      "metadata": {
        "colab": {
          "base_uri": "https://localhost:8080/",
          "height": 840
        },
        "id": "As0K_vyAtZT7",
        "outputId": "8958823e-9b98-42cd-b02d-562e99586ecb"
      },
      "source": [
        "# from sklearn.tree import DecisionTreeClassifier\n",
        "from sklearn import tree\n",
        "\n",
        "model_1c = tree.DecisionTreeClassifier(max_depth=3, min_samples_leaf=1) \n",
        "# Using default parameters\n",
        "\n",
        "# Training model\n",
        "model_1c.fit(X_train, y_train)\n",
        "\n",
        "from sklearn.metrics import classification_report, confusion_matrix\n",
        "\n",
        "def evaluate_on_training_set(y_test, y_pred):  \n",
        "  # print out recall and precision\n",
        "  print(classification_report(y_test, y_pred))\n",
        "  \n",
        "  # print out confusion matrix\n",
        "  print(\"Confusion Matrix: \\n\", confusion_matrix(y_test, y_pred))\n",
        "\n",
        "\n",
        "y_pred = model_1c.predict(X_test) # Predicting labels for our test set using model\n",
        "print(y_pred)\n",
        "evaluate_on_training_set(y_test, y_pred) #evaluate our model using new function\n",
        "\n",
        "tree.plot_tree(model_1c)"
      ],
      "execution_count": null,
      "outputs": [
        {
          "output_type": "stream",
          "name": "stdout",
          "text": [
            "[1 1 2 1 0 2 1 1 1 2 1 1 0 2 0 1 0 1 0 0 0 2 1 1 0 2 2 1 1 2 0 1 1 1 2 0 1\n",
            " 2 2 0 0 2 2 0 2 1 2 1 2 1 1 2 1 2 0 2 0 2 2 2 1 1 2 2 1 2 2 0 1]\n",
            "              precision    recall  f1-score   support\n",
            "\n",
            "           0       0.19      0.38      0.25         8\n",
            "           1       0.33      0.32      0.33        28\n",
            "           2       0.35      0.28      0.31        32\n",
            "           3       0.00      0.00      0.00         1\n",
            "\n",
            "    accuracy                           0.30        69\n",
            "   macro avg       0.22      0.24      0.22        69\n",
            "weighted avg       0.32      0.30      0.31        69\n",
            "\n",
            "Confusion Matrix: \n",
            " [[ 3  3  2  0]\n",
            " [ 4  9 15  0]\n",
            " [ 9 14  9  0]\n",
            " [ 0  1  0  0]]\n"
          ]
        },
        {
          "output_type": "stream",
          "name": "stderr",
          "text": [
            "/usr/local/lib/python3.7/dist-packages/sklearn/metrics/_classification.py:1272: UndefinedMetricWarning: Precision and F-score are ill-defined and being set to 0.0 in labels with no predicted samples. Use `zero_division` parameter to control this behavior.\n",
            "  _warn_prf(average, modifier, msg_start, len(result))\n"
          ]
        },
        {
          "output_type": "execute_result",
          "data": {
            "text/plain": [
              "[Text(193.15384615384616, 190.26, 'X[2] <= 0.289\\ngini = 0.639\\nsamples = 161\\nvalue = [32, 52, 75, 1, 1]'),\n",
              " Text(103.01538461538462, 135.9, 'X[7] <= 78.417\\ngini = 0.627\\nsamples = 145\\nvalue = [24, 50, 69, 1, 1]'),\n",
              " Text(51.50769230769231, 81.53999999999999, 'X[1] <= 0.644\\ngini = 0.606\\nsamples = 131\\nvalue = [17, 46, 66, 1, 1]'),\n",
              " Text(25.753846153846155, 27.180000000000007, 'gini = 0.635\\nsamples = 73\\nvalue = [12, 31, 29, 1, 0]'),\n",
              " Text(77.26153846153846, 27.180000000000007, 'gini = 0.518\\nsamples = 58\\nvalue = [5, 15, 37, 0, 1]'),\n",
              " Text(154.52307692307693, 81.53999999999999, 'X[0] <= 0.586\\ngini = 0.622\\nsamples = 14\\nvalue = [7, 4, 3, 0, 0]'),\n",
              " Text(128.76923076923077, 27.180000000000007, 'gini = 0.375\\nsamples = 4\\nvalue = [1, 0, 3, 0, 0]'),\n",
              " Text(180.27692307692308, 27.180000000000007, 'gini = 0.48\\nsamples = 10\\nvalue = [6, 4, 0, 0, 0]'),\n",
              " Text(283.2923076923077, 135.9, 'X[4] <= 148.023\\ngini = 0.594\\nsamples = 16\\nvalue = [8, 2, 6, 0, 0]'),\n",
              " Text(257.53846153846155, 81.53999999999999, 'X[7] <= 64.667\\ngini = 0.5\\nsamples = 12\\nvalue = [8, 2, 2, 0, 0]'),\n",
              " Text(231.7846153846154, 27.180000000000007, 'gini = 0.0\\nsamples = 6\\nvalue = [6, 0, 0, 0, 0]'),\n",
              " Text(283.2923076923077, 27.180000000000007, 'gini = 0.667\\nsamples = 6\\nvalue = [2, 2, 2, 0, 0]'),\n",
              " Text(309.04615384615386, 81.53999999999999, 'gini = 0.0\\nsamples = 4\\nvalue = [0, 0, 4, 0, 0]')]"
            ]
          },
          "metadata": {},
          "execution_count": 45
        },
        {
          "output_type": "display_data",
          "data": {
            "image/png": "[encoded data removed]",
            "text/plain": [
              "<Figure size 432x288 with 1 Axes>"
            ]
          },
          "metadata": {
            "needs_background": "light"
          }
        }
      ]
    },
    {
      "cell_type": "markdown",
      "metadata": {
        "id": "BRiNAnzYuaB_"
      },
      "source": [
        "## Emsemble Classifier"
      ]
    },
    {
      "cell_type": "code",
      "metadata": {
        "colab": {
          "base_uri": "https://localhost:8080/"
        },
        "id": "UD4psGRtuTf1",
        "outputId": "e205756b-d577-48b9-d73c-c21ca624eea4"
      },
      "source": [
        "from sklearn.ensemble import AdaBoostClassifier\n",
        "model_2c = AdaBoostClassifier(n_estimators=1000, learning_rate=0.1) # Define the model with parameters\n",
        "model_2c.fit(X_train_norm, y_train) # Training the model\n",
        "\n",
        "y_pred = model_2c.predict(X_test_norm) # Predicting labels for our test set using trained model\n",
        "evaluate_on_training_set(y_test, y_pred) #evaluate our model using newly defined function"
      ],
      "execution_count": null,
      "outputs": [
        {
          "output_type": "stream",
          "name": "stdout",
          "text": [
            "              precision    recall  f1-score   support\n",
            "\n",
            "           0       0.20      0.12      0.15         8\n",
            "           1       0.33      0.21      0.26        28\n",
            "           2       0.43      0.62      0.51        32\n",
            "           3       0.00      0.00      0.00         1\n",
            "\n",
            "    accuracy                           0.39        69\n",
            "   macro avg       0.24      0.24      0.23        69\n",
            "weighted avg       0.36      0.39      0.36        69\n",
            "\n",
            "Confusion Matrix: \n",
            " [[ 1  2  5  0]\n",
            " [ 2  6 20  0]\n",
            " [ 2 10 20  0]\n",
            " [ 0  0  1  0]]\n"
          ]
        },
        {
          "output_type": "stream",
          "name": "stderr",
          "text": [
            "/usr/local/lib/python3.7/dist-packages/sklearn/metrics/_classification.py:1272: UndefinedMetricWarning: Precision and F-score are ill-defined and being set to 0.0 in labels with no predicted samples. Use `zero_division` parameter to control this behavior.\n",
            "  _warn_prf(average, modifier, msg_start, len(result))\n"
          ]
        }
      ]
    },
    {
      "cell_type": "markdown",
      "metadata": {
        "id": "8Z4M-2Qxga5m"
      },
      "source": [
        "# Classification Model: map song variables to total health \n",
        "  * total health is not entirely balanced so during evaluation, let's make sure to check F1 values and AUC instead of just accuracy."
      ]
    },
    {
      "cell_type": "code",
      "metadata": {
        "id": "6NbMqJNzjPG6"
      },
      "source": [
        "# training and test split\n",
        "from sklearn.model_selection import train_test_split\n",
        "\n",
        "# data = pd.get_dummies(data, drop_first=True)\n",
        "# We split the data up into a test set and a training set, 30 - 70 %\n",
        "# train_test_split\n",
        "# First argument: x data is all data without class column\n",
        "# Second argument:  this is the class label column\n",
        "# Random state = 0: ensures the train and test splitting is deterministic. \n",
        "\n",
        "X_train, X_test, y_train, y_test = train_test_split(data.drop(['amount_music', # y\n",
        "             'timestamp', \n",
        "             'gender', \n",
        "             'age', \n",
        "             'life_enjoyment', \n",
        "             'resilience', \n",
        "             'balanced_life', \n",
        "             'emotional_flex', \n",
        "             'self_actualization',\n",
        "             'song1',\n",
        "             'song2',\n",
        "             'song3',\n",
        "             'trauma',\n",
        "             'id',\n",
        "             'health_categorical',\n",
        "             'total_health'],\n",
        "            axis = 1),\n",
        "            data['total_health'],\n",
        "            test_size=0.3,\n",
        "            random_state=0) "
      ],
      "execution_count": null,
      "outputs": []
    },
    {
      "cell_type": "code",
      "metadata": {
        "id": "gavinm4Lp2mm"
      },
      "source": [
        "# normalize data\n",
        "from sklearn.preprocessing import MinMaxScaler\n",
        "\n",
        "# define a new scaler: \n",
        "x_scaler = MinMaxScaler()\n",
        "\n",
        "# fit the normalization on the training set: \n",
        "x_scaler.fit(X_train)\n",
        "\n",
        "# then create new and normalized training/test sets: \n",
        "X_train_norm = x_scaler.transform(X_train)\n",
        "X_test_norm = x_scaler.transform(X_test)"
      ],
      "execution_count": null,
      "outputs": []
    },
    {
      "cell_type": "markdown",
      "metadata": {
        "id": "TZ8dxrQbuhzz"
      },
      "source": [
        "## Decision Tree"
      ]
    },
    {
      "cell_type": "code",
      "metadata": {
        "colab": {
          "base_uri": "https://localhost:8080/",
          "height": 1000
        },
        "id": "BKxpbcDjtSLg",
        "outputId": "537822c2-b6e9-4f2e-a1ab-d79db91a51df"
      },
      "source": [
        "# from sklearn.tree import DecisionTreeClassifier\n",
        "from sklearn import tree\n",
        "\n",
        "model_3c = tree.DecisionTreeClassifier(max_depth=3, min_samples_leaf=1) \n",
        "# Using default parameters\n",
        "\n",
        "# Training model\n",
        "model_3c.fit(X_train, y_train)\n",
        "\n",
        "from sklearn.metrics import classification_report, confusion_matrix\n",
        "\n",
        "def evaluate_on_training_set(y_test, y_pred):  \n",
        "  # print out recall and precision\n",
        "  print(classification_report(y_test, y_pred))\n",
        "  \n",
        "  # print out confusion matrix\n",
        "  print(\"Confusion Matrix: \\n\", confusion_matrix(y_test, y_pred))\n",
        "\n",
        "\n",
        "y_pred = model_3c.predict(X_test) # Predicting labels for our test set using model\n",
        "print(y_pred)\n",
        "evaluate_on_training_set(y_test, y_pred) #evaluate our model using new function\n",
        "\n",
        "tree.plot_tree(model_3c)"
      ],
      "execution_count": null,
      "outputs": [
        {
          "output_type": "stream",
          "name": "stdout",
          "text": [
            "[19 19 19 19 23 19 21 23 19 23 19 23 23 19 23 19 19 23 23 23 23 23 19 19\n",
            " 23 19 19 23 19 19 23 19 19 23 19 23 21 23 23 19 23 23 23 23 23 23 23 19\n",
            " 23 23 21 19 23 23 23 23 23 19 23 23 19 23 23 23 19 23 23 19 23]\n",
            "              precision    recall  f1-score   support\n",
            "\n",
            "           8       0.00      0.00      0.00         1\n",
            "           9       0.00      0.00      0.00         3\n",
            "          10       0.00      0.00      0.00         1\n",
            "          11       0.00      0.00      0.00         1\n",
            "          12       0.00      0.00      0.00         2\n",
            "          13       0.00      0.00      0.00         2\n",
            "          14       0.00      0.00      0.00         4\n",
            "          15       0.00      0.00      0.00         5\n",
            "          16       0.00      0.00      0.00         5\n",
            "          17       0.00      0.00      0.00         4\n",
            "          18       0.00      0.00      0.00         4\n",
            "          19       0.12      0.60      0.19         5\n",
            "          20       0.00      0.00      0.00         4\n",
            "          21       0.00      0.00      0.00         6\n",
            "          22       0.00      0.00      0.00         4\n",
            "          23       0.07      0.75      0.14         4\n",
            "          24       0.00      0.00      0.00         3\n",
            "          25       0.00      0.00      0.00         2\n",
            "          26       0.00      0.00      0.00         3\n",
            "          27       0.00      0.00      0.00         3\n",
            "          29       0.00      0.00      0.00         2\n",
            "          30       0.00      0.00      0.00         1\n",
            "\n",
            "    accuracy                           0.09        69\n",
            "   macro avg       0.01      0.06      0.01        69\n",
            "weighted avg       0.01      0.09      0.02        69\n",
            "\n",
            "Confusion Matrix: \n",
            " [[0 0 0 0 0 0 0 0 0 0 0 0 0 0 0 1 0 0 0 0 0 0]\n",
            " [0 0 0 0 0 0 0 0 0 0 0 1 0 0 0 2 0 0 0 0 0 0]\n",
            " [0 0 0 0 0 0 0 0 0 0 0 0 0 1 0 0 0 0 0 0 0 0]\n",
            " [0 0 0 0 0 0 0 0 0 0 0 0 0 0 0 1 0 0 0 0 0 0]\n",
            " [0 0 0 0 0 0 0 0 0 0 0 1 0 0 0 1 0 0 0 0 0 0]\n",
            " [0 0 0 0 0 0 0 0 0 0 0 2 0 0 0 0 0 0 0 0 0 0]\n",
            " [0 0 0 0 0 0 0 0 0 0 0 2 0 1 0 1 0 0 0 0 0 0]\n",
            " [0 0 0 0 0 0 0 0 0 0 0 4 0 0 0 1 0 0 0 0 0 0]\n",
            " [0 0 0 0 0 0 0 0 0 0 0 1 0 0 0 4 0 0 0 0 0 0]\n",
            " [0 0 0 0 0 0 0 0 0 0 0 2 0 0 0 2 0 0 0 0 0 0]\n",
            " [0 0 0 0 0 0 0 0 0 0 0 0 0 0 0 4 0 0 0 0 0 0]\n",
            " [0 0 0 0 0 0 0 0 0 0 0 3 0 0 0 2 0 0 0 0 0 0]\n",
            " [0 0 0 0 0 0 0 0 0 0 0 1 0 0 0 3 0 0 0 0 0 0]\n",
            " [0 0 0 0 0 0 0 0 0 0 0 1 0 0 0 5 0 0 0 0 0 0]\n",
            " [0 0 0 0 0 0 0 0 0 0 0 1 0 0 0 3 0 0 0 0 0 0]\n",
            " [0 0 0 0 0 0 0 0 0 0 0 1 0 0 0 3 0 0 0 0 0 0]\n",
            " [0 0 0 0 0 0 0 0 0 0 0 1 0 0 0 2 0 0 0 0 0 0]\n",
            " [0 0 0 0 0 0 0 0 0 0 0 1 0 0 0 1 0 0 0 0 0 0]\n",
            " [0 0 0 0 0 0 0 0 0 0 0 2 0 0 0 1 0 0 0 0 0 0]\n",
            " [0 0 0 0 0 0 0 0 0 0 0 1 0 0 0 2 0 0 0 0 0 0]\n",
            " [0 0 0 0 0 0 0 0 0 0 0 1 0 1 0 0 0 0 0 0 0 0]\n",
            " [0 0 0 0 0 0 0 0 0 0 0 0 0 0 0 1 0 0 0 0 0 0]]\n"
          ]
        },
        {
          "output_type": "stream",
          "name": "stderr",
          "text": [
            "/usr/local/lib/python3.7/dist-packages/sklearn/metrics/_classification.py:1272: UndefinedMetricWarning: Precision and F-score are ill-defined and being set to 0.0 in labels with no predicted samples. Use `zero_division` parameter to control this behavior.\n",
            "  _warn_prf(average, modifier, msg_start, len(result))\n"
          ]
        },
        {
          "output_type": "execute_result",
          "data": {
            "text/plain": [
              "[Text(125.55000000000001, 190.26, 'X[1] <= 0.344\\ngini = 0.931\\nsamples = 161\\nvalue = [1, 2, 1, 3, 4, 6, 10, 9, 8, 11, 8, 14, 17\\n15, 14, 17, 6, 6, 3, 5, 1]'),\n",
              " Text(83.7, 135.9, 'gini = 0.0\\nsamples = 3\\nvalue = [0, 0, 0, 0, 0, 0, 0, 0, 0, 0, 0, 0, 0, 3\\n0, 0, 0, 0, 0, 0, 0]'),\n",
              " Text(167.4, 135.9, 'X[5] <= 0.001\\ngini = 0.931\\nsamples = 158\\nvalue = [1, 2, 1, 3, 4, 6, 10, 9, 8, 11, 8, 14, 17\\n12, 14, 17, 6, 6, 3, 5, 1]'),\n",
              " Text(83.7, 81.53999999999999, 'X[1] <= 0.848\\ngini = 0.929\\nsamples = 90\\nvalue = [0, 2, 1, 3, 2, 5, 9, 6, 4, 4, 3, 3, 6, 8\\n11, 10, 4, 4, 2, 3, 0]'),\n",
              " Text(41.85, 27.180000000000007, 'gini = 0.931\\nsamples = 88\\nvalue = [0, 2, 1, 3, 2, 5, 9, 6, 4, 4, 3, 3, 6, 8\\n9, 10, 4, 4, 2, 3, 0]'),\n",
              " Text(125.55000000000001, 27.180000000000007, 'gini = 0.0\\nsamples = 2\\nvalue = [0, 0, 0, 0, 0, 0, 0, 0, 0, 0, 0, 0, 0, 0\\n2, 0, 0, 0, 0, 0, 0]'),\n",
              " Text(251.10000000000002, 81.53999999999999, 'X[7] <= 78.333\\ngini = 0.906\\nsamples = 68\\nvalue = [1, 0, 0, 0, 2, 1, 1, 3, 4, 7, 5, 11, 11, 4\\n3, 7, 2, 2, 1, 2, 1]'),\n",
              " Text(209.25, 27.180000000000007, 'gini = 0.911\\nsamples = 62\\nvalue = [1, 0, 0, 0, 2, 1, 1, 3, 4, 7, 4, 11, 7, 4\\n3, 6, 2, 2, 1, 2, 1]'),\n",
              " Text(292.95, 27.180000000000007, 'gini = 0.5\\nsamples = 6\\nvalue = [0, 0, 0, 0, 0, 0, 0, 0, 0, 0, 1, 0, 4, 0\\n0, 1, 0, 0, 0, 0, 0]')]"
            ]
          },
          "metadata": {},
          "execution_count": 49
        },
        {
          "output_type": "display_data",
          "data": {
            "image/png": "[encoded data removed]",
            "text/plain": [
              "<Figure size 432x288 with 1 Axes>"
            ]
          },
          "metadata": {
            "needs_background": "light"
          }
        }
      ]
    },
    {
      "cell_type": "markdown",
      "metadata": {
        "id": "hd4RCPe-um9C"
      },
      "source": [
        "## Ensemble Classifier"
      ]
    },
    {
      "cell_type": "code",
      "metadata": {
        "colab": {
          "base_uri": "https://localhost:8080/"
        },
        "id": "hFyJLzyxuply",
        "outputId": "54cf0e37-0b0a-4691-90df-1f60a89158ec"
      },
      "source": [
        "from sklearn.ensemble import AdaBoostClassifier\n",
        "model_4c = AdaBoostClassifier(n_estimators=1000, learning_rate=0.1) # Define the model with parameters\n",
        "model_4c.fit(X_train_norm, y_train) # Training the model\n",
        "\n",
        "y_pred = model_4c.predict(X_test_norm) # Predicting labels for our test set using trained model\n",
        "evaluate_on_training_set(y_test, y_pred) #evaluate our model using newly defined function"
      ],
      "execution_count": null,
      "outputs": [
        {
          "output_type": "stream",
          "name": "stdout",
          "text": [
            "              precision    recall  f1-score   support\n",
            "\n",
            "           8       0.00      0.00      0.00         1\n",
            "           9       0.00      0.00      0.00         3\n",
            "          10       0.00      0.00      0.00         1\n",
            "          11       0.00      0.00      0.00         1\n",
            "          12       0.00      0.00      0.00         2\n",
            "          13       0.00      0.00      0.00         2\n",
            "          14       0.20      0.25      0.22         4\n",
            "          15       0.50      0.20      0.29         5\n",
            "          16       0.00      0.00      0.00         5\n",
            "          17       0.12      0.25      0.17         4\n",
            "          18       0.00      0.00      0.00         4\n",
            "          19       0.11      0.20      0.14         5\n",
            "          20       0.00      0.00      0.00         4\n",
            "          21       0.00      0.00      0.00         6\n",
            "          22       0.00      0.00      0.00         4\n",
            "          23       0.00      0.00      0.00         4\n",
            "          24       0.00      0.00      0.00         3\n",
            "          25       0.00      0.00      0.00         2\n",
            "          26       0.00      0.00      0.00         3\n",
            "          27       0.00      0.00      0.00         3\n",
            "          29       0.00      0.00      0.00         2\n",
            "          30       0.00      0.00      0.00         1\n",
            "\n",
            "    accuracy                           0.06        69\n",
            "   macro avg       0.04      0.04      0.04        69\n",
            "weighted avg       0.06      0.06      0.05        69\n",
            "\n",
            "Confusion Matrix: \n",
            " [[0 0 0 0 0 0 0 0 0 0 0 0 0 0 0 1 0 0 0 0 0 0]\n",
            " [0 0 0 0 0 1 0 1 0 0 0 0 0 0 1 0 0 0 0 0 0 0]\n",
            " [0 0 0 0 0 0 0 0 0 0 0 0 0 0 0 1 0 0 0 0 0 0]\n",
            " [0 0 0 0 0 0 0 0 0 0 0 0 0 1 0 0 0 0 0 0 0 0]\n",
            " [0 0 0 0 0 0 0 0 0 0 0 1 0 0 0 0 0 0 0 1 0 0]\n",
            " [0 0 0 0 0 0 0 0 0 0 1 1 0 0 0 0 0 0 0 0 0 0]\n",
            " [0 0 0 0 0 0 1 0 0 0 0 0 0 0 0 3 0 0 0 0 0 0]\n",
            " [0 0 0 0 0 0 0 1 0 0 1 0 1 0 1 1 0 0 0 0 0 0]\n",
            " [0 0 0 0 0 1 0 0 0 0 1 0 1 1 1 0 0 0 0 0 0 0]\n",
            " [0 0 0 0 0 1 0 0 0 1 0 1 0 1 0 0 0 0 0 0 0 0]\n",
            " [0 0 0 0 0 1 0 0 0 0 0 0 2 0 0 0 0 0 0 1 0 0]\n",
            " [0 0 0 0 0 0 0 0 0 2 0 1 0 1 1 0 0 0 0 0 0 0]\n",
            " [0 0 0 0 0 0 1 0 0 1 0 1 0 0 0 0 0 0 0 1 0 0]\n",
            " [0 0 0 0 0 1 1 0 0 2 0 0 2 0 0 0 0 0 0 0 0 0]\n",
            " [0 0 0 0 1 0 1 0 0 0 1 1 0 0 0 0 0 0 0 0 0 0]\n",
            " [0 0 0 0 0 1 1 0 0 1 1 0 0 0 0 0 0 0 0 0 0 0]\n",
            " [0 0 0 0 0 1 0 0 0 0 1 1 0 0 0 0 0 0 0 0 0 0]\n",
            " [0 0 0 0 0 0 0 0 0 0 1 0 0 1 0 0 0 0 0 0 0 0]\n",
            " [0 0 0 0 0 1 0 0 0 1 0 1 0 0 0 0 0 0 0 0 0 0]\n",
            " [0 0 0 0 0 0 0 0 0 0 0 1 1 0 0 1 0 0 0 0 0 0]\n",
            " [0 0 0 0 0 0 0 0 1 0 0 0 0 0 0 1 0 0 0 0 0 0]\n",
            " [0 0 0 0 0 0 0 0 0 0 0 0 0 0 0 0 0 0 0 1 0 0]]\n"
          ]
        },
        {
          "output_type": "stream",
          "name": "stderr",
          "text": [
            "/usr/local/lib/python3.7/dist-packages/sklearn/metrics/_classification.py:1272: UndefinedMetricWarning: Precision and F-score are ill-defined and being set to 0.0 in labels with no predicted samples. Use `zero_division` parameter to control this behavior.\n",
            "  _warn_prf(average, modifier, msg_start, len(result))\n"
          ]
        }
      ]
    },
    {
      "cell_type": "markdown",
      "metadata": {
        "id": "ujmc_BrTioIt"
      },
      "source": [
        "# Classification Model: map amount of music to total health\n",
        "  * amount_music is categorical so change to int"
      ]
    },
    {
      "cell_type": "code",
      "metadata": {
        "id": "TZZCF4KZjTcw"
      },
      "source": [
        "# training and test split\n",
        "from sklearn.model_selection import train_test_split\n",
        "\n",
        "# data = pd.get_dummies(data, drop_first=True)\n",
        "# We split the data up into a test set and a training set, 30 - 70 %\n",
        "# train_test_split\n",
        "# First argument: x data is all data without class column\n",
        "# Second argument:  this is the class label column\n",
        "# Random state = 0: ensures the train and test splitting is deterministic. \n",
        "\n",
        "X_train, X_test, y_train, y_test = train_test_split(data.drop(['energy',\n",
        "                                                               'dance',\n",
        "                                                               'liveness',\n",
        "                                                               'valence',\n",
        "                                                               'tempo',\n",
        "                                                               'instrumental',\n",
        "                                                               'acoustic',\n",
        "                                                               'popularity',\n",
        "                                                               'timestamp', \n",
        "                                                               'gender', \n",
        "                                                               'age', \n",
        "                                                               'life_enjoyment', \n",
        "                                                               'resilience', \n",
        "                                                               'balanced_life',\n",
        "                                                               'emotional_flex', \n",
        "                                                               'self_actualization',\n",
        "                                                               'song1',\n",
        "                                                               'song2',\n",
        "                                                               'song3',\n",
        "                                                               'trauma',\n",
        "                                                               'id',\n",
        "                                                               'health_categorical',\n",
        "                                                               'total_health'],\n",
        "                                                              axis = 1),\n",
        "                                                    data['total_health'],\n",
        "                                                    test_size=0.3,\n",
        "                                                    random_state=0) "
      ],
      "execution_count": null,
      "outputs": []
    },
    {
      "cell_type": "code",
      "metadata": {
        "id": "5XBLsWXJp3kN"
      },
      "source": [
        "# normalize data\n",
        "from sklearn.preprocessing import MinMaxScaler\n",
        "\n",
        "# define a new scaler: \n",
        "x_scaler = MinMaxScaler()\n",
        "\n",
        "# fit the normalization on the training set: \n",
        "x_scaler.fit(X_train)\n",
        "\n",
        "# then create new and normalized training/test sets: \n",
        "X_train_norm = x_scaler.transform(X_train)\n",
        "X_test_norm = x_scaler.transform(X_test)"
      ],
      "execution_count": null,
      "outputs": []
    },
    {
      "cell_type": "markdown",
      "metadata": {
        "id": "zL_VK8yBu6ab"
      },
      "source": [
        "## Decision Tree"
      ]
    },
    {
      "cell_type": "code",
      "metadata": {
        "colab": {
          "base_uri": "https://localhost:8080/",
          "height": 1000
        },
        "id": "r7qb4BdEqfdM",
        "outputId": "0b9c898f-07d2-4436-cfb7-d3dde270176a"
      },
      "source": [
        "# from sklearn.tree import DecisionTreeClassifier\n",
        "from sklearn import tree\n",
        "\n",
        "model_5c = tree.DecisionTreeClassifier(max_depth=3, min_samples_leaf=1) \n",
        "# Using default parameters\n",
        "\n",
        "# Training model\n",
        "model_5c.fit(X_train, y_train)\n",
        "\n",
        "from sklearn.metrics import classification_report, confusion_matrix\n",
        "\n",
        "def evaluate_on_training_set(y_test, y_pred):  \n",
        "  # print out recall and precision\n",
        "  print(classification_report(y_test, y_pred))\n",
        "  \n",
        "  # print out confusion matrix\n",
        "  print(\"Confusion Matrix: \\n\", confusion_matrix(y_test, y_pred))\n",
        "\n",
        "\n",
        "y_pred = model_5c.predict(X_test) # Predicting labels for our test set using model\n",
        "print(y_pred)\n",
        "evaluate_on_training_set(y_test, y_pred) #evaluate our model using new function\n",
        "\n",
        "tree.plot_tree(model_5c)"
      ],
      "execution_count": null,
      "outputs": [
        {
          "output_type": "stream",
          "name": "stdout",
          "text": [
            "[21 21 21 19 17 21 19 19 19 19 19 19 19 21 19 21 21 17 19 21 21 21 21 21\n",
            " 17 19 19 21 17 19 19 21 21 21 19 17 19 19 19 21 21 17 21 21 19 21 19 21\n",
            " 21 21 21 19 19 21 21 21 21 19 21 19 21 21 17 19 17 19 19 21 19]\n",
            "              precision    recall  f1-score   support\n",
            "\n",
            "           8       0.00      0.00      0.00         1\n",
            "           9       0.00      0.00      0.00         3\n",
            "          10       0.00      0.00      0.00         1\n",
            "          11       0.00      0.00      0.00         1\n",
            "          12       0.00      0.00      0.00         2\n",
            "          13       0.00      0.00      0.00         2\n",
            "          14       0.00      0.00      0.00         4\n",
            "          15       0.00      0.00      0.00         5\n",
            "          16       0.00      0.00      0.00         5\n",
            "          17       0.12      0.25      0.17         4\n",
            "          18       0.00      0.00      0.00         4\n",
            "          19       0.14      0.80      0.24         5\n",
            "          20       0.00      0.00      0.00         4\n",
            "          21       0.06      0.33      0.10         6\n",
            "          22       0.00      0.00      0.00         4\n",
            "          23       0.00      0.00      0.00         4\n",
            "          24       0.00      0.00      0.00         3\n",
            "          25       0.00      0.00      0.00         2\n",
            "          26       0.00      0.00      0.00         3\n",
            "          27       0.00      0.00      0.00         3\n",
            "          29       0.00      0.00      0.00         2\n",
            "          30       0.00      0.00      0.00         1\n",
            "\n",
            "    accuracy                           0.10        69\n",
            "   macro avg       0.01      0.06      0.02        69\n",
            "weighted avg       0.02      0.10      0.04        69\n",
            "\n",
            "Confusion Matrix: \n",
            " [[0 0 0 0 0 0 0 0 0 0 0 0 0 1 0 0 0 0 0 0 0 0]\n",
            " [0 0 0 0 0 0 0 0 0 0 0 2 0 1 0 0 0 0 0 0 0 0]\n",
            " [0 0 0 0 0 0 0 0 0 0 0 1 0 0 0 0 0 0 0 0 0 0]\n",
            " [0 0 0 0 0 0 0 0 0 1 0 0 0 0 0 0 0 0 0 0 0 0]\n",
            " [0 0 0 0 0 0 0 0 0 0 0 0 0 2 0 0 0 0 0 0 0 0]\n",
            " [0 0 0 0 0 0 0 0 0 0 0 0 0 2 0 0 0 0 0 0 0 0]\n",
            " [0 0 0 0 0 0 0 0 0 0 0 0 0 4 0 0 0 0 0 0 0 0]\n",
            " [0 0 0 0 0 0 0 0 0 2 0 1 0 2 0 0 0 0 0 0 0 0]\n",
            " [0 0 0 0 0 0 0 0 0 0 0 1 0 4 0 0 0 0 0 0 0 0]\n",
            " [0 0 0 0 0 0 0 0 0 1 0 2 0 1 0 0 0 0 0 0 0 0]\n",
            " [0 0 0 0 0 0 0 0 0 0 0 2 0 2 0 0 0 0 0 0 0 0]\n",
            " [0 0 0 0 0 0 0 0 0 0 0 4 0 1 0 0 0 0 0 0 0 0]\n",
            " [0 0 0 0 0 0 0 0 0 1 0 3 0 0 0 0 0 0 0 0 0 0]\n",
            " [0 0 0 0 0 0 0 0 0 1 0 3 0 2 0 0 0 0 0 0 0 0]\n",
            " [0 0 0 0 0 0 0 0 0 1 0 1 0 2 0 0 0 0 0 0 0 0]\n",
            " [0 0 0 0 0 0 0 0 0 1 0 1 0 2 0 0 0 0 0 0 0 0]\n",
            " [0 0 0 0 0 0 0 0 0 0 0 1 0 2 0 0 0 0 0 0 0 0]\n",
            " [0 0 0 0 0 0 0 0 0 0 0 0 0 2 0 0 0 0 0 0 0 0]\n",
            " [0 0 0 0 0 0 0 0 0 0 0 2 0 1 0 0 0 0 0 0 0 0]\n",
            " [0 0 0 0 0 0 0 0 0 0 0 3 0 0 0 0 0 0 0 0 0 0]\n",
            " [0 0 0 0 0 0 0 0 0 0 0 1 0 1 0 0 0 0 0 0 0 0]\n",
            " [0 0 0 0 0 0 0 0 0 0 0 0 0 1 0 0 0 0 0 0 0 0]]\n"
          ]
        },
        {
          "output_type": "stream",
          "name": "stderr",
          "text": [
            "/usr/local/lib/python3.7/dist-packages/sklearn/metrics/_classification.py:1272: UndefinedMetricWarning: Precision and F-score are ill-defined and being set to 0.0 in labels with no predicted samples. Use `zero_division` parameter to control this behavior.\n",
            "  _warn_prf(average, modifier, msg_start, len(result))\n"
          ]
        },
        {
          "output_type": "execute_result",
          "data": {
            "text/plain": [
              "[Text(125.55000000000001, 190.26, 'X[0] <= 0.5\\ngini = 0.931\\nsamples = 161\\nvalue = [1, 2, 1, 3, 4, 6, 10, 9, 8, 11, 8, 14, 17\\n15, 14, 17, 6, 6, 3, 5, 1]'),\n",
              " Text(83.7, 135.9, 'gini = 0.902\\nsamples = 32\\nvalue = [0, 0, 0, 2, 0, 3, 2, 1, 2, 5, 0, 2, 4, 1\\n1, 5, 2, 1, 0, 1, 0]'),\n",
              " Text(167.4, 135.9, 'X[0] <= 3.0\\ngini = 0.929\\nsamples = 129\\nvalue = [1, 2, 1, 1, 4, 3, 8, 8, 6, 6, 8, 12, 13, 14\\n13, 12, 4, 5, 3, 4, 1]'),\n",
              " Text(83.7, 81.53999999999999, 'X[0] <= 1.5\\ngini = 0.927\\nsamples = 127\\nvalue = [0, 2, 1, 1, 4, 3, 8, 8, 6, 6, 8, 12, 13, 14\\n13, 12, 4, 4, 3, 4, 1]'),\n",
              " Text(41.85, 27.180000000000007, 'gini = 0.923\\nsamples = 52\\nvalue = [0, 0, 0, 1, 1, 1, 3, 5, 5, 3, 2, 6, 4, 4\\n6, 4, 2, 2, 2, 1, 0]'),\n",
              " Text(125.55000000000001, 27.180000000000007, 'gini = 0.921\\nsamples = 75\\nvalue = [0, 2, 1, 0, 3, 2, 5, 3, 1, 3, 6, 6, 9, 10\\n7, 8, 2, 2, 1, 3, 1]'),\n",
              " Text(251.10000000000002, 81.53999999999999, 'X[0] <= 4.5\\ngini = 0.5\\nsamples = 2\\nvalue = [1, 0, 0, 0, 0, 0, 0, 0, 0, 0, 0, 0, 0, 0\\n0, 0, 0, 1, 0, 0, 0]'),\n",
              " Text(209.25, 27.180000000000007, 'gini = 0.0\\nsamples = 1\\nvalue = [0, 0, 0, 0, 0, 0, 0, 0, 0, 0, 0, 0, 0, 0\\n0, 0, 0, 1, 0, 0, 0]'),\n",
              " Text(292.95, 27.180000000000007, 'gini = 0.0\\nsamples = 1\\nvalue = [1, 0, 0, 0, 0, 0, 0, 0, 0, 0, 0, 0, 0, 0\\n0, 0, 0, 0, 0, 0, 0]')]"
            ]
          },
          "metadata": {},
          "execution_count": 53
        },
        {
          "output_type": "display_data",
          "data": {
            "image/png": "[encoded data removed]",
            "text/plain": [
              "<Figure size 432x288 with 1 Axes>"
            ]
          },
          "metadata": {
            "needs_background": "light"
          }
        }
      ]
    },
    {
      "cell_type": "markdown",
      "metadata": {
        "id": "Qu0p0kZsu1Bh"
      },
      "source": [
        "## Ensemble Classifier"
      ]
    },
    {
      "cell_type": "code",
      "metadata": {
        "colab": {
          "base_uri": "https://localhost:8080/"
        },
        "id": "O9ARB1b6u34J",
        "outputId": "2c489959-c914-4004-b788-cef70adc56c5"
      },
      "source": [
        "from sklearn.ensemble import AdaBoostClassifier\n",
        "model_6c = AdaBoostClassifier(n_estimators=1000, learning_rate=0.1) # Define the model with parameters\n",
        "model_6c.fit(X_train_norm, y_train) # Training the model\n",
        "\n",
        "y_pred = model_6c.predict(X_test_norm) # Predicting labels for our test set using trained model\n",
        "evaluate_on_training_set(y_test, y_pred) #evaluate our model using newly defined function"
      ],
      "execution_count": null,
      "outputs": [
        {
          "output_type": "stream",
          "name": "stdout",
          "text": [
            "              precision    recall  f1-score   support\n",
            "\n",
            "           8       0.00      0.00      0.00         1\n",
            "           9       0.00      0.00      0.00         3\n",
            "          10       0.00      0.00      0.00         1\n",
            "          11       0.00      0.00      0.00         1\n",
            "          12       0.00      0.00      0.00         2\n",
            "          13       0.00      0.00      0.00         2\n",
            "          14       0.00      0.00      0.00         4\n",
            "          15       0.00      0.00      0.00         5\n",
            "          16       0.00      0.00      0.00         5\n",
            "          17       0.00      0.00      0.00         4\n",
            "          18       0.00      0.00      0.00         4\n",
            "          19       0.11      0.80      0.20         5\n",
            "          20       0.00      0.00      0.00         4\n",
            "          21       0.06      0.33      0.11         6\n",
            "          22       0.00      0.00      0.00         4\n",
            "          23       0.00      0.00      0.00         4\n",
            "          24       0.00      0.00      0.00         3\n",
            "          25       0.00      0.00      0.00         2\n",
            "          26       0.00      0.00      0.00         3\n",
            "          27       0.00      0.00      0.00         3\n",
            "          29       0.00      0.00      0.00         2\n",
            "          30       0.00      0.00      0.00         1\n",
            "\n",
            "    accuracy                           0.09        69\n",
            "   macro avg       0.01      0.05      0.01        69\n",
            "weighted avg       0.01      0.09      0.02        69\n",
            "\n",
            "Confusion Matrix: \n",
            " [[0 0 0 0 0 0 0 0 0 0 0 0 0 1 0 0 0 0 0 0 0 0]\n",
            " [0 0 0 0 0 0 0 0 0 0 0 2 0 1 0 0 0 0 0 0 0 0]\n",
            " [0 0 0 0 0 0 0 0 0 0 0 1 0 0 0 0 0 0 0 0 0 0]\n",
            " [0 0 0 0 0 0 0 0 0 0 0 1 0 0 0 0 0 0 0 0 0 0]\n",
            " [0 0 0 0 0 0 0 0 0 0 0 0 0 2 0 0 0 0 0 0 0 0]\n",
            " [0 0 0 0 0 0 0 0 0 0 0 0 0 2 0 0 0 0 0 0 0 0]\n",
            " [0 0 0 0 0 0 0 0 0 0 0 0 0 4 0 0 0 0 0 0 0 0]\n",
            " [0 0 0 0 0 0 0 0 0 0 0 3 0 2 0 0 0 0 0 0 0 0]\n",
            " [0 0 0 0 0 0 0 0 0 0 0 1 0 4 0 0 0 0 0 0 0 0]\n",
            " [0 0 0 0 0 0 0 0 0 0 0 3 0 1 0 0 0 0 0 0 0 0]\n",
            " [0 0 0 0 0 0 0 0 0 0 0 2 0 2 0 0 0 0 0 0 0 0]\n",
            " [0 0 0 0 0 0 0 0 0 0 0 4 0 1 0 0 0 0 0 0 0 0]\n",
            " [0 0 0 0 0 0 0 0 0 0 0 4 0 0 0 0 0 0 0 0 0 0]\n",
            " [0 0 0 0 0 0 0 0 0 0 0 4 0 2 0 0 0 0 0 0 0 0]\n",
            " [0 0 0 0 0 0 0 0 0 0 0 2 0 2 0 0 0 0 0 0 0 0]\n",
            " [0 0 0 0 0 0 0 0 0 0 0 2 0 2 0 0 0 0 0 0 0 0]\n",
            " [0 0 0 0 0 0 0 0 0 0 0 1 0 1 0 0 0 1 0 0 0 0]\n",
            " [0 0 0 0 0 0 0 0 0 0 0 0 0 2 0 0 0 0 0 0 0 0]\n",
            " [0 0 0 0 0 0 0 0 0 0 0 2 0 1 0 0 0 0 0 0 0 0]\n",
            " [0 0 0 0 0 0 0 0 0 0 0 3 0 0 0 0 0 0 0 0 0 0]\n",
            " [0 0 0 0 0 0 0 0 0 0 0 1 0 1 0 0 0 0 0 0 0 0]\n",
            " [0 0 0 0 0 0 0 0 0 0 0 0 0 1 0 0 0 0 0 0 0 0]]\n"
          ]
        },
        {
          "output_type": "stream",
          "name": "stderr",
          "text": [
            "/usr/local/lib/python3.7/dist-packages/sklearn/metrics/_classification.py:1272: UndefinedMetricWarning: Precision and F-score are ill-defined and being set to 0.0 in labels with no predicted samples. Use `zero_division` parameter to control this behavior.\n",
            "  _warn_prf(average, modifier, msg_start, len(result))\n"
          ]
        }
      ]
    },
    {
      "cell_type": "markdown",
      "metadata": {
        "id": "3K2H_2ornLz9"
      },
      "source": [
        "# Classification Model: map song variables to trauma"
      ]
    },
    {
      "cell_type": "code",
      "metadata": {
        "id": "ou4MfA6Nnb-i"
      },
      "source": [
        "# training and test split\n",
        "from sklearn.model_selection import train_test_split\n",
        "\n",
        "# data = pd.get_dummies(data, drop_first=True)\n",
        "# We split the data up into a test set and a training set, 30 - 70 %\n",
        "# train_test_split\n",
        "# First argument: x data is all data without class column\n",
        "# Second argument:  this is the class label column\n",
        "# Random state = 0: ensures the train and test splitting is deterministic. \n",
        "\n",
        "X_train, X_test, y_train, y_test = train_test_split(data.drop(['amount_music',\n",
        "                                                               'timestamp', \n",
        "                                                               'gender', \n",
        "                                                               'age', \n",
        "                                                               'life_enjoyment', \n",
        "                                                               'resilience', \n",
        "                                                               'balanced_life',\n",
        "                                                               'emotional_flex', \n",
        "                                                               'self_actualization',\n",
        "                                                               'song1',\n",
        "                                                               'song2',\n",
        "                                                               'song3',\n",
        "                                                               'trauma',\n",
        "                                                               'id',\n",
        "                                                               'health_categorical',\n",
        "                                                               'total_health'],\n",
        "                                                              axis = 1),\n",
        "                                                    data['trauma'],\n",
        "                                                    test_size=0.3,\n",
        "                                                    random_state=0)"
      ],
      "execution_count": null,
      "outputs": []
    },
    {
      "cell_type": "code",
      "metadata": {
        "id": "lRvLwBIUnnWq"
      },
      "source": [
        "# normalize data\n",
        "from sklearn.preprocessing import MinMaxScaler\n",
        "\n",
        "# define a new scaler: \n",
        "x_scaler = MinMaxScaler()\n",
        "\n",
        "# fit the normalization on the training set: \n",
        "x_scaler.fit(X_train)\n",
        "\n",
        "# then create new and normalized training/test sets: \n",
        "X_train_norm = x_scaler.transform(X_train)\n",
        "X_test_norm = x_scaler.transform(X_test)"
      ],
      "execution_count": null,
      "outputs": []
    },
    {
      "cell_type": "markdown",
      "metadata": {
        "id": "qVWown5WokEa"
      },
      "source": [
        "## Decision Tree"
      ]
    },
    {
      "cell_type": "code",
      "metadata": {
        "colab": {
          "base_uri": "https://localhost:8080/",
          "height": 681
        },
        "id": "ZNdL1I33omCa",
        "outputId": "923c3feb-27a0-4049-b248-21cc5bb4630c"
      },
      "source": [
        "# from sklearn.tree import DecisionTreeClassifier\n",
        "from sklearn import tree\n",
        "\n",
        "model_7c = tree.DecisionTreeClassifier(max_depth=3, min_samples_leaf=1) \n",
        "# Using default parameters\n",
        "\n",
        "# Training model\n",
        "model_7c.fit(X_train, y_train)\n",
        "\n",
        "from sklearn.metrics import classification_report, confusion_matrix\n",
        "\n",
        "def evaluate_on_training_set(y_test, y_pred):  \n",
        "  # print out recall and precision\n",
        "  print(classification_report(y_test, y_pred))\n",
        "  \n",
        "  # print out confusion matrix\n",
        "  print(\"Confusion Matrix: \\n\", confusion_matrix(y_test, y_pred))\n",
        "\n",
        "\n",
        "y_pred = model_7c.predict(X_test) # Predicting labels for our test set using model\n",
        "print(y_pred)\n",
        "evaluate_on_training_set(y_test, y_pred) #evaluate our model using new function\n",
        "\n",
        "tree.plot_tree(model_7c)"
      ],
      "execution_count": null,
      "outputs": [
        {
          "output_type": "stream",
          "name": "stdout",
          "text": [
            "[0 0 0 0 0 0 1 0 0 0 0 0 0 0 1 0 0 0 0 0 0 0 0 0 0 0 0 0 0 0 0 0 0 0 0 0 0\n",
            " 0 1 0 0 1 0 0 0 0 0 0 0 0 0 0 0 0 0 0 0 0 0 0 0 1 0 0 1 1 0 0 0]\n",
            "              precision    recall  f1-score   support\n",
            "\n",
            "           0       0.65      0.89      0.75        45\n",
            "           1       0.29      0.08      0.13        24\n",
            "\n",
            "    accuracy                           0.61        69\n",
            "   macro avg       0.47      0.49      0.44        69\n",
            "weighted avg       0.52      0.61      0.53        69\n",
            "\n",
            "Confusion Matrix: \n",
            " [[40  5]\n",
            " [22  2]]\n"
          ]
        },
        {
          "output_type": "execute_result",
          "data": {
            "text/plain": [
              "[Text(197.83636363636364, 190.26, 'X[6] <= 0.523\\ngini = 0.484\\nsamples = 161\\nvalue = [95, 66]'),\n",
              " Text(121.74545454545455, 135.9, 'X[0] <= 0.521\\ngini = 0.47\\nsamples = 151\\nvalue = [94, 57]'),\n",
              " Text(60.872727272727275, 81.53999999999999, 'X[5] <= 0.444\\ngini = 0.204\\nsamples = 26\\nvalue = [23, 3]'),\n",
              " Text(30.436363636363637, 27.180000000000007, 'gini = 0.147\\nsamples = 25\\nvalue = [23, 2]'),\n",
              " Text(91.30909090909091, 27.180000000000007, 'gini = 0.0\\nsamples = 1\\nvalue = [0, 1]'),\n",
              " Text(182.61818181818182, 81.53999999999999, 'X[0] <= 0.538\\ngini = 0.491\\nsamples = 125\\nvalue = [71, 54]'),\n",
              " Text(152.1818181818182, 27.180000000000007, 'gini = 0.278\\nsamples = 6\\nvalue = [1, 5]'),\n",
              " Text(213.05454545454546, 27.180000000000007, 'gini = 0.484\\nsamples = 119\\nvalue = [70, 49]'),\n",
              " Text(273.92727272727274, 135.9, 'X[0] <= 0.271\\ngini = 0.18\\nsamples = 10\\nvalue = [1, 9]'),\n",
              " Text(243.4909090909091, 81.53999999999999, 'gini = 0.0\\nsamples = 1\\nvalue = [1, 0]'),\n",
              " Text(304.3636363636364, 81.53999999999999, 'gini = 0.0\\nsamples = 9\\nvalue = [0, 9]')]"
            ]
          },
          "metadata": {},
          "execution_count": 57
        },
        {
          "output_type": "display_data",
          "data": {
            "image/png": "[encoded data removed]",
            "text/plain": [
              "<Figure size 432x288 with 1 Axes>"
            ]
          },
          "metadata": {
            "needs_background": "light"
          }
        }
      ]
    },
    {
      "cell_type": "markdown",
      "metadata": {
        "id": "DRKKE9h5nRE2"
      },
      "source": [
        "## Ensemble Classifier"
      ]
    },
    {
      "cell_type": "code",
      "metadata": {
        "colab": {
          "base_uri": "https://localhost:8080/"
        },
        "id": "6JMO7A0ontn2",
        "outputId": "bb3c1842-5d67-4894-ffb7-82627f005666"
      },
      "source": [
        "from sklearn.ensemble import AdaBoostClassifier\n",
        "model_8c = AdaBoostClassifier(n_estimators=1000, learning_rate=0.21) # Define the model with parameters\n",
        "model_8c.fit(X_train_norm, y_train) # Training the model\n",
        "\n",
        "y_pred = model_8c.predict(X_test_norm) # Predicting labels for our test set using trained model\n",
        "evaluate_on_training_set(y_test, y_pred) #evaluate our model using newly defined function"
      ],
      "execution_count": null,
      "outputs": [
        {
          "output_type": "stream",
          "name": "stdout",
          "text": [
            "              precision    recall  f1-score   support\n",
            "\n",
            "           0       0.71      0.60      0.65        45\n",
            "           1       0.42      0.54      0.47        24\n",
            "\n",
            "    accuracy                           0.58        69\n",
            "   macro avg       0.56      0.57      0.56        69\n",
            "weighted avg       0.61      0.58      0.59        69\n",
            "\n",
            "Confusion Matrix: \n",
            " [[27 18]\n",
            " [11 13]]\n"
          ]
        }
      ]
    },
    {
      "cell_type": "markdown",
      "metadata": {
        "id": "sGUYeJ7Ig0TD"
      },
      "source": [
        "# Classification Model: Predict trauma with non-health variables (excludes health indicators, total_health, health_categorical, trauma)\n"
      ]
    },
    {
      "cell_type": "code",
      "metadata": {
        "id": "HRF6_DG9hs16"
      },
      "source": [
        "# training and test split\n",
        "from sklearn.model_selection import train_test_split\n",
        "\n",
        "# data = pd.get_dummies(data, drop_first=True)\n",
        "# We split the data up into a test set and a training set, 30 - 70 %\n",
        "# train_test_split\n",
        "# First argument: x data is all data without class column\n",
        "# Second argument:  this is the class label column\n",
        "# Random state = 0: ensures the train and test splitting is deterministic. \n",
        "\n",
        "X_train, X_test, y_train, y_test = train_test_split(data.drop(['timestamp',\n",
        "                                                               'id',\n",
        "                                                               'song1',\n",
        "                                                               'song2',\n",
        "                                                               'song3',\n",
        "                                                               'life_enjoyment', \n",
        "                                                               'resilience', \n",
        "                                                               'balanced_life',\n",
        "                                                               'emotional_flex', \n",
        "                                                               'self_actualization',\n",
        "                                                               'trauma',\n",
        "                                                               'health_categorical',\n",
        "                                                               'total_health'],\n",
        "                                                              axis = 1),\n",
        "                                                    data['trauma'],\n",
        "                                                    test_size=0.3,\n",
        "                                                    random_state=0)\n",
        "\n",
        "# normalize data\n",
        "from sklearn.preprocessing import MinMaxScaler\n",
        "\n",
        "# define a new scaler: \n",
        "x_scaler = MinMaxScaler()\n",
        "\n",
        "# fit the normalization on the training set: \n",
        "x_scaler.fit(X_train)\n",
        "\n",
        "# then create new and normalized training/test sets: \n",
        "X_train_norm = x_scaler.transform(X_train)\n",
        "X_test_norm = x_scaler.transform(X_test)"
      ],
      "execution_count": null,
      "outputs": []
    },
    {
      "cell_type": "markdown",
      "metadata": {
        "id": "GxxpTYW6g9yp"
      },
      "source": [
        "## Decision Tree"
      ]
    },
    {
      "cell_type": "code",
      "metadata": {
        "colab": {
          "base_uri": "https://localhost:8080/",
          "height": 681
        },
        "id": "cbii5kKKiwg-",
        "outputId": "79e751ac-f074-43a4-b515-afcc523499a2"
      },
      "source": [
        "# from sklearn.tree import DecisionTreeClassifier\n",
        "from sklearn import tree\n",
        "\n",
        "model_9c = tree.DecisionTreeClassifier(max_depth=3, min_samples_leaf=1) \n",
        "# Using default parameters\n",
        "\n",
        "# Training model\n",
        "model_9c.fit(X_train, y_train)\n",
        "\n",
        "from sklearn.metrics import classification_report, confusion_matrix\n",
        "\n",
        "def evaluate_on_training_set(y_test, y_pred):  \n",
        "  # print out recall and precision\n",
        "  print(classification_report(y_test, y_pred))\n",
        "  \n",
        "  # print out confusion matrix\n",
        "  print(\"Confusion Matrix: \\n\", confusion_matrix(y_test, y_pred))\n",
        "\n",
        "\n",
        "y_pred = model_9c.predict(X_test) # Predicting labels for our test set using model\n",
        "print(y_pred)\n",
        "evaluate_on_training_set(y_test, y_pred) #evaluate our model using new function\n",
        "\n",
        "tree.plot_tree(model_9c)"
      ],
      "execution_count": null,
      "outputs": [
        {
          "output_type": "stream",
          "name": "stdout",
          "text": [
            "[1 0 1 0 0 1 1 1 1 0 0 0 1 0 1 0 1 0 1 1 0 1 1 0 0 1 0 0 0 1 1 1 0 0 0 0 0\n",
            " 0 1 1 1 0 1 1 1 0 0 1 0 1 0 1 0 0 1 0 0 1 1 1 0 1 1 1 1 0 0 1 0]\n",
            "              precision    recall  f1-score   support\n",
            "\n",
            "           0       0.68      0.51      0.58        45\n",
            "           1       0.37      0.54      0.44        24\n",
            "\n",
            "    accuracy                           0.52        69\n",
            "   macro avg       0.52      0.53      0.51        69\n",
            "weighted avg       0.57      0.52      0.53        69\n",
            "\n",
            "Confusion Matrix: \n",
            " [[23 22]\n",
            " [11 13]]\n"
          ]
        },
        {
          "output_type": "execute_result",
          "data": {
            "text/plain": [
              "[Text(197.83636363636364, 190.26, 'X[9] <= 0.523\\ngini = 0.484\\nsamples = 161\\nvalue = [95, 66]'),\n",
              " Text(121.74545454545455, 135.9, 'X[3] <= 0.521\\ngini = 0.47\\nsamples = 151\\nvalue = [94, 57]'),\n",
              " Text(60.872727272727275, 81.53999999999999, 'X[8] <= 0.444\\ngini = 0.204\\nsamples = 26\\nvalue = [23, 3]'),\n",
              " Text(30.436363636363637, 27.180000000000007, 'gini = 0.147\\nsamples = 25\\nvalue = [23, 2]'),\n",
              " Text(91.30909090909091, 27.180000000000007, 'gini = 0.0\\nsamples = 1\\nvalue = [0, 1]'),\n",
              " Text(182.61818181818182, 81.53999999999999, 'X[0] <= 0.5\\ngini = 0.491\\nsamples = 125\\nvalue = [71, 54]'),\n",
              " Text(152.1818181818182, 27.180000000000007, 'gini = 0.499\\nsamples = 65\\nvalue = [31, 34]'),\n",
              " Text(213.05454545454546, 27.180000000000007, 'gini = 0.444\\nsamples = 60\\nvalue = [40, 20]'),\n",
              " Text(273.92727272727274, 135.9, 'X[3] <= 0.271\\ngini = 0.18\\nsamples = 10\\nvalue = [1, 9]'),\n",
              " Text(243.4909090909091, 81.53999999999999, 'gini = 0.0\\nsamples = 1\\nvalue = [1, 0]'),\n",
              " Text(304.3636363636364, 81.53999999999999, 'gini = 0.0\\nsamples = 9\\nvalue = [0, 9]')]"
            ]
          },
          "metadata": {},
          "execution_count": 60
        },
        {
          "output_type": "display_data",
          "data": {
            "image/png": "[encoded data removed]",
            "text/plain": [
              "<Figure size 432x288 with 1 Axes>"
            ]
          },
          "metadata": {
            "needs_background": "light"
          }
        }
      ]
    },
    {
      "cell_type": "markdown",
      "metadata": {
        "id": "2cBCdayvg_kS"
      },
      "source": [
        "## Ensemble Classifier"
      ]
    },
    {
      "cell_type": "code",
      "metadata": {
        "colab": {
          "base_uri": "https://localhost:8080/"
        },
        "id": "FLRFPQJQjK8W",
        "outputId": "8c68549b-b9ad-40a5-d155-6c1e4e00ffee"
      },
      "source": [
        "from sklearn.ensemble import AdaBoostClassifier\n",
        "model_10c = AdaBoostClassifier(n_estimators=1000, learning_rate=0.40) # Define the model with parameters\n",
        "model_10c.fit(X_train_norm, y_train) # Training the model\n",
        "\n",
        "y_pred = model_10c.predict(X_test_norm) # Predicting labels for our test set using trained model\n",
        "evaluate_on_training_set(y_test, y_pred) #evaluate our model using newly defined function"
      ],
      "execution_count": null,
      "outputs": [
        {
          "output_type": "stream",
          "name": "stdout",
          "text": [
            "              precision    recall  f1-score   support\n",
            "\n",
            "           0       0.68      0.62      0.65        45\n",
            "           1       0.39      0.46      0.42        24\n",
            "\n",
            "    accuracy                           0.57        69\n",
            "   macro avg       0.54      0.54      0.54        69\n",
            "weighted avg       0.58      0.57      0.57        69\n",
            "\n",
            "Confusion Matrix: \n",
            " [[28 17]\n",
            " [13 11]]\n"
          ]
        }
      ]
    },
    {
      "cell_type": "markdown",
      "metadata": {
        "id": "y-bveLwPg3kb"
      },
      "source": [
        "# Classification Model: Predict total health with non-health variables\n"
      ]
    },
    {
      "cell_type": "code",
      "metadata": {
        "colab": {
          "base_uri": "https://localhost:8080/"
        },
        "id": "rIshRBS5kT2U",
        "outputId": "f2cc67a1-1575-4882-b3c1-3c68bf2c3d05"
      },
      "source": [
        "data.columns"
      ],
      "execution_count": null,
      "outputs": [
        {
          "output_type": "execute_result",
          "data": {
            "text/plain": [
              "Index(['timestamp', 'gender', 'age', 'amount_music', 'life_enjoyment',\n",
              "       'resilience', 'balanced_life', 'emotional_flex', 'self_actualization',\n",
              "       'song1', 'song2', 'song3', 'trauma', 'id', 'total_health', 'energy',\n",
              "       'dance', 'liveness', 'valence', 'tempo', 'instrumental', 'acoustic',\n",
              "       'popularity', 'health_categorical'],\n",
              "      dtype='object')"
            ]
          },
          "metadata": {},
          "execution_count": 62
        }
      ]
    },
    {
      "cell_type": "code",
      "metadata": {
        "id": "37j6yREOj6dW"
      },
      "source": [
        "# training and test split\n",
        "from sklearn.model_selection import train_test_split\n",
        "\n",
        "# data = pd.get_dummies(data, drop_first=True)\n",
        "# We split the data up into a test set and a training set, 30 - 70 %\n",
        "# train_test_split\n",
        "# First argument: x data is all data without class column\n",
        "# Second argument:  this is the class label column\n",
        "# Random state = 0: ensures the train and test splitting is deterministic. \n",
        "\n",
        "X_train, X_test, y_train, y_test = train_test_split(data.drop(['timestamp',\n",
        "                                                               'id',\n",
        "                                                               'song1',\n",
        "                                                               'song2',\n",
        "                                                               'song3',\n",
        "                                                               'life_enjoyment', # health variables\n",
        "                                                               'resilience', \n",
        "                                                               'balanced_life',\n",
        "                                                               'emotional_flex',\n",
        "                                                               'self_actualization',\n",
        "                                                               'health_categorical', # health categorical\n",
        "                                                               'total_health'], # total health\n",
        "                                                              axis = 1),\n",
        "                                                    data['total_health'],\n",
        "                                                    test_size=0.3,\n",
        "                                                    random_state=0)\n",
        "\n",
        "# normalize data\n",
        "from sklearn.preprocessing import MinMaxScaler\n",
        "\n",
        "# define a new scaler: \n",
        "x_scaler = MinMaxScaler()\n",
        "\n",
        "# fit the normalization on the training set: \n",
        "x_scaler.fit(X_train)\n",
        "\n",
        "# then create new and normalized training/test sets: \n",
        "X_train_norm = x_scaler.transform(X_train)\n",
        "X_test_norm = x_scaler.transform(X_test)"
      ],
      "execution_count": null,
      "outputs": []
    },
    {
      "cell_type": "markdown",
      "metadata": {
        "id": "exR_AIwIhBT_"
      },
      "source": [
        "## Decision Tree"
      ]
    },
    {
      "cell_type": "code",
      "metadata": {
        "colab": {
          "base_uri": "https://localhost:8080/",
          "height": 1000
        },
        "id": "yswtKMrzi16t",
        "outputId": "4a91e588-8a23-49b5-ae6b-744377457dd6"
      },
      "source": [
        "# from sklearn.tree import DecisionTreeClassifier\n",
        "from sklearn import tree\n",
        "\n",
        "model_11c = tree.DecisionTreeClassifier(max_depth=3, min_samples_leaf=1) \n",
        "# Using default parameters\n",
        "\n",
        "# Training model\n",
        "model_11c.fit(X_train, y_train)\n",
        "\n",
        "from sklearn.metrics import classification_report, confusion_matrix\n",
        "\n",
        "def evaluate_on_training_set(y_test, y_pred):  \n",
        "  # print out recall and precision\n",
        "  print(classification_report(y_test, y_pred))\n",
        "  \n",
        "  # print out confusion matrix\n",
        "  print(\"Confusion Matrix: \\n\", confusion_matrix(y_test, y_pred))\n",
        "\n",
        "\n",
        "y_pred = model_11c.predict(X_test) # Predicting labels for our test set using model\n",
        "print(y_pred)\n",
        "evaluate_on_training_set(y_test, y_pred) #evaluate our model using new function\n",
        "\n",
        "tree.plot_tree(model_11c)"
      ],
      "execution_count": null,
      "outputs": [
        {
          "output_type": "stream",
          "name": "stdout",
          "text": [
            "[19 19 19 19 23 19 21 23 19 23 19 23 23 19 23 19 19 23 23 23 23 23 19 19\n",
            " 23 19 19 23 19 19 23 19 19 23 19 23 21 23 23 19 23 23 23 23 23 23 23 19\n",
            " 23 23 21 19 23 23 23 23 23 19 23 23 19 23 23 23 19 23 23 19 23]\n",
            "              precision    recall  f1-score   support\n",
            "\n",
            "           8       0.00      0.00      0.00         1\n",
            "           9       0.00      0.00      0.00         3\n",
            "          10       0.00      0.00      0.00         1\n",
            "          11       0.00      0.00      0.00         1\n",
            "          12       0.00      0.00      0.00         2\n",
            "          13       0.00      0.00      0.00         2\n",
            "          14       0.00      0.00      0.00         4\n",
            "          15       0.00      0.00      0.00         5\n",
            "          16       0.00      0.00      0.00         5\n",
            "          17       0.00      0.00      0.00         4\n",
            "          18       0.00      0.00      0.00         4\n",
            "          19       0.12      0.60      0.19         5\n",
            "          20       0.00      0.00      0.00         4\n",
            "          21       0.00      0.00      0.00         6\n",
            "          22       0.00      0.00      0.00         4\n",
            "          23       0.07      0.75      0.14         4\n",
            "          24       0.00      0.00      0.00         3\n",
            "          25       0.00      0.00      0.00         2\n",
            "          26       0.00      0.00      0.00         3\n",
            "          27       0.00      0.00      0.00         3\n",
            "          29       0.00      0.00      0.00         2\n",
            "          30       0.00      0.00      0.00         1\n",
            "\n",
            "    accuracy                           0.09        69\n",
            "   macro avg       0.01      0.06      0.01        69\n",
            "weighted avg       0.01      0.09      0.02        69\n",
            "\n",
            "Confusion Matrix: \n",
            " [[0 0 0 0 0 0 0 0 0 0 0 0 0 0 0 1 0 0 0 0 0 0]\n",
            " [0 0 0 0 0 0 0 0 0 0 0 1 0 0 0 2 0 0 0 0 0 0]\n",
            " [0 0 0 0 0 0 0 0 0 0 0 0 0 1 0 0 0 0 0 0 0 0]\n",
            " [0 0 0 0 0 0 0 0 0 0 0 0 0 0 0 1 0 0 0 0 0 0]\n",
            " [0 0 0 0 0 0 0 0 0 0 0 1 0 0 0 1 0 0 0 0 0 0]\n",
            " [0 0 0 0 0 0 0 0 0 0 0 2 0 0 0 0 0 0 0 0 0 0]\n",
            " [0 0 0 0 0 0 0 0 0 0 0 2 0 1 0 1 0 0 0 0 0 0]\n",
            " [0 0 0 0 0 0 0 0 0 0 0 4 0 0 0 1 0 0 0 0 0 0]\n",
            " [0 0 0 0 0 0 0 0 0 0 0 1 0 0 0 4 0 0 0 0 0 0]\n",
            " [0 0 0 0 0 0 0 0 0 0 0 2 0 0 0 2 0 0 0 0 0 0]\n",
            " [0 0 0 0 0 0 0 0 0 0 0 0 0 0 0 4 0 0 0 0 0 0]\n",
            " [0 0 0 0 0 0 0 0 0 0 0 3 0 0 0 2 0 0 0 0 0 0]\n",
            " [0 0 0 0 0 0 0 0 0 0 0 1 0 0 0 3 0 0 0 0 0 0]\n",
            " [0 0 0 0 0 0 0 0 0 0 0 1 0 0 0 5 0 0 0 0 0 0]\n",
            " [0 0 0 0 0 0 0 0 0 0 0 1 0 0 0 3 0 0 0 0 0 0]\n",
            " [0 0 0 0 0 0 0 0 0 0 0 1 0 0 0 3 0 0 0 0 0 0]\n",
            " [0 0 0 0 0 0 0 0 0 0 0 1 0 0 0 2 0 0 0 0 0 0]\n",
            " [0 0 0 0 0 0 0 0 0 0 0 1 0 0 0 1 0 0 0 0 0 0]\n",
            " [0 0 0 0 0 0 0 0 0 0 0 2 0 0 0 1 0 0 0 0 0 0]\n",
            " [0 0 0 0 0 0 0 0 0 0 0 1 0 0 0 2 0 0 0 0 0 0]\n",
            " [0 0 0 0 0 0 0 0 0 0 0 1 0 1 0 0 0 0 0 0 0 0]\n",
            " [0 0 0 0 0 0 0 0 0 0 0 0 0 0 0 1 0 0 0 0 0 0]]\n"
          ]
        },
        {
          "output_type": "stream",
          "name": "stderr",
          "text": [
            "/usr/local/lib/python3.7/dist-packages/sklearn/metrics/_classification.py:1272: UndefinedMetricWarning: Precision and F-score are ill-defined and being set to 0.0 in labels with no predicted samples. Use `zero_division` parameter to control this behavior.\n",
            "  _warn_prf(average, modifier, msg_start, len(result))\n"
          ]
        },
        {
          "output_type": "execute_result",
          "data": {
            "text/plain": [
              "[Text(125.55000000000001, 190.26, 'X[5] <= 0.344\\ngini = 0.931\\nsamples = 161\\nvalue = [1, 2, 1, 3, 4, 6, 10, 9, 8, 11, 8, 14, 17\\n15, 14, 17, 6, 6, 3, 5, 1]'),\n",
              " Text(83.7, 135.9, 'gini = 0.0\\nsamples = 3\\nvalue = [0, 0, 0, 0, 0, 0, 0, 0, 0, 0, 0, 0, 0, 3\\n0, 0, 0, 0, 0, 0, 0]'),\n",
              " Text(167.4, 135.9, 'X[9] <= 0.001\\ngini = 0.931\\nsamples = 158\\nvalue = [1, 2, 1, 3, 4, 6, 10, 9, 8, 11, 8, 14, 17\\n12, 14, 17, 6, 6, 3, 5, 1]'),\n",
              " Text(83.7, 81.53999999999999, 'X[5] <= 0.848\\ngini = 0.929\\nsamples = 90\\nvalue = [0, 2, 1, 3, 2, 5, 9, 6, 4, 4, 3, 3, 6, 8\\n11, 10, 4, 4, 2, 3, 0]'),\n",
              " Text(41.85, 27.180000000000007, 'gini = 0.931\\nsamples = 88\\nvalue = [0, 2, 1, 3, 2, 5, 9, 6, 4, 4, 3, 3, 6, 8\\n9, 10, 4, 4, 2, 3, 0]'),\n",
              " Text(125.55000000000001, 27.180000000000007, 'gini = 0.0\\nsamples = 2\\nvalue = [0, 0, 0, 0, 0, 0, 0, 0, 0, 0, 0, 0, 0, 0\\n2, 0, 0, 0, 0, 0, 0]'),\n",
              " Text(251.10000000000002, 81.53999999999999, 'X[11] <= 78.333\\ngini = 0.906\\nsamples = 68\\nvalue = [1, 0, 0, 0, 2, 1, 1, 3, 4, 7, 5, 11, 11, 4\\n3, 7, 2, 2, 1, 2, 1]'),\n",
              " Text(209.25, 27.180000000000007, 'gini = 0.911\\nsamples = 62\\nvalue = [1, 0, 0, 0, 2, 1, 1, 3, 4, 7, 4, 11, 7, 4\\n3, 6, 2, 2, 1, 2, 1]'),\n",
              " Text(292.95, 27.180000000000007, 'gini = 0.5\\nsamples = 6\\nvalue = [0, 0, 0, 0, 0, 0, 0, 0, 0, 0, 1, 0, 4, 0\\n0, 1, 0, 0, 0, 0, 0]')]"
            ]
          },
          "metadata": {},
          "execution_count": 64
        },
        {
          "output_type": "display_data",
          "data": {
            "image/png": "[encoded data removed]",
            "text/plain": [
              "<Figure size 432x288 with 1 Axes>"
            ]
          },
          "metadata": {
            "needs_background": "light"
          }
        }
      ]
    },
    {
      "cell_type": "markdown",
      "metadata": {
        "id": "ar_qsN_3hDRQ"
      },
      "source": [
        "## Ensemble Classifier"
      ]
    },
    {
      "cell_type": "code",
      "metadata": {
        "colab": {
          "base_uri": "https://localhost:8080/"
        },
        "id": "1nLrFihwjphc",
        "outputId": "1dd774a1-c567-4e9d-cbf9-8bb9ea769771"
      },
      "source": [
        "from sklearn.ensemble import AdaBoostClassifier\n",
        "model_12c = AdaBoostClassifier(n_estimators=1000, learning_rate=0.31) # Define the model with parameters\n",
        "model_12c.fit(X_train_norm, y_train) # Training the model\n",
        "\n",
        "y_pred = model_12c.predict(X_test_norm) # Predicting labels for our test set using trained model\n",
        "evaluate_on_training_set(y_test, y_pred) #evaluate our model using newly defined function"
      ],
      "execution_count": null,
      "outputs": [
        {
          "output_type": "stream",
          "name": "stdout",
          "text": [
            "              precision    recall  f1-score   support\n",
            "\n",
            "           8       0.00      0.00      0.00         1\n",
            "           9       0.00      0.00      0.00         3\n",
            "          10       0.00      0.00      0.00         1\n",
            "          11       0.00      0.00      0.00         1\n",
            "          12       0.00      0.00      0.00         2\n",
            "          13       0.25      0.50      0.33         2\n",
            "          14       0.00      0.00      0.00         4\n",
            "          15       0.50      0.20      0.29         5\n",
            "          16       0.00      0.00      0.00         5\n",
            "          17       0.17      0.25      0.20         4\n",
            "          18       0.00      0.00      0.00         4\n",
            "          19       0.14      0.20      0.17         5\n",
            "          20       0.00      0.00      0.00         4\n",
            "          21       0.00      0.00      0.00         6\n",
            "          22       0.10      0.25      0.14         4\n",
            "          23       0.00      0.00      0.00         4\n",
            "          24       0.00      0.00      0.00         3\n",
            "          25       0.00      0.00      0.00         2\n",
            "          26       0.00      0.00      0.00         3\n",
            "          27       0.00      0.00      0.00         3\n",
            "          29       0.00      0.00      0.00         2\n",
            "          30       0.00      0.00      0.00         1\n",
            "\n",
            "    accuracy                           0.07        69\n",
            "   macro avg       0.05      0.06      0.05        69\n",
            "weighted avg       0.07      0.07      0.06        69\n",
            "\n",
            "Confusion Matrix: \n",
            " [[0 0 0 0 0 0 0 0 0 0 0 0 1 0 0 0 0 0 0 0 0 0]\n",
            " [0 0 0 0 0 0 1 0 1 0 0 0 0 0 1 0 0 0 0 0 0 0]\n",
            " [0 0 0 0 0 0 0 0 0 0 0 0 0 0 0 1 0 0 0 0 0 0]\n",
            " [0 0 0 0 0 0 0 0 0 0 0 0 0 1 0 0 0 0 0 0 0 0]\n",
            " [0 0 0 0 0 0 0 0 0 1 0 0 0 0 0 0 0 0 0 1 0 0]\n",
            " [0 0 0 0 0 1 0 1 0 0 0 0 0 0 0 0 0 0 0 0 0 0]\n",
            " [0 0 0 0 0 0 0 0 1 0 0 1 0 0 0 2 0 0 0 0 0 0]\n",
            " [0 0 0 0 0 0 0 1 0 0 1 0 1 0 0 1 0 0 1 0 0 0]\n",
            " [0 0 0 0 0 0 0 0 0 0 2 0 0 0 2 0 0 1 0 0 0 0]\n",
            " [0 0 0 0 0 0 0 0 0 1 0 2 0 1 0 0 0 0 0 0 0 0]\n",
            " [0 0 0 0 0 0 0 0 0 0 0 0 0 0 1 3 0 0 0 0 0 0]\n",
            " [0 0 0 0 0 0 0 0 0 1 0 1 0 2 0 1 0 0 0 0 0 0]\n",
            " [0 0 0 0 0 0 0 0 0 1 0 0 0 1 0 0 1 0 0 1 0 0]\n",
            " [0 0 0 0 0 1 0 0 1 1 0 1 0 0 1 0 1 0 0 0 0 0]\n",
            " [0 0 0 0 0 0 0 0 0 0 0 1 1 0 1 0 1 0 0 0 0 0]\n",
            " [0 0 0 0 0 0 2 0 0 1 0 0 0 0 1 0 0 0 0 0 0 0]\n",
            " [0 0 0 0 0 1 0 0 0 0 0 1 0 0 1 0 0 0 0 0 0 0]\n",
            " [0 0 0 0 0 0 0 0 0 0 0 0 1 1 0 0 0 0 0 0 0 0]\n",
            " [0 0 0 0 0 0 1 0 1 0 0 0 0 0 1 0 0 0 0 0 0 0]\n",
            " [0 0 0 0 0 0 0 0 0 0 0 0 1 0 1 1 0 0 0 0 0 0]\n",
            " [0 0 0 0 0 0 0 0 1 0 0 0 0 0 0 1 0 0 0 0 0 0]\n",
            " [0 0 0 0 0 1 0 0 0 0 0 0 0 0 0 0 0 0 0 0 0 0]]\n"
          ]
        },
        {
          "output_type": "stream",
          "name": "stderr",
          "text": [
            "/usr/local/lib/python3.7/dist-packages/sklearn/metrics/_classification.py:1272: UndefinedMetricWarning: Precision and F-score are ill-defined and being set to 0.0 in labels with no predicted samples. Use `zero_division` parameter to control this behavior.\n",
            "  _warn_prf(average, modifier, msg_start, len(result))\n"
          ]
        }
      ]
    },
    {
      "cell_type": "markdown",
      "metadata": {
        "id": "_LYrsv6_g5wy"
      },
      "source": [
        "# Classification Model: Predict specific health variable with non-health variables"
      ]
    },
    {
      "cell_type": "markdown",
      "metadata": {
        "id": "qPH5MfHxhGne"
      },
      "source": [
        "## Variable 1: Life Enjoyment"
      ]
    },
    {
      "cell_type": "code",
      "metadata": {
        "id": "cqOM3smVkCxi"
      },
      "source": [
        "# training and test split\n",
        "from sklearn.model_selection import train_test_split\n",
        "\n",
        "# data = pd.get_dummies(data, drop_first=True)\n",
        "# We split the data up into a test set and a training set, 30 - 70 %\n",
        "# train_test_split\n",
        "# First argument: x data is all data without class column\n",
        "# Second argument:  this is the class label column\n",
        "# Random state = 0: ensures the train and test splitting is deterministic. \n",
        "\n",
        "X_train, X_test, y_train, y_test = train_test_split(data.drop(['timestamp',\n",
        "                                                               'id',\n",
        "                                                               'song1',\n",
        "                                                               'song2',\n",
        "                                                               'song3',\n",
        "                                                               'life_enjoyment', # health vars\n",
        "                                                               'resilience', \n",
        "                                                               'balanced_life',\n",
        "                                                               'emotional_flex', \n",
        "                                                               'self_actualization',\n",
        "                                                               'health_categorical',\n",
        "                                                               'total_health'],\n",
        "                                                              axis = 1),\n",
        "                                                    data['life_enjoyment'],\n",
        "                                                    test_size=0.3,\n",
        "                                                    random_state=0)\n",
        "\n",
        "# normalize data\n",
        "from sklearn.preprocessing import MinMaxScaler\n",
        "\n",
        "# define a new scaler: \n",
        "x_scaler = MinMaxScaler()\n",
        "\n",
        "# fit the normalization on the training set: \n",
        "x_scaler.fit(X_train)\n",
        "\n",
        "# then create new and normalized training/test sets: \n",
        "X_train_norm = x_scaler.transform(X_train)\n",
        "X_test_norm = x_scaler.transform(X_test)"
      ],
      "execution_count": null,
      "outputs": []
    },
    {
      "cell_type": "markdown",
      "metadata": {
        "id": "gQSpjHvUhIlI"
      },
      "source": [
        "### Decision Tree"
      ]
    },
    {
      "cell_type": "code",
      "metadata": {
        "colab": {
          "base_uri": "https://localhost:8080/",
          "height": 978
        },
        "id": "t4ankX2Ui5f1",
        "outputId": "0f4c8bd7-25d4-4c57-bc8f-b4a9f862df5a"
      },
      "source": [
        "# from sklearn.tree import DecisionTreeClassifier\n",
        "from sklearn import tree\n",
        "\n",
        "model_13c = tree.DecisionTreeClassifier(max_depth=3, min_samples_leaf=1) \n",
        "# Using default parameters\n",
        "\n",
        "# Training model\n",
        "model_13c.fit(X_train, y_train)\n",
        "\n",
        "from sklearn.metrics import classification_report, confusion_matrix\n",
        "\n",
        "def evaluate_on_training_set(y_test, y_pred):  \n",
        "  # print out recall and precision\n",
        "  print(classification_report(y_test, y_pred))\n",
        "  \n",
        "  # print out confusion matrix\n",
        "  print(\"Confusion Matrix: \\n\", confusion_matrix(y_test, y_pred))\n",
        "\n",
        "\n",
        "y_pred = model_13c.predict(X_test) # Predicting labels for our test set using model\n",
        "print(y_pred)\n",
        "evaluate_on_training_set(y_test, y_pred) #evaluate our model using new function\n",
        "\n",
        "tree.plot_tree(model_13c)"
      ],
      "execution_count": null,
      "outputs": [
        {
          "output_type": "stream",
          "name": "stdout",
          "text": [
            "[3 4 4 4 3 4 3 3 4 3 3 3 3 3 2 3 3 3 3 3 2 3 3 3 6 3 3 3 3 4 3 3 4 3 3 2 3\n",
            " 3 4 2 2 3 3 3 3 4 0 3 5 4 3 4 3 0 3 5 2 3 5 5 4 3 3 3 4 3 3 3 3]\n",
            "              precision    recall  f1-score   support\n",
            "\n",
            "           0       0.00      0.00      0.00         3\n",
            "           1       0.00      0.00      0.00         5\n",
            "           2       0.17      0.08      0.11        12\n",
            "           3       0.35      0.79      0.48        19\n",
            "           4       0.23      0.23      0.23        13\n",
            "           5       0.00      0.00      0.00        13\n",
            "           6       0.00      0.00      0.00         4\n",
            "\n",
            "    accuracy                           0.28        69\n",
            "   macro avg       0.11      0.16      0.12        69\n",
            "weighted avg       0.17      0.28      0.20        69\n",
            "\n",
            "Confusion Matrix: \n",
            " [[ 0  0  0  3  0  0  0]\n",
            " [ 0  0  1  4  0  0  0]\n",
            " [ 0  0  1  7  3  1  0]\n",
            " [ 1  0  0 15  2  1  0]\n",
            " [ 0  0  2  5  3  2  1]\n",
            " [ 1  0  1  7  4  0  0]\n",
            " [ 0  0  1  2  1  0  0]]\n"
          ]
        },
        {
          "output_type": "stream",
          "name": "stderr",
          "text": [
            "/usr/local/lib/python3.7/dist-packages/sklearn/metrics/_classification.py:1272: UndefinedMetricWarning: Precision and F-score are ill-defined and being set to 0.0 in labels with no predicted samples. Use `zero_division` parameter to control this behavior.\n",
            "  _warn_prf(average, modifier, msg_start, len(result))\n"
          ]
        },
        {
          "output_type": "execute_result",
          "data": {
            "text/plain": [
              "[Text(167.4, 190.26, 'X[5] <= 0.753\\ngini = 0.79\\nsamples = 161\\nvalue = [3, 9, 21, 45, 45, 27, 11]'),\n",
              " Text(83.7, 135.9, 'X[6] <= 0.285\\ngini = 0.779\\nsamples = 145\\nvalue = [2, 9, 21, 39, 45, 23, 6]'),\n",
              " Text(41.85, 81.53999999999999, 'X[6] <= 0.179\\ngini = 0.776\\nsamples = 130\\nvalue = [2, 9, 15, 32, 44, 22, 6]'),\n",
              " Text(20.925, 27.180000000000007, 'gini = 0.794\\nsamples = 85\\nvalue = [2, 6, 11, 26, 20, 15, 5]'),\n",
              " Text(62.775000000000006, 27.180000000000007, 'gini = 0.661\\nsamples = 45\\nvalue = [0, 3, 4, 6, 24, 7, 1]'),\n",
              " Text(125.55000000000001, 81.53999999999999, 'X[4] <= 0.674\\ngini = 0.613\\nsamples = 15\\nvalue = [0, 0, 6, 7, 1, 1, 0]'),\n",
              " Text(104.625, 27.180000000000007, 'gini = 0.531\\nsamples = 8\\nvalue = [0, 0, 5, 2, 1, 0, 0]'),\n",
              " Text(146.475, 27.180000000000007, 'gini = 0.449\\nsamples = 7\\nvalue = [0, 0, 1, 5, 0, 1, 0]'),\n",
              " Text(251.10000000000002, 135.9, 'X[8] <= 119.84\\ngini = 0.695\\nsamples = 16\\nvalue = [1, 0, 0, 6, 0, 4, 5]'),\n",
              " Text(209.25, 81.53999999999999, 'X[5] <= 0.802\\ngini = 0.667\\nsamples = 6\\nvalue = [1, 0, 0, 1, 0, 3, 1]'),\n",
              " Text(188.32500000000002, 27.180000000000007, 'gini = 0.5\\nsamples = 2\\nvalue = [1, 0, 0, 1, 0, 0, 0]'),\n",
              " Text(230.175, 27.180000000000007, 'gini = 0.375\\nsamples = 4\\nvalue = [0, 0, 0, 0, 0, 3, 1]'),\n",
              " Text(292.95, 81.53999999999999, 'X[4] <= 0.531\\ngini = 0.58\\nsamples = 10\\nvalue = [0, 0, 0, 5, 0, 1, 4]'),\n",
              " Text(272.02500000000003, 27.180000000000007, 'gini = 0.444\\nsamples = 3\\nvalue = [0, 0, 0, 0, 0, 1, 2]'),\n",
              " Text(313.875, 27.180000000000007, 'gini = 0.408\\nsamples = 7\\nvalue = [0, 0, 0, 5, 0, 0, 2]')]"
            ]
          },
          "metadata": {},
          "execution_count": 67
        },
        {
          "output_type": "display_data",
          "data": {
            "image/png": "[encoded data removed]",
            "text/plain": [
              "<Figure size 432x288 with 1 Axes>"
            ]
          },
          "metadata": {
            "needs_background": "light"
          }
        }
      ]
    },
    {
      "cell_type": "markdown",
      "metadata": {
        "id": "PzWCBRGBhKMD"
      },
      "source": [
        "### Ensemble Classifier"
      ]
    },
    {
      "cell_type": "code",
      "metadata": {
        "colab": {
          "base_uri": "https://localhost:8080/"
        },
        "id": "Cm2ohz1Cjsjl",
        "outputId": "d46adbc0-ab93-463d-b58f-144734edc814"
      },
      "source": [
        "from sklearn.ensemble import AdaBoostClassifier\n",
        "model_14c = AdaBoostClassifier(n_estimators=1000, learning_rate=0.20) # Define the model with parameters\n",
        "model_14c.fit(X_train_norm, y_train) # Training the model\n",
        "\n",
        "y_pred = model_14c.predict(X_test_norm) # Predicting labels for our test set using trained model\n",
        "evaluate_on_training_set(y_test, y_pred) #evaluate our model using newly defined function"
      ],
      "execution_count": null,
      "outputs": [
        {
          "output_type": "stream",
          "name": "stdout",
          "text": [
            "              precision    recall  f1-score   support\n",
            "\n",
            "           0       0.00      0.00      0.00         3\n",
            "           1       0.20      0.20      0.20         5\n",
            "           2       0.40      0.33      0.36        12\n",
            "           3       0.29      0.32      0.30        19\n",
            "           4       0.25      0.31      0.28        13\n",
            "           5       0.15      0.15      0.15        13\n",
            "           6       0.25      0.25      0.25         4\n",
            "\n",
            "    accuracy                           0.26        69\n",
            "   macro avg       0.22      0.22      0.22        69\n",
            "weighted avg       0.25      0.26      0.26        69\n",
            "\n",
            "Confusion Matrix: \n",
            " [[0 0 0 1 1 0 1]\n",
            " [0 1 0 1 2 1 0]\n",
            " [0 2 4 3 1 2 0]\n",
            " [0 2 2 6 4 5 0]\n",
            " [0 0 2 4 4 2 1]\n",
            " [0 0 2 4 4 2 1]\n",
            " [0 0 0 2 0 1 1]]\n"
          ]
        },
        {
          "output_type": "stream",
          "name": "stderr",
          "text": [
            "/usr/local/lib/python3.7/dist-packages/sklearn/metrics/_classification.py:1272: UndefinedMetricWarning: Precision and F-score are ill-defined and being set to 0.0 in labels with no predicted samples. Use `zero_division` parameter to control this behavior.\n",
            "  _warn_prf(average, modifier, msg_start, len(result))\n"
          ]
        }
      ]
    },
    {
      "cell_type": "markdown",
      "metadata": {
        "id": "zPyZpxshhMBE"
      },
      "source": [
        "## Variable 2: Resilience"
      ]
    },
    {
      "cell_type": "code",
      "metadata": {
        "id": "hwyfYJ5FkEbP"
      },
      "source": [
        "# training and test split\n",
        "from sklearn.model_selection import train_test_split\n",
        "\n",
        "# data = pd.get_dummies(data, drop_first=True)\n",
        "# We split the data up into a test set and a training set, 30 - 70 %\n",
        "# train_test_split\n",
        "# First argument: x data is all data without class column\n",
        "# Second argument:  this is the class label column\n",
        "# Random state = 0: ensures the train and test splitting is deterministic. \n",
        "\n",
        "X_train, X_test, y_train, y_test = train_test_split(data.drop(['timestamp',\n",
        "                                                               'id',\n",
        "                                                               'song1',\n",
        "                                                               'song2',\n",
        "                                                               'song3',\n",
        "                                                               'life_enjoyment', \n",
        "                                                               'resilience', \n",
        "                                                               'balanced_life',\n",
        "                                                               'emotional_flex', \n",
        "                                                               'self_actualization',\n",
        "                                                               'health_categorical',\n",
        "                                                               'total_health'],\n",
        "                                                              axis = 1),\n",
        "                                                    data['resilience'],\n",
        "                                                    test_size=0.3,\n",
        "                                                    random_state=0)\n",
        "\n",
        "# normalize data\n",
        "from sklearn.preprocessing import MinMaxScaler\n",
        "\n",
        "# define a new scaler: \n",
        "x_scaler = MinMaxScaler()\n",
        "\n",
        "# fit the normalization on the training set: \n",
        "x_scaler.fit(X_train)\n",
        "\n",
        "# then create new and normalized training/test sets: \n",
        "X_train_norm = x_scaler.transform(X_train)\n",
        "X_test_norm = x_scaler.transform(X_test)"
      ],
      "execution_count": null,
      "outputs": []
    },
    {
      "cell_type": "markdown",
      "metadata": {
        "id": "oqwqe-O0hNjF"
      },
      "source": [
        "### Decision Tree"
      ]
    },
    {
      "cell_type": "code",
      "metadata": {
        "colab": {
          "base_uri": "https://localhost:8080/",
          "height": 978
        },
        "id": "pLzySjawi78E",
        "outputId": "ca1d091d-2dff-436a-f572-3a6343a72fff"
      },
      "source": [
        "# from sklearn.tree import DecisionTreeClassifier\n",
        "from sklearn import tree\n",
        "\n",
        "model_15c = tree.DecisionTreeClassifier(max_depth=3, min_samples_leaf=1) \n",
        "# Using default parameters\n",
        "\n",
        "# Training model\n",
        "model_15c.fit(X_train, y_train)\n",
        "\n",
        "from sklearn.metrics import classification_report, confusion_matrix\n",
        "\n",
        "def evaluate_on_training_set(y_test, y_pred):  \n",
        "  # print out recall and precision\n",
        "  print(classification_report(y_test, y_pred))\n",
        "  \n",
        "  # print out confusion matrix\n",
        "  print(\"Confusion Matrix: \\n\", confusion_matrix(y_test, y_pred))\n",
        "\n",
        "\n",
        "y_pred = model_15c.predict(X_test) # Predicting labels for our test set using model\n",
        "print(y_pred)\n",
        "evaluate_on_training_set(y_test, y_pred) #evaluate our model using new function\n",
        "\n",
        "tree.plot_tree(model_15c)"
      ],
      "execution_count": null,
      "outputs": [
        {
          "output_type": "stream",
          "name": "stdout",
          "text": [
            "[5 4 4 4 5 6 4 4 4 4 5 4 4 4 4 4 4 5 3 4 4 3 4 4 4 5 4 3 4 4 4 4 4 5 4 6 4\n",
            " 4 4 4 6 5 3 4 3 4 3 3 4 4 4 4 3 3 4 4 4 5 6 3 4 4 6 3 4 4 5 4 4]\n",
            "              precision    recall  f1-score   support\n",
            "\n",
            "           0       0.00      0.00      0.00         2\n",
            "           1       0.00      0.00      0.00         2\n",
            "           2       0.00      0.00      0.00        12\n",
            "           3       0.09      0.14      0.11         7\n",
            "           4       0.23      0.59      0.33        17\n",
            "           5       0.44      0.22      0.30        18\n",
            "           6       0.20      0.09      0.13        11\n",
            "\n",
            "    accuracy                           0.23        69\n",
            "   macro avg       0.14      0.15      0.12        69\n",
            "weighted avg       0.21      0.23      0.19        69\n",
            "\n",
            "Confusion Matrix: \n",
            " [[ 0  0  0  0  2  0  0]\n",
            " [ 0  0  0  0  1  1  0]\n",
            " [ 0  0  0  1  9  1  1]\n",
            " [ 0  0  0  1  4  1  1]\n",
            " [ 0  0  0  6 10  1  0]\n",
            " [ 0  0  0  1 11  4  2]\n",
            " [ 0  0  0  2  7  1  1]]\n"
          ]
        },
        {
          "output_type": "stream",
          "name": "stderr",
          "text": [
            "/usr/local/lib/python3.7/dist-packages/sklearn/metrics/_classification.py:1272: UndefinedMetricWarning: Precision and F-score are ill-defined and being set to 0.0 in labels with no predicted samples. Use `zero_division` parameter to control this behavior.\n",
            "  _warn_prf(average, modifier, msg_start, len(result))\n"
          ]
        },
        {
          "output_type": "execute_result",
          "data": {
            "text/plain": [
              "[Text(167.4, 190.26, 'X[6] <= 0.147\\ngini = 0.77\\nsamples = 161\\nvalue = [3, 14, 33, 49, 44, 18]'),\n",
              " Text(83.7, 135.9, 'X[9] <= 0.001\\ngini = 0.764\\nsamples = 75\\nvalue = [2, 8, 20, 14, 25, 6]'),\n",
              " Text(41.85, 81.53999999999999, 'X[8] <= 148.175\\ngini = 0.79\\nsamples = 51\\nvalue = [1, 8, 15, 10, 11, 6]'),\n",
              " Text(20.925, 27.180000000000007, 'gini = 0.769\\nsamples = 42\\nvalue = [1, 7, 15, 9, 6, 4]'),\n",
              " Text(62.775000000000006, 27.180000000000007, 'gini = 0.617\\nsamples = 9\\nvalue = [0, 1, 0, 1, 5, 2]'),\n",
              " Text(125.55000000000001, 81.53999999999999, 'X[5] <= 0.537\\ngini = 0.587\\nsamples = 24\\nvalue = [1, 0, 5, 4, 14, 0]'),\n",
              " Text(104.625, 27.180000000000007, 'gini = 0.444\\nsamples = 6\\nvalue = [0, 0, 0, 4, 2, 0]'),\n",
              " Text(146.475, 27.180000000000007, 'gini = 0.475\\nsamples = 18\\nvalue = [1, 0, 5, 0, 12, 0]'),\n",
              " Text(251.10000000000002, 135.9, 'X[10] <= 0.275\\ngini = 0.738\\nsamples = 86\\nvalue = [1, 6, 13, 35, 19, 12]'),\n",
              " Text(209.25, 81.53999999999999, 'X[2] <= 0.5\\ngini = 0.686\\nsamples = 63\\nvalue = [1, 4, 10, 31, 12, 5]'),\n",
              " Text(188.32500000000002, 27.180000000000007, 'gini = 0.769\\nsamples = 13\\nvalue = [0, 2, 3, 1, 4, 3]'),\n",
              " Text(230.175, 27.180000000000007, 'gini = 0.591\\nsamples = 50\\nvalue = [1, 2, 7, 30, 8, 2]'),\n",
              " Text(292.95, 81.53999999999999, 'X[8] <= 114.016\\ngini = 0.76\\nsamples = 23\\nvalue = [0, 2, 3, 4, 7, 7]'),\n",
              " Text(272.02500000000003, 27.180000000000007, 'gini = 0.54\\nsamples = 10\\nvalue = [0, 0, 1, 0, 3, 6]'),\n",
              " Text(313.875, 27.180000000000007, 'gini = 0.757\\nsamples = 13\\nvalue = [0, 2, 2, 4, 4, 1]')]"
            ]
          },
          "metadata": {},
          "execution_count": 70
        },
        {
          "output_type": "display_data",
          "data": {
            "image/png": "[encoded data removed]",
            "text/plain": [
              "<Figure size 432x288 with 1 Axes>"
            ]
          },
          "metadata": {
            "needs_background": "light"
          }
        }
      ]
    },
    {
      "cell_type": "markdown",
      "metadata": {
        "id": "m_rgsYcShP5h"
      },
      "source": [
        "### Ensemble Classifier"
      ]
    },
    {
      "cell_type": "code",
      "metadata": {
        "colab": {
          "base_uri": "https://localhost:8080/"
        },
        "id": "a6M8FrPIjugn",
        "outputId": "b1a4135a-8541-48b9-acb0-84e20a21dc6f"
      },
      "source": [
        "from sklearn.ensemble import AdaBoostClassifier\n",
        "model_16c = AdaBoostClassifier(n_estimators=1000, learning_rate=0.20) # Define the model with parameters\n",
        "model_16c.fit(X_train_norm, y_train) # Training the model\n",
        "\n",
        "y_pred = model_16c.predict(X_test_norm) # Predicting labels for our test set using trained model\n",
        "evaluate_on_training_set(y_test, y_pred) #evaluate our model using newly defined function"
      ],
      "execution_count": null,
      "outputs": [
        {
          "output_type": "stream",
          "name": "stdout",
          "text": [
            "              precision    recall  f1-score   support\n",
            "\n",
            "           0       0.00      0.00      0.00         2\n",
            "           1       0.00      0.00      0.00         2\n",
            "           2       0.11      0.08      0.10        12\n",
            "           3       0.18      0.43      0.25         7\n",
            "           4       0.39      0.41      0.40        17\n",
            "           5       0.36      0.28      0.31        18\n",
            "           6       0.18      0.18      0.18        11\n",
            "\n",
            "    accuracy                           0.26        69\n",
            "   macro avg       0.17      0.20      0.18        69\n",
            "weighted avg       0.26      0.26      0.25        69\n",
            "\n",
            "Confusion Matrix: \n",
            " [[0 0 1 0 0 0 1]\n",
            " [0 0 0 0 0 2 0]\n",
            " [0 0 1 2 3 3 3]\n",
            " [0 0 0 3 2 2 0]\n",
            " [0 0 4 5 7 0 1]\n",
            " [0 0 2 6 1 5 4]\n",
            " [0 0 1 1 5 2 2]]\n"
          ]
        },
        {
          "output_type": "stream",
          "name": "stderr",
          "text": [
            "/usr/local/lib/python3.7/dist-packages/sklearn/metrics/_classification.py:1272: UndefinedMetricWarning: Precision and F-score are ill-defined and being set to 0.0 in labels with no predicted samples. Use `zero_division` parameter to control this behavior.\n",
            "  _warn_prf(average, modifier, msg_start, len(result))\n"
          ]
        }
      ]
    },
    {
      "cell_type": "markdown",
      "metadata": {
        "id": "7PbOcmaNhWBj"
      },
      "source": [
        "## Variable 3: Balanced Life"
      ]
    },
    {
      "cell_type": "code",
      "metadata": {
        "id": "83c1EQI4kF-6"
      },
      "source": [
        "# training and test split\n",
        "from sklearn.model_selection import train_test_split\n",
        "\n",
        "# data = pd.get_dummies(data, drop_first=True)\n",
        "# We split the data up into a test set and a training set, 30 - 70 %\n",
        "# train_test_split\n",
        "# First argument: x data is all data without class column\n",
        "# Second argument:  this is the class label column\n",
        "# Random state = 0: ensures the train and test splitting is deterministic. \n",
        "\n",
        "X_train, X_test, y_train, y_test = train_test_split(data.drop(['timestamp',\n",
        "                                                               'id',\n",
        "                                                               'song1',\n",
        "                                                               'song2',\n",
        "                                                               'song3',\n",
        "                                                               'life_enjoyment', \n",
        "                                                               'resilience', \n",
        "                                                               'balanced_life',\n",
        "                                                               'emotional_flex', \n",
        "                                                               'self_actualization',\n",
        "                                                               'health_categorical',\n",
        "                                                               'total_health'],\n",
        "                                                              axis = 1),\n",
        "                                                    data['balanced_life'],\n",
        "                                                    test_size=0.3,\n",
        "                                                    random_state=0)\n",
        "\n",
        "# normalize data\n",
        "from sklearn.preprocessing import MinMaxScaler\n",
        "\n",
        "# define a new scaler: \n",
        "x_scaler = MinMaxScaler()\n",
        "\n",
        "# fit the normalization on the training set: \n",
        "x_scaler.fit(X_train)\n",
        "\n",
        "# then create new and normalized training/test sets: \n",
        "X_train_norm = x_scaler.transform(X_train)\n",
        "X_test_norm = x_scaler.transform(X_test)"
      ],
      "execution_count": null,
      "outputs": []
    },
    {
      "cell_type": "markdown",
      "metadata": {
        "id": "0uNDNzwXhYO0"
      },
      "source": [
        "### Decision Tree"
      ]
    },
    {
      "cell_type": "code",
      "metadata": {
        "colab": {
          "base_uri": "https://localhost:8080/",
          "height": 909
        },
        "id": "lEAoZEdui-nP",
        "outputId": "92db9878-8eb1-4ff3-d456-51da5802b59c"
      },
      "source": [
        "# from sklearn.tree import DecisionTreeClassifier\n",
        "from sklearn import tree\n",
        "\n",
        "model_17c = tree.DecisionTreeClassifier(max_depth=3, min_samples_leaf=1) \n",
        "# Using default parameters\n",
        "\n",
        "# Training model\n",
        "model_17c.fit(X_train, y_train)\n",
        "\n",
        "from sklearn.metrics import classification_report, confusion_matrix\n",
        "\n",
        "def evaluate_on_training_set(y_test, y_pred):  \n",
        "  # print out recall and precision\n",
        "  print(classification_report(y_test, y_pred))\n",
        "  \n",
        "  # print out confusion matrix\n",
        "  print(\"Confusion Matrix: \\n\", confusion_matrix(y_test, y_pred))\n",
        "\n",
        "\n",
        "y_pred = model_17c.predict(X_test) # Predicting labels for our test set using model\n",
        "print(y_pred)\n",
        "evaluate_on_training_set(y_test, y_pred) #evaluate our model using new function\n",
        "\n",
        "tree.plot_tree(model_17c)"
      ],
      "execution_count": null,
      "outputs": [
        {
          "output_type": "stream",
          "name": "stdout",
          "text": [
            "[4 4 4 3 4 4 1 4 4 4 2 3 4 4 4 4 3 4 4 4 4 4 4 2 2 4 3 3 3 4 4 4 3 4 3 4 1\n",
            " 4 4 4 4 4 3 4 4 4 4 3 4 4 3 3 3 4 4 5 4 4 5 4 3 1 4 4 3 4 4 3 4]\n",
            "              precision    recall  f1-score   support\n",
            "\n",
            "           1       0.00      0.00      0.00         0\n",
            "           2       0.00      0.00      0.00        12\n",
            "           3       0.31      0.31      0.31        16\n",
            "           4       0.27      0.86      0.41        14\n",
            "           5       0.00      0.00      0.00        15\n",
            "           6       0.00      0.00      0.00        12\n",
            "\n",
            "    accuracy                           0.25        69\n",
            "   macro avg       0.10      0.19      0.12        69\n",
            "weighted avg       0.13      0.25      0.15        69\n",
            "\n",
            "Confusion Matrix: \n",
            " [[ 0  0  0  0  0  0]\n",
            " [ 0  0  3  8  1  0]\n",
            " [ 2  0  5  9  0  0]\n",
            " [ 0  0  2 12  0  0]\n",
            " [ 0  1  3 11  0  0]\n",
            " [ 1  2  3  5  1  0]]\n"
          ]
        },
        {
          "output_type": "stream",
          "name": "stderr",
          "text": [
            "/usr/local/lib/python3.7/dist-packages/sklearn/metrics/_classification.py:1272: UndefinedMetricWarning: Precision and F-score are ill-defined and being set to 0.0 in labels with no predicted samples. Use `zero_division` parameter to control this behavior.\n",
            "  _warn_prf(average, modifier, msg_start, len(result))\n",
            "/usr/local/lib/python3.7/dist-packages/sklearn/metrics/_classification.py:1272: UndefinedMetricWarning: Recall and F-score are ill-defined and being set to 0.0 in labels with no true samples. Use `zero_division` parameter to control this behavior.\n",
            "  _warn_prf(average, modifier, msg_start, len(result))\n"
          ]
        },
        {
          "output_type": "execute_result",
          "data": {
            "text/plain": [
              "[Text(186.0, 190.26, 'X[4] <= 0.513\\ngini = 0.8\\nsamples = 161\\nvalue = [2, 11, 33, 30, 43, 34, 8]'),\n",
              " Text(111.60000000000001, 135.9, 'X[4] <= 0.475\\ngini = 0.711\\nsamples = 29\\nvalue = [1, 3, 9, 2, 12, 2, 0]'),\n",
              " Text(74.4, 81.53999999999999, 'X[5] <= 0.527\\ngini = 0.744\\nsamples = 22\\nvalue = [1, 3, 9, 2, 5, 2, 0]'),\n",
              " Text(37.2, 27.180000000000007, 'gini = 0.765\\nsamples = 9\\nvalue = [1, 3, 2, 2, 0, 1, 0]'),\n",
              " Text(111.60000000000001, 27.180000000000007, 'gini = 0.556\\nsamples = 13\\nvalue = [0, 0, 7, 0, 5, 1, 0]'),\n",
              " Text(148.8, 81.53999999999999, 'gini = 0.0\\nsamples = 7\\nvalue = [0, 0, 0, 0, 7, 0, 0]'),\n",
              " Text(260.40000000000003, 135.9, 'X[5] <= 0.823\\ngini = 0.801\\nsamples = 132\\nvalue = [1, 8, 24, 28, 31, 32, 8]'),\n",
              " Text(223.20000000000002, 81.53999999999999, 'X[7] <= 0.342\\ngini = 0.803\\nsamples = 128\\nvalue = [1, 8, 24, 28, 31, 28, 8]'),\n",
              " Text(186.0, 27.180000000000007, 'gini = 0.75\\nsamples = 20\\nvalue = [0, 4, 3, 8, 1, 3, 1]'),\n",
              " Text(260.40000000000003, 27.180000000000007, 'gini = 0.791\\nsamples = 108\\nvalue = [1, 4, 21, 20, 30, 25, 7]'),\n",
              " Text(297.6, 81.53999999999999, 'gini = 0.0\\nsamples = 4\\nvalue = [0, 0, 0, 0, 0, 4, 0]')]"
            ]
          },
          "metadata": {},
          "execution_count": 73
        },
        {
          "output_type": "display_data",
          "data": {
            "image/png": "[encoded data removed]",
            "text/plain": [
              "<Figure size 432x288 with 1 Axes>"
            ]
          },
          "metadata": {
            "needs_background": "light"
          }
        }
      ]
    },
    {
      "cell_type": "markdown",
      "metadata": {
        "id": "BYolkp1JhaWm"
      },
      "source": [
        "### Ensemble Classifier"
      ]
    },
    {
      "cell_type": "code",
      "metadata": {
        "colab": {
          "base_uri": "https://localhost:8080/"
        },
        "id": "19Jl5zGGjwkQ",
        "outputId": "d2a956ba-05cd-4cec-bd23-80a7ca9b1a17"
      },
      "source": [
        "from sklearn.ensemble import AdaBoostClassifier\n",
        "model_18c = AdaBoostClassifier(n_estimators=1000, learning_rate=0.20) # Define the model with parameters\n",
        "model_18c.fit(X_train_norm, y_train) # Training the model\n",
        "\n",
        "y_pred = model_18c.predict(X_test_norm) # Predicting labels for our test set using trained model\n",
        "evaluate_on_training_set(y_test, y_pred) #evaluate our model using newly defined function"
      ],
      "execution_count": null,
      "outputs": [
        {
          "output_type": "stream",
          "name": "stdout",
          "text": [
            "              precision    recall  f1-score   support\n",
            "\n",
            "           1       0.00      0.00      0.00         0\n",
            "           2       0.14      0.17      0.15        12\n",
            "           3       0.33      0.31      0.32        16\n",
            "           4       0.28      0.50      0.36        14\n",
            "           5       0.25      0.20      0.22        15\n",
            "           6       0.00      0.00      0.00        12\n",
            "\n",
            "    accuracy                           0.25        69\n",
            "   macro avg       0.17      0.20      0.18        69\n",
            "weighted avg       0.21      0.25      0.22        69\n",
            "\n",
            "Confusion Matrix: \n",
            " [[0 0 0 0 0 0]\n",
            " [0 2 2 5 3 0]\n",
            " [2 3 5 4 2 0]\n",
            " [0 2 3 7 2 0]\n",
            " [0 4 3 5 3 0]\n",
            " [1 3 2 4 2 0]]\n"
          ]
        },
        {
          "output_type": "stream",
          "name": "stderr",
          "text": [
            "/usr/local/lib/python3.7/dist-packages/sklearn/metrics/_classification.py:1272: UndefinedMetricWarning: Precision and F-score are ill-defined and being set to 0.0 in labels with no predicted samples. Use `zero_division` parameter to control this behavior.\n",
            "  _warn_prf(average, modifier, msg_start, len(result))\n",
            "/usr/local/lib/python3.7/dist-packages/sklearn/metrics/_classification.py:1272: UndefinedMetricWarning: Recall and F-score are ill-defined and being set to 0.0 in labels with no true samples. Use `zero_division` parameter to control this behavior.\n",
            "  _warn_prf(average, modifier, msg_start, len(result))\n"
          ]
        }
      ]
    },
    {
      "cell_type": "markdown",
      "metadata": {
        "id": "AkZlzjQUhcOu"
      },
      "source": [
        "## Variable 4: Emotional Flexibility"
      ]
    },
    {
      "cell_type": "code",
      "metadata": {
        "id": "AeEd_o34kHJv"
      },
      "source": [
        "# training and test split\n",
        "from sklearn.model_selection import train_test_split\n",
        "\n",
        "# data = pd.get_dummies(data, drop_first=True)\n",
        "# We split the data up into a test set and a training set, 30 - 70 %\n",
        "# train_test_split\n",
        "# First argument: x data is all data without class column\n",
        "# Second argument:  this is the class label column\n",
        "# Random state = 0: ensures the train and test splitting is deterministic. \n",
        "\n",
        "X_train, X_test, y_train, y_test = train_test_split(data.drop(['timestamp',\n",
        "                                                               'id',\n",
        "                                                               'song1',\n",
        "                                                               'song2',\n",
        "                                                               'song3',\n",
        "                                                               'life_enjoyment', \n",
        "                                                               'resilience', \n",
        "                                                               'balanced_life',\n",
        "                                                               'emotional_flex', \n",
        "                                                               'self_actualization',\n",
        "                                                               'health_categorical',\n",
        "                                                               'total_health'],\n",
        "                                                              axis = 1),\n",
        "                                                    data['emotional_flex'],\n",
        "                                                    test_size=0.3,\n",
        "                                                    random_state=0)\n",
        "\n",
        "# normalize data\n",
        "from sklearn.preprocessing import MinMaxScaler\n",
        "\n",
        "# define a new scaler: \n",
        "x_scaler = MinMaxScaler()\n",
        "\n",
        "# fit the normalization on the training set: \n",
        "x_scaler.fit(X_train)\n",
        "\n",
        "# then create new and normalized training/test sets: \n",
        "X_train_norm = x_scaler.transform(X_train)\n",
        "X_test_norm = x_scaler.transform(X_test)"
      ],
      "execution_count": null,
      "outputs": []
    },
    {
      "cell_type": "markdown",
      "metadata": {
        "id": "j1dXKA-4hd0Y"
      },
      "source": [
        "### Decision Tree"
      ]
    },
    {
      "cell_type": "code",
      "metadata": {
        "colab": {
          "base_uri": "https://localhost:8080/",
          "height": 978
        },
        "id": "jOugX4MOjBU_",
        "outputId": "bb778547-6934-49e1-a346-265e715a3c8f"
      },
      "source": [
        "# from sklearn.tree import DecisionTreeClassifier\n",
        "from sklearn import tree\n",
        "\n",
        "model_19c = tree.DecisionTreeClassifier(max_depth=3, min_samples_leaf=1) \n",
        "# Using default parameters\n",
        "\n",
        "# Training model\n",
        "model_19c.fit(X_train, y_train)\n",
        "\n",
        "from sklearn.metrics import classification_report, confusion_matrix\n",
        "\n",
        "def evaluate_on_training_set(y_test, y_pred):  \n",
        "  # print out recall and precision\n",
        "  print(classification_report(y_test, y_pred))\n",
        "  \n",
        "  # print out confusion matrix\n",
        "  print(\"Confusion Matrix: \\n\", confusion_matrix(y_test, y_pred))\n",
        "\n",
        "\n",
        "y_pred = model_19c.predict(X_test) # Predicting labels for our test set using model\n",
        "print(y_pred)\n",
        "evaluate_on_training_set(y_test, y_pred) #evaluate our model using new function\n",
        "\n",
        "tree.plot_tree(model_19c)"
      ],
      "execution_count": null,
      "outputs": [
        {
          "output_type": "stream",
          "name": "stdout",
          "text": [
            "[4 5 4 5 4 4 5 5 4 5 4 4 4 3 5 5 4 4 5 4 5 4 4 4 5 4 4 5 4 4 5 4 5 4 4 5 5\n",
            " 5 5 4 4 5 5 4 5 5 5 5 5 5 4 4 5 5 4 4 5 4 5 5 4 5 5 5 3 5 5 4 4]\n",
            "              precision    recall  f1-score   support\n",
            "\n",
            "           0       0.00      0.00      0.00         4\n",
            "           1       0.00      0.00      0.00         5\n",
            "           2       0.00      0.00      0.00        12\n",
            "           3       0.50      0.08      0.14        12\n",
            "           4       0.16      0.33      0.21        15\n",
            "           5       0.20      0.64      0.30        11\n",
            "           6       0.00      0.00      0.00        10\n",
            "\n",
            "    accuracy                           0.19        69\n",
            "   macro avg       0.12      0.15      0.09        69\n",
            "weighted avg       0.15      0.19      0.12        69\n",
            "\n",
            "Confusion Matrix: \n",
            " [[ 0  0  0  0  2  2  0]\n",
            " [ 0  0  0  1  2  2  0]\n",
            " [ 0  0  0  0  9  3  0]\n",
            " [ 0  0  0  1  7  4  0]\n",
            " [ 0  0  0  0  5 10  0]\n",
            " [ 0  0  0  0  4  7  0]\n",
            " [ 0  0  0  0  3  7  0]]\n"
          ]
        },
        {
          "output_type": "stream",
          "name": "stderr",
          "text": [
            "/usr/local/lib/python3.7/dist-packages/sklearn/metrics/_classification.py:1272: UndefinedMetricWarning: Precision and F-score are ill-defined and being set to 0.0 in labels with no predicted samples. Use `zero_division` parameter to control this behavior.\n",
            "  _warn_prf(average, modifier, msg_start, len(result))\n"
          ]
        },
        {
          "output_type": "execute_result",
          "data": {
            "text/plain": [
              "[Text(167.4, 190.26, 'X[11] <= 60.167\\ngini = 0.793\\nsamples = 161\\nvalue = [5, 7, 22, 28, 41, 47, 11]'),\n",
              " Text(83.7, 135.9, 'X[4] <= 0.536\\ngini = 0.739\\nsamples = 55\\nvalue = [1, 1, 7, 10, 23, 10, 3]'),\n",
              " Text(41.85, 81.53999999999999, 'X[5] <= 0.526\\ngini = 0.773\\nsamples = 15\\nvalue = [1, 1, 4, 0, 4, 4, 1]'),\n",
              " Text(20.925, 27.180000000000007, 'gini = 0.5\\nsamples = 6\\nvalue = [0, 1, 1, 0, 0, 4, 0]'),\n",
              " Text(62.775000000000006, 27.180000000000007, 'gini = 0.667\\nsamples = 9\\nvalue = [1, 0, 3, 0, 4, 0, 1]'),\n",
              " Text(125.55000000000001, 81.53999999999999, 'X[4] <= 0.551\\ngini = 0.681\\nsamples = 40\\nvalue = [0, 0, 3, 10, 19, 6, 2]'),\n",
              " Text(104.625, 27.180000000000007, 'gini = 0.0\\nsamples = 2\\nvalue = [0, 0, 0, 2, 0, 0, 0]'),\n",
              " Text(146.475, 27.180000000000007, 'gini = 0.672\\nsamples = 38\\nvalue = [0, 0, 3, 8, 19, 6, 2]'),\n",
              " Text(251.10000000000002, 135.9, 'X[5] <= 0.63\\ngini = 0.79\\nsamples = 106\\nvalue = [4, 6, 15, 18, 18, 37, 8]'),\n",
              " Text(209.25, 81.53999999999999, 'X[11] <= 78.75\\ngini = 0.68\\nsamples = 43\\nvalue = [0, 3, 6, 7, 2, 22, 3]'),\n",
              " Text(188.32500000000002, 27.180000000000007, 'gini = 0.638\\nsamples = 39\\nvalue = [0, 3, 6, 3, 2, 22, 3]'),\n",
              " Text(230.175, 27.180000000000007, 'gini = 0.0\\nsamples = 4\\nvalue = [0, 0, 0, 4, 0, 0, 0]'),\n",
              " Text(292.95, 81.53999999999999, 'X[10] <= 0.092\\ngini = 0.815\\nsamples = 63\\nvalue = [4, 3, 9, 11, 16, 15, 5]'),\n",
              " Text(272.02500000000003, 27.180000000000007, 'gini = 0.767\\nsamples = 23\\nvalue = [1, 2, 1, 4, 9, 2, 4]'),\n",
              " Text(313.875, 27.180000000000007, 'gini = 0.786\\nsamples = 40\\nvalue = [3, 1, 8, 7, 7, 13, 1]')]"
            ]
          },
          "metadata": {},
          "execution_count": 76
        },
        {
          "output_type": "display_data",
          "data": {
            "image/png": "[encoded data removed]",
            "text/plain": [
              "<Figure size 432x288 with 1 Axes>"
            ]
          },
          "metadata": {
            "needs_background": "light"
          }
        }
      ]
    },
    {
      "cell_type": "markdown",
      "metadata": {
        "id": "rldLaZMZhgNz"
      },
      "source": [
        "### Ensemble Classifier"
      ]
    },
    {
      "cell_type": "code",
      "metadata": {
        "colab": {
          "base_uri": "https://localhost:8080/"
        },
        "id": "UxA7f0Wvjyzy",
        "outputId": "daacd7e0-e138-4894-bc4b-972acfc53118"
      },
      "source": [
        "from sklearn.ensemble import AdaBoostClassifier\n",
        "model_20c = AdaBoostClassifier(n_estimators=1000, learning_rate=0.20) # Define the model with parameters\n",
        "model_20c.fit(X_train_norm, y_train) # Training the model\n",
        "\n",
        "y_pred = model_20c.predict(X_test_norm) # Predicting labels for our test set using trained model\n",
        "evaluate_on_training_set(y_test, y_pred) #evaluate our model using newly defined function"
      ],
      "execution_count": null,
      "outputs": [
        {
          "output_type": "stream",
          "name": "stdout",
          "text": [
            "              precision    recall  f1-score   support\n",
            "\n",
            "           0       0.00      0.00      0.00         4\n",
            "           1       0.00      0.00      0.00         5\n",
            "           2       0.08      0.08      0.08        12\n",
            "           3       0.36      0.42      0.38        12\n",
            "           4       0.21      0.20      0.21        15\n",
            "           5       0.32      0.64      0.42        11\n",
            "           6       0.33      0.20      0.25        10\n",
            "\n",
            "    accuracy                           0.26        69\n",
            "   macro avg       0.19      0.22      0.19        69\n",
            "weighted avg       0.22      0.26      0.23        69\n",
            "\n",
            "Confusion Matrix: \n",
            " [[0 0 1 1 1 0 1]\n",
            " [0 0 1 1 2 1 0]\n",
            " [0 0 1 4 5 0 2]\n",
            " [0 0 0 5 2 4 1]\n",
            " [1 0 4 1 3 6 0]\n",
            " [0 0 2 2 0 7 0]\n",
            " [0 0 3 0 1 4 2]]\n"
          ]
        },
        {
          "output_type": "stream",
          "name": "stderr",
          "text": [
            "/usr/local/lib/python3.7/dist-packages/sklearn/metrics/_classification.py:1272: UndefinedMetricWarning: Precision and F-score are ill-defined and being set to 0.0 in labels with no predicted samples. Use `zero_division` parameter to control this behavior.\n",
            "  _warn_prf(average, modifier, msg_start, len(result))\n"
          ]
        }
      ]
    },
    {
      "cell_type": "markdown",
      "metadata": {
        "id": "4Q077u6uhhr-"
      },
      "source": [
        "## Variable 5: Self-actualization"
      ]
    },
    {
      "cell_type": "code",
      "metadata": {
        "id": "a8TlZmBTkIG6"
      },
      "source": [
        "# training and test split\n",
        "from sklearn.model_selection import train_test_split\n",
        "\n",
        "# data = pd.get_dummies(data, drop_first=True)\n",
        "# We split the data up into a test set and a training set, 30 - 70 %\n",
        "# train_test_split\n",
        "# First argument: x data is all data without class column\n",
        "# Second argument:  this is the class label column\n",
        "# Random state = 0: ensures the train and test splitting is deterministic. \n",
        "\n",
        "X_train, X_test, y_train, y_test = train_test_split(data.drop(['timestamp',\n",
        "                                                               'id',\n",
        "                                                               'song1',\n",
        "                                                               'song2',\n",
        "                                                               'song3',\n",
        "                                                               'life_enjoyment', \n",
        "                                                               'resilience', \n",
        "                                                               'balanced_life',\n",
        "                                                               'emotional_flex', \n",
        "                                                               'self_actualization',\n",
        "                                                               'health_categorical',\n",
        "                                                               'total_health'],\n",
        "                                                              axis = 1),\n",
        "                                                    data['self_actualization'],\n",
        "                                                    test_size=0.3,\n",
        "                                                    random_state=0)\n",
        "\n",
        "# normalize data\n",
        "from sklearn.preprocessing import MinMaxScaler\n",
        "\n",
        "# define a new scaler: \n",
        "x_scaler = MinMaxScaler()\n",
        "\n",
        "# fit the normalization on the training set: \n",
        "x_scaler.fit(X_train)\n",
        "\n",
        "# then create new and normalized training/test sets: \n",
        "X_train_norm = x_scaler.transform(X_train)\n",
        "X_test_norm = x_scaler.transform(X_test)"
      ],
      "execution_count": null,
      "outputs": []
    },
    {
      "cell_type": "markdown",
      "metadata": {
        "id": "NmwwUVqUhjp6"
      },
      "source": [
        "### Decision Tree"
      ]
    },
    {
      "cell_type": "code",
      "metadata": {
        "colab": {
          "base_uri": "https://localhost:8080/",
          "height": 944
        },
        "id": "QYBnzvECjDxu",
        "outputId": "b382927c-6973-4289-dc48-2a27452145a7"
      },
      "source": [
        "# from sklearn.tree import DecisionTreeClassifier\n",
        "from sklearn import tree\n",
        "\n",
        "model_21c = tree.DecisionTreeClassifier(max_depth=3, min_samples_leaf=1) \n",
        "# Using default parameters\n",
        "\n",
        "# Training model\n",
        "model_21c.fit(X_train, y_train)\n",
        "\n",
        "from sklearn.metrics import classification_report, confusion_matrix\n",
        "\n",
        "def evaluate_on_training_set(y_test, y_pred):  \n",
        "  # print out recall and precision\n",
        "  print(classification_report(y_test, y_pred))\n",
        "  \n",
        "  # print out confusion matrix\n",
        "  print(\"Confusion Matrix: \\n\", confusion_matrix(y_test, y_pred))\n",
        "\n",
        "\n",
        "y_pred = model_21c.predict(X_test) # Predicting labels for our test set using model\n",
        "print(y_pred)\n",
        "evaluate_on_training_set(y_test, y_pred) #evaluate our model using new function\n",
        "\n",
        "tree.plot_tree(model_21c)"
      ],
      "execution_count": null,
      "outputs": [
        {
          "output_type": "stream",
          "name": "stdout",
          "text": [
            "[5 5 5 5 5 5 2 5 5 5 5 5 5 5 5 3 5 5 4 5 5 5 5 5 4 5 5 5 5 5 5 5 5 5 2 5 2\n",
            " 5 5 5 5 5 5 5 5 5 4 5 5 5 5 2 5 5 5 5 5 5 5 5 5 2 5 5 5 5 5 5 5]\n",
            "              precision    recall  f1-score   support\n",
            "\n",
            "           0       0.00      0.00      0.00         1\n",
            "           1       0.00      0.00      0.00         4\n",
            "           2       0.00      0.00      0.00         3\n",
            "           3       0.00      0.00      0.00        10\n",
            "           4       0.33      0.06      0.10        17\n",
            "           5       0.27      0.89      0.41        18\n",
            "           6       0.00      0.00      0.00        16\n",
            "\n",
            "    accuracy                           0.25        69\n",
            "   macro avg       0.09      0.14      0.07        69\n",
            "weighted avg       0.15      0.25      0.13        69\n",
            "\n",
            "Confusion Matrix: \n",
            " [[ 0  0  0  0  0  1  0]\n",
            " [ 0  0  0  0  0  4  0]\n",
            " [ 0  0  0  0  0  3  0]\n",
            " [ 0  0  1  0  0  9  0]\n",
            " [ 0  0  1  0  1 15  0]\n",
            " [ 0  0  1  0  1 16  0]\n",
            " [ 0  0  2  1  1 12  0]]\n"
          ]
        },
        {
          "output_type": "stream",
          "name": "stderr",
          "text": [
            "/usr/local/lib/python3.7/dist-packages/sklearn/metrics/_classification.py:1272: UndefinedMetricWarning: Precision and F-score are ill-defined and being set to 0.0 in labels with no predicted samples. Use `zero_division` parameter to control this behavior.\n",
            "  _warn_prf(average, modifier, msg_start, len(result))\n"
          ]
        },
        {
          "output_type": "execute_result",
          "data": {
            "text/plain": [
              "[Text(141.64615384615385, 190.26, 'X[1] <= 0.5\\ngini = 0.765\\nsamples = 161\\nvalue = [4, 12, 20, 42, 54, 29]'),\n",
              " Text(51.50769230769231, 135.9, 'X[5] <= 0.641\\ngini = 0.531\\nsamples = 8\\nvalue = [0, 0, 5, 0, 1, 2]'),\n",
              " Text(25.753846153846155, 81.53999999999999, 'gini = 0.0\\nsamples = 5\\nvalue = [0, 0, 5, 0, 0, 0]'),\n",
              " Text(77.26153846153846, 81.53999999999999, 'X[10] <= 0.076\\ngini = 0.444\\nsamples = 3\\nvalue = [0, 0, 0, 0, 1, 2]'),\n",
              " Text(51.50769230769231, 27.180000000000007, 'gini = 0.0\\nsamples = 1\\nvalue = [0, 0, 0, 0, 1, 0]'),\n",
              " Text(103.01538461538462, 27.180000000000007, 'gini = 0.0\\nsamples = 2\\nvalue = [0, 0, 0, 0, 0, 2]'),\n",
              " Text(231.7846153846154, 135.9, 'X[11] <= 80.333\\ngini = 0.757\\nsamples = 153\\nvalue = [4, 12, 15, 42, 53, 27]'),\n",
              " Text(180.27692307692308, 81.53999999999999, 'X[7] <= 0.21\\ngini = 0.753\\nsamples = 145\\nvalue = [4, 10, 15, 37, 53, 26]'),\n",
              " Text(154.52307692307693, 27.180000000000007, 'gini = 0.688\\nsamples = 8\\nvalue = [0, 4, 1, 1, 1, 1]'),\n",
              " Text(206.03076923076924, 27.180000000000007, 'gini = 0.74\\nsamples = 137\\nvalue = [4, 6, 14, 36, 52, 25]'),\n",
              " Text(283.2923076923077, 81.53999999999999, 'X[10] <= 0.097\\ngini = 0.531\\nsamples = 8\\nvalue = [0, 2, 0, 5, 0, 1]'),\n",
              " Text(257.53846153846155, 27.180000000000007, 'gini = 0.0\\nsamples = 2\\nvalue = [0, 2, 0, 0, 0, 0]'),\n",
              " Text(309.04615384615386, 27.180000000000007, 'gini = 0.278\\nsamples = 6\\nvalue = [0, 0, 0, 5, 0, 1]')]"
            ]
          },
          "metadata": {},
          "execution_count": 79
        },
        {
          "output_type": "display_data",
          "data": {
            "image/png": "[encoded data removed]",
            "text/plain": [
              "<Figure size 432x288 with 1 Axes>"
            ]
          },
          "metadata": {
            "needs_background": "light"
          }
        }
      ]
    },
    {
      "cell_type": "markdown",
      "metadata": {
        "id": "nHAwQP9ohljS"
      },
      "source": [
        "### Ensemble Classifier"
      ]
    },
    {
      "cell_type": "code",
      "metadata": {
        "colab": {
          "base_uri": "https://localhost:8080/"
        },
        "id": "LaVdlUIjj1oT",
        "outputId": "3d96f714-9e70-463a-cb56-177ed9a75200"
      },
      "source": [
        "from sklearn.ensemble import AdaBoostClassifier\n",
        "model_22c = AdaBoostClassifier(n_estimators=1000, learning_rate=0.31) # Define the model with parameters\n",
        "model_22c.fit(X_train_norm, y_train) # Training the model\n",
        "\n",
        "y_pred = model_22c.predict(X_test_norm) # Predicting labels for our test set using trained model\n",
        "evaluate_on_training_set(y_test, y_pred) #evaluate our model using newly defined function"
      ],
      "execution_count": null,
      "outputs": [
        {
          "output_type": "stream",
          "name": "stdout",
          "text": [
            "              precision    recall  f1-score   support\n",
            "\n",
            "           0       0.00      0.00      0.00         1\n",
            "           1       1.00      0.25      0.40         4\n",
            "           2       0.00      0.00      0.00         3\n",
            "           3       0.00      0.00      0.00        10\n",
            "           4       0.29      0.41      0.34        17\n",
            "           5       0.28      0.39      0.33        18\n",
            "           6       0.13      0.12      0.13        16\n",
            "\n",
            "    accuracy                           0.25        69\n",
            "   macro avg       0.24      0.17      0.17        69\n",
            "weighted avg       0.23      0.25      0.22        69\n",
            "\n",
            "Confusion Matrix: \n",
            " [[0 0 0 0 0 0 1]\n",
            " [0 1 0 0 1 2 0]\n",
            " [0 0 0 1 2 0 0]\n",
            " [0 0 0 0 2 7 1]\n",
            " [0 0 1 0 7 4 5]\n",
            " [0 0 0 0 5 7 6]\n",
            " [0 0 2 0 7 5 2]]\n"
          ]
        },
        {
          "output_type": "stream",
          "name": "stderr",
          "text": [
            "/usr/local/lib/python3.7/dist-packages/sklearn/metrics/_classification.py:1272: UndefinedMetricWarning: Precision and F-score are ill-defined and being set to 0.0 in labels with no predicted samples. Use `zero_division` parameter to control this behavior.\n",
            "  _warn_prf(average, modifier, msg_start, len(result))\n"
          ]
        }
      ]
    }
  ]
}